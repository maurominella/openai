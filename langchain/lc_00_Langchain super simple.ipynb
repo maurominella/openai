{
 "cells": [
  {
   "cell_type": "code",
   "execution_count": 1,
   "id": "2d28f52b-84c4-49b2-b8f3-ee9df6ce8c05",
   "metadata": {},
   "outputs": [],
   "source": [
    "import os\n",
    "from dotenv import load_dotenv\n",
    "# load AZURE_OPENAI_ENDPOINT, AZURE_OPENAI_API_KEY, OPENAI_API_VERSION and AZURE_OPENAI_API_TYPE\n",
    "# plus COMPLETION4_DEPLOYMENT, to be assigned to the MODEL string\n",
    "\n",
    "load_dotenv(\"./../credentials_my.env\")\n",
    "MODEL = 'gpt432-0613-32k'\n",
    "\n",
    "from langchain.chat_models import AzureChatOpenAI\n",
    "llm = AzureChatOpenAI(deployment_name=MODEL, temperature=0, max_tokens=1000)"
   ]
  },
  {
   "cell_type": "code",
   "execution_count": 3,
   "id": "0d4dc1ee-dffb-41cf-95b9-c9aa885ebd7c",
   "metadata": {},
   "outputs": [
    {
     "name": "stdout",
     "output_type": "stream",
     "text": [
      "Answer the following question: \"What is CLP?\". Give your response in Italian\n",
      "CPU times: user 23.9 ms, sys: 587 µs, total: 24.5 ms\n",
      "Wall time: 2.46 s\n"
     ]
    },
    {
     "data": {
      "text/plain": [
       "{'question': 'What is CLP?',\n",
       " 'language': 'Italian',\n",
       " 'text': \"CLP è l'acronimo di Chilean Peso, la valuta del Cile.\"}"
      ]
     },
     "execution_count": 3,
     "metadata": {},
     "output_type": "execute_result"
    }
   ],
   "source": [
    "%%time\n",
    "\n",
    "# Now we create a simple prompt template\n",
    "QUESTION = \"What is CLP?\" # What are the approaches to Task Decomposition?\n",
    "language = \"Italian\"\n",
    "\n",
    "from langchain.prompts import PromptTemplate\n",
    "prompt = PromptTemplate(\n",
    "    input_variables=[\"question\", \"language\"],\n",
    "    template='Answer the following question: \"{question}\". Give your response in {language}',\n",
    ")\n",
    "\n",
    "# Let's print the question using Langchain prompt\n",
    "print(prompt.format(question=QUESTION, language=language))\n",
    "\n",
    "# And finally we create our first generic chain\n",
    "from langchain.chains import LLMChain\n",
    "chain_chat = LLMChain(llm=llm, prompt=prompt)\n",
    "chain_chat({\"question\": QUESTION, \"language\": language})"
   ]
  }
 ],
 "metadata": {
  "kernelspec": {
   "display_name": "openaivbd_20231215",
   "language": "python",
   "name": "openaivbd_20231215"
  },
  "language_info": {
   "codemirror_mode": {
    "name": "ipython",
    "version": 3
   },
   "file_extension": ".py",
   "mimetype": "text/x-python",
   "name": "python",
   "nbconvert_exporter": "python",
   "pygments_lexer": "ipython3",
   "version": "3.10.13"
  }
 },
 "nbformat": 4,
 "nbformat_minor": 5
}
