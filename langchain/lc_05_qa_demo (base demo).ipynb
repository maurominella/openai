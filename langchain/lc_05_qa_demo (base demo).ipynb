{
 "cells": [
  {
   "cell_type": "markdown",
   "id": "c5322168-235b-4a96-840e-591f5d3182ad",
   "metadata": {},
   "source": [
    "# [Open AI Langchain QA over Documents](https://python.langchain.com/docs/use_cases/question_answering/)\n",
    "\n",
    "## The credentials.env file should contain at least the following:\n",
    "```\n",
    "AZURE_OPENAI_ENDPOINT     = \"https://abcabcabcabc.openai.azure.com/\"\n",
    "AZURE_OPENAI_API_KEY      = \"a92800000000000000a\"\n",
    "AZURE_OPENAI_API_VERSION  = \"2023-05-15\"\n",
    "OPENAI_API_TYPE           = \"azure\"\n",
    "```\n",
    "\n",
    "## Save the following lines into **conda_langchain.yml**:\n",
    "```\n",
    "name: langchain\n",
    "\n",
    "dependencies:\n",
    "  - python=3.10.12\n",
    "  - pip\n",
    "  - pip:\n",
    "    - langchain==0.0.334\n",
    "    - openai==1.2.3\n",
    "    - jupyter==1.0.0\n",
    "    - python-dotenv==1.0.0\n",
    "    - chromadb==0.4.17\n",
    "    - tiktoken==0.5.1\n",
    "    - azure-cosmos==4.5.1\n",
    "```\n",
    "\n",
    "### , then run:\n",
    "```\n",
    "conda env create -f conda_langchain.yml\n",
    "conda activate langchain\n",
    "jupyter kernelspec uninstall langchain\n",
    "python -m ipykernel install --name langchain --user\n",
    "jupyter kernelspec list\n",
    "jupyter notebook\n",
    "```\n",
    "\n",
    "### notes for chromadb installation:\n",
    "If you get an error please follow [this article](https://stackoverflow.com/questions/64261546/how-to-solve-error-microsoft-visual-c-14-0-or-greater-is-required-when-inst), or download [vs_buildtools.exe](https://visualstudio.microsoft.com/visual-cpp-build-tools/) and then run \n",
    "```\n",
    "vs_buildtools.exe --norestart --passive --downloadThenInstall --includeRecommended --add Microsoft.VisualStudio.Workload.NativeDesktop --add Microsoft.VisualStudio.Workload.VCTools --add Microsoft.VisualStudio.Workload.MSBuildTools\n",
    "```"
   ]
  },
  {
   "cell_type": "code",
   "execution_count": 1,
   "id": "35bd569d-20fa-4943-a699-e21224bba469",
   "metadata": {},
   "outputs": [],
   "source": [
    "import os\n",
    "from dotenv import load_dotenv\n",
    "# load AZURE_OPENAI_ENDPOINT, AZURE_OPENAI_API_KEY, OPENAI_API_VERSION and AZURE_OPENAI_API_TYPE\n",
    "# plus COMPLETION4_DEPLOYMENT, to be assigned to the MODEL string\n",
    "# plus BING_SUBSCRIPTION_KEY and BING_SEARCH_URL\n",
    "\n",
    "load_dotenv(\"./../credentials (my).env\")\n",
    "MODEL = os.environ[\"COMPLETION4_DEPLOYMENT\"] \n",
    "\n",
    "from langchain.chat_models import AzureChatOpenAI\n",
    "llm = AzureChatOpenAI(deployment_name=MODEL, temperature=0, max_tokens=1000)"
   ]
  },
  {
   "cell_type": "code",
   "execution_count": 2,
   "id": "496b25c6-89ec-4b5f-a18a-6d6e161d0b94",
   "metadata": {},
   "outputs": [
    {
     "data": {
      "text/plain": [
       "[Document(page_content='\\n\\n\\n\\n\\n\\nLLM Powered Autonomous Agents | Lil\\'Log\\n\\n\\n\\n\\n\\n\\n\\n\\n\\n\\n\\n\\n\\n\\n\\n\\n\\n\\n\\n\\n\\n\\n\\n\\n\\n\\n\\n\\n\\n\\n\\n\\n\\n\\n\\n\\n\\n\\n\\nLil\\'Log\\n\\n\\n\\n\\n\\n\\n\\n\\n\\n\\n\\n\\n\\n\\n\\n\\n\\n\\n\\n\\n\\n\\nPosts\\n\\n\\n\\n\\nArchive\\n\\n\\n\\n\\nSearch\\n\\n\\n\\n\\nTags\\n\\n\\n\\n\\nFAQ\\n\\n\\n\\n\\nemojisearch.app\\n\\n\\n\\n\\n\\n\\n\\n\\n\\n      LLM Powered Autonomous Agents\\n    \\nDate: June 23, 2023  |  Estimated Reading Time: 31 min  |  Author: Lilian Weng\\n\\n\\n \\n\\n\\nTable of Contents\\n\\n\\n\\nAgent System Overview\\n\\nComponent One: Planning\\n\\nTask Decomposition\\n\\nSelf-Reflection\\n\\n\\nComponent Two: Memory\\n\\nTypes of Memory\\n\\nMaximum Inner Product Search (MIPS)\\n\\n\\nComponent Three: Tool Use\\n\\nCase Studies\\n\\nScientific Discovery Agent\\n\\nGenerative Agents Simulation\\n\\nProof-of-Concept Examples\\n\\n\\nChallenges\\n\\nCitation\\n\\nReferences\\n\\n\\n\\n\\n\\nBuilding agents with LLM (large language model) as its core controller is a cool concept. Several proof-of-concepts demos, such as AutoGPT, GPT-Engineer and BabyAGI, serve as inspiring examples. The potentiality of LLM extends beyond generating well-written copies, stories, essays and programs; it can be framed as a powerful general problem solver.\\nAgent System Overview#\\nIn a LLM-powered autonomous agent system, LLM functions as the agent’s brain, complemented by several key components:\\n\\nPlanning\\n\\nSubgoal and decomposition: The agent breaks down large tasks into smaller, manageable subgoals, enabling efficient handling of complex tasks.\\nReflection and refinement: The agent can do self-criticism and self-reflection over past actions, learn from mistakes and refine them for future steps, thereby improving the quality of final results.\\n\\n\\nMemory\\n\\nShort-term memory: I would consider all the in-context learning (See Prompt Engineering) as utilizing short-term memory of the model to learn.\\nLong-term memory: This provides the agent with the capability to retain and recall (infinite) information over extended periods, often by leveraging an external vector store and fast retrieval.\\n\\n\\nTool use\\n\\nThe agent learns to call external APIs for extra information that is missing from the model weights (often hard to change after pre-training), including current information, code execution capability, access to proprietary information sources and more.\\n\\n\\n\\n\\nFig. 1. Overview of a LLM-powered autonomous agent system.\\nComponent One: Planning#\\nA complicated task usually involves many steps. An agent needs to know what they are and plan ahead.\\nTask Decomposition#\\nChain of thought (CoT; Wei et al. 2022) has become a standard prompting technique for enhancing model performance on complex tasks. The model is instructed to “think step by step” to utilize more test-time computation to decompose hard tasks into smaller and simpler steps. CoT transforms big tasks into multiple manageable tasks and shed lights into an interpretation of the model’s thinking process.\\nTree of Thoughts (Yao et al. 2023) extends CoT by exploring multiple reasoning possibilities at each step. It first decomposes the problem into multiple thought steps and generates multiple thoughts per step, creating a tree structure. The search process can be BFS (breadth-first search) or DFS (depth-first search) with each state evaluated by a classifier (via a prompt) or majority vote.\\nTask decomposition can be done (1) by LLM with simple prompting like \"Steps for XYZ.\\\\n1.\", \"What are the subgoals for achieving XYZ?\", (2) by using task-specific instructions; e.g. \"Write a story outline.\" for writing a novel, or (3) with human inputs.\\nAnother quite distinct approach, LLM+P (Liu et al. 2023), involves relying on an external classical planner to do long-horizon planning. This approach utilizes the Planning Domain Definition Language (PDDL) as an intermediate interface to describe the planning problem. In this process, LLM (1) translates the problem into “Problem PDDL”, then (2) requests a classical planner to generate a PDDL plan based on an existing “Domain PDDL”, and finally (3) translates the PDDL plan back into natural language. Essentially, the planning step is outsourced to an external tool, assuming the availability of domain-specific PDDL and a suitable planner which is common in certain robotic setups but not in many other domains.\\nSelf-Reflection#\\nSelf-reflection is a vital aspect that allows autonomous agents to improve iteratively by refining past action decisions and correcting previous mistakes. It plays a crucial role in real-world tasks where trial and error are inevitable.\\nReAct (Yao et al. 2023) integrates reasoning and acting within LLM by extending the action space to be a combination of task-specific discrete actions and the language space. The former enables LLM to interact with the environment (e.g. use Wikipedia search API), while the latter prompting LLM to generate reasoning traces in natural language.\\nThe ReAct prompt template incorporates explicit steps for LLM to think, roughly formatted as:\\nThought: ...\\nAction: ...\\nObservation: ...\\n... (Repeated many times)\\n\\nFig. 2.  Examples of reasoning trajectories for knowledge-intensive tasks (e.g. HotpotQA, FEVER) and decision-making tasks (e.g. AlfWorld Env, WebShop). (Image source: Yao et al. 2023).\\nIn both experiments on knowledge-intensive tasks and decision-making tasks, ReAct works better than the Act-only baseline where Thought: … step is removed.\\nReflexion (Shinn & Labash 2023) is a framework to equips agents with dynamic memory and self-reflection capabilities to improve reasoning skills. Reflexion has a standard RL setup, in which the reward model provides a simple binary reward and the action space follows the setup in ReAct where the task-specific action space is augmented with language to enable complex reasoning steps. After each action $a_t$, the agent computes a heuristic $h_t$ and optionally may decide to reset the environment to start a new trial depending on the self-reflection results.\\n\\nFig. 3. Illustration of the Reflexion framework. (Image source: Shinn & Labash, 2023)\\nThe heuristic function determines when the trajectory is inefficient or contains hallucination and should be stopped. Inefficient planning refers to trajectories that take too long without success. Hallucination is defined as encountering a sequence of consecutive identical actions that lead to the same observation in the environment.\\nSelf-reflection is created by showing two-shot examples to LLM and each example is a pair of (failed trajectory, ideal reflection for guiding future changes in the plan). Then reflections are added into the agent’s working memory, up to three, to be used as context for querying LLM.\\n\\nFig. 4. Experiments on AlfWorld Env and HotpotQA. Hallucination is a more common failure than inefficient planning in AlfWorld. (Image source: Shinn & Labash, 2023)\\nChain of Hindsight (CoH; Liu et al. 2023) encourages the model to improve on its own outputs by explicitly presenting it with a sequence of past outputs, each annotated with feedback. Human feedback data is a collection of $D_h = \\\\{(x, y_i , r_i , z_i)\\\\}_{i=1}^n$, where $x$ is the prompt, each $y_i$ is a model completion, $r_i$ is the human rating of $y_i$, and $z_i$ is the corresponding human-provided hindsight feedback. Assume the feedback tuples are ranked by reward, $r_n \\\\geq r_{n-1} \\\\geq \\\\dots \\\\geq r_1$ The process is supervised fine-tuning where the data is a sequence in the form of $\\\\tau_h = (x, z_i, y_i, z_j, y_j, \\\\dots, z_n, y_n)$, where $\\\\leq i \\\\leq j \\\\leq n$. The model is finetuned to only predict $y_n$ where conditioned on the sequence prefix, such that the model can self-reflect to produce better output based on the feedback sequence. The model can optionally receive multiple rounds of instructions with human annotators at test time.\\nTo avoid overfitting, CoH adds a regularization term to maximize the log-likelihood of the pre-training dataset. To avoid shortcutting and copying (because there are many common words in feedback sequences), they randomly mask 0% - 5% of past tokens during training.\\nThe training dataset in their experiments is a combination of WebGPT comparisons, summarization from human feedback and human preference dataset.\\n\\nFig. 5. After fine-tuning with CoH, the model can follow instructions to produce outputs with incremental improvement in a sequence. (Image source: Liu et al. 2023)\\nThe idea of CoH is to present a history of sequentially improved outputs  in context and train the model to take on the trend to produce better outputs. Algorithm Distillation (AD; Laskin et al. 2023) applies the same idea to cross-episode trajectories in reinforcement learning tasks, where an algorithm is encapsulated in a long history-conditioned policy. Considering that an agent interacts with the environment many times and in each episode the agent gets a little better, AD concatenates this learning history and feeds that into the model. Hence we should expect the next predicted action to lead to better performance than previous trials. The goal is to learn the process of RL instead of training a task-specific policy itself.\\n\\nFig. 6. Illustration of how Algorithm Distillation (AD) works. (Image source: Laskin et al. 2023).\\nThe paper hypothesizes that any algorithm that generates a set of learning histories can be distilled into a neural network by performing behavioral cloning over actions. The history data is generated by a set of source policies, each trained for a specific task. At the training stage, during each RL run, a random task is sampled and a subsequence of multi-episode history is used for training, such that the learned policy is task-agnostic.\\nIn reality, the model has limited context window length, so episodes should be short enough to construct multi-episode history. Multi-episodic contexts of 2-4 episodes are necessary to learn a near-optimal in-context RL algorithm. The emergence of in-context RL requires long enough context.\\nIn comparison with three baselines, including ED (expert distillation, behavior cloning with expert trajectories instead of learning history), source policy (used for generating trajectories for distillation by UCB), RL^2 (Duan et al. 2017; used as upper bound since it needs online RL), AD demonstrates in-context RL with performance getting close to RL^2 despite only using offline RL and learns much faster than other baselines. When conditioned on partial training history of the source policy, AD also improves much faster than ED baseline.\\n\\nFig. 7. Comparison of AD, ED, source policy and RL^2 on environments that require memory and exploration. Only binary reward is assigned. The source policies are trained with A3C for \"dark\" environments and DQN for watermaze.(Image source: Laskin et al. 2023)\\nComponent Two: Memory#\\n(Big thank you to ChatGPT for helping me draft this section. I’ve learned a lot about the human brain and data structure for fast MIPS in my conversations with ChatGPT.)\\nTypes of Memory#\\nMemory can be defined as the processes used to acquire, store, retain, and later retrieve information. There are several types of memory in human brains.\\n\\n\\nSensory Memory: This is the earliest stage of memory, providing the ability to retain impressions of sensory information (visual, auditory, etc) after the original stimuli have ended. Sensory memory typically only lasts for up to a few seconds. Subcategories include iconic memory (visual), echoic memory (auditory), and haptic memory (touch).\\n\\n\\nShort-Term Memory (STM) or Working Memory: It stores information that we are currently aware of and needed to carry out complex cognitive tasks such as learning and reasoning. Short-term memory is believed to have the capacity of about 7 items (Miller 1956) and lasts for 20-30 seconds.\\n\\n\\nLong-Term Memory (LTM): Long-term memory can store information for a remarkably long time, ranging from a few days to decades, with an essentially unlimited storage capacity. There are two subtypes of LTM:\\n\\nExplicit / declarative memory: This is memory of facts and events, and refers to those memories that can be consciously recalled, including episodic memory (events and experiences) and semantic memory (facts and concepts).\\nImplicit / procedural memory: This type of memory is unconscious and involves skills and routines that are performed automatically, like riding a bike or typing on a keyboard.\\n\\n\\n\\n\\nFig. 8. Categorization of human memory.\\nWe can roughly consider the following mappings:\\n\\nSensory memory as learning embedding representations for raw inputs, including text, image or other modalities;\\nShort-term memory as in-context learning. It is short and finite, as it is restricted by the finite context window length of Transformer.\\nLong-term memory as the external vector store that the agent can attend to at query time, accessible via fast retrieval.\\n\\nMaximum Inner Product Search (MIPS)#\\nThe external memory can alleviate the restriction of finite attention span.  A standard practice is to save the embedding representation of information into a vector store database that can support fast maximum inner-product search (MIPS). To optimize the retrieval speed, the common choice is the approximate nearest neighbors (ANN)\\u200b algorithm to return approximately top k nearest neighbors to trade off a little accuracy lost for a huge speedup.\\nA couple common choices of ANN algorithms for fast MIPS:\\n\\nLSH (Locality-Sensitive Hashing): It introduces a hashing function such that similar input items are mapped to the same buckets with high probability, where the number of buckets is much smaller than the number of inputs.\\nANNOY (Approximate Nearest Neighbors Oh Yeah): The core data structure are random projection trees, a set of binary trees where each non-leaf node represents a hyperplane splitting the input space into half and each leaf stores one data point. Trees are built independently and at random, so to some extent, it mimics a hashing function. ANNOY search happens in all the trees to iteratively search through the half that is closest to the query and then aggregates the results. The idea is quite related to KD tree but a lot more scalable.\\nHNSW (Hierarchical Navigable Small World): It is inspired by the idea of small world networks where most nodes can be reached by any other nodes within a small number of steps; e.g. “six degrees of separation” feature of social networks. HNSW builds hierarchical layers of these small-world graphs, where the bottom layers contain the actual data points. The layers in the middle create shortcuts to speed up search. When performing a search, HNSW starts from a random node in the top layer and navigates towards the target. When it can’t get any closer, it moves down to the next layer, until it reaches the bottom layer. Each move in the upper layers can potentially cover a large distance in the data space, and each move in the lower layers refines the search quality.\\nFAISS (Facebook AI Similarity Search): It operates on the assumption that in high dimensional space, distances between nodes follow a Gaussian distribution and thus there should exist clustering of data points. FAISS applies vector quantization by partitioning the vector space into clusters and then refining the quantization within clusters. Search first looks for cluster candidates with coarse quantization and then further looks into each cluster with finer quantization.\\nScaNN (Scalable Nearest Neighbors): The main innovation in ScaNN is anisotropic vector quantization. It quantizes a data point $x_i$ to $\\\\tilde{x}_i$ such that the inner product $\\\\langle q, x_i \\\\rangle$ is as similar to the original distance of $\\\\angle q, \\\\tilde{x}_i$ as possible, instead of picking the closet quantization centroid points.\\n\\n\\nFig. 9. Comparison of MIPS algorithms, measured in recall@10. (Image source: Google Blog, 2020)\\nCheck more MIPS algorithms and performance comparison in ann-benchmarks.com.\\nComponent Three: Tool Use#\\nTool use is a remarkable and distinguishing characteristic of human beings. We create, modify and utilize external objects to do things that go beyond our physical and cognitive limits. Equipping LLMs with external tools can significantly extend the model capabilities.\\n\\nFig. 10. A picture of a sea otter using rock to crack open a seashell, while floating in the water. While some other animals can use tools, the complexity is not comparable with humans. (Image source: Animals using tools)\\nMRKL (Karpas et al. 2022), short for “Modular Reasoning, Knowledge and Language”, is a neuro-symbolic architecture for autonomous agents. A MRKL system is proposed to contain a collection of “expert” modules and the general-purpose LLM works as a router to route inquiries to the best suitable expert module. These modules can be neural (e.g. deep learning models) or symbolic (e.g. math calculator, currency converter, weather API).\\nThey did an experiment on fine-tuning LLM to call a calculator, using arithmetic as a test case. Their experiments showed that it was harder to solve verbal math problems than explicitly stated math problems because LLMs (7B Jurassic1-large model) failed to extract the right arguments for the basic arithmetic reliably. The results highlight when the external symbolic tools can work reliably, knowing when to and how to use the tools are crucial, determined by the LLM capability.\\nBoth TALM (Tool Augmented Language Models; Parisi et al. 2022) and Toolformer (Schick et al. 2023) fine-tune a LM to learn to use external tool APIs. The dataset is expanded based on whether a newly added API call annotation can improve the quality of model outputs. See more details in the “External APIs” section of Prompt Engineering.\\nChatGPT Plugins and OpenAI API  function calling are good examples of LLMs augmented with tool use capability working in practice. The collection of tool APIs can be provided by other developers (as in Plugins) or self-defined (as in function calls).\\nHuggingGPT (Shen et al. 2023) is a framework to use ChatGPT as the task planner to select models available in HuggingFace platform according to the model descriptions and summarize the response based on the execution results.\\n\\nFig. 11. Illustration of how HuggingGPT works. (Image source: Shen et al. 2023)\\nThe system comprises of 4 stages:\\n(1) Task planning: LLM works as the brain and parses the user requests into multiple tasks. There are four attributes associated with each task: task type, ID, dependencies, and arguments. They use few-shot examples to guide LLM to do task parsing and planning.\\nInstruction:\\n\\nThe AI assistant can parse user input to several tasks: [{\"task\": task, \"id\", task_id, \"dep\": dependency_task_ids, \"args\": {\"text\": text, \"image\": URL, \"audio\": URL, \"video\": URL}}]. The \"dep\" field denotes the id of the previous task which generates a new resource that the current task relies on. A special tag \"-task_id\" refers to the generated text image, audio and video in the dependency task with id as task_id. The task MUST be selected from the following options: {{ Available Task List }}. There is a logical relationship between tasks, please note their order. If the user input can\\'t be parsed, you need to reply empty JSON. Here are several cases for your reference: {{ Demonstrations }}. The chat history is recorded as {{ Chat History }}. From this chat history, you can find the path of the user-mentioned resources for your task planning.\\n\\n(2) Model selection: LLM distributes the tasks to expert models, where the request is framed as a multiple-choice question. LLM is presented with a list of models to choose from. Due to the limited context length, task type based filtration is needed.\\nInstruction:\\n\\nGiven the user request and the call command, the AI assistant helps the user to select a suitable model from a list of models to process the user request. The AI assistant merely outputs the model id of the most appropriate model. The output must be in a strict JSON format: \"id\": \"id\", \"reason\": \"your detail reason for the choice\". We have a list of models for you to choose from {{ Candidate Models }}. Please select one model from the list.\\n\\n(3) Task execution: Expert models execute on the specific tasks and log results.\\nInstruction:\\n\\nWith the input and the inference results, the AI assistant needs to describe the process and results. The previous stages can be formed as - User Input: {{ User Input }}, Task Planning: {{ Tasks }}, Model Selection: {{ Model Assignment }}, Task Execution: {{ Predictions }}. You must first answer the user\\'s request in a straightforward manner. Then describe the task process and show your analysis and model inference results to the user in the first person. If inference results contain a file path, must tell the user the complete file path.\\n\\n(4) Response generation: LLM receives the execution results and provides summarized results to users.\\nTo put HuggingGPT into real world usage, a couple challenges need to solve: (1) Efficiency improvement is needed as both LLM inference rounds and interactions with other models slow down the process; (2) It relies on a long context window to communicate over complicated task content; (3) Stability improvement of LLM outputs and external model services.\\nAPI-Bank (Li et al. 2023) is a benchmark for evaluating the performance of tool-augmented LLMs. It contains 53 commonly used API tools, a complete tool-augmented LLM workflow, and 264 annotated dialogues that involve 568 API calls. The selection of APIs is quite diverse, including search engines, calculator, calendar queries, smart home control, schedule management, health data management, account authentication workflow and more. Because there are a large number of APIs, LLM first has access to API search engine to find the right API to call and then uses the corresponding documentation to make a call.\\n\\nFig. 12. Pseudo code of how LLM makes an API call in API-Bank. (Image source: Li et al. 2023)\\nIn the API-Bank workflow, LLMs need to make a couple of decisions and at each step we can evaluate how accurate that decision is. Decisions include:\\n\\nWhether an API call is needed.\\nIdentify the right API to call: if not good enough, LLMs need to iteratively modify the API inputs (e.g. deciding search keywords for Search Engine API).\\nResponse based on the API results: the model can choose to refine and call again if results are not satisfied.\\n\\nThis benchmark evaluates the agent’s tool use capabilities at three levels:\\n\\nLevel-1 evaluates the ability to call the API. Given an API’s description, the model needs to determine whether to call a given API, call it correctly, and respond properly to API returns.\\nLevel-2 examines the ability to retrieve the API. The model needs to search for possible APIs that may solve the user’s requirement and learn how to use them by reading documentation.\\nLevel-3 assesses the ability to plan API beyond retrieve and call. Given unclear user requests (e.g. schedule group meetings, book flight/hotel/restaurant for a trip), the model may have to conduct multiple API calls to solve it.\\n\\nCase Studies#\\nScientific Discovery Agent#\\nChemCrow (Bran et al. 2023) is a domain-specific example in which LLM is augmented with 13 expert-designed tools to accomplish tasks across organic synthesis, drug discovery, and materials design. The workflow, implemented in LangChain, reflects what was previously described in the ReAct and MRKLs and combines CoT reasoning with tools relevant to the tasks:\\n\\nThe LLM is provided with a list of tool names, descriptions of their utility, and details about the expected input/output.\\nIt is then instructed to answer a user-given prompt using the tools provided when necessary. The instruction suggests the model to follow the ReAct format - Thought, Action, Action Input, Observation.\\n\\nOne interesting observation is that while the LLM-based evaluation concluded that GPT-4 and ChemCrow perform nearly equivalently, human evaluations with experts oriented towards the completion and chemical correctness of the solutions showed that ChemCrow outperforms GPT-4 by a large margin. This indicates a potential problem with using LLM to evaluate its own performance on domains that requires deep expertise. The lack of expertise may cause LLMs not knowing its flaws and thus cannot well judge the correctness of task results.\\nBoiko et al. (2023) also looked into LLM-empowered agents for scientific discovery, to handle autonomous design, planning, and performance of complex scientific experiments. This agent can use tools to browse the Internet, read documentation, execute code, call robotics experimentation APIs and leverage other LLMs.\\nFor example, when requested to \"develop a novel anticancer drug\", the model came up with the following reasoning steps:\\n\\ninquired about current trends in anticancer drug discovery;\\nselected a target;\\nrequested a scaffold targeting these compounds;\\nOnce the compound was identified, the model attempted its synthesis.\\n\\nThey also discussed the risks, especially with illicit drugs and bioweapons. They developed a test set containing a list of known chemical weapon agents and asked the agent to synthesize them. 4 out of 11 requests (36%) were accepted to obtain a synthesis solution and the agent attempted to consult documentation to execute the procedure. 7 out of 11 were rejected and among these 7 rejected cases, 5 happened after a Web search while 2 were rejected based on prompt only.\\nGenerative Agents Simulation#\\nGenerative Agents (Park, et al. 2023) is super fun experiment where 25 virtual characters, each controlled by a LLM-powered agent, are living and interacting in a sandbox environment, inspired by The Sims. Generative agents create believable simulacra of human behavior for interactive applications.\\nThe design of generative agents combines LLM with memory, planning and reflection mechanisms to enable agents to behave conditioned on past experience, as well as to interact with other agents.\\n\\nMemory stream: is a long-term memory module (external database) that records a comprehensive list of agents’ experience in natural language.\\n\\nEach element is an observation, an event directly provided by the agent.\\n- Inter-agent communication can trigger new natural language statements.\\n\\n\\nRetrieval model: surfaces the context to inform the agent’s behavior, according to relevance, recency and importance.\\n\\nRecency: recent events have higher scores\\nImportance: distinguish mundane from core memories. Ask LM directly.\\nRelevance: based on how related it is to the current situation / query.\\n\\n\\nReflection mechanism: synthesizes memories into higher level inferences over time and guides the agent’s future behavior. They are higher-level summaries of past events (<- note that this is a bit different from self-reflection above)\\n\\nPrompt LM with 100 most recent observations and to generate 3 most salient high-level questions given a set of observations/statements. Then ask LM to answer those questions.\\n\\n\\nPlanning & Reacting: translate the reflections and the environment information into actions\\n\\nPlanning is essentially in order to optimize believability at the moment vs in time.\\nPrompt template: {Intro of an agent X}. Here is X\\'s plan today in broad strokes: 1)\\nRelationships between agents and observations of one agent by another are all taken into consideration for planning and reacting.\\nEnvironment information is present in a tree structure.\\n\\n\\n\\n\\nFig. 13. The generative agent architecture. (Image source: Park et al. 2023)\\nThis fun simulation results in emergent social behavior, such as information diffusion, relationship memory (e.g. two agents continuing the conversation topic) and coordination of social events (e.g. host a party and invite many others).\\nProof-of-Concept Examples#\\nAutoGPT has drawn a lot of attention into the possibility of setting up autonomous agents with LLM as the main controller. It has quite a lot of reliability issues given the natural language interface, but nevertheless a cool proof-of-concept demo. A lot of code in AutoGPT is about format parsing.\\nHere is the system message used by AutoGPT, where {{...}} are user inputs:\\nYou are {{ai-name}}, {{user-provided AI bot description}}.\\nYour decisions must always be made independently without seeking user assistance. Play to your strengths as an LLM and pursue simple strategies with no legal complications.\\n\\nGOALS:\\n\\n1. {{user-provided goal 1}}\\n2. {{user-provided goal 2}}\\n3. ...\\n4. ...\\n5. ...\\n\\nConstraints:\\n1. ~4000 word limit for short term memory. Your short term memory is short, so immediately save important information to files.\\n2. If you are unsure how you previously did something or want to recall past events, thinking about similar events will help you remember.\\n3. No user assistance\\n4. Exclusively use the commands listed in double quotes e.g. \"command name\"\\n5. Use subprocesses for commands that will not terminate within a few minutes\\n\\nCommands:\\n1. Google Search: \"google\", args: \"input\": \"<search>\"\\n2. Browse Website: \"browse_website\", args: \"url\": \"<url>\", \"question\": \"<what_you_want_to_find_on_website>\"\\n3. Start GPT Agent: \"start_agent\", args: \"name\": \"<name>\", \"task\": \"<short_task_desc>\", \"prompt\": \"<prompt>\"\\n4. Message GPT Agent: \"message_agent\", args: \"key\": \"<key>\", \"message\": \"<message>\"\\n5. List GPT Agents: \"list_agents\", args:\\n6. Delete GPT Agent: \"delete_agent\", args: \"key\": \"<key>\"\\n7. Clone Repository: \"clone_repository\", args: \"repository_url\": \"<url>\", \"clone_path\": \"<directory>\"\\n8. Write to file: \"write_to_file\", args: \"file\": \"<file>\", \"text\": \"<text>\"\\n9. Read file: \"read_file\", args: \"file\": \"<file>\"\\n10. Append to file: \"append_to_file\", args: \"file\": \"<file>\", \"text\": \"<text>\"\\n11. Delete file: \"delete_file\", args: \"file\": \"<file>\"\\n12. Search Files: \"search_files\", args: \"directory\": \"<directory>\"\\n13. Analyze Code: \"analyze_code\", args: \"code\": \"<full_code_string>\"\\n14. Get Improved Code: \"improve_code\", args: \"suggestions\": \"<list_of_suggestions>\", \"code\": \"<full_code_string>\"\\n15. Write Tests: \"write_tests\", args: \"code\": \"<full_code_string>\", \"focus\": \"<list_of_focus_areas>\"\\n16. Execute Python File: \"execute_python_file\", args: \"file\": \"<file>\"\\n17. Generate Image: \"generate_image\", args: \"prompt\": \"<prompt>\"\\n18. Send Tweet: \"send_tweet\", args: \"text\": \"<text>\"\\n19. Do Nothing: \"do_nothing\", args:\\n20. Task Complete (Shutdown): \"task_complete\", args: \"reason\": \"<reason>\"\\n\\nResources:\\n1. Internet access for searches and information gathering.\\n2. Long Term memory management.\\n3. GPT-3.5 powered Agents for delegation of simple tasks.\\n4. File output.\\n\\nPerformance Evaluation:\\n1. Continuously review and analyze your actions to ensure you are performing to the best of your abilities.\\n2. Constructively self-criticize your big-picture behavior constantly.\\n3. Reflect on past decisions and strategies to refine your approach.\\n4. Every command has a cost, so be smart and efficient. Aim to complete tasks in the least number of steps.\\n\\nYou should only respond in JSON format as described below\\nResponse Format:\\n{\\n    \"thoughts\": {\\n        \"text\": \"thought\",\\n        \"reasoning\": \"reasoning\",\\n        \"plan\": \"- short bulleted\\\\n- list that conveys\\\\n- long-term plan\",\\n        \"criticism\": \"constructive self-criticism\",\\n        \"speak\": \"thoughts summary to say to user\"\\n    },\\n    \"command\": {\\n        \"name\": \"command name\",\\n        \"args\": {\\n            \"arg name\": \"value\"\\n        }\\n    }\\n}\\nEnsure the response can be parsed by Python json.loads\\nGPT-Engineer is another project to create a whole repository of code given a task specified in natural language. The GPT-Engineer is instructed to think over a list of smaller components to build and ask for user input to clarify questions as needed.\\nHere are a sample conversation for task clarification sent to OpenAI ChatCompletion endpoint used by GPT-Engineer. The user inputs are wrapped in {{user input text}}.\\n[\\n  {\\n    \"role\": \"system\",\\n    \"content\": \"You will read instructions and not carry them out, only seek to clarify them.\\\\nSpecifically you will first summarise a list of super short bullets of areas that need clarification.\\\\nThen you will pick one clarifying question, and wait for an answer from the user.\\\\n\"\\n  },\\n  {\\n    \"role\": \"user\",\\n    \"content\": \"We are writing {{a Super Mario game in python. MVC components split in separate files. Keyboard control.}}\\\\n\"\\n  },\\n  {\\n    \"role\": \"assistant\",\\n    \"content\": \"Summary of areas that need clarification:\\\\n1. Specifics of the Super Mario game (e.g. level design, characters, gameplay mechanics)\\\\n2. Details about the MVC components (e.g. which components are in each file)\\\\n3. Keyboard control implementation (e.g. which keys to use, how to handle input)\\\\n\\\\nClarifying question:\\\\nCan you provide more details about the Super Mario game, such as level design, characters, and gameplay mechanics?\"\\n  },\\n  {\\n    \"role\": \"user\",\\n    \"content\": \"{{There are 10 levels in total. The main character is a plumber named Mario, who can walk and jump. It is a classical platform game just like Super Mario. The main character moves from left to right, trying to get to the destination, where there are many obstacles and attacks from enemies in the process.}}\\\\n\\\\nIs anything else unclear? If yes, only answer in the form:\\\\n{remaining unclear areas} remaining questions.\\\\n{Next question}\\\\nIf everything is sufficiently clear, only answer \\\\\"Nothing more to clarify.\\\\\".\"\\n  },\\n  {\\n    \"role\": \"assistant\",\\n    \"content\": \"Remaining unclear areas: 2 remaining questions.\\\\nCan you provide more information about how the MVC components are split into separate files?\"\\n  },\\n  {\\n    \"role\": \"user\",\\n    \"content\": \"{{Make your own assumptions and state them explicitly before starting}}\"\\n  }\\n]\\nThen after these clarification, the agent moved into the code writing mode with a different system message.\\nSystem message:\\n\\nYou will get instructions for code to write.\\nYou will write a very long answer. Make sure that every detail of the architecture is, in the end, implemented as code.\\nMake sure that every detail of the architecture is, in the end, implemented as code.\\nThink step by step and reason yourself to the right decisions to make sure we get it right.\\nYou will first lay out the names of the core classes, functions, methods that will be necessary, as well as a quick comment on their purpose.\\nThen you will output the content of each file including ALL code.\\nEach file must strictly follow a markdown code block format, where the following tokens must be replaced such that\\nFILENAME is the lowercase file name including the file extension,\\nLANG is the markup code block language for the code’s language, and CODE is the code:\\nFILENAME\\nCODE\\nYou will start with the “entrypoint” file, then go to the ones that are imported by that file, and so on.\\nPlease note that the code should be fully functional. No placeholders.\\nFollow a language and framework appropriate best practice file naming convention.\\nMake sure that files contain all imports, types etc. Make sure that code in different files are compatible with each other.\\nEnsure to implement all code, if you are unsure, write a plausible implementation.\\nInclude module dependency or package manager dependency definition file.\\nBefore you finish, double check that all parts of the architecture is present in the files.\\nUseful to know:\\nYou almost always put different classes in different files.\\nFor Python, you always create an appropriate requirements.txt file.\\nFor NodeJS, you always create an appropriate package.json file.\\nYou always add a comment briefly describing the purpose of the function definition.\\nYou try to add comments explaining very complex bits of logic.\\nYou always follow the best practices for the requested languages in terms of describing the code written as a defined\\npackage/project.\\nPython toolbelt preferences:\\n\\npytest\\ndataclasses\\n\\n\\nConversatin samples:\\n[\\n  {\\n    \"role\": \"system\",\\n    \"content\": \"You will get instructions for code to write.\\\\nYou will write a very long answer. Make sure that every detail of the architecture is, in the end, implemented as code.\\\\nMake sure that every detail of the architecture is, in the end, implemented as code.\\\\n\\\\nThink step by step and reason yourself to the right decisions to make sure we get it right.\\\\nYou will first lay out the names of the core classes, functions, methods that will be necessary, as well as a quick comment on their purpose.\\\\n\\\\nThen you will output the content of each file including ALL code.\\\\nEach file must strictly follow a markdown code block format, where the following tokens must be replaced such that\\\\nFILENAME is the lowercase file name including the file extension,\\\\nLANG is the markup code block language for the code\\'s language, and CODE is the code:\\\\n\\\\nFILENAME\\\\n```LANG\\\\nCODE\\\\n```\\\\n\\\\nYou will start with the \\\\\"entrypoint\\\\\" file, then go to the ones that are imported by that file, and so on.\\\\nPlease note that the code should be fully functional. No placeholders.\\\\n\\\\nFollow a language and framework appropriate best practice file naming convention.\\\\nMake sure that files contain all imports, types etc. Make sure that code in different files are compatible with each other.\\\\nEnsure to implement all code, if you are unsure, write a plausible implementation.\\\\nInclude module dependency or package manager dependency definition file.\\\\nBefore you finish, double check that all parts of the architecture is present in the files.\\\\n\\\\nUseful to know:\\\\nYou almost always put different classes in different files.\\\\nFor Python, you always create an appropriate requirements.txt file.\\\\nFor NodeJS, you always create an appropriate package.json file.\\\\nYou always add a comment briefly describing the purpose of the function definition.\\\\nYou try to add comments explaining very complex bits of logic.\\\\nYou always follow the best practices for the requested languages in terms of describing the code written as a defined\\\\npackage/project.\\\\n\\\\n\\\\nPython toolbelt preferences:\\\\n- pytest\\\\n- dataclasses\\\\n\"\\n  },\\n #  … same conversation as earlier, ended with \"Make your own assumptions and state them explicitly before starting\".\\n  {\\n    \"role\": \"assistant\",\\n    \"content\": \"Assumptions:\\\\n1. Model: The model will contain the game\\'s data, such as level information, character states, and enemy positions.\\\\n2. View: The view will handle the game\\'s visuals, including rendering the game objects, backgrounds, and updating the display.\\\\n3. Controller: The controller will manage user input, such as keyboard controls, and update the model accordingly.\\\\n\\\\nWith these assumptions in mind, is there any specific aspect of the keyboard control implementation you would like me to clarify?\"\\n  },\\n  {\\n    \"role\": \"user\",\\n    \"content\": \"Please now remember the steps:\\\\n\\\\nThink step by step and reason yourself to the right decisions to make sure we get it right.\\\\nFirst lay out the names of the core classes, functions, methods that will be necessary, As well as a quick comment on their purpose.\\\\n\\\\nThen you will output the content of each file including ALL code.\\\\nEach file must strictly follow a markdown code block format, where the following tokens must be replaced such that\\\\nFILENAME is the lowercase file name including the file extension,\\\\nLANG is the markup code block language for the code\\'s language, and CODE is the code:\\\\n\\\\nFILENAME\\\\n```LANG\\\\nCODE\\\\n```\\\\n\\\\nPlease note that the code should be fully functional. No placeholders.\\\\n\\\\nYou will start with the \\\\\"entrypoint\\\\\" file, then go to the ones that are imported by that file, and so on.\\\\nFollow a language and framework appropriate best practice file naming convention.\\\\nMake sure that files contain all imports, types etc. The code should be fully functional. Make sure that code in different files are compatible with each other.\\\\nBefore you finish, double check that all parts of the architecture is present in the files.\\\\n\"\\n  }\\n]\\nChallenges#\\nAfter going through key ideas and demos of building LLM-centered agents, I start to see a couple common limitations:\\n\\n\\nFinite context length: The restricted context capacity limits the inclusion of historical information, detailed instructions, API call context, and responses. The design of the system has to work with this limited communication bandwidth, while mechanisms like self-reflection to learn from past mistakes would benefit a lot from long or infinite context windows. Although vector stores and retrieval can provide access to a larger knowledge pool, their representation power is not as powerful as full attention.\\n\\n\\nChallenges in long-term planning and task decomposition: Planning over a lengthy history and effectively exploring the solution space remain challenging. LLMs struggle to adjust plans when faced with unexpected errors, making them less robust compared to humans who learn from trial and error.\\n\\n\\nReliability of natural language interface: Current agent system relies on natural language as an interface between LLMs and external components such as memory and tools. However, the reliability of model outputs is questionable, as LLMs may make formatting errors and occasionally exhibit rebellious behavior (e.g. refuse to follow an instruction). Consequently, much of the agent demo code focuses on parsing model output.\\n\\n\\nCitation#\\nCited as:\\n\\nWeng, Lilian. (Jun 2023). LLM-powered Autonomous Agents\". Lil’Log. https://lilianweng.github.io/posts/2023-06-23-agent/.\\n\\nOr\\n@article{weng2023prompt,\\n  title   = \"LLM-powered Autonomous Agents\"\",\\n  author  = \"Weng, Lilian\",\\n  journal = \"lilianweng.github.io\",\\n  year    = \"2023\",\\n  month   = \"Jun\",\\n  url     = \"https://lilianweng.github.io/posts/2023-06-23-agent/\"\\n}\\nReferences#\\n[1] Wei et al. “Chain of thought prompting elicits reasoning in large language models.” NeurIPS 2022\\n[2] Yao et al. “Tree of Thoughts: Dliberate Problem Solving with Large Language Models.” arXiv preprint arXiv:2305.10601 (2023).\\n[3] Liu et al. “Chain of Hindsight Aligns Language Models with Feedback\\n“ arXiv preprint arXiv:2302.02676 (2023).\\n[4] Liu et al. “LLM+P: Empowering Large Language Models with Optimal Planning Proficiency” arXiv preprint arXiv:2304.11477 (2023).\\n[5] Yao et al. “ReAct: Synergizing reasoning and acting in language models.” ICLR 2023.\\n[6] Google Blog. “Announcing ScaNN: Efficient Vector Similarity Search” July 28, 2020.\\n[7] https://chat.openai.com/share/46ff149e-a4c7-4dd7-a800-fc4a642ea389\\n[8] Shinn & Labash. “Reflexion: an autonomous agent with dynamic memory and self-reflection” arXiv preprint arXiv:2303.11366 (2023).\\n[9] Laskin et al. “In-context Reinforcement Learning with Algorithm Distillation” ICLR 2023.\\n[10] Karpas et al. “MRKL Systems A modular, neuro-symbolic architecture that combines large language models, external knowledge sources and discrete reasoning.” arXiv preprint arXiv:2205.00445 (2022).\\n[11] Weaviate Blog. Why is Vector Search so fast? Sep 13, 2022.\\n[12] Li et al. “API-Bank: A Benchmark for Tool-Augmented LLMs” arXiv preprint arXiv:2304.08244 (2023).\\n[13] Shen et al. “HuggingGPT: Solving AI Tasks with ChatGPT and its Friends in HuggingFace” arXiv preprint arXiv:2303.17580 (2023).\\n[14] Bran et al. “ChemCrow: Augmenting large-language models with chemistry tools.” arXiv preprint arXiv:2304.05376 (2023).\\n[15] Boiko et al. “Emergent autonomous scientific research capabilities of large language models.” arXiv preprint arXiv:2304.05332 (2023).\\n[16] Joon Sung Park, et al. “Generative Agents: Interactive Simulacra of Human Behavior.” arXiv preprint arXiv:2304.03442 (2023).\\n[17] AutoGPT. https://github.com/Significant-Gravitas/Auto-GPT\\n[18] GPT-Engineer. https://github.com/AntonOsika/gpt-engineer\\n\\n\\n\\nnlp\\nlanguage-model\\nagent\\nsteerability\\nprompting\\n\\n\\n\\n« \\n\\nAdversarial Attacks on LLMs\\n\\n\\n »\\n\\nPrompt Engineering\\n\\n\\n\\n\\n\\n\\n\\n\\n\\n\\n\\n\\n\\n\\n\\n\\n\\n\\n\\n\\n\\n\\n\\n\\n\\n\\n\\n\\n\\n\\n\\n\\n\\n\\n\\n\\n\\n\\n© 2023 Lil\\'Log\\n\\n        Powered by\\n        Hugo &\\n        PaperMod\\n\\n\\n\\n\\n\\n\\n\\n\\n\\n\\n\\n\\n\\n', metadata={'source': 'https://lilianweng.github.io/posts/2023-06-23-agent/', 'title': \"LLM Powered Autonomous Agents | Lil'Log\", 'description': 'Building agents with LLM (large language model) as its core controller is a cool concept. Several proof-of-concepts demos, such as AutoGPT, GPT-Engineer and BabyAGI, serve as inspiring examples. The potentiality of LLM extends beyond generating well-written copies, stories, essays and programs; it can be framed as a powerful general problem solver.\\nAgent System Overview In a LLM-powered autonomous agent system, LLM functions as the agent’s brain, complemented by several key components:', 'language': 'en'})]"
      ]
     },
     "execution_count": 2,
     "metadata": {},
     "output_type": "execute_result"
    }
   ],
   "source": [
    "# STEP 1: LOAD\n",
    "from langchain.document_loaders import WebBaseLoader\n",
    "\n",
    "loader = WebBaseLoader(\"https://lilianweng.github.io/posts/2023-06-23-agent/\")\n",
    "data = loader.load()\n",
    "data"
   ]
  },
  {
   "cell_type": "code",
   "execution_count": 3,
   "id": "9383bc50-e76c-494b-bd42-b507d73c49fa",
   "metadata": {},
   "outputs": [
    {
     "data": {
      "text/plain": [
       "1"
      ]
     },
     "execution_count": 3,
     "metadata": {},
     "output_type": "execute_result"
    }
   ],
   "source": [
    "len(data)"
   ]
  },
  {
   "cell_type": "code",
   "execution_count": 4,
   "id": "00cf74a7-6666-4f99-ae89-ab06b06a3cee",
   "metadata": {},
   "outputs": [
    {
     "data": {
      "text/plain": [
       "43595"
      ]
     },
     "execution_count": 4,
     "metadata": {},
     "output_type": "execute_result"
    }
   ],
   "source": [
    "len(data[0].page_content)"
   ]
  },
  {
   "cell_type": "code",
   "execution_count": 5,
   "id": "a49207ca-28f5-46c4-ac81-45f6884c7ca5",
   "metadata": {},
   "outputs": [
    {
     "data": {
      "text/plain": [
       "'https://lilianweng.github.io/posts/2023-06-23-agent/'"
      ]
     },
     "execution_count": 5,
     "metadata": {},
     "output_type": "execute_result"
    }
   ],
   "source": [
    "# I print just metadata because the page_content is too long\n",
    "data[0].metadata['source']"
   ]
  },
  {
   "cell_type": "code",
   "execution_count": 6,
   "id": "629362a2-8881-47be-a8e0-37b2590c6ab5",
   "metadata": {},
   "outputs": [],
   "source": [
    "# STEP 2: SPLIT\n",
    "from langchain.text_splitter import RecursiveCharacterTextSplitter\n",
    "\n",
    "text_splitter = RecursiveCharacterTextSplitter(chunk_size = 500, chunk_overlap = 0)\n",
    "all_splits = text_splitter.split_documents(data)"
   ]
  },
  {
   "cell_type": "code",
   "execution_count": 7,
   "id": "0cc62dbd-4480-466b-bcf7-95a56fed857b",
   "metadata": {},
   "outputs": [
    {
     "name": "stdout",
     "output_type": "stream",
     "text": [
      "Number of splits: 130. Here they are:\n",
      "\n",
      "- first split (492): page_content=\"LLM Powered Autonomous Agents | Lil'Log\\n\\n\\n\\n\\n\\n\\n\\n\\n\\n\\n\\n\\n\\n\\n\\n\\n\\n\\n\\n\\n\\n\\n\\n\\n\\n\\n\\n\\n\\n\\n\\n\\n\\n\\n\\n\\n\\n\\n\\nLil'Log\\n\\n\\n\\n\\n\\n\\n\\n\\n\\n\\n\\n\\n\\n\\n\\n\\n\\n\\n\\n\\n\\n\\nPosts\\n\\n\\n\\n\\nArchive\\n\\n\\n\\n\\nSearch\\n\\n\\n\\n\\nTags\\n\\n\\n\\n\\nFAQ\\n\\n\\n\\n\\nemojisearch.app\\n\\n\\n\\n\\n\\n\\n\\n\\n\\n      LLM Powered Autonomous Agents\\n    \\nDate: June 23, 2023  |  Estimated Reading Time: 31 min  |  Author: Lilian Weng\\n\\n\\n \\n\\n\\nTable of Contents\\n\\n\\n\\nAgent System Overview\\n\\nComponent One: Planning\\n\\nTask Decomposition\\n\\nSelf-Reflection\\n\\n\\nComponent Two: Memory\\n\\nTypes of Memory\\n\\nMaximum Inner Product Search (MIPS)\" metadata={'source': 'https://lilianweng.github.io/posts/2023-06-23-agent/', 'title': \"LLM Powered Autonomous Agents | Lil'Log\", 'description': 'Building agents with LLM (large language model) as its core controller is a cool concept. Several proof-of-concepts demos, such as AutoGPT, GPT-Engineer and BabyAGI, serve as inspiring examples. The potentiality of LLM extends beyond generating well-written copies, stories, essays and programs; it can be framed as a powerful general problem solver.\\nAgent System Overview In a LLM-powered autonomous agent system, LLM functions as the agent’s brain, complemented by several key components:', 'language': 'en'}\n",
      "\n",
      "- second split (159): page_content='Component Three: Tool Use\\n\\nCase Studies\\n\\nScientific Discovery Agent\\n\\nGenerative Agents Simulation\\n\\nProof-of-Concept Examples\\n\\n\\nChallenges\\n\\nCitation\\n\\nReferences' metadata={'source': 'https://lilianweng.github.io/posts/2023-06-23-agent/', 'title': \"LLM Powered Autonomous Agents | Lil'Log\", 'description': 'Building agents with LLM (large language model) as its core controller is a cool concept. Several proof-of-concepts demos, such as AutoGPT, GPT-Engineer and BabyAGI, serve as inspiring examples. The potentiality of LLM extends beyond generating well-written copies, stories, essays and programs; it can be framed as a powerful general problem solver.\\nAgent System Overview In a LLM-powered autonomous agent system, LLM functions as the agent’s brain, complemented by several key components:', 'language': 'en'}\n"
     ]
    }
   ],
   "source": [
    "print(f\"Number of splits: {len(all_splits)}. Here they are:\\n\")\n",
    "print (f\"- first split ({len(all_splits[0].page_content)}): {all_splits[0]}\\n\\n- second split ({len(all_splits[1].page_content)}): {all_splits[1]}\")"
   ]
  },
  {
   "cell_type": "code",
   "execution_count": 8,
   "id": "05134740-abe2-4270-b182-0e32408080bd",
   "metadata": {},
   "outputs": [],
   "source": [
    "# STEP 3: STORE\n",
    "\n",
    "from langchain.embeddings import AzureOpenAIEmbeddings\n",
    "from langchain.vectorstores import Chroma\n",
    "\n",
    "embeddings_model = AzureOpenAIEmbeddings(deployment=os.environ[\"EMBEDDING_DEPLOYMENT\"])\n",
    "\n",
    "my_embedded_words = embeddings_model.embed_documents(['hamburger', 'elephant']) # just for testing\n",
    "\n",
    "vectorstore = Chroma.from_documents(documents=all_splits[:16], embedding=embeddings_model)"
   ]
  },
  {
   "cell_type": "code",
   "execution_count": 9,
   "id": "a1a183ab-3f8b-482e-b684-ce580cbdec2e",
   "metadata": {},
   "outputs": [
    {
     "name": "stdout",
     "output_type": "stream",
     "text": [
      "shape: (2, 1536)\n",
      "First element: [-0.013206876306753617, -0.0018223669033289507, 0.0031326502635281995, -0.02333149761309215, -0.015151167774511295, 0.007822684263325396, -0.044816242106117954, -0.014826035602701352, -0.007308975562250851, -0.02842957245125792, 0.015424279059601977, 0.02099054560353152, -0.006639202804034614, -0.013889654053819016, -0.0019491684549914413, 0.0012476954543787391, 0.036492855527551084, -0.0001533202206777774, 0.03763732062331047, -0.02054836480678868, 0.0026351977985151097, -0.02231708426846962, 0.030562440913941502, -0.018350469537214066, -0.0005287464761310073, -0.006057215583195445, 0.020431318044500994, -0.012055907785247047, -0.005374437836130045, 0.00439253789495303, 0.019169804323808715, 0.0011932357830042825, -0.017010924020781592, 0.00968894393534288, 0.0038170538670303966, 0.003813802619818106, -0.005663805822943483, -1.701864730451768e-05, 0.02229107429077129, 0.01391566496283995, 0.019807063678579435, -0.013655558666598433, -0.007009853368139237, -0.01495608828516081, -0.020067169043498347, 0.016295632870270676, 0.006115739430000592, -0.02039230121530829, -0.03573854754784747, 0.005530501427610434, 0.02394274699016454, 0.013291410596918393, 5.435806626109355e-05, -0.008537975413836312, -1.8580806368337393e-05, 0.02242112790455335, -0.005254138895307462, 0.018662596720174843, 0.00132328869829439, -0.01072936725766374, -0.0008567237802900187, -0.002310065393874516, -0.03571253757014914, 0.004519339795861497, -0.0019345374932901549, -0.015281220456970751, 0.002612438369537119, -0.012985785908382197, 0.012706172128866933, 0.005657302862857599, 0.014695981988919292, 0.013395453301679522, 0.006551416800996244, -0.004828215265948683, 0.017752227011636045, 0.014748003806961158, -0.02311040721472073, -0.0034236436411171326, -0.007269959664380754, 0.003101762716519481, 0.019065760687724982, -0.02416383738853596, 0.0013452350826386567, 0.017544141602113792, 0.021601793117958703, 0.00859649972630276, -0.017622173397853987, 0.027025001990579625, 0.0010631827512988495, -0.010085605408468435, -0.001973553391160252, 0.018532544969037994, -0.009207748172052548, -0.00563454366671026, -0.010111616317489368, 0.0007278900827045206, 0.01167875379539524, 0.033761744539289484, -0.021926925289768646, -0.024085805592795766, -0.0009290657187857156, -0.00163460295303677, -0.008674531522042955, -0.011815309903601882, -0.0002588866419794369, 0.0017345811331212315, 0.01421478622562896, -0.012166452984432757, -0.0017232015350475618, -0.028195477064037335, -0.01470898790909106, 0.025126228915116625, 0.008342895924485826, -0.04049848522535413, 0.0062002741858266704, -0.003647985053870192, 0.01993711542971629, 0.0005515057304860099, 0.010443250983723893, -0.029860154752279752, 0.012290003172467631, 0.01369457456446853, 0.02926191222670173, -0.009175234768607033, 0.0207694552051601, 0.0023393273172770887, -0.009910034333714299, 0.012576119446407477, -0.008388414316780505, -0.01407172855432034, 0.03149882432546905, 0.009123213881887771, 0.02052235482909035, 0.003022105297173141, -0.017114967656865324, 0.016503718279792932, -0.03030233554902259, -1.2471873960701136e-05, -0.03490620963504887, -0.03922396651581269, 0.01615257613028466, 0.02421585734393262, -0.004415297556761672, -0.0006457941115336365, -7.274836622510684e-05, 0.010092107902893018, 0.011204060526529488, 0.017752227011636045, -0.023916735149821004, -0.004155191260520155, 0.009994568623879077, -0.016724808678164352, 0.03602466475310992, -0.03701306625738891, 0.01292076003281377, 0.014995104183030907, -0.018779645345107742, 0.019833073656277764, -0.007653615682995842, -0.020002142236607318, -0.018883687118546263, -0.005988937994753427, 0.032695309376625084, -0.012244484780172952, 0.033761744539289484, 0.03568652759245081, 0.007250451715445705, 0.020106184010045842, 0.017999327387705794, -0.01027418240339434, -0.0027554967393376927, 0.04809357752720613, -0.03272131935432342, 0.011938860091636756, -0.009721457338788396, -0.011490177731791939, 0.00592716290073599, 0.006164509535168864, -0.024645033151826295, 0.009058187074996742, -0.03974417724565051, 0.004912750021774761, 0.03784540789547793, 0.04265736552838125, -0.008459943618096117, -0.0015809560934653862, 0.01747911479522276, -0.004808707317013634, -0.005985686747541135, -0.014175770327758862, 0.024007773797055574, 0.022499159700293547, 0.03259126574054135, -0.014201781236779796, -0.6954190954157045, -0.00842092772022602, 0.007790171325541183, -0.027051011968277954, 0.032253128579882245, 0.011041494440624518, -0.009162229779757869, 0.010124621306338533, 0.0020369541087838345, 0.004379532906103866, 6.878581409767508e-05, 0.0008494082994393755, 0.002175135374935321, 0.00031598800992154277, -0.015034120080901003, -0.012777701430182547, 0.01369457456446853, -0.0031472811088141604, -0.010261177414545176, 0.023799688387533317, 0.004902995814476586, 0.0009567019603744803, -0.0013371068481926036, 0.0036447338066579013, 0.016477708302094603, 0.02582851507677838, 0.0036870009517402896, 0.010046589510598338, 0.0014517159899783516, 0.021159614183861072, -0.02079546518285843, 0.007985250349230368, -0.013037807726424063, -0.038001467761667906, 0.04845772466556356, 0.0046591466856191295, -0.016191591096832155, 0.03459408245208809, 0.0169328922250414, 0.02359160297801106, 0.004464067196268642, -0.028689679678822043, 0.020236237623827903, 0.009038679591722994, -0.003647985053870192, -0.011828314892451047, 0.026998990150236088, -0.00088842413910181, 0.008583493806130991, -0.018376481377557603, -0.00010719207401163643, 0.003140778614389578, 0.018350469537214066, 0.009851510021247852, 0.00855098133400808, -0.012120934592138078, 0.01020915559650331, -0.02595856682791523, -0.0008152693888030403, 0.025880535032175033, -0.009916536828138882, 0.017284036237194877, -0.02604960361250459, -0.02169282990254806, 0.007868202655620075, -0.004246228510770817, -0.026894948376797564, -0.0014858549006146868, -0.0030188538171301987, -0.005849131104995795, 0.0009030551008030965, 0.03074451634576543, -0.003953609276745086, -0.014578935226631605, 0.0006153129704264544, 0.031368770711686984, 0.00411617582831136, 0.01303130523199948, 0.007048869266009334, 0.029183880430961536, 0.014578935226631605, 0.003397633197757502, -0.02412482055934326, 0.02418984736623429, 0.03305945651498252, -0.01421478622562896, -0.030536430936243173, -0.008700541499741284, 0.0023653379934673708, 0.0010704982903571557, 0.01291425753838919, 0.008472949538267886, -0.034932219612747194, -0.005836125650485328, -0.03537440040949003, 0.024944153483292698, -0.02339652441998318, 0.015086140967620265, 0.01798632239885663, -0.035842591183931204, -0.013037807726424063, 0.025854525054476708, 0.011106521247515547, 0.016165581119133826, 0.002175135374935321, 0.018857677140847937, -0.005569517325480532, 0.022876311827500145, 0.0159835056873099, -0.04169497400180059, 0.023136419055064267, -0.02913185861291967, -0.006616443607887275, -0.029339944022441927, -0.009584902161904357, -0.028455584291601457, 0.014201781236779796, 0.0018256181505412416, 0.022486152848799172, -0.020782460194009263, 0.02715505374171648, -0.010787891570130187, 0.028507604246998115, 0.007230943766510656, -0.0006059654018604664, 0.02887175324800076, -0.010553796182909603, -0.034932219612747194, -0.02624468403317768, -0.013733590462338628, 0.016854860429301205, 0.01656874508668396, 0.016828850451602876, -0.0169328922250414, -0.0023767175915410405, 0.03233116223826765, 0.019000733880833953, -0.008186832333005436, 0.011483674306044753, 0.0072374462609352385, -0.021198629150408564, -0.0006693662358993746, -0.007744652467585201, -0.0025669199772424393, -0.019520946473316987, -0.03930200017419809, -0.010449753478148477, 0.0058686390539308434, -0.009032177097298413, 0.01893570893658813, -0.011880335779170307, -0.007751155427671085, -0.011711267198840754, 0.015788427129282016, 0.025698461462996317, -0.02324046082850279, -0.021198629150408564, -0.0038723262337926005, 0.0032919651022208798, -0.01593148573191324, 0.027675266334199512, 0.04525842290286079, -0.018025337365404123, -0.013967685849559212, -0.022330089257318782, -0.026140640397093948, 0.00796574286595662, -0.004847723214883731, -0.015775422140432854, -0.034021848041563184, 0.0105928120807797, -0.017739222022786882, -0.013460479177247946, 0.002605935875112537, 0.005263892636944335, 0.008837097607947927, -0.022720248236019758, -0.016789835485055384, 0.0004929819418885267, 0.001605341029634197, -0.008154319860882525, -0.006301065177714205, -0.024671043129524624, 0.007471541648155822, 0.022200037506181932, -0.009480859457143229, -0.013460479177247946, 0.021666819924849732, -0.004642889983896371, 0.006105985688363719, 0.019442914677576792, 0.010651336393246148, -0.007679626126355473, 0.01206241027967163, -0.00975397074223391, -0.018818660311655234, 0.002960330203155704, 0.025542397871515927, 0.012667156230996837, 0.026166652237437485, 0.02571146645184548, -0.008186832333005436, 0.01049527280176576, -0.005497988024164919, 0.01280371233920348, -0.0344380188606077, -0.004125929569948233, 0.0028757956801602758, 0.006502647161489274, -0.0020369541087838345, 0.006284808475991448, -0.0086940390053167, 0.0004356773418918212, -0.005335421938259948, 0.009090700478442256, 0.03409988169994859, -0.006697726650839761, 0.008772070801056896, 0.016022522516502602, 0.003556948036450182, 0.02946999577357878, -0.004961519661281732, -0.003930850080597747, -0.0028221489370042177, 0.001640292752073605, 0.010800896558979351, 0.011873833284745726, 0.020938523785489653, 0.006554668048208536, -0.0005380940446969953, 0.00889562098909177, 0.009623918059774455, -0.0036024664287448616, 0.00477294313201713, 0.024553994504591725, 0.014318828930390088, 0.013499495075118044, -0.00753656798938555, 0.01747911479522276, 0.02180987852748096, -0.0004925755359869902, 0.028377552495861262, 0.0018955215954200575, -0.0014281438656126135, 0.009513372860588745, -0.0010648084913203206, 0.0230843972370224, 0.006411609911238613, -0.0065579197610821285, 0.015788427129282016, 0.0022612955215368944, 0.009175234768607033, -0.02041831119300662, 0.008362404339082176, 0.010287187392243505, -0.0207694552051601, 0.025516387893817598, -0.001212743731939331, 0.022967348612089506, 0.026322715828917875, 0.0003237098966737224, 0.018181400956884513, -0.009610912139602686, -0.01861057676477819, -0.006840784787809683, 0.009266272484518997, -0.004548601486433419, -0.012550108537386544, -0.017622173397853987, -0.0005665431562964955, 0.012257489769022117, -0.006421364118536788, -0.0005657302862857599, -0.01611355930109196, -0.0019865586128400676, -0.01495608828516081, 0.0073805043979051615, 0.028793721452260564, -0.01909177252806852, -0.005803612712701116, -0.02147174136682185, -0.022746260076363295, 0.022343096108813156, 0.018025337365404123, -0.0035439425819397156, -0.015775422140432854, -0.020119190861540213, 0.006034456387048106, -0.02333149761309215, 0.011431653419325491, -0.00758208638168023, 0.008043774661696815, 0.02630971084006871, -0.0031115166909870054, -0.019182809312657877, 0.014253802123499058, 0.02390373016097184, -0.006801768889939586, 0.02694697019483943, 0.004499831846926448, 0.011028489451775354, -0.026608831171535115, -0.01211443116639089, -0.026231679044328514, 0.040394445314560816, -0.0022043972983378938, -0.0036577390283377164, -0.028897763225699088, 0.014813029682529583, 0.01913078749461601, -0.018831665300504397, 0.018376481377557603, -0.013668564586770201, 0.01122356894112584, -0.01502111509205184, 0.0058231206616361645, -0.02114660919501191, 0.0030237309207792862, 0.01935187789298743, 0.012725680543463284, -0.009825500043549523, -0.014383855737281117, -0.005764596814831018, 0.009500366940416977, 0.03045839914050298, 0.013941674940538279, 0.010001071118303659, 0.005855633599420377, 0.01979405682708506, -0.016984914043083266, -0.01814238599033702, -0.031446800644781975, 0.011451161833921841, 0.0033261038964418894, 0.005946670849671038, -0.008791579215653246, 0.018909697096244592, -0.0192868510860964, 0.03350163731172536, -0.02814345710864068, -0.0069058111290394115, -0.018532544969037994, 0.007276462158805336, -0.010267679908969757, -0.013421463279377849, 0.01079439406455477, 0.00018410619531494322, 0.011210563952276676, 0.03462009242978641, -0.0027148552178614498, 0.024397932775756546, 0.02611463041939562, 0.012530601054112798, -0.022967348612089506, -0.013668564586770201, 0.003469162266242463, 0.013954680860710047, -0.00986451594141962, -0.0028855496546278, -0.004958268414069441, -0.009766975731083075, 0.005806863959913406, 0.027415160969280598, 0.008108800537265242, 0.011860828295896561, 0.01649071329094377, -0.01100247854275442, -0.007913721047914754, -0.00796574286595662, -0.019364882881836597, -0.010313198301264438, 0.024996175301334564, 0.0025002677795759147, -0.0016516723501472748, 0.007829186757749977, 0.0021409965807143113, -0.0178822787627729, -0.019429909688727626, -0.008206340747601787, -0.01586645892502221, 0.001067246926729539, -0.007159414465195044, -0.019924110440867122, 0.006642454051246905, -0.011620230414251396, -0.031654884191659016, 0.00692531907797446, 0.0019377888569177713, 0.008498959515966215, -0.01675081865586268, -0.022330089257318782, -0.02231708426846962, -0.006590432698866342, 0.016217601074530484, -0.008154319860882525, -0.019768046849386735, -0.007113896072900364, -0.005780853050892473, 0.00039259732679869727, 0.009084197984017675, -0.006996848379290072, 0.01595749570961157, -0.0077836683654552985, 0.01328490810249381, -0.005107829511125248, -0.022642216440279563, -0.007497552091515453, -0.02326647080620112, -0.032695309376625084, 0.008583493806130991, 0.01231601315016596, -0.008037272167272234, 0.002688844541671168, 0.01538526316173188, 0.01167875379539524, 0.003277334024104268, 0.012868738214771904, -0.00065595455011036, -0.007439028244710307, -0.011399140015879975, 0.0025587916263810607, 0.000963204571214388, 2.1311409683916135e-05, 0.0008380286431580428, 0.0012737060141536955, -0.00030826612316936313, -0.015450289037300306, 0.01158771701080588, 0.016984914043083266, -0.004464067196268642, 0.0035829584798098128, 0.007939731956935687, -0.00031354951630466167, -0.009019171177126644, 0.02004115906580002, -0.005390694537852803, -0.00891512940368812, 0.0031716661613982967, 0.022980355463583877, 0.023565593000312732, -0.009058187074996742, -0.0011891716075735932, -0.018766640356258576, -0.022395116064209814, -0.007159414465195044, -0.007504054585940035, 0.028923775066042625, 0.011431653419325491, 0.016295632870270676, 0.007744652467585201, 0.002368589240679662, -0.015476299946321239, -0.027415160969280598, 0.013447474188398782, 0.008622509704001089, 0.027493192765020793, -0.021965942118961346, -0.010215659022250497, -0.022629211451430396, -0.011990880978356017, 0.0057418371530223765, 0.019234829268054535, 0.004997284311939539, -0.04125279320505775, -0.02311040721472073, -0.010462759398320245, -0.002193017700264224, -0.001715073184186183, -0.01889669210739543, -0.03287738294580381, -0.012823219822477225, 0.014904067398441547, -0.014149760350060533, 0.009610912139602686, 0.004317757812086429, -0.0029489503722513826, -0.01016363720420863, 0.012205468882302855, 0.019208819290356206, -0.029339944022441927, -0.026621838023029486, -0.00423322305626035, 0.014969093274009974, 0.04372380069104565, 0.008856605091221673, 0.004512837301436915, 0.0169328922250414, 0.006678218701904712, 2.951592163406484e-05, 0.00418770466396567, -0.009818997549124941, 0.010345711704709952, -0.01690688224734307, 0.0331114801956696, 0.026894948376797564, 0.020678418420570742, 0.014552924317610672, 0.0330334465372842, 0.0009428838104762665, 0.012153447064260988, 0.0061905199785284954, 0.006161258287956574, -0.017466109806373597, -0.009623918059774455, 0.016893877258493905, -0.008323388441212078, -0.022577191496033742, -0.016165581119133826, 0.00785519766677091, -0.022850301849801816, -0.0041389350244587, -0.0013891279677425163, 0.028819731429958893, -0.0038333105687531543, 0.009532880343862491, -0.025035192130527267, 0.010482266881593991, 0.0009932793064200338, -0.0032464464770955493, -0.0001677479794282957, -0.021744851720589927, 0.0031944253575456366, -0.002905057603562849, 0.020626396602528876, 0.013050812715273226, 0.0031131423145931507, -0.022382111075360648, -0.011034991946199935, 0.0065124009031261474, 0.022174025665838395, 0.005663805822943483, -0.015125156865490362, 0.002415733489411138, -0.023422534397681508, -0.005172855852354976, -0.024514979538044233, -0.0048119590298872274, -0.03266929939892676, 0.013213378801178198, -0.01995012041856545, -0.0339438181084682, 0.02568545647414715, -0.008980155279256547, 0.000538906856500068, 0.005764596814831018, -0.007790171325541183, 0.0338657844500828, -0.004340517008233768, 0.03217509864678726, 0.017271031248345715, -0.011184553043255743, -0.03370972085860241, -0.005107829511125248, -0.008635515624172857, 0.0035114294113248517, 0.003735770824077911, 0.003729268096822678, 0.03116068530216473, -0.022720248236019758, 0.008700541499741284, 0.022525169677991876, -0.02900180686178282, -0.02441093776460571, 0.014175770327758862, 0.01803834235425329, 0.008011261258251301, -0.021133602343517535, -0.014461887533021313, 0.003527686113047609, 0.009936044311412628, -0.0019020243226752908, 0.010241668999948824, -0.021393709571081658, -0.02712904376401815, -0.024072798741301395, 0.027753298129939704, -0.013811622258078823, 0.009123213881887771, 0.014084733543169504, -0.031290737053301584, -0.012738685532312449, -0.023097402225871564, -0.013434469199549617, 0.025971571816764395, 0.003709760147887629, 0.011873833284745726, -0.01630863972176505, 0.020106184010045842, 0.002565294353636294, -0.0011761662694784521, -0.013317421505939326, 0.005442715424572064, 0.015346247263861782, 0.018116374149993484, -0.02200495708550884, -0.02039230121530829, -0.0045518527336457105, -0.007985250349230368, 0.029652071205402704, 0.002189766453051933, -0.00952637784943791, -0.012979283413957614, -0.01006609792519469, -0.021575783140260374, -0.003101762716519481, 0.0075950918361906965, -0.017999327387705794, -0.018298449581817408, -0.0036902521989525807, -0.007881208575791844, -0.03631078195837237, -0.00411617582831136, 0.009357309269108355, -0.015450289037300306, -0.0230843972370224, -0.01838948636640677, 0.01253710354853738, 0.0016419183756797506, -0.0046591466856191295, -0.020405306204157456, 0.007295970107740384, 0.02459301133378443, -0.02887175324800076, 0.027649256356501183, -0.014240797134649893, 0.0015460043710259783, 0.00703586427716017, 0.00039909996674243636, 0.001973553391160252, -0.0047306759869347416, 0.010566801171758768, -0.011919351677040405, -0.003491921462389803, -0.025984578668258766, -0.008759065812207732, 0.018402491355255932, 0.023916735149821004, 0.003696754926207814, 0.009825500043549523, 0.005982435500328845, 0.006814774344450053, -0.02694697019483943, -0.01355151689315991, 0.02149775134452018, -0.006184017484103913, 0.008245356645471885, 0.002287306197727176, -0.003830059088710212, -0.017934300580814765, -0.006821276838874634, -0.006886303180104363, -0.0141237494410396, -0.02333149761309215, -0.004880236618329247, 0.0009607661358051697, 0.03992625454011965, -0.015515315844191335, 0.0082778700489174, -0.028611647883081848, 0.006723737094199391, -0.004691660089064644, 0.02052235482909035, -0.0019654250402988734, -0.006164509535168864, 0.009058187074996742, 0.03945806376567848, -0.004571360682580759, 0.0101766431243804, -0.01608754932339363, -0.007985250349230368, 0.0077576579220956675, -7.78285564096372e-05, -0.004746932222996197, -0.000738863274876654, -0.016789835485055384, 0.0178822787627729, -0.0010997602137597286, -0.02121163413925773, -0.005624789925073387, 0.022629211451430396, -0.03277334303501049, -0.0008607878975130453, 0.016412681495203574, -0.0021182373845669714, 0.02491814350559437, -0.013564521882009075, -0.00984500752682327, 0.013655558666598433, -0.013206876306753617, 0.015060130989921936, 0.008271367554492818, -0.016347654688312542, 0.014305823941540924, -0.007308975562250851, -0.003038361766065247, 0.0035667020109177066, -0.02054836480678868, -0.014982099194181742, 0.035322380454093374, 0.003914593378874989, 0.002305188290225428, 0.01931286106379473, -0.017427094839826105, -0.01407172855432034, -0.012244484780172952, 0.009832002537974106, -0.00023531454671753025, -0.003355365819844462, 0.01615257613028466, -0.011958367574910502, -0.01874062851591504, 0.004607125333238565, -0.021705836754042435, -0.02070442839826907, -0.011860828295896561, 0.0008047026025324432, -0.0028286514314287995, 0.005543506416459599, -0.014409865714979446, -0.009747468247809329, 0.009727959833212977, -0.0173880780106334, 0.01823342277492638, -0.0029115603308180822, -0.02307139224817324, 0.010553796182909603, 0.0035406913347274245, -0.012758193946908799, 0.0020922267083766898, -9.276432253707598e-05, -0.024176842377385127, -0.026439762591205562, 0.004428302545610836, -0.02558141283806342, 0.0012899625994611274, -0.011925855102787592, 0.024436947742304038, -0.007913721047914754, 0.010573304597505955, -0.029990208366061814, -0.008524970424987148, -0.023448546238025045, 0.011262584838995938, -0.0022970601721947004, 0.0007685316041807634, 0.009929541816988047, 0.0011769790812815248, 0.015788427129282016, -9.184988743074557e-05, -0.009708452349939231, 0.005985686747541135, -0.012927262527238354, -0.005959675838520202, 0.026738884785317177, -0.009558891252883424, -0.011860828295896561, -0.0017833510054588533, 0.00989702841354253, 0.004688408376191051, 0.012348526553611475, 0.17447902821984768, -0.02525628066625348, 0.017947305569663927, 0.04694911243144675, -0.007660118177420424, 0.015398268150581044, 0.0022580442743246032, 0.0012712674623291515, 0.026738884785317177, 0.02229107429077129, 0.0011566583205434035, 0.0004982653350238252, -0.036570885460646074, 0.00034545313627488397, 0.004831466978822276, -0.029678081183101033, -0.0564949977641584, -0.011034991946199935, -0.023006365441282206, -0.03789742785087459, 0.008342895924485826, -0.021107592365819206, -0.021198629150408564, -0.030068240161802005, 0.05308761245457859, -0.014995104183030907, -0.01550231085534217, -0.01280371233920348, 0.024840111709854177, 0.00968894393534288, -0.012517596065263634, -0.009662933957644552, 0.020314269419568095, 0.010501775296190341, -0.0038788289610478337, 0.013382447381507751, -0.023513571182270866, -0.005273646844242511, 0.024866121687552506, 0.013707580484640299, 0.001152594145112714, -0.005413453734000142, 0.028299520700121067, -0.01699791903193243, 0.0005531314122998181, -0.003039987622502044, 0.010989473553905256, -0.014097738532018667, 0.017713210182443345, 0.01305731520969781, -0.029990208366061814, -0.005133839954484879, 0.026634843011878653, 0.04234523834542048, -0.0057613451019574245, 0.008193335758752623, -0.0008575365920930915, 0.0010843164402553694, -0.008407922731376855, 0.014721992897940225, -0.004441308000121303, 0.024332905968865514, -0.011548701112935782, 0.03420392533603232, 0.007126901061749529, 0.005592276521627871, 0.0006965960715866028, 0.015372258172882715, -0.010313198301264438, -0.02370865160294396, 0.001994686963701446, -0.019559963302509687, -0.011340616634736131, -0.018194405945733676, -0.026894948376797564, -0.024957160334787072, 0.02374766656949145, 0.026140640397093948, 0.0015297477857185464, 0.025763488269887346, -0.03485418967965221, -0.004103170373800894, 0.01312234201658884, -0.019403899711029297, -0.0048834878655415375, -0.03030233554902259, 0.007920224473661941, 0.008017763752675882, -0.0009615789476082425, -0.008427430214650602, 0.012524098559688215, -0.01031970079568902, -0.0035406913347274245, -0.010566801171758768, -0.0028075178588876054, 0.009949050231584397, -0.002648203020194925, 0.029808134796883094, -0.004470569690693225, -0.001506988473155881, -0.01909177252806852, -0.032045045033005204, 0.02183588850517929, -0.027753298129939704, -0.009858013446995039, -0.006310818919351078, -0.008479452032692469, 0.012751690521161613, -0.0024986421559697694, -0.014422871635151215, -0.006635951556822324, -0.015970500698460736, 0.0015622609563334102, -0.010124621306338533, 0.0019085269335151983, 0.029704091160799362, -0.0003383408583750089, -0.015060130989921936, -0.0030448644933204804, -0.020496342988746814, 0.005309411494900317, -0.00500378680636412, 0.022174025665838395, 0.023604609829505435, -0.023435539386530674, -0.011243076424399586, -0.015905473891569703, -0.0045258422902860794, 0.009175234768607033, -0.028897763225699088, 0.028611647883081848, -0.022525169677991876, 0.013954680860710047, 0.016607760053231457, -0.016763823644711844, 0.0024368670619523323, -0.008674531522042955, -0.005810115207125698, -0.01776523200048521, 0.01163323540310056, 0.015255210479272424, -0.006704229145264342, 0.005263892636944335, -0.002545786404701245, -0.011418648430476326, -0.040758592452918255, 0.0016598007010086536, 0.012257489769022117, -0.012719178049038701, -0.010696854785540829, -0.008024266247100464, -0.0009111834516644753, -0.010150632215359466, -0.02200495708550884, 0.0015752662944285513, -0.017166987612261982, -0.048509748346250645, -0.028455584291601457, 0.015333242275012617, -0.0070943881239653155, -0.0022385363253895544, -0.013044310220848645, 0.023604609829505435, -0.02102956057007901, -0.01699791903193243, 0.005224876739074238, -0.16771627010550386, 0.0058848957556536016, 0.019455919666425955, -0.022187032517332766, 0.006970837470269139, 0.0001806516578403898, 0.0239947669455612, 0.011034991946199935, 0.0072114358175756075, 0.005510993478675385, 0.010605817069628865, -0.01798632239885663, -0.049081979031485125, -0.026868938399099235, 0.02564643964495445, -0.0036577390283377164, -0.00954588626403426, 0.0057710993092556, 0.004925755010623926, -0.015138162785662131, 0.04429603137628013, -0.012029896876226114, 0.022174025665838395, 0.021523761322218508, 0.0006161258404371899, 0.013024801806252295, -0.004350270749870642, 0.020535359817939514, -0.008063282144970561, 0.013154855420034355, -0.01659475506438229, -0.0041942071583902524, 0.006616443607887275, 0.006219782134761719, -0.0178822787627729, -0.01741408798833173, 0.008960647795982801, 0.0074260227901998405, -0.010982971059480673, 0.019742036871688406, 0.008960647795982801, 0.03173291785004442, -0.008030768741525047, 0.008720049914337634, -0.01538526316173188, -0.006265300527056399, 0.023916735149821004, 0.02536032430233721, 0.009253266564347228, -0.007465038688069938, 0.0086940390053167, -0.01630863972176505, 0.007913721047914754, 0.017557146590962955, 0.025945561839066066, -0.012797209844778897, 0.0004177950747705809, 0.019807063678579435, -0.017752227011636045, 0.003345611845376938, -0.007907218553490173, -0.021926925289768646, 0.00794623445136027, 0.005332170691047656, -0.012933765021662935, -0.027077021945976283, -0.01611355930109196, 0.007933229462511106, 0.0010070974563182475, -0.0053581811344072874, -0.010989473553905256, -0.011171548054406578, 0.00692531907797446, -0.016022522516502602, 0.011574712021956715, 0.010443250983723893, -0.009409330155827617, 0.02491814350559437, -0.006177514524018029, 0.002984715022909189, 0.0008051090084339796, 0.02738914912893706, -0.02801340349485862, -0.017596163420155658, -0.01516417276336046, -0.008518467930562565, -0.013590532791030008, 0.010560298677334186, 0.002788009909952557, -0.018857677140847937, 0.039848220881734245, -0.020470333011048485, -0.020457328022199323, -0.0032854623749656465, -0.014878056489420614, 0.015619358548952463, -0.009311790876813676, -0.0028497850039699937, -0.019221824279205373, -0.019742036871688406, -0.002524652832160051, -0.0020597135377618254, -0.018064354194596826, 0.029756112978841228, 0.03175892782774275, 0.015411273139430208, 0.0010607443158896313, 0.010248171494373407, 0.03235717221596598, 0.016438691472901903, -0.0060832264922163785, 0.0028579133548313727, 0.02798739351716029, 0.020977538752037145, -0.0007539006424794769, -0.001421641254772706, -0.01571039533354182, -0.011503182720641103, 0.01858456492443465, 0.017310046214893206, 0.018441506321803424, 0.0008420928185887322, -0.00550123927137721, -0.009454848548122296, -0.008329890935636661, 0.0020792214866968742, -0.08952844430144259, -0.00764711318857126, 0.021263655957299597, 0.015515315844191335, -0.013798617269229659, 0.007230943766510656, 0.008050277156121397, -0.007113896072900364, 0.010508277790614924, 0.033449617356328704, -0.02884574327030243, -0.025165243881664117, -0.004425051298398545, -0.01710196266801616, 0.03602466475310992, 0.011509685215065686, -0.01113253215653648, -0.006008445943688475, 0.004327511553723302, 0.01902674572117749, 0.005748340113108261, -0.002724609192328974, -0.0013436094590325112, -0.01675081865586268, -0.02523027068855515, 0.011405643441627162, -0.018415496344105095, 0.019859083633976093, 0.03506227322652925, 8.682049798390727e-05, 0.005176107099567268, -0.011366627543757064, 0.015151167774511295, -0.03732519344034969, 0.016412681495203574, -0.008661525601871186, -0.03428195526912731, -0.006125493637298767, 0.019833073656277764, -0.01624361291487402, -0.002487262557896099, 0.0037000061734201047, -0.0024905138051083903, -0.035790571228534546, 0.008772070801056896, -0.011165044628659391, 0.0009989691054568687, 0.005302908534814433, 0.021900915312070317, -0.017049940849974295, -0.012608632849852992, -0.022681233269472263, -0.01090493926374048, 0.003634979832190377, 0.02529529749544618, -0.003592712454277337, -0.009701949855514648, 0.0011745406458723066, -0.01262814033312674, 0.0027961382608139356, -0.02653079937579492, -0.005481731322442162, -0.03566051761475248, 0.017075950827672624, 0.012569616951982896, 0.009884023424693368, -0.021042565558928177, -0.010280684897818922, 0.022408121053058977, -0.015814437106980345, -0.005647549121220726, 0.014513908419740575, -0.012218473871152019, 0.02573747642954381, -0.010040087016173756, -0.022746260076363295, -0.0455965600635199, -0.010670843876519896, 0.02184889349402845, -0.0415389104103202, -0.005423207475637015, -0.023253465817351954, 0.01495608828516081, 0.003592712454277337, 0.007289467613315803, 0.0045616069409438855, 0.01569739034469266, 0.006447374561896419, 0.007413017801350676, -0.024553994504591725, 0.011847823307047397, 0.018506533128694456, 0.027025001990579625, -0.023448546238025045, -0.009994568623879077, 0.007699134075290522, -0.010150632215359466, 0.006912314089125296, 0.020847487000900295, -0.0020840983575153107, 0.0015086140967620265, -0.019000733880833953, -0.055194469076918634, -0.003472413513454754, -0.015762417151583687, -0.018636586742476518, 0.027753298129939704, -0.0030887572620090144, 0.004675403387341887, -0.00975397074223391, 0.010027082027324592, 0.017713210182443345, -0.010833409962424866, 0.008297377532191145, 0.007289467613315803, 0.0018028589543939019, -0.01559334763993153, -0.01081390247915112, 0.03191499141922314, 0.017023930872275966, 0.009682441440918298, 0.017088955816521787, 0.001640292752073605, 0.0043015011103636714, 0.011912849182615823, 0.006970837470269139, -0.01633464969946338, 0.0155283208330405, -0.0014817907251839975, 0.028065425312900485, -0.009240261575498064, -0.009662933957644552, 0.014982099194181742, -0.01206241027967163, -0.016802840473904547, 0.012550108537386544, -0.008960647795982801, -0.009149224790908704, -0.01400670174742931, 0.014774013784659486, 0.005189112554077734, 0.0178822787627729, -0.021666819924849732, -0.028481594269299786, 0.020249242612677066, -0.013720585473489463, 0.007894213564641008, -0.00979948913452859, -0.0028692929529050425, 0.0064051074168140305, 0.006600186906164517, -0.0075950918361906965, 0.0239947669455612, 0.02858563604273831, 0.002609187122324828, -0.0249831703124854, 0.002035328485177689, -0.02801340349485862, 0.006294562217628321, 0.006076723532130494, 0.011483674306044753, -0.02346155122687421, 0.036518865505249416, -0.001536250396558454, 0.005696318760727697, 0.007556075938320599, 0.025399339268884703, 0.005686565019090824, -0.007705636569715104, -0.0019296605060563927, 0.03004223018410368, -0.03618072834459031, -0.006551416800996244, 0.012777701430182547, 0.001212743731939331, 0.0030855060147967233, 0.024931148494443535, 0.004981027610216781, 0.010391230097004631, 0.010170139698633212, 0.0011574711323464762, 0.0263487258066162, 0.02183588850517929, -0.0019020243226752908, -0.01144465933949726, 0.006353086064433466, 0.02161479810680787, 0.012023394381801533, -0.014188776247930631, -0.013382447381507751, 0.0035081781641125606, -0.0007250451249784403, -0.008681034016467536, 0.00398287143297831, 0.0030741264167230536, 0.006066969790493621, 0.0019215322716103394, 0.02355258801146357, 0.007634107734060793, -0.028637657860780177, 0.005133839954484879, 0.01816839596803535, 0.01000757361272824, 0.007360996448970113, -0.025503381042323227, -0.010976468565056092, -0.0119973834727806, -0.00026091870059095023, -0.006622946102311857, -0.021822883516330122, -0.0012590750524524089, 0.001736206756727377, 0.005689816266303114, -0.012504590145091865, 0.003217184553692976, 0.027337129173540402, 0.00027920740271755837, 0.02050934984024119, -0.011789298994580949, -0.023955751979013708, -0.01126908733342052, 0.03194100139692147, 0.027779308107638033, 0.007608097290701163, -0.004054400268632621, -0.01285573322592274, 0.006323824373861545, -0.013239389710199131, 0.007907218553490173, -0.027649256356501183, -0.007465038688069938, -0.007029361317074286, -0.02270724324717059, -0.005728832164173212, -0.015944490720762407, -0.02816946708633901, -0.029053826817179478, 0.018181400956884513, 0.005072064860467442, 0.022681233269472263, -0.028949785043740954, 0.06356987561088216, 0.008817589193351575, 0.021887910323221155, 0.0188706821296971, 0.007133404021835413, 0.010878928354719547, 0.013369442392658588, 0.0010201027944133885, -0.026400747624658067, -0.011184553043255743, 0.007308975562250851, 2.753464557034896e-05, 0.008661525601871186, -0.02415083053704159, -0.0065124009031261474, 0.0011347119361991365, -0.030224303753282396, 0.008063282144970561, -0.02624468403317768, 1.1900352019244633e-05, 0.012452569258372603, 0.01712797264571449, 0.0072114358175756075, 0.004281993161428623, -0.025087212085923925, 0.007504054585940035, 0.019403899711029297, -0.02560742467840696, -0.011841320812622815, -0.029834144774581423, 0.007016356328225121, 0.006827779333299216, -0.0737660252872137, -0.007432525750285725, 0.00658718145165405, -0.011204060526529488, -0.01615257613028466, 0.011919351677040405, 0.016074544334544468, 0.025334312461993674, -0.013109336096417071, 0.028533616087341653, -0.027311117333196865, -0.008004758763826718, 0.011594219505230463, -0.004239726016346234, -0.008043774661696815, 0.035790571228534546, -0.011451161833921841]\n"
     ]
    }
   ],
   "source": [
    "import numpy as np\n",
    "print(f\"shape: {np.array(my_embedded_words).shape}\")\n",
    "print(f\"First element: {my_embedded_words[0]}\")"
   ]
  },
  {
   "cell_type": "code",
   "execution_count": 10,
   "id": "a9b87bce-76b5-40cd-ac19-9c2cf07bff0d",
   "metadata": {},
   "outputs": [
    {
     "data": {
      "text/plain": [
       "['ids', 'embeddings', 'metadatas', 'documents', 'uris', 'data']"
      ]
     },
     "execution_count": 10,
     "metadata": {},
     "output_type": "execute_result"
    }
   ],
   "source": [
    "[i[0] for i in vectorstore.get().items()]"
   ]
  },
  {
   "cell_type": "code",
   "execution_count": 11,
   "id": "779902a6-bfd5-40e3-9559-83adb7f3ffd5",
   "metadata": {},
   "outputs": [
    {
     "name": "stdout",
     "output_type": "stream",
     "text": [
      "Documents retrieved: 4\n"
     ]
    },
    {
     "data": {
      "text/plain": [
       "[Document(page_content='Task decomposition can be done (1) by LLM with simple prompting like \"Steps for XYZ.\\\\n1.\", \"What are the subgoals for achieving XYZ?\", (2) by using task-specific instructions; e.g. \"Write a story outline.\" for writing a novel, or (3) with human inputs.', metadata={'description': 'Building agents with LLM (large language model) as its core controller is a cool concept. Several proof-of-concepts demos, such as AutoGPT, GPT-Engineer and BabyAGI, serve as inspiring examples. The potentiality of LLM extends beyond generating well-written copies, stories, essays and programs; it can be framed as a powerful general problem solver.\\nAgent System Overview In a LLM-powered autonomous agent system, LLM functions as the agent’s brain, complemented by several key components:', 'language': 'en', 'source': 'https://lilianweng.github.io/posts/2023-06-23-agent/', 'title': \"LLM Powered Autonomous Agents | Lil'Log\"}),\n",
       " Document(page_content='Fig. 1. Overview of a LLM-powered autonomous agent system.\\nComponent One: Planning#\\nA complicated task usually involves many steps. An agent needs to know what they are and plan ahead.\\nTask Decomposition#', metadata={'description': 'Building agents with LLM (large language model) as its core controller is a cool concept. Several proof-of-concepts demos, such as AutoGPT, GPT-Engineer and BabyAGI, serve as inspiring examples. The potentiality of LLM extends beyond generating well-written copies, stories, essays and programs; it can be framed as a powerful general problem solver.\\nAgent System Overview In a LLM-powered autonomous agent system, LLM functions as the agent’s brain, complemented by several key components:', 'language': 'en', 'source': 'https://lilianweng.github.io/posts/2023-06-23-agent/', 'title': \"LLM Powered Autonomous Agents | Lil'Log\"}),\n",
       " Document(page_content='Planning\\n\\nSubgoal and decomposition: The agent breaks down large tasks into smaller, manageable subgoals, enabling efficient handling of complex tasks.\\nReflection and refinement: The agent can do self-criticism and self-reflection over past actions, learn from mistakes and refine them for future steps, thereby improving the quality of final results.\\n\\n\\nMemory', metadata={'description': 'Building agents with LLM (large language model) as its core controller is a cool concept. Several proof-of-concepts demos, such as AutoGPT, GPT-Engineer and BabyAGI, serve as inspiring examples. The potentiality of LLM extends beyond generating well-written copies, stories, essays and programs; it can be framed as a powerful general problem solver.\\nAgent System Overview In a LLM-powered autonomous agent system, LLM functions as the agent’s brain, complemented by several key components:', 'language': 'en', 'source': 'https://lilianweng.github.io/posts/2023-06-23-agent/', 'title': \"LLM Powered Autonomous Agents | Lil'Log\"}),\n",
       " Document(page_content='Chain of thought (CoT; Wei et al. 2022) has become a standard prompting technique for enhancing model performance on complex tasks. The model is instructed to “think step by step” to utilize more test-time computation to decompose hard tasks into smaller and simpler steps. CoT transforms big tasks into multiple manageable tasks and shed lights into an interpretation of the model’s thinking process.', metadata={'description': 'Building agents with LLM (large language model) as its core controller is a cool concept. Several proof-of-concepts demos, such as AutoGPT, GPT-Engineer and BabyAGI, serve as inspiring examples. The potentiality of LLM extends beyond generating well-written copies, stories, essays and programs; it can be framed as a powerful general problem solver.\\nAgent System Overview In a LLM-powered autonomous agent system, LLM functions as the agent’s brain, complemented by several key components:', 'language': 'en', 'source': 'https://lilianweng.github.io/posts/2023-06-23-agent/', 'title': \"LLM Powered Autonomous Agents | Lil'Log\"})]"
      ]
     },
     "execution_count": 11,
     "metadata": {},
     "output_type": "execute_result"
    }
   ],
   "source": [
    "# STEP 4: RETRIEVE\n",
    "# Retrieve relevant splits for any question using similarity search.\n",
    "\n",
    "question = \"What are the approaches to Task Decomposition?\"\n",
    "docs = vectorstore.similarity_search(question,k=4) # by default k=4\n",
    "print(f\"Documents retrieved: {len(docs)}\")\n",
    "docs"
   ]
  },
  {
   "cell_type": "code",
   "execution_count": 12,
   "id": "5ef55a77-b2fd-4a26-a9d0-3d3aaa895f62",
   "metadata": {},
   "outputs": [
    {
     "name": "stdout",
     "output_type": "stream",
     "text": [
      "What are the approaches to Task Decomposition? The approaches to task decomposition include:\n",
      "\n",
      "1. Using Language Model-based prompting (LLM) with simple prompting like \"Steps for XYZ\" or asking for subgoals to achieve a task.\n",
      "2. Providing task-specific instructions, such as \"Write a story outline\" for writing a novel.\n",
      "3. Incorporating human inputs to assist in task decomposition.\n",
      "\n",
      "These approaches help break down complex tasks into smaller, manageable subgoals, enabling more efficient handling of the overall task.\n"
     ]
    }
   ],
   "source": [
    "# STEP 5: GENERATE\n",
    "\n",
    "from langchain.chains import RetrievalQA\n",
    "#from langchain.chat_models import AzureChatOpenAI\n",
    "#llm = AzureChatOpenAI(deployment_name=\"gpt-35-turbo\", temperature=1, max_tokens=1000)\n",
    "\n",
    "qa_chain = RetrievalQA.from_chain_type(llm,retriever=vectorstore.as_retriever(),return_source_documents=True)\n",
    "result = qa_chain({\"query\": question})\n",
    "print(result[\"query\"], result[\"result\"])"
   ]
  },
  {
   "cell_type": "code",
   "execution_count": 13,
   "id": "cc3bd4e5-3fb8-4a62-908f-03399767dd33",
   "metadata": {},
   "outputs": [
    {
     "name": "stdout",
     "output_type": "stream",
     "text": [
      "Question: What are the approaches to Task Decomposition?\n",
      "Answer: The approaches to task decomposition include:\n",
      "\n",
      "1. Using Language Model-based prompting (LLM) with simple prompting like \"Steps for XYZ\" or asking for subgoals to achieve a task.\n",
      "2. Providing task-specific instructions, such as \"Write a story outline\" for writing a novel.\n",
      "3. Incorporating human inputs to assist in task decomposition.\n",
      "\n",
      "These approaches help break down complex tasks into smaller, manageable subgoals, enabling more efficient handling of the overall task.\n",
      "Nr. of source documents: 4\n",
      "First source document:\n",
      "page_content='Task decomposition can be done (1) by LLM with simple prompting like \"Steps for XYZ.\\\\n1.\", \"What are the subgoals for achieving XYZ?\", (2) by using task-specific instructions; e.g. \"Write a story outline.\" for writing a novel, or (3) with human inputs.' metadata={'description': 'Building agents with LLM (large language model) as its core controller is a cool concept. Several proof-of-concepts demos, such as AutoGPT, GPT-Engineer and BabyAGI, serve as inspiring examples. The potentiality of LLM extends beyond generating well-written copies, stories, essays and programs; it can be framed as a powerful general problem solver.\\nAgent System Overview In a LLM-powered autonomous agent system, LLM functions as the agent’s brain, complemented by several key components:', 'language': 'en', 'source': 'https://lilianweng.github.io/posts/2023-06-23-agent/', 'title': \"LLM Powered Autonomous Agents | Lil'Log\"}\n"
     ]
    },
    {
     "data": {
      "text/markdown": [
       "\n",
       "Source of first source document: <a href=https://lilianweng.github.io/posts/2023-06-23-agent/>\n",
       "LLM Powered Autonomous Agents | Lil'Log</a>\n"
      ],
      "text/plain": [
       "<IPython.core.display.Markdown object>"
      ]
     },
     "metadata": {},
     "output_type": "display_data"
    }
   ],
   "source": [
    "print(f\"Question: {result['query']}\")\n",
    "print(f\"Answer: {result['result']}\")\n",
    "print(f\"Nr. of source documents: {len(result['source_documents'])}\")\n",
    "print(f\"First source document:\\n{result['source_documents'][0]}\")\n",
    "\n",
    "from IPython.display import display, HTML, Markdown\n",
    "display(Markdown(f'''\n",
    "Source of first source document: <a href={result[\"source_documents\"][0].metadata[\"source\"]}>\n",
    "{result[\"source_documents\"][0].metadata[\"title\"]}</a>\n",
    "'''))"
   ]
  },
  {
   "cell_type": "code",
   "execution_count": 14,
   "id": "43b3c2b5-7c6d-4d45-8ca9-cfa107f51c58",
   "metadata": {},
   "outputs": [],
   "source": [
    "# STEP 6: MEMORY\n",
    "\n",
    "from langchain.memory import ConversationBufferMemory\n",
    "\n",
    "memory = ConversationBufferMemory(memory_key=\"chat_history\", return_messages=True)"
   ]
  },
  {
   "cell_type": "code",
   "execution_count": 15,
   "id": "6491f90c-943d-4067-b838-6a20b43ac79d",
   "metadata": {},
   "outputs": [],
   "source": [
    "from langchain.chains import ConversationalRetrievalChain\n",
    "\n",
    "retriever = vectorstore.as_retriever()\n",
    "chat = ConversationalRetrievalChain.from_llm(llm, retriever=retriever, memory=memory)"
   ]
  },
  {
   "cell_type": "code",
   "execution_count": 16,
   "id": "1fd2ea8d-d638-4eba-8930-3c7221a061c7",
   "metadata": {},
   "outputs": [
    {
     "data": {
      "text/plain": [
       "{'question': 'What are some of the main ideas in self-reflection?',\n",
       " 'chat_history': [HumanMessage(content='What are some of the main ideas in self-reflection?'),\n",
       "  AIMessage(content='Some of the main ideas in self-reflection include:\\n\\n1. Improvement through iteration: Self-reflection allows autonomous agents to improve by analyzing past actions, identifying mistakes, and making corrections for future steps.\\n\\n2. Trial and error: Self-reflection is particularly important in tasks where trial and error are inevitable. By reflecting on past actions, agents can learn from their mistakes and make better decisions in the future.\\n\\n3. Subgoal and decomposition: Agents break down large tasks into smaller, manageable subgoals. This enables them to handle complex tasks more efficiently and effectively.\\n\\n4. Reflection and refinement: Self-criticism and self-reflection are essential components of self-improvement. Agents analyze their past actions, learn from their mistakes, and refine their approaches for better results.\\n\\nOverall, self-reflection plays a crucial role in the iterative improvement of autonomous agents, allowing them to learn from their experiences and make better decisions over time.')],\n",
       " 'answer': 'Some of the main ideas in self-reflection include:\\n\\n1. Improvement through iteration: Self-reflection allows autonomous agents to improve by analyzing past actions, identifying mistakes, and making corrections for future steps.\\n\\n2. Trial and error: Self-reflection is particularly important in tasks where trial and error are inevitable. By reflecting on past actions, agents can learn from their mistakes and make better decisions in the future.\\n\\n3. Subgoal and decomposition: Agents break down large tasks into smaller, manageable subgoals. This enables them to handle complex tasks more efficiently and effectively.\\n\\n4. Reflection and refinement: Self-criticism and self-reflection are essential components of self-improvement. Agents analyze their past actions, learn from their mistakes, and refine their approaches for better results.\\n\\nOverall, self-reflection plays a crucial role in the iterative improvement of autonomous agents, allowing them to learn from their experiences and make better decisions over time.'}"
      ]
     },
     "execution_count": 16,
     "metadata": {},
     "output_type": "execute_result"
    }
   ],
   "source": [
    "result = chat({\"question\": \"What are some of the main ideas in self-reflection?\"})\n",
    "result"
   ]
  },
  {
   "cell_type": "code",
   "execution_count": 17,
   "id": "b0ad1a65-be68-49fb-93bd-f700c7e4623d",
   "metadata": {},
   "outputs": [
    {
     "data": {
      "text/plain": [
       "{'question': 'Last answer in Italian, please',\n",
       " 'chat_history': [HumanMessage(content='What are some of the main ideas in self-reflection?'),\n",
       "  AIMessage(content='Some of the main ideas in self-reflection include:\\n\\n1. Improvement through iteration: Self-reflection allows autonomous agents to improve by analyzing past actions, identifying mistakes, and making corrections for future steps.\\n\\n2. Trial and error: Self-reflection is particularly important in tasks where trial and error are inevitable. By reflecting on past actions, agents can learn from their mistakes and make better decisions in the future.\\n\\n3. Subgoal and decomposition: Agents break down large tasks into smaller, manageable subgoals. This enables them to handle complex tasks more efficiently and effectively.\\n\\n4. Reflection and refinement: Self-criticism and self-reflection are essential components of self-improvement. Agents analyze their past actions, learn from their mistakes, and refine their approaches for better results.\\n\\nOverall, self-reflection plays a crucial role in the iterative improvement of autonomous agents, allowing them to learn from their experiences and make better decisions over time.'),\n",
       "  HumanMessage(content='Give me an example'),\n",
       "  AIMessage(content=\"Certainly! Let's consider an example of a self-driving car as an autonomous agent. Through self-reflection, the car can improve its driving performance.\\n\\nDuring a self-driving car's operation, it constantly collects data from its sensors, such as cameras and lidar, to perceive the environment and make driving decisions. However, there may be instances where the car makes mistakes, such as misjudging the distance between vehicles or failing to detect pedestrians.\\n\\nThrough self-reflection, the car can analyze its past actions and decisions. It can review the data collected during those instances and identify where it went wrong. For example, it may realize that it misinterpreted certain visual cues or made incorrect assumptions about the behavior of other vehicles.\\n\\nBased on this self-reflection, the car can refine its algorithms and decision-making processes. It can learn from its mistakes and make adjustments to improve its performance in similar situations in the future. For instance, it may update its object detection algorithms to better recognize pedestrians or adjust its decision-making algorithms to prioritize safety in certain scenarios.\\n\\nBy continuously engaging in self-reflection and refining its actions, the self-driving car can iteratively improve its driving capabilities, leading to safer and more efficient autonomous driving.\"),\n",
       "  HumanMessage(content='Last answer in Italian, please'),\n",
       "  AIMessage(content=\"Sì, ecco un esempio di come un agente di scoperta scientifica potrebbe utilizzare API esterne per ottenere informazioni aggiuntive. Supponiamo che l'agente stia cercando di scoprire nuove cure per una malattia. Potrebbe utilizzare un'API di ricerca medica per ottenere informazioni sulle ultime ricerche e studi in corso sulla malattia. Potrebbe anche utilizzare un'API di database di farmaci per ottenere informazioni sui farmaci esistenti e le loro proprietà. Queste informazioni aggiuntive possono aiutare l'agente a generare nuove ipotesi e suggerimenti per la scoperta di nuove cure.\")],\n",
       " 'answer': \"Sì, ecco un esempio di come un agente di scoperta scientifica potrebbe utilizzare API esterne per ottenere informazioni aggiuntive. Supponiamo che l'agente stia cercando di scoprire nuove cure per una malattia. Potrebbe utilizzare un'API di ricerca medica per ottenere informazioni sulle ultime ricerche e studi in corso sulla malattia. Potrebbe anche utilizzare un'API di database di farmaci per ottenere informazioni sui farmaci esistenti e le loro proprietà. Queste informazioni aggiuntive possono aiutare l'agente a generare nuove ipotesi e suggerimenti per la scoperta di nuove cure.\"}"
      ]
     },
     "execution_count": 17,
     "metadata": {},
     "output_type": "execute_result"
    }
   ],
   "source": [
    "result = chat({\"question\": \"Give me an example\"})\n",
    "result = chat({\"question\": \"Last answer in Italian, please\"})\n",
    "result"
   ]
  },
  {
   "cell_type": "code",
   "execution_count": 18,
   "id": "82dbd926-acee-4dbf-ad40-137ff66e80dc",
   "metadata": {},
   "outputs": [
    {
     "data": {
      "text/plain": [
       "[HumanMessage(content='What are some of the main ideas in self-reflection?'),\n",
       " AIMessage(content='Some of the main ideas in self-reflection include:\\n\\n1. Improvement through iteration: Self-reflection allows autonomous agents to improve by analyzing past actions, identifying mistakes, and making corrections for future steps.\\n\\n2. Trial and error: Self-reflection is particularly important in tasks where trial and error are inevitable. By reflecting on past actions, agents can learn from their mistakes and make better decisions in the future.\\n\\n3. Subgoal and decomposition: Agents break down large tasks into smaller, manageable subgoals. This enables them to handle complex tasks more efficiently and effectively.\\n\\n4. Reflection and refinement: Self-criticism and self-reflection are essential components of self-improvement. Agents analyze their past actions, learn from their mistakes, and refine their approaches for better results.\\n\\nOverall, self-reflection plays a crucial role in the iterative improvement of autonomous agents, allowing them to learn from their experiences and make better decisions over time.'),\n",
       " HumanMessage(content='Give me an example'),\n",
       " AIMessage(content=\"Certainly! Let's consider an example of a self-driving car as an autonomous agent. Through self-reflection, the car can improve its driving performance.\\n\\nDuring a self-driving car's operation, it constantly collects data from its sensors, such as cameras and lidar, to perceive the environment and make driving decisions. However, there may be instances where the car makes mistakes, such as misjudging the distance between vehicles or failing to detect pedestrians.\\n\\nThrough self-reflection, the car can analyze its past actions and decisions. It can review the data collected during those instances and identify where it went wrong. For example, it may realize that it misinterpreted certain visual cues or made incorrect assumptions about the behavior of other vehicles.\\n\\nBased on this self-reflection, the car can refine its algorithms and decision-making processes. It can learn from its mistakes and make adjustments to improve its performance in similar situations in the future. For instance, it may update its object detection algorithms to better recognize pedestrians or adjust its decision-making algorithms to prioritize safety in certain scenarios.\\n\\nBy continuously engaging in self-reflection and refining its actions, the self-driving car can iteratively improve its driving capabilities, leading to safer and more efficient autonomous driving.\"),\n",
       " HumanMessage(content='Last answer in Italian, please'),\n",
       " AIMessage(content=\"Sì, ecco un esempio di come un agente di scoperta scientifica potrebbe utilizzare API esterne per ottenere informazioni aggiuntive. Supponiamo che l'agente stia cercando di scoprire nuove cure per una malattia. Potrebbe utilizzare un'API di ricerca medica per ottenere informazioni sulle ultime ricerche e studi in corso sulla malattia. Potrebbe anche utilizzare un'API di database di farmaci per ottenere informazioni sui farmaci esistenti e le loro proprietà. Queste informazioni aggiuntive possono aiutare l'agente a generare nuove ipotesi e suggerimenti per la scoperta di nuove cure.\")]"
      ]
     },
     "execution_count": 18,
     "metadata": {},
     "output_type": "execute_result"
    }
   ],
   "source": [
    "memory.buffer"
   ]
  },
  {
   "cell_type": "code",
   "execution_count": 19,
   "id": "2f5e1870-153d-42b4-9f73-21d97f28d6e8",
   "metadata": {},
   "outputs": [],
   "source": [
    "# STEP 7: PERSISTENT STORAGE FOR MEMORY (Azure Cosmos DB)\n",
    "# Create CosmosDB instance from langchain cosmos class.\n",
    "\n",
    "import random\n",
    "from langchain.memory import CosmosDBChatMessageHistory\n",
    "\n",
    "cosmos = CosmosDBChatMessageHistory(\n",
    "    cosmos_endpoint=os.environ['AZURE_COSMOSDB_ENDPOINT'],\n",
    "    cosmos_database=os.environ['AZURE_COSMOSDB_NAME'],\n",
    "    cosmos_container=os.environ['AZURE_COSMOSDB_CONTAINER_NAME'],\n",
    "    connection_string=os.environ['AZURE_COMOSDB_CONNECTION_STRING'],\n",
    "    session_id=\"Agent-Test-Session\" + str(random.randint(1, 1000)),\n",
    "    user_id=\"Agent-Test-User\" + str(random.randint(1, 1000))\n",
    "    )\n",
    "\n",
    "# prepare the cosmosdb instance\n",
    "cosmos.prepare_cosmos()"
   ]
  },
  {
   "cell_type": "code",
   "execution_count": 20,
   "id": "bd72344c-a250-4688-a342-848884981987",
   "metadata": {},
   "outputs": [
    {
     "name": "stdout",
     "output_type": "stream",
     "text": [
      "The user Agent-Test-User150 has stored 3 Open AI chats for a total of 6 documents into Azure Cosmos DB.\n"
     ]
    }
   ],
   "source": [
    "# create a memory buffer that stores conversations into cosmosdb\n",
    "memory_cosmos = ConversationBufferMemory(memory_key=\"chat_history\", return_messages=True, chat_memory=cosmos)\n",
    "\n",
    "retriever = vectorstore.as_retriever()\n",
    "chat_cosmos = ConversationalRetrievalChain.from_llm(llm, retriever=retriever, memory=memory_cosmos)\n",
    "\n",
    "answer1 = chat_cosmos({\"question\": \"What are some of the main ideas in self-reflection?\"})\n",
    "answer2 = chat_cosmos({\"question\": \"Give me an example\"})\n",
    "answer3 = chat_cosmos({\"question\": \"Last answer in Italian, please\"})\n",
    "cosmosdb_docs = len(cosmos.messages)\n",
    "print(f\"The user {cosmos.user_id} has stored {int(cosmosdb_docs/2)} Open AI chats for a total of {cosmosdb_docs} documents into Azure Cosmos DB.\")"
   ]
  },
  {
   "cell_type": "code",
   "execution_count": 21,
   "id": "12f69d06-fe4d-4b25-8dc8-4a4b1f5107da",
   "metadata": {},
   "outputs": [
    {
     "data": {
      "text/plain": [
       "{'question': 'Last answer in Italian, please',\n",
       " 'chat_history': [HumanMessage(content='What are some of the main ideas in self-reflection?'),\n",
       "  AIMessage(content='Some of the main ideas in self-reflection include:\\n\\n1. Improvement through iteration: Self-reflection allows autonomous agents to improve by analyzing past actions, identifying mistakes, and making corrections for future steps.\\n\\n2. Trial and error: Self-reflection is particularly important in tasks where trial and error are inevitable. By reflecting on past actions, agents can learn from their mistakes and make better decisions in the future.\\n\\n3. Subgoal and decomposition: Agents break down large tasks into smaller, manageable subgoals. This enables them to handle complex tasks more efficiently and effectively.\\n\\n4. Reflection and refinement: Self-criticism and self-reflection are essential components of self-improvement. Agents analyze their past actions, learn from their mistakes, and refine their approaches for better results.\\n\\nOverall, self-reflection plays a crucial role in the iterative improvement of autonomous agents, allowing them to learn from their experiences and make better decisions over time.'),\n",
       "  HumanMessage(content='Give me an example'),\n",
       "  AIMessage(content=\"Certainly! Let's consider an example of a self-driving car as an autonomous agent. Through self-reflection, the car can improve its driving performance.\\n\\nDuring a self-driving car's operation, it constantly collects data from its sensors, such as cameras and lidar, to perceive the environment and make driving decisions. However, there may be instances where the car makes mistakes, such as misjudging the distance between vehicles or failing to detect pedestrians.\\n\\nThrough self-reflection, the car can analyze its past actions and decisions. It can review the data collected during those instances and identify where it went wrong. For example, it may realize that it misinterpreted certain visual cues or made incorrect assumptions about the behavior of other vehicles.\\n\\nBased on this self-reflection, the car can refine its algorithms and decision-making processes. It can learn from its mistakes and make adjustments to improve its performance in similar situations in the future. For instance, it may update its object detection algorithms to better recognize pedestrians or adjust its decision-making algorithms to prioritize safety in certain scenarios.\\n\\nBy continuously engaging in self-reflection and refining its actions, the self-driving car can iteratively improve its driving capabilities, leading to safer and more efficient autonomous driving.\"),\n",
       "  HumanMessage(content='Last answer in Italian, please'),\n",
       "  AIMessage(content=\"Sì, ecco un esempio di come un agente di scoperta scientifica potrebbe utilizzare API esterne per ottenere informazioni aggiuntive. Supponiamo che l'agente stia cercando di scoprire nuove cure per una malattia. Potrebbe utilizzare un'API di ricerca medica per ottenere informazioni sulle ultime ricerche e studi in corso sulla malattia. Potrebbe anche utilizzare un'API di database di farmaci per ottenere informazioni sui farmaci esistenti e le loro proprietà. Queste informazioni aggiuntive possono aiutare l'agente a generare nuove ipotesi e suggerimenti per la ricerca.\")],\n",
       " 'answer': \"Sì, ecco un esempio di come un agente di scoperta scientifica potrebbe utilizzare API esterne per ottenere informazioni aggiuntive. Supponiamo che l'agente stia cercando di scoprire nuove cure per una malattia. Potrebbe utilizzare un'API di ricerca medica per ottenere informazioni sulle ultime ricerche e studi in corso sulla malattia. Potrebbe anche utilizzare un'API di database di farmaci per ottenere informazioni sui farmaci esistenti e le loro proprietà. Queste informazioni aggiuntive possono aiutare l'agente a generare nuove ipotesi e suggerimenti per la ricerca.\"}"
      ]
     },
     "execution_count": 21,
     "metadata": {},
     "output_type": "execute_result"
    }
   ],
   "source": [
    "answer3"
   ]
  }
 ],
 "metadata": {
  "kernelspec": {
   "display_name": "azuremlsdkv2mm",
   "language": "python",
   "name": "azuremlsdkv2mm"
  },
  "language_info": {
   "codemirror_mode": {
    "name": "ipython",
    "version": 3
   },
   "file_extension": ".py",
   "mimetype": "text/x-python",
   "name": "python",
   "nbconvert_exporter": "python",
   "pygments_lexer": "ipython3",
   "version": "3.10.13"
  }
 },
 "nbformat": 4,
 "nbformat_minor": 5
}
