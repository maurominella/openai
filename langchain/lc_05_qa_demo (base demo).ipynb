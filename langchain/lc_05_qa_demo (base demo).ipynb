{
 "cells": [
  {
   "cell_type": "markdown",
   "id": "c5322168-235b-4a96-840e-591f5d3182ad",
   "metadata": {},
   "source": [
    "# [Open AI Langchain QA over Documents](https://python.langchain.com/docs/use_cases/question_answering/)\n",
    "\n",
    "## The credentials.env file should contain at least the following:\n",
    "```\n",
    "AZURE_OPENAI_ENDPOINT     = \"https://abcabcabcabc.openai.azure.com/\"\n",
    "AZURE_OPENAI_API_KEY      = \"a92800000000000000a\"\n",
    "AZURE_OPENAI_API_VERSION  = \"2023-05-15\"\n",
    "OPENAI_API_TYPE           = \"azure\"\n",
    "```\n",
    "\n",
    "## Save the following lines into **conda_langchain.yml**:\n",
    "```\n",
    "name: langchain\n",
    "\n",
    "dependencies:\n",
    "  - python=3.10.12\n",
    "  - pip\n",
    "  - pip:\n",
    "    - langchain==0.0.334\n",
    "    - openai==1.2.3\n",
    "    - jupyter==1.0.0\n",
    "    - python-dotenv==1.0.0\n",
    "    - chromadb==0.4.17\n",
    "    - tiktoken==0.5.1\n",
    "    - azure-cosmos==4.5.1\n",
    "```\n",
    "\n",
    "### , then run:\n",
    "```\n",
    "conda env create -f conda_langchain.yml\n",
    "conda activate langchain\n",
    "jupyter kernelspec uninstall langchain\n",
    "python -m ipykernel install --name langchain --user\n",
    "jupyter kernelspec list\n",
    "jupyter notebook\n",
    "```\n",
    "\n",
    "### notes for chromadb installation:\n",
    "If you get an error please follow [this article](https://stackoverflow.com/questions/64261546/how-to-solve-error-microsoft-visual-c-14-0-or-greater-is-required-when-inst), or download [vs_buildtools.exe](https://visualstudio.microsoft.com/visual-cpp-build-tools/) and then run \n",
    "```\n",
    "vs_buildtools.exe --norestart --passive --downloadThenInstall --includeRecommended --add Microsoft.VisualStudio.Workload.NativeDesktop --add Microsoft.VisualStudio.Workload.VCTools --add Microsoft.VisualStudio.Workload.MSBuildTools\n",
    "```"
   ]
  },
  {
   "cell_type": "code",
   "execution_count": 1,
   "id": "35bd569d-20fa-4943-a699-e21224bba469",
   "metadata": {},
   "outputs": [],
   "source": [
    "import os\n",
    "from dotenv import load_dotenv\n",
    "# load AZURE_OPENAI_ENDPOINT, AZURE_OPENAI_API_KEY, OPENAI_API_VERSION and AZURE_OPENAI_API_TYPE\n",
    "# plus COMPLETION4_DEPLOYMENT, to be assigned to the MODEL string\n",
    "# plus BING_SUBSCRIPTION_KEY and BING_SEARCH_URL\n",
    "\n",
    "load_dotenv(\"./../credentials_my.env\")\n",
    "MODEL = os.environ[\"GPT4-0613-8k\"] \n",
    "\n",
    "from langchain.chat_models import AzureChatOpenAI\n",
    "llm = AzureChatOpenAI(deployment_name=MODEL, temperature=0, max_tokens=1000)"
   ]
  },
  {
   "cell_type": "code",
   "execution_count": 2,
   "id": "496b25c6-89ec-4b5f-a18a-6d6e161d0b94",
   "metadata": {},
   "outputs": [
    {
     "data": {
      "text/plain": [
       "[Document(page_content='\\n\\n\\n\\n\\n\\nLLM Powered Autonomous Agents | Lil\\'Log\\n\\n\\n\\n\\n\\n\\n\\n\\n\\n\\n\\n\\n\\n\\n\\n\\n\\n\\n\\n\\n\\n\\n\\n\\n\\n\\n\\n\\n\\n\\n\\n\\n\\n\\n\\n\\n\\n\\n\\nLil\\'Log\\n\\n\\n\\n\\n\\n\\n\\n\\n\\n\\n\\n\\n\\n\\n\\n\\n\\n\\n\\n\\n\\n\\nPosts\\n\\n\\n\\n\\nArchive\\n\\n\\n\\n\\nSearch\\n\\n\\n\\n\\nTags\\n\\n\\n\\n\\nFAQ\\n\\n\\n\\n\\nemojisearch.app\\n\\n\\n\\n\\n\\n\\n\\n\\n\\n      LLM Powered Autonomous Agents\\n    \\nDate: June 23, 2023  |  Estimated Reading Time: 31 min  |  Author: Lilian Weng\\n\\n\\n \\n\\n\\nTable of Contents\\n\\n\\n\\nAgent System Overview\\n\\nComponent One: Planning\\n\\nTask Decomposition\\n\\nSelf-Reflection\\n\\n\\nComponent Two: Memory\\n\\nTypes of Memory\\n\\nMaximum Inner Product Search (MIPS)\\n\\n\\nComponent Three: Tool Use\\n\\nCase Studies\\n\\nScientific Discovery Agent\\n\\nGenerative Agents Simulation\\n\\nProof-of-Concept Examples\\n\\n\\nChallenges\\n\\nCitation\\n\\nReferences\\n\\n\\n\\n\\n\\nBuilding agents with LLM (large language model) as its core controller is a cool concept. Several proof-of-concepts demos, such as AutoGPT, GPT-Engineer and BabyAGI, serve as inspiring examples. The potentiality of LLM extends beyond generating well-written copies, stories, essays and programs; it can be framed as a powerful general problem solver.\\nAgent System Overview#\\nIn a LLM-powered autonomous agent system, LLM functions as the agent’s brain, complemented by several key components:\\n\\nPlanning\\n\\nSubgoal and decomposition: The agent breaks down large tasks into smaller, manageable subgoals, enabling efficient handling of complex tasks.\\nReflection and refinement: The agent can do self-criticism and self-reflection over past actions, learn from mistakes and refine them for future steps, thereby improving the quality of final results.\\n\\n\\nMemory\\n\\nShort-term memory: I would consider all the in-context learning (See Prompt Engineering) as utilizing short-term memory of the model to learn.\\nLong-term memory: This provides the agent with the capability to retain and recall (infinite) information over extended periods, often by leveraging an external vector store and fast retrieval.\\n\\n\\nTool use\\n\\nThe agent learns to call external APIs for extra information that is missing from the model weights (often hard to change after pre-training), including current information, code execution capability, access to proprietary information sources and more.\\n\\n\\n\\n\\nFig. 1. Overview of a LLM-powered autonomous agent system.\\nComponent One: Planning#\\nA complicated task usually involves many steps. An agent needs to know what they are and plan ahead.\\nTask Decomposition#\\nChain of thought (CoT; Wei et al. 2022) has become a standard prompting technique for enhancing model performance on complex tasks. The model is instructed to “think step by step” to utilize more test-time computation to decompose hard tasks into smaller and simpler steps. CoT transforms big tasks into multiple manageable tasks and shed lights into an interpretation of the model’s thinking process.\\nTree of Thoughts (Yao et al. 2023) extends CoT by exploring multiple reasoning possibilities at each step. It first decomposes the problem into multiple thought steps and generates multiple thoughts per step, creating a tree structure. The search process can be BFS (breadth-first search) or DFS (depth-first search) with each state evaluated by a classifier (via a prompt) or majority vote.\\nTask decomposition can be done (1) by LLM with simple prompting like \"Steps for XYZ.\\\\n1.\", \"What are the subgoals for achieving XYZ?\", (2) by using task-specific instructions; e.g. \"Write a story outline.\" for writing a novel, or (3) with human inputs.\\nAnother quite distinct approach, LLM+P (Liu et al. 2023), involves relying on an external classical planner to do long-horizon planning. This approach utilizes the Planning Domain Definition Language (PDDL) as an intermediate interface to describe the planning problem. In this process, LLM (1) translates the problem into “Problem PDDL”, then (2) requests a classical planner to generate a PDDL plan based on an existing “Domain PDDL”, and finally (3) translates the PDDL plan back into natural language. Essentially, the planning step is outsourced to an external tool, assuming the availability of domain-specific PDDL and a suitable planner which is common in certain robotic setups but not in many other domains.\\nSelf-Reflection#\\nSelf-reflection is a vital aspect that allows autonomous agents to improve iteratively by refining past action decisions and correcting previous mistakes. It plays a crucial role in real-world tasks where trial and error are inevitable.\\nReAct (Yao et al. 2023) integrates reasoning and acting within LLM by extending the action space to be a combination of task-specific discrete actions and the language space. The former enables LLM to interact with the environment (e.g. use Wikipedia search API), while the latter prompting LLM to generate reasoning traces in natural language.\\nThe ReAct prompt template incorporates explicit steps for LLM to think, roughly formatted as:\\nThought: ...\\nAction: ...\\nObservation: ...\\n... (Repeated many times)\\n\\nFig. 2.  Examples of reasoning trajectories for knowledge-intensive tasks (e.g. HotpotQA, FEVER) and decision-making tasks (e.g. AlfWorld Env, WebShop). (Image source: Yao et al. 2023).\\nIn both experiments on knowledge-intensive tasks and decision-making tasks, ReAct works better than the Act-only baseline where Thought: … step is removed.\\nReflexion (Shinn & Labash 2023) is a framework to equips agents with dynamic memory and self-reflection capabilities to improve reasoning skills. Reflexion has a standard RL setup, in which the reward model provides a simple binary reward and the action space follows the setup in ReAct where the task-specific action space is augmented with language to enable complex reasoning steps. After each action $a_t$, the agent computes a heuristic $h_t$ and optionally may decide to reset the environment to start a new trial depending on the self-reflection results.\\n\\nFig. 3. Illustration of the Reflexion framework. (Image source: Shinn & Labash, 2023)\\nThe heuristic function determines when the trajectory is inefficient or contains hallucination and should be stopped. Inefficient planning refers to trajectories that take too long without success. Hallucination is defined as encountering a sequence of consecutive identical actions that lead to the same observation in the environment.\\nSelf-reflection is created by showing two-shot examples to LLM and each example is a pair of (failed trajectory, ideal reflection for guiding future changes in the plan). Then reflections are added into the agent’s working memory, up to three, to be used as context for querying LLM.\\n\\nFig. 4. Experiments on AlfWorld Env and HotpotQA. Hallucination is a more common failure than inefficient planning in AlfWorld. (Image source: Shinn & Labash, 2023)\\nChain of Hindsight (CoH; Liu et al. 2023) encourages the model to improve on its own outputs by explicitly presenting it with a sequence of past outputs, each annotated with feedback. Human feedback data is a collection of $D_h = \\\\{(x, y_i , r_i , z_i)\\\\}_{i=1}^n$, where $x$ is the prompt, each $y_i$ is a model completion, $r_i$ is the human rating of $y_i$, and $z_i$ is the corresponding human-provided hindsight feedback. Assume the feedback tuples are ranked by reward, $r_n \\\\geq r_{n-1} \\\\geq \\\\dots \\\\geq r_1$ The process is supervised fine-tuning where the data is a sequence in the form of $\\\\tau_h = (x, z_i, y_i, z_j, y_j, \\\\dots, z_n, y_n)$, where $\\\\leq i \\\\leq j \\\\leq n$. The model is finetuned to only predict $y_n$ where conditioned on the sequence prefix, such that the model can self-reflect to produce better output based on the feedback sequence. The model can optionally receive multiple rounds of instructions with human annotators at test time.\\nTo avoid overfitting, CoH adds a regularization term to maximize the log-likelihood of the pre-training dataset. To avoid shortcutting and copying (because there are many common words in feedback sequences), they randomly mask 0% - 5% of past tokens during training.\\nThe training dataset in their experiments is a combination of WebGPT comparisons, summarization from human feedback and human preference dataset.\\n\\nFig. 5. After fine-tuning with CoH, the model can follow instructions to produce outputs with incremental improvement in a sequence. (Image source: Liu et al. 2023)\\nThe idea of CoH is to present a history of sequentially improved outputs  in context and train the model to take on the trend to produce better outputs. Algorithm Distillation (AD; Laskin et al. 2023) applies the same idea to cross-episode trajectories in reinforcement learning tasks, where an algorithm is encapsulated in a long history-conditioned policy. Considering that an agent interacts with the environment many times and in each episode the agent gets a little better, AD concatenates this learning history and feeds that into the model. Hence we should expect the next predicted action to lead to better performance than previous trials. The goal is to learn the process of RL instead of training a task-specific policy itself.\\n\\nFig. 6. Illustration of how Algorithm Distillation (AD) works. (Image source: Laskin et al. 2023).\\nThe paper hypothesizes that any algorithm that generates a set of learning histories can be distilled into a neural network by performing behavioral cloning over actions. The history data is generated by a set of source policies, each trained for a specific task. At the training stage, during each RL run, a random task is sampled and a subsequence of multi-episode history is used for training, such that the learned policy is task-agnostic.\\nIn reality, the model has limited context window length, so episodes should be short enough to construct multi-episode history. Multi-episodic contexts of 2-4 episodes are necessary to learn a near-optimal in-context RL algorithm. The emergence of in-context RL requires long enough context.\\nIn comparison with three baselines, including ED (expert distillation, behavior cloning with expert trajectories instead of learning history), source policy (used for generating trajectories for distillation by UCB), RL^2 (Duan et al. 2017; used as upper bound since it needs online RL), AD demonstrates in-context RL with performance getting close to RL^2 despite only using offline RL and learns much faster than other baselines. When conditioned on partial training history of the source policy, AD also improves much faster than ED baseline.\\n\\nFig. 7. Comparison of AD, ED, source policy and RL^2 on environments that require memory and exploration. Only binary reward is assigned. The source policies are trained with A3C for \"dark\" environments and DQN for watermaze.(Image source: Laskin et al. 2023)\\nComponent Two: Memory#\\n(Big thank you to ChatGPT for helping me draft this section. I’ve learned a lot about the human brain and data structure for fast MIPS in my conversations with ChatGPT.)\\nTypes of Memory#\\nMemory can be defined as the processes used to acquire, store, retain, and later retrieve information. There are several types of memory in human brains.\\n\\n\\nSensory Memory: This is the earliest stage of memory, providing the ability to retain impressions of sensory information (visual, auditory, etc) after the original stimuli have ended. Sensory memory typically only lasts for up to a few seconds. Subcategories include iconic memory (visual), echoic memory (auditory), and haptic memory (touch).\\n\\n\\nShort-Term Memory (STM) or Working Memory: It stores information that we are currently aware of and needed to carry out complex cognitive tasks such as learning and reasoning. Short-term memory is believed to have the capacity of about 7 items (Miller 1956) and lasts for 20-30 seconds.\\n\\n\\nLong-Term Memory (LTM): Long-term memory can store information for a remarkably long time, ranging from a few days to decades, with an essentially unlimited storage capacity. There are two subtypes of LTM:\\n\\nExplicit / declarative memory: This is memory of facts and events, and refers to those memories that can be consciously recalled, including episodic memory (events and experiences) and semantic memory (facts and concepts).\\nImplicit / procedural memory: This type of memory is unconscious and involves skills and routines that are performed automatically, like riding a bike or typing on a keyboard.\\n\\n\\n\\n\\nFig. 8. Categorization of human memory.\\nWe can roughly consider the following mappings:\\n\\nSensory memory as learning embedding representations for raw inputs, including text, image or other modalities;\\nShort-term memory as in-context learning. It is short and finite, as it is restricted by the finite context window length of Transformer.\\nLong-term memory as the external vector store that the agent can attend to at query time, accessible via fast retrieval.\\n\\nMaximum Inner Product Search (MIPS)#\\nThe external memory can alleviate the restriction of finite attention span.  A standard practice is to save the embedding representation of information into a vector store database that can support fast maximum inner-product search (MIPS). To optimize the retrieval speed, the common choice is the approximate nearest neighbors (ANN)\\u200b algorithm to return approximately top k nearest neighbors to trade off a little accuracy lost for a huge speedup.\\nA couple common choices of ANN algorithms for fast MIPS:\\n\\nLSH (Locality-Sensitive Hashing): It introduces a hashing function such that similar input items are mapped to the same buckets with high probability, where the number of buckets is much smaller than the number of inputs.\\nANNOY (Approximate Nearest Neighbors Oh Yeah): The core data structure are random projection trees, a set of binary trees where each non-leaf node represents a hyperplane splitting the input space into half and each leaf stores one data point. Trees are built independently and at random, so to some extent, it mimics a hashing function. ANNOY search happens in all the trees to iteratively search through the half that is closest to the query and then aggregates the results. The idea is quite related to KD tree but a lot more scalable.\\nHNSW (Hierarchical Navigable Small World): It is inspired by the idea of small world networks where most nodes can be reached by any other nodes within a small number of steps; e.g. “six degrees of separation” feature of social networks. HNSW builds hierarchical layers of these small-world graphs, where the bottom layers contain the actual data points. The layers in the middle create shortcuts to speed up search. When performing a search, HNSW starts from a random node in the top layer and navigates towards the target. When it can’t get any closer, it moves down to the next layer, until it reaches the bottom layer. Each move in the upper layers can potentially cover a large distance in the data space, and each move in the lower layers refines the search quality.\\nFAISS (Facebook AI Similarity Search): It operates on the assumption that in high dimensional space, distances between nodes follow a Gaussian distribution and thus there should exist clustering of data points. FAISS applies vector quantization by partitioning the vector space into clusters and then refining the quantization within clusters. Search first looks for cluster candidates with coarse quantization and then further looks into each cluster with finer quantization.\\nScaNN (Scalable Nearest Neighbors): The main innovation in ScaNN is anisotropic vector quantization. It quantizes a data point $x_i$ to $\\\\tilde{x}_i$ such that the inner product $\\\\langle q, x_i \\\\rangle$ is as similar to the original distance of $\\\\angle q, \\\\tilde{x}_i$ as possible, instead of picking the closet quantization centroid points.\\n\\n\\nFig. 9. Comparison of MIPS algorithms, measured in recall@10. (Image source: Google Blog, 2020)\\nCheck more MIPS algorithms and performance comparison in ann-benchmarks.com.\\nComponent Three: Tool Use#\\nTool use is a remarkable and distinguishing characteristic of human beings. We create, modify and utilize external objects to do things that go beyond our physical and cognitive limits. Equipping LLMs with external tools can significantly extend the model capabilities.\\n\\nFig. 10. A picture of a sea otter using rock to crack open a seashell, while floating in the water. While some other animals can use tools, the complexity is not comparable with humans. (Image source: Animals using tools)\\nMRKL (Karpas et al. 2022), short for “Modular Reasoning, Knowledge and Language”, is a neuro-symbolic architecture for autonomous agents. A MRKL system is proposed to contain a collection of “expert” modules and the general-purpose LLM works as a router to route inquiries to the best suitable expert module. These modules can be neural (e.g. deep learning models) or symbolic (e.g. math calculator, currency converter, weather API).\\nThey did an experiment on fine-tuning LLM to call a calculator, using arithmetic as a test case. Their experiments showed that it was harder to solve verbal math problems than explicitly stated math problems because LLMs (7B Jurassic1-large model) failed to extract the right arguments for the basic arithmetic reliably. The results highlight when the external symbolic tools can work reliably, knowing when to and how to use the tools are crucial, determined by the LLM capability.\\nBoth TALM (Tool Augmented Language Models; Parisi et al. 2022) and Toolformer (Schick et al. 2023) fine-tune a LM to learn to use external tool APIs. The dataset is expanded based on whether a newly added API call annotation can improve the quality of model outputs. See more details in the “External APIs” section of Prompt Engineering.\\nChatGPT Plugins and OpenAI API  function calling are good examples of LLMs augmented with tool use capability working in practice. The collection of tool APIs can be provided by other developers (as in Plugins) or self-defined (as in function calls).\\nHuggingGPT (Shen et al. 2023) is a framework to use ChatGPT as the task planner to select models available in HuggingFace platform according to the model descriptions and summarize the response based on the execution results.\\n\\nFig. 11. Illustration of how HuggingGPT works. (Image source: Shen et al. 2023)\\nThe system comprises of 4 stages:\\n(1) Task planning: LLM works as the brain and parses the user requests into multiple tasks. There are four attributes associated with each task: task type, ID, dependencies, and arguments. They use few-shot examples to guide LLM to do task parsing and planning.\\nInstruction:\\n\\nThe AI assistant can parse user input to several tasks: [{\"task\": task, \"id\", task_id, \"dep\": dependency_task_ids, \"args\": {\"text\": text, \"image\": URL, \"audio\": URL, \"video\": URL}}]. The \"dep\" field denotes the id of the previous task which generates a new resource that the current task relies on. A special tag \"-task_id\" refers to the generated text image, audio and video in the dependency task with id as task_id. The task MUST be selected from the following options: {{ Available Task List }}. There is a logical relationship between tasks, please note their order. If the user input can\\'t be parsed, you need to reply empty JSON. Here are several cases for your reference: {{ Demonstrations }}. The chat history is recorded as {{ Chat History }}. From this chat history, you can find the path of the user-mentioned resources for your task planning.\\n\\n(2) Model selection: LLM distributes the tasks to expert models, where the request is framed as a multiple-choice question. LLM is presented with a list of models to choose from. Due to the limited context length, task type based filtration is needed.\\nInstruction:\\n\\nGiven the user request and the call command, the AI assistant helps the user to select a suitable model from a list of models to process the user request. The AI assistant merely outputs the model id of the most appropriate model. The output must be in a strict JSON format: \"id\": \"id\", \"reason\": \"your detail reason for the choice\". We have a list of models for you to choose from {{ Candidate Models }}. Please select one model from the list.\\n\\n(3) Task execution: Expert models execute on the specific tasks and log results.\\nInstruction:\\n\\nWith the input and the inference results, the AI assistant needs to describe the process and results. The previous stages can be formed as - User Input: {{ User Input }}, Task Planning: {{ Tasks }}, Model Selection: {{ Model Assignment }}, Task Execution: {{ Predictions }}. You must first answer the user\\'s request in a straightforward manner. Then describe the task process and show your analysis and model inference results to the user in the first person. If inference results contain a file path, must tell the user the complete file path.\\n\\n(4) Response generation: LLM receives the execution results and provides summarized results to users.\\nTo put HuggingGPT into real world usage, a couple challenges need to solve: (1) Efficiency improvement is needed as both LLM inference rounds and interactions with other models slow down the process; (2) It relies on a long context window to communicate over complicated task content; (3) Stability improvement of LLM outputs and external model services.\\nAPI-Bank (Li et al. 2023) is a benchmark for evaluating the performance of tool-augmented LLMs. It contains 53 commonly used API tools, a complete tool-augmented LLM workflow, and 264 annotated dialogues that involve 568 API calls. The selection of APIs is quite diverse, including search engines, calculator, calendar queries, smart home control, schedule management, health data management, account authentication workflow and more. Because there are a large number of APIs, LLM first has access to API search engine to find the right API to call and then uses the corresponding documentation to make a call.\\n\\nFig. 12. Pseudo code of how LLM makes an API call in API-Bank. (Image source: Li et al. 2023)\\nIn the API-Bank workflow, LLMs need to make a couple of decisions and at each step we can evaluate how accurate that decision is. Decisions include:\\n\\nWhether an API call is needed.\\nIdentify the right API to call: if not good enough, LLMs need to iteratively modify the API inputs (e.g. deciding search keywords for Search Engine API).\\nResponse based on the API results: the model can choose to refine and call again if results are not satisfied.\\n\\nThis benchmark evaluates the agent’s tool use capabilities at three levels:\\n\\nLevel-1 evaluates the ability to call the API. Given an API’s description, the model needs to determine whether to call a given API, call it correctly, and respond properly to API returns.\\nLevel-2 examines the ability to retrieve the API. The model needs to search for possible APIs that may solve the user’s requirement and learn how to use them by reading documentation.\\nLevel-3 assesses the ability to plan API beyond retrieve and call. Given unclear user requests (e.g. schedule group meetings, book flight/hotel/restaurant for a trip), the model may have to conduct multiple API calls to solve it.\\n\\nCase Studies#\\nScientific Discovery Agent#\\nChemCrow (Bran et al. 2023) is a domain-specific example in which LLM is augmented with 13 expert-designed tools to accomplish tasks across organic synthesis, drug discovery, and materials design. The workflow, implemented in LangChain, reflects what was previously described in the ReAct and MRKLs and combines CoT reasoning with tools relevant to the tasks:\\n\\nThe LLM is provided with a list of tool names, descriptions of their utility, and details about the expected input/output.\\nIt is then instructed to answer a user-given prompt using the tools provided when necessary. The instruction suggests the model to follow the ReAct format - Thought, Action, Action Input, Observation.\\n\\nOne interesting observation is that while the LLM-based evaluation concluded that GPT-4 and ChemCrow perform nearly equivalently, human evaluations with experts oriented towards the completion and chemical correctness of the solutions showed that ChemCrow outperforms GPT-4 by a large margin. This indicates a potential problem with using LLM to evaluate its own performance on domains that requires deep expertise. The lack of expertise may cause LLMs not knowing its flaws and thus cannot well judge the correctness of task results.\\nBoiko et al. (2023) also looked into LLM-empowered agents for scientific discovery, to handle autonomous design, planning, and performance of complex scientific experiments. This agent can use tools to browse the Internet, read documentation, execute code, call robotics experimentation APIs and leverage other LLMs.\\nFor example, when requested to \"develop a novel anticancer drug\", the model came up with the following reasoning steps:\\n\\ninquired about current trends in anticancer drug discovery;\\nselected a target;\\nrequested a scaffold targeting these compounds;\\nOnce the compound was identified, the model attempted its synthesis.\\n\\nThey also discussed the risks, especially with illicit drugs and bioweapons. They developed a test set containing a list of known chemical weapon agents and asked the agent to synthesize them. 4 out of 11 requests (36%) were accepted to obtain a synthesis solution and the agent attempted to consult documentation to execute the procedure. 7 out of 11 were rejected and among these 7 rejected cases, 5 happened after a Web search while 2 were rejected based on prompt only.\\nGenerative Agents Simulation#\\nGenerative Agents (Park, et al. 2023) is super fun experiment where 25 virtual characters, each controlled by a LLM-powered agent, are living and interacting in a sandbox environment, inspired by The Sims. Generative agents create believable simulacra of human behavior for interactive applications.\\nThe design of generative agents combines LLM with memory, planning and reflection mechanisms to enable agents to behave conditioned on past experience, as well as to interact with other agents.\\n\\nMemory stream: is a long-term memory module (external database) that records a comprehensive list of agents’ experience in natural language.\\n\\nEach element is an observation, an event directly provided by the agent.\\n- Inter-agent communication can trigger new natural language statements.\\n\\n\\nRetrieval model: surfaces the context to inform the agent’s behavior, according to relevance, recency and importance.\\n\\nRecency: recent events have higher scores\\nImportance: distinguish mundane from core memories. Ask LM directly.\\nRelevance: based on how related it is to the current situation / query.\\n\\n\\nReflection mechanism: synthesizes memories into higher level inferences over time and guides the agent’s future behavior. They are higher-level summaries of past events (<- note that this is a bit different from self-reflection above)\\n\\nPrompt LM with 100 most recent observations and to generate 3 most salient high-level questions given a set of observations/statements. Then ask LM to answer those questions.\\n\\n\\nPlanning & Reacting: translate the reflections and the environment information into actions\\n\\nPlanning is essentially in order to optimize believability at the moment vs in time.\\nPrompt template: {Intro of an agent X}. Here is X\\'s plan today in broad strokes: 1)\\nRelationships between agents and observations of one agent by another are all taken into consideration for planning and reacting.\\nEnvironment information is present in a tree structure.\\n\\n\\n\\n\\nFig. 13. The generative agent architecture. (Image source: Park et al. 2023)\\nThis fun simulation results in emergent social behavior, such as information diffusion, relationship memory (e.g. two agents continuing the conversation topic) and coordination of social events (e.g. host a party and invite many others).\\nProof-of-Concept Examples#\\nAutoGPT has drawn a lot of attention into the possibility of setting up autonomous agents with LLM as the main controller. It has quite a lot of reliability issues given the natural language interface, but nevertheless a cool proof-of-concept demo. A lot of code in AutoGPT is about format parsing.\\nHere is the system message used by AutoGPT, where {{...}} are user inputs:\\nYou are {{ai-name}}, {{user-provided AI bot description}}.\\nYour decisions must always be made independently without seeking user assistance. Play to your strengths as an LLM and pursue simple strategies with no legal complications.\\n\\nGOALS:\\n\\n1. {{user-provided goal 1}}\\n2. {{user-provided goal 2}}\\n3. ...\\n4. ...\\n5. ...\\n\\nConstraints:\\n1. ~4000 word limit for short term memory. Your short term memory is short, so immediately save important information to files.\\n2. If you are unsure how you previously did something or want to recall past events, thinking about similar events will help you remember.\\n3. No user assistance\\n4. Exclusively use the commands listed in double quotes e.g. \"command name\"\\n5. Use subprocesses for commands that will not terminate within a few minutes\\n\\nCommands:\\n1. Google Search: \"google\", args: \"input\": \"<search>\"\\n2. Browse Website: \"browse_website\", args: \"url\": \"<url>\", \"question\": \"<what_you_want_to_find_on_website>\"\\n3. Start GPT Agent: \"start_agent\", args: \"name\": \"<name>\", \"task\": \"<short_task_desc>\", \"prompt\": \"<prompt>\"\\n4. Message GPT Agent: \"message_agent\", args: \"key\": \"<key>\", \"message\": \"<message>\"\\n5. List GPT Agents: \"list_agents\", args:\\n6. Delete GPT Agent: \"delete_agent\", args: \"key\": \"<key>\"\\n7. Clone Repository: \"clone_repository\", args: \"repository_url\": \"<url>\", \"clone_path\": \"<directory>\"\\n8. Write to file: \"write_to_file\", args: \"file\": \"<file>\", \"text\": \"<text>\"\\n9. Read file: \"read_file\", args: \"file\": \"<file>\"\\n10. Append to file: \"append_to_file\", args: \"file\": \"<file>\", \"text\": \"<text>\"\\n11. Delete file: \"delete_file\", args: \"file\": \"<file>\"\\n12. Search Files: \"search_files\", args: \"directory\": \"<directory>\"\\n13. Analyze Code: \"analyze_code\", args: \"code\": \"<full_code_string>\"\\n14. Get Improved Code: \"improve_code\", args: \"suggestions\": \"<list_of_suggestions>\", \"code\": \"<full_code_string>\"\\n15. Write Tests: \"write_tests\", args: \"code\": \"<full_code_string>\", \"focus\": \"<list_of_focus_areas>\"\\n16. Execute Python File: \"execute_python_file\", args: \"file\": \"<file>\"\\n17. Generate Image: \"generate_image\", args: \"prompt\": \"<prompt>\"\\n18. Send Tweet: \"send_tweet\", args: \"text\": \"<text>\"\\n19. Do Nothing: \"do_nothing\", args:\\n20. Task Complete (Shutdown): \"task_complete\", args: \"reason\": \"<reason>\"\\n\\nResources:\\n1. Internet access for searches and information gathering.\\n2. Long Term memory management.\\n3. GPT-3.5 powered Agents for delegation of simple tasks.\\n4. File output.\\n\\nPerformance Evaluation:\\n1. Continuously review and analyze your actions to ensure you are performing to the best of your abilities.\\n2. Constructively self-criticize your big-picture behavior constantly.\\n3. Reflect on past decisions and strategies to refine your approach.\\n4. Every command has a cost, so be smart and efficient. Aim to complete tasks in the least number of steps.\\n\\nYou should only respond in JSON format as described below\\nResponse Format:\\n{\\n    \"thoughts\": {\\n        \"text\": \"thought\",\\n        \"reasoning\": \"reasoning\",\\n        \"plan\": \"- short bulleted\\\\n- list that conveys\\\\n- long-term plan\",\\n        \"criticism\": \"constructive self-criticism\",\\n        \"speak\": \"thoughts summary to say to user\"\\n    },\\n    \"command\": {\\n        \"name\": \"command name\",\\n        \"args\": {\\n            \"arg name\": \"value\"\\n        }\\n    }\\n}\\nEnsure the response can be parsed by Python json.loads\\nGPT-Engineer is another project to create a whole repository of code given a task specified in natural language. The GPT-Engineer is instructed to think over a list of smaller components to build and ask for user input to clarify questions as needed.\\nHere are a sample conversation for task clarification sent to OpenAI ChatCompletion endpoint used by GPT-Engineer. The user inputs are wrapped in {{user input text}}.\\n[\\n  {\\n    \"role\": \"system\",\\n    \"content\": \"You will read instructions and not carry them out, only seek to clarify them.\\\\nSpecifically you will first summarise a list of super short bullets of areas that need clarification.\\\\nThen you will pick one clarifying question, and wait for an answer from the user.\\\\n\"\\n  },\\n  {\\n    \"role\": \"user\",\\n    \"content\": \"We are writing {{a Super Mario game in python. MVC components split in separate files. Keyboard control.}}\\\\n\"\\n  },\\n  {\\n    \"role\": \"assistant\",\\n    \"content\": \"Summary of areas that need clarification:\\\\n1. Specifics of the Super Mario game (e.g. level design, characters, gameplay mechanics)\\\\n2. Details about the MVC components (e.g. which components are in each file)\\\\n3. Keyboard control implementation (e.g. which keys to use, how to handle input)\\\\n\\\\nClarifying question:\\\\nCan you provide more details about the Super Mario game, such as level design, characters, and gameplay mechanics?\"\\n  },\\n  {\\n    \"role\": \"user\",\\n    \"content\": \"{{There are 10 levels in total. The main character is a plumber named Mario, who can walk and jump. It is a classical platform game just like Super Mario. The main character moves from left to right, trying to get to the destination, where there are many obstacles and attacks from enemies in the process.}}\\\\n\\\\nIs anything else unclear? If yes, only answer in the form:\\\\n{remaining unclear areas} remaining questions.\\\\n{Next question}\\\\nIf everything is sufficiently clear, only answer \\\\\"Nothing more to clarify.\\\\\".\"\\n  },\\n  {\\n    \"role\": \"assistant\",\\n    \"content\": \"Remaining unclear areas: 2 remaining questions.\\\\nCan you provide more information about how the MVC components are split into separate files?\"\\n  },\\n  {\\n    \"role\": \"user\",\\n    \"content\": \"{{Make your own assumptions and state them explicitly before starting}}\"\\n  }\\n]\\nThen after these clarification, the agent moved into the code writing mode with a different system message.\\nSystem message:\\n\\nYou will get instructions for code to write.\\nYou will write a very long answer. Make sure that every detail of the architecture is, in the end, implemented as code.\\nMake sure that every detail of the architecture is, in the end, implemented as code.\\nThink step by step and reason yourself to the right decisions to make sure we get it right.\\nYou will first lay out the names of the core classes, functions, methods that will be necessary, as well as a quick comment on their purpose.\\nThen you will output the content of each file including ALL code.\\nEach file must strictly follow a markdown code block format, where the following tokens must be replaced such that\\nFILENAME is the lowercase file name including the file extension,\\nLANG is the markup code block language for the code’s language, and CODE is the code:\\nFILENAME\\nCODE\\nYou will start with the “entrypoint” file, then go to the ones that are imported by that file, and so on.\\nPlease note that the code should be fully functional. No placeholders.\\nFollow a language and framework appropriate best practice file naming convention.\\nMake sure that files contain all imports, types etc. Make sure that code in different files are compatible with each other.\\nEnsure to implement all code, if you are unsure, write a plausible implementation.\\nInclude module dependency or package manager dependency definition file.\\nBefore you finish, double check that all parts of the architecture is present in the files.\\nUseful to know:\\nYou almost always put different classes in different files.\\nFor Python, you always create an appropriate requirements.txt file.\\nFor NodeJS, you always create an appropriate package.json file.\\nYou always add a comment briefly describing the purpose of the function definition.\\nYou try to add comments explaining very complex bits of logic.\\nYou always follow the best practices for the requested languages in terms of describing the code written as a defined\\npackage/project.\\nPython toolbelt preferences:\\n\\npytest\\ndataclasses\\n\\n\\nConversatin samples:\\n[\\n  {\\n    \"role\": \"system\",\\n    \"content\": \"You will get instructions for code to write.\\\\nYou will write a very long answer. Make sure that every detail of the architecture is, in the end, implemented as code.\\\\nMake sure that every detail of the architecture is, in the end, implemented as code.\\\\n\\\\nThink step by step and reason yourself to the right decisions to make sure we get it right.\\\\nYou will first lay out the names of the core classes, functions, methods that will be necessary, as well as a quick comment on their purpose.\\\\n\\\\nThen you will output the content of each file including ALL code.\\\\nEach file must strictly follow a markdown code block format, where the following tokens must be replaced such that\\\\nFILENAME is the lowercase file name including the file extension,\\\\nLANG is the markup code block language for the code\\'s language, and CODE is the code:\\\\n\\\\nFILENAME\\\\n```LANG\\\\nCODE\\\\n```\\\\n\\\\nYou will start with the \\\\\"entrypoint\\\\\" file, then go to the ones that are imported by that file, and so on.\\\\nPlease note that the code should be fully functional. No placeholders.\\\\n\\\\nFollow a language and framework appropriate best practice file naming convention.\\\\nMake sure that files contain all imports, types etc. Make sure that code in different files are compatible with each other.\\\\nEnsure to implement all code, if you are unsure, write a plausible implementation.\\\\nInclude module dependency or package manager dependency definition file.\\\\nBefore you finish, double check that all parts of the architecture is present in the files.\\\\n\\\\nUseful to know:\\\\nYou almost always put different classes in different files.\\\\nFor Python, you always create an appropriate requirements.txt file.\\\\nFor NodeJS, you always create an appropriate package.json file.\\\\nYou always add a comment briefly describing the purpose of the function definition.\\\\nYou try to add comments explaining very complex bits of logic.\\\\nYou always follow the best practices for the requested languages in terms of describing the code written as a defined\\\\npackage/project.\\\\n\\\\n\\\\nPython toolbelt preferences:\\\\n- pytest\\\\n- dataclasses\\\\n\"\\n  },\\n #  … same conversation as earlier, ended with \"Make your own assumptions and state them explicitly before starting\".\\n  {\\n    \"role\": \"assistant\",\\n    \"content\": \"Assumptions:\\\\n1. Model: The model will contain the game\\'s data, such as level information, character states, and enemy positions.\\\\n2. View: The view will handle the game\\'s visuals, including rendering the game objects, backgrounds, and updating the display.\\\\n3. Controller: The controller will manage user input, such as keyboard controls, and update the model accordingly.\\\\n\\\\nWith these assumptions in mind, is there any specific aspect of the keyboard control implementation you would like me to clarify?\"\\n  },\\n  {\\n    \"role\": \"user\",\\n    \"content\": \"Please now remember the steps:\\\\n\\\\nThink step by step and reason yourself to the right decisions to make sure we get it right.\\\\nFirst lay out the names of the core classes, functions, methods that will be necessary, As well as a quick comment on their purpose.\\\\n\\\\nThen you will output the content of each file including ALL code.\\\\nEach file must strictly follow a markdown code block format, where the following tokens must be replaced such that\\\\nFILENAME is the lowercase file name including the file extension,\\\\nLANG is the markup code block language for the code\\'s language, and CODE is the code:\\\\n\\\\nFILENAME\\\\n```LANG\\\\nCODE\\\\n```\\\\n\\\\nPlease note that the code should be fully functional. No placeholders.\\\\n\\\\nYou will start with the \\\\\"entrypoint\\\\\" file, then go to the ones that are imported by that file, and so on.\\\\nFollow a language and framework appropriate best practice file naming convention.\\\\nMake sure that files contain all imports, types etc. The code should be fully functional. Make sure that code in different files are compatible with each other.\\\\nBefore you finish, double check that all parts of the architecture is present in the files.\\\\n\"\\n  }\\n]\\nChallenges#\\nAfter going through key ideas and demos of building LLM-centered agents, I start to see a couple common limitations:\\n\\n\\nFinite context length: The restricted context capacity limits the inclusion of historical information, detailed instructions, API call context, and responses. The design of the system has to work with this limited communication bandwidth, while mechanisms like self-reflection to learn from past mistakes would benefit a lot from long or infinite context windows. Although vector stores and retrieval can provide access to a larger knowledge pool, their representation power is not as powerful as full attention.\\n\\n\\nChallenges in long-term planning and task decomposition: Planning over a lengthy history and effectively exploring the solution space remain challenging. LLMs struggle to adjust plans when faced with unexpected errors, making them less robust compared to humans who learn from trial and error.\\n\\n\\nReliability of natural language interface: Current agent system relies on natural language as an interface between LLMs and external components such as memory and tools. However, the reliability of model outputs is questionable, as LLMs may make formatting errors and occasionally exhibit rebellious behavior (e.g. refuse to follow an instruction). Consequently, much of the agent demo code focuses on parsing model output.\\n\\n\\nCitation#\\nCited as:\\n\\nWeng, Lilian. (Jun 2023). LLM-powered Autonomous Agents\". Lil’Log. https://lilianweng.github.io/posts/2023-06-23-agent/.\\n\\nOr\\n@article{weng2023prompt,\\n  title   = \"LLM-powered Autonomous Agents\"\",\\n  author  = \"Weng, Lilian\",\\n  journal = \"lilianweng.github.io\",\\n  year    = \"2023\",\\n  month   = \"Jun\",\\n  url     = \"https://lilianweng.github.io/posts/2023-06-23-agent/\"\\n}\\nReferences#\\n[1] Wei et al. “Chain of thought prompting elicits reasoning in large language models.” NeurIPS 2022\\n[2] Yao et al. “Tree of Thoughts: Dliberate Problem Solving with Large Language Models.” arXiv preprint arXiv:2305.10601 (2023).\\n[3] Liu et al. “Chain of Hindsight Aligns Language Models with Feedback\\n“ arXiv preprint arXiv:2302.02676 (2023).\\n[4] Liu et al. “LLM+P: Empowering Large Language Models with Optimal Planning Proficiency” arXiv preprint arXiv:2304.11477 (2023).\\n[5] Yao et al. “ReAct: Synergizing reasoning and acting in language models.” ICLR 2023.\\n[6] Google Blog. “Announcing ScaNN: Efficient Vector Similarity Search” July 28, 2020.\\n[7] https://chat.openai.com/share/46ff149e-a4c7-4dd7-a800-fc4a642ea389\\n[8] Shinn & Labash. “Reflexion: an autonomous agent with dynamic memory and self-reflection” arXiv preprint arXiv:2303.11366 (2023).\\n[9] Laskin et al. “In-context Reinforcement Learning with Algorithm Distillation” ICLR 2023.\\n[10] Karpas et al. “MRKL Systems A modular, neuro-symbolic architecture that combines large language models, external knowledge sources and discrete reasoning.” arXiv preprint arXiv:2205.00445 (2022).\\n[11] Weaviate Blog. Why is Vector Search so fast? Sep 13, 2022.\\n[12] Li et al. “API-Bank: A Benchmark for Tool-Augmented LLMs” arXiv preprint arXiv:2304.08244 (2023).\\n[13] Shen et al. “HuggingGPT: Solving AI Tasks with ChatGPT and its Friends in HuggingFace” arXiv preprint arXiv:2303.17580 (2023).\\n[14] Bran et al. “ChemCrow: Augmenting large-language models with chemistry tools.” arXiv preprint arXiv:2304.05376 (2023).\\n[15] Boiko et al. “Emergent autonomous scientific research capabilities of large language models.” arXiv preprint arXiv:2304.05332 (2023).\\n[16] Joon Sung Park, et al. “Generative Agents: Interactive Simulacra of Human Behavior.” arXiv preprint arXiv:2304.03442 (2023).\\n[17] AutoGPT. https://github.com/Significant-Gravitas/Auto-GPT\\n[18] GPT-Engineer. https://github.com/AntonOsika/gpt-engineer\\n\\n\\n\\nnlp\\nlanguage-model\\nagent\\nsteerability\\nprompting\\n\\n\\n\\n« \\n\\nAdversarial Attacks on LLMs\\n\\n\\n »\\n\\nPrompt Engineering\\n\\n\\n\\n\\n\\n\\n\\n\\n\\n\\n\\n\\n\\n\\n\\n\\n\\n\\n\\n\\n\\n\\n\\n\\n\\n\\n\\n\\n\\n\\n\\n\\n\\n\\n\\n\\n\\n\\n© 2023 Lil\\'Log\\n\\n        Powered by\\n        Hugo &\\n        PaperMod\\n\\n\\n\\n\\n\\n\\n\\n\\n\\n\\n\\n\\n\\n', metadata={'source': 'https://lilianweng.github.io/posts/2023-06-23-agent/', 'title': \"LLM Powered Autonomous Agents | Lil'Log\", 'description': 'Building agents with LLM (large language model) as its core controller is a cool concept. Several proof-of-concepts demos, such as AutoGPT, GPT-Engineer and BabyAGI, serve as inspiring examples. The potentiality of LLM extends beyond generating well-written copies, stories, essays and programs; it can be framed as a powerful general problem solver.\\nAgent System Overview In a LLM-powered autonomous agent system, LLM functions as the agent’s brain, complemented by several key components:', 'language': 'en'})]"
      ]
     },
     "execution_count": 2,
     "metadata": {},
     "output_type": "execute_result"
    }
   ],
   "source": [
    "# STEP 1: LOAD\n",
    "from langchain.document_loaders import WebBaseLoader\n",
    "\n",
    "loader = WebBaseLoader(\"https://lilianweng.github.io/posts/2023-06-23-agent/\")\n",
    "data = loader.load()\n",
    "data"
   ]
  },
  {
   "cell_type": "code",
   "execution_count": 3,
   "id": "9383bc50-e76c-494b-bd42-b507d73c49fa",
   "metadata": {},
   "outputs": [
    {
     "data": {
      "text/plain": [
       "1"
      ]
     },
     "execution_count": 3,
     "metadata": {},
     "output_type": "execute_result"
    }
   ],
   "source": [
    "len(data)"
   ]
  },
  {
   "cell_type": "code",
   "execution_count": 4,
   "id": "00cf74a7-6666-4f99-ae89-ab06b06a3cee",
   "metadata": {},
   "outputs": [
    {
     "data": {
      "text/plain": [
       "43595"
      ]
     },
     "execution_count": 4,
     "metadata": {},
     "output_type": "execute_result"
    }
   ],
   "source": [
    "len(data[0].page_content)"
   ]
  },
  {
   "cell_type": "code",
   "execution_count": 5,
   "id": "a49207ca-28f5-46c4-ac81-45f6884c7ca5",
   "metadata": {},
   "outputs": [
    {
     "data": {
      "text/plain": [
       "'https://lilianweng.github.io/posts/2023-06-23-agent/'"
      ]
     },
     "execution_count": 5,
     "metadata": {},
     "output_type": "execute_result"
    }
   ],
   "source": [
    "# I print just metadata because the page_content is too long\n",
    "data[0].metadata['source']"
   ]
  },
  {
   "cell_type": "code",
   "execution_count": 6,
   "id": "629362a2-8881-47be-a8e0-37b2590c6ab5",
   "metadata": {},
   "outputs": [],
   "source": [
    "# STEP 2: SPLIT\n",
    "from langchain.text_splitter import RecursiveCharacterTextSplitter\n",
    "\n",
    "text_splitter = RecursiveCharacterTextSplitter(chunk_size = 500, chunk_overlap = 0)\n",
    "all_splits = text_splitter.split_documents(data)"
   ]
  },
  {
   "cell_type": "code",
   "execution_count": 7,
   "id": "0cc62dbd-4480-466b-bcf7-95a56fed857b",
   "metadata": {},
   "outputs": [
    {
     "name": "stdout",
     "output_type": "stream",
     "text": [
      "Number of splits: 130. Here they are:\n",
      "\n",
      "- first split (492): page_content=\"LLM Powered Autonomous Agents | Lil'Log\\n\\n\\n\\n\\n\\n\\n\\n\\n\\n\\n\\n\\n\\n\\n\\n\\n\\n\\n\\n\\n\\n\\n\\n\\n\\n\\n\\n\\n\\n\\n\\n\\n\\n\\n\\n\\n\\n\\n\\nLil'Log\\n\\n\\n\\n\\n\\n\\n\\n\\n\\n\\n\\n\\n\\n\\n\\n\\n\\n\\n\\n\\n\\n\\nPosts\\n\\n\\n\\n\\nArchive\\n\\n\\n\\n\\nSearch\\n\\n\\n\\n\\nTags\\n\\n\\n\\n\\nFAQ\\n\\n\\n\\n\\nemojisearch.app\\n\\n\\n\\n\\n\\n\\n\\n\\n\\n      LLM Powered Autonomous Agents\\n    \\nDate: June 23, 2023  |  Estimated Reading Time: 31 min  |  Author: Lilian Weng\\n\\n\\n \\n\\n\\nTable of Contents\\n\\n\\n\\nAgent System Overview\\n\\nComponent One: Planning\\n\\nTask Decomposition\\n\\nSelf-Reflection\\n\\n\\nComponent Two: Memory\\n\\nTypes of Memory\\n\\nMaximum Inner Product Search (MIPS)\" metadata={'source': 'https://lilianweng.github.io/posts/2023-06-23-agent/', 'title': \"LLM Powered Autonomous Agents | Lil'Log\", 'description': 'Building agents with LLM (large language model) as its core controller is a cool concept. Several proof-of-concepts demos, such as AutoGPT, GPT-Engineer and BabyAGI, serve as inspiring examples. The potentiality of LLM extends beyond generating well-written copies, stories, essays and programs; it can be framed as a powerful general problem solver.\\nAgent System Overview In a LLM-powered autonomous agent system, LLM functions as the agent’s brain, complemented by several key components:', 'language': 'en'}\n",
      "\n",
      "- second split (159): page_content='Component Three: Tool Use\\n\\nCase Studies\\n\\nScientific Discovery Agent\\n\\nGenerative Agents Simulation\\n\\nProof-of-Concept Examples\\n\\n\\nChallenges\\n\\nCitation\\n\\nReferences' metadata={'source': 'https://lilianweng.github.io/posts/2023-06-23-agent/', 'title': \"LLM Powered Autonomous Agents | Lil'Log\", 'description': 'Building agents with LLM (large language model) as its core controller is a cool concept. Several proof-of-concepts demos, such as AutoGPT, GPT-Engineer and BabyAGI, serve as inspiring examples. The potentiality of LLM extends beyond generating well-written copies, stories, essays and programs; it can be framed as a powerful general problem solver.\\nAgent System Overview In a LLM-powered autonomous agent system, LLM functions as the agent’s brain, complemented by several key components:', 'language': 'en'}\n"
     ]
    }
   ],
   "source": [
    "print(f\"Number of splits: {len(all_splits)}. Here they are:\\n\")\n",
    "print (f\"- first split ({len(all_splits[0].page_content)}): {all_splits[0]}\\n\\n- second split ({len(all_splits[1].page_content)}): {all_splits[1]}\")"
   ]
  },
  {
   "cell_type": "code",
   "execution_count": 8,
   "id": "05134740-abe2-4270-b182-0e32408080bd",
   "metadata": {},
   "outputs": [],
   "source": [
    "# STEP 3: STORE\n",
    "\n",
    "from langchain.embeddings import AzureOpenAIEmbeddings\n",
    "from langchain.vectorstores import Chroma\n",
    "\n",
    "embeddings_model = AzureOpenAIEmbeddings(deployment=os.environ[\"EMBEDDING_DEPLOYMENT\"])\n",
    "\n",
    "my_embedded_words = embeddings_model.embed_documents(['hamburger', 'elephant']) # just for testing\n",
    "\n",
    "vectorstore = Chroma.from_documents(documents=all_splits[:16], embedding=embeddings_model)"
   ]
  },
  {
   "cell_type": "code",
   "execution_count": 9,
   "id": "a1a183ab-3f8b-482e-b684-ce580cbdec2e",
   "metadata": {},
   "outputs": [
    {
     "name": "stdout",
     "output_type": "stream",
     "text": [
      "shape: (2, 1536)\n",
      "First element: [-0.014050570133534048, -0.010806334995488017, 0.007523200842313588, -0.03023284261768427, -0.008697971588287598, 0.026576270934358, -0.03759266387116834, -0.038806337357561, -0.020741317150938906, -0.016462350049687508, 0.00029417895328643766, 0.008503473253016636, 4.8199154943603565e-05, -0.02083467664989219, -0.004578493941522241, 0.004096137772027037, 0.030279522367160912, 0.010697415890483376, 0.03581884084163649, -0.01986996431090178, -0.013482633802449961, -0.003930814047348335, 0.021799388988882597, 0.007087524422295024, -0.01431508809301997, -0.00334342867436133, 0.008316755186432637, -0.004100027906370517, -0.018749652186107527, 0.020787996900415547, 0.004629063825342362, -0.00441511528401528, -0.02600055526590951, -0.009631564715175287, 0.009374826093053764, 0.011825507352642027, 0.007153653912166505, -0.020570158690406265, 0.01783161959659376, 0.013467074196398601, 0.03560100076898208, 0.002804667885192065, -0.0043995556779639206, 0.008332314792483995, -0.010541817036002094, 0.01968324531299522, 0.02232842490785444, -0.0036604613520084734, -0.030404001078216912, 0.003998888604391556, 0.0050803003170735665, 0.0070680746819001845, -0.018018338594500322, 0.002407891178793822, 0.0025732149034725237, -0.01005946086650689, 0.0064845792104260185, 0.008277854774320394, 0.009086968258829521, -0.012626840568464193, 0.01431508809301997, -0.019714364525097935, -0.008931370335670801, 0.00776437892706119, -0.02556487884589095, -0.008449014166175597, -0.008480133378278316, -0.0018681578560386868, 0.008091136707736394, 0.007667129759425709, 0.017987219382397605, 0.009141428276993123, 0.006274520803442416, -0.012245624166609232, 0.01576215567018302, 0.00667907754569698, -0.009180327757782802, -0.004555154066783921, -0.0035320922737783517, 0.015692136977290622, 0.0240555719131999, -0.03174215141302045, 0.010580717448114337, 0.020430119441976344, 0.03127535391825404, 0.01534982005622534, -0.023355377533695414, 0.024288968797937977, -0.0032111699274490093, -0.026856349431217844, 0.004150597324529357, 0.02802333944284361, -0.007476521558498228, -0.0056015559673584505, -0.02741650456229241, -0.003135315334549468, -0.002411781080306662, 0.039926647619710126, -0.008067796832998074, -0.03357821659204798, 0.002759933435717805, 0.0019770769610433277, -0.01205112583133827, -0.018142817305556322, 0.0086901922509232, 0.011280911827618824, 0.024071130587928695, -0.003722700707536473, -0.005846624186449533, -0.015202000539108456, -0.02898805178183402, 0.018702972436630886, 0.007927757584568151, -0.03535204334687008, 0.003180050016854369, -0.013482633802449961, 0.020679076864088344, 0.0030069464891499874, -0.0044306753557279204, -0.03420061200997311, 0.022281745158377803, 0.004967491077725445, 0.026358432724348718, 0.014198388719328369, 0.003685746061087893, 0.011452070288151464, -0.005877743864213533, 0.007441511746390747, -0.00037611141543638586, -0.021612669990976035, 0.043287582131447754, 0.016742428546547353, 0.01882745301033201, -0.015443178623856059, 0.001216587943936621, 0.029112532355535146, -0.03304918067307614, 0.0220327877362658, -0.006838566534521742, -0.036378994110065926, 0.023013058749985008, 0.0055937761643327704, -0.02849013693761002, -0.01446290667881429, -0.007488191030206107, -0.013638232656931242, -0.011631009017371066, 0.008161156331951355, -0.013630453319566844, -0.009320367006212724, 0.01780050038449104, -0.024195609298984698, 0.005585996361307091, -0.03144651237878668, 0.04039344138918628, 0.0043023060446671585, -0.013887191010365806, 0.016026673629668944, 0.00671019722346098, -0.02905029206868458, -0.00994276242413785, 0.001221450379035331, 0.011794387209216746, 0.006037232853038295, 0.026809669681741203, 0.03510308592475808, -0.008161156331951355, 0.027805501232834328, 0.01784718013396768, -0.02537816171062951, -0.018251737341883525, 0.03161767083931932, -0.041264797954513655, -0.007118644100059024, -0.0012545151239710711, -0.005788274499603732, 0.017816060921864964, 0.008627951964072638, -0.016913587007079994, -0.0180027780571264, -0.027198666352283126, 0.01851625530136945, 0.04089135995870053, 0.04353653955355976, -0.018282856553986246, -0.013661572531669563, 0.02638955379909656, -0.023059738499461645, 0.004033898416499037, -0.019232008355602733, 0.009258127650684725, 0.03211558940883357, 0.03245790632989885, -0.007180883455587025, -0.5735993310575053, -0.013015838170328678, -0.007021394932423543, -0.028832453858675302, 0.03535204334687008, 0.021068075397275392, -0.008036676689572793, 0.015458739161229982, -0.012727980336104436, -0.020056683308808342, -0.00790052757548635, 0.007060294413213223, 0.006290080875155058, 0.009468185592007045, -0.0017543761995200157, -0.012976937758216437, -0.004815782357587644, -0.010674076015745056, -0.010393998450207774, 0.02887913360815194, -0.002042233917328938, 0.0006948457940281613, 0.0030516811714548877, 0.002899972218486446, 0.0013303696004552921, 0.02198610798678916, 0.01547429876728134, 0.012494581588721233, 0.000885454285993943, 0.0003894831992693285, -0.013031397776380039, 0.003602111665162672, -0.0006992220205415963, -0.0045006945142816, -0.013498194339823882, 0.004026118613473357, -0.02768102252177833, 0.04434565396939145, 0.009662683927278006, 0.03010836390662827, -0.015209780807795418, -0.03594331769004736, 0.02981272673503963, -0.0008509307988870576, -0.018578493725574886, -0.02344873517000357, 0.02248402283101316, -0.008519032859067997, 0.0034348431061428713, -0.04086023888395269, 0.0065584885033231795, 0.007869408363383632, -0.0019576272206484877, 0.023682133917386772, -0.0043956655436204395, -0.02438232829689126, 0.015839956494407507, -0.007492081164549588, -0.006356210365026538, 0.00777604886443035, -0.00043616283233064893, 0.014921922973571176, -0.021877187950461955, -0.009405946236479045, -0.002392331339911822, -0.009600444571750006, -0.007912197978516791, -0.00012143998743356486, 0.0013926090723986127, -0.01331147534191732, -0.011607669142632745, 0.03843289936174787, -0.021099194609378112, -0.011420950144726183, -0.006360100033708738, 0.02526924167430231, 0.002433175887873242, 0.005418727569456649, -0.0037051960343133738, 0.01407391000827237, -0.010292859613890095, 0.002676299039792584, -0.02903473153131066, 0.02041456076724755, 0.022624062079443084, -0.012245624166609232, -0.03787274236802818, -0.008207836081427996, 0.010261739470464812, -0.019216449680873934, 0.020787996900415547, 0.024195609298984698, -0.023557655206330772, 0.011771047334478426, -0.042136150794550783, 0.028816893321301378, -0.017115866542360476, 0.023293137246844852, 0.01778493984711712, -0.03504084377526239, -0.013708252281146204, 0.010635176534955377, 0.012673520317940834, 0.002413726147478402, 0.013583773570090203, 0.022577382329966443, 0.0006296888377425508, 0.017146985754463197, 0.009561545090960327, -0.034885245852103675, 0.010751875908646978, -0.0177538206350144, -0.004193386939662517, -0.030528479789272915, -0.006083912136853655, -0.02945484927660043, 0.019932202735107218, 0.00660127811845634, 0.021239233857808033, -0.018065018343976964, 0.005356488213928649, -0.006208391313570936, 0.022701861041022443, -0.010355098969418094, 0.0035729370545704124, 0.019434287890883216, -0.009343706880951045, 0.005056960442335246, -0.025191442712722948, -0.012572381481623153, 0.016415672162855992, 0.0022542373914842804, 0.043100863133541195, -0.036908030029037774, -0.01117977205997858, 0.027385385350189688, 0.022826341614723567, -0.014587385389870292, 0.0032753543501487497, -0.0024020562101092417, -0.00983384331913321, -0.009398165967792084, 0.016415672162855992, -0.0180027780571264, -0.01657127008601471, -0.04008224554286884, -0.009328147274899685, -0.006496249147795179, 0.006671297742671301, 0.00660516825279982, -0.01336593536008092, -0.00558210622696361, -0.00222311748088964, 6.552167093222683e-05, 0.012580161750310116, -0.04913809458959564, -0.0043995556779639206, -0.004975270880751124, -0.0009238677328213283, -0.018236176804509605, 0.02797665969336697, 0.04499916673677416, -0.02011892173301378, -0.036378994110065926, -0.008939149673035201, -0.010697415890483376, 0.01433064769907133, -0.007846068488645311, -0.005212559296816527, -0.04941817308645549, 0.016384551088108146, -0.03248902367935645, -0.014509586428290932, 0.022686302366293647, 0.005294248392739368, 0.01205112583133827, -0.0014324813196048031, -0.0019916642663394576, 0.008542372733806317, 0.03469852685419711, -0.01532648018148702, 0.004722422858634363, -0.0287079751476193, 0.010432897930997454, 0.035227562773168956, -0.01209002531212795, -0.0017057516157022753, 0.012805779297683796, -0.0076165603412668694, 0.01553653812280934, 0.00994276242413785, 0.025175882175349027, 0.001561822698590154, 0.016633510372865274, -0.0004407821631367215, -0.00775659912403551, -0.00774492918666635, 0.03143095184141276, 0.008246735562217675, 0.04409669282198919, 0.0264362335485732, 0.0067646567759633005, 0.01121867154076826, -0.0012535427068005214, 0.007974437334044791, -0.0355076412700288, -0.005352598079585168, -0.005068630379704406, 0.011428730413413144, 0.0090013890285632, 0.010378438844156415, 0.014548485909080611, -0.0012156154103507507, -0.007433731477703787, 0.012626840568464193, 0.035787719766888645, -0.013023617507693076, -0.003882189463530595, 0.016851348582874553, 0.012409002358454912, 0.023899972127396054, 0.019309809179827216, 0.010152820365460172, 0.002518755350970203, -0.004617393887973202, 0.026576270934358, 0.015855515169136303, 0.021783828451508676, -0.0047729927424544835, -0.013490414071136922, 0.0007215893616940466, 0.01103973374287122, -0.012385662483716591, -0.002791053113481805, 0.011988885544487708, 0.02099027457305091, 0.012836899441109077, 0.007842178354301831, 0.02041456076724755, 0.020072241983537138, 0.0264362335485732, 0.03989552654496228, -0.0009301889682988434, -0.008347874398535356, 0.018625173475051528, 0.0009467213407667137, 0.024288968797937977, 0.0016969991626754053, -0.009623784446488327, 0.014828563474617893, 0.007122534234402505, 0.01649347112443535, -0.011498750037628104, 0.01002056138571721, 0.006021672781325655, -0.020679076864088344, 0.026778550469638483, -0.0004765212590182843, 0.015209780807795418, 0.03973992862180356, -0.0014324813196048031, 0.020274521518817624, -0.005235898705893567, -0.012657960711889474, -0.016213392627575506, 0.001539455473853024, 0.003689635962600733, -0.00898582942251184, -0.010355098969418094, -0.008301194649058714, 0.019185328606126092, -0.017053626255509914, 0.010666296678380658, -0.01873409351137873, 0.010277299076516172, -0.010915254100492659, 0.0008786468419311529, -0.0015219505677992837, 0.0014898583564494135, -0.009475965860694007, -0.008184496206689675, -0.016213392627575506, 0.032613504253057576, -0.001635732224317955, -0.0006306613131207607, -0.010292859613890095, -0.029485968488703145, 0.00026743541472438244, -0.01666462958496799, 0.005570436289594451, -0.018765212723481448, -0.00016921366984728653, 0.01420616898801533, 0.024911364215863104, 0.021752709239405955, 0.0009024729252547481, 0.031384273954581245, -0.03111975599509532, 0.023962212414246616, 0.012323423128188592, 0.011685468104212105, -0.02349541491948021, -0.0026043345812365236, -0.0241800506242559, 0.03441844835733727, 0.008386773879325035, -0.012782439422945475, -0.027867741519684894, -0.0009438038564244236, 0.005955543291454174, 0.0035982217636498326, 0.014120588826426446, 0.00993498215545089, 0.026265073225395435, -0.018111698093453605, -0.0022114475435204796, -0.013840511260889164, -0.01000500177966585, 0.018236176804509605, 0.008557933271180238, -0.016913587007079994, -0.01654015087391199, -0.021690468952555393, 0.0029291470619093466, 0.06404445981976059, 0.019387608141406575, 0.023619895493181334, 0.0018292581424183664, 0.0034776327212760316, -0.009639344052539685, 0.0007672964611694969, -0.03833953986279459, 0.021379273106237957, -0.02193942823731252, 0.00543039750682581, 0.007324812372699146, -0.0066985272860918205, 0.004889691650484804, 0.032022229909880295, -0.034823007427898234, -0.017178104966565914, -0.007219783402037985, 0.01534982005622534, -0.021503751817293956, -0.022670741828919726, -0.007114753965715544, -0.014999721935150534, 0.0019469297004498776, 0.020056683308808342, 0.002995276551780827, 0.012836899441109077, 0.03451180785629055, 0.02223506540890116, -0.029112532355535146, 0.01209002531212795, 0.020150042807761625, 0.02321533828526549, 0.0024253960848475624, 0.006083912136853655, 0.013910530885104126, -0.013319255610604281, 0.005329258204846849, 0.025207001387451744, 0.0049480413373306055, 0.0023534316262915013, 0.004496804845599401, -0.009156987883044481, -0.025098083213769665, 0.0021453182864796397, -0.011615448479997143, -0.010028341654404171, 0.020943594823574267, -0.01086079501365162, -6.527855208767434e-05, 0.024911364215863104, 0.004173937199267678, -0.028241177652852893, -0.023526535994228055, 0.01121867154076826, 0.012533482000833474, -0.0035748818889115123, -0.009227007507259443, -0.02526924167430231, 0.021457072067817315, -0.02326201803474213, -0.038806337357561, 0.007927757584568151, 0.01430730782433301, 0.00014441511114548128, -0.03329813809518814, -0.031337592342459475, -0.022546263117863723, 1.963219048660643e-05, 0.01915420939402337, -0.011911086582908348, -0.026871909968591765, -0.025300360886405027, 0.015046401684627175, 0.0010580717215283697, -0.009514865341483686, 0.01677354775865007, -0.001547235393294024, -0.005457627050246329, 0.004617393887973202, -0.029781605660291786, -0.025082522676395744, 0.003481522622788871, -0.056793554877313475, -0.021534871029396673, 0.02421116983635862, 0.009328147274899685, -0.017940539632920964, 0.00782272861390699, 0.015046401684627175, 0.025175882175349027, -0.0011242012113998503, 0.02968824802398363, 0.0002645179303820924, -0.027338705600713047, -0.0016065573808950544, 0.025984996591180715, -0.008060016564311111, -0.017644902461332324, 0.0037966102332642744, 0.0026626840352516837, -0.007639900216005189, -0.03332925916993598, 0.009538205216222007, 0.01778493984711712, -0.005041400370622605, -0.009172548420418404, 0.0035515422470038323, 0.001219505428278911, 0.005041400370622605, 0.021410392318340674, -0.02119255410833139, -0.004679633243501203, -0.009888302405974249, 0.0367835531806269, 0.02391553266476998, -0.005453737381564129, 0.013560433695351882, -0.009600444571750006, -0.02984384594714235, -0.015505417979384059, -0.02844345718813338, 0.035787719766888645, 0.020227841769340983, -0.015847734900449342, -0.007204223330325344, -0.009172548420418404, -0.009452625985955686, -0.03796610186698146, -0.004846902035351644, -0.015707697514664543, 0.03566323919318752, -0.00563267564512245, -0.020383439692499703, -0.019263129430350575, -0.014875243224094534, -0.00659738844977414, 0.018142817305556322, -0.012245624166609232, -0.04297638255984007, -0.03357821659204798, 0.0003615240519325958, -0.017349263427098555, 0.0049052517221974444, -0.01882745301033201, -0.06833898187045054, -0.001217560477522491, -0.002670464071108004, 0.0018448179813003666, 0.027961101018638173, -0.00665573767095866, -0.0023009169081302807, -0.020087802520911063, 0.03023284261768427, 0.000660808573714211, -0.0245534867574239, -0.026794109144367282, -0.005453737381564129, 0.025082522676395744, 0.06522700850611515, 0.016197832090201585, 0.006130591886330295, 0.01888969143453745, 0.008184496206689675, 0.023013058749985008, -0.004115587512421877, 0.008067796832998074, 0.014175048844590048, -0.021954986912041317, 0.019169769931397296, 0.022452903618910443, 0.018111698093453605, 0.013591553838777163, 0.02587607655485351, -0.0007220755702793215, 0.011312031039721542, 0.0056637957885477316, 0.0004906224139367995, 0.002051959020356999, -0.00558210622696361, 0.023806612628442775, -0.011335370914459863, -0.013972770240632126, -0.010899694494441298, -0.006963045245577742, -0.022748540790499084, -0.002427340919188662, 0.029143651567637863, 0.0015151430655288335, -0.017224784716042555, 0.019340928391929937, -0.0155520977288607, 0.031633231376693244, -0.01333481521665564, 0.0013741317491743224, 0.01336593536008092, -0.012144484398968989, -0.014789663993828214, -0.0026801889413054242, 0.031679912988815014, 0.003020561260860247, 0.010596277054165696, -0.00016179842139715773, -0.008791331087240879, -0.0032481245738975894, 0.018765212723481448, 0.0002898027267730026, -0.016213392627575506, -0.005049180173648285, -0.034076131436271986, 0.008480133378278316, -0.01430730782433301, -0.018142817305556322, -0.02760322356019897, 0.003580716857596092, -0.03065296036297404, -0.0156765764399167, -0.02086579586199491, 0.01767602167343504, -0.01205112583133827, 0.018236176804509605, -0.0028824673124327057, 0.02964156827450699, -0.006896915755706262, 0.02522256192482567, 0.021597111316247235, -0.020492359728826907, -0.026482911435404717, 0.009880522137287288, -0.016757989083921274, -0.0014227563329920628, 0.0015219505677992837, 0.015023061809888855, 0.03339149759414142, -0.011063073617609541, -0.0011076688389319801, 0.0327379848267587, -0.03420061200997311, -0.04023784346602756, 0.0420427912955975, 0.019807724024051218, -0.010899694494441298, -0.019449846565612012, -0.0007298555479279817, 0.008970269816460482, 0.013474854465085562, 0.004197277074005998, -0.005212559296816527, -0.021923867699938596, -0.016166712878098864, -0.026078356090133998, 0.014105029220375088, -0.010751875908646978, 0.024911364215863104, 0.023728813666863413, -0.014820784137253495, 0.004321756250723279, -0.03933537327653284, -0.017582662174481758, 0.02993720544609563, 0.0057026952693374116, 0.0367835531806269, -0.023059738499461645, 0.023402057283172052, 0.005309808464452008, 0.0012720200300248114, -0.018874132759808652, -0.015357599393589738, -0.008270075436955996, 0.031633231376693244, -0.03469852685419711, -0.019372047604032654, 0.022826341614723567, -0.02814782001654474, 0.0531214245192584, -0.0002562517441481573, -0.009211447901208083, -0.02654515172225528, -0.012230063629235309, -0.02232842490785444, 0.03339149759414142, 0.0038141151393180145, -0.016898028332351194, -0.01236232260897827, -0.017598222711855682, -0.0031742150481697887, -0.023806612628442775, 0.0062122814479144165, 0.001449986109243223, 0.00332786883547933, -0.012580161750310116, -0.01661794983549135, -0.001790358428798046, 0.016026673629668944, 0.0031956098557363688, -0.018127258630827526, 0.007923867450224671, 0.015202000539108456, -0.010565156910740415, 0.03239566418040317, -0.006663517939645621, 0.006807446391096461, -0.021674910277826597, -0.017598222711855682, 0.00991164228071257, 0.006974715182946903, -0.01677354775865007, -0.00549652699669729, -0.003504862497527192, 0.0044073354809896, -0.010891914225754338, 0.024973604502713666, 0.007328702507042626, 0.010938593975230977, -0.012922478671375397, 0.006830786265834781, -0.025860517880124716, -0.010557377573376017, -0.029703806698712427, 0.026965267604899923, -0.010899694494441298, 0.007301472497960825, -0.01999444302195778, 0.0029174771245401862, -0.02634287404961992, -0.015046401684627175, 0.0031100306254700483, -0.01331147534191732, -0.000774103905232287, 0.0004186579553807388, -0.003218949730474689, 0.02713642792807769, -0.032208948907786854, 0.005543206746173931, -0.015964435205463506, 0.013070297257169718, -0.0018370380618593666, 0.02324645749736821, 0.01335815509139396, 0.007247012945458505, 0.01997888248458386, 0.03435620993313183, 0.014634065139346931, 0.025035842926919103, -0.027354266138086968, -0.02113031382148083, 0.015170881327005737, -0.003203389891592689, -0.007289803026252946, -0.011133092310501939, -0.03641011518481377, 0.005445957112877169, 0.011335370914459863, -0.026794109144367282, -0.009483745198058405, -0.0009267852171636183, -0.033422618668889265, -0.025207001387451744, 0.023526535994228055, -0.00021516393182303444, 0.026233954013292718, -0.023946651876872695, -0.012969158420852037, 0.019247568892976654, -0.023230896959994286, 0.023433176495274773, -0.01632231266390271, -0.02573603730642359, -0.0016055849637245047, 0.0006860933410012911, -0.014151708969851727, 0.0025732149034725237, -0.02536260117325559, -0.016120033128622223, 0.026187274263816077, 0.014672964620136612, -0.00330452919357165, 0.030746317999282197, -0.02408669112530262, -0.019480967640359857, -0.006749097169911941, 0.010432897930997454, 0.01618227341547279, -0.010456237805735773, 0.011358710789198182, -0.020772436363041626, -0.030917478322459963, 0.040144483967074276, -0.01435398757380965, -0.016711309334444632, -0.029252569741319942, 0.004259516429533998, -0.009242567113310802, 0.0006520561206873409, -0.020367881017770907, -0.010588496785478735, 0.00668685734872266, -0.029657126949235786, 0.017738260097640478, -0.0011251736285704, -0.006733537098199301, 0.012696860192679155, 0.002919422191711927, -0.010448458468371375, -0.005784384830921533, -0.0037285356762210534, -0.01553653812280934, -0.017722701422911682, -0.008161156331951355, -0.00020045498706909554, 0.012463462376618512, -0.005904973873295334, 0.024942483427965824, -0.006581828378061499, 0.0011455960189664305, -0.010386218181520813, -0.018251737341883525, -0.0087524316064512, -0.004722422858634363, -0.0007551403152150618, -0.027961101018638173, -0.005286468589713688, -0.006480689076082538, -0.004928591131274484, 0.008122255919839113, -0.017146985754463197, 0.0004164698712278513, -0.013389275234819241, -0.012300083253450271, 0.017458183463425758, -0.00675298683859414, 0.0020908585011466785, -0.01088413488838994, 0.00022744165902761833, 0.007184773589930505, 0.012611280962412834, 0.1380472314251622, -0.043598777977765193, 0.021099194609378112, 0.05887857747845301, -0.0016172547846783445, -0.0153031403067487, 0.017862740671341602, 0.03076187853665612, 0.018158377842930246, 0.02747874484914297, 0.004205056877031678, -0.01221450402318395, -0.026280633762769356, 0.004843011901008163, 0.008091136707736394, -0.02291970111367685, -0.0601856067385087, -0.03239566418040317, -0.02831897847707738, -0.0316021103019454, 0.020523478940929624, -0.0008261322983929125, -0.003679911092403313, -0.0481111438263998, 0.046026117499970015, -0.002999166453293667, -0.03843289936174787, 0.006426229523580218, 0.02789886073178761, 0.003100305755272628, -0.01571547592070638, -0.020243400444069783, 0.019091970969817934, 0.022764101327873005, -0.0038393998483974346, -0.004193386939662517, -0.020679076864088344, 0.011654348892109387, 0.0265607122596292, 0.009686023802016327, 0.02105251485990147, -0.004784662679823644, 0.011599888873945785, -0.02318421721051765, 0.002464295565637242, 0.005107529860494086, -0.025673798882218154, -0.012432342233193231, -0.009211447901208083, 0.019496526315088653, -0.032924700099375016, 0.0014256738173343529, 0.03588107926584193, 0.027634342772301687, 0.012004446081861629, -0.00023619408295065837, 0.022297305695751723, 0.008262295168269035, -0.021239233857808033, 0.016213392627575506, -0.014532926303029253, 0.015061962222001098, -0.01898305093349073, 0.027836622307582173, -0.007161433715192184, 0.013824951654837806, 0.016042234167042865, -0.009390386630427686, -0.009040289440675442, -0.018205057592406884, -0.006367879836734417, -0.019543206064565295, 0.007565990457446748, 0.0015180605498711236, -0.031462072916160606, -0.02743206509966633, 0.03332925916993598, 0.020803557437789468, 0.0016561544982986649, 0.04316310155774663, -0.02785218098231097, -0.017816060921864964, -0.018251737341883525, -0.0018827452777501372, 0.0028494025674969657, -0.027634342772301687, 0.00773325924929719, 0.012463462376618512, -0.013568213964038844, 0.0029388719321067664, -0.029517087700805866, -0.022779661865246926, 0.010572937179427377, -0.005212559296816527, -9.342004947175773e-05, 0.008480133378278316, -0.008464573772226957, 0.03416949093522527, 0.01443178653538901, -0.003522367403580932, -0.0013663518297333224, -0.02654515172225528, 0.022888580038929005, 0.0018302306760042367, 0.0003904556746475385, 0.0027171435877540043, 0.0017543761995200157, 0.02102139564779875, -0.000560155596735845, -0.020492359728826907, -0.004909141390879644, -0.01207446570607659, -0.014532926303029253, -0.017769381172388323, 0.008340094129848393, 0.01896749039611681, 0.0021375382506233194, -0.02211058669784516, -0.006395109845816218, -0.011444290019464502, 0.001886635179262977, 0.0047729927424544835, 0.028163378691273534, 0.023713253129489492, -0.02654515172225528, -0.014532926303029253, -0.020539039478303548, -0.014929703242258136, 0.013638232656931242, -0.0379972229417293, 0.018329536303462887, -0.017427062388677916, 0.003135315334549468, 0.027447623774395125, -0.022732982115770288, -0.014844124011991816, 0.010176160240198491, -0.013023617507693076, -0.019729925062471856, -0.00876799121250256, 0.009164768151731444, -0.004131147584134518, 0.0008421784040678476, 0.009452625985955686, 0.0028396776972995454, -0.053868296785594405, 0.002026674078446938, 0.0034698526854197113, 0.005302028195765048, -0.016400111625482067, -0.013389275234819241, 0.015839956494407507, -0.017644902461332324, 0.0028649626392096062, 0.017582662174481758, -0.0011193387763011402, -0.06535148535452602, -0.035787719766888645, 0.01636899241337935, -0.007418171871652428, -0.019216449680873934, -0.00983384331913321, 0.037810503943822744, -0.017178104966565914, -0.010106140615983531, 0.00672186716083014, -0.20277632508705334, 0.03441844835733727, 0.03416949093522527, -0.020181162019864342, 0.02117699357095747, 0.010487357949161055, 0.02450680700794726, 0.014781883725141253, -0.01957432713931314, 0.0037810503943822744, 0.010829674870226338, -0.02243734308153652, -0.0665340414914611, -0.023230896959994286, 0.011654348892109387, -0.004142817521503677, -0.011506529374992504, -0.018080578881350885, 0.007087524422295024, -0.0023573215278043414, 0.06329758382813433, 0.0012467352045300712, 0.0370325106027389, 0.02243734308153652, 0.00555487621788181, 0.0032831341531744294, -0.010036120991768569, 0.0011990830378828807, 0.01439288705459933, -0.019372047604032654, -0.00896248954777352, 0.00333953877284849, 0.031166435744571962, 0.017022507043407194, -0.013941651028529407, -0.0011942206027841706, 0.01540427914306638, 0.017411503713949117, -0.010370658575469453, 0.03314254017202942, 0.002789108046310065, 0.039024173704925155, -0.009507085072796725, 0.006301750346862936, -0.017053626255509914, -0.013809392048786446, 0.029439288739226504, 0.028676855935516582, 0.02903473153131066, -0.009896082674661211, 0.005333148339190329, -0.009335926612264085, 0.01784718013396768, 0.014050570133534048, 0.01647791058706143, 0.003565157018714092, -0.006223951385283577, 0.017395943176575196, -0.020383439692499703, 0.0021355931834515793, -0.023791053953713975, -0.02086579586199491, 0.012790219691632436, -0.005613225904727611, -0.018531813976098245, -0.03177327248776829, -0.03157099295248781, 0.004594054013234881, -0.0032597945112667497, 0.00781105867653783, 0.02673187072016184, -0.022561823655237647, 0.0011835231990008806, -0.012829119172422115, -0.004278966635590119, -0.0031858849855389486, 0.006118921948961135, 0.007250903079801986, 0.0075154210392879076, 0.0074142817373089465, -0.01329591573586596, 0.0488268987432782, -0.03149319399090845, -0.02085023718726611, -0.02113031382148083, -0.013692692675094844, -0.0219083090252098, 0.008184496206689675, -0.0019576272206484877, -0.025751597843797512, 0.040144483967074276, -0.0055004166653794895, -0.019761044274574577, -0.012603500693725872, 0.006811336525439942, 0.041607114875578936, 0.006546818565954019, 0.0014606835130265131, -0.011701028641586026, -0.005862183792500892, -0.015738816726767264, -0.009156987883044481, -0.007954987593649952, 0.03824618036384131, 0.039055294779673, 0.014750764513038533, 0.009016949565937122, 0.011273131558931861, 0.013638232656931242, -0.004337315856774639, -0.0010921088836346596, -0.0017358988762957257, 0.03332925916993598, 0.0031469852719186284, 0.011895526976856988, -0.00993498215545089, -0.014556266177767573, -0.027463184311769046, 0.017816060921864964, 0.011195332597352503, 0.03289358274991742, 0.002627674455974844, -0.0011407335838677203, -0.00783828821995835, -0.017520421887631196, 0.006745207035568461, -0.18248624861879717, -0.02318421721051765, 0.0004954848490355095, 0.023230896959994286, -0.0035962766964780925, -0.0013362045691398723, -0.005652125851178571, -0.0009399138967039236, 0.008705751856974558, 0.030030564945048913, -0.03392053351311326, -0.04733315048531595, 0.00991164228071257, -0.003701305899969893, 0.022748540790499084, 0.01577771620755694, -0.01881189247295809, -0.007021394932423543, -0.0020286191456186783, 0.05321478401821168, 0.0034465130435120312, -0.009577104697011686, 0.0018117532363646262, 0.002820227956904706, -0.008340094129848393, 0.0046718534404755225, -0.03697026845324321, 0.029485968488703145, 0.06192831241858295, 0.011257571952880503, -0.00437232566888212, -0.02333981699632149, 0.02309085957420949, -0.04580828115260586, -0.015832176225720543, -0.000984162312215889, -0.032924700099375016, -0.004990830952463766, 0.01121867154076826, -0.02898805178183402, -0.011319811308408503, 0.0024895805075473027, 0.023479856244751414, -0.022701861041022443, 0.006465129470031179, -0.009086968258829521, 0.006017782646982174, 0.030839677498235477, 0.024709086543227746, -0.019200889143500013, -0.022577382329966443, -0.016804668833397915, -0.006321200552919058, -0.02176826977677988, 0.020492359728826907, -0.01910752964454673, -0.023137539323686132, 0.010393998450207774, -0.013467074196398601, 0.01982328456142514, -0.01767602167343504, -0.01647791058706143, -0.02223506540890116, 0.0285990551112921, 0.007760489258378991, 0.019652126100892498, -0.029408169527123787, 0.01677354775865007, 0.006258960731729776, 0.002390386272740082, -0.010604056391530095, 0.01577771620755694, -0.025720478631694795, 0.023635454167910134, 0.00038121701303539345, -0.014268408343543329, -0.04487468616307304, -0.02029008019354642, 0.023526535994228055, -0.03706362795219649, -0.02516032350062023, -0.011638788354735464, 0.0020636287248955183, -0.010487357949161055, 0.023293137246844852, -0.0053603778826108485, -0.010043901260455531, 0.006325090221601257, 0.021519310492022752, -0.05486413019933266, 0.006185051438832616, 0.00866685237618488, 0.02659183147173192, -0.009398165967792084, -0.019232008355602733, -0.0067646567759633005, 0.002129758214766999, -0.0200100035593317, 0.001997499235024038, 0.001436371221117643, -0.012331203396875552, -0.006457349201344218, -0.11252903791668326, 0.013941651028529407, 0.0010843289641936597, 0.001884690228506557, 0.019449846565612012, -0.014665185282772213, -0.009172548420418404, -0.016462350049687508, 0.0033356488713356504, 0.0033803835536405508, -0.013599333176141563, 0.019434287890883216, -0.01117977205997858, -0.00885357044276888, -0.016244511839678226, -0.0004874617961980419, 0.03178882929985196, 0.020819116112518268, 0.014190608450641408, 0.014587385389870292, -0.004092248103344838, 0.007480411227180427, 0.022624062079443084, 0.001245762670944201, -0.0014869408721071235, 0.019792165349322422, -0.01109419282971226, 0.026996388679647765, 0.010923034369179619, -0.0044034453466461196, 0.015832176225720543, -0.03125979338088012, -0.016275632914426068, 0.027945540481264252, -0.02740094588756361, -0.021488191279920035, -0.046586274493689704, 0.00557821609262013, 0.002997221386121927, -0.01103973374287122, -0.009569325359647288, -0.04415893497148488, -0.003423173168773711, -0.012082245043440989, 0.01748930267552848, -0.01314809715007164, 0.006309530615549897, 0.01335815509139396, 0.005255348911949688, -0.003119755495667468, 0.02880133464657258, 0.013249235986389319, -0.0017242289389265656, -0.019496526315088653, -0.004683523377844683, -0.011638788354735464, 0.009584884965698648, -0.00044175466761876153, -0.00039288692130072354, -0.0050530703079917656, 0.03939761170073828, 0.002312586845499441, 0.026156155051713356, -0.010347318700731134, 0.014704084763561893, 0.016042234167042865, -0.0029855516815834073, 0.007355932516124427, 0.03743706594800962, -0.016633510372865274, -0.006476799407400339, 0.011063073617609541, 0.008036676689572793, -0.009717143945441608, 0.033671576091001264, 0.009312586737525764, -0.016042234167042865, 0.015061962222001098, 0.01320255623691268, 0.030419561615590836, 0.02758766302282505, 0.00669074748306614, -0.009086968258829521, 0.018220616267135684, 0.021270353069910753, 0.00335509861173049, -0.02976604698556299, 0.007565990457446748, -0.004465685167835401, -0.013879410741678845, -0.008472353109591355, 0.0036293414414138325, 0.0013430119549950022, -0.004839122232325964, 0.010479577680474094, 0.022577382329966443, 0.019434287890883216, -0.013848291529576126, -0.0088146709619792, 0.027821061770208252, 0.0014188663150639027, 0.007009724995054384, -0.01868741376190209, -0.00448124477388676, -0.006465129470031179, 0.026016115803283436, -0.019045291220341293, -0.03706362795219649, 0.0060100028439564945, -0.011086413492347862, 0.009211447901208083, -0.012533482000833474, 5.470269681272425e-05, 0.05371269886243569, -0.006309530615549897, 0.017987219382397605, -0.011553209124469143, -0.015707697514664543, 0.002538205091365043, 0.04521700680942857, 0.039024173704925155, 0.018158377842930246, 0.004586274210209202, -0.005920533479346693, 0.01321033650559964, -0.02652959118488136, 0.007752708989692029, -0.024755766292704384, -0.008503473253016636, 0.013428174715608922, -0.00113100859725498, -0.007212003599012306, -0.014719644369613252, -0.019138650719294575, -0.018874132759808652, 0.020959155360948188, 0.006321200552919058, 0.020227841769340983, -0.025082522676395744, 0.07568325003714117, 0.0011417060010382703, 0.013793831511412525, 0.010036120991768569, -0.03130647499300188, 0.012323423128188592, 0.02349541491948021, 0.003930814047348335, -0.0156143370843887, 0.016929147544453915, 0.018874132759808652, -0.012222284291870911, 0.00783828821995835, -0.038712977858607715, -0.011452070288151464, -0.00999722151097889, -0.010689636553118978, 0.00010065296242645091, -0.030559600864020757, 0.004294526241641478, -0.010106140615983531, 0.02674742939489064, 0.012805779297683796, 0.02469352600585382, -0.02968824802398363, 0.019652126100892498, 0.024195609298984698, -0.016882467794977273, -0.00438788574059476, -0.03329813809518814, 0.0071731036525613445, -0.00019656502734859556, -0.0624573483375548, 0.0013507918744360022, 0.01766046113606112, -0.0060489023247461745, 0.0004118505113179487, 0.006293970543837257, 0.0030030563548065067, -0.002120033344569579, -0.009040289440675442, 0.037748265519617304, -0.039802167046008995, 0.0038082801706334347, 0.0017164490194855654, 0.0045707141384965615, -0.013972770240632126, 0.0221572664473218, -0.020787996900415547]\n"
     ]
    }
   ],
   "source": [
    "import numpy as np\n",
    "print(f\"shape: {np.array(my_embedded_words).shape}\")\n",
    "print(f\"First element: {my_embedded_words[0]}\")"
   ]
  },
  {
   "cell_type": "code",
   "execution_count": 10,
   "id": "a9b87bce-76b5-40cd-ac19-9c2cf07bff0d",
   "metadata": {},
   "outputs": [
    {
     "data": {
      "text/plain": [
       "['ids', 'embeddings', 'metadatas', 'documents', 'uris', 'data']"
      ]
     },
     "execution_count": 10,
     "metadata": {},
     "output_type": "execute_result"
    }
   ],
   "source": [
    "[i[0] for i in vectorstore.get().items()]"
   ]
  },
  {
   "cell_type": "code",
   "execution_count": 11,
   "id": "779902a6-bfd5-40e3-9559-83adb7f3ffd5",
   "metadata": {},
   "outputs": [
    {
     "name": "stdout",
     "output_type": "stream",
     "text": [
      "Documents retrieved: 4\n"
     ]
    },
    {
     "data": {
      "text/plain": [
       "[Document(page_content='Task decomposition can be done (1) by LLM with simple prompting like \"Steps for XYZ.\\\\n1.\", \"What are the subgoals for achieving XYZ?\", (2) by using task-specific instructions; e.g. \"Write a story outline.\" for writing a novel, or (3) with human inputs.', metadata={'description': 'Building agents with LLM (large language model) as its core controller is a cool concept. Several proof-of-concepts demos, such as AutoGPT, GPT-Engineer and BabyAGI, serve as inspiring examples. The potentiality of LLM extends beyond generating well-written copies, stories, essays and programs; it can be framed as a powerful general problem solver.\\nAgent System Overview In a LLM-powered autonomous agent system, LLM functions as the agent’s brain, complemented by several key components:', 'language': 'en', 'source': 'https://lilianweng.github.io/posts/2023-06-23-agent/', 'title': \"LLM Powered Autonomous Agents | Lil'Log\"}),\n",
       " Document(page_content='Fig. 1. Overview of a LLM-powered autonomous agent system.\\nComponent One: Planning#\\nA complicated task usually involves many steps. An agent needs to know what they are and plan ahead.\\nTask Decomposition#', metadata={'description': 'Building agents with LLM (large language model) as its core controller is a cool concept. Several proof-of-concepts demos, such as AutoGPT, GPT-Engineer and BabyAGI, serve as inspiring examples. The potentiality of LLM extends beyond generating well-written copies, stories, essays and programs; it can be framed as a powerful general problem solver.\\nAgent System Overview In a LLM-powered autonomous agent system, LLM functions as the agent’s brain, complemented by several key components:', 'language': 'en', 'source': 'https://lilianweng.github.io/posts/2023-06-23-agent/', 'title': \"LLM Powered Autonomous Agents | Lil'Log\"}),\n",
       " Document(page_content='Chain of thought (CoT; Wei et al. 2022) has become a standard prompting technique for enhancing model performance on complex tasks. The model is instructed to “think step by step” to utilize more test-time computation to decompose hard tasks into smaller and simpler steps. CoT transforms big tasks into multiple manageable tasks and shed lights into an interpretation of the model’s thinking process.', metadata={'description': 'Building agents with LLM (large language model) as its core controller is a cool concept. Several proof-of-concepts demos, such as AutoGPT, GPT-Engineer and BabyAGI, serve as inspiring examples. The potentiality of LLM extends beyond generating well-written copies, stories, essays and programs; it can be framed as a powerful general problem solver.\\nAgent System Overview In a LLM-powered autonomous agent system, LLM functions as the agent’s brain, complemented by several key components:', 'language': 'en', 'source': 'https://lilianweng.github.io/posts/2023-06-23-agent/', 'title': \"LLM Powered Autonomous Agents | Lil'Log\"}),\n",
       " Document(page_content='Tree of Thoughts (Yao et al. 2023) extends CoT by exploring multiple reasoning possibilities at each step. It first decomposes the problem into multiple thought steps and generates multiple thoughts per step, creating a tree structure. The search process can be BFS (breadth-first search) or DFS (depth-first search) with each state evaluated by a classifier (via a prompt) or majority vote.', metadata={'description': 'Building agents with LLM (large language model) as its core controller is a cool concept. Several proof-of-concepts demos, such as AutoGPT, GPT-Engineer and BabyAGI, serve as inspiring examples. The potentiality of LLM extends beyond generating well-written copies, stories, essays and programs; it can be framed as a powerful general problem solver.\\nAgent System Overview In a LLM-powered autonomous agent system, LLM functions as the agent’s brain, complemented by several key components:', 'language': 'en', 'source': 'https://lilianweng.github.io/posts/2023-06-23-agent/', 'title': \"LLM Powered Autonomous Agents | Lil'Log\"})]"
      ]
     },
     "execution_count": 11,
     "metadata": {},
     "output_type": "execute_result"
    }
   ],
   "source": [
    "# STEP 4: RETRIEVE\n",
    "# Retrieve relevant splits for any question using similarity search.\n",
    "\n",
    "question = \"What are the approaches to Task Decomposition?\"\n",
    "docs = vectorstore.similarity_search(question,k=4) # by default k=4\n",
    "print(f\"Documents retrieved: {len(docs)}\")\n",
    "docs"
   ]
  },
  {
   "cell_type": "code",
   "execution_count": 12,
   "id": "5ef55a77-b2fd-4a26-a9d0-3d3aaa895f62",
   "metadata": {},
   "outputs": [
    {
     "name": "stdout",
     "output_type": "stream",
     "text": [
      "What are the approaches to Task Decomposition? The approaches to Task Decomposition include:\n",
      "\n",
      "1. Decomposition by a Language Learning Model (LLM) with simple prompting like \"Steps for XYZ.\\n1.\", \"What are the subgoals for achieving XYZ?\".\n",
      "2. Using task-specific instructions; for example, \"Write a story outline.\" for writing a novel.\n",
      "3. With human inputs.\n",
      "4. Chain of Thought (CoT) technique, where the model is instructed to “think step by step” to decompose hard tasks into smaller and simpler steps.\n",
      "5. Tree of Thoughts (ToT) method, which extends CoT by exploring multiple reasoning possibilities at each step. It decomposes the problem into multiple thought steps and generates multiple thoughts per step, creating a tree structure. The search process can be BFS (breadth-first search) or DFS (depth-first search) with each state evaluated by a classifier (via a prompt) or majority vote.\n"
     ]
    }
   ],
   "source": [
    "# STEP 5: GENERATE\n",
    "\n",
    "from langchain.chains import RetrievalQA\n",
    "#from langchain.chat_models import AzureChatOpenAI\n",
    "#llm = AzureChatOpenAI(deployment_name=\"gpt-35-turbo\", temperature=1, max_tokens=1000)\n",
    "\n",
    "qa_chain = RetrievalQA.from_chain_type(llm, retriever=vectorstore.as_retriever(), return_source_documents=True)\n",
    "result = qa_chain({\"query\": question})\n",
    "print(result[\"query\"], result[\"result\"])"
   ]
  },
  {
   "cell_type": "code",
   "execution_count": 13,
   "id": "cc3bd4e5-3fb8-4a62-908f-03399767dd33",
   "metadata": {},
   "outputs": [
    {
     "name": "stdout",
     "output_type": "stream",
     "text": [
      "Question: What are the approaches to Task Decomposition?\n",
      "Answer: The approaches to Task Decomposition include:\n",
      "\n",
      "1. Decomposition by a Language Learning Model (LLM) with simple prompting like \"Steps for XYZ.\\n1.\", \"What are the subgoals for achieving XYZ?\".\n",
      "2. Using task-specific instructions; for example, \"Write a story outline.\" for writing a novel.\n",
      "3. With human inputs.\n",
      "4. Chain of Thought (CoT) technique, where the model is instructed to “think step by step” to decompose hard tasks into smaller and simpler steps.\n",
      "5. Tree of Thoughts (ToT) method, which extends CoT by exploring multiple reasoning possibilities at each step. It decomposes the problem into multiple thought steps and generates multiple thoughts per step, creating a tree structure. The search process can be BFS (breadth-first search) or DFS (depth-first search) with each state evaluated by a classifier (via a prompt) or majority vote.\n",
      "Nr. of source documents: 4\n",
      "First source document:\n",
      "page_content='Task decomposition can be done (1) by LLM with simple prompting like \"Steps for XYZ.\\\\n1.\", \"What are the subgoals for achieving XYZ?\", (2) by using task-specific instructions; e.g. \"Write a story outline.\" for writing a novel, or (3) with human inputs.' metadata={'description': 'Building agents with LLM (large language model) as its core controller is a cool concept. Several proof-of-concepts demos, such as AutoGPT, GPT-Engineer and BabyAGI, serve as inspiring examples. The potentiality of LLM extends beyond generating well-written copies, stories, essays and programs; it can be framed as a powerful general problem solver.\\nAgent System Overview In a LLM-powered autonomous agent system, LLM functions as the agent’s brain, complemented by several key components:', 'language': 'en', 'source': 'https://lilianweng.github.io/posts/2023-06-23-agent/', 'title': \"LLM Powered Autonomous Agents | Lil'Log\"}\n"
     ]
    },
    {
     "data": {
      "text/markdown": [
       "\n",
       "Source of first source document: <a href=https://lilianweng.github.io/posts/2023-06-23-agent/>\n",
       "LLM Powered Autonomous Agents | Lil'Log</a>\n"
      ],
      "text/plain": [
       "<IPython.core.display.Markdown object>"
      ]
     },
     "metadata": {},
     "output_type": "display_data"
    }
   ],
   "source": [
    "print(f\"Question: {result['query']}\")\n",
    "print(f\"Answer: {result['result']}\")\n",
    "print(f\"Nr. of source documents: {len(result['source_documents'])}\")\n",
    "print(f\"First source document:\\n{result['source_documents'][0]}\")\n",
    "\n",
    "from IPython.display import display, HTML, Markdown\n",
    "display(Markdown(f'''\n",
    "Source of first source document: <a href={result[\"source_documents\"][0].metadata[\"source\"]}>\n",
    "{result[\"source_documents\"][0].metadata[\"title\"]}</a>\n",
    "'''))"
   ]
  },
  {
   "cell_type": "code",
   "execution_count": null,
   "id": "43b3c2b5-7c6d-4d45-8ca9-cfa107f51c58",
   "metadata": {},
   "outputs": [],
   "source": [
    "# STEP 6: MEMORY\n",
    "\n",
    "from langchain.memory import ConversationBufferMemory\n",
    "\n",
    "memory = ConversationBufferMemory(memory_key=\"chat_history\", return_messages=True)"
   ]
  },
  {
   "cell_type": "code",
   "execution_count": null,
   "id": "6491f90c-943d-4067-b838-6a20b43ac79d",
   "metadata": {},
   "outputs": [],
   "source": [
    "from langchain.chains import ConversationalRetrievalChain\n",
    "\n",
    "retriever = vectorstore.as_retriever()\n",
    "chat = ConversationalRetrievalChain.from_llm(llm, retriever=retriever, memory=memory)"
   ]
  },
  {
   "cell_type": "code",
   "execution_count": null,
   "id": "1fd2ea8d-d638-4eba-8930-3c7221a061c7",
   "metadata": {},
   "outputs": [],
   "source": [
    "result = chat({\"question\": \"What are some of the main ideas in self-reflection?\"})\n",
    "result"
   ]
  },
  {
   "cell_type": "code",
   "execution_count": null,
   "id": "b0ad1a65-be68-49fb-93bd-f700c7e4623d",
   "metadata": {},
   "outputs": [],
   "source": [
    "result = chat({\"question\": \"Give me an example\"})\n",
    "result = chat({\"question\": \"Last answer in Italian, please\"})\n",
    "result"
   ]
  },
  {
   "cell_type": "code",
   "execution_count": null,
   "id": "82dbd926-acee-4dbf-ad40-137ff66e80dc",
   "metadata": {},
   "outputs": [],
   "source": [
    "memory.buffer"
   ]
  },
  {
   "cell_type": "code",
   "execution_count": null,
   "id": "2f5e1870-153d-42b4-9f73-21d97f28d6e8",
   "metadata": {},
   "outputs": [],
   "source": [
    "# STEP 7: PERSISTENT STORAGE FOR MEMORY (Azure Cosmos DB)\n",
    "# Create CosmosDB instance from langchain cosmos class.\n",
    "\n",
    "import random\n",
    "from langchain.memory import CosmosDBChatMessageHistory\n",
    "\n",
    "cosmos = CosmosDBChatMessageHistory(\n",
    "    cosmos_endpoint=os.environ['AZURE_COSMOSDB_ENDPOINT'],\n",
    "    cosmos_database=os.environ['AZURE_COSMOSDB_NAME'],\n",
    "    cosmos_container=os.environ['AZURE_COSMOSDB_CONTAINER_NAME'],\n",
    "    connection_string=os.environ['AZURE_COMOSDB_CONNECTION_STRING'],\n",
    "    session_id=\"Agent-Test-Session\" + str(random.randint(1, 1000)),\n",
    "    user_id=\"Agent-Test-User\" + str(random.randint(1, 1000))\n",
    "    )\n",
    "\n",
    "# prepare the cosmosdb instance\n",
    "cosmos.prepare_cosmos()"
   ]
  },
  {
   "cell_type": "code",
   "execution_count": null,
   "id": "bd72344c-a250-4688-a342-848884981987",
   "metadata": {},
   "outputs": [],
   "source": [
    "# create a memory buffer that stores conversations into cosmosdb\n",
    "memory_cosmos = ConversationBufferMemory(memory_key=\"chat_history\", return_messages=True, chat_memory=cosmos)\n",
    "\n",
    "retriever = vectorstore.as_retriever()\n",
    "chat_cosmos = ConversationalRetrievalChain.from_llm(llm, retriever=retriever, memory=memory_cosmos)\n",
    "\n",
    "answer1 = chat_cosmos({\"question\": \"What are some of the main ideas in self-reflection?\"})\n",
    "answer2 = chat_cosmos({\"question\": \"Give me an example\"})\n",
    "answer3 = chat_cosmos({\"question\": \"Last answer in Italian, please\"})\n",
    "cosmosdb_docs = len(cosmos.messages)\n",
    "print(f\"The user {cosmos.user_id} has stored {int(cosmosdb_docs/2)} Open AI chats for a total of {cosmosdb_docs} documents into Azure Cosmos DB.\")"
   ]
  },
  {
   "cell_type": "code",
   "execution_count": null,
   "id": "12f69d06-fe4d-4b25-8dc8-4a4b1f5107da",
   "metadata": {},
   "outputs": [],
   "source": [
    "answer3"
   ]
  },
  {
   "cell_type": "code",
   "execution_count": null,
   "id": "b9b7b958",
   "metadata": {},
   "outputs": [],
   "source": [
    "!pip install langchainhub"
   ]
  },
  {
   "cell_type": "code",
   "execution_count": null,
   "id": "98fd40f2",
   "metadata": {},
   "outputs": [],
   "source": [
    "from langchain import hub\n",
    "\n",
    "prompt = hub.pull(\"rlm/rag-prompt\")\n",
    "prompt"
   ]
  }
 ],
 "metadata": {
  "kernelspec": {
   "display_name": "azuremlsdkv2mm",
   "language": "python",
   "name": "azuremlsdkv2mm"
  },
  "language_info": {
   "codemirror_mode": {
    "name": "ipython",
    "version": 3
   },
   "file_extension": ".py",
   "mimetype": "text/x-python",
   "name": "python",
   "nbconvert_exporter": "python",
   "pygments_lexer": "ipython3",
   "version": "3.10.13"
  }
 },
 "nbformat": 4,
 "nbformat_minor": 5
}
