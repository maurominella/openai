{
 "cells": [
  {
   "attachments": {
    "image.png": {
     "image/png": "[encoded data removed]"
    }
   },
   "cell_type": "markdown",
   "id": "efa82d9f",
   "metadata": {},
   "source": [
    "# [Function Calling](https://openai.com/blog/function-calling-and-other-api-updates)\n",
    "![image.png](attachment:image.png)"
   ]
  },
  {
   "cell_type": "markdown",
   "id": "e76c2ac4",
   "metadata": {},
   "source": [
    "# Libraries and Constants"
   ]
  },
  {
   "cell_type": "code",
   "execution_count": 2,
   "id": "243853c2",
   "metadata": {},
   "outputs": [],
   "source": [
    "from openai import AzureOpenAI # https://github.com/openai/openai-python\n",
    "from dotenv import load_dotenv\n",
    "from IPython.display import Markdown, HTML, display  \n",
    "import json\n",
    "\n",
    "load_dotenv(\"./credentials_my.env\")\n",
    "\n",
    "MODEL = \"gpt4-1106-128k\"\n",
    "QUESTION = \"How many flights between Christmas 2020 and Easter 2021? How much is 72^0.43? When was my cat born?\"\n",
    "\n",
    "client = AzureOpenAI(\n",
    "    azure_endpoint = os.environ['AZURE_OPENAI_ENDPOINT'],\n",
    "    api_key        = os.environ['AZURE_OPENAI_API_KEY'],\n",
    "    api_version    = os.environ['AZURE_OPENAI_API_VERSION']\n",
    ")\n",
    "\n",
    "def printmd(string):\n",
    "    # string = string.replace('\\n', '<br/>')\n",
    "    display(Markdown(string))\n",
    "      \n",
    "def printmd_indented(string):\n",
    "    # Split the string into lines, indent each line, and then join them back into a single string\n",
    "    indented_string = '\\n'.join(f\"> {line}\" for line in string.strip().split('\\n'))\n",
    "    display(Markdown(indented_string))"
   ]
  },
  {
   "cell_type": "code",
   "execution_count": 3,
   "id": "ba37c946",
   "metadata": {},
   "outputs": [],
   "source": [
    "messages = [\n",
    "    {\n",
    "        \"role\": \"user\",\n",
    "        \"content\": QUESTION\n",
    "    }\n",
    "]\n",
    "\n",
    "response = client.chat.completions.create(\n",
    "                model       = MODEL,\n",
    "                messages    = messages\n",
    "            )\n",
    "\n",
    "\n",
    "prompt_tokens     = response.usage.prompt_tokens\n",
    "completion_tokens = response.usage.completion_tokens\n",
    "total_tokens      = response.usage.total_tokens"
   ]
  },
  {
   "cell_type": "code",
   "execution_count": 4,
   "id": "7d8cdc02",
   "metadata": {},
   "outputs": [
    {
     "name": "stdout",
     "output_type": "stream",
     "text": [
      "[{'role': 'user', 'content': 'How many flights between Christmas 2020 and Easter 2021? How much is 72^0.43? When was my cat born?'}]\n"
     ]
    }
   ],
   "source": [
    "print(messages)"
   ]
  },
  {
   "cell_type": "code",
   "execution_count": 5,
   "id": "16f4c63a",
   "metadata": {},
   "outputs": [
    {
     "name": "stdout",
     "output_type": "stream",
     "text": [
      "37 187 224\n"
     ]
    }
   ],
   "source": [
    "print(prompt_tokens, completion_tokens, total_tokens)"
   ]
  },
  {
   "cell_type": "code",
   "execution_count": 6,
   "id": "b0e44938",
   "metadata": {},
   "outputs": [
    {
     "name": "stdout",
     "output_type": "stream",
     "text": [
      "ChatCompletion(id='chatcmpl-8uO68zkz6wxjKk0IrUtmryYXHofRH', choices=[Choice(finish_reason='stop', index=0, message=ChatCompletionMessage(content=\"1. To determine the exact number of flights between Christmas 2020 and Easter 2021, this information can't be provided without current flight data. The number of flights during this period would have been influenced by the COVID-19 pandemic, and commercial airline data would vary. You would need to consult a database that keeps historical records of flight schedules for the exact number.\\n\\n2. To calculate 72^0.43, we can use a calculator to find that:\\n\\n72^0.43 ≈ 4.19429997\\n\\nThus, 72 raised to the power of 0.43 is approximately 4.1943.\\n\\n3. Without further information about your cat such as date of birth or age, it is impossible for me to state when your cat was born. If you have more details about your cat's age or specific date-related information, you may be able to approximate your cat’s birth date.\", role='assistant', function_call=None, tool_calls=None), content_filter_results={'hate': {'filtered': False, 'severity': 'safe'}, 'self_harm': {'filtered': False, 'severity': 'safe'}, 'sexual': {'filtered': False, 'severity': 'safe'}, 'violence': {'filtered': False, 'severity': 'safe'}})], created=1708449692, model='gpt-4', object='chat.completion', system_fingerprint='fp_46925cd5d1', usage=CompletionUsage(completion_tokens=187, prompt_tokens=37, total_tokens=224), prompt_filter_results=[{'prompt_index': 0, 'content_filter_results': {'hate': {'filtered': False, 'severity': 'safe'}, 'self_harm': {'filtered': False, 'severity': 'safe'}, 'sexual': {'filtered': False, 'severity': 'safe'}, 'violence': {'filtered': False, 'severity': 'safe'}}}])\n"
     ]
    }
   ],
   "source": [
    "print(response)"
   ]
  },
  {
   "cell_type": "markdown",
   "id": "5bd8ec17",
   "metadata": {},
   "source": [
    "# Let's build new custom functions"
   ]
  },
  {
   "cell_type": "markdown",
   "id": "b3983b5f",
   "metadata": {},
   "source": [
    "## Define the functions. They will be used through the tools."
   ]
  },
  {
   "cell_type": "code",
   "execution_count": 7,
   "id": "ddfdb8ac",
   "metadata": {},
   "outputs": [],
   "source": [
    "failure_rate = .0\n",
    "\n",
    "def get_flights(date_1, date_2):\n",
    "    \"\"\" Returns the number of flights in a date interval  \"\"\"\n",
    "    import json\n",
    "    from dateutil.parser import parse\n",
    "    flights = {\n",
    "        \"flights\": abs((parse(date_2) - parse(date_1)).days) \n",
    "    }\n",
    "    return json.dumps(flights)\n",
    "\n",
    "\n",
    "def elevation_to_power(base, power):\n",
    "    \"\"\" Calculates the result of <base> elevated to <power> \"\"\"\n",
    "    import json\n",
    "    elevation_to_power_result = {\n",
    "        \"result\": float(base) ** float(power)\n",
    "    }\n",
    "    return json.dumps(elevation_to_power_result)\n",
    "\n",
    "\n",
    "def web_search(question):\n",
    "    \"\"\" Does a WEB search and returns the content of first page found \"\"\"\n",
    "    from langchain.utilities import BingSearchAPIWrapper\n",
    "    bing_search = BingSearchAPIWrapper()\n",
    "    search_result = {\n",
    "        \"search_result\": bing_search.run(question)\n",
    "    }\n",
    "    return json.dumps(search_result)\n",
    "\n",
    "\n",
    "def current_year():\n",
    "    \"\"\" Returns the current year \"\"\"\n",
    "    import datetime\n",
    "    current_year = {\n",
    "        \"current_year\": datetime.datetime.now().year\n",
    "    }\n",
    "    return json.dumps(current_year)\n",
    "\n",
    "\n",
    "def current_date():\n",
    "    \"\"\" Returns the current date \"\"\"\n",
    "    import datetime\n",
    "    current_date = {\n",
    "        \"current_date\": datetime.date.today().strftime(\"%Y-%m-%d\")\n",
    "    }\n",
    "    return json.dumps(current_date)\n",
    "\n",
    "\n",
    "def my_cat_born_date():\n",
    "    \"\"\" Returns my cat's born date \"\"\"\n",
    "    import datetime, random\n",
    "    from dateutil.relativedelta import relativedelta\n",
    "    \n",
    "    if (random.uniform(0, 1)<failure_rate):\n",
    "        raise Exception(\"Simulated error in my_cat_born_date for testing purpose\")\n",
    "        \n",
    "    # Calculate the date as ten years ago  \n",
    "    ten_years_ago = datetime.date.today() - relativedelta(years=10) \n",
    "    \n",
    "    cat_born_date = {\n",
    "        \"cat_born_date\": ten_years_ago.strftime(\"%Y-%m-%d\")\n",
    "    }\n",
    "    return json.dumps(cat_born_date)\n",
    "\n",
    "\n",
    "def custom_calculator(mathematical_question):\n",
    "    \"\"\" useful for when you need to answer questions about math \"\"\"\n",
    "    from langchain.chat_models import AzureChatOpenAI\n",
    "    from langchain import LLMMathChain # requires 'numexpr' module\n",
    "    import random\n",
    "    \n",
    "    if (random.uniform(0, 1)<failure_rate):\n",
    "        raise Exception(\"Simulated error in custom_calculator for testing purpose\")\n",
    "        \n",
    "    llm = AzureChatOpenAI(deployment_name=MODEL, temperature=0, max_tokens=1000)\n",
    "    llm_math_chain = LLMMathChain.from_llm(llm, verbose=False)\n",
    "    \n",
    "    math_result = {\n",
    "        \"math_result\": llm_math_chain.run(mathematical_question).split(' ')[-1]\n",
    "    }\n",
    "    return json.dumps(math_result)\n",
    "\n",
    "\n",
    "def get_days_difference(date_1, date_2):\n",
    "    \"\"\" calculate the distance (in days) between two dates \"\"\"\n",
    "    import json, random\n",
    "    from dateutil.parser import parse\n",
    "    \n",
    "    if (random.uniform(0, 1)<failure_rate):\n",
    "        raise Exception(\"Simulated error in get_days_difference for testing purpose\")\n",
    "    \n",
    "    days = {\n",
    "        \"days\": abs((parse(date_2) - parse(date_1)).days) \n",
    "    }\n",
    "    return json.dumps(days)"
   ]
  },
  {
   "cell_type": "markdown",
   "id": "a37dd465",
   "metadata": {},
   "source": [
    "# Eval\n",
    "eval(\"get_flights\")(**{\"date_1\": \"1736-03-22\", \"date_2\": \"2175-10-17\"})"
   ]
  },
  {
   "cell_type": "code",
   "execution_count": 8,
   "id": "950a26f8",
   "metadata": {},
   "outputs": [
    {
     "data": {
      "text/plain": [
       "'{\"flights\": 160550}'"
      ]
     },
     "execution_count": 8,
     "metadata": {},
     "output_type": "execute_result"
    }
   ],
   "source": [
    "command = \"print(3*5)\"\n",
    "eval(\"get_flights\")(**{\"date_1\": \"1736-03-22\", \"date_2\": \"2175-10-17\"})"
   ]
  },
  {
   "cell_type": "markdown",
   "id": "dd895989",
   "metadata": {},
   "source": [
    "## invoke the functions directly and *in*-directly"
   ]
  },
  {
   "cell_type": "code",
   "execution_count": 9,
   "id": "65d640a1",
   "metadata": {},
   "outputs": [
    {
     "name": "stdout",
     "output_type": "stream",
     "text": [
      "First, we call the functions directly:\n",
      "{\"flights\": 3}\n",
      "{\"result\": 125.0}\n"
     ]
    },
    {
     "ename": "HTTPError",
     "evalue": "401 Client Error: PermissionDenied for url: https://api.bing.microsoft.com/v7.0/search?q=Who+is+the+wife+of+Joe+Biden%3F&count=10&textDecorations=True&textFormat=HTML",
     "output_type": "error",
     "traceback": [
      "\u001b[0;31m---------------------------------------------------------------------------\u001b[0m",
      "\u001b[0;31mHTTPError\u001b[0m                                 Traceback (most recent call last)",
      "Cell \u001b[0;32mIn[9], line 4\u001b[0m\n\u001b[1;32m      2\u001b[0m \u001b[38;5;28mprint\u001b[39m(get_flights(\u001b[38;5;124m\"\u001b[39m\u001b[38;5;124m2023-12-28\u001b[39m\u001b[38;5;124m\"\u001b[39m, \u001b[38;5;124m\"\u001b[39m\u001b[38;5;124m31/12/2023\u001b[39m\u001b[38;5;124m\"\u001b[39m))\n\u001b[1;32m      3\u001b[0m \u001b[38;5;28mprint\u001b[39m(elevation_to_power(\u001b[38;5;124m\"\u001b[39m\u001b[38;5;124m5\u001b[39m\u001b[38;5;124m\"\u001b[39m, \u001b[38;5;124m\"\u001b[39m\u001b[38;5;124m3\u001b[39m\u001b[38;5;124m\"\u001b[39m))\n\u001b[0;32m----> 4\u001b[0m \u001b[38;5;28mprint\u001b[39m(\u001b[43mweb_search\u001b[49m\u001b[43m(\u001b[49m\u001b[38;5;124;43m\"\u001b[39;49m\u001b[38;5;124;43mWho is the wife of Joe Biden?\u001b[39;49m\u001b[38;5;124;43m\"\u001b[39;49m\u001b[43m)\u001b[49m[:\u001b[38;5;241m80\u001b[39m])\n\u001b[1;32m      5\u001b[0m \u001b[38;5;28mprint\u001b[39m(current_year())\n\u001b[1;32m      6\u001b[0m \u001b[38;5;28mprint\u001b[39m(current_date())\n",
      "Cell \u001b[0;32mIn[7], line 27\u001b[0m, in \u001b[0;36mweb_search\u001b[0;34m(question)\u001b[0m\n\u001b[1;32m     24\u001b[0m \u001b[38;5;28;01mfrom\u001b[39;00m \u001b[38;5;21;01mlangchain\u001b[39;00m\u001b[38;5;21;01m.\u001b[39;00m\u001b[38;5;21;01mutilities\u001b[39;00m \u001b[38;5;28;01mimport\u001b[39;00m BingSearchAPIWrapper\n\u001b[1;32m     25\u001b[0m bing_search \u001b[38;5;241m=\u001b[39m BingSearchAPIWrapper()\n\u001b[1;32m     26\u001b[0m search_result \u001b[38;5;241m=\u001b[39m {\n\u001b[0;32m---> 27\u001b[0m     \u001b[38;5;124m\"\u001b[39m\u001b[38;5;124msearch_result\u001b[39m\u001b[38;5;124m\"\u001b[39m: \u001b[43mbing_search\u001b[49m\u001b[38;5;241;43m.\u001b[39;49m\u001b[43mrun\u001b[49m\u001b[43m(\u001b[49m\u001b[43mquestion\u001b[49m\u001b[43m)\u001b[49m\n\u001b[1;32m     28\u001b[0m }\n\u001b[1;32m     29\u001b[0m \u001b[38;5;28;01mreturn\u001b[39;00m json\u001b[38;5;241m.\u001b[39mdumps(search_result)\n",
      "File \u001b[0;32m/anaconda/envs/openaivbd_20231215/lib/python3.10/site-packages/langchain/utilities/bing_search.py:72\u001b[0m, in \u001b[0;36mBingSearchAPIWrapper.run\u001b[0;34m(self, query)\u001b[0m\n\u001b[1;32m     70\u001b[0m \u001b[38;5;250m\u001b[39m\u001b[38;5;124;03m\"\"\"Run query through BingSearch and parse result.\"\"\"\u001b[39;00m\n\u001b[1;32m     71\u001b[0m snippets \u001b[38;5;241m=\u001b[39m []\n\u001b[0;32m---> 72\u001b[0m results \u001b[38;5;241m=\u001b[39m \u001b[38;5;28;43mself\u001b[39;49m\u001b[38;5;241;43m.\u001b[39;49m\u001b[43m_bing_search_results\u001b[49m\u001b[43m(\u001b[49m\u001b[43mquery\u001b[49m\u001b[43m,\u001b[49m\u001b[43m \u001b[49m\u001b[43mcount\u001b[49m\u001b[38;5;241;43m=\u001b[39;49m\u001b[38;5;28;43mself\u001b[39;49m\u001b[38;5;241;43m.\u001b[39;49m\u001b[43mk\u001b[49m\u001b[43m)\u001b[49m\n\u001b[1;32m     73\u001b[0m \u001b[38;5;28;01mif\u001b[39;00m \u001b[38;5;28mlen\u001b[39m(results) \u001b[38;5;241m==\u001b[39m \u001b[38;5;241m0\u001b[39m:\n\u001b[1;32m     74\u001b[0m     \u001b[38;5;28;01mreturn\u001b[39;00m \u001b[38;5;124m\"\u001b[39m\u001b[38;5;124mNo good Bing Search Result was found\u001b[39m\u001b[38;5;124m\"\u001b[39m\n",
      "File \u001b[0;32m/anaconda/envs/openaivbd_20231215/lib/python3.10/site-packages/langchain/utilities/bing_search.py:46\u001b[0m, in \u001b[0;36mBingSearchAPIWrapper._bing_search_results\u001b[0;34m(self, search_term, count)\u001b[0m\n\u001b[1;32m     34\u001b[0m params \u001b[38;5;241m=\u001b[39m {\n\u001b[1;32m     35\u001b[0m     \u001b[38;5;124m\"\u001b[39m\u001b[38;5;124mq\u001b[39m\u001b[38;5;124m\"\u001b[39m: search_term,\n\u001b[1;32m     36\u001b[0m     \u001b[38;5;124m\"\u001b[39m\u001b[38;5;124mcount\u001b[39m\u001b[38;5;124m\"\u001b[39m: count,\n\u001b[0;32m   (...)\u001b[0m\n\u001b[1;32m     39\u001b[0m     \u001b[38;5;241m*\u001b[39m\u001b[38;5;241m*\u001b[39m\u001b[38;5;28mself\u001b[39m\u001b[38;5;241m.\u001b[39msearch_kwargs,\n\u001b[1;32m     40\u001b[0m }\n\u001b[1;32m     41\u001b[0m response \u001b[38;5;241m=\u001b[39m requests\u001b[38;5;241m.\u001b[39mget(\n\u001b[1;32m     42\u001b[0m     \u001b[38;5;28mself\u001b[39m\u001b[38;5;241m.\u001b[39mbing_search_url,\n\u001b[1;32m     43\u001b[0m     headers\u001b[38;5;241m=\u001b[39mheaders,\n\u001b[1;32m     44\u001b[0m     params\u001b[38;5;241m=\u001b[39mparams,  \u001b[38;5;66;03m# type: ignore\u001b[39;00m\n\u001b[1;32m     45\u001b[0m )\n\u001b[0;32m---> 46\u001b[0m \u001b[43mresponse\u001b[49m\u001b[38;5;241;43m.\u001b[39;49m\u001b[43mraise_for_status\u001b[49m\u001b[43m(\u001b[49m\u001b[43m)\u001b[49m\n\u001b[1;32m     47\u001b[0m search_results \u001b[38;5;241m=\u001b[39m response\u001b[38;5;241m.\u001b[39mjson()\n\u001b[1;32m     48\u001b[0m \u001b[38;5;28;01mreturn\u001b[39;00m search_results[\u001b[38;5;124m\"\u001b[39m\u001b[38;5;124mwebPages\u001b[39m\u001b[38;5;124m\"\u001b[39m][\u001b[38;5;124m\"\u001b[39m\u001b[38;5;124mvalue\u001b[39m\u001b[38;5;124m\"\u001b[39m]\n",
      "File \u001b[0;32m/anaconda/envs/openaivbd_20231215/lib/python3.10/site-packages/requests/models.py:1021\u001b[0m, in \u001b[0;36mResponse.raise_for_status\u001b[0;34m(self)\u001b[0m\n\u001b[1;32m   1016\u001b[0m     http_error_msg \u001b[38;5;241m=\u001b[39m (\n\u001b[1;32m   1017\u001b[0m         \u001b[38;5;124mf\u001b[39m\u001b[38;5;124m\"\u001b[39m\u001b[38;5;132;01m{\u001b[39;00m\u001b[38;5;28mself\u001b[39m\u001b[38;5;241m.\u001b[39mstatus_code\u001b[38;5;132;01m}\u001b[39;00m\u001b[38;5;124m Server Error: \u001b[39m\u001b[38;5;132;01m{\u001b[39;00mreason\u001b[38;5;132;01m}\u001b[39;00m\u001b[38;5;124m for url: \u001b[39m\u001b[38;5;132;01m{\u001b[39;00m\u001b[38;5;28mself\u001b[39m\u001b[38;5;241m.\u001b[39murl\u001b[38;5;132;01m}\u001b[39;00m\u001b[38;5;124m\"\u001b[39m\n\u001b[1;32m   1018\u001b[0m     )\n\u001b[1;32m   1020\u001b[0m \u001b[38;5;28;01mif\u001b[39;00m http_error_msg:\n\u001b[0;32m-> 1021\u001b[0m     \u001b[38;5;28;01mraise\u001b[39;00m HTTPError(http_error_msg, response\u001b[38;5;241m=\u001b[39m\u001b[38;5;28mself\u001b[39m)\n",
      "\u001b[0;31mHTTPError\u001b[0m: 401 Client Error: PermissionDenied for url: https://api.bing.microsoft.com/v7.0/search?q=Who+is+the+wife+of+Joe+Biden%3F&count=10&textDecorations=True&textFormat=HTML"
     ]
    }
   ],
   "source": [
    "print(\"First, we call the functions directly:\")\n",
    "print(get_flights(\"2023-12-28\", \"31/12/2023\"))\n",
    "print(elevation_to_power(\"5\", \"3\"))\n",
    "print(web_search(\"Who is the wife of Joe Biden?\")[:80])\n",
    "print(current_year())\n",
    "print(current_date())\n",
    "print(my_cat_born_date())\n",
    "print(custom_calculator(\"how much is 3*5?\"))\n",
    "print(get_days_difference(\"2023-12-28\", \"31/12/2023\"))\n",
    "\n",
    "print(\"\\nThen, we pass the function NAMES to the EVAL function:\")\n",
    "print (eval(\"get_flights\")(**{\"date_1\": \"1736-03-22\", \"date_2\": \"2175-10-17\"}))\n",
    "print (eval(\"elevation_to_power\")(**{\"base\": 5, \"power\": 3}))\n",
    "print (eval(\"web_search\")(**{\"question\": \"Who is the wife of Joe Biden?\"})[:80])\n",
    "print (eval(\"current_year\")())\n",
    "print (eval(\"current_date\")())\n",
    "print (eval(\"my_cat_born_date\")())\n",
    "print (eval(\"custom_calculator\")(**{\"mathematical_question\": \"how much is 3*5?\"}))\n",
    "print (eval(\"get_days_difference\")(**{\"date_1\": \"1736-03-22\", \"date_2\": \"2175-10-17\"}))"
   ]
  },
  {
   "cell_type": "markdown",
   "id": "aa5ef659",
   "metadata": {},
   "source": [
    "## Describe the functions through the [tools](https://platform.openai.com/docs/api-reference/chat/create)"
   ]
  },
  {
   "cell_type": "code",
   "execution_count": 10,
   "id": "f32b39aa",
   "metadata": {},
   "outputs": [],
   "source": [
    "tools = [\n",
    "    {\n",
    "        \"type\": \"function\",\n",
    "        \"function\": {\n",
    "            \"name\": \"get_flights\",            \n",
    "            \"description\": \"returns the number of flights between two dates\",\n",
    "            \"parameters\": {\n",
    "                \"type\": \"object\",\n",
    "                \"properties\": {\n",
    "                    \"date_1\": {\"type\": \"string\", \"description\": \"the first date\"},\n",
    "                    \"date_2\": {\"type\": \"string\", \"description\": \"the second date\"}\n",
    "                }\n",
    "            },\n",
    "            \"required\": [\"date_1\", \"date_2\"]\n",
    "        }\n",
    "    },\n",
    "    {\n",
    "        \"type\": \"function\",\n",
    "        \"function\": {\n",
    "            \"name\": \"get_days_difference\",            \n",
    "            \"description\": \"useful when you need to calculate the absolute number of days between two dates\",\n",
    "            \"parameters\": {\n",
    "                \"type\": \"object\",\n",
    "                \"properties\": {\n",
    "                    \"date_1\": {\"type\": \"string\", \"description\": \"the first date\"},\n",
    "                    \"date_2\": {\"type\": \"string\", \"description\": \"the second date\"}\n",
    "                }\n",
    "            },\n",
    "            \"required\": [\"date_1\", \"date_2\"]\n",
    "        }\n",
    "    },\n",
    "    {\n",
    "        \"type\": \"function\",\n",
    "        \"function\": {\n",
    "            \"name\": \"elevation_to_power\",\n",
    "            \"description\": \"calculate the mathematical result of a number elevated to the power of another number\",\n",
    "            \"parameters\": {\n",
    "                \"type\": \"object\",\n",
    "                \"properties\": {\n",
    "                    \"base\": {\"type\": \"string\", \"description\": \"the base number\"},\n",
    "                    \"power\": {\"type\": \"string\", \"description\": \"the power to elevate the base number to\"}\n",
    "                }\n",
    "            },\n",
    "            \"required\": [\"base\", \"power\"]\n",
    "        }\n",
    "    },\n",
    "    {\n",
    "        \"type\": \"function\",\n",
    "        \"function\": {\n",
    "            \"name\": \"web_search\",            \n",
    "            \"description\": \"useful for when you need to answer questions about current events\",\n",
    "            \"parameters\": {\n",
    "                \"type\": \"object\",\n",
    "                \"properties\": {\n",
    "                    \"question\": {\"type\": \"string\", \"description\": \"the text string to search on the WEB\"}\n",
    "                }\n",
    "            },\n",
    "            \"required\": [\"question\"]\n",
    "        }\n",
    "    },\n",
    "    {\n",
    "        \"type\": \"function\",\n",
    "        \"function\": {\n",
    "            \"name\": \"current_year\",            \n",
    "            \"description\": \"returns the current year\",\n",
    "            \"parameters\": {\n",
    "                \"type\": \"object\",\n",
    "                \"properties\": {                    \n",
    "                }\n",
    "            },\n",
    "            \"required\": []\n",
    "        }\n",
    "    },\n",
    "    {\n",
    "        \"type\": \"function\",\n",
    "        \"function\": {\n",
    "            \"name\": \"current_date\",            \n",
    "            \"description\": \"returns the current date\",\n",
    "            \"parameters\": {\n",
    "                \"type\": \"object\",\n",
    "                \"properties\": {\n",
    "                    \n",
    "                }\n",
    "            },\n",
    "            \"required\": []\n",
    "        }\n",
    "    },\n",
    "    {\n",
    "        \"type\": \"function\",\n",
    "        \"function\": {\n",
    "            \"name\": \"my_cat_born_date\",            \n",
    "            \"description\": \"returns my cat's born date\",\n",
    "            \"parameters\": {\n",
    "                \"type\": \"object\",\n",
    "                \"properties\": {\n",
    "                    \n",
    "                }\n",
    "            },\n",
    "            \"required\": []\n",
    "        }\n",
    "    },\n",
    "    {\n",
    "        \"type\": \"function\",\n",
    "        \"function\": {\n",
    "            \"name\": \"custom_calculator\",            \n",
    "            \"description\": \"useful for when you need to answer questions about math\",\n",
    "            \"parameters\": {\n",
    "                \"type\": \"object\",\n",
    "                \"properties\": {\n",
    "                    \"mathematical_question\": {\"type\": \"string\", \"description\": \"the text string to search on the WEB\"}\n",
    "                }\n",
    "            },\n",
    "            \"required\": [\"mathematical_question\"]\n",
    "        }\n",
    "    }\n",
    "]"
   ]
  },
  {
   "cell_type": "markdown",
   "id": "cc17d149",
   "metadata": {},
   "source": [
    "## LLM using tools to extract function name and parameters based on the question\n",
    "Recall:\n",
    "- **functions** is deprecated in favor of **tools**\n",
    "- **function_call** is deprecated in favor of **tool_choice**<br/>\n",
    "\n",
    "Reference: [how to create chat completions](https://platform.openai.com/docs/api-reference/chat/create)"
   ]
  },
  {
   "cell_type": "code",
   "execution_count": 11,
   "id": "fa550283",
   "metadata": {},
   "outputs": [
    {
     "data": {
      "text/plain": [
       "'How many flights between Christmas 2020 and Easter 2021? How much is 72^0.43? When was my cat born?'"
      ]
     },
     "execution_count": 11,
     "metadata": {},
     "output_type": "execute_result"
    }
   ],
   "source": [
    "QUESTION"
   ]
  },
  {
   "cell_type": "code",
   "execution_count": 12,
   "id": "4423da96",
   "metadata": {},
   "outputs": [
    {
     "data": {
      "text/plain": [
       "ChatCompletion(id='chatcmpl-8uO7E6wBgEofg202CIWIwUBwMx8cX', choices=[Choice(finish_reason='tool_calls', index=0, message=ChatCompletionMessage(content=None, role='assistant', function_call=None, tool_calls=[ChatCompletionMessageToolCall(id='call_t3qte7BPzpqGLI30uFXbIMvb', function=Function(arguments='{\"date_1\": \"2020-12-25\", \"date_2\": \"2021-04-04\"}', name='get_flights'), type='function'), ChatCompletionMessageToolCall(id='call_oipJoOvDjevPbAyULMXfXis0', function=Function(arguments='{\"base\": \"72\", \"power\": \"0.43\"}', name='elevation_to_power'), type='function'), ChatCompletionMessageToolCall(id='call_Ltx96DUXebVifdcx4lZdQ5VO', function=Function(arguments='{}', name='my_cat_born_date'), type='function')]), content_filter_results={})], created=1708449760, model='gpt-4', object='chat.completion', system_fingerprint='fp_46925cd5d1', usage=CompletionUsage(completion_tokens=132, prompt_tokens=324, total_tokens=456), prompt_filter_results=[{'prompt_index': 0, 'content_filter_results': {'hate': {'filtered': False, 'severity': 'safe'}, 'self_harm': {'filtered': False, 'severity': 'safe'}, 'sexual': {'filtered': False, 'severity': 'safe'}, 'violence': {'filtered': False, 'severity': 'safe'}}}])"
      ]
     },
     "execution_count": 12,
     "metadata": {},
     "output_type": "execute_result"
    }
   ],
   "source": [
    "completion = client.chat.completions.create(\n",
    "    model  = MODEL,\n",
    "    messages = [\n",
    "        {\n",
    "            \"role\": \"user\",\n",
    "            \"content\": QUESTION\n",
    "        }\n",
    "    ],\n",
    "    tools = tools,\n",
    "    tool_choice = \"auto\"\n",
    ")\n",
    "\n",
    "completion # includes the selected function(s) and corresponding arguments"
   ]
  },
  {
   "cell_type": "code",
   "execution_count": 13,
   "id": "d0434632",
   "metadata": {},
   "outputs": [
    {
     "data": {
      "text/plain": [
       "{'content': None,\n",
       " 'role': 'assistant',\n",
       " 'function_call': None,\n",
       " 'tool_calls': [{'id': 'call_t3qte7BPzpqGLI30uFXbIMvb',\n",
       "   'function': {'arguments': '{\"date_1\": \"2020-12-25\", \"date_2\": \"2021-04-04\"}',\n",
       "    'name': 'get_flights'},\n",
       "   'type': 'function'},\n",
       "  {'id': 'call_oipJoOvDjevPbAyULMXfXis0',\n",
       "   'function': {'arguments': '{\"base\": \"72\", \"power\": \"0.43\"}',\n",
       "    'name': 'elevation_to_power'},\n",
       "   'type': 'function'},\n",
       "  {'id': 'call_Ltx96DUXebVifdcx4lZdQ5VO',\n",
       "   'function': {'arguments': '{}', 'name': 'my_cat_born_date'},\n",
       "   'type': 'function'}]}"
      ]
     },
     "execution_count": 13,
     "metadata": {},
     "output_type": "execute_result"
    }
   ],
   "source": [
    "completion.choices[0].message.model_dump()"
   ]
  },
  {
   "cell_type": "markdown",
   "id": "024eaccd",
   "metadata": {},
   "source": [
    "## Run the function(s)\n",
    "- extract the function name from the *completion* returned in the previous cell\n",
    "- extract the arguments from the *completion*, then convert it to a dictionary object\n",
    "- use **eval** to run the function with its argument\n",
    "- retrieve the result into a new dictionary object, and print it"
   ]
  },
  {
   "cell_type": "markdown",
   "id": "09ce66ab",
   "metadata": {},
   "source": [
    "### this is just for debugging purposes..."
   ]
  },
  {
   "cell_type": "code",
   "execution_count": 14,
   "id": "53b88d51",
   "metadata": {
    "scrolled": true
   },
   "outputs": [
    {
     "name": "stdout",
     "output_type": "stream",
     "text": [
      "{'role': 'tool', 'name': 'get_flights', 'function_args': {'date_1': '2020-12-25', 'date_2': '2021-04-04'}, 'answer': '{\"flights\": 100}'}\n",
      "{'role': 'tool', 'name': 'elevation_to_power', 'function_args': {'base': '72', 'power': '0.43'}, 'answer': '{\"result\": 6.290033717412419}'}\n",
      "{'role': 'tool', 'name': 'my_cat_born_date', 'function_args': {}, 'answer': '{\"cat_born_date\": \"2014-02-20\"}'}\n"
     ]
    }
   ],
   "source": [
    "for tool_call in completion.choices[0].message.tool_calls:\n",
    "    role = completion.choices[0].message.role\n",
    "    function_name = tool_call.function.name\n",
    "    function_args = json.loads(tool_call.function.arguments)\n",
    "    function_answer = {\n",
    "        \"role\": \"tool\",\n",
    "        \"name\": function_name,\n",
    "        \"function_args\": function_args, # use function_args.get(\"parameter_name\") to get its value\n",
    "        \"answer\": eval(function_name)(**function_args),\n",
    "    }\n",
    "    print(function_answer)"
   ]
  },
  {
   "cell_type": "markdown",
   "id": "245f50af",
   "metadata": {},
   "source": [
    "### ...while the following cell creates a \"tool\" message for each \"tool_call\" included in the assistant messages"
   ]
  },
  {
   "cell_type": "code",
   "execution_count": null,
   "id": "765c84d4",
   "metadata": {},
   "outputs": [],
   "source": [
    "messages = []\n",
    "\n",
    "# USER MESSAGE\n",
    "message_user = {\"role\": \"user\", \"content\": QUESTION}\n",
    "messages.append(message_user)\n",
    "\n",
    "if (completion):\n",
    "    first_response = completion\n",
    "else:\n",
    "    first_response = client.chat.completions.create(\n",
    "        model=MODEL,\n",
    "        messages=messages,\n",
    "        tools=tools,\n",
    "        tool_choice=\"auto\",  # auto is default, but we'll be explicit\n",
    "    )\n",
    "\n",
    "# FIRST ASSISTANT MESSAGE\n",
    "# Here we build a second message whose role is \"assistant\" that contains the answer from the previous call\n",
    "message_assistant = first_response.choices[0].message.model_dump()\n",
    "message_assistant.pop('function_call')\n",
    "messages.append(message_assistant)\n",
    "\n",
    "# TOOL MESSAGES\n",
    "# We must create a \"tool\" message for each 'tool_call_id' included in the \"tool_calls\" array of the assistant message\n",
    "for tc in message_assistant['tool_calls']:\n",
    "    function_name = tc[\"function\"][\"name\"]\n",
    "    function_args = json.loads(tc[\"function\"][\"arguments\"])\n",
    "    \n",
    "    function_resp = eval(function_name)(**function_args) # THIS IS THE CALL TO OUR LOCAL FUNCTIONS!\n",
    "        \n",
    "    message_tool = {   \n",
    "        \"role\": \"tool\",\n",
    "        \"name\": function_name,\n",
    "        \"tool_call_id\": tc[\"id\"],\n",
    "        \"content\": function_resp\n",
    "    }     \n",
    "    messages.append(message_tool)\n",
    "    \n",
    "messages"
   ]
  },
  {
   "cell_type": "markdown",
   "id": "5a0cc1a9",
   "metadata": {},
   "source": [
    "## Now we pass the full list of messages to a second completion call\n",
    "This returns a *second set* of **assistant** messages"
   ]
  },
  {
   "cell_type": "code",
   "execution_count": null,
   "id": "0d2f3787",
   "metadata": {},
   "outputs": [],
   "source": [
    "second_response = client.chat.completions.create(\n",
    "    model       = MODEL,\n",
    "    messages    = messages,\n",
    "    tools       = tools,\n",
    "    tool_choice = 'auto'\n",
    ")\n",
    "\n",
    "second_response"
   ]
  },
  {
   "cell_type": "code",
   "execution_count": null,
   "id": "4a4dc74e",
   "metadata": {},
   "outputs": [],
   "source": [
    "if (second_response.choices[0].finish_reason=='stop'):\n",
    "    printmd(f'**We have the final answer**<br/>{second_response.choices[0].message.model_dump()[\"content\"]}')\n",
    "else:\n",
    "    print (f\"We still need at least another reasoning step: {second_response}\")"
   ]
  },
  {
   "cell_type": "markdown",
   "id": "e6ce0af7",
   "metadata": {},
   "source": [
    "# All answers in a single loop until finish_reason='stop'"
   ]
  },
  {
   "cell_type": "code",
   "execution_count": null,
   "id": "430a09a5",
   "metadata": {},
   "outputs": [],
   "source": [
    "%%javascript\n",
    "IPython.OutputArea.prototype._should_scroll = function(lines) {\n",
    "    return false;\n",
    "}"
   ]
  },
  {
   "cell_type": "code",
   "execution_count": null,
   "id": "c30b58f7",
   "metadata": {},
   "outputs": [],
   "source": [
    "%%time\n",
    "\n",
    "QUESTION = \"\"\"Calculate the number of flights between Christmas 2020 and Easter 2021, \n",
    "elevated to the power of 0.43 \n",
    "and multiplied by the number of days since my cat was born\"\"\"\n",
    "\n",
    "SYSTEM_MESSAGE = \"\"\"You are an AI assistant that helps people find information.\n",
    "Please provide two kinds of answers:\n",
    "\n",
    "1. First, give just a concise and high level response following these rules:   \n",
    "   - **JUST** detail the high level steps you would follow to achieve this result, next to the reason why you identified each one. \n",
    "   - **ALWAYS** think step by step.\n",
    "   - Do **NOT** provide any details about the sub-tasks you would do to achieve each step.\n",
    "   - Do **NOT** provide any examples to explain how you will implement the solution.\n",
    "   - Do **NOT** do any calculations or simulations.\n",
    "   - Do **NOT** use any external tools to do this, just use your internal knowledge.\n",
    "\n",
    "2. Second, implement one by one the needed steps, harnessing the tools provided. Furthermore, for each step:   \n",
    "   - Explain the reason why you chose that action and the functions.\n",
    "   - **NEVER** call a function if you do not have **all** required parameters of that function.\n",
    "   - **NEVER** use your internal knowledge to guess any date-related information.\n",
    "   \n",
    "At the end, **ALWAYS** provide a detailed description of the whole process that you followed to achieve the result, using well formatted markup language. Use wonderful formatted markdown answers.\"\"\"\n",
    "\n",
    "\n",
    "messages = []\n",
    "\n",
    "# SYSTEM MESSAGE\n",
    "message_system = {\"role\": \"system\", \"content\": SYSTEM_MESSAGE}\n",
    "messages.append(message_system)\n",
    "\n",
    "# USER MESSAGE\n",
    "message_user = {\"role\": \"user\", \"content\": QUESTION}\n",
    "messages.append(message_user)\n",
    "\n",
    "printmd(f'<h1><span style=\"color:darkblue;\">Given this SYSTEM_MESSAGE...</h1>')\n",
    "printmd_indented(f'{message_system[\"content\"]}')\n",
    "\n",
    "printmd(f'<h1><span style=\"color:darkblue;\">...and your QUESTION...</h1>')\n",
    "printmd_indented(f'*<span style=\"font-size:larger;color:blue;\">{message_user[\"content\"]}</span>*')\n",
    "\n",
    "printmd(f'<h1><span style=\"color:darkblue;\">...now, the fun BEGINS!</h1>')\n",
    "\n",
    "keep_asking_completions = True\n",
    "\n",
    "cumulative_total_tokens = 0\n",
    "completion_count        = 1\n",
    "max_attempts            = 10 # we accept up to these attempts by completion\n",
    "attempt_nr              = 1\n",
    "\n",
    "while (attempt_nr <= max_attempts):\n",
    "    try:        \n",
    "        while keep_asking_completions: # run the below block until finish_reason='stop', or just the first time\n",
    "            totaltokens_toolcalls = 0\n",
    "            \n",
    "            if (attempt_nr == 1): # we use green color if this is the first attempt\n",
    "                printmd(f'<h2><span style=\"color:darkgreen;\">Creating completion request #{completion_count}...</h2>')\n",
    "            else: # we use purple color if this is NOT the first attempt\n",
    "                printmd(f'<h2><span style=\"color:purple;\">Creating completion request #{completion_count} *again* (attempt #{attempt_nr}) ...</h2>')\n",
    "            \n",
    "            response = client.chat.completions.create(\n",
    "                model       = MODEL,\n",
    "                messages    = messages,\n",
    "                tools       = tools,\n",
    "                tool_choice = 'auto'\n",
    "            )\n",
    "            \n",
    "            prompt_tokens     = response.usage.prompt_tokens\n",
    "            completion_tokens = response.usage.completion_tokens\n",
    "            total_tokens      = response.usage.total_tokens\n",
    "            totaltokens_toolcalls = totaltokens_toolcalls + total_tokens\n",
    "            \n",
    "            finish_reason = response.choices[0].finish_reason\n",
    "            \n",
    "            if completion_count==1: # print the steps just after the first call\n",
    "                # printmd_indented(f'<span style=\"color:darkgreen;\">{response.choices[0].message.content}</span><br/>')\n",
    "                if (finish_reason == \"stop\"):\n",
    "                    raise Exception(\"Error: first call to OpenAI didn't choose any tools to run\")\n",
    "                else:\n",
    "                    printmd_indented(response.choices[0].message.content)\n",
    "            \n",
    "\n",
    "            printmd(f'<span style=\"font-size:larger;color:orange;\">...which consumed **{prompt_tokens}** prompt + **{completion_tokens}** completion tokens (=**{total_tokens}** total tokens)<br/>and terminated with finish_reason = `{finish_reason}`')\n",
    "            \n",
    "            if finish_reason == \"stop\":\n",
    "                printmd(f'<h2><span style=\"color:darkgreen;\">Hooray! All completions were successfully executed. We have reached the end of the chain!</span></h2>')\n",
    "                keep_asking_completions = False\n",
    "                break # exit while: all calls terminated well and we have our final solution\n",
    "            \n",
    "            message_assistant = response.choices[0].message.model_dump()\n",
    "            message_assistant.pop('function_call') # <<<--- ASSISTANT MESSAGE IS READY, WE ADD IT IF ALL FUNCTIONS WORK WELL\n",
    "            \n",
    "            messages_toolcalls = [] # we need to create a \"tool\" message for each function in message_assistant.tool_calls\n",
    "            \n",
    "            printmd(f'<span style=\"font-size:larger;color:darkgreen;\">As a result, the assistant indentified `{len(message_assistant[\"tool_calls\"])} function(s)`, that I\\'m now going to run:</span>')\n",
    "            # printmd(f'<h2><span style=\"color:darkgreen;\">The assistant indentified **{len(message_assistant['tool_calls'])}** function(s), that I\\'m now going to run:</h2>')\n",
    "            function_nr = 1\n",
    "            for tc in message_assistant['tool_calls']:\n",
    "                    function_name = tc[\"function\"][\"name\"]\n",
    "                    function_args = json.loads(tc[\"function\"][\"arguments\"])\n",
    "                    \n",
    "                    printmd_indented (f'<span style=\"color:darkgreen;\">{function_nr}) Running function `{function_name}({function_args})` in completion `#{completion_count}`, that returns...</span>')\n",
    "                    function_resp = eval(function_name)(**function_args) # THIS IS THE CALL TO OUR LOCAL FUNCTIONS!\n",
    "                    printmd_indented (f'>...<span style=\"color:darkblue;\">{function_resp}</span><br/>')\n",
    "\n",
    "                    message_tool = {   \n",
    "                        \"role\": \"tool\",\n",
    "                        \"name\": function_name,\n",
    "                        \"tool_call_id\": tc[\"id\"],\n",
    "                        \"content\": function_resp\n",
    "                    }     \n",
    "                    messages_toolcalls.append(message_tool)\n",
    "                    function_nr = function_nr + 1\n",
    "                    \n",
    "            messages.append(message_assistant)\n",
    "            for mt in messages_toolcalls:\n",
    "                messages.append(mt)\n",
    "                \n",
    "            \n",
    "            # We are at the end of the completion, which executed all its functions without any errors    \n",
    "            cumulative_total_tokens = cumulative_total_tokens + totaltokens_toolcalls\n",
    "            completion_count = completion_count + 1\n",
    "            attempt_nr = 1 # here we reset the attempt number to allow max_attempts for each completion\n",
    "        \n",
    "        break # exit the attempts loop\n",
    "        \n",
    "    except Exception as e:\n",
    "        cumulative_total_tokens = cumulative_total_tokens + totaltokens_toolcalls\n",
    "        printmd_indented(f'><span style=\"color:red;\">The following error occurred in completion #{completion_count} during the execution of `{function_name}{function_args}`: `{e}`. I will now try the attempt #{attempt_nr+1}...</span>')\n",
    "        attempt_nr = attempt_nr + 1\n",
    "        keep_asking_completions = True\n",
    "\n",
    "if (attempt_nr<=max_attempts):    \n",
    "    printmd(f'<h1><span style=\"color:blue;\">Now I have the final answer, which used {cumulative_total_tokens} cumulative tokens</span></h1></span>')\n",
    "    printmd(response.choices[0].message.content)\n",
    "else:\n",
    "    printmd(f'<h1><span style=\"color:red;\">Unfortunately, we exeeded the amount of allowed errors ({max_attempts}) in completion {completion_count}, so we couldn\\'t get to the final solution. Please analyze the erros, fix your tools and retry.</span></h1></span>')"
   ]
  },
  {
   "cell_type": "code",
   "execution_count": null,
   "id": "5dfbcbfc",
   "metadata": {},
   "outputs": [],
   "source": [
    "messages"
   ]
  },
  {
   "cell_type": "code",
   "execution_count": null,
   "id": "d9a977f6",
   "metadata": {},
   "outputs": [],
   "source": [
    "response"
   ]
  },
  {
   "cell_type": "markdown",
   "id": "e171d88c",
   "metadata": {},
   "source": [
    "# Documentation\n",
    "- Microsoft Docs: [How to use function calling with Azure OpenAI Service (Preview)](https://learn.microsoft.com/en-us/azure/ai-services/openai/how-to/function-calling?tabs=python)\n",
    "- Open AI Documentation: [OpenAI Reference Guid: how to create chat completions](https://platform.openai.com/docs/api-reference/chat/create)\n",
    "- YouTube Video: [OpenAI Function Calling - FULL Beginner Tutorial (video tutorial)](https://youtu.be/aqdWSYWC_LI)\n",
    "- Medium Article: [LangChain Agents With OpenAI Function Calling](https://cobusgreyling.medium.com/langchain-agents-with-openai-function-calling-54a6e5573ec9)\n",
    "- Article [What's the difference between Langchain Agents and OpenAI Functions?](https://mikulskibartosz.name/difference-between-langchain-agents-and-openai-functions)"
   ]
  }
 ],
 "metadata": {
  "kernelspec": {
   "display_name": "openaivbd_20231215",
   "language": "python",
   "name": "openaivbd_20231215"
  },
  "language_info": {
   "codemirror_mode": {
    "name": "ipython",
    "version": 3
   },
   "file_extension": ".py",
   "mimetype": "text/x-python",
   "name": "python",
   "nbconvert_exporter": "python",
   "pygments_lexer": "ipython3",
   "version": "3.10.13"
  }
 },
 "nbformat": 4,
 "nbformat_minor": 5
}
