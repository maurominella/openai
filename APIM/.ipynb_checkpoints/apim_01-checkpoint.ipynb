{
 "cells": [
  {
   "cell_type": "code",
   "execution_count": 13,
   "id": "298989f8-d5be-4b85-820b-d83ca508b1e0",
   "metadata": {},
   "outputs": [],
   "source": [
    "import os\n",
    "import requests\n",
    "from dotenv import load_dotenv # pip install python-dotenv\n",
    "\n",
    "load_dotenv(\"./../credentials_my.env\")\n",
    "\n",
    "openai_deployment_name    = os.environ['GPT-4O-20240513-128K']\n",
    "openai_api_version        = os.environ['AZURE_OPENAI_API_VERSION']\n",
    "apim_resource_gateway_url = os.environ['APIM_URL']\n",
    "apim_subscription_key     = os.environ['APIM_SUBSCRIPTION_KEY']\n",
    "\n",
    "openai_resources = [ {\"name\": \"openai1\", \"location\": \"southcentralus\"} ] "
   ]
  },
  {
   "cell_type": "code",
   "execution_count": 14,
   "id": "a73e1782-6788-4b27-b123-57646555a6be",
   "metadata": {},
   "outputs": [
    {
     "name": "stdout",
     "output_type": "stream",
     "text": [
      "▶️ Run:  1\n",
      "status code:  404\n",
      "headers  {'Content-Length': '54', 'Content-Type': 'application/json', 'Date': 'Tue, 11 Jun 2024 12:41:49 GMT'}\n",
      "x-ms-region:  None\n",
      "{ \"statusCode\": 404, \"message\": \"Resource not found\" }\n",
      "▶️ Run:  2\n",
      "status code:  404\n",
      "headers  {'Content-Length': '54', 'Content-Type': 'application/json', 'Date': 'Tue, 11 Jun 2024 12:41:49 GMT'}\n",
      "x-ms-region:  None\n",
      "{ \"statusCode\": 404, \"message\": \"Resource not found\" }\n",
      "▶️ Run:  3\n",
      "status code:  404\n",
      "headers  {'Content-Length': '54', 'Content-Type': 'application/json', 'Date': 'Tue, 11 Jun 2024 12:41:50 GMT'}\n",
      "x-ms-region:  None\n",
      "{ \"statusCode\": 404, \"message\": \"Resource not found\" }\n",
      "▶️ Run:  4\n",
      "status code:  404\n",
      "headers  {'Content-Length': '54', 'Content-Type': 'application/json', 'Date': 'Tue, 11 Jun 2024 12:41:50 GMT'}\n",
      "x-ms-region:  None\n",
      "{ \"statusCode\": 404, \"message\": \"Resource not found\" }\n",
      "▶️ Run:  5\n",
      "status code:  404\n",
      "headers  {'Content-Length': '54', 'Content-Type': 'application/json', 'Date': 'Tue, 11 Jun 2024 12:41:50 GMT'}\n",
      "x-ms-region:  None\n",
      "{ \"statusCode\": 404, \"message\": \"Resource not found\" }\n",
      "▶️ Run:  6\n",
      "status code:  404\n",
      "headers  {'Content-Length': '54', 'Content-Type': 'application/json', 'Date': 'Tue, 11 Jun 2024 12:41:51 GMT'}\n",
      "x-ms-region:  None\n",
      "{ \"statusCode\": 404, \"message\": \"Resource not found\" }\n",
      "▶️ Run:  7\n",
      "status code:  404\n",
      "headers  {'Content-Length': '54', 'Content-Type': 'application/json', 'Date': 'Tue, 11 Jun 2024 12:41:50 GMT'}\n",
      "x-ms-region:  None\n",
      "{ \"statusCode\": 404, \"message\": \"Resource not found\" }\n",
      "▶️ Run:  8\n",
      "status code:  404\n",
      "headers  {'Content-Length': '54', 'Content-Type': 'application/json', 'Date': 'Tue, 11 Jun 2024 12:41:51 GMT'}\n",
      "x-ms-region:  None\n",
      "{ \"statusCode\": 404, \"message\": \"Resource not found\" }\n",
      "▶️ Run:  9\n",
      "status code:  404\n",
      "headers  {'Content-Length': '54', 'Content-Type': 'application/json', 'Date': 'Tue, 11 Jun 2024 12:41:51 GMT'}\n",
      "x-ms-region:  None\n",
      "{ \"statusCode\": 404, \"message\": \"Resource not found\" }\n",
      "▶️ Run:  10\n",
      "status code:  404\n",
      "headers  {'Content-Length': '54', 'Content-Type': 'application/json', 'Date': 'Tue, 11 Jun 2024 12:41:51 GMT'}\n",
      "x-ms-region:  None\n",
      "{ \"statusCode\": 404, \"message\": \"Resource not found\" }\n"
     ]
    }
   ],
   "source": [
    "import time\n",
    "runs = 10\n",
    "sleep_time_ms = 0\n",
    "\n",
    "url = apim_resource_gateway_url + \"/openai/deployments/\" + openai_deployment_name + \"/chat/completions?api-version=\" + openai_api_version\n",
    "api_runs = []\n",
    "\n",
    "for i in range(runs):\n",
    "    print(\"▶️ Run: \", i+1)\n",
    "    if len(openai_resources) > 0:\n",
    "        messages={\"messages\":[\n",
    "            {\"role\": \"system\", \"content\": \"You are a sarcastic unhelpful assistant.\"},\n",
    "            {\"role\": \"user\", \"content\": \"Can you tell me the time, please?\"}\n",
    "        ]}\n",
    "\n",
    "    start_time = time.time()\n",
    "    response = requests.post(url, headers = {'api-key':apim_subscription_key}, json = messages)\n",
    "    response_time = time.time() - start_time\n",
    "    print(\"status code: \", response.status_code)\n",
    "    print(\"headers \", response.headers)\n",
    "    print(\"x-ms-region: \", response.headers.get(\"x-ms-region\")) # this header is useful to determine the region of the backend that served the request    \n",
    "    if (response.status_code == 200):\n",
    "        data = json.loads(response.text)\n",
    "        total_tokens = data.get(\"usage\").get(\"total_tokens\")\n",
    "        print(\"response: \", data.get(\"choices\")[0].get(\"message\").get(\"content\"))\n",
    "        print(\"total tokans: \", total_tokens)        \n",
    "    else:\n",
    "        print(response.text)\n",
    "        total_tokens = 0\n",
    "    api_runs.append((total_tokens, response.status_code))\n",
    "    time.sleep(sleep_time_ms/1000)"
   ]
  },
  {
   "cell_type": "code",
   "execution_count": 6,
   "id": "de81646f-afef-4c03-836c-445232d81f97",
   "metadata": {},
   "outputs": [
    {
     "data": {
      "text/plain": [
       "'https://mmapim01.azure-api.net/openai/deployments/gpt-4o-2024-05-13/chat/completions?api-version=2024-02-15-preview'"
      ]
     },
     "execution_count": 6,
     "metadata": {},
     "output_type": "execute_result"
    }
   ],
   "source": [
    "url"
   ]
  },
  {
   "cell_type": "code",
   "execution_count": null,
   "id": "6d7a8b7e-9fc4-4aad-96a7-c530d7731951",
   "metadata": {},
   "outputs": [],
   "source": []
  }
 ],
 "metadata": {
  "kernelspec": {
   "display_name": "openai",
   "language": "python",
   "name": "openai"
  },
  "language_info": {
   "codemirror_mode": {
    "name": "ipython",
    "version": 3
   },
   "file_extension": ".py",
   "mimetype": "text/x-python",
   "name": "python",
   "nbconvert_exporter": "python",
   "pygments_lexer": "ipython3",
   "version": "3.11.9"
  }
 },
 "nbformat": 4,
 "nbformat_minor": 5
}
