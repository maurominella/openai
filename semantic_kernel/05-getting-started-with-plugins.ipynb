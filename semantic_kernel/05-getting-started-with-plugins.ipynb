{
 "cells": [
  {
   "cell_type": "markdown",
   "id": "4ac07f67",
   "metadata": {},
   "source": [
    "# This sample was inspired by [00-getting-started.ipynb](https://github.com/microsoft/semantic-kernel/blob/main/python/notebooks/00-getting-started.ipynb)"
   ]
  },
  {
   "cell_type": "markdown",
   "id": "eb1605b2",
   "metadata": {},
   "source": [
    "## [How does Python SK compare to the C# version of Semantic Kernel?](https://github.com/microsoft/semantic-kernel/blob/main/python/README.md)\n",
    "- The two SDKs are compatible and at the core they follow the same design principles.\n",
    "- Some features are still available only in the C# version, and being ported.\n",
    "- Refer to the [FEATURE MATRIX](https://learn.microsoft.com/en-us/semantic-kernel/get-started/supported-languages) doc to see where things stand in matching the features and functionality of the main SK branch.\n",
    "- Over time there will be some features available only in the Python version, and others only in the C# version, for example adapters to external services, scientific libraries, etc.\n",
    "<br/>\n",
    "- Documentation\n",
    " - [Get Started with Semantic Kernel](https://github.com/microsoft/semantic-kernel/blob/main/python/README.md)\n",
    "\n",
    "Inspired to\n",
    " - https://github.com/microsoft/semantic-kernel/blob/main/dotnet/samples/KernelSyntaxExamples/Example59_OpenAIFunctionCalling.cs\n",
    " - https://github.com/microsoft/semantic-kernel/blob/main/python/samples/kernel-syntax-examples/openai_function_calling.py"
   ]
  },
  {
   "cell_type": "code",
   "execution_count": 1,
   "id": "3c097f1f",
   "metadata": {},
   "outputs": [],
   "source": [
    "# create the kernel\n",
    "\n",
    "import semantic_kernel as sk\n",
    "kernel = sk.Kernel()"
   ]
  },
  {
   "cell_type": "code",
   "execution_count": 2,
   "id": "77c1c6a5",
   "metadata": {},
   "outputs": [
    {
     "name": "stdout",
     "output_type": "stream",
     "text": [
      "This is my AzureChatCompletion connector:\n",
      "ai_model_id='gpt35turbo-0613-4k' client=<openai.lib.azure.AsyncAzureOpenAI object at 0x7fbd39b5baa0> ai_model_type=<OpenAIModelTypes.CHAT: 'chat'> prompt_tokens=0 completion_tokens=0 total_tokens=0\n"
     ]
    }
   ],
   "source": [
    "# create the SK \"chat completion connector\" to the Azure OpenAI service\n",
    "\n",
    "from dotenv import load_dotenv\n",
    "load_dotenv(\"credentials_my.env\")\n",
    "\n",
    "import semantic_kernel.connectors.ai.open_ai as sk_oai\n",
    "\n",
    "chat_connector = sk_oai.AzureChatCompletion(\n",
    "    api_key=os.environ['AZURE_OPENAI_API_KEY'],\n",
    "    api_version=os.environ['AZURE_OPENAI_API_VERSION'],\n",
    "    deployment_name=os.environ['GPT35TURBO-0613-4k'], # ['GPT4-1106-128k'],\n",
    "    endpoint=os.environ['AZURE_OPENAI_ENDPOINT']\n",
    ")\n",
    "print(f\"This is my AzureChatCompletion connector:\\n{chat_connector}\")"
   ]
  },
  {
   "cell_type": "code",
   "execution_count": 3,
   "id": "5c0f4311",
   "metadata": {},
   "outputs": [
    {
     "name": "stdout",
     "output_type": "stream",
     "text": [
      "Here are all chat services registered with this kernel: []\n"
     ]
    }
   ],
   "source": [
    "print(f\"Here are all chat services registered with this kernel: {kernel.all_chat_services()}\")"
   ]
  },
  {
   "cell_type": "code",
   "execution_count": 4,
   "id": "c2185c1e",
   "metadata": {},
   "outputs": [
    {
     "name": "stdout",
     "output_type": "stream",
     "text": [
      "Here are all chat services registered with this kernel: ['mauromi_chatgpt']\n"
     ]
    }
   ],
   "source": [
    "# add the openAI completion connector to the kernel, choosing a name to identify it within the kernel\n",
    "\n",
    "kernel.add_chat_service(\n",
    "    \"mauromi_chatgpt\", # unique name to be registered with the kernel\n",
    "    chat_connector\n",
    ")\n",
    "print(f\"Here are all chat services registered with this kernel: {kernel.all_chat_services()}\")"
   ]
  },
  {
   "cell_type": "markdown",
   "id": "dc794c81",
   "metadata": {},
   "source": [
    "# Load a plugin into the kernel and extract the function from the plugin\n",
    "## The joke plugin in the FunPlugins is a semantic plugin and has the function calling disabled.\n",
    "\n",
    "### config.json\n",
    "```\n",
    "{\n",
    "  \"schema\": 1,\n",
    "  \"description\": \"Generate a funny joke\",\n",
    "  \"execution_settings\": {\n",
    "    \"default\": {\n",
    "      \"max_tokens\": 1000,\n",
    "      \"temperature\": 0.9,\n",
    "      \"top_p\": 0.0,\n",
    "      \"presence_penalty\": 0.0,\n",
    "      \"frequency_penalty\": 0.0\n",
    "    }\n",
    "  },\n",
    "  \"input_variables\": [\n",
    "    {\n",
    "      \"name\": \"input\",\n",
    "      \"description\": \"Joke subject\",\n",
    "      \"default\": \"\"\n",
    "    },\n",
    "    {\n",
    "      \"name\": \"style\",\n",
    "      \"description\": \"Give a hint about the desired joke style\",\n",
    "      \"default\": \"\"\n",
    "    }\n",
    "  ]\n",
    "}\n",
    "```\n",
    "\n",
    "### skprompt.txt\n",
    "```\n",
    "WRITE EXACTLY ONE JOKE or HUMOROUS STORY ABOUT THE TOPIC BELOW\n",
    "\n",
    "JOKE MUST BE:\n",
    "- G RATED\n",
    "- WORKPLACE/FAMILY SAFE\n",
    "NO SEXISM, RACISM OR OTHER BIAS/BIGOTRY\n",
    "\n",
    "BE CREATIVE AND FUNNY. I WANT TO LAUGH.\n",
    "Incorporate the style suggestion, if provided: {{$style}}\n",
    "+++++\n",
    "\n",
    "{{$input}}\n",
    "+++++\n",
    "```"
   ]
  },
  {
   "cell_type": "code",
   "execution_count": 5,
   "id": "999afbb3",
   "metadata": {},
   "outputs": [
    {
     "name": "stdout",
     "output_type": "stream",
     "text": [
      "Here are my plugins imported into the kernel:\n",
      "data={'funplugin': {'joke': KernelFunction()}}\n"
     ]
    }
   ],
   "source": [
    "# load a plugin into the kernel and extract the function from the plugin\n",
    "# the joke plugin in the FunPlugins is a semantic plugin and has the function calling disabled.\n",
    "\n",
    "import os\n",
    "plugins_directory = os.path.join(os.getcwd(), \"./Plugins\")\n",
    "plugin = kernel.import_semantic_plugin_from_directory(plugins_directory, \"FunPlugin\")\n",
    "joke_function = plugin[\"Joke\"]\n",
    "\n",
    "print(f\"Here are my plugins imported into the kernel:\\n{kernel.plugins}\")"
   ]
  },
  {
   "cell_type": "code",
   "execution_count": 6,
   "id": "105a40ac",
   "metadata": {},
   "outputs": [
    {
     "name": "stdout",
     "output_type": "stream",
     "text": [
      "Un giorno, un uomo italiano di nome Giovanni decise di fare un viaggio nel tempo fino all'era dei dinosauri. Era così eccitato all'idea di vedere questi enormi rettili preistorici con i suoi stessi occhi!\n",
      "\n",
      "Dopo aver attivato la sua macchina del tempo, Giovanni si ritrovò improvvisamente circondato da una giungla lussureggiante e da un caldo soffocante. Mentre camminava con cautela, sentì un rumore provenire da dietro un albero. Si voltò e vide un enorme dinosauro T-Rex che si avvicinava a lui!\n",
      "\n",
      "Giovanni, spaventato, iniziò a correre per la sua vita. Ma il T-Rex era veloce e sembrava sempre più vicino. Improvvisamente, Giovanni inciampò su una radice e cadde a terra. Si aspettava il peggio, ma quando aprì gli occhi, vide il T-Rex che si era fermato proprio davanti a lui.\n",
      "\n",
      "Il dinosauro sembrava confuso e un po' triste. Giovanni, ancora tremante, si alzò e disse: \"Scusa, signor T-Rex, non volevo disturbarti. Sono solo un turista del tempo che cercava di ammirare la tua bellezza preistorica!\"\n",
      "\n",
      "Il T-Rex sembrò sorpreso e poi sorrise. Iniziò a fare dei suoni strani, quasi come una risata. Giovanni si sentì sollevato e chiese: \"Ma cosa c'è di così divertente?\"\n",
      "\n",
      "Il T-Rex rispose: \"Sai, sono abituato a spaventare le persone, ma tu sei il primo italiano che incontro! Mi hai fatto ridere con il tuo accento e la tua corsa goffa!\"\n",
      "\n",
      "Giovanni sorrise e disse: \"Beh, sono felice di averti fatto ridere, signor T-Rex. Forse potremmo essere amici invece di spaventarci a vicenda!\"\n",
      "\n",
      "E così, Giovanni e il T-Rex divennero amici inseparabili. Giovanni imparò molto sulla vita dei dinosauri e il T-Rex imparò a cucinare la pasta italiana. Da quel giorno in poi, il viaggio nel tempo di Giovanni nella preistoria fu pieno di risate e avventure con il suo nuovo amico dinosauro.\n",
      "CPU times: user 25.7 ms, sys: 440 µs, total: 26.2 ms\n",
      "Wall time: 6.47 s\n"
     ]
    }
   ],
   "source": [
    "%%time\n",
    "\n",
    "# Option 1: run the plugin as a semantic function using context_variables\n",
    "\n",
    "context_variables = sk.ContextVariables()\n",
    "context_variables[\"style\"] = \"Tell the story in Italian\"\n",
    "result1 = joke_function(input=\"time travel to dinosaur age\", variables=context_variables)\n",
    "print (result1)"
   ]
  },
  {
   "cell_type": "code",
   "execution_count": 7,
   "id": "1d3411bc",
   "metadata": {},
   "outputs": [
    {
     "name": "stdout",
     "output_type": "stream",
     "text": [
      "Un giorno, un uomo italiano di nome Giovanni decise di fare un viaggio nel tempo fino all'era dei dinosauri. Era così eccitato all'idea di vedere questi enormi rettili preistorici con i suoi stessi occhi!\n",
      "\n",
      "Dopo aver attivato la sua macchina del tempo, Giovanni si ritrovò improvvisamente circondato da una giungla lussureggiante e da un caldo soffocante. Mentre camminava con cautela, sentì un rumore provenire da dietro un albero. Si voltò e vide un enorme dinosauro T-Rex che si avvicinava a lui!\n",
      "\n",
      "Giovanni, spaventato, iniziò a correre per la sua vita. Ma il T-Rex era veloce e sembrava sempre più vicino. Improvvisamente, Giovanni inciampò su una radice e cadde a terra. Si aspettava il peggio, ma quando aprì gli occhi, vide il T-Rex che si era fermato proprio davanti a lui.\n",
      "\n",
      "Il dinosauro sembrava confuso e un po' triste. Giovanni, ancora tremante, si alzò e disse: \"Scusa, signor T-Rex, non volevo disturbarti. Sono solo un turista del tempo che cercava di ammirare la tua bellezza preistorica!\"\n",
      "\n",
      "Il T-Rex sembrò sorpreso e poi sorrise. Iniziò a fare dei suoni strani, quasi come una risata. Giovanni si sentì sollevato e chiese: \"Ma cosa c'è di così divertente?\"\n",
      "\n",
      "Il T-Rex rispose: \"Sai, sono abituato a spaventare le persone, ma tu sei il primo italiano che incontro! Mi hai fatto ridere con il tuo accento e la tua corsa goffa!\"\n",
      "\n",
      "Giovanni sorrise e disse: \"Beh, sono felice di averti fatto ridere, signor T-Rex. Forse potremmo essere amici invece di spaventarci a vicenda!\"\n",
      "\n",
      "E così, Giovanni e il T-Rex divennero amici inseparabili. Giovanni imparò molto sulla vita dei dinosauri e il T-Rex imparò a cucinare la pasta italiana. Da quel giorno in poi, il viaggio nel tempo di Giovanni nella preistoria fu pieno di risate e avventure con il suo nuovo amico dinosauro.\n",
      "CPU times: user 20.8 ms, sys: 625 µs, total: 21.4 ms\n",
      "Wall time: 8.46 s\n"
     ]
    }
   ],
   "source": [
    "%%time\n",
    "\n",
    "# Option 2: run the plugin as a semantic function using context\n",
    "\n",
    "context = kernel.create_new_context()\n",
    "context.variables[\"style\"] = \"Tell the story in Italian\"\n",
    "result2 = joke_function(input=\"time travel to dinosaur age\", context=context)\n",
    "print (result2)"
   ]
  }
 ],
 "metadata": {
  "kernelspec": {
   "display_name": "semantic_kernel",
   "language": "python",
   "name": "semantic_kernel"
  },
  "language_info": {
   "codemirror_mode": {
    "name": "ipython",
    "version": 3
   },
   "file_extension": ".py",
   "mimetype": "text/x-python",
   "name": "python",
   "nbconvert_exporter": "python",
   "pygments_lexer": "ipython3",
   "version": "3.12.1"
  }
 },
 "nbformat": 4,
 "nbformat_minor": 5
}
