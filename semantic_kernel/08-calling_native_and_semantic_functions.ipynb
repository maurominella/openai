{
 "cells": [
  {
   "cell_type": "markdown",
   "id": "4ac07f67",
   "metadata": {},
   "source": [
    "# This sample was inspired by [08-native-function-inline.ipynb](https://github.com/microsoft/semantic-kernel/blob/main/python/notebooks/08-native-function-inline.ipynb)"
   ]
  },
  {
   "cell_type": "markdown",
   "id": "eb1605b2",
   "metadata": {},
   "source": [
    "## [How does Python SK compare to the C# version of Semantic Kernel?](https://github.com/microsoft/semantic-kernel/blob/main/python/README.md)\n",
    "- The two SDKs are compatible and at the core they follow the same design principles.\n",
    "- Some features are still available only in the C# version, and being ported.\n",
    "- Refer to the [FEATURE MATRIX](https://learn.microsoft.com/en-us/semantic-kernel/get-started/supported-languages) doc to see where things stand in matching the features and functionality of the main SK branch.\n",
    "- Over time there will be some features available only in the Python version, and others only in the C# version, for example adapters to external services, scientific libraries, etc.\n",
    "<br/>\n",
    "- Documentation\n",
    " - [Get Started with Semantic Kernel](https://github.com/microsoft/semantic-kernel/blob/main/python/README.md)\n",
    "\n",
    "Inspired to\n",
    " - https://github.com/microsoft/semantic-kernel/blob/main/dotnet/samples/KernelSyntaxExamples/Example59_OpenAIFunctionCalling.cs\n",
    " - https://github.com/microsoft/semantic-kernel/blob/main/python/samples/kernel-syntax-examples/openai_function_calling.py"
   ]
  },
  {
   "cell_type": "code",
   "execution_count": 1,
   "id": "d33f6fc1",
   "metadata": {},
   "outputs": [],
   "source": [
    "# Create \"Native\" (aka \"Core\") Plugins that contain \"Native\" Functions\n",
    "\n",
    "from semantic_kernel import KernelContext\n",
    "from semantic_kernel.plugin_definition import kernel_function, kernel_function_context_parameter\n",
    "\n",
    "\n",
    "\n",
    "# --------------- CatClass\n",
    "\n",
    "class CatClass:\n",
    "    \"\"\"\n",
    "    Description: Given a cat name, returns some information.\n",
    "    \"\"\"    \n",
    "    @kernel_function(\n",
    "        description=\"Given a cat name, returns its age.\",\n",
    "        name=\"CatAge\",\n",
    "    )\n",
    "    @kernel_function_context_parameter(name=\"cat_name\", description=\"The cat name\", default_value=\"AA\")\n",
    "    def cat_age(self, cat_name: str = \"AA\") -> str:\n",
    "        \"\"\"\n",
    "        Given a cat name, returns its age.\n",
    "        \"\"\"\n",
    "        # print(f\"cat_name: {cat_name}\")\n",
    "        try:\n",
    "            \n",
    "            return str(len(cat_name))\n",
    "        except ValueError as e:\n",
    "            print(f\"Invalid input {cat_name}\")\n",
    "            raise e\n",
    "            \n",
    "    @kernel_function(\n",
    "        description=\"Given a cat name, returns its birthday.\",\n",
    "        name=\"CatBirthday\",\n",
    "    )\n",
    "    @kernel_function_context_parameter(name=\"cat_name\", description=\"The cat name\", default_value=\"AA\")\n",
    "    def cat_birthday(self, cat_name: str = \"AA\") -> str:\n",
    "        \"\"\"\n",
    "        Given a cat name, returns its birthday.\n",
    "        \"\"\"\n",
    "        # print(f\"cat_name: {cat_name}\")\n",
    "        from datetime import datetime\n",
    "        from dateutil.relativedelta import relativedelta\n",
    "        \n",
    "        today_str  = datetime.today().strftime(\"%Y-%m-%d\")\n",
    "        today_date = datetime.strptime(today_str,\"%Y-%m-%d\")\n",
    "\n",
    "        try:\n",
    "            cat_birthday_str = today_date.strftime(f\"{2000+len(cat_name)}-%m-%d\")\n",
    "            cat_birthday_date = datetime.strptime(cat_birthday_str,\"%Y-%m-%d\") # error raised when 29/2 in non-leap years\n",
    "        except ValueError as e:\n",
    "            cat_birthday_str = (today_date + relativedelta(days=1)).strftime(f\"{2000+len(cat_name)}-%m-%d\") # take March 1st\n",
    "\n",
    "        return cat_birthday_str\n",
    "\n",
    "    \n",
    "# --------------- RandomNumberClass\n",
    "\n",
    "    \n",
    "class RandomNumberClass:\n",
    "    \"\"\"\n",
    "    Description: Generate some random numbers.\n",
    "    \"\"\"\n",
    "\n",
    "    @kernel_function(\n",
    "        description=\"Generate a random number between 3 and x\",\n",
    "        name=\"GenerateNumberThreeOrHigher\",\n",
    "    )\n",
    "    def generate_number_three_or_higher(self, input: str) -> str:\n",
    "        \"\"\"\n",
    "        Generate a number between 3 and <input>\n",
    "        Example:\n",
    "            \"8\" => rand(3,8)\n",
    "        Args:\n",
    "            input -- The upper limit for the random number generation\n",
    "        Returns:\n",
    "            int value\n",
    "        \"\"\"\n",
    "        import random\n",
    "\n",
    "        try:\n",
    "            return str(random.randint(3, int(input)))\n",
    "        except ValueError as e:\n",
    "            print(f\"Invalid input {input}\")\n",
    "            raise e\n",
    "\n",
    "    @kernel_function(\n",
    "        description=\"Generate a random number between x and three\",\n",
    "        name=\"GenerateNumberThreeOrLower\",\n",
    "    )\n",
    "    def generate_number_three_or_lower(self, input: str) -> str:\n",
    "        \"\"\"\n",
    "        Generate a number between <input> and 3\n",
    "        Example:\n",
    "            \"-4\" => rand(-4,3)\n",
    "        Args:\n",
    "            input -- The lower limit for the random number generation\n",
    "        Returns:\n",
    "            int value\n",
    "        \"\"\"\n",
    "        import random\n",
    "        \n",
    "        try:\n",
    "            return str(random.randint(int(input),3))\n",
    "        except ValueError as e:\n",
    "            print(f\"Invalid input {input}\")\n",
    "            raise e"
   ]
  },
  {
   "cell_type": "code",
   "execution_count": 2,
   "id": "b7c44198",
   "metadata": {},
   "outputs": [
    {
     "name": "stdout",
     "output_type": "stream",
     "text": [
      "my_cat_age: 2\n",
      "5\n",
      "2005-02-07\n",
      "-28\n"
     ]
    }
   ],
   "source": [
    "# test the classes (NOT the plugin!)\n",
    "\n",
    "my_cat_object = CatClass()  # Create an instance\n",
    "my_cat_age = my_cat_object.cat_age() # Call the method\n",
    "print(f\"my_cat_age: {my_cat_age}\") # Assert the result\n",
    "\n",
    "print (my_cat_object.cat_age(\"Molly\"))\n",
    "print (my_cat_object.cat_birthday(\"Molly\"))\n",
    "\n",
    "print(RandomNumberClass().generate_number_three_or_lower(-30))"
   ]
  },
  {
   "cell_type": "markdown",
   "id": "16f2176c",
   "metadata": {},
   "source": [
    "# Create the Semantic Kernel to load classes as plugins into it"
   ]
  },
  {
   "cell_type": "code",
   "execution_count": 3,
   "id": "016d9c31",
   "metadata": {},
   "outputs": [],
   "source": [
    "import semantic_kernel as sk\n",
    "kernel = sk.Kernel()"
   ]
  },
  {
   "cell_type": "code",
   "execution_count": 4,
   "id": "3f7afeb7",
   "metadata": {},
   "outputs": [
    {
     "name": "stdout",
     "output_type": "stream",
     "text": [
      "Here are my plugins imported into the kernel:\n",
      "data={'catplugin': {'catage': KernelFunction(), 'catbirthday': KernelFunction()}, 'randomnumberplugin': {'generatenumberthreeorhigher': KernelFunction(), 'generatenumberthreeorlower': KernelFunction()}}\n"
     ]
    }
   ],
   "source": [
    "# import plugins into the kernel, together with all their (native) functions\n",
    "kernel.import_plugin(plugin_instance=CatClass(), plugin_name=\"CatPlugin\")\n",
    "kernel.import_plugin(plugin_instance=RandomNumberClass(), plugin_name=\"RandomNumberPlugin\")\n",
    "print(f\"Here are my plugins imported into the kernel:\\n{kernel.plugins}\")"
   ]
  },
  {
   "cell_type": "markdown",
   "id": "bcb090e7",
   "metadata": {},
   "source": [
    "# Call Native Functions using plugins imported into the Kernel\n",
    "## Note that we don't need any connection to Open AI to do this"
   ]
  },
  {
   "cell_type": "code",
   "execution_count": 5,
   "id": "230dbf37",
   "metadata": {},
   "outputs": [
    {
     "name": "stdout",
     "output_type": "stream",
     "text": [
      "8\n",
      "-20\n",
      "2003-02-07\n",
      "2009-02-07\n",
      "9\n",
      "5\n"
     ]
    }
   ],
   "source": [
    "# test plugin functions after extracting them from the kernel\n",
    "\n",
    "print(kernel.plugins.get_function(plugin_name=\"RandomNumberPlugin\", function_name=\"GenerateNumberThreeOrHigher\")(\"20\"))\n",
    "print(kernel.plugins.get_function(plugin_name=\"RandomNumberPlugin\", function_name=\"GenerateNumberThreeOrLower\")(\"-20\"))\n",
    "print(kernel.plugins.get_function(plugin_name=\"CatPlugin\", function_name=\"CatBirthday\")(\"Tom\"))\n",
    "print(kernel.plugins.get_function(plugin_name=\"CatPlugin\", function_name=\"CatBirthday\")(\"Cleopatra\"))\n",
    "print(kernel.plugins.get_function(plugin_name=\"CatPlugin\", function_name=\"CatAge\")(\"Cleopatra\"))\n",
    "print(kernel.plugins.get_function(plugin_name=\"CatPlugin\", function_name=\"CatAge\")(\"Molly\"))"
   ]
  },
  {
   "cell_type": "code",
   "execution_count": 6,
   "id": "834c5213",
   "metadata": {},
   "outputs": [
    {
     "name": "stdout",
     "output_type": "stream",
     "text": [
      "2005-02-07\n"
     ]
    }
   ],
   "source": [
    "# another way to test Cats_Birthday function after extracting it from the kenel\n",
    "\n",
    "cb_function = kernel.plugins.get_function(plugin_name=\"CatPlugin\", function_name=\"CatBirthday\")\n",
    "answer = cb_function.invoke(\"Molly\")\n",
    "print (answer)"
   ]
  },
  {
   "cell_type": "markdown",
   "id": "e5182018",
   "metadata": {},
   "source": [
    "## Add Open AI Chat Completion \"Connector\" to allow Kernel call Semantic Functions.\n",
    "### Otherwise we get the error `<TextCompletionClientBase service with service_id 'None' not found>`"
   ]
  },
  {
   "cell_type": "code",
   "execution_count": 7,
   "id": "5b032960",
   "metadata": {},
   "outputs": [
    {
     "name": "stdout",
     "output_type": "stream",
     "text": [
      "This is my AzureChatCompletion connector:\n",
      "ai_model_id='gpt35turbo-0613-4k' client=<openai.lib.azure.AsyncAzureOpenAI object at 0x7fa6e0f2f980> ai_model_type=<OpenAIModelTypes.CHAT: 'chat'> prompt_tokens=0 completion_tokens=0 total_tokens=0\n"
     ]
    }
   ],
   "source": [
    "# We haven't used OpenAI yet\n",
    "# So we create the SK \"chat completion connector\" to the Azure OpenAI service\n",
    "\n",
    "from dotenv import load_dotenv\n",
    "load_dotenv(\"credentials_my.env\")\n",
    "\n",
    "import semantic_kernel.connectors.ai.open_ai as sk_oai\n",
    "\n",
    "chat_connector = sk_oai.AzureChatCompletion(\n",
    "    api_key=os.environ['AZURE_OPENAI_API_KEY'],\n",
    "    api_version=os.environ['AZURE_OPENAI_API_VERSION'],\n",
    "    deployment_name=os.environ['GPT35TURBO-0613-4k'], # ['GPT4-1106-128k'],\n",
    "    endpoint=os.environ['AZURE_OPENAI_ENDPOINT']\n",
    ")\n",
    "print(f\"This is my AzureChatCompletion connector:\\n{chat_connector}\")"
   ]
  },
  {
   "cell_type": "code",
   "execution_count": 8,
   "id": "40b6ec23",
   "metadata": {},
   "outputs": [
    {
     "name": "stdout",
     "output_type": "stream",
     "text": [
      "Here are all chat services registered with this kernel: ['mauromi_chatgpt']\n"
     ]
    }
   ],
   "source": [
    "# add the openAI completion connector to the kernel, choosing a name to identify it within the kernel\n",
    "# after this instruction, the kernel has got it service_id that you can get with kernel.all_chat_services()\n",
    "\n",
    "kernel.add_chat_service(\n",
    "    \"mauromi_chatgpt\", # unique name to be registered with the kernel\n",
    "    chat_connector\n",
    ")\n",
    "print(f\"Here are all chat services registered with this kernel: {kernel.all_chat_services()}\")"
   ]
  },
  {
   "cell_type": "markdown",
   "id": "d86d0718",
   "metadata": {},
   "source": [
    "# Create and Call Stand-Alone Semantic Functions"
   ]
  },
  {
   "cell_type": "code",
   "execution_count": 9,
   "id": "79e97836",
   "metadata": {},
   "outputs": [
    {
     "name": "stdout",
     "output_type": "stream",
     "text": [
      "Here are my plugins imported into the kernel:\n",
      "data={'catplugin': {'catage': KernelFunction(), 'catbirthday': KernelFunction()}, 'randomnumberplugin': {'generatenumberthreeorhigher': KernelFunction(), 'generatenumberthreeorlower': KernelFunction()}, 'genericsemanticplugin': {'genericsemanticfunction': KernelFunction()}}\n"
     ]
    }
   ],
   "source": [
    "# Now that we have the chat service registered with the kernel, we can create and run a semantic function IN-LINE\n",
    "# The semantic function is added to the list of kernel semantic functions\n",
    "# We may also add an existing SEMANTIC plugin with kernel.import_semantic_plugin_from_directory(plugins_directory, \"FunPlugin\")\n",
    "# We may also add an existing NATIVE plugin with import_native_plugin_from_directory(plugins_directory, \"FunPlugin\")\n",
    "# https://github.com/microsoft/semantic-kernel/blob/main/python/samples/kernel-syntax-examples/openai_function_calling.py\n",
    "\n",
    "sk_prompt = \"Give exactly 3 answers to the following question: {{$input}}\"\n",
    "\n",
    "# The following instruction adds a semantic function to the kernel. It requires that the kernel contains the chat or \n",
    "# text completion service, otherwise we get the error <TextCompletionClientBase service with service_id 'None' not found>\n",
    "my_semantic_function = kernel.create_semantic_function(\n",
    "    prompt_template=sk_prompt,\n",
    "    plugin_name=\"GenericSemanticPlugin\",\n",
    "    function_name=\"GenericSemanticFunction\",\n",
    "    description=\"Generic Semantic Function in a Generic Semantic Plugin\",\n",
    "    max_tokens=500,\n",
    "    temperature=0.5,\n",
    "    top_p=0.5,\n",
    ")\n",
    "\n",
    "print(f\"Here are my plugins imported into the kernel:\\n{kernel.plugins}\")"
   ]
  },
  {
   "cell_type": "code",
   "execution_count": 10,
   "id": "b168c683",
   "metadata": {},
   "outputs": [
    {
     "name": "stdout",
     "output_type": "stream",
     "text": [
      "Input Context Variable (before):\n",
      "<<<Give me a wild animal>>>\n",
      "Result:\n",
      "1. Lion\n",
      "2. Tiger\n",
      "3. Elephant\n",
      "\n",
      "Input Context Variable (after):\n",
      "<<<1. Lion\n",
      "2. Tiger\n",
      "3. Elephant>>>\n"
     ]
    }
   ],
   "source": [
    "# Call the semantic function directly, without extracting it from the kernel\n",
    "# Note: the value of the \"input\" variable is replaced with the answer that we get from the semantic function\n",
    "\n",
    "context = kernel.create_new_context()\n",
    "context.variables[\"input\"] = \"Give me a wild animal\"\n",
    "print(f\"Input Context Variable (before):\\n<<<{context.variables.input}>>>\")\n",
    "print(f\"Result:\\n{my_semantic_function.invoke(context=context)}\")\n",
    "print(f\"\\nInput Context Variable (after):\\n<<<{context.variables.input}>>>\")"
   ]
  },
  {
   "cell_type": "code",
   "execution_count": 11,
   "id": "5634e2d6",
   "metadata": {},
   "outputs": [
    {
     "name": "stdout",
     "output_type": "stream",
     "text": [
      "Input Context Variable (before):\n",
      "<<<Who is Joe Biden's Wife?>>>\n",
      "Result:\n",
      "1. Jill Biden is Joe Biden's wife.\n",
      "2. Dr. Jill Biden is Joe Biden's wife.\n",
      "3. Jill Tracy Jacobs Biden is Joe Biden's wife.\n",
      "\n",
      "Input Context Variable (after):\n",
      "<<<1. Jill Biden is Joe Biden's wife.\n",
      "2. Dr. Jill Biden is Joe Biden's wife.\n",
      "3. Jill Tracy Jacobs Biden is Joe Biden's wife.>>>\n"
     ]
    }
   ],
   "source": [
    "# Same result as previous cell, but in this case we extract the semantic function from the kernel and THEN we invoke it\n",
    "\n",
    "sf = kernel.plugins.get_function(plugin_name=\"GenericSemanticPlugin\", function_name=\"GenericSemanticFunction\")\n",
    "\n",
    "context = kernel.create_new_context()\n",
    "context.variables[\"input\"] = \"Who is Joe Biden's Wife?\"\n",
    "\n",
    "print(f\"Input Context Variable (before):\\n<<<{context.variables.input}>>>\")\n",
    "print(f\"Result:\\n{my_semantic_function.invoke(context=context)}\")\n",
    "print(f\"\\nInput Context Variable (after):\\n<<<{context.variables.input}>>>\")"
   ]
  },
  {
   "cell_type": "markdown",
   "id": "0a712bbd",
   "metadata": {},
   "source": [
    "## Recap: which plugins and functions do we have of which type (native / semantic)?"
   ]
  },
  {
   "cell_type": "code",
   "execution_count": 12,
   "id": "d19c82b2",
   "metadata": {},
   "outputs": [
    {
     "name": "stdout",
     "output_type": "stream",
     "text": [
      "{\n",
      "  \"semantic_functions\": {\n",
      "    \"GenericSemanticPlugin\": [\n",
      "      {\n",
      "        \"name\": \"GenericSemanticFunction\",\n",
      "        \"plugin_name\": \"GenericSemanticPlugin\",\n",
      "        \"description\": \"Generic Semantic Function in a Generic Semantic Plugin\",\n",
      "        \"is_semantic\": true,\n",
      "        \"parameters\": [\n",
      "          {\n",
      "            \"name\": \"input\",\n",
      "            \"description\": \"\",\n",
      "            \"default_value\": \"\",\n",
      "            \"type_\": \"string\",\n",
      "            \"required\": false\n",
      "          }\n",
      "        ],\n",
      "        \"is_asynchronous\": true\n",
      "      }\n",
      "    ]\n",
      "  },\n",
      "  \"native_functions\": {\n",
      "    \"CatPlugin\": [\n",
      "      {\n",
      "        \"name\": \"CatAge\",\n",
      "        \"plugin_name\": \"CatPlugin\",\n",
      "        \"description\": \"Given a cat name, returns its age.\",\n",
      "        \"is_semantic\": false,\n",
      "        \"parameters\": [\n",
      "          {\n",
      "            \"name\": \"cat_name\",\n",
      "            \"description\": \"The cat name\",\n",
      "            \"default_value\": \"AA\",\n",
      "            \"type_\": \"string\",\n",
      "            \"required\": false\n",
      "          }\n",
      "        ],\n",
      "        \"is_asynchronous\": true\n",
      "      },\n",
      "      {\n",
      "        \"name\": \"CatBirthday\",\n",
      "        \"plugin_name\": \"CatPlugin\",\n",
      "        \"description\": \"Given a cat name, returns its birthday.\",\n",
      "        \"is_semantic\": false,\n",
      "        \"parameters\": [\n",
      "          {\n",
      "            \"name\": \"cat_name\",\n",
      "            \"description\": \"The cat name\",\n",
      "            \"default_value\": \"AA\",\n",
      "            \"type_\": \"string\",\n",
      "            \"required\": false\n",
      "          }\n",
      "        ],\n",
      "        \"is_asynchronous\": true\n",
      "      }\n",
      "    ],\n",
      "    \"RandomNumberPlugin\": [\n",
      "      {\n",
      "        \"name\": \"GenerateNumberThreeOrHigher\",\n",
      "        \"plugin_name\": \"RandomNumberPlugin\",\n",
      "        \"description\": \"Generate a random number between 3 and x\",\n",
      "        \"is_semantic\": false,\n",
      "        \"parameters\": [],\n",
      "        \"is_asynchronous\": true\n",
      "      },\n",
      "      {\n",
      "        \"name\": \"GenerateNumberThreeOrLower\",\n",
      "        \"plugin_name\": \"RandomNumberPlugin\",\n",
      "        \"description\": \"Generate a random number between x and three\",\n",
      "        \"is_semantic\": false,\n",
      "        \"parameters\": [],\n",
      "        \"is_asynchronous\": true\n",
      "      }\n",
      "    ]\n",
      "  }\n",
      "}\n"
     ]
    }
   ],
   "source": [
    "import json\n",
    "\n",
    "all_functions = kernel.plugins.get_functions_view()\n",
    "json_object = json.loads(all_functions.json())\n",
    "json_formatted_str = json.dumps(json_object, indent=2)\n",
    "\n",
    "print(json_formatted_str)"
   ]
  },
  {
   "cell_type": "markdown",
   "id": "b57584da",
   "metadata": {},
   "source": [
    "# Calling Native Functions from within a Semantic Function\n",
    "One neat thing about the Semantic Kernel is that you can also call native functions from within Semantic Functions!\n",
    "\n",
    "We will make our CorgiStory semantic function call a native function GenerateNames which will return names for our Corgi characters.\n",
    "\n",
    "We do this using the syntax `{{plugin_name.function_name}}` or `{{plugin_name.function_name $param_name}}` or `{{plugin_name.function_name \"param_value\"}}`.You can read more about our prompte templating syntax [here](https://learn.microsoft.com/en-us/semantic-kernel/prompts/prompt-template-syntax)."
   ]
  },
  {
   "cell_type": "code",
   "execution_count": 13,
   "id": "6936886e",
   "metadata": {},
   "outputs": [
    {
     "name": "stdout",
     "output_type": "stream",
     "text": [
      "Here are my plugins imported into the kernel:\n",
      "data={'catplugin': {'catage': KernelFunction(), 'catbirthday': KernelFunction()}, 'randomnumberplugin': {'generatenumberthreeorhigher': KernelFunction(), 'generatenumberthreeorlower': KernelFunction()}, 'genericsemanticplugin': {'genericsemanticfunction': KernelFunction()}, 'genericsemanticpluginnested': {'genericsemanticfunctionnested': KernelFunction()}}\n"
     ]
    }
   ],
   "source": [
    "# Now that we have the chat service registered with the kernel, we can create and run a semantic function IN-LINE\n",
    "# The semantic function is added to the list of kernel semantic functions\n",
    "# We may also add an existing SEMANTIC plugin with kernel.import_semantic_plugin_from_directory(plugins_directory, \"FunPlugin\")\n",
    "# We may also add an existing NATIVE plugin with import_native_plugin_from_directory(plugins_directory, \"FunPlugin\")\n",
    "# https://github.com/microsoft/semantic-kernel/blob/main/python/samples/kernel-syntax-examples/openai_function_calling.py\n",
    "\n",
    "# sk_prompt = 'Give exactly {\"function\": \"CatPlugin.CatAge\", \"args\": {\"cat_name\": \"Molly\"}} answers to the following question: {{$input}}'\n",
    "sk_prompt_nested = 'Give exactly {{CatPlugin.CatAge $cat_name}} answers to the following question: {{$input}}'\n",
    "\n",
    "# The following instruction adds a semantic function to the kernel. It requires that the kernel contains the chat or \n",
    "# text completion service, otherwise we get the error <TextCompletionClientBase service with service_id 'None' not found>\n",
    "my_semantic_function_nested = kernel.create_semantic_function(\n",
    "    prompt_template=sk_prompt_nested,\n",
    "    plugin_name=\"GenericSemanticPluginNested\",\n",
    "    function_name=\"GenericSemanticFunctionNested\",\n",
    "    description=\"Generic Semantic FunctionNested in a Generic Semantic Plugin\",\n",
    "    max_tokens=500,\n",
    "    temperature=0.5,\n",
    "    top_p=0.5,\n",
    ")\n",
    "\n",
    "print(f\"Here are my plugins imported into the kernel:\\n{kernel.plugins}\")"
   ]
  },
  {
   "cell_type": "code",
   "execution_count": 14,
   "id": "3f8387f7",
   "metadata": {},
   "outputs": [
    {
     "name": "stdout",
     "output_type": "stream",
     "text": [
      "Input Context Variable (before):\n",
      "<<<Tell me a kind or mammal>>>\n",
      "Result:\n",
      "1. Dog\n",
      "2. Cat\n",
      "3. Elephant\n",
      "4. Dolphin\n",
      "5. Giraffe\n",
      "\n",
      "Input Context Variable (after):\n",
      "<<<1. Dog\n",
      "2. Cat\n",
      "3. Elephant\n",
      "4. Dolphin\n",
      "5. Giraffe>>>\n"
     ]
    }
   ],
   "source": [
    "sf_nested = kernel.plugins.get_function(\n",
    "    plugin_name=\"GenericSemanticPluginNested\", \n",
    "    function_name=\"GenericSemanticFunctionNested\"\n",
    ")\n",
    "\n",
    "context = kernel.create_new_context()\n",
    "context.variables[\"input\"] = \"Tell me a kind or mammal\"\n",
    "context.variables[\"cat_name\"] = \"Molly\"\n",
    "\n",
    "print(f\"Input Context Variable (before):\\n<<<{context.variables.input}>>>\")\n",
    "print(f\"Result:\\n{sf_nested.invoke(context=context)}\")\n",
    "print(f\"\\nInput Context Variable (after):\\n<<<{context.variables.input}>>>\")"
   ]
  },
  {
   "cell_type": "code",
   "execution_count": 15,
   "id": "f73c7d7b",
   "metadata": {},
   "outputs": [
    {
     "name": "stdout",
     "output_type": "stream",
     "text": [
      "{\n",
      "  \"semantic_functions\": {\n",
      "    \"GenericSemanticPlugin\": [\n",
      "      {\n",
      "        \"name\": \"GenericSemanticFunction\",\n",
      "        \"plugin_name\": \"GenericSemanticPlugin\",\n",
      "        \"description\": \"Generic Semantic Function in a Generic Semantic Plugin\",\n",
      "        \"is_semantic\": true,\n",
      "        \"parameters\": [\n",
      "          {\n",
      "            \"name\": \"input\",\n",
      "            \"description\": \"\",\n",
      "            \"default_value\": \"\",\n",
      "            \"type_\": \"string\",\n",
      "            \"required\": false\n",
      "          }\n",
      "        ],\n",
      "        \"is_asynchronous\": true\n",
      "      }\n",
      "    ],\n",
      "    \"GenericSemanticPluginNested\": [\n",
      "      {\n",
      "        \"name\": \"GenericSemanticFunctionNested\",\n",
      "        \"plugin_name\": \"GenericSemanticPluginNested\",\n",
      "        \"description\": \"Generic Semantic FunctionNested in a Generic Semantic Plugin\",\n",
      "        \"is_semantic\": true,\n",
      "        \"parameters\": [\n",
      "          {\n",
      "            \"name\": \"input\",\n",
      "            \"description\": \"\",\n",
      "            \"default_value\": \"\",\n",
      "            \"type_\": \"string\",\n",
      "            \"required\": false\n",
      "          }\n",
      "        ],\n",
      "        \"is_asynchronous\": true\n",
      "      }\n",
      "    ]\n",
      "  },\n",
      "  \"native_functions\": {\n",
      "    \"CatPlugin\": [\n",
      "      {\n",
      "        \"name\": \"CatAge\",\n",
      "        \"plugin_name\": \"CatPlugin\",\n",
      "        \"description\": \"Given a cat name, returns its age.\",\n",
      "        \"is_semantic\": false,\n",
      "        \"parameters\": [\n",
      "          {\n",
      "            \"name\": \"cat_name\",\n",
      "            \"description\": \"The cat name\",\n",
      "            \"default_value\": \"AA\",\n",
      "            \"type_\": \"string\",\n",
      "            \"required\": false\n",
      "          }\n",
      "        ],\n",
      "        \"is_asynchronous\": true\n",
      "      },\n",
      "      {\n",
      "        \"name\": \"CatBirthday\",\n",
      "        \"plugin_name\": \"CatPlugin\",\n",
      "        \"description\": \"Given a cat name, returns its birthday.\",\n",
      "        \"is_semantic\": false,\n",
      "        \"parameters\": [\n",
      "          {\n",
      "            \"name\": \"cat_name\",\n",
      "            \"description\": \"The cat name\",\n",
      "            \"default_value\": \"AA\",\n",
      "            \"type_\": \"string\",\n",
      "            \"required\": false\n",
      "          }\n",
      "        ],\n",
      "        \"is_asynchronous\": true\n",
      "      }\n",
      "    ],\n",
      "    \"RandomNumberPlugin\": [\n",
      "      {\n",
      "        \"name\": \"GenerateNumberThreeOrHigher\",\n",
      "        \"plugin_name\": \"RandomNumberPlugin\",\n",
      "        \"description\": \"Generate a random number between 3 and x\",\n",
      "        \"is_semantic\": false,\n",
      "        \"parameters\": [],\n",
      "        \"is_asynchronous\": true\n",
      "      },\n",
      "      {\n",
      "        \"name\": \"GenerateNumberThreeOrLower\",\n",
      "        \"plugin_name\": \"RandomNumberPlugin\",\n",
      "        \"description\": \"Generate a random number between x and three\",\n",
      "        \"is_semantic\": false,\n",
      "        \"parameters\": [],\n",
      "        \"is_asynchronous\": true\n",
      "      }\n",
      "    ]\n",
      "  }\n",
      "}\n"
     ]
    }
   ],
   "source": [
    "import json\n",
    "\n",
    "all_functions = kernel.plugins.get_functions_view()\n",
    "json_object = json.loads(all_functions.json())\n",
    "json_formatted_str = json.dumps(json_object, indent=2)\n",
    "\n",
    "print(json_formatted_str)"
   ]
  }
 ],
 "metadata": {
  "kernelspec": {
   "display_name": "semantic_kernel",
   "language": "python",
   "name": "semantic_kernel"
  },
  "language_info": {
   "codemirror_mode": {
    "name": "ipython",
    "version": 3
   },
   "file_extension": ".py",
   "mimetype": "text/x-python",
   "name": "python",
   "nbconvert_exporter": "python",
   "pygments_lexer": "ipython3",
   "version": "3.12.1"
  }
 },
 "nbformat": 4,
 "nbformat_minor": 5
}
