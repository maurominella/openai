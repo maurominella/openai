{
 "cells": [
  {
   "cell_type": "markdown",
   "id": "4ac07f67",
   "metadata": {},
   "source": [
    "# This sample was inspired by [08-native-function-inline.ipynb](https://github.com/microsoft/semantic-kernel/blob/main/python/notebooks/08-native-function-inline.ipynb)"
   ]
  },
  {
   "cell_type": "markdown",
   "id": "eb1605b2",
   "metadata": {},
   "source": [
    "## [How does Python SK compare to the C# version of Semantic Kernel?](https://github.com/microsoft/semantic-kernel/blob/main/python/README.md)\n",
    "- The two SDKs are compatible and at the core they follow the same design principles.\n",
    "- Some features are still available only in the C# version, and being ported.\n",
    "- Refer to the [FEATURE MATRIX](https://learn.microsoft.com/en-us/semantic-kernel/get-started/supported-languages) doc to see where things stand in matching the features and functionality of the main SK branch.\n",
    "- Over time there will be some features available only in the Python version, and others only in the C# version, for example adapters to external services, scientific libraries, etc.\n",
    "<br/>\n",
    "- Documentation\n",
    " - [Get Started with Semantic Kernel](https://github.com/microsoft/semantic-kernel/blob/main/python/README.md)\n",
    "\n",
    "Inspired to\n",
    " - https://github.com/microsoft/semantic-kernel/blob/main/dotnet/samples/KernelSyntaxExamples/Example59_OpenAIFunctionCalling.cs\n",
    " - https://github.com/microsoft/semantic-kernel/blob/main/python/samples/kernel-syntax-examples/openai_function_calling.py"
   ]
  },
  {
   "cell_type": "code",
   "execution_count": 9,
   "id": "ec1d8122",
   "metadata": {},
   "outputs": [
    {
     "name": "stdout",
     "output_type": "stream",
     "text": [
      "result: 30\n",
      "age: 2005-02-05\n"
     ]
    }
   ],
   "source": [
    "# Create \"Native\" (aka \"Core\") Plugins that contain Functions\n",
    "\n",
    "from semantic_kernel.plugin_definition import kernel_function\n",
    "\n",
    "class RandomNumberPlugin:    \n",
    "    \"\"\"\n",
    "    Description: Generate some random numbers.\n",
    "    \"\"\"\n",
    "\n",
    "    @kernel_function(\n",
    "        description=\"Generate a random number between 3 and x\",\n",
    "        name=\"GenerateNumberThreeOrHigher\",\n",
    "    )\n",
    "    def generate_number_three_or_higher(self, input: str) -> str:\n",
    "        \"\"\"\n",
    "        Generate a number between 3 and <input>\n",
    "        Example:\n",
    "            \"8\" => rand(3,8)\n",
    "        Args:\n",
    "            input -- The upper limit for the random number generation\n",
    "        Returns:\n",
    "            int value\n",
    "        \"\"\"\n",
    "        import random\n",
    "\n",
    "        try:\n",
    "            return str(random.randint(3, int(input)))\n",
    "        except ValueError as e:\n",
    "            print(f\"Invalid input {input}\")\n",
    "            raise e\n",
    "\n",
    "    @kernel_function(\n",
    "        description=\"Generate a random number between x and three\",\n",
    "        name=\"GenerateNumberThreeOrLower\",\n",
    "    )\n",
    "    def generate_number_three_or_lower(self, input: str) -> str:\n",
    "        \"\"\"\n",
    "        Generate a number between <input> and 3\n",
    "        Example:\n",
    "            \"-4\" => rand(-4,3)\n",
    "        Args:\n",
    "            input -- The lower limit for the random number generation\n",
    "        Returns:\n",
    "            int value\n",
    "        \"\"\"\n",
    "        import random\n",
    "        \n",
    "        try:\n",
    "            return str(random.randint(int(input),3))\n",
    "        except ValueError as e:\n",
    "            print(f\"Invalid input {input}\")\n",
    "            raise e\n",
    "            \n",
    "            \n",
    "class CatsPlugin:\n",
    "    \"\"\"\n",
    "    Description: Given a cat name, returns some information.\n",
    "    \"\"\"\n",
    "\n",
    "    @kernel_function(\n",
    "        description=\"Given a cat name, returns its age.\",\n",
    "        name=\"CatAge\",\n",
    "    )\n",
    "    def cat_age(self, cat_name: str) -> str:\n",
    "        \"\"\"\n",
    "        Given a cat name, returns its age.\n",
    "        \"\"\"\n",
    "        try:\n",
    "            return str(len(cat_name))\n",
    "        except ValueError as e:\n",
    "            print(f\"Invalid input {cat_name}\")\n",
    "            raise e\n",
    "            \n",
    "    @kernel_function(\n",
    "        description=\"Given a cat name, returns its birthday.\",\n",
    "        name=\"CatBirthday\",\n",
    "    )\n",
    "    def cat_birthday(self, cat_name: str) -> str:\n",
    "        \"\"\"\n",
    "        Given a cat name, returns its birthday.\n",
    "        \"\"\"        \n",
    "        from datetime import datetime\n",
    "        from dateutil.relativedelta import relativedelta\n",
    "        \n",
    "        today_str  = datetime.today().strftime(\"%Y-%m-%d\")\n",
    "        today_date = datetime.strptime(today_str,\"%Y-%m-%d\")\n",
    "\n",
    "        try:\n",
    "            cat_birthday_str = today_date.strftime(f\"{2000+len(cat_name)}-%m-%d\")\n",
    "            cat_birthday_date = datetime.strptime(cat_birthday_str,\"%Y-%m-%d\") # error raised when 29/2 in non-leap years\n",
    "        except ValueError as e:\n",
    "            cat_birthday_str = (today_date + relativedelta(days=1)).strftime(f\"{2000+len(cat_name)}-%m-%d\") # take March 1st\n",
    "\n",
    "        return cat_birthday_str\n",
    "\n",
    "            \n",
    "# test RandomNumberPlugin class / generate_number_three_or_higher function\n",
    "my_randomnumber_plugin = RandomNumberPlugin()  # Create an instance\n",
    "random_number = my_randomnumber_plugin.generate_number_three_or_higher(100) # Call the method\n",
    "print(f\"result: {random_number}\") # Assert the result\n",
    "\n",
    "# test CatsPlugin class / cat_age function\n",
    "my_cat_plugin = CatsPlugin()  # Create an instance\n",
    "age = my_cat_plugin.cat_birthday(\"Molly\") # Call the method\n",
    "print(f\"age: {age}\") # Assert the result"
   ]
  },
  {
   "cell_type": "code",
   "execution_count": 7,
   "id": "87b42c18",
   "metadata": {},
   "outputs": [],
   "source": [
    "# create the kernel\n",
    "\n",
    "import semantic_kernel as sk\n",
    "kernel = sk.Kernel()"
   ]
  },
  {
   "cell_type": "code",
   "execution_count": 8,
   "id": "c703b63e",
   "metadata": {},
   "outputs": [
    {
     "name": "stdout",
     "output_type": "stream",
     "text": [
      "Here are my plugins imported into the kernel:\n",
      "data={'random_number_plugin': {'generatenumberthreeorhigher': KernelFunction(), 'generatenumberthreeorlower': KernelFunction()}, 'cats_plugin': {'catage': KernelFunction(), 'catbirthday': KernelFunction()}}\n"
     ]
    }
   ],
   "source": [
    "# import plugins into the kernel, together with all their (native) functions\n",
    "\n",
    "kernel.import_plugin(plugin_instance=RandomNumberPlugin(), plugin_name=\"Random_Number_Plugin\")\n",
    "kernel.import_plugin(plugin_instance=CatsPlugin(), plugin_name=\"Cats_Plugin\")\n",
    "\n",
    "print(f\"Here are my plugins imported into the kernel:\\n{kernel.plugins}\")"
   ]
  },
  {
   "cell_type": "code",
   "execution_count": 10,
   "id": "230dbf37",
   "metadata": {},
   "outputs": [
    {
     "name": "stdout",
     "output_type": "stream",
     "text": [
      "14\n",
      "2003-02-05\n",
      "2009-02-05\n"
     ]
    }
   ],
   "source": [
    "# test plugin functions after extracting them from the kernel\n",
    "\n",
    "print(kernel.plugins.get_function(plugin_name=\"Random_Number_Plugin\", function_name=\"generatenumberthreeorhigher\")(\"20\"))\n",
    "print(kernel.plugins.get_function(plugin_name=\"Cats_Plugin\", function_name=\"CatBirthday\")(\"Tom\"))\n",
    "print(kernel.plugins.get_function(plugin_name=\"Cats_Plugin\", function_name=\"CatBirthday\")(\"Cleopatra\"))"
   ]
  },
  {
   "cell_type": "code",
   "execution_count": 11,
   "id": "aed54bb8",
   "metadata": {},
   "outputs": [
    {
     "name": "stdout",
     "output_type": "stream",
     "text": [
      "2009-02-05\n"
     ]
    }
   ],
   "source": [
    "# another way to test Cats_Birthday function after extracting it from the kenel\n",
    "\n",
    "cb_function = kernel.plugins.get_function(plugin_name=\"Cats_Plugin\", function_name=\"CatBirthday\")\n",
    "answer = cb_function.invoke(\"Cleopatra\")\n",
    "print (answer)"
   ]
  },
  {
   "cell_type": "code",
   "execution_count": 12,
   "id": "5b032960",
   "metadata": {},
   "outputs": [
    {
     "name": "stdout",
     "output_type": "stream",
     "text": [
      "This is my AzureChatCompletion connector:\n",
      "ai_model_id='gpt35turbo-0613-4k' client=<openai.lib.azure.AsyncAzureOpenAI object at 0x7f4e4c1718b0> ai_model_type=<OpenAIModelTypes.CHAT: 'chat'> prompt_tokens=0 completion_tokens=0 total_tokens=0\n"
     ]
    }
   ],
   "source": [
    "# We haven't used OpenAI yet\n",
    "# So we create the SK \"chat completion connector\" to the Azure OpenAI service\n",
    "\n",
    "from dotenv import load_dotenv\n",
    "load_dotenv(\"credentials_my.env\")\n",
    "\n",
    "import semantic_kernel.connectors.ai.open_ai as sk_oai\n",
    "\n",
    "chat_connector = sk_oai.AzureChatCompletion(\n",
    "    api_key=os.environ['AZURE_OPENAI_API_KEY'],\n",
    "    api_version=os.environ['AZURE_OPENAI_API_VERSION'],\n",
    "    deployment_name=os.environ['GPT35TURBO-0613-4k'], # ['GPT4-1106-128k'],\n",
    "    endpoint=os.environ['AZURE_OPENAI_ENDPOINT']\n",
    ")\n",
    "print(f\"This is my AzureChatCompletion connector:\\n{chat_connector}\")"
   ]
  },
  {
   "cell_type": "code",
   "execution_count": 13,
   "id": "40b6ec23",
   "metadata": {},
   "outputs": [
    {
     "name": "stdout",
     "output_type": "stream",
     "text": [
      "Here are all chat services registered with this kernel: ['mauromi_chatgpt']\n"
     ]
    }
   ],
   "source": [
    "# add the openAI completion connector to the kernel, choosing a name to identify it within the kernel\n",
    "# after this instruction, the kernel has got it service_id that you can get with kernel.all_chat_services()\n",
    "\n",
    "kernel.add_chat_service(\n",
    "    \"mauromi_chatgpt\", # unique name to be registered with the kernel\n",
    "    chat_connector\n",
    ")\n",
    "print(f\"Here are all chat services registered with this kernel: {kernel.all_chat_services()}\")"
   ]
  },
  {
   "cell_type": "code",
   "execution_count": 14,
   "id": "79e97836",
   "metadata": {},
   "outputs": [
    {
     "name": "stdout",
     "output_type": "stream",
     "text": [
      "Here are my plugins imported into the kernel:\n",
      "data={'random_number_plugin': {'generatenumberthreeorhigher': KernelFunction(), 'generatenumberthreeorlower': KernelFunction()}, 'cats_plugin': {'catage': KernelFunction(), 'catbirthday': KernelFunction()}, 'genericsemanticplugin': {'genericsemanticfunction': KernelFunction()}}\n"
     ]
    }
   ],
   "source": [
    "# Now that we have the chat service registered with the kernel, we can create and run a semantic function IN-LINE\n",
    "# The semantic function is added to the list of kernel semantic functions\n",
    "# We may also add an existing SEMANTIC plugin with kernel.import_semantic_plugin_from_directory(plugins_directory, \"FunPlugin\")\n",
    "# We may also add an existing NATIVE plugin with import_native_plugin_from_directory(plugins_directory, \"FunPlugin\")\n",
    "# https://github.com/microsoft/semantic-kernel/blob/main/python/samples/kernel-syntax-examples/openai_function_calling.py\n",
    "\n",
    "sk_prompt = \"{{$input}}\"\n",
    "\n",
    "my_semantic_function = kernel.create_semantic_function(\n",
    "    prompt_template=sk_prompt,\n",
    "    plugin_name=\"GenericSemanticPlugin\",\n",
    "    function_name=\"GenericSemanticFunction\",\n",
    "    description=\"Generic Semantic Function in a Generic Semantic Plugin\",\n",
    "    max_tokens=500,\n",
    "    temperature=0.5,\n",
    "    top_p=0.5,\n",
    ")\n",
    "\n",
    "print(f\"Here are my plugins imported into the kernel:\\n{kernel.plugins}\")"
   ]
  },
  {
   "cell_type": "code",
   "execution_count": 15,
   "id": "b168c683",
   "metadata": {},
   "outputs": [
    {
     "name": "stdout",
     "output_type": "stream",
     "text": [
      "Context before: Who is Joe Biden's Wife?\n",
      "Result: Joe Biden's wife is Jill Biden.\n",
      "Context after: Joe Biden's wife is Jill Biden.\n"
     ]
    }
   ],
   "source": [
    "# Call the semantic function directly, without extracting it from the kernel\n",
    "\n",
    "context = kernel.create_new_context()\n",
    "context.variables[\"input\"] = \"Who is Joe Biden's Wife?\"\n",
    "print(f\"Context before: {context}\")\n",
    "print(f\"Result: {my_semantic_function.invoke(context=context)}\")\n",
    "print(f\"Context after: {context}\")"
   ]
  },
  {
   "cell_type": "code",
   "execution_count": null,
   "id": "5634e2d6",
   "metadata": {},
   "outputs": [],
   "source": [
    "# Same result as previous cell, but in this case we extract the semantic funt from the kernel and THEN we invoke it\n",
    "\n",
    "context = kernel.create_new_context()\n",
    "context.variables[\"input\"] = \"Who is Joe Biden's Wife?\"\n",
    "sf = kernel.plugins.get_function(plugin_name=\"GenericSemanticPlugin\", function_name=\"GenericSemanticFunction\")\n",
    "print(f\"Context before: {context}\")\n",
    "print(sf.invoke(context=context))\n",
    "print(f\"Context after: {context}\")"
   ]
  },
  {
   "cell_type": "code",
   "execution_count": 16,
   "id": "d19c82b2",
   "metadata": {},
   "outputs": [
    {
     "name": "stdout",
     "output_type": "stream",
     "text": [
      "{\n",
      "  \"semantic_functions\": {\n",
      "    \"GenericSemanticPlugin\": [\n",
      "      {\n",
      "        \"name\": \"GenericSemanticFunction\",\n",
      "        \"plugin_name\": \"GenericSemanticPlugin\",\n",
      "        \"description\": \"Generic Semantic Function in a Generic Semantic Plugin\",\n",
      "        \"is_semantic\": true,\n",
      "        \"parameters\": [\n",
      "          {\n",
      "            \"name\": \"input\",\n",
      "            \"description\": \"\",\n",
      "            \"default_value\": \"\",\n",
      "            \"type_\": \"string\",\n",
      "            \"required\": false\n",
      "          }\n",
      "        ],\n",
      "        \"is_asynchronous\": true\n",
      "      }\n",
      "    ]\n",
      "  },\n",
      "  \"native_functions\": {\n",
      "    \"Random_Number_Plugin\": [\n",
      "      {\n",
      "        \"name\": \"GenerateNumberThreeOrHigher\",\n",
      "        \"plugin_name\": \"Random_Number_Plugin\",\n",
      "        \"description\": \"Generate a random number between 3 and x\",\n",
      "        \"is_semantic\": false,\n",
      "        \"parameters\": [],\n",
      "        \"is_asynchronous\": true\n",
      "      },\n",
      "      {\n",
      "        \"name\": \"GenerateNumberThreeOrLower\",\n",
      "        \"plugin_name\": \"Random_Number_Plugin\",\n",
      "        \"description\": \"Generate a random number between x and three\",\n",
      "        \"is_semantic\": false,\n",
      "        \"parameters\": [],\n",
      "        \"is_asynchronous\": true\n",
      "      }\n",
      "    ],\n",
      "    \"Cats_Plugin\": [\n",
      "      {\n",
      "        \"name\": \"CatAge\",\n",
      "        \"plugin_name\": \"Cats_Plugin\",\n",
      "        \"description\": \"Given a cat name, returns its age.\",\n",
      "        \"is_semantic\": false,\n",
      "        \"parameters\": [],\n",
      "        \"is_asynchronous\": true\n",
      "      },\n",
      "      {\n",
      "        \"name\": \"CatBirthday\",\n",
      "        \"plugin_name\": \"Cats_Plugin\",\n",
      "        \"description\": \"Given a cat name, returns its birthday.\",\n",
      "        \"is_semantic\": false,\n",
      "        \"parameters\": [],\n",
      "        \"is_asynchronous\": true\n",
      "      }\n",
      "    ]\n",
      "  }\n",
      "}\n"
     ]
    },
    {
     "name": "stderr",
     "output_type": "stream",
     "text": [
      "Bad pipe message: %s [b'F\\x96i_`k\\x95M\\xa3\\x0eNk\\xd7xw\\xce9\\xcb\\x00\\x00\\xa6\\xc0,\\xc00\\x00\\xa3\\x00\\x9f\\xcc\\xa9\\xcc\\xa8\\xcc\\xaa\\xc0\\xaf\\xc0\\xad\\xc0\\xa3\\xc0\\x9f\\xc0]\\xc0a\\xc0W\\xc0S\\xc0+\\xc0/\\x00\\xa2\\x00\\x9e\\xc0\\xae\\xc0\\xac\\xc0\\xa2\\xc0\\x9e\\xc0\\\\\\xc0`\\xc0V\\xc0R\\xc0$\\xc0(\\x00']\n",
      "Bad pipe message: %s [b\"j\\xc0s\\xc0w\\x00\\xc4\\x00\\xc3\\xc0#\\xc0'\\x00g\\x00@\\xc0r\\xc0v\\x00\\xbe\\x00\\xbd\\xc0\\n\\xc0\\x14\\x009\\x008\\x00\\x88\\x00\\x87\\xc0\\t\\xc0\\x13\\x003\\x002\\x00\\x9a\\x00\\x99\\x00E\\x00D\\xc0\\x07\\xc0\\x11\\xc0\\x08\\xc0\\x12\\x00\\x16\\x00\\x13\\x00\\x9d\\xc0\\xa1\\xc0\\x9d\\xc0Q\\x00\\x9c\\xc0\\xa0\\xc0\\x9c\\xc0P\\x00=\\x00\\xc0\\x00<\\x00\\xba\\x005\\x00\\x84\\x00/\\x00\\x96\\x00A\\x00\\x05\\x00\\n\\x00\\xff\\x01\"]\n",
      "Bad pipe message: %s [b'\\xb6\\x1fwY\\x93}\\x96\\xad~\\xfe\\xd1\\x06\\x05\\xef\\xfb\\xaf\\x03\\x1b\\x00\\x00>\\xc0']\n",
      "Bad pipe message: %s [b'\\n\\x009\\x008\\x007\\x006\\xc0\\x0f\\xc0\\x05\\x005\\xc0\\x13\\xc0\\t']\n",
      "Bad pipe message: %s [b'\\xaa\\xfa\\xc0\\xb7\\x04\\x84y\\x1f\\x02\\xbbI+\\\\\\x11m\\xa9\\xe7\\x97\\x00\\x00\\xa2\\xc0\\x14\\xc0\\n\\x009\\x008\\x007\\x006\\x00\\x88\\x00\\x87\\x00\\x86\\x00\\x85\\xc0\\x19\\x00:\\x00\\x89\\xc0\\x0f\\xc0\\x05\\x005\\x00\\x84\\xc0\\x13\\xc0\\t\\x003\\x002\\x001\\x000\\x00\\x9a\\x00\\x99\\x00\\x98\\x00\\x97\\x00E\\x00D\\x00C\\x00B\\xc0\\x18\\x004\\x00\\x9b\\x00F\\xc0\\x0e\\xc0\\x04\\x00/\\x00\\x96\\x00A\\x00\\x07\\xc0\\x11\\xc0\\x07\\xc0\\x16\\x00\\x18\\xc0\\x0c\\xc0\\x02\\x00\\x05\\x00\\x04\\xc0\\x12\\xc0\\x08\\x00\\x16\\x00\\x13\\x00\\x10\\x00\\r\\xc0\\x17\\x00\\x1b\\xc0\\r\\xc0\\x03\\x00\\n\\x00\\x15\\x00\\x12\\x00\\x0f\\x00\\x0c\\x00\\x1a\\x00\\t\\x00\\x14\\x00\\x11\\x00\\x19\\x00\\x08\\x00\\x06\\x00\\x17\\x00\\x03\\xc0\\x10\\xc0\\x06\\xc0\\x15\\xc0\\x0b\\xc0\\x01\\x00\\x02\\x00\\x01\\x00\\xff\\x02\\x01\\x00\\x00C\\x00\\x00\\x00\\x0e\\x00\\x0c\\x00\\x00\\t127.0.0.1\\x00', b'\\x04\\x03\\x00\\x01\\x02\\x00\\n\\x00\\x1c\\x00']\n",
      "Bad pipe message: %s [b'\\x17\\x00\\x19\\x00\\x1c\\x00\\x1b\\x00\\x18\\x00\\x1a\\x00\\x16\\x00\\x0e\\x00\\r\\x00\\x0b\\x00\\x0c\\x00\\t\\x00\\n']\n",
      "Bad pipe message: %s [b\"\\x86\\xf8\\xa0r\\xe4\\xd3\\xc5\\xf9L\\x10o\\xe6\\xa7'i\\xe7\\xdb\\xa2\\x00\\x00\\xa2\\xc0\\x14\\xc0\\n\\x009\\x008\\x007\\x006\\x00\\x88\\x00\\x87\\x00\\x86\\x00\\x85\\xc0\\x19\\x00:\\x00\\x89\\xc0\\x0f\\xc0\\x05\\x005\\x00\\x84\\xc0\\x13\\xc0\\t\\x003\\x002\\x001\\x000\\x00\\x9a\\x00\\x99\\x00\\x98\\x00\\x97\\x00E\\x00D\\x00C\\x00B\\xc0\\x18\\x004\\x00\\x9b\\x00F\\xc0\\x0e\\xc0\\x04\\x00/\\x00\\x96\\x00A\\x00\\x07\\xc0\\x11\\xc0\\x07\\xc0\\x16\\x00\\x18\\xc0\\x0c\\xc0\\x02\"]\n",
      "Bad pipe message: %s [b'\\xf8.vR\\xb5\\xbdd\\xa9\\xef\"\\xe0u/\\x11\\x0f$\\xddW\\x00\\x00\\xa2\\xc0\\x14\\xc0\\n\\x009\\x008\\x007\\x006\\x00\\x88\\x00\\x87\\x00\\x86\\x00\\x85\\xc0\\x19\\x00:\\x00\\x89\\xc0\\x0f\\xc0\\x05\\x005\\x00\\x84\\xc0\\x13\\xc0\\t\\x003\\x002\\x001\\x000\\x00\\x9a\\x00']\n",
      "Bad pipe message: %s [b'V\\x0e\\xa6\\xd1\\n\\x94\\xd1\\xd2N\\xad\\x85N\\x9d\\x83\\x0e\\x84', b\"\\x00\\x00\\x86\\xc00\\xc0,\\xc0(\\xc0$\\xc0\\x14\\xc0\\n\\x00\\xa5\\x00\\xa3\\x00\\xa1\\x00\\x9f\\x00k\\x00j\\x00i\\x00h\\x009\\x008\\x007\\x006\\xc02\\xc0.\\xc0*\\xc0&\\xc0\\x0f\\xc0\\x05\\x00\\x9d\\x00=\\x005\\xc0/\\xc0+\\xc0'\\xc0#\\xc0\\x13\\xc0\\t\\x00\\xa4\\x00\\xa2\\x00\\xa0\\x00\\x9e\\x00g\\x00@\\x00?\\x00>\\x003\\x002\\x001\\x000\\xc01\\xc0-\\xc0)\\xc0%\\xc0\\x0e\\xc0\\x04\\x00\\x9c\\x00<\\x00/\\x00\\x9a\\x00\\x99\\x00\\x98\\x00\\x97\\x00\\x96\\x00\\x07\\xc0\\x11\\xc0\\x07\\xc0\\x0c\\xc0\\x02\\x00\\x05\\x00\\x04\\x00\\xff\\x02\\x01\\x00\\x00g\\x00\\x00\\x00\\x0e\\x00\\x0c\\x00\\x00\\t127.0.0.1\\x00\\x0b\\x00\"]\n",
      "Bad pipe message: %s [b\"$(\\xe5\\xb1\\xfdS\\xfe\\xae\\x03r\\xc4\\xdd@qN\\xbc\\xd2h\\x00\\x00\\xf4\\xc00\\xc0,\\xc0(\\xc0$\\xc0\\x14\\xc0\\n\\x00\\xa5\\x00\\xa3\\x00\\xa1\\x00\\x9f\\x00k\\x00j\\x00i\\x00h\\x009\\x008\\x007\\x006\\x00\\x88\\x00\\x87\\x00\\x86\\x00\\x85\\xc0\\x19\\x00\\xa7\\x00m\\x00:\\x00\\x89\\xc02\\xc0.\\xc0*\\xc0&\\xc0\\x0f\\xc0\\x05\\x00\\x9d\\x00=\\x005\\x00\\x84\\xc0/\\xc0+\\xc0'\\xc0#\\xc0\\x13\\xc0\\t\\x00\\xa4\\x00\\xa2\\x00\\xa0\\x00\\x9e\\x00g\\x00@\\x00?\\x00>\\x003\\x002\\x001\\x000\\x00\\x9a\\x00\\x99\\x00\\x98\\x00\\x97\\x00E\\x00D\\x00C\\x00B\\xc0\\x18\\x00\\xa6\\x00l\\x004\\x00\\x9b\\x00F\\xc01\\xc0-\\xc0)\\xc0%\\xc0\\x0e\\xc0\\x04\\x00\\x9c\\x00<\\x00/\\x00\\x96\\x00A\\x00\\x07\\xc0\\x11\\xc0\\x07\\xc0\\x16\\x00\\x18\\xc0\\x0c\\xc0\\x02\\x00\\x05\\x00\\x04\\xc0\\x12\\xc0\\x08\\x00\\x16\\x00\\x13\\x00\"]\n",
      "Bad pipe message: %s [b'\\r\\xc0\\x17\\x00\\x1b\\xc0\\r\\xc0\\x03\\x00\\n\\x00\\x15\\x00\\x12']\n"
     ]
    }
   ],
   "source": [
    "import json\n",
    "\n",
    "all_functions = kernel.plugins.get_functions_view()\n",
    "json_object = json.loads(all_functions.json())\n",
    "json_formatted_str = json.dumps(json_object, indent=2)\n",
    "\n",
    "print(json_formatted_str)"
   ]
  },
  {
   "cell_type": "code",
   "execution_count": null,
   "id": "2010c6fb",
   "metadata": {},
   "outputs": [],
   "source": []
  },
  {
   "cell_type": "code",
   "execution_count": null,
   "id": "6936886e",
   "metadata": {},
   "outputs": [],
   "source": []
  },
  {
   "cell_type": "markdown",
   "id": "7211f0d4",
   "metadata": {},
   "source": [
    "# https://youtu.be/1e8GOdTPHC4"
   ]
  },
  {
   "cell_type": "code",
   "execution_count": null,
   "id": "024d77c3",
   "metadata": {},
   "outputs": [],
   "source": []
  },
  {
   "cell_type": "code",
   "execution_count": null,
   "id": "86f8f34f",
   "metadata": {},
   "outputs": [],
   "source": []
  },
  {
   "cell_type": "code",
   "execution_count": null,
   "id": "843ddd1f",
   "metadata": {},
   "outputs": [],
   "source": [
    "tools = [\n",
    "    {\n",
    "        \"type\": \"function\",\n",
    "        \"function\": {\n",
    "            \"name\": \"get_flights\",            \n",
    "            \"description\": \"returns the number of flights between two dates\",\n",
    "            \"parameters\": {\n",
    "                \"type\": \"object\",\n",
    "                \"properties\": {\n",
    "                    \"date_1\": {\"type\": \"string\", \"description\": \"the first date\"},\n",
    "                    \"date_2\": {\"type\": \"string\", \"description\": \"the second date\"}\n",
    "                }\n",
    "            },\n",
    "            \"required\": [\"date_1\", \"date_2\"]\n",
    "        }\n",
    "    },\n",
    "    {\n",
    "        \"type\": \"function\",\n",
    "        \"function\": {\n",
    "            \"name\": \"get_days_difference\",            \n",
    "            \"description\": \"useful when you need to calculate the absolute number of days between two dates\",\n",
    "            \"parameters\": {\n",
    "                \"type\": \"object\",\n",
    "                \"properties\": {\n",
    "                    \"date_1\": {\"type\": \"string\", \"description\": \"the first date\"},\n",
    "                    \"date_2\": {\"type\": \"string\", \"description\": \"the second date\"}\n",
    "                }\n",
    "            },\n",
    "            \"required\": [\"date_1\", \"date_2\"]\n",
    "        }\n",
    "    },\n",
    "    {\n",
    "        \"type\": \"function\",\n",
    "        \"function\": {\n",
    "            \"name\": \"elevation_to_power\",\n",
    "            \"description\": \"calculate the mathematical result of a number elevated to the power of another number\",\n",
    "            \"parameters\": {\n",
    "                \"type\": \"object\",\n",
    "                \"properties\": {\n",
    "                    \"base\": {\"type\": \"string\", \"description\": \"the base number\"},\n",
    "                    \"power\": {\"type\": \"string\", \"description\": \"the power to elevate the base number to\"}\n",
    "                }\n",
    "            },\n",
    "            \"required\": [\"base\", \"power\"]\n",
    "        }\n",
    "    },\n",
    "    {\n",
    "        \"type\": \"function\",\n",
    "        \"function\": {\n",
    "            \"name\": \"web_search\",            \n",
    "            \"description\": \"useful for when you need to answer questions about current events\",\n",
    "            \"parameters\": {\n",
    "                \"type\": \"object\",\n",
    "                \"properties\": {\n",
    "                    \"question\": {\"type\": \"string\", \"description\": \"the text string to search on the WEB\"}\n",
    "                }\n",
    "            },\n",
    "            \"required\": [\"question\"]\n",
    "        }\n",
    "    },\n",
    "    {\n",
    "        \"type\": \"function\",\n",
    "        \"function\": {\n",
    "            \"name\": \"current_year\",            \n",
    "            \"description\": \"returns the current year\",\n",
    "            \"parameters\": {\n",
    "                \"type\": \"object\",\n",
    "                \"properties\": {                    \n",
    "                }\n",
    "            },\n",
    "            \"required\": []\n",
    "        }\n",
    "    },\n",
    "    {\n",
    "        \"type\": \"function\",\n",
    "        \"function\": {\n",
    "            \"name\": \"current_date\",            \n",
    "            \"description\": \"returns the current date\",\n",
    "            \"parameters\": {\n",
    "                \"type\": \"object\",\n",
    "                \"properties\": {\n",
    "                    \n",
    "                }\n",
    "            },\n",
    "            \"required\": []\n",
    "        }\n",
    "    },\n",
    "    {\n",
    "        \"type\": \"function\",\n",
    "        \"function\": {\n",
    "            \"name\": \"my_cat_born_date\",            \n",
    "            \"description\": \"returns my cat's born date\",\n",
    "            \"parameters\": {\n",
    "                \"type\": \"object\",\n",
    "                \"properties\": {\n",
    "                    \n",
    "                }\n",
    "            },\n",
    "            \"required\": []\n",
    "        }\n",
    "    },\n",
    "    {\n",
    "        \"type\": \"function\",\n",
    "        \"function\": {\n",
    "            \"name\": \"custom_calculator\",            \n",
    "            \"description\": \"useful for when you need to answer questions about math\",\n",
    "            \"parameters\": {\n",
    "                \"type\": \"object\",\n",
    "                \"properties\": {\n",
    "                    \"mathematical_question\": {\"type\": \"string\", \"description\": \"the text string to search on the WEB\"}\n",
    "                }\n",
    "            },\n",
    "            \"required\": [\"mathematical_question\"]\n",
    "        }\n",
    "    }\n",
    "]"
   ]
  },
  {
   "cell_type": "code",
   "execution_count": null,
   "id": "4a883982",
   "metadata": {},
   "outputs": [],
   "source": [
    "# prompt template config that contains the definition and description of each function\n",
    "\n",
    "prompt_config = sk.PromptTemplateConfig.from_execution_settings(\n",
    "    max_tokens=2000,\n",
    "    temperature=0.7,\n",
    "    top_p=0.8,\n",
    "    tool_choice=\"auto\",\n",
    "    tools=tools,\n",
    ")\n",
    "prompt_config"
   ]
  },
  {
   "cell_type": "code",
   "execution_count": null,
   "id": "3051f8ea",
   "metadata": {},
   "outputs": [],
   "source": [
    "# Let's check that we have the chat completion service\n",
    "\n",
    "kernel.get_chat_service_service_id()"
   ]
  },
  {
   "cell_type": "code",
   "execution_count": null,
   "id": "887e1f0b",
   "metadata": {},
   "outputs": [],
   "source": [
    "prompt_template = sk.ChatPromptTemplate[sk_oai.models.chat.open_ai_chat_message.OpenAIChatMessage](\n",
    "    \"{{$user_input}}\", kernel.prompt_template_engine, prompt_config\n",
    ")\n",
    "prompt_template"
   ]
  },
  {
   "cell_type": "code",
   "execution_count": null,
   "id": "9de5f0f9",
   "metadata": {},
   "outputs": [],
   "source": [
    "prompt_template.add_user_message(\"Hi there, who are you?\")"
   ]
  },
  {
   "cell_type": "code",
   "execution_count": null,
   "id": "6b54847d",
   "metadata": {},
   "outputs": [],
   "source": [
    "function_config = sk.SemanticFunctionConfig(prompt_config, prompt_template)"
   ]
  },
  {
   "cell_type": "code",
   "execution_count": null,
   "id": "46fe017e",
   "metadata": {},
   "outputs": [],
   "source": [
    "function_config"
   ]
  },
  {
   "cell_type": "code",
   "execution_count": null,
   "id": "f608a8d3",
   "metadata": {},
   "outputs": [],
   "source": [
    "class Test:\n",
    "    @kernel_function(\n",
    "        description=\"Get light status\",\n",
    "        name=\"getlightstatus\",\n",
    "    )\n",
    "    def getlightstatus(self) -> str:\n",
    "        return \"off\"\n",
    "    \n",
    "chat_function = kernel.register_native_function(plugin_name=\"Testzzzz\", kernel_function=\"getLightStatus\")\n",
    "\n"
   ]
  },
  {
   "cell_type": "code",
   "execution_count": null,
   "id": "843c3525",
   "metadata": {},
   "outputs": [],
   "source": [
    "import json\n",
    "\n",
    "all_functions = kernel.plugins.get_functions_view()\n",
    "json_object = json.loads(all_functions.json())\n",
    "json_formatted_str = json.dumps(json_object, indent=2)\n",
    "\n",
    "print(json_formatted_str)"
   ]
  },
  {
   "cell_type": "code",
   "execution_count": null,
   "id": "12f4e639",
   "metadata": {},
   "outputs": [],
   "source": [
    "context = kernel.create_new_context()\n",
    "context.variables[\"user_input\"] = \"How many flights are there between Christmas 2020 and Easter 2021?\"\n",
    "\n",
    "    \n",
    "response = chat_function.invoke_async(context=context, functions=tools)\n",
    "response = chat_function.invoke()\n",
    "response"
   ]
  },
  {
   "cell_type": "code",
   "execution_count": null,
   "id": "e4eef62b",
   "metadata": {},
   "outputs": [],
   "source": [
    "context.objects"
   ]
  }
 ],
 "metadata": {
  "kernelspec": {
   "display_name": "semantic_kernel",
   "language": "python",
   "name": "semantic_kernel"
  },
  "language_info": {
   "codemirror_mode": {
    "name": "ipython",
    "version": 3
   },
   "file_extension": ".py",
   "mimetype": "text/x-python",
   "name": "python",
   "nbconvert_exporter": "python",
   "pygments_lexer": "ipython3",
   "version": "3.12.1"
  }
 },
 "nbformat": 4,
 "nbformat_minor": 5
}
