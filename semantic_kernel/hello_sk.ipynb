{
 "cells": [
  {
   "cell_type": "markdown",
   "id": "d18d57c4",
   "metadata": {},
   "source": [
    "# Documentation\n",
    "https://github.com/microsoft/semantic-kernel/blob/main/samples/notebooks/python/00-getting-started.ipynb"
   ]
  },
  {
   "cell_type": "code",
   "execution_count": 7,
   "id": "a95fe535",
   "metadata": {},
   "outputs": [],
   "source": [
    "# !python -m pip install -r requirements.txt\n",
    "\n",
    "import semantic_kernel as sk\n",
    "\n",
    "kernel_emb = sk.Kernel()\n",
    "kernel_txt = sk.Kernel()\n",
    "\n",
    "# another way to retrieve openai constants\n",
    "azure_openai_deployment_txt, azure_openai_api_key, azure_openai_endpoint = sk.azure_openai_settings_from_dot_env()"
   ]
  },
  {
   "cell_type": "code",
   "execution_count": 8,
   "id": "6e8c1c53",
   "metadata": {},
   "outputs": [
    {
     "name": "stdout",
     "output_type": "stream",
     "text": [
      "deployment:\ttext-davinci-003\n",
      "api_key:\t*****\n",
      "endpoint:\thttps://mmopenai01.openai.azure.com/\n"
     ]
    }
   ],
   "source": [
    "from semantic_kernel.connectors.ai.open_ai import AzureTextCompletion\n",
    "\n",
    "azure_openai_deployment_txt, api_key, endpoint = sk.azure_openai_settings_from_dot_env()\n",
    "\n",
    "kernel_txt.add_text_completion_service(azure_openai_deployment_txt, \n",
    "    AzureTextCompletion(\n",
    "        azure_openai_deployment_txt, \n",
    "        azure_openai_endpoint, \n",
    "        azure_openai_api_key))\n",
    "\n",
    "kernel_txt.set_default_text_completion_service(azure_openai_deployment_txt)\n",
    "\n",
    "# print(f\"deployment:\\t{azure_openai_deployment_txt}\\napi_key:\\t{azure_openai_api_key}\\nendpoint:\\t{azure_openai_endpoint}\")\n",
    "print(f\"deployment:\\t{azure_openai_deployment_txt}\\napi_key:\\t*****\\nendpoint:\\t{azure_openai_endpoint}\")"
   ]
  },
  {
   "cell_type": "markdown",
   "id": "9af2e41c",
   "metadata": {},
   "source": [
    "# Text to summarize"
   ]
  },
  {
   "cell_type": "code",
   "execution_count": 9,
   "id": "898642db",
   "metadata": {},
   "outputs": [],
   "source": [
    "prompt_01 = \"\"\"\n",
    "1) A robot may not injure a human being or, through inaction,\n",
    "allow a human being to come to harm.\n",
    "\n",
    "2) A robot must obey orders given it by human beings except where\n",
    "such orders would conflict with the First Law.\n",
    "\n",
    "3) A robot must protect its own existence as long as such protection\n",
    "does not conflict with the First or Second Law.\n",
    "\n",
    "What do you think?\"\"\""
   ]
  },
  {
   "cell_type": "markdown",
   "id": "21cc7e43",
   "metadata": {},
   "source": [
    "# Method 1: wrap your prompt in a function"
   ]
  },
  {
   "cell_type": "code",
   "execution_count": 10,
   "id": "a4ff2783",
   "metadata": {},
   "outputs": [
    {
     "name": "stdout",
     "output_type": "stream",
     "text": [
      "\n",
      "\n",
      "I think that these three laws are a good starting point for the ethical considerations of robots and their interactions with humans. They provide a framework for robots to operate within, while also protecting the safety and well-being of humans. It is important to remember, however, that these laws are not a substitute for human judgement and responsibility. Ultimately, it is up to humans to ensure that robots are used responsibly and ethically.\n"
     ]
    }
   ],
   "source": [
    "# Wrap your prompt in a function\n",
    "tldr_function1 = kernel_txt.create_semantic_function(prompt_01)\n",
    "\n",
    "# Run your prompt\n",
    "print(tldr_function1()) # => Robots must not harm humans."
   ]
  },
  {
   "cell_type": "markdown",
   "id": "af7ba760",
   "metadata": {},
   "source": [
    "# Method 2: enrich your prompt"
   ]
  },
  {
   "cell_type": "code",
   "execution_count": 11,
   "id": "d51dce2b",
   "metadata": {},
   "outputs": [
    {
     "data": {
      "text/plain": [
       "'\\n\\n1) A robot may not injure a human being or, through inaction,\\nallow a human being to come to harm.\\n\\n2) A robot must obey orders given it by human beings except where\\nsuch orders would conflict with the First Law.\\n\\n3) A robot must protect its own existence as long as such protection\\ndoes not conflict with the First or Second Law.\\n\\nWhat do you think?\\n\\nGive me the TLDR in 5 words\\n'"
      ]
     },
     "execution_count": 11,
     "metadata": {},
     "output_type": "execute_result"
    }
   ],
   "source": [
    "prompt_02 = f\"\"\"\n",
    "{prompt_01}\n",
    "\n",
    "Give me the TLDR in 5 words\n",
    "\"\"\"\n",
    "\n",
    "prompt_02"
   ]
  },
  {
   "cell_type": "code",
   "execution_count": 12,
   "id": "36f7b44d",
   "metadata": {},
   "outputs": [
    {
     "ename": "NameError",
     "evalue": "name 'kernel' is not defined",
     "output_type": "error",
     "traceback": [
      "\u001b[0;31m---------------------------------------------------------------------------\u001b[0m",
      "\u001b[0;31mNameError\u001b[0m                                 Traceback (most recent call last)",
      "Cell \u001b[0;32mIn[12], line 1\u001b[0m\n\u001b[0;32m----> 1\u001b[0m tldr_function_02 \u001b[38;5;241m=\u001b[39m \u001b[43mkernel\u001b[49m\u001b[38;5;241m.\u001b[39mcreate_semantic_function(\n\u001b[1;32m      2\u001b[0m     prompt_template\u001b[38;5;241m=\u001b[39mprompt_02,\n\u001b[1;32m      3\u001b[0m     max_tokens\u001b[38;5;241m=\u001b[39m\u001b[38;5;241m200\u001b[39m,\n\u001b[1;32m      4\u001b[0m     temperature\u001b[38;5;241m=\u001b[39m\u001b[38;5;241m0\u001b[39m,\n\u001b[1;32m      5\u001b[0m     top_p\u001b[38;5;241m=\u001b[39m\u001b[38;5;241m0.5\u001b[39m            \n\u001b[1;32m      6\u001b[0m )\n\u001b[1;32m      8\u001b[0m \u001b[38;5;66;03m# Run your prompt\u001b[39;00m\n\u001b[1;32m      9\u001b[0m \u001b[38;5;28mprint\u001b[39m(tldr_function_02()) \u001b[38;5;66;03m# => Robots must not harm humans.\u001b[39;00m\n",
      "\u001b[0;31mNameError\u001b[0m: name 'kernel' is not defined"
     ]
    }
   ],
   "source": [
    "tldr_function_02 = kernel.create_semantic_function(\n",
    "    prompt_template=prompt_02,\n",
    "    max_tokens=200,\n",
    "    temperature=0,\n",
    "    top_p=0.5            \n",
    ")\n",
    "\n",
    "# Run your prompt\n",
    "print(tldr_function_02()) # => Robots must not harm humans."
   ]
  },
  {
   "cell_type": "markdown",
   "id": "9c838c64",
   "metadata": {},
   "source": [
    "# Method 3 -  Load a Skill and run a semantic function\n",
    "semantic-kernel/samples/notebooks/python/00-getting-started.ipynb\n",
    "\n",
    "### config.json\n",
    "```\n",
    "{\n",
    "  \"schema\": 1,\n",
    "  \"description\": \"Generate a funny joke\",\n",
    "  \"type\": \"completion\",\n",
    "  \"completion\": {\n",
    "    \"max_tokens\": 1000,\n",
    "    \"temperature\": 0.9,\n",
    "    \"top_p\": 0.0,\n",
    "    \"presence_penalty\": 0.0,\n",
    "    \"frequency_penalty\": 0.0\n",
    "  },\n",
    "  \"input\": {\n",
    "    \"parameters\": [\n",
    "      {\n",
    "        \"name\": \"input\",\n",
    "        \"description\": \"Joke subject\",\n",
    "        \"defaultValue\": \"\"\n",
    "      }\n",
    "    ]\n",
    "  }\n",
    "}\n",
    "```\n",
    "\n",
    "### skprompt.txt\n",
    "```\n",
    "WRITE EXACTLY ONE JOKE or HUMOROUS STORY ABOUT THE TOPIC BELOW\n",
    "\n",
    "JOKE MUST BE:\n",
    "- G RATED\n",
    "- WORKPLACE/FAMILY SAFE\n",
    "NO SEXISM, RACISM OR OTHER BIAS/BIGOTRY\n",
    "\n",
    "BE CREATIVE AND FUNNY. I WANT TO LAUGH.\n",
    "{{$style}}\n",
    "+++++\n",
    "\n",
    "{{$input}}\n",
    "+++++\n",
    "```"
   ]
  },
  {
   "cell_type": "code",
   "execution_count": null,
   "id": "cac51aed",
   "metadata": {},
   "outputs": [],
   "source": [
    "skill = kernel.import_semantic_skill_from_directory(\"./skills\", \"FunSkill\")\n",
    "joke_function = skill[\"Joke\"]\n",
    "\n",
    "print(joke_function(\"time travel to dinosaur age\"))"
   ]
  },
  {
   "cell_type": "code",
   "execution_count": null,
   "id": "f9fb24b2",
   "metadata": {},
   "outputs": [],
   "source": []
  },
  {
   "cell_type": "code",
   "execution_count": null,
   "id": "0e91ad2d",
   "metadata": {},
   "outputs": [],
   "source": []
  },
  {
   "cell_type": "code",
   "execution_count": null,
   "id": "8e53d3ac",
   "metadata": {},
   "outputs": [],
   "source": []
  },
  {
   "cell_type": "code",
   "execution_count": null,
   "id": "89b4b08b",
   "metadata": {},
   "outputs": [],
   "source": []
  },
  {
   "cell_type": "code",
   "execution_count": null,
   "id": "f4692094",
   "metadata": {},
   "outputs": [],
   "source": [
    "from semantic_kernel.ai.open_ai import AzureTextCompletion\n",
    "\n",
    "deployment = \"text-davinci-003\"\n",
    "api_key = \"80b0c9c475aa40f9be0003cb088f64db\"\n",
    "endpoint = \"https://mmopenai01.openai.azure.com/\"\n",
    "\n",
    "\n",
    "kernel.config.add_text_backend(\"dv\", AzureTextCompletion(deployment, endpoint, api_key))\n",
    "\n",
    "env_file = \"\"\"\n",
    "AZURE_OPENAI_DEPLOYMENT_NAME=\"text-davinci-003\"\n",
    "AZURE_OPENAI_ENDPOINT=\"https://mmopenai01.openai.azure.com/\"\n",
    "AZURE_OPENAI_API_KEY=\"80b0c9c475aa40f9be0003cb088f64db\"\n",
    "\"\"\""
   ]
  }
 ],
 "metadata": {
  "kernelspec": {
   "display_name": "semantic_kernel",
   "language": "python",
   "name": "semantic_kernel"
  },
  "language_info": {
   "codemirror_mode": {
    "name": "ipython",
    "version": 3
   },
   "file_extension": ".py",
   "mimetype": "text/x-python",
   "name": "python",
   "nbconvert_exporter": "python",
   "pygments_lexer": "ipython3",
   "version": "3.10.11"
  }
 },
 "nbformat": 4,
 "nbformat_minor": 5
}
