{
 "cells": [
  {
   "cell_type": "markdown",
   "id": "4ac07f67",
   "metadata": {},
   "source": [
    "# This sample was inspired by [08-native-function-inline.ipynb](https://github.com/microsoft/semantic-kernel/blob/main/python/notebooks/08-native-function-inline.ipynb)"
   ]
  },
  {
   "cell_type": "markdown",
   "id": "eb1605b2",
   "metadata": {},
   "source": [
    "## [How does Python SK compare to the C# version of Semantic Kernel?](https://github.com/microsoft/semantic-kernel/blob/main/python/README.md)\n",
    "- The two SDKs are compatible and at the core they follow the same design principles.\n",
    "- Some features are still available only in the C# version, and being ported.\n",
    "- Refer to the [FEATURE MATRIX](https://learn.microsoft.com/en-us/semantic-kernel/get-started/supported-languages) doc to see where things stand in matching the features and functionality of the main SK branch.\n",
    "- Over time there will be some features available only in the Python version, and others only in the C# version, for example adapters to external services, scientific libraries, etc.\n",
    "<br/>\n",
    "- Documentation\n",
    " - [Get Started with Semantic Kernel](https://github.com/microsoft/semantic-kernel/blob/main/python/README.md)\n",
    "\n",
    "Inspired to\n",
    " - https://github.com/microsoft/semantic-kernel/blob/main/dotnet/samples/KernelSyntaxExamples/Example59_OpenAIFunctionCalling.cs\n",
    " - https://github.com/microsoft/semantic-kernel/blob/main/python/samples/kernel-syntax-examples/openai_function_calling.py"
   ]
  },
  {
   "cell_type": "code",
   "execution_count": 1,
   "id": "ec1d8122",
   "metadata": {},
   "outputs": [
    {
     "name": "stdout",
     "output_type": "stream",
     "text": [
      "result: 10\n",
      "age: 2009-02-05\n"
     ]
    }
   ],
   "source": [
    "# Create \"Native\" (aka \"Core\") Plugins that contain Functions\n",
    "\n",
    "from semantic_kernel.plugin_definition import kernel_function\n",
    "\n",
    "class RandomNumberPlugin:    \n",
    "    \"\"\"\n",
    "    Description: Generate some random numbers.\n",
    "    \"\"\"\n",
    "\n",
    "    @kernel_function(\n",
    "        description=\"Generate a random number between 3 and x\",\n",
    "        name=\"GenerateNumberThreeOrHigher\",\n",
    "    )\n",
    "    def generate_number_three_or_higher(self, input: str) -> str:\n",
    "        \"\"\"\n",
    "        Generate a number between 3 and <input>\n",
    "        Example:\n",
    "            \"8\" => rand(3,8)\n",
    "        Args:\n",
    "            input -- The upper limit for the random number generation\n",
    "        Returns:\n",
    "            int value\n",
    "        \"\"\"\n",
    "        import random\n",
    "\n",
    "        try:\n",
    "            return str(random.randint(3, int(input)))\n",
    "        except ValueError as e:\n",
    "            print(f\"Invalid input {input}\")\n",
    "            raise e\n",
    "\n",
    "    @kernel_function(\n",
    "        description=\"Generate a random number between x and three\",\n",
    "        name=\"GenerateNumberThreeOrLower\",\n",
    "    )\n",
    "    def generate_number_three_or_lower(self, input: str) -> str:\n",
    "        \"\"\"\n",
    "        Generate a number between <input> and 3\n",
    "        Example:\n",
    "            \"-4\" => rand(-4,3)\n",
    "        Args:\n",
    "            input -- The lower limit for the random number generation\n",
    "        Returns:\n",
    "            int value\n",
    "        \"\"\"\n",
    "        import random\n",
    "        \n",
    "        try:\n",
    "            return str(random.randint(int(input),3))\n",
    "        except ValueError as e:\n",
    "            print(f\"Invalid input {input}\")\n",
    "            raise e\n",
    "            \n",
    "            \n",
    "class CatsPlugin:\n",
    "    \"\"\"\n",
    "    Description: Given a cat name, returns some information.\n",
    "    \"\"\"\n",
    "\n",
    "    @kernel_function(\n",
    "        description=\"Given a cat name, returns its age.\",\n",
    "        name=\"CatAge\",\n",
    "    )\n",
    "    def cat_age(self, cat_name: str) -> str:\n",
    "        \"\"\"\n",
    "        Given a cat name, returns its age.\n",
    "        \"\"\"\n",
    "        try:\n",
    "            return str(len(cat_name))\n",
    "        except ValueError as e:\n",
    "            print(f\"Invalid input {cat_name}\")\n",
    "            raise e\n",
    "            \n",
    "    @kernel_function(\n",
    "        description=\"Given a cat name, returns its birthday.\",\n",
    "        name=\"CatBirthday\",\n",
    "    )\n",
    "    def cat_birthday(self, cat_name: str) -> str:\n",
    "        \"\"\"\n",
    "        Given a cat name, returns its birthday.\n",
    "        \"\"\"        \n",
    "        from datetime import datetime\n",
    "        from dateutil.relativedelta import relativedelta\n",
    "        \n",
    "        today_str  = datetime.today().strftime(\"%Y-%m-%d\")\n",
    "        today_date = datetime.strptime(today_str,\"%Y-%m-%d\")\n",
    "\n",
    "        try:\n",
    "            cat_birthday_str = today_date.strftime(f\"{2000+len(cat_name)}-%m-%d\")\n",
    "            cat_birthday_date = datetime.strptime(cat_birthday_str,\"%Y-%m-%d\") # error raised when 29/2 in non-leap years\n",
    "        except ValueError as e:\n",
    "            cat_birthday_str = (today_date + relativedelta(days=1)).strftime(f\"{2000+len(cat_name)}-%m-%d\") # take March 1st\n",
    "\n",
    "        return cat_birthday_str\n",
    "\n",
    "            \n",
    "# test RandomNumberPlugin class / generate_number_three_or_higher function\n",
    "my_randomnumber_plugin = RandomNumberPlugin()  # Create an instance\n",
    "random_number = my_randomnumber_plugin.generate_number_three_or_higher(10) # Call the method\n",
    "print(f\"result: {random_number}\") # Assert the result\n",
    "\n",
    "# test CatsPlugin class / cat_age function\n",
    "my_cat_plugin = CatsPlugin()  # Create an instance\n",
    "age = my_cat_plugin.cat_birthday(\"Cleopatra\") # Call the method\n",
    "print(f\"age: {age}\") # Assert the result"
   ]
  },
  {
   "cell_type": "code",
   "execution_count": 2,
   "id": "87b42c18",
   "metadata": {},
   "outputs": [],
   "source": [
    "# create the kernel\n",
    "\n",
    "import semantic_kernel as sk\n",
    "kernel = sk.Kernel()"
   ]
  },
  {
   "cell_type": "code",
   "execution_count": 3,
   "id": "c703b63e",
   "metadata": {},
   "outputs": [
    {
     "name": "stdout",
     "output_type": "stream",
     "text": [
      "Here are my plugins imported into the kernel:\n",
      "data={'random_number_plugin': {'generatenumberthreeorhigher': KernelFunction(), 'generatenumberthreeorlower': KernelFunction()}, 'cats_plugin': {'catage': KernelFunction(), 'catbirthday': KernelFunction()}}\n"
     ]
    }
   ],
   "source": [
    "# import plugins into the kernel, together with all their (native) functions\n",
    "\n",
    "kernel.import_plugin(plugin_instance=RandomNumberPlugin(), plugin_name=\"Random_Number_Plugin\")\n",
    "kernel.import_plugin(plugin_instance=CatsPlugin(), plugin_name=\"Cats_Plugin\")\n",
    "\n",
    "print(f\"Here are my plugins imported into the kernel:\\n{kernel.plugins}\")"
   ]
  },
  {
   "cell_type": "code",
   "execution_count": 4,
   "id": "230dbf37",
   "metadata": {},
   "outputs": [
    {
     "name": "stdout",
     "output_type": "stream",
     "text": [
      "12\n",
      "2003-02-05\n",
      "2009-02-05\n"
     ]
    }
   ],
   "source": [
    "# test plugin functions after extracting them from the kernel\n",
    "\n",
    "print(kernel.plugins.get_function(plugin_name=\"Random_Number_Plugin\", function_name=\"generatenumberthreeorhigher\")(\"20\"))\n",
    "print(kernel.plugins.get_function(plugin_name=\"Cats_Plugin\", function_name=\"CatBirthday\")(\"Tom\"))\n",
    "print(kernel.plugins.get_function(plugin_name=\"Cats_Plugin\", function_name=\"CatBirthday\")(\"Cleopatra\"))"
   ]
  },
  {
   "cell_type": "code",
   "execution_count": 5,
   "id": "aed54bb8",
   "metadata": {},
   "outputs": [
    {
     "name": "stdout",
     "output_type": "stream",
     "text": [
      "2009-02-05\n"
     ]
    }
   ],
   "source": [
    "# another way to test Cats_Birthday function after extracting it from the kenel\n",
    "\n",
    "cb_function = kernel.plugins.get_function(plugin_name=\"Cats_Plugin\", function_name=\"CatBirthday\")\n",
    "answer = cb_function.invoke(\"Cleopatra\")\n",
    "print (answer)"
   ]
  },
  {
   "cell_type": "code",
   "execution_count": 6,
   "id": "5b032960",
   "metadata": {},
   "outputs": [
    {
     "name": "stdout",
     "output_type": "stream",
     "text": [
      "This is my AzureChatCompletion connector:\n",
      "ai_model_id='gpt35turbo-0613-4k' client=<openai.lib.azure.AsyncAzureOpenAI object at 0x7f73c2ad9b50> ai_model_type=<OpenAIModelTypes.CHAT: 'chat'> prompt_tokens=0 completion_tokens=0 total_tokens=0\n"
     ]
    }
   ],
   "source": [
    "# We haven't used OpenAI yet\n",
    "# So we create the SK \"chat completion connector\" to the Azure OpenAI service\n",
    "\n",
    "from dotenv import load_dotenv\n",
    "load_dotenv(\"credentials_my.env\")\n",
    "\n",
    "import semantic_kernel.connectors.ai.open_ai as sk_oai\n",
    "\n",
    "completion_connector = sk_oai.AzureChatCompletion(\n",
    "    api_key=os.environ['AZURE_OPENAI_API_KEY'],\n",
    "    api_version=os.environ['AZURE_OPENAI_API_VERSION'],\n",
    "    deployment_name=os.environ['GPT35TURBO-0613-4k'], # ['GPT4-1106-128k'],\n",
    "    endpoint=os.environ['AZURE_OPENAI_ENDPOINT']\n",
    ")\n",
    "print(f\"This is my AzureChatCompletion connector:\\n{completion_connector}\")"
   ]
  },
  {
   "cell_type": "code",
   "execution_count": 7,
   "id": "40b6ec23",
   "metadata": {},
   "outputs": [
    {
     "name": "stdout",
     "output_type": "stream",
     "text": [
      "Here are all chat services registered with this kernel: ['mauromi_chatgpt']\n"
     ]
    }
   ],
   "source": [
    "# add the openAI completion connector to the kernel, choosing a name to identify it within the kernel\n",
    "# after this instruction, the kernel has got it service_id that you can get with kernel.all_chat_services()\n",
    "\n",
    "kernel.add_chat_service(\n",
    "    \"mauromi_chatgpt\", # unique name to be registered with the kernel\n",
    "    completion_connector\n",
    ")\n",
    "print(f\"Here are all chat services registered with this kernel: {kernel.all_chat_services()}\")"
   ]
  },
  {
   "cell_type": "code",
   "execution_count": 8,
   "id": "79e97836",
   "metadata": {},
   "outputs": [
    {
     "name": "stdout",
     "output_type": "stream",
     "text": [
      "Here are my plugins imported into the kernel:\n",
      "data={'random_number_plugin': {'generatenumberthreeorhigher': KernelFunction(), 'generatenumberthreeorlower': KernelFunction()}, 'cats_plugin': {'catage': KernelFunction(), 'catbirthday': KernelFunction()}, 'genericsemanticplugin': {'genericsemanticfunction': KernelFunction()}}\n"
     ]
    }
   ],
   "source": [
    "# Now that we have the chat service registered with the kernel, we can create and run a semantic function IN-LINE\n",
    "# The semantic function is added to the list of kernel semantic functions\n",
    "# We may also add an existing SEMANTIC plugin with kernel.import_semantic_plugin_from_directory(plugins_directory, \"FunPlugin\")\n",
    "# We may also add an existing NATIVE plugin with import_native_plugin_from_directory(plugins_directory, \"FunPlugin\")\n",
    "# https://github.com/microsoft/semantic-kernel/blob/main/python/samples/kernel-syntax-examples/openai_function_calling.py\n",
    "\n",
    "sk_prompt = \"{{$input}}\"\n",
    "\n",
    "my_semantic_function = kernel.create_semantic_function(\n",
    "    prompt_template=sk_prompt,\n",
    "    plugin_name=\"GenericSemanticPlugin\",\n",
    "    function_name=\"GenericSemanticFunction\",\n",
    "    description=\"Generic Semantic Function in a Generic Semantic Plugin\",\n",
    "    max_tokens=500,\n",
    "    temperature=0.5,\n",
    "    top_p=0.5,\n",
    ")\n",
    "\n",
    "print(f\"Here are my plugins imported into the kernel:\\n{kernel.plugins}\")"
   ]
  },
  {
   "cell_type": "code",
   "execution_count": 9,
   "id": "4a1f80fe",
   "metadata": {},
   "outputs": [
    {
     "name": "stdout",
     "output_type": "stream",
     "text": [
      "Context before: Who is Joe Biden's Wife?\n",
      "Result: Joe Biden's wife is Jill Biden.\n",
      "Context after: Joe Biden's wife is Jill Biden.\n"
     ]
    }
   ],
   "source": [
    "# Call the semantic function directly, without extracting it from the kernel\n",
    "\n",
    "context = kernel.create_new_context()\n",
    "context.variables[\"input\"] = \"Who is Joe Biden's Wife?\"\n",
    "print(f\"Context before: {context}\")\n",
    "print(f\"Result: {my_semantic_function.invoke(context=context)}\")\n",
    "print(f\"Context after: {context}\")"
   ]
  },
  {
   "cell_type": "code",
   "execution_count": 10,
   "id": "16a8ca2f",
   "metadata": {},
   "outputs": [
    {
     "name": "stdout",
     "output_type": "stream",
     "text": [
      "Context before: Who is Joe Biden's Wife?\n",
      "Joe Biden's wife is Jill Biden.\n",
      "Context after: Joe Biden's wife is Jill Biden.\n"
     ]
    }
   ],
   "source": [
    "# Same result as previous cell, but in this case we extract the semantic funt from the kernel and THEN we invoke it\n",
    "\n",
    "context = kernel.create_new_context()\n",
    "context.variables[\"input\"] = \"Who is Joe Biden's Wife?\"\n",
    "sf = kernel.plugins.get_function(plugin_name=\"GenericSemanticPlugin\", function_name=\"GenericSemanticFunction\")\n",
    "print(f\"Context before: {context}\")\n",
    "print(sf.invoke(context=context))\n",
    "print(f\"Context after: {context}\")"
   ]
  },
  {
   "cell_type": "code",
   "execution_count": 11,
   "id": "08969910",
   "metadata": {},
   "outputs": [
    {
     "name": "stdout",
     "output_type": "stream",
     "text": [
      "{\n",
      "  \"semantic_functions\": {\n",
      "    \"GenericSemanticPlugin\": [\n",
      "      {\n",
      "        \"name\": \"GenericSemanticFunction\",\n",
      "        \"plugin_name\": \"GenericSemanticPlugin\",\n",
      "        \"description\": \"Generic Semantic Function in a Generic Semantic Plugin\",\n",
      "        \"is_semantic\": true,\n",
      "        \"parameters\": [\n",
      "          {\n",
      "            \"name\": \"input\",\n",
      "            \"description\": \"\",\n",
      "            \"default_value\": \"\",\n",
      "            \"type_\": \"string\",\n",
      "            \"required\": false\n",
      "          }\n",
      "        ],\n",
      "        \"is_asynchronous\": true\n",
      "      }\n",
      "    ]\n",
      "  },\n",
      "  \"native_functions\": {\n",
      "    \"Random_Number_Plugin\": [\n",
      "      {\n",
      "        \"name\": \"GenerateNumberThreeOrHigher\",\n",
      "        \"plugin_name\": \"Random_Number_Plugin\",\n",
      "        \"description\": \"Generate a random number between 3 and x\",\n",
      "        \"is_semantic\": false,\n",
      "        \"parameters\": [],\n",
      "        \"is_asynchronous\": true\n",
      "      },\n",
      "      {\n",
      "        \"name\": \"GenerateNumberThreeOrLower\",\n",
      "        \"plugin_name\": \"Random_Number_Plugin\",\n",
      "        \"description\": \"Generate a random number between x and three\",\n",
      "        \"is_semantic\": false,\n",
      "        \"parameters\": [],\n",
      "        \"is_asynchronous\": true\n",
      "      }\n",
      "    ],\n",
      "    \"Cats_Plugin\": [\n",
      "      {\n",
      "        \"name\": \"CatAge\",\n",
      "        \"plugin_name\": \"Cats_Plugin\",\n",
      "        \"description\": \"Given a cat name, returns its age.\",\n",
      "        \"is_semantic\": false,\n",
      "        \"parameters\": [],\n",
      "        \"is_asynchronous\": true\n",
      "      },\n",
      "      {\n",
      "        \"name\": \"CatBirthday\",\n",
      "        \"plugin_name\": \"Cats_Plugin\",\n",
      "        \"description\": \"Given a cat name, returns its birthday.\",\n",
      "        \"is_semantic\": false,\n",
      "        \"parameters\": [],\n",
      "        \"is_asynchronous\": true\n",
      "      }\n",
      "    ]\n",
      "  }\n",
      "}\n"
     ]
    }
   ],
   "source": [
    "import json\n",
    "\n",
    "all_functions = kernel.plugins.get_functions_view()\n",
    "json_object = json.loads(all_functions.json())\n",
    "json_formatted_str = json.dumps(json_object, indent=2)\n",
    "\n",
    "print(json_formatted_str)"
   ]
  },
  {
   "cell_type": "code",
   "execution_count": null,
   "id": "f95aa1b9",
   "metadata": {},
   "outputs": [],
   "source": []
  },
  {
   "cell_type": "code",
   "execution_count": null,
   "id": "75f96ddd",
   "metadata": {},
   "outputs": [],
   "source": []
  },
  {
   "cell_type": "markdown",
   "id": "fe34ff99",
   "metadata": {},
   "source": [
    "# https://youtu.be/1e8GOdTPHC4"
   ]
  },
  {
   "cell_type": "code",
   "execution_count": null,
   "id": "18c5566b",
   "metadata": {},
   "outputs": [],
   "source": []
  },
  {
   "cell_type": "code",
   "execution_count": null,
   "id": "75214ea7",
   "metadata": {},
   "outputs": [],
   "source": []
  },
  {
   "cell_type": "code",
   "execution_count": 12,
   "id": "f964ef76",
   "metadata": {},
   "outputs": [],
   "source": [
    "tools = [\n",
    "    {\n",
    "        \"type\": \"function\",\n",
    "        \"function\": {\n",
    "            \"name\": \"get_flights\",            \n",
    "            \"description\": \"returns the number of flights between two dates\",\n",
    "            \"parameters\": {\n",
    "                \"type\": \"object\",\n",
    "                \"properties\": {\n",
    "                    \"date_1\": {\"type\": \"string\", \"description\": \"the first date\"},\n",
    "                    \"date_2\": {\"type\": \"string\", \"description\": \"the second date\"}\n",
    "                }\n",
    "            },\n",
    "            \"required\": [\"date_1\", \"date_2\"]\n",
    "        }\n",
    "    },\n",
    "    {\n",
    "        \"type\": \"function\",\n",
    "        \"function\": {\n",
    "            \"name\": \"get_days_difference\",            \n",
    "            \"description\": \"useful when you need to calculate the absolute number of days between two dates\",\n",
    "            \"parameters\": {\n",
    "                \"type\": \"object\",\n",
    "                \"properties\": {\n",
    "                    \"date_1\": {\"type\": \"string\", \"description\": \"the first date\"},\n",
    "                    \"date_2\": {\"type\": \"string\", \"description\": \"the second date\"}\n",
    "                }\n",
    "            },\n",
    "            \"required\": [\"date_1\", \"date_2\"]\n",
    "        }\n",
    "    },\n",
    "    {\n",
    "        \"type\": \"function\",\n",
    "        \"function\": {\n",
    "            \"name\": \"elevation_to_power\",\n",
    "            \"description\": \"calculate the mathematical result of a number elevated to the power of another number\",\n",
    "            \"parameters\": {\n",
    "                \"type\": \"object\",\n",
    "                \"properties\": {\n",
    "                    \"base\": {\"type\": \"string\", \"description\": \"the base number\"},\n",
    "                    \"power\": {\"type\": \"string\", \"description\": \"the power to elevate the base number to\"}\n",
    "                }\n",
    "            },\n",
    "            \"required\": [\"base\", \"power\"]\n",
    "        }\n",
    "    },\n",
    "    {\n",
    "        \"type\": \"function\",\n",
    "        \"function\": {\n",
    "            \"name\": \"web_search\",            \n",
    "            \"description\": \"useful for when you need to answer questions about current events\",\n",
    "            \"parameters\": {\n",
    "                \"type\": \"object\",\n",
    "                \"properties\": {\n",
    "                    \"question\": {\"type\": \"string\", \"description\": \"the text string to search on the WEB\"}\n",
    "                }\n",
    "            },\n",
    "            \"required\": [\"question\"]\n",
    "        }\n",
    "    },\n",
    "    {\n",
    "        \"type\": \"function\",\n",
    "        \"function\": {\n",
    "            \"name\": \"current_year\",            \n",
    "            \"description\": \"returns the current year\",\n",
    "            \"parameters\": {\n",
    "                \"type\": \"object\",\n",
    "                \"properties\": {                    \n",
    "                }\n",
    "            },\n",
    "            \"required\": []\n",
    "        }\n",
    "    },\n",
    "    {\n",
    "        \"type\": \"function\",\n",
    "        \"function\": {\n",
    "            \"name\": \"current_date\",            \n",
    "            \"description\": \"returns the current date\",\n",
    "            \"parameters\": {\n",
    "                \"type\": \"object\",\n",
    "                \"properties\": {\n",
    "                    \n",
    "                }\n",
    "            },\n",
    "            \"required\": []\n",
    "        }\n",
    "    },\n",
    "    {\n",
    "        \"type\": \"function\",\n",
    "        \"function\": {\n",
    "            \"name\": \"my_cat_born_date\",            \n",
    "            \"description\": \"returns my cat's born date\",\n",
    "            \"parameters\": {\n",
    "                \"type\": \"object\",\n",
    "                \"properties\": {\n",
    "                    \n",
    "                }\n",
    "            },\n",
    "            \"required\": []\n",
    "        }\n",
    "    },\n",
    "    {\n",
    "        \"type\": \"function\",\n",
    "        \"function\": {\n",
    "            \"name\": \"custom_calculator\",            \n",
    "            \"description\": \"useful for when you need to answer questions about math\",\n",
    "            \"parameters\": {\n",
    "                \"type\": \"object\",\n",
    "                \"properties\": {\n",
    "                    \"mathematical_question\": {\"type\": \"string\", \"description\": \"the text string to search on the WEB\"}\n",
    "                }\n",
    "            },\n",
    "            \"required\": [\"mathematical_question\"]\n",
    "        }\n",
    "    }\n",
    "]"
   ]
  },
  {
   "cell_type": "code",
   "execution_count": 13,
   "id": "13305b66",
   "metadata": {},
   "outputs": [
    {
     "data": {
      "text/plain": [
       "PromptTemplateConfig(schema_=1, type='completion', description='', execution_settings=AIRequestSettings(service_id=None, extension_data={'max_tokens': 2000, 'temperature': 0.7, 'top_p': 0.8, 'tool_choice': 'auto', 'tools': [{'type': 'function', 'function': {'name': 'get_flights', 'description': 'returns the number of flights between two dates', 'parameters': {'type': 'object', 'properties': {'date_1': {'type': 'string', 'description': 'the first date'}, 'date_2': {'type': 'string', 'description': 'the second date'}}}, 'required': ['date_1', 'date_2']}}, {'type': 'function', 'function': {'name': 'get_days_difference', 'description': 'useful when you need to calculate the absolute number of days between two dates', 'parameters': {'type': 'object', 'properties': {'date_1': {'type': 'string', 'description': 'the first date'}, 'date_2': {'type': 'string', 'description': 'the second date'}}}, 'required': ['date_1', 'date_2']}}, {'type': 'function', 'function': {'name': 'elevation_to_power', 'description': 'calculate the mathematical result of a number elevated to the power of another number', 'parameters': {'type': 'object', 'properties': {'base': {'type': 'string', 'description': 'the base number'}, 'power': {'type': 'string', 'description': 'the power to elevate the base number to'}}}, 'required': ['base', 'power']}}, {'type': 'function', 'function': {'name': 'web_search', 'description': 'useful for when you need to answer questions about current events', 'parameters': {'type': 'object', 'properties': {'question': {'type': 'string', 'description': 'the text string to search on the WEB'}}}, 'required': ['question']}}, {'type': 'function', 'function': {'name': 'current_year', 'description': 'returns the current year', 'parameters': {'type': 'object', 'properties': {}}, 'required': []}}, {'type': 'function', 'function': {'name': 'current_date', 'description': 'returns the current date', 'parameters': {'type': 'object', 'properties': {}}, 'required': []}}, {'type': 'function', 'function': {'name': 'my_cat_born_date', 'description': \"returns my cat's born date\", 'parameters': {'type': 'object', 'properties': {}}, 'required': []}}, {'type': 'function', 'function': {'name': 'custom_calculator', 'description': 'useful for when you need to answer questions about math', 'parameters': {'type': 'object', 'properties': {'mathematical_question': {'type': 'string', 'description': 'the text string to search on the WEB'}}}, 'required': ['mathematical_question']}}]}), default_services=[], parameters=[])"
      ]
     },
     "execution_count": 13,
     "metadata": {},
     "output_type": "execute_result"
    }
   ],
   "source": [
    "# prompt template config that contains the definition and description of each function\n",
    "\n",
    "prompt_config = sk.PromptTemplateConfig.from_execution_settings(\n",
    "    max_tokens=2000,\n",
    "    temperature=0.7,\n",
    "    top_p=0.8,\n",
    "    tool_choice=\"auto\",\n",
    "    tools=tools,\n",
    ")\n",
    "prompt_config"
   ]
  },
  {
   "cell_type": "code",
   "execution_count": 14,
   "id": "15dda88f",
   "metadata": {},
   "outputs": [
    {
     "data": {
      "text/plain": [
       "'mauromi_chatgpt'"
      ]
     },
     "execution_count": 14,
     "metadata": {},
     "output_type": "execute_result"
    }
   ],
   "source": [
    "# Let's check that we have the chat completion service\n",
    "\n",
    "kernel.get_chat_service_service_id()"
   ]
  },
  {
   "cell_type": "code",
   "execution_count": 15,
   "id": "b3a4bb88",
   "metadata": {},
   "outputs": [
    {
     "data": {
      "text/plain": [
       "ChatPromptTemplate[OpenAIChatMessage](template='{{$user_input}}', template_engine=PromptTemplateEngine(), prompt_config=PromptTemplateConfig(schema_=1, type='completion', description='', execution_settings=AIRequestSettings(service_id=None, extension_data={'max_tokens': 2000, 'temperature': 0.7, 'top_p': 0.8, 'tool_choice': 'auto', 'tools': [{'type': 'function', 'function': {'name': 'get_flights', 'description': 'returns the number of flights between two dates', 'parameters': {'type': 'object', 'properties': {'date_1': {'type': 'string', 'description': 'the first date'}, 'date_2': {'type': 'string', 'description': 'the second date'}}}, 'required': ['date_1', 'date_2']}}, {'type': 'function', 'function': {'name': 'get_days_difference', 'description': 'useful when you need to calculate the absolute number of days between two dates', 'parameters': {'type': 'object', 'properties': {'date_1': {'type': 'string', 'description': 'the first date'}, 'date_2': {'type': 'string', 'description': 'the second date'}}}, 'required': ['date_1', 'date_2']}}, {'type': 'function', 'function': {'name': 'elevation_to_power', 'description': 'calculate the mathematical result of a number elevated to the power of another number', 'parameters': {'type': 'object', 'properties': {'base': {'type': 'string', 'description': 'the base number'}, 'power': {'type': 'string', 'description': 'the power to elevate the base number to'}}}, 'required': ['base', 'power']}}, {'type': 'function', 'function': {'name': 'web_search', 'description': 'useful for when you need to answer questions about current events', 'parameters': {'type': 'object', 'properties': {'question': {'type': 'string', 'description': 'the text string to search on the WEB'}}}, 'required': ['question']}}, {'type': 'function', 'function': {'name': 'current_year', 'description': 'returns the current year', 'parameters': {'type': 'object', 'properties': {}}, 'required': []}}, {'type': 'function', 'function': {'name': 'current_date', 'description': 'returns the current date', 'parameters': {'type': 'object', 'properties': {}}, 'required': []}}, {'type': 'function', 'function': {'name': 'my_cat_born_date', 'description': \"returns my cat's born date\", 'parameters': {'type': 'object', 'properties': {}}, 'required': []}}, {'type': 'function', 'function': {'name': 'custom_calculator', 'description': 'useful for when you need to answer questions about math', 'parameters': {'type': 'object', 'properties': {'mathematical_question': {'type': 'string', 'description': 'the text string to search on the WEB'}}}, 'required': ['mathematical_question']}}]}), default_services=[], parameters=[]), messages=[])"
      ]
     },
     "execution_count": 15,
     "metadata": {},
     "output_type": "execute_result"
    }
   ],
   "source": [
    "prompt_template = sk.ChatPromptTemplate[sk_oai.models.chat.open_ai_chat_message.OpenAIChatMessage](\n",
    "    \"{{$user_input}}\", kernel.prompt_template_engine, prompt_config\n",
    ")\n",
    "prompt_template"
   ]
  },
  {
   "cell_type": "code",
   "execution_count": 16,
   "id": "0df847e8",
   "metadata": {},
   "outputs": [],
   "source": [
    "prompt_template.add_user_message(\"Hi there, who are you?\")"
   ]
  },
  {
   "cell_type": "code",
   "execution_count": 17,
   "id": "ef899373",
   "metadata": {},
   "outputs": [],
   "source": [
    "function_config = sk.SemanticFunctionConfig(prompt_config, prompt_template)"
   ]
  },
  {
   "cell_type": "code",
   "execution_count": 25,
   "id": "e4ffea6a",
   "metadata": {},
   "outputs": [
    {
     "data": {
      "text/plain": [
       "SemanticFunctionConfig(prompt_template_config=PromptTemplateConfig(schema_=1, type='completion', description='', execution_settings=AIRequestSettings(service_id=None, extension_data={'max_tokens': 2000, 'temperature': 0.7, 'top_p': 0.8, 'tool_choice': 'auto', 'tools': [{'type': 'function', 'function': {'name': 'get_flights', 'description': 'returns the number of flights between two dates', 'parameters': {'type': 'object', 'properties': {'date_1': {'type': 'string', 'description': 'the first date'}, 'date_2': {'type': 'string', 'description': 'the second date'}}}, 'required': ['date_1', 'date_2']}}, {'type': 'function', 'function': {'name': 'get_days_difference', 'description': 'useful when you need to calculate the absolute number of days between two dates', 'parameters': {'type': 'object', 'properties': {'date_1': {'type': 'string', 'description': 'the first date'}, 'date_2': {'type': 'string', 'description': 'the second date'}}}, 'required': ['date_1', 'date_2']}}, {'type': 'function', 'function': {'name': 'elevation_to_power', 'description': 'calculate the mathematical result of a number elevated to the power of another number', 'parameters': {'type': 'object', 'properties': {'base': {'type': 'string', 'description': 'the base number'}, 'power': {'type': 'string', 'description': 'the power to elevate the base number to'}}}, 'required': ['base', 'power']}}, {'type': 'function', 'function': {'name': 'web_search', 'description': 'useful for when you need to answer questions about current events', 'parameters': {'type': 'object', 'properties': {'question': {'type': 'string', 'description': 'the text string to search on the WEB'}}}, 'required': ['question']}}, {'type': 'function', 'function': {'name': 'current_year', 'description': 'returns the current year', 'parameters': {'type': 'object', 'properties': {}}, 'required': []}}, {'type': 'function', 'function': {'name': 'current_date', 'description': 'returns the current date', 'parameters': {'type': 'object', 'properties': {}}, 'required': []}}, {'type': 'function', 'function': {'name': 'my_cat_born_date', 'description': \"returns my cat's born date\", 'parameters': {'type': 'object', 'properties': {}}, 'required': []}}, {'type': 'function', 'function': {'name': 'custom_calculator', 'description': 'useful for when you need to answer questions about math', 'parameters': {'type': 'object', 'properties': {'mathematical_question': {'type': 'string', 'description': 'the text string to search on the WEB'}}}, 'required': ['mathematical_question']}}]}), default_services=[], parameters=[]), prompt_template=ChatPromptTemplate[OpenAIChatMessage](template='{{$user_input}}', template_engine=PromptTemplateEngine(), prompt_config=PromptTemplateConfig(schema_=1, type='completion', description='', execution_settings=AIRequestSettings(service_id=None, extension_data={'max_tokens': 2000, 'temperature': 0.7, 'top_p': 0.8, 'tool_choice': 'auto', 'tools': [{'type': 'function', 'function': {'name': 'get_flights', 'description': 'returns the number of flights between two dates', 'parameters': {'type': 'object', 'properties': {'date_1': {'type': 'string', 'description': 'the first date'}, 'date_2': {'type': 'string', 'description': 'the second date'}}}, 'required': ['date_1', 'date_2']}}, {'type': 'function', 'function': {'name': 'get_days_difference', 'description': 'useful when you need to calculate the absolute number of days between two dates', 'parameters': {'type': 'object', 'properties': {'date_1': {'type': 'string', 'description': 'the first date'}, 'date_2': {'type': 'string', 'description': 'the second date'}}}, 'required': ['date_1', 'date_2']}}, {'type': 'function', 'function': {'name': 'elevation_to_power', 'description': 'calculate the mathematical result of a number elevated to the power of another number', 'parameters': {'type': 'object', 'properties': {'base': {'type': 'string', 'description': 'the base number'}, 'power': {'type': 'string', 'description': 'the power to elevate the base number to'}}}, 'required': ['base', 'power']}}, {'type': 'function', 'function': {'name': 'web_search', 'description': 'useful for when you need to answer questions about current events', 'parameters': {'type': 'object', 'properties': {'question': {'type': 'string', 'description': 'the text string to search on the WEB'}}}, 'required': ['question']}}, {'type': 'function', 'function': {'name': 'current_year', 'description': 'returns the current year', 'parameters': {'type': 'object', 'properties': {}}, 'required': []}}, {'type': 'function', 'function': {'name': 'current_date', 'description': 'returns the current date', 'parameters': {'type': 'object', 'properties': {}}, 'required': []}}, {'type': 'function', 'function': {'name': 'my_cat_born_date', 'description': \"returns my cat's born date\", 'parameters': {'type': 'object', 'properties': {}}, 'required': []}}, {'type': 'function', 'function': {'name': 'custom_calculator', 'description': 'useful for when you need to answer questions about math', 'parameters': {'type': 'object', 'properties': {'mathematical_question': {'type': 'string', 'description': 'the text string to search on the WEB'}}}, 'required': ['mathematical_question']}}]}), default_services=[], parameters=[]), messages=[OpenAIChatMessage(role='user', fixed_content='Hi there, who are you?', name=None, function_call=None), OpenAIChatMessage(role='assistant', fixed_content=None, name=None, function_call=None)]))"
      ]
     },
     "execution_count": 25,
     "metadata": {},
     "output_type": "execute_result"
    }
   ],
   "source": [
    "function_config"
   ]
  },
  {
   "cell_type": "code",
   "execution_count": 45,
   "id": "6ff94f19",
   "metadata": {},
   "outputs": [
    {
     "ename": "KernelException",
     "evalue": "(<ErrorCodes.InvalidFunctionType: 4>, 'kernel_function argument must be decorated with @kernel_function', None)",
     "output_type": "error",
     "traceback": [
      "\u001b[0;31m---------------------------------------------------------------------------\u001b[0m",
      "\u001b[0;31mKernelException\u001b[0m                           Traceback (most recent call last)",
      "Cell \u001b[0;32mIn[45], line 9\u001b[0m\n\u001b[1;32m      2\u001b[0m     \u001b[38;5;129m@kernel_function\u001b[39m(\n\u001b[1;32m      3\u001b[0m         description\u001b[38;5;241m=\u001b[39m\u001b[38;5;124m\"\u001b[39m\u001b[38;5;124mGet light status\u001b[39m\u001b[38;5;124m\"\u001b[39m,\n\u001b[1;32m      4\u001b[0m         name\u001b[38;5;241m=\u001b[39m\u001b[38;5;124m\"\u001b[39m\u001b[38;5;124mgetlightstatus\u001b[39m\u001b[38;5;124m\"\u001b[39m,\n\u001b[1;32m      5\u001b[0m     )\n\u001b[1;32m      6\u001b[0m     \u001b[38;5;28;01mdef\u001b[39;00m \u001b[38;5;21mgetlightstatus\u001b[39m(\u001b[38;5;28mself\u001b[39m) \u001b[38;5;241m-\u001b[39m\u001b[38;5;241m>\u001b[39m \u001b[38;5;28mstr\u001b[39m:\n\u001b[1;32m      7\u001b[0m         \u001b[38;5;28;01mreturn\u001b[39;00m \u001b[38;5;124m\"\u001b[39m\u001b[38;5;124moff\u001b[39m\u001b[38;5;124m\"\u001b[39m\n\u001b[0;32m----> 9\u001b[0m chat_function \u001b[38;5;241m=\u001b[39m \u001b[43mkernel\u001b[49m\u001b[38;5;241;43m.\u001b[39;49m\u001b[43mregister_native_function\u001b[49m\u001b[43m(\u001b[49m\u001b[43mplugin_name\u001b[49m\u001b[38;5;241;43m=\u001b[39;49m\u001b[38;5;124;43m\"\u001b[39;49m\u001b[38;5;124;43mTestzzzz\u001b[39;49m\u001b[38;5;124;43m\"\u001b[39;49m\u001b[43m,\u001b[49m\u001b[43m \u001b[49m\u001b[43mkernel_function\u001b[49m\u001b[38;5;241;43m=\u001b[39;49m\u001b[38;5;124;43m\"\u001b[39;49m\u001b[38;5;124;43mgetLightStatus()\u001b[39;49m\u001b[38;5;124;43m\"\u001b[39;49m\u001b[43m)\u001b[49m\n",
      "File \u001b[0;32m/anaconda/envs/semantic_kernel/lib/python3.12/site-packages/semantic_kernel/kernel.py:132\u001b[0m, in \u001b[0;36mKernel.register_native_function\u001b[0;34m(self, plugin_name, kernel_function)\u001b[0m\n\u001b[1;32m    126\u001b[0m \u001b[38;5;28;01mdef\u001b[39;00m \u001b[38;5;21mregister_native_function\u001b[39m(\n\u001b[1;32m    127\u001b[0m     \u001b[38;5;28mself\u001b[39m,\n\u001b[1;32m    128\u001b[0m     plugin_name: Optional[\u001b[38;5;28mstr\u001b[39m],\n\u001b[1;32m    129\u001b[0m     kernel_function: Callable,\n\u001b[1;32m    130\u001b[0m ) \u001b[38;5;241m-\u001b[39m\u001b[38;5;241m>\u001b[39m KernelFunctionBase:\n\u001b[1;32m    131\u001b[0m     \u001b[38;5;28;01mif\u001b[39;00m \u001b[38;5;129;01mnot\u001b[39;00m \u001b[38;5;28mhasattr\u001b[39m(kernel_function, \u001b[38;5;124m\"\u001b[39m\u001b[38;5;124m__kernel_function__\u001b[39m\u001b[38;5;124m\"\u001b[39m):\n\u001b[0;32m--> 132\u001b[0m         \u001b[38;5;28;01mraise\u001b[39;00m KernelException(\n\u001b[1;32m    133\u001b[0m             KernelException\u001b[38;5;241m.\u001b[39mErrorCodes\u001b[38;5;241m.\u001b[39mInvalidFunctionType,\n\u001b[1;32m    134\u001b[0m             \u001b[38;5;124m\"\u001b[39m\u001b[38;5;124mkernel_function argument must be decorated with @kernel_function\u001b[39m\u001b[38;5;124m\"\u001b[39m,\n\u001b[1;32m    135\u001b[0m         )\n\u001b[1;32m    136\u001b[0m     function_name \u001b[38;5;241m=\u001b[39m kernel_function\u001b[38;5;241m.\u001b[39m__kernel_function_name__\n\u001b[1;32m    138\u001b[0m     \u001b[38;5;28;01mif\u001b[39;00m plugin_name \u001b[38;5;129;01mis\u001b[39;00m \u001b[38;5;28;01mNone\u001b[39;00m \u001b[38;5;129;01mor\u001b[39;00m plugin_name \u001b[38;5;241m==\u001b[39m \u001b[38;5;124m\"\u001b[39m\u001b[38;5;124m\"\u001b[39m:\n",
      "\u001b[0;31mKernelException\u001b[0m: (<ErrorCodes.InvalidFunctionType: 4>, 'kernel_function argument must be decorated with @kernel_function', None)"
     ]
    }
   ],
   "source": [
    "class Test:\n",
    "    @kernel_function(\n",
    "        description=\"Get light status\",\n",
    "        name=\"getlightstatus\",\n",
    "    )\n",
    "    def getlightstatus(self) -> str:\n",
    "        return \"off\"\n",
    "    \n",
    "chat_function = kernel.register_native_function(plugin_name=\"Testzzzz\", kernel_function=\"getLightStatus\")\n",
    "\n"
   ]
  },
  {
   "cell_type": "code",
   "execution_count": 19,
   "id": "87b4ce63",
   "metadata": {},
   "outputs": [
    {
     "name": "stdout",
     "output_type": "stream",
     "text": [
      "{\n",
      "  \"semantic_functions\": {\n",
      "    \"GenericSemanticPlugin\": [\n",
      "      {\n",
      "        \"name\": \"GenericSemanticFunction\",\n",
      "        \"plugin_name\": \"GenericSemanticPlugin\",\n",
      "        \"description\": \"Generic Semantic Function in a Generic Semantic Plugin\",\n",
      "        \"is_semantic\": true,\n",
      "        \"parameters\": [\n",
      "          {\n",
      "            \"name\": \"input\",\n",
      "            \"description\": \"\",\n",
      "            \"default_value\": \"\",\n",
      "            \"type_\": \"string\",\n",
      "            \"required\": false\n",
      "          }\n",
      "        ],\n",
      "        \"is_asynchronous\": true\n",
      "      }\n",
      "    ],\n",
      "    \"ChatBot\": [\n",
      "      {\n",
      "        \"name\": \"Chat\",\n",
      "        \"plugin_name\": \"ChatBot\",\n",
      "        \"description\": \"\",\n",
      "        \"is_semantic\": true,\n",
      "        \"parameters\": [\n",
      "          {\n",
      "            \"name\": \"user_input\",\n",
      "            \"description\": \"\",\n",
      "            \"default_value\": \"\",\n",
      "            \"type_\": \"string\",\n",
      "            \"required\": false\n",
      "          }\n",
      "        ],\n",
      "        \"is_asynchronous\": true\n",
      "      }\n",
      "    ]\n",
      "  },\n",
      "  \"native_functions\": {\n",
      "    \"Random_Number_Plugin\": [\n",
      "      {\n",
      "        \"name\": \"GenerateNumberThreeOrHigher\",\n",
      "        \"plugin_name\": \"Random_Number_Plugin\",\n",
      "        \"description\": \"Generate a random number between 3 and x\",\n",
      "        \"is_semantic\": false,\n",
      "        \"parameters\": [],\n",
      "        \"is_asynchronous\": true\n",
      "      },\n",
      "      {\n",
      "        \"name\": \"GenerateNumberThreeOrLower\",\n",
      "        \"plugin_name\": \"Random_Number_Plugin\",\n",
      "        \"description\": \"Generate a random number between x and three\",\n",
      "        \"is_semantic\": false,\n",
      "        \"parameters\": [],\n",
      "        \"is_asynchronous\": true\n",
      "      }\n",
      "    ],\n",
      "    \"Cats_Plugin\": [\n",
      "      {\n",
      "        \"name\": \"CatAge\",\n",
      "        \"plugin_name\": \"Cats_Plugin\",\n",
      "        \"description\": \"Given a cat name, returns its age.\",\n",
      "        \"is_semantic\": false,\n",
      "        \"parameters\": [],\n",
      "        \"is_asynchronous\": true\n",
      "      },\n",
      "      {\n",
      "        \"name\": \"CatBirthday\",\n",
      "        \"plugin_name\": \"Cats_Plugin\",\n",
      "        \"description\": \"Given a cat name, returns its birthday.\",\n",
      "        \"is_semantic\": false,\n",
      "        \"parameters\": [],\n",
      "        \"is_asynchronous\": true\n",
      "      }\n",
      "    ]\n",
      "  }\n",
      "}\n"
     ]
    }
   ],
   "source": [
    "import json\n",
    "\n",
    "all_functions = kernel.plugins.get_functions_view()\n",
    "json_object = json.loads(all_functions.json())\n",
    "json_formatted_str = json.dumps(json_object, indent=2)\n",
    "\n",
    "print(json_formatted_str)"
   ]
  },
  {
   "cell_type": "code",
   "execution_count": 48,
   "id": "efc7fae9",
   "metadata": {},
   "outputs": [
    {
     "data": {
      "text/plain": [
       "<coroutine object KernelFunction.invoke_async at 0x7f73c1a9dea0>"
      ]
     },
     "execution_count": 48,
     "metadata": {},
     "output_type": "execute_result"
    }
   ],
   "source": [
    "context = kernel.create_new_context()\n",
    "context.variables[\"user_input\"] = \"How many flights are there between Christmas 2020 and Easter 2021?\"\n",
    "\n",
    "    \n",
    "response = chat_function.invoke_async(context=context, functions=tools)\n",
    "response = chat_function.invoke()\n",
    "response"
   ]
  },
  {
   "cell_type": "code",
   "execution_count": 50,
   "id": "39eb2c42",
   "metadata": {},
   "outputs": [
    {
     "data": {
      "text/plain": [
       "{}"
      ]
     },
     "execution_count": 50,
     "metadata": {},
     "output_type": "execute_result"
    }
   ],
   "source": [
    "context.objects"
   ]
  }
 ],
 "metadata": {
  "kernelspec": {
   "display_name": "semantic_kernel",
   "language": "python",
   "name": "semantic_kernel"
  },
  "language_info": {
   "codemirror_mode": {
    "name": "ipython",
    "version": 3
   },
   "file_extension": ".py",
   "mimetype": "text/x-python",
   "name": "python",
   "nbconvert_exporter": "python",
   "pygments_lexer": "ipython3",
   "version": "3.12.1"
  }
 },
 "nbformat": 4,
 "nbformat_minor": 5
}
