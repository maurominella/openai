{
 "cells": [
  {
   "cell_type": "code",
   "execution_count": 1,
   "id": "58e46f8f",
   "metadata": {},
   "outputs": [],
   "source": [
    "import semantic_kernel as sk\n",
    "from semantic_kernel.connectors.ai.open_ai import OpenAIChatCompletion, AzureChatCompletion"
   ]
  },
  {
   "cell_type": "code",
   "execution_count": 2,
   "id": "6bd18096",
   "metadata": {},
   "outputs": [
    {
     "name": "stdout",
     "output_type": "stream",
     "text": [
      "('gpt4-1106-128k', '031c551131df49f3958132af714b0155', 'https://mmopenaiaue.openai.azure.com/')\n"
     ]
    }
   ],
   "source": [
    "kernel = sk.Kernel()\n",
    "print(sk.azure_openai_settings_from_dot_env())"
   ]
  },
  {
   "cell_type": "code",
   "execution_count": 3,
   "id": "037563d4",
   "metadata": {},
   "outputs": [
    {
     "data": {
      "text/plain": [
       "<semantic_kernel.kernel.Kernel at 0x7f160bfc29f0>"
      ]
     },
     "execution_count": 3,
     "metadata": {},
     "output_type": "execute_result"
    }
   ],
   "source": [
    "kernel = sk.Kernel()\n",
    "\n",
    "# Prepare OpenAI service using credentials stored in the `.env` file\n",
    "deployment_name, api_key, endpoint = sk.azure_openai_settings_from_dot_env()\n",
    "kernel.add_chat_service(\"dv\", AzureChatCompletion(deployment_name=deployment_name, endpoint=endpoint, api_key=api_key))\n",
    "\n",
    "\n",
    "# Alternative using non-Azure OpenAI:\n",
    "# api_key, org_id = sk.openai_settings_from_dot_env()\n",
    "# kernel.add_chat_service(\"chat-gpt\", OpenAIChatCompletion(\"gpt-3.5-turbo\", api_key, org_id))"
   ]
  },
  {
   "cell_type": "code",
   "execution_count": 4,
   "id": "6bef0361",
   "metadata": {},
   "outputs": [
    {
     "name": "stdout",
     "output_type": "stream",
     "text": [
      "Robots prioritize human safety, obedience.\n"
     ]
    }
   ],
   "source": [
    "prompt = kernel.create_semantic_function(\"\"\"\n",
    "1) A robot may not injure a human being or, through inaction,\n",
    "allow a human being to come to harm.\n",
    "\n",
    "2) A robot must obey orders given it by human beings except where\n",
    "such orders would conflict with the First Law.\n",
    "\n",
    "3) A robot must protect its own existence as long as such protection\n",
    "does not conflict with the First or Second Law.\n",
    "\n",
    "Give me the TLDR in exactly 5 words.\"\"\")\n",
    "\n",
    "# Run your prompt\n",
    "print(prompt()) # => Robots must not harm humans."
   ]
  },
  {
   "cell_type": "code",
   "execution_count": 5,
   "id": "77ef8d03",
   "metadata": {},
   "outputs": [
    {
     "name": "stdout",
     "output_type": "stream",
     "text": [
      "Energy conserved, disorder increases, perfect cold order.\n",
      "Newton's three laws: inertia, F=ma, action-reaction.\n"
     ]
    }
   ],
   "source": [
    "# Create a reusable function with one input parameter\n",
    "summarize = kernel.create_semantic_function(\"{{$input}}\\n\\nOne line TLDR with the fewest words.\")\n",
    "\n",
    "# Create a reusable function with one input parameter\n",
    "summarize = kernel.create_semantic_function(\"{{$input}}\\n\\nOne line TLDR with the fewest words.\")\n",
    "\n",
    "# Summarize the laws of thermodynamics\n",
    "# in this case I do not EXPLICITLY pass any parameters\n",
    "print(summarize(\"\"\"\n",
    "1st Law of Thermodynamics - Energy cannot be created or destroyed.\n",
    "2nd Law of Thermodynamics - For a spontaneous process, the entropy of the universe increases.\n",
    "3rd Law of Thermodynamics - A perfect crystal at zero Kelvin has zero entropy.\"\"\"))\n",
    "\n",
    "# Summarize the laws of motion\n",
    "# in this case I EXPLICITLY pass the \"input\" parameter\n",
    "print(summarize(input=\"\"\"\n",
    "1. An object at rest remains at rest, and an object in motion remains in motion at constant speed and in a straight line unless acted on by an unbalanced force.\n",
    "2. The acceleration of an object depends on the mass of the object and the amount of force applied.\n",
    "3. Whenever one object exerts a force on another object, the second object exerts an equal and opposite on the first.\"\"\"))\n",
    "\n",
    "\n",
    "# Output:\n",
    "# > Energy conserved, entropy increases, zero entropy at 0K.\n",
    "# > Objects move in response to forces."
   ]
  },
  {
   "cell_type": "code",
   "execution_count": 6,
   "id": "23beebe8",
   "metadata": {},
   "outputs": [
    {
     "name": "stdout",
     "output_type": "stream",
     "text": [
      "Ogni massa attrae un'altra con forza proporzionale al prodotto delle masse e inversamente al quadrato della distanza.\n"
     ]
    }
   ],
   "source": [
    "# in this case I EXPLICITLY pass the \"input\" parameter, plus another variable included in sk.ContextVariables()\n",
    "\n",
    "# Create a reusable function with one input parameter\n",
    "summarize = kernel.create_semantic_function(\"{{$input}}\\n\\nOne line TLDR with the fewest words. Answer in {{$language}}\")\n",
    "\n",
    "# Summarize the law of universal gravitation\n",
    "# in this case I EXPLICITLY pass the \"input\" parameter, however I use the ContectVariables object\n",
    "context_variables = sk.ContextVariables()\n",
    "context_variables[\"language\"] = \"Italian\"\n",
    "\n",
    "print(\n",
    "    summarize(\n",
    "        input =\"\"\"        \n",
    "        Every point mass attracts every single other point mass by a force acting along the line intersecting both points.\n",
    "        The force is proportional to the product of the two masses and inversely proportional to the square of the distance between them.\n",
    "        \"\"\",\n",
    "        variables=context_variables        \n",
    "    )\n",
    ")\n",
    "\n",
    "# Output:\n",
    "# > Ogni massa attrae un'altra con forza proporzionale al prodotto delle masse e inversamente al quadrato della distanza."
   ]
  }
 ],
 "metadata": {
  "kernelspec": {
   "display_name": "semantic_kernel",
   "language": "python",
   "name": "semantic_kernel"
  },
  "language_info": {
   "codemirror_mode": {
    "name": "ipython",
    "version": 3
   },
   "file_extension": ".py",
   "mimetype": "text/x-python",
   "name": "python",
   "nbconvert_exporter": "python",
   "pygments_lexer": "ipython3",
   "version": "3.12.1"
  }
 },
 "nbformat": 4,
 "nbformat_minor": 5
}
