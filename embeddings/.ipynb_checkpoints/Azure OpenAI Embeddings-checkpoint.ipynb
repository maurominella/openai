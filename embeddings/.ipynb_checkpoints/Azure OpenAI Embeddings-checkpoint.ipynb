{
 "cells": [
  {
   "cell_type": "markdown",
   "id": "ec06ef9f",
   "metadata": {},
   "source": [
    "# Azure OpenAI Embeddings"
   ]
  },
  {
   "cell_type": "markdown",
   "id": "05dd6139",
   "metadata": {},
   "source": [
    "## Set up environment"
   ]
  },
  {
   "cell_type": "code",
   "execution_count": null,
   "id": "c3470c9a",
   "metadata": {},
   "outputs": [],
   "source": [
    "import os\n",
    "from dotenv import load_dotenv # pip install python-dotenv\n",
    "from openai import AzureOpenAI # pip install openai\n",
    "\n",
    "load_dotenv(\"./../credentials_my.env\")\n",
    "os.environ[\"AZURE_OPENAI_ENDPOINT\"] = os.environ[\"AZURE_OPENAI_ENDPOINT_04\"]\n",
    "os.environ[\"AZURE_OPENAI_API_KEY\"] = os.environ[\"AZURE_OPENAI_API_KEY_04\"]\n",
    "\n",
    "chat_model                     = os.environ[\"GPT-4-32-0613-32k\"]\n",
    "embeddings_model_2_model       = os.environ[\"TEXT-EMBEDDING-ADA-002\"]\n",
    "embeddings_model_3_small_model = os.environ[\"TEXT-EMBEDDING-3-SMALL\"]\n",
    "embeddings_model_3_large_model = os.environ[\"TEXT-EMBEDDING-3-LARGE\"]\n",
    "\n",
    "client = AzureOpenAI(\n",
    "  api_version = os.getenv(\"AZURE_OPENAI_API_VERSION\")\n",
    "  # api_key = os.getenv(\"AZURE_OPENAI_API_KEY\"),\n",
    "  # azure_endpoint = os.getenv(\"AZURE_OPENAI_ENDPOINT\")\n",
    ")"
   ]
  },
  {
   "cell_type": "markdown",
   "id": "c87f67a6",
   "metadata": {},
   "source": [
    "## Test embeddings generation"
   ]
  },
  {
   "cell_type": "code",
   "execution_count": null,
   "id": "caa1bc89",
   "metadata": {},
   "outputs": [],
   "source": [
    "client.embeddings.create(input = [\"Rabbit\"], model=embeddings_model_2_model).data[0].embedding[:5]"
   ]
  },
  {
   "cell_type": "markdown",
   "id": "7f7ffa21",
   "metadata": {},
   "source": [
    "## Create a helper function"
   ]
  },
  {
   "cell_type": "code",
   "execution_count": null,
   "id": "53eed5ea",
   "metadata": {},
   "outputs": [],
   "source": [
    "def generate_embeddings(text, model=\"text-embedding-ada-002\"): # model = \"deployment_name\"\n",
    "    return client.embeddings.create(input = [text], model=model).data[0].embedding\n",
    "\n",
    "generate_embeddings(\"Rabbit\")[:5]"
   ]
  },
  {
   "cell_type": "markdown",
   "id": "0d2d7a43",
   "metadata": {},
   "source": [
    "# Test different embeddings models"
   ]
  },
  {
   "cell_type": "code",
   "execution_count": null,
   "id": "b02839c0",
   "metadata": {},
   "outputs": [],
   "source": [
    "for m in (embeddings_model_2_model, embeddings_model_3_small_model, embeddings_model_3_large_model):\n",
    "    embeddings = generate_embeddings(text=\"anatine amigos\", model=m)\n",
    "    print(f\"Embeddings in ({m}): {len(embeddings)}. First elements: {[round(embeddings[i],3) for i in [0,1,2,-1]]}\")    "
   ]
  },
  {
   "cell_type": "markdown",
   "id": "d2b53b0d",
   "metadata": {},
   "source": [
    "# Choose our model"
   ]
  },
  {
   "cell_type": "code",
   "execution_count": null,
   "id": "4b5a240b",
   "metadata": {},
   "outputs": [],
   "source": [
    "model = embeddings_model_3_small_model"
   ]
  },
  {
   "cell_type": "markdown",
   "id": "a5e62ae5",
   "metadata": {},
   "source": [
    "# Calculate Word Embeddings\n",
    "To use word embeddings for semantic search, you first compute the embeddings for a corpus of text using a word embedding algorithm. What does this mean? We are going to create a numerical representation of each of these words. To perform this computation, we'll use OpenAI's 'get_embedding' function.\n",
    "\n",
    "Since we have our words in a pandas dataframe, we can use \"apply\" to apply the get_embedding function to each row in the dataframe. We then store the calculated word embeddings in a new text file called \"word_embeddings.csv\" so that we don't have to call OpenAI again to perform these calculations."
   ]
  },
  {
   "cell_type": "markdown",
   "id": "c228fe49",
   "metadata": {},
   "source": [
    "# Learn how to generate embeddings with Azure OpenAI\n",
    "https://learn.microsoft.com/en-us/azure/cognitive-services/openai/how-to/embeddings?tabs=console"
   ]
  },
  {
   "cell_type": "code",
   "execution_count": null,
   "id": "fe7f1128-69ab-4715-b4b6-cfdefcde13a1",
   "metadata": {},
   "outputs": [],
   "source": [
    "import numpy as np\n",
    "embeddings = generate_embeddings(\"rabbit\")\n",
    "print(f\"embeddings shape: {np.array(embeddings).shape}. Now showing the first 5 elements:\\n{embeddings[:5]}\")"
   ]
  },
  {
   "attachments": {
    "image.png": {
     "image/png": "[encoded data removed]"
    }
   },
   "cell_type": "markdown",
   "id": "ff64f0d5",
   "metadata": {},
   "source": [
    "# Cosine similarity\n",
    "https://en.wikipedia.org/wiki/Cosine_similarity\n",
    "![image.png](attachment:image.png)"
   ]
  },
  {
   "cell_type": "code",
   "execution_count": null,
   "id": "ef3de1f4",
   "metadata": {},
   "outputs": [],
   "source": [
    "v1 = np.array([1,2,3])\n",
    "v2 = np.array([4,5,6])\n",
    "numerator = np.dot(v1,v2) # 4+10+18\n",
    "print(numerator)"
   ]
  },
  {
   "cell_type": "code",
   "execution_count": null,
   "id": "7ec273d3",
   "metadata": {},
   "outputs": [],
   "source": [
    "denominator_1 = np.linalg.norm(v1) # sqrt (1+4+9) = 3.74\n",
    "denominator_2 = np.linalg.norm(v2) # sqrt (16+25+36) = 8.77\n",
    "denominator   = denominator_1 * denominator_2\n",
    "print(denominator)"
   ]
  },
  {
   "cell_type": "code",
   "execution_count": null,
   "id": "d2203cae",
   "metadata": {},
   "outputs": [],
   "source": [
    "print(numerator / denominator)"
   ]
  },
  {
   "cell_type": "code",
   "execution_count": null,
   "id": "8873d66a",
   "metadata": {},
   "outputs": [],
   "source": [
    "def cosine_similarity(v1,v2):\n",
    "    numerator = np.dot(v1,v2)\n",
    "    denumerator = np.linalg.norm(v1) * np.linalg.norm(v2)\n",
    "    return numerator / denumerator\n",
    "\n",
    "cs = cosine_similarity(np.array([1,2,3]),np.array([4,5,6]))\n",
    "print(cs)"
   ]
  },
  {
   "cell_type": "code",
   "execution_count": null,
   "id": "97a66d2c",
   "metadata": {},
   "outputs": [],
   "source": [
    "cs = cosine_similarity(np.array([1,2,3,-1,2,3,-1,2,3,-1,2,3]),np.array([-4,5,6,4,5,-6,4,5,-6,4,5,6]))\n",
    "print(cs)"
   ]
  },
  {
   "cell_type": "markdown",
   "id": "ffacf883",
   "metadata": {},
   "source": [
    "## Create an embedding for a single word"
   ]
  },
  {
   "cell_type": "code",
   "execution_count": null,
   "id": "5005e880",
   "metadata": {},
   "outputs": [],
   "source": [
    "#openai.Embedding.create(input=\"rabbit\", engine=azure_openai_deployment_emb)['data'][0]['embedding']\n",
    "generate_embeddings(\"rabbit\")"
   ]
  },
  {
   "cell_type": "markdown",
   "id": "9510dcff",
   "metadata": {},
   "source": [
    "## Check distance between two words"
   ]
  },
  {
   "cell_type": "code",
   "execution_count": null,
   "id": "35d574dc",
   "metadata": {},
   "outputs": [],
   "source": [
    "v1 = generate_embeddings(\"rabbit\")\n",
    "v2 = generate_embeddings(\"dog\") # dog, elephant, car, space shuttle\n",
    "\n",
    "cs = cosine_similarity(v1,v2)\n",
    "print(cs)"
   ]
  },
  {
   "cell_type": "markdown",
   "id": "3026fd26",
   "metadata": {},
   "source": [
    "# Read Data File Containing Words\n",
    "Now that we have configured OpenAI, let's start with a simple CSV file with familiar words"
   ]
  },
  {
   "cell_type": "code",
   "execution_count": null,
   "id": "ee6980fb",
   "metadata": {},
   "outputs": [],
   "source": [
    "import pandas as pd\n",
    "file_name = 'words'\n",
    "df = pd.read_csv(f'{file_name}.csv')\n",
    "print(df)"
   ]
  },
  {
   "cell_type": "code",
   "execution_count": null,
   "id": "ad01b38c",
   "metadata": {},
   "outputs": [],
   "source": [
    "try:    \n",
    "    #df[\"text_embeddings\"] = df[\"text\"].apply(lambda x: openai.Embedding.create(input=x, engine=azure_openai_deployment_emb)['data'][0]['embedding'])\n",
    "    df[\"text_embeddings\"] = df[\"text\"].apply(lambda x: generate_embeddings(x))\n",
    "    df.to_pickle(f\"{file_name}_enriched.pkl\") # type(df['embeddings'][0][0]) --> float  \n",
    "except:\n",
    "    #print('switching to pickle file...')\n",
    "    df = pd.read_pickle(f\"{file_name}_enriched.pkl\")\n",
    "\n",
    "df"
   ]
  },
  {
   "cell_type": "code",
   "execution_count": null,
   "id": "a10390bf",
   "metadata": {},
   "outputs": [],
   "source": [
    "search_term = input ('Insert a search term:\\n') # \"hot dog\", \"torta\"...\n",
    "\n",
    "#search_term_vector = openai.Embedding.create(input=search_term, engine=azure_openai_deployment_emb)['data'][0]['embedding']\n",
    "search_term_vector = generate_embeddings(search_term)\n",
    "df[\"similarity\"] = df[\"text_embeddings\"].apply(lambda x: cosine_similarity(x,search_term_vector))\n",
    "df"
   ]
  },
  {
   "cell_type": "code",
   "execution_count": null,
   "id": "cdbbe742",
   "metadata": {},
   "outputs": [],
   "source": [
    "df.sort_values(\"similarity\", ascending=False)"
   ]
  },
  {
   "cell_type": "code",
   "execution_count": null,
   "id": "34b7362e",
   "metadata": {},
   "outputs": [],
   "source": [
    "search_term = \"gateau\"\n",
    "#search_term_vector = openai.Embedding.create(input=search_term, engine=azure_openai_deployment_emb)['data'][0]['embedding']\n",
    "search_term_vector = generate_embeddings(search_term)\n",
    "\n",
    "df[\"similarity\"] = df[\"text_embeddings\"].apply(lambda x: cosine_similarity(x,search_term_vector))\n",
    "df = df.sort_values(\"similarity\", ascending=False)\n",
    "df"
   ]
  },
  {
   "cell_type": "markdown",
   "id": "a9bf4161",
   "metadata": {},
   "source": [
    "# Campaign Speeches"
   ]
  },
  {
   "cell_type": "code",
   "execution_count": null,
   "id": "48a4c4c8",
   "metadata": {},
   "outputs": [],
   "source": [
    "file_name = 'discorso_presidente_del_consiglio'\n",
    "\n",
    "df = pd.read_csv(f'{file_name}.csv')\n",
    "\n",
    "df"
   ]
  },
  {
   "cell_type": "code",
   "execution_count": null,
   "id": "1c4afcb0",
   "metadata": {},
   "outputs": [],
   "source": [
    "try:\n",
    "    df[\"text_embeddings\"] = df[\"text\"].apply(lambda x: \n",
    "       # openai.Embedding.create(input=x, engine=azure_openai_deployment_emb)['data'][0]['embedding'])\n",
    "       generate_embeddings(x))\n",
    "    df.to_pickle(f\"{file_name}_enriched.pkl\") # type(df['embeddings'][0][0]) --> float\n",
    "    df.to_csv(f\"{file_name}_enriched.csv\") # type(df['embeddings'][0][0]) --> string\n",
    "\n",
    "except:\n",
    "    print(\"switching to pickle file...\")\n",
    "    df = pd.read_pickle(f\"{file_name}_enriched.pkl\")\n",
    "    \n",
    "df"
   ]
  },
  {
   "cell_type": "code",
   "execution_count": null,
   "id": "77d282be",
   "metadata": {},
   "outputs": [],
   "source": [
    "# accoglienza profughi extracomunitari --> flussi migratori, traffico di essere umani, immigrazione\n",
    "# a quali gruppi appartiene l'Italia?\n",
    "search_term = input ('Insert a search term:\\n')\n",
    "\n",
    "#search_term_vector = openai.Embedding.create(input=search_term, engine=azure_openai_deployment_emb)['data'][0]['embedding']\n",
    "search_term_vector = model.embed_query(search_term)\n",
    "\n",
    "df[\"similarity\"] = df[\"text_embeddings\"].apply(lambda x: cosine_similarity(x,search_term_vector))\n",
    "df.sort_values(\"similarity\", ascending=False).head(5)"
   ]
  },
  {
   "cell_type": "markdown",
   "id": "e0f8a9a6",
   "metadata": {},
   "source": [
    "## Generalize top paragraphs identification"
   ]
  },
  {
   "cell_type": "code",
   "execution_count": null,
   "id": "81edfaf5",
   "metadata": {},
   "outputs": [],
   "source": [
    "def top_paragraphs_identification (search_term, top_terms=5):\n",
    "    # search_term_vector = openai.Embedding.create(input=search_term, engine=azure_openai_deployment_emb)['data'][0]['embedding']\n",
    "    search_term_vector = model.embed_query(search_term)\n",
    "    df[\"similarity\"] = df[\"text_embeddings\"].apply(lambda x: cosine_similarity(x,search_term_vector))\n",
    "    return df.sort_values(\"similarity\", ascending=False).head(top_terms)\n",
    "\n",
    "\n",
    "# possible questions:\n",
    "# \"A quali gruppi appartiene l'Italia?\"\n",
    "# \"Che cosa hanno fatto le Forze Armate?\"\n",
    "# \"Quali sono le donne italiane che hanno dimostrato valore?\"\n",
    "# \"Quali sono le grandi sfide dell'Unione Europea?\"\n",
    "# \"Quale strada vuole perseguire il governo?\"\n",
    "\n",
    "question = \"Quali sono le donne italiane che hanno dimostrato valore?\"\n",
    "best_paragraphs_df = top_paragraphs_identification(question)\n",
    "best_paragraph_nr = best_paragraphs_df.index[0]\n",
    "best_paragraph_text = best_paragraphs_df[\"text\"][best_paragraph_nr]\n",
    "print(f\"The best answer should be in paragraph #{best_paragraph_nr}:\\n{best_paragraph_text}\")"
   ]
  }
 ],
 "metadata": {
  "kernelspec": {
   "display_name": "openai",
   "language": "python",
   "name": "openai"
  },
  "language_info": {
   "codemirror_mode": {
    "name": "ipython",
    "version": 3
   },
   "file_extension": ".py",
   "mimetype": "text/x-python",
   "name": "python",
   "nbconvert_exporter": "python",
   "pygments_lexer": "ipython3",
   "version": "3.11.9"
  }
 },
 "nbformat": 4,
 "nbformat_minor": 5
}
