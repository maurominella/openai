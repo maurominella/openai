{
 "cells": [
  {
   "cell_type": "markdown",
   "id": "c830d3aa-4ece-4442-a6ed-e4eede249f60",
   "metadata": {},
   "source": [
    "# Constants and Libraries"
   ]
  },
  {
   "cell_type": "code",
   "execution_count": 1,
   "id": "d1fc4086",
   "metadata": {},
   "outputs": [
    {
     "name": "stdout",
     "output_type": "stream",
     "text": [
      "Environment variables have been loaded ;-)\n"
     ]
    }
   ],
   "source": [
    "import os\n",
    "from IPython.display import Markdown, display\n",
    "from dotenv import load_dotenv # requires python-dotenv\n",
    "from openai import AzureOpenAI\n",
    "\n",
    "if not load_dotenv(\"./../../config/credentials_my.env\"):\n",
    "    print(\"Environment variables not loaded, cell execution stopped\")\n",
    "\n",
    "else:\n",
    "    print(\"Environment variables have been loaded ;-)\")\n",
    "\n",
    "messages_system = \"You are an AI assistant that helps people find information\"\n",
    "messages_user = \"Tell me five good names for my new pizzeria\""
   ]
  },
  {
   "cell_type": "markdown",
   "id": "c51aca5a-5f4f-4025-ab56-c1e29005325b",
   "metadata": {
    "jp-MarkdownHeadingCollapsed": true
   },
   "source": [
    "# Create a client to connecto Azure OpenAI service and deployment"
   ]
  },
  {
   "cell_type": "code",
   "execution_count": 2,
   "id": "c4db54a2",
   "metadata": {},
   "outputs": [
    {
     "name": "stdout",
     "output_type": "stream",
     "text": [
      "client.base_url: https://mmoaiswc-01.openai.azure.com/openai/\n"
     ]
    }
   ],
   "source": [
    "# Create the client\n",
    "client = AzureOpenAI(\n",
    "    # api_key        = os.getenv(\"AZURE_OPENAI_API_KEY\"),  \n",
    "    # api_version    = os.getenv(\"AZURE_OPENAI_API_VERSION\"), # at least 2024-02-15-preview\n",
    "    # azure_endpoint = os.getenv(\"AZURE_OPENAI_ENDPOINT\")\n",
    ")\n",
    "print(f\"client.base_url: {client.base_url}\")"
   ]
  },
  {
   "cell_type": "markdown",
   "id": "a55e0dd7-701a-4d97-8854-adbec43d9f17",
   "metadata": {
    "jp-MarkdownHeadingCollapsed": true
   },
   "source": [
    "# Create an OpenAI `Assistant`"
   ]
  },
  {
   "cell_type": "code",
   "execution_count": 3,
   "id": "a09ff1c3-7e25-4500-b1ca-1cd798a029dc",
   "metadata": {},
   "outputs": [
    {
     "name": "stdout",
     "output_type": "stream",
     "text": [
      "Assistant <Smart Assistant> (id = asst_UC20JIY6eGom5MpwqAaSv1xS) as been created.\n"
     ]
    }
   ],
   "source": [
    "# Create the OpenAI Assistant\n",
    "assistant = client.beta.assistants.create(\n",
    "    name=\"Smart Assistant\",\n",
    "    description=messages_system,\n",
    "    model = \"gpt-4o\" # gpt-4.1 still not supported by Assistants API's\n",
    ")\n",
    "\n",
    "# print(assistant.model_dump_json(indent=2))\n",
    "print(f\"Assistant <{assistant.name}> (id = {assistant.id}) as been created.\")"
   ]
  },
  {
   "cell_type": "markdown",
   "id": "19ab0bba-c9a8-4b80-b31b-8ba64a2a47d3",
   "metadata": {
    "jp-MarkdownHeadingCollapsed": true
   },
   "source": [
    "# Create a `thread` (e.g. a *conversation*)"
   ]
  },
  {
   "cell_type": "code",
   "execution_count": 4,
   "id": "5b733e17-b192-4458-895a-e3ec1f80b5f0",
   "metadata": {},
   "outputs": [
    {
     "name": "stdout",
     "output_type": "stream",
     "text": [
      "Thread(id='thread_xAhGooC3Nll1uyamvD3wvmr7', created_at=1748857227, metadata={}, object='thread', tool_resources=ToolResources(code_interpreter=None, file_search=None))\n"
     ]
    }
   ],
   "source": [
    "# Create a thread\n",
    "thread = client.beta.threads.create()\n",
    "print(thread)"
   ]
  },
  {
   "cell_type": "markdown",
   "id": "6f8f5d41-f358-462c-acab-1fbc695611b2",
   "metadata": {
    "jp-MarkdownHeadingCollapsed": true
   },
   "source": [
    "# Add a user `message` to the thread"
   ]
  },
  {
   "cell_type": "code",
   "execution_count": 5,
   "id": "9aa74de1-2ddf-4833-ad03-d8f04e29a373",
   "metadata": {},
   "outputs": [
    {
     "name": "stdout",
     "output_type": "stream",
     "text": [
      "{\n",
      "  \"data\": [\n",
      "    {\n",
      "      \"id\": \"msg_D91JLScbYKmllmvYMeaY8gk9\",\n",
      "      \"assistant_id\": null,\n",
      "      \"attachments\": [],\n",
      "      \"completed_at\": null,\n",
      "      \"content\": [\n",
      "        {\n",
      "          \"text\": {\n",
      "            \"annotations\": [],\n",
      "            \"value\": \"Tell me five good names for my new pizzeria\"\n",
      "          },\n",
      "          \"type\": \"text\"\n",
      "        }\n",
      "      ],\n",
      "      \"created_at\": 1748857227,\n",
      "      \"incomplete_at\": null,\n",
      "      \"incomplete_details\": null,\n",
      "      \"metadata\": {},\n",
      "      \"object\": \"thread.message\",\n",
      "      \"role\": \"user\",\n",
      "      \"run_id\": null,\n",
      "      \"status\": null,\n",
      "      \"thread_id\": \"thread_xAhGooC3Nll1uyamvD3wvmr7\"\n",
      "    }\n",
      "  ],\n",
      "  \"has_more\": false,\n",
      "  \"object\": \"list\",\n",
      "  \"first_id\": \"msg_D91JLScbYKmllmvYMeaY8gk9\",\n",
      "  \"last_id\": \"msg_D91JLScbYKmllmvYMeaY8gk9\"\n",
      "}\n"
     ]
    }
   ],
   "source": [
    "# Add a user question to the thread\n",
    "message = client.beta.threads.messages.create(\n",
    "    thread_id=thread.id,\n",
    "    role=\"user\",\n",
    "    content=messages_user\n",
    ")\n",
    "\n",
    "thread_messages = client.beta.threads.messages.list(thread.id)\n",
    "\n",
    "print(thread_messages.model_dump_json(indent=2))"
   ]
  },
  {
   "cell_type": "markdown",
   "id": "e9d1390b-7d29-4f00-87cd-bb751faedb41",
   "metadata": {
    "jp-MarkdownHeadingCollapsed": true
   },
   "source": [
    "# Create a `run` and wait for its status to update\n",
    "Now we put together:\n",
    "- client\n",
    "- thread\n",
    "- assistant"
   ]
  },
  {
   "cell_type": "code",
   "execution_count": 6,
   "id": "a0d65796-8540-401d-a5a1-2eaf8ea657f3",
   "metadata": {},
   "outputs": [
    {
     "name": "stdout",
     "output_type": "stream",
     "text": [
      "Run status: queued\n",
      "Final run status: completed\n"
     ]
    },
    {
     "data": {
      "text/plain": [
       "{'id': 'run_tVqyxBaepBsl2TJWH8DQEwI9',\n",
       " 'assistant_id': 'asst_UC20JIY6eGom5MpwqAaSv1xS',\n",
       " 'cancelled_at': None,\n",
       " 'completed_at': 1748857230,\n",
       " 'created_at': 1748857228,\n",
       " 'expires_at': None,\n",
       " 'failed_at': None,\n",
       " 'incomplete_details': None,\n",
       " 'instructions': None,\n",
       " 'last_error': None,\n",
       " 'max_completion_tokens': None,\n",
       " 'max_prompt_tokens': None,\n",
       " 'metadata': {},\n",
       " 'model': 'gpt-4o',\n",
       " 'object': 'thread.run',\n",
       " 'parallel_tool_calls': True,\n",
       " 'required_action': None,\n",
       " 'response_format': 'auto',\n",
       " 'started_at': 1748857228,\n",
       " 'status': 'completed',\n",
       " 'thread_id': 'thread_xAhGooC3Nll1uyamvD3wvmr7',\n",
       " 'tool_choice': 'auto',\n",
       " 'tools': [],\n",
       " 'truncation_strategy': {'type': 'auto', 'last_messages': None},\n",
       " 'usage': {'completion_tokens': 166,\n",
       "  'prompt_tokens': 62,\n",
       "  'total_tokens': 228,\n",
       "  'prompt_token_details': {'cached_tokens': 0}},\n",
       " 'temperature': 1.0,\n",
       " 'top_p': 1.0,\n",
       " 'tool_resources': {}}"
      ]
     },
     "execution_count": 6,
     "metadata": {},
     "output_type": "execute_result"
    }
   ],
   "source": [
    "import time, json\n",
    "\n",
    "run            = client.beta.threads.runs.create(\n",
    "  thread_id    = thread.id,\n",
    "  assistant_id = assistant.id,\n",
    ")\n",
    "\n",
    "while client.beta.threads.runs.retrieve(thread_id=thread.id, run_id=run.id).status in [\"queued\", \"in_progress\"]:\n",
    "    print(f\"Run status: {run.status}\")\n",
    "    time.sleep(5)\n",
    "\n",
    "print(f\"Final run status: {client.beta.threads.runs.retrieve(thread_id=thread.id, run_id=run.id).status}\")\n",
    "\n",
    "json.loads(client.beta.threads.runs.retrieve(thread_id=thread.id, run_id=run.id).to_json())"
   ]
  },
  {
   "cell_type": "markdown",
   "id": "73169ebf-d5d0-4f3c-b75a-f4860beb0954",
   "metadata": {
    "jp-MarkdownHeadingCollapsed": true
   },
   "source": [
    "# Extract messages from the thread\n",
    "**Important note**: Assistants API's are **STATEFUL**, e.g. they do **NOT** need we manage history from code."
   ]
  },
  {
   "cell_type": "code",
   "execution_count": 7,
   "id": "6bf3aa9a-acbd-4efc-b95e-ad1096cf1800",
   "metadata": {},
   "outputs": [
    {
     "data": {
      "text/plain": [
       "SyncCursorPage[Message](data=[Message(id='msg_Ed5OsjHJqyFNjtPTzFXBkUWt', assistant_id='asst_UC20JIY6eGom5MpwqAaSv1xS', attachments=[], completed_at=None, content=[TextContentBlock(text=Text(annotations=[], value='Naming your pizzeria is a fun and creative process! Here are five suggestions that could appeal to a wide range of customers:\\n\\n1. **Crust & Co. Pizzeria**: Emphasizes a focus on the quality of the pizza base, which is integral to a great pizza.\\n   \\n2. **Slice of Heaven**: Conveys the idea of a delightful and heavenly pizza experience.\\n   \\n3. **Bella Napoli Pizza**: Captures the authentic essence of Italian pizza, referencing Naples, the birthplace of pizza.\\n\\n4. **Fire & Flour Pizzeria**: Highlights the traditional elements of pizza-making with a focus on wood-fired ovens and artisanal techniques.\\n\\n5. **The Rolling Pin Pizza Co.**: A playful nod to a key tool in pizza-making, suggesting care and craftsmanship in every pie.'), type='text')], created_at=1748857228, incomplete_at=None, incomplete_details=None, metadata={}, object='thread.message', role='assistant', run_id='run_tVqyxBaepBsl2TJWH8DQEwI9', status=None, thread_id='thread_xAhGooC3Nll1uyamvD3wvmr7'), Message(id='msg_D91JLScbYKmllmvYMeaY8gk9', assistant_id=None, attachments=[], completed_at=None, content=[TextContentBlock(text=Text(annotations=[], value='Tell me five good names for my new pizzeria'), type='text')], created_at=1748857227, incomplete_at=None, incomplete_details=None, metadata={}, object='thread.message', role='user', run_id=None, status=None, thread_id='thread_xAhGooC3Nll1uyamvD3wvmr7')], has_more=False, object='list', first_id='msg_Ed5OsjHJqyFNjtPTzFXBkUWt', last_id='msg_D91JLScbYKmllmvYMeaY8gk9')"
      ]
     },
     "execution_count": 7,
     "metadata": {},
     "output_type": "execute_result"
    }
   ],
   "source": [
    "messages = client.beta.threads.messages.list(thread.id)\n",
    "messages"
   ]
  },
  {
   "cell_type": "code",
   "execution_count": 8,
   "id": "cca1b637-5f66-4ac3-a652-47a8581a91a6",
   "metadata": {},
   "outputs": [
    {
     "name": "stdout",
     "output_type": "stream",
     "text": [
      "\n",
      "\n",
      "+++>>> message 1 <msg_Ed5OsjHJqyFNjtPTzFXBkUWt> created at 2025-06-02 09:40:28 by assistant. Content:\n"
     ]
    },
    {
     "data": {
      "text/markdown": [
       "Naming your pizzeria is a fun and creative process! Here are five suggestions that could appeal to a wide range of customers:\n",
       "\n",
       "1. **Crust & Co. Pizzeria**: Emphasizes a focus on the quality of the pizza base, which is integral to a great pizza.\n",
       "   \n",
       "2. **Slice of Heaven**: Conveys the idea of a delightful and heavenly pizza experience.\n",
       "   \n",
       "3. **Bella Napoli Pizza**: Captures the authentic essence of Italian pizza, referencing Naples, the birthplace of pizza.\n",
       "\n",
       "4. **Fire & Flour Pizzeria**: Highlights the traditional elements of pizza-making with a focus on wood-fired ovens and artisanal techniques.\n",
       "\n",
       "5. **The Rolling Pin Pizza Co.**: A playful nod to a key tool in pizza-making, suggesting care and craftsmanship in every pie."
      ],
      "text/plain": [
       "<IPython.core.display.Markdown object>"
      ]
     },
     "metadata": {},
     "output_type": "display_data"
    },
    {
     "name": "stdout",
     "output_type": "stream",
     "text": [
      "\n",
      "\n",
      "+++>>> message 2 <msg_D91JLScbYKmllmvYMeaY8gk9> created at 2025-06-02 09:40:27 by user. Content:\n"
     ]
    },
    {
     "data": {
      "text/markdown": [
       "Tell me five good names for my new pizzeria"
      ],
      "text/plain": [
       "<IPython.core.display.Markdown object>"
      ]
     },
     "metadata": {},
     "output_type": "display_data"
    }
   ],
   "source": [
    "from datetime import datetime\n",
    "i=1\n",
    "for m in messages.data:\n",
    "    print(f\"\\n\\n+++>>> message {i} <{m.id}> created at {datetime.fromtimestamp(m.created_at).strftime('%Y-%m-%d %H:%M:%S')} by {m.role}. Content:\")\n",
    "    display(Markdown(m.content[0].text.value))\n",
    "    i += 1"
   ]
  },
  {
   "cell_type": "markdown",
   "id": "a749350d-f870-479d-9ff5-ee3367026509",
   "metadata": {
    "jp-MarkdownHeadingCollapsed": true
   },
   "source": [
    "# Teardown\n",
    "Before running the cell below, you may look for this `assistant` in the [Assistants Playground of Azure AI Foundry](https://ai.azure.com/resource/assistant)"
   ]
  },
  {
   "cell_type": "code",
   "execution_count": 9,
   "id": "791dd3c9-2146-4ab4-b936-36ba9c697730",
   "metadata": {},
   "outputs": [
    {
     "name": "stdout",
     "output_type": "stream",
     "text": [
      "Deleting message id = <msg_Ed5OsjHJqyFNjtPTzFXBkUWt>... of thread <thread_xAhGooC3Nll1uyamvD3wvmr7>...\n",
      "Deleting message id = <msg_D91JLScbYKmllmvYMeaY8gk9>... of thread <thread_xAhGooC3Nll1uyamvD3wvmr7>...\n",
      "\n",
      "Deleting thread thread_xAhGooC3Nll1uyamvD3wvmr7...\n",
      "\n",
      "Deleting assistant asst_UC20JIY6eGom5MpwqAaSv1xS (Smart Assistant)...\n"
     ]
    },
    {
     "data": {
      "text/plain": [
       "AssistantDeleted(id='asst_UC20JIY6eGom5MpwqAaSv1xS', deleted=True, object='assistant.deleted')"
      ]
     },
     "execution_count": 9,
     "metadata": {},
     "output_type": "execute_result"
    }
   ],
   "source": [
    "for message in client.beta.threads.messages.list(thread.id):\n",
    "    print (f\"Deleting message id = <{message.id}>... of thread <{thread.id}>...\")\n",
    "    client.beta.threads.messages.delete(message_id=message.id, thread_id=thread.id)\n",
    "\n",
    "print(f\"\\nDeleting thread {thread.id}...\")\n",
    "client.beta.threads.delete(thread_id=thread.id)\n",
    "\n",
    "print(f\"\\nDeleting assistant {assistant.id} ({assistant.name})...\")\n",
    "client.beta.assistants.delete(assistant.id)"
   ]
  },
  {
   "cell_type": "markdown",
   "id": "8f4a0d4d-a26d-45d2-9ee9-b422010b06c3",
   "metadata": {
    "jp-MarkdownHeadingCollapsed": true
   },
   "source": [
    "# Teardown for *all** assistants and messages (but [NOT threads](https://learn.microsoft.com/en-us/answers/questions/2153170/assistants-api-where-and-how-long-are-entities-sav)!)"
   ]
  },
  {
   "cell_type": "code",
   "execution_count": 10,
   "id": "7a8bae7b",
   "metadata": {},
   "outputs": [
    {
     "name": "stdout",
     "output_type": "stream",
     "text": [
      "\n",
      "0 assistants have been successfully deleted.\n"
     ]
    }
   ],
   "source": [
    "from datetime import datetime\n",
    "\n",
    "assistants = client.beta.assistants.list(limit=100).data\n",
    "i=0\n",
    "while len(assistants) > 0:\n",
    "    for assistant in assistants: \n",
    "        i=i+1\n",
    "        print(f\"Deleting assistant {i}: {assistant.id} ({assistant.name}) created at {datetime.fromtimestamp(assistant.created_at).strftime('%Y-%m-%d %H:%M:%S')}...\")\n",
    "        client.beta.assistants.delete(assistant.id)\n",
    "    assistants = client.beta.assistants.list(limit=100).data\n",
    "\n",
    "print (f\"\\n{i} assistants have been successfully deleted.\")"
   ]
  }
 ],
 "metadata": {
  "kernelspec": {
   "display_name": "aaas_new",
   "language": "python",
   "name": "aaas_new"
  },
  "language_info": {
   "codemirror_mode": {
    "name": "ipython",
    "version": 3
   },
   "file_extension": ".py",
   "mimetype": "text/x-python",
   "name": "python",
   "nbconvert_exporter": "python",
   "pygments_lexer": "ipython3",
   "version": "3.13.2"
  }
 },
 "nbformat": 4,
 "nbformat_minor": 5
}
