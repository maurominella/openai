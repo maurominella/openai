{
 "cells": [
  {
   "cell_type": "markdown",
   "id": "d11960c6-989b-401e-9565-31b8115afb51",
   "metadata": {},
   "source": [
    "[Assistants migration guide](https://platform.openai.com/docs/assistants/migration)"
   ]
  },
  {
   "cell_type": "markdown",
   "id": "e680592a-910e-4b79-84c1-0b506f9b69a2",
   "metadata": {},
   "source": [
    "# Constants and Libraries"
   ]
  },
  {
   "cell_type": "code",
   "execution_count": 1,
   "id": "2a14bcb4",
   "metadata": {},
   "outputs": [],
   "source": [
    "import os\n",
    "from dotenv import load_dotenv # requires python-dotenv\n",
    "\n",
    "load_dotenv(\"./../../config/credentials_my.env\")\n",
    "QUESTION=\"How many flights do we have between my cat born date and Easter 2021?\""
   ]
  },
  {
   "cell_type": "markdown",
   "id": "213cb3fe-3e79-4507-8ea6-7719c97b9ed7",
   "metadata": {},
   "source": [
    "# Create a client to connecto Azure OpenAI service and deployment"
   ]
  },
  {
   "cell_type": "code",
   "execution_count": 2,
   "id": "b79a34ab",
   "metadata": {},
   "outputs": [
    {
     "name": "stdout",
     "output_type": "stream",
     "text": [
      "client.base_url: https://mmoaiswc-01.openai.azure.com/openai/\n"
     ]
    }
   ],
   "source": [
    "from openai import AzureOpenAI\n",
    "\n",
    "# Create the client\n",
    "client = AzureOpenAI(\n",
    "    # api_key        = os.getenv(\"AZURE_OPENAI_API_KEY\"),  \n",
    "    # api_version    = os.getenv(\"AZURE_OPENAI_API_VERSION\"), # at least 2024-02-15-preview\n",
    "    # azure_endpoint = os.getenv(\"AZURE_OPENAI_ENDPOINT\")\n",
    ")\n",
    "print(f\"client.base_url: {client.base_url}\")"
   ]
  },
  {
   "cell_type": "markdown",
   "id": "9e4b8c90-b3d6-4ec6-9128-13f05b01db62",
   "metadata": {},
   "source": [
    "# Define custom functions"
   ]
  },
  {
   "cell_type": "code",
   "execution_count": 3,
   "id": "0094dfce",
   "metadata": {},
   "outputs": [
    {
     "name": "stdout",
     "output_type": "stream",
     "text": [
      "get_flights(\"2025-01-15\", \"2025-02-15\") --> {\"flights\": 31}\n",
      "my_cat_born_date --> {\"cat_born_date\": \"2015-01-29\"}\n"
     ]
    }
   ],
   "source": [
    "def get_flights(date_1:str, date_2:str) -> dict:\n",
    "    \"\"\" Returns the number of flights in a date interval  \"\"\"\n",
    "    import json\n",
    "    from dateutil.parser import parse\n",
    "    flights = {\n",
    "        \"flights\": abs((parse(date_2) - parse(date_1)).days) \n",
    "    }\n",
    "    return json.dumps(flights)\n",
    "\n",
    "def my_cat_born_date() -> dict:\n",
    "    \"\"\" Returns my cat's born date \"\"\"\n",
    "    import datetime, random, json\n",
    "    from dateutil.relativedelta import relativedelta\n",
    "    \n",
    "    # Calculate the date as ten years ago  \n",
    "    ten_years_ago = datetime.date.today() - relativedelta(years=10) \n",
    "    \n",
    "    cat_born_date = {\n",
    "        \"cat_born_date\": ten_years_ago.strftime(\"%Y-%m-%d\")\n",
    "    }\n",
    "    return json.dumps(cat_born_date)\n",
    "\n",
    "print(f'get_flights(\"2025-01-15\", \"2025-02-15\") --> {get_flights(\"2025-01-15\", \"2025-02-15\")}')\n",
    "print(f'my_cat_born_date --> {my_cat_born_date()}')"
   ]
  },
  {
   "cell_type": "markdown",
   "id": "a6b6b82e-38b6-4c7c-a64d-f0edadc545ff",
   "metadata": {},
   "source": [
    "# Wrap the functions into their tools list"
   ]
  },
  {
   "cell_type": "code",
   "execution_count": 4,
   "id": "c8284e5d-28e6-4122-9612-e78ec42f3727",
   "metadata": {},
   "outputs": [],
   "source": [
    "tools = [\n",
    "  {\n",
    "    \"type\": \"function\",\n",
    "    \"function\": {\n",
    "      \"name\": \"get_flights\",\n",
    "      \"description\": \"returns the number of flights between two dates\",\n",
    "      \"parameters\": {\n",
    "        \"type\": \"object\",\n",
    "        \"properties\": {\n",
    "          \"date_1\": {\n",
    "            \"type\": \"string\",\n",
    "            \"description\": \"the first date\"\n",
    "          },\n",
    "          \"date_2\": {\n",
    "            \"type\": \"string\",\n",
    "            \"description\": \"the second date\"\n",
    "          }\n",
    "        },\n",
    "        \"required\": [\n",
    "          \"date_1\",\n",
    "          \"date_2\"\n",
    "        ]\n",
    "      }\n",
    "    }\n",
    "  },\n",
    "  {\n",
    "    \"type\": \"function\",\n",
    "    \"function\": {\n",
    "      \"name\": \"my_cat_born_date\",\n",
    "      \"description\": \"returns my cat's born date\",\n",
    "      \"parameters\": {\n",
    "        \"type\": \"object\",\n",
    "        \"properties\": {},\n",
    "        \"required\": []\n",
    "      }\n",
    "    }\n",
    "  }\n",
    "]"
   ]
  },
  {
   "cell_type": "markdown",
   "id": "6b16077c-ac46-4b23-a17d-8c54f768404f",
   "metadata": {},
   "source": [
    "# Create an Assistant"
   ]
  },
  {
   "cell_type": "code",
   "execution_count": 5,
   "id": "a3857b8b",
   "metadata": {},
   "outputs": [],
   "source": [
    "assistant = client.beta.assistants.create(\n",
    "    name=\"Smart Assistant\",\n",
    "    description=\"You are a helpful AI assistant who helps answering questions\",\n",
    "    tools = tools,\n",
    "    model = os.getenv(\"AZURE_OPENAI_CHAT_DEPLOYMENT_NAME\")\n",
    ")\n",
    "\n",
    "# print(assistant.model_dump_json(indent=2))"
   ]
  },
  {
   "cell_type": "markdown",
   "id": "d4454e74-656b-4f4e-bfcc-9e70f9905369",
   "metadata": {},
   "source": [
    "# Create a conversation\n",
    "Note that `code_interpreter` and `file_search` are empty in this case, because `code_interpreter` was not created."
   ]
  },
  {
   "cell_type": "code",
   "execution_count": 6,
   "id": "d2924b7d",
   "metadata": {},
   "outputs": [
    {
     "name": "stdout",
     "output_type": "stream",
     "text": [
      "Thread(id='thread_FNp1wDWnEJmSqFIyzGjrugVw', created_at=1738145481, metadata={}, object='thread', tool_resources=ToolResources(code_interpreter=None, file_search=None))\n"
     ]
    }
   ],
   "source": [
    "# Create a thread\n",
    "thread = client.beta.threads.create()\n",
    "print(thread)"
   ]
  },
  {
   "cell_type": "markdown",
   "id": "38b802b9",
   "metadata": {},
   "source": [
    "# Add a message to the conversation"
   ]
  },
  {
   "cell_type": "code",
   "execution_count": 7,
   "id": "e7c35fe4",
   "metadata": {},
   "outputs": [
    {
     "name": "stdout",
     "output_type": "stream",
     "text": [
      "{\n",
      "  \"data\": [\n",
      "    {\n",
      "      \"id\": \"msg_Z2xekrNTN3JNIoeqbLqzg4Hu\",\n",
      "      \"assistant_id\": null,\n",
      "      \"attachments\": [],\n",
      "      \"completed_at\": null,\n",
      "      \"content\": [\n",
      "        {\n",
      "          \"text\": {\n",
      "            \"annotations\": [],\n",
      "            \"value\": \"How many flights do we have between my cat born date and Easter 2021?\"\n",
      "          },\n",
      "          \"type\": \"text\"\n",
      "        }\n",
      "      ],\n",
      "      \"created_at\": 1738145481,\n",
      "      \"incomplete_at\": null,\n",
      "      \"incomplete_details\": null,\n",
      "      \"metadata\": {},\n",
      "      \"object\": \"thread.message\",\n",
      "      \"role\": \"user\",\n",
      "      \"run_id\": null,\n",
      "      \"status\": null,\n",
      "      \"thread_id\": \"thread_FNp1wDWnEJmSqFIyzGjrugVw\"\n",
      "    }\n",
      "  ],\n",
      "  \"object\": \"list\",\n",
      "  \"first_id\": \"msg_Z2xekrNTN3JNIoeqbLqzg4Hu\",\n",
      "  \"last_id\": \"msg_Z2xekrNTN3JNIoeqbLqzg4Hu\",\n",
      "  \"has_more\": false\n",
      "}\n"
     ]
    }
   ],
   "source": [
    "# Add a user question to the thread\n",
    "message = client.beta.threads.messages.create(\n",
    "    thread_id=thread.id,\n",
    "    role=\"user\",\n",
    "    content=QUESTION\n",
    ")\n",
    "\n",
    "thread_messages = client.beta.threads.messages.list(thread.id)\n",
    "\n",
    "print(thread_messages.model_dump_json(indent=2))"
   ]
  },
  {
   "cell_type": "markdown",
   "id": "acfa5680-b462-4291-a2ef-28c331330fa4",
   "metadata": {},
   "source": [
    "# Create a Run and check its status"
   ]
  },
  {
   "cell_type": "code",
   "execution_count": 8,
   "id": "6a99a52f",
   "metadata": {},
   "outputs": [
    {
     "name": "stdout",
     "output_type": "stream",
     "text": [
      "Run status: queued\n",
      "Final run status: requires_action\n"
     ]
    },
    {
     "data": {
      "text/plain": [
       "{'id': 'run_DkAo2JpvHCyZzmadIRJXGaxp',\n",
       " 'assistant_id': 'asst_DsxCLlGtpvaGlWebi8ZWj5Av',\n",
       " 'cancelled_at': None,\n",
       " 'completed_at': None,\n",
       " 'created_at': 1738145482,\n",
       " 'expires_at': 1738146082,\n",
       " 'failed_at': None,\n",
       " 'incomplete_details': None,\n",
       " 'instructions': None,\n",
       " 'last_error': None,\n",
       " 'max_completion_tokens': None,\n",
       " 'max_prompt_tokens': None,\n",
       " 'metadata': {},\n",
       " 'model': 'gpt-4o',\n",
       " 'object': 'thread.run',\n",
       " 'parallel_tool_calls': True,\n",
       " 'required_action': {'submit_tool_outputs': {'tool_calls': [{'id': 'call_gYiMZMYUHPPr5NCqOs9chAiN',\n",
       "     'function': {'arguments': '{}', 'name': 'my_cat_born_date'},\n",
       "     'type': 'function'}]},\n",
       "  'type': 'submit_tool_outputs'},\n",
       " 'response_format': 'auto',\n",
       " 'started_at': 1738145482,\n",
       " 'status': 'requires_action',\n",
       " 'thread_id': 'thread_FNp1wDWnEJmSqFIyzGjrugVw',\n",
       " 'tool_choice': 'auto',\n",
       " 'tools': [{'function': {'name': 'get_flights',\n",
       "    'description': 'returns the number of flights between two dates',\n",
       "    'parameters': {'type': 'object',\n",
       "     'properties': {'date_1': {'type': 'string',\n",
       "       'description': 'the first date'},\n",
       "      'date_2': {'type': 'string', 'description': 'the second date'}},\n",
       "     'required': ['date_1', 'date_2']},\n",
       "    'strict': False},\n",
       "   'type': 'function'},\n",
       "  {'function': {'name': 'my_cat_born_date',\n",
       "    'description': \"returns my cat's born date\",\n",
       "    'parameters': {'type': 'object', 'properties': {}, 'required': []},\n",
       "    'strict': False},\n",
       "   'type': 'function'}],\n",
       " 'truncation_strategy': {'type': 'auto', 'last_messages': None},\n",
       " 'usage': None,\n",
       " 'temperature': 1.0,\n",
       " 'top_p': 1.0,\n",
       " 'tool_resources': {}}"
      ]
     },
     "execution_count": 8,
     "metadata": {},
     "output_type": "execute_result"
    }
   ],
   "source": [
    "import time, json\n",
    "\n",
    "run            = client.beta.threads.runs.create(\n",
    "  thread_id    = thread.id,\n",
    "  assistant_id = assistant.id,\n",
    "  #instructions=\"New instructions\" #You can optionally provide new instructions but these will override the default instructions\n",
    ")\n",
    "\n",
    "while client.beta.threads.runs.retrieve(thread_id=thread.id, run_id=run.id).status in [\"queued\", \"in_progress\"]:\n",
    "    print(f\"Run status: {run.status}\")\n",
    "    time.sleep(5)\n",
    "\n",
    "print(f\"Final run status: {client.beta.threads.runs.retrieve(thread_id=thread.id, run_id=run.id).status}\")\n",
    "\n",
    "json.loads(client.beta.threads.runs.retrieve(thread_id=thread.id, run_id=run.id).to_json())"
   ]
  },
  {
   "cell_type": "markdown",
   "id": "92ebe041-c0f5-4ea5-8b80-c9b2b1f931c2",
   "metadata": {},
   "source": [
    "# If `status` == `requires_action`, run the function(s) required"
   ]
  },
  {
   "cell_type": "code",
   "execution_count": 12,
   "id": "138252a3-0f31-418f-9a49-acd4f8df31b3",
   "metadata": {},
   "outputs": [
    {
     "name": "stdout",
     "output_type": "stream",
     "text": [
      "Calling get_flights({\"date_1\":\"2015-01-29\",\"date_2\":\"2021-04-04\"}) --> {\"flights\": 2257}\n",
      "tool_outputs: [{'tool_call_id': 'call_VHiSRszDZQFZQKcOCD2pB4z5', 'output': '{\"flights\": 2257}'}]\n"
     ]
    }
   ],
   "source": [
    "run_json = json.loads(client.beta.threads.runs.retrieve(thread_id=thread.id, run_id=run.id).to_json())\n",
    "if run_json[\"status\"]==\"requires_action\":\n",
    "    tool_outputs = []\n",
    "    for tc in run_json['required_action']['submit_tool_outputs']['tool_calls']:\n",
    "        tc_id = tc['id']\n",
    "        tc_function_name = tc['function']['name']\n",
    "        tc_args = tc['function']['arguments']\n",
    "        tool_output = eval(tc_function_name)(**json.loads(tc_args))\n",
    "        print(f\"Calling {tc_function_name}({tc_args}) --> {tool_output}\")\n",
    "        tool_outputs.append({\"tool_call_id\": tc_id, \"output\": tool_output})\n",
    "    print(f\"tool_outputs: {tool_outputs}\")\n",
    "else:\n",
    "    print(f'No more actions required. Run status: {run_json[\"status\"]}')"
   ]
  },
  {
   "cell_type": "markdown",
   "id": "c810c3e0-434c-4945-be57-ccb49b060e49",
   "metadata": {},
   "source": [
    "# Pass result(s) of the executed function(s) back to the model via `tool_outputs`"
   ]
  },
  {
   "cell_type": "code",
   "execution_count": 13,
   "id": "563d36aa-d559-425d-b4f9-441e544dd5ca",
   "metadata": {},
   "outputs": [
    {
     "name": "stdout",
     "output_type": "stream",
     "text": [
      "Run status: queued\n",
      "Final run status: completed\n",
      "The run status is completed, you can move on and retrieve the final result ;-)\n"
     ]
    }
   ],
   "source": [
    "if client.beta.threads.runs.retrieve(thread_id=thread.id, run_id=run.id).status == \"completed\":\n",
    "    print(\"The run status is completed, you can move on and retrieve the final result ;-)\")\n",
    "\n",
    "else:\n",
    "    run = client.beta.threads.runs.submit_tool_outputs(\n",
    "        thread_id=thread.id,\n",
    "        tool_outputs=tool_outputs,\n",
    "        run_id=run.id\n",
    "    )\n",
    "    \n",
    "    while client.beta.threads.runs.retrieve(thread_id=thread.id, run_id=run.id).status in [\"queued\", \"in_progress\"]:\n",
    "        print(f\"Run status: {run.status}\")\n",
    "        time.sleep(5)\n",
    "    \n",
    "    run_status = client.beta.threads.runs.retrieve(thread_id=thread.id, run_id=run.id).status\n",
    "    \n",
    "    print(f\"Final run status: {run_status}\")\n",
    "    \n",
    "    if run_status == \"requires_action\":\n",
    "        print(\"Please run again the required function(s) in the above cell and then the current cell, until the run is completed.\")\n",
    "    elif run_status == \"completed\":\n",
    "        print(\"The run status is completed, you can move on and retrieve the final result ;-)\")\n",
    "    else:\n",
    "        print(f\"Please check why we have this run <{run_status}> status\")"
   ]
  },
  {
   "cell_type": "code",
   "execution_count": null,
   "id": "c9c0e5b1-e144-4911-a44d-87caf7f13075",
   "metadata": {},
   "outputs": [],
   "source": [
    "run"
   ]
  },
  {
   "cell_type": "markdown",
   "id": "8d9f8f73-ebc4-4731-947e-35ad730ce571",
   "metadata": {},
   "source": [
    "# Extract the final result from the run\n",
    "## Run the next cells **ONLY IF** `run.status = completed`"
   ]
  },
  {
   "cell_type": "code",
   "execution_count": 14,
   "id": "447d3591-d04a-449d-952c-78461b62634a",
   "metadata": {},
   "outputs": [
    {
     "name": "stdout",
     "output_type": "stream",
     "text": [
      "There are 2,257 flights between my cat's birth date (January 29, 2015) and Easter 2021 (April 4, 2021).\n"
     ]
    }
   ],
   "source": [
    "messages = client.beta.threads.messages.list(thread_id=thread.id)\n",
    "print(json.loads(messages.to_json())[\"data\"][0][\"content\"][0][\"text\"][\"value\"])"
   ]
  },
  {
   "cell_type": "markdown",
   "id": "8e89ee13",
   "metadata": {},
   "source": [
    "# Final implementation"
   ]
  },
  {
   "cell_type": "code",
   "execution_count": null,
   "id": "3ee1a7c3",
   "metadata": {},
   "outputs": [],
   "source": [
    "import time, json\n",
    "\n",
    "# Create a thread\n",
    "thread = client.beta.threads.create()\n",
    "\n",
    "print (f\"Question: {QUESTION}\")\n",
    "\n",
    "message       = client.beta.threads.messages.create(\n",
    "    thread_id = thread.id,\n",
    "    role      = \"user\",\n",
    "    content   = QUESTION\n",
    ")\n",
    "\n",
    "run            = client.beta.threads.runs.create(\n",
    "  thread_id    = thread.id,\n",
    "  assistant_id = assistant.id,\n",
    "  #instructions=\"New instructions\" #You can optionally provide new instructions but these will override the default instructions\n",
    ")\n",
    "\n",
    "start_time = time.time()\n",
    "status = run.status\n",
    "\n",
    "while status not in [\"completed\", \"cancelled\", \"expired\", \"failed\"]:\n",
    "    run = client.beta.threads.runs.retrieve(thread_id=thread.id,run_id=run.id)\n",
    "    print( f\"Run status: {status} after {int((time.time() - start_time) // 60)} minutes {int((time.time() - start_time) % 60)} seconds\")\n",
    "    \n",
    "    if status == \"requires_action\":\n",
    "        tool_calls = run.required_action.submit_tool_outputs.tool_calls\n",
    "        tool_outputs = []\n",
    "        for tc in tool_calls:\n",
    "            function_to_call = tc.function.name\n",
    "            function_args    = tc.function.arguments\n",
    "            tool_output      = eval(function_to_call)(**json.loads(function_args))\n",
    "            tool_outputs.append({\"tool_call_id\": tc.id, \"output\": tool_output})\n",
    "\n",
    "            print(f\"Calling {tc.function.name}(**{tc.function.arguments}) --> {tool_output}\")\n",
    "\n",
    "        run = client.beta.threads.runs.submit_tool_outputs(\n",
    "            thread_id=thread.id, run_id=run.id, tool_outputs=tool_outputs)\n",
    "\n",
    "    time.sleep(5)\n",
    "    status = run.status\n",
    "        \n",
    "print( f\"\\nRun status: {status} after {int((time.time() - start_time) // 60)} minutes {int((time.time() - start_time) % 60)} seconds\")\n",
    "messages = client.beta.threads.messages.list(thread_id=thread.id)\n",
    "print(json.loads(messages.to_json())[\"data\"][0][\"content\"][0][\"text\"][\"value\"])"
   ]
  }
 ],
 "metadata": {
  "kernelspec": {
   "display_name": "openai",
   "language": "python",
   "name": "openai"
  },
  "language_info": {
   "codemirror_mode": {
    "name": "ipython",
    "version": 3
   },
   "file_extension": ".py",
   "mimetype": "text/x-python",
   "name": "python",
   "nbconvert_exporter": "python",
   "pygments_lexer": "ipython3",
   "version": "3.11.11"
  }
 },
 "nbformat": 4,
 "nbformat_minor": 5
}
