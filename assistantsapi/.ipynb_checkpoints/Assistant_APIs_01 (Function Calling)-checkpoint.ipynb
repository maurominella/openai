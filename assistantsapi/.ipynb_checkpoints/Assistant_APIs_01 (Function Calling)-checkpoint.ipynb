{
 "cells": [
  {
   "cell_type": "markdown",
   "id": "d11960c6-989b-401e-9565-31b8115afb51",
   "metadata": {},
   "source": [
    "# [Assistants migration guide](https://platform.openai.com/docs/assistants/migration)"
   ]
  },
  {
   "cell_type": "markdown",
   "id": "e680592a-910e-4b79-84c1-0b506f9b69a2",
   "metadata": {},
   "source": [
    "# Constants and Libraries"
   ]
  },
  {
   "cell_type": "code",
   "execution_count": 1,
   "id": "2a14bcb4",
   "metadata": {},
   "outputs": [
    {
     "name": "stdout",
     "output_type": "stream",
     "text": [
      "Environment variables have been loaded ;-)\n"
     ]
    }
   ],
   "source": [
    "import os\n",
    "from dotenv import load_dotenv # requires python-dotenv\n",
    "\n",
    "if not load_dotenv(\"./../../config/credentials_my.env\"):\n",
    "    print(\"Environment variables not loaded, cell execution stopped\")\n",
    "    sys.exit()\n",
    "print(\"Environment variables have been loaded ;-)\")\n",
    "    \n",
    "QUESTION=\"How many flights do we have between my cat Mike born date and Easter 2021?\""
   ]
  },
  {
   "cell_type": "markdown",
   "id": "213cb3fe-3e79-4507-8ea6-7719c97b9ed7",
   "metadata": {},
   "source": [
    "# Create a client to connecto Azure OpenAI service and deployment"
   ]
  },
  {
   "cell_type": "code",
   "execution_count": 2,
   "id": "b79a34ab",
   "metadata": {},
   "outputs": [
    {
     "name": "stdout",
     "output_type": "stream",
     "text": [
      "client.base_url: https://mmoaiswc-01.openai.azure.com/openai/\n"
     ]
    }
   ],
   "source": [
    "from openai import AzureOpenAI\n",
    "\n",
    "# Create the client\n",
    "client = AzureOpenAI(\n",
    "    # api_key        = os.getenv(\"AZURE_OPENAI_API_KEY\"),  \n",
    "    # api_version    = os.getenv(\"AZURE_OPENAI_API_VERSION\"), # at least 2024-02-15-preview\n",
    "    # azure_endpoint = os.getenv(\"AZURE_OPENAI_ENDPOINT\")\n",
    ")\n",
    "print(f\"client.base_url: {client.base_url}\")"
   ]
  },
  {
   "cell_type": "markdown",
   "id": "9e4b8c90-b3d6-4ec6-9128-13f05b01db62",
   "metadata": {},
   "source": [
    "# Define custom functions"
   ]
  },
  {
   "cell_type": "code",
   "execution_count": 3,
   "id": "0094dfce",
   "metadata": {},
   "outputs": [
    {
     "name": "stdout",
     "output_type": "stream",
     "text": [
      "get_flights(\"2025-01-15\", \"2025-02-15\") --> {\"flights\": 31}\n",
      "my_cat_born_date --> {\"cat_born_date\": \"2015-04-24\"}\n"
     ]
    }
   ],
   "source": [
    "def get_flights(date_1:str, date_2:str) -> dict:\n",
    "    \"\"\" Returns the number of flights in a date interval  \"\"\"\n",
    "    import json\n",
    "    from dateutil.parser import parse\n",
    "    flights = {\n",
    "        \"flights\": abs((parse(date_2) - parse(date_1)).days) \n",
    "    }\n",
    "    return json.dumps(flights)\n",
    "\n",
    "def my_cat_born_date(cat_name:str) -> dict:\n",
    "    \"\"\" Returns my cat's born date \"\"\"\n",
    "    import datetime, random, json\n",
    "    from dateutil.relativedelta import relativedelta\n",
    "    \n",
    "    # Calculate the date as ten years ago  \n",
    "    ten_years_ago = datetime.date.today() - relativedelta(years=10) \n",
    "    \n",
    "    cat_born_date = {\n",
    "        \"cat_born_date\": ten_years_ago.strftime(\"%Y-%m-%d\")\n",
    "    }\n",
    "    return json.dumps(cat_born_date)\n",
    "\n",
    "print(f'get_flights(\"2025-01-15\", \"2025-02-15\") --> {get_flights(date_1 = \"2025-01-15\", date_2 = \"2025-02-15\")}')\n",
    "print(f'my_cat_born_date --> {my_cat_born_date(cat_name = \"Mike\")}')"
   ]
  },
  {
   "cell_type": "markdown",
   "id": "a6b6b82e-38b6-4c7c-a64d-f0edadc545ff",
   "metadata": {},
   "source": [
    "# Wrap the functions into their tools list"
   ]
  },
  {
   "cell_type": "code",
   "execution_count": 4,
   "id": "c8284e5d-28e6-4122-9612-e78ec42f3727",
   "metadata": {},
   "outputs": [],
   "source": [
    "tools = [\n",
    "  {\n",
    "    \"type\": \"function\",\n",
    "    \"function\": {\n",
    "      \"name\": \"get_flights\",\n",
    "      \"description\": \"returns the number of flights between two dates\",\n",
    "      \"parameters\": {\n",
    "        \"type\": \"object\",\n",
    "        \"properties\": {\n",
    "          \"date_1\": {\n",
    "            \"type\": \"string\",\n",
    "            \"description\": \"the first date\"\n",
    "          },\n",
    "          \"date_2\": {\n",
    "            \"type\": \"string\",\n",
    "            \"description\": \"the second date\"\n",
    "          }\n",
    "        },\n",
    "        \"required\": [\n",
    "          \"date_1\",\n",
    "          \"date_2\"\n",
    "        ]\n",
    "      }\n",
    "    }\n",
    "  },\n",
    "  {\n",
    "    \"type\": \"function\",\n",
    "    \"function\": {\n",
    "      \"name\": \"my_cat_born_date\",\n",
    "      \"description\": \"returns my cat's born date\",\n",
    "      \"parameters\": {\n",
    "        \"type\": \"object\",\n",
    "        \"properties\": {\n",
    "          \"cat_name\": {\n",
    "            \"type\": \"string\",\n",
    "            \"description\": \"the cat's name\"\n",
    "          }            \n",
    "        },\n",
    "        \"required\": []\n",
    "      }\n",
    "    }\n",
    "  }\n",
    "]"
   ]
  },
  {
   "cell_type": "markdown",
   "id": "6b16077c-ac46-4b23-a17d-8c54f768404f",
   "metadata": {},
   "source": [
    "# Create an Assistant"
   ]
  },
  {
   "cell_type": "code",
   "execution_count": 5,
   "id": "a3857b8b",
   "metadata": {},
   "outputs": [
    {
     "name": "stdout",
     "output_type": "stream",
     "text": [
      "Assistant <Smart Assistant> (id = asst_MLvLDFv7E4mdrhhQdHy0yJOP) as been created.\n"
     ]
    }
   ],
   "source": [
    "assistant = client.beta.assistants.create(\n",
    "    name=\"Smart Assistant\",\n",
    "    description=\"You are a helpful AI assistant who helps answering questions\",\n",
    "    tools = tools,\n",
    "    model = \"gpt-4o\" # gpt-4.1 still not supported by Assistants API's\n",
    ")\n",
    "\n",
    "# print(assistant.model_dump_json(indent=2))\n",
    "print(f\"Assistant <{assistant.name}> (id = {assistant.id}) as been created.\")"
   ]
  },
  {
   "cell_type": "markdown",
   "id": "d4454e74-656b-4f4e-bfcc-9e70f9905369",
   "metadata": {},
   "source": [
    "# Create a conversation\n",
    "Note that `code_interpreter` and `file_search` are empty in this case, because `code_interpreter` was not created."
   ]
  },
  {
   "cell_type": "code",
   "execution_count": 6,
   "id": "d2924b7d",
   "metadata": {},
   "outputs": [
    {
     "name": "stdout",
     "output_type": "stream",
     "text": [
      "Thread(id='thread_Pu9TemMlWZYuKj8dIZf6KaYG', created_at=1745509858, metadata={}, object='thread', tool_resources=ToolResources(code_interpreter=None, file_search=None))\n"
     ]
    }
   ],
   "source": [
    "# Create a thread\n",
    "thread = client.beta.threads.create()\n",
    "print(thread)"
   ]
  },
  {
   "cell_type": "markdown",
   "id": "38b802b9",
   "metadata": {},
   "source": [
    "# Add a message to the conversation"
   ]
  },
  {
   "cell_type": "code",
   "execution_count": 7,
   "id": "e7c35fe4",
   "metadata": {},
   "outputs": [
    {
     "name": "stdout",
     "output_type": "stream",
     "text": [
      "{\n",
      "  \"data\": [\n",
      "    {\n",
      "      \"id\": \"msg_pbTtxugjPZxaE8vu9iCJRBid\",\n",
      "      \"assistant_id\": null,\n",
      "      \"attachments\": [],\n",
      "      \"completed_at\": null,\n",
      "      \"content\": [\n",
      "        {\n",
      "          \"text\": {\n",
      "            \"annotations\": [],\n",
      "            \"value\": \"How many flights do we have between my cat Mike born date and Easter 2021?\"\n",
      "          },\n",
      "          \"type\": \"text\"\n",
      "        }\n",
      "      ],\n",
      "      \"created_at\": 1745509858,\n",
      "      \"incomplete_at\": null,\n",
      "      \"incomplete_details\": null,\n",
      "      \"metadata\": {},\n",
      "      \"object\": \"thread.message\",\n",
      "      \"role\": \"user\",\n",
      "      \"run_id\": null,\n",
      "      \"status\": null,\n",
      "      \"thread_id\": \"thread_Pu9TemMlWZYuKj8dIZf6KaYG\"\n",
      "    }\n",
      "  ],\n",
      "  \"has_more\": false,\n",
      "  \"object\": \"list\",\n",
      "  \"first_id\": \"msg_pbTtxugjPZxaE8vu9iCJRBid\",\n",
      "  \"last_id\": \"msg_pbTtxugjPZxaE8vu9iCJRBid\"\n",
      "}\n"
     ]
    }
   ],
   "source": [
    "# Add a user question to the thread\n",
    "message = client.beta.threads.messages.create(\n",
    "    thread_id=thread.id,\n",
    "    role=\"user\",\n",
    "    content=QUESTION\n",
    ")\n",
    "\n",
    "thread_messages = client.beta.threads.messages.list(thread.id)\n",
    "\n",
    "print(thread_messages.model_dump_json(indent=2))"
   ]
  },
  {
   "cell_type": "markdown",
   "id": "acfa5680-b462-4291-a2ef-28c331330fa4",
   "metadata": {},
   "source": [
    "# Create a Run and wait for its status to update"
   ]
  },
  {
   "cell_type": "code",
   "execution_count": 8,
   "id": "6a99a52f",
   "metadata": {},
   "outputs": [
    {
     "name": "stdout",
     "output_type": "stream",
     "text": [
      "Run status: queued\n",
      "Final run status: requires_action\n"
     ]
    },
    {
     "data": {
      "text/plain": [
       "{'id': 'run_rZ0hQqvuZLRUNOcTChp0Ujk6',\n",
       " 'assistant_id': 'asst_MLvLDFv7E4mdrhhQdHy0yJOP',\n",
       " 'cancelled_at': None,\n",
       " 'completed_at': None,\n",
       " 'created_at': 1745509859,\n",
       " 'expires_at': 1745545859,\n",
       " 'failed_at': None,\n",
       " 'incomplete_details': None,\n",
       " 'instructions': None,\n",
       " 'last_error': None,\n",
       " 'max_completion_tokens': None,\n",
       " 'max_prompt_tokens': None,\n",
       " 'metadata': {},\n",
       " 'model': 'gpt-4o',\n",
       " 'object': 'thread.run',\n",
       " 'parallel_tool_calls': True,\n",
       " 'required_action': {'submit_tool_outputs': {'tool_calls': [{'id': 'call_1FBYyo7KeAiNDHPR3JMsrrIo',\n",
       "     'function': {'arguments': '{\"cat_name\":\"Mike\"}',\n",
       "      'name': 'my_cat_born_date'},\n",
       "     'type': 'function'}]},\n",
       "  'type': 'submit_tool_outputs'},\n",
       " 'response_format': 'auto',\n",
       " 'started_at': 1745509859,\n",
       " 'status': 'requires_action',\n",
       " 'thread_id': 'thread_Pu9TemMlWZYuKj8dIZf6KaYG',\n",
       " 'tool_choice': 'auto',\n",
       " 'tools': [{'function': {'name': 'get_flights',\n",
       "    'description': 'returns the number of flights between two dates',\n",
       "    'parameters': {'type': 'object',\n",
       "     'properties': {'date_1': {'type': 'string',\n",
       "       'description': 'the first date'},\n",
       "      'date_2': {'type': 'string', 'description': 'the second date'}},\n",
       "     'required': ['date_1', 'date_2']},\n",
       "    'strict': False},\n",
       "   'type': 'function'},\n",
       "  {'function': {'name': 'my_cat_born_date',\n",
       "    'description': \"returns my cat's born date\",\n",
       "    'parameters': {'type': 'object',\n",
       "     'properties': {'cat_name': {'type': 'string',\n",
       "       'description': \"the cat's name\"}},\n",
       "     'required': []},\n",
       "    'strict': False},\n",
       "   'type': 'function'}],\n",
       " 'truncation_strategy': {'type': 'auto', 'last_messages': None},\n",
       " 'usage': None,\n",
       " 'temperature': 1.0,\n",
       " 'top_p': 1.0,\n",
       " 'tool_resources': {}}"
      ]
     },
     "execution_count": 8,
     "metadata": {},
     "output_type": "execute_result"
    }
   ],
   "source": [
    "import time, json\n",
    "\n",
    "run            = client.beta.threads.runs.create(\n",
    "  thread_id    = thread.id,\n",
    "  assistant_id = assistant.id,\n",
    "  #instructions=\"New instructions\" #You can optionally provide new instructions but these will override the default instructions\n",
    ")\n",
    "\n",
    "while client.beta.threads.runs.retrieve(thread_id=thread.id, run_id=run.id).status in [\"queued\", \"in_progress\"]:\n",
    "    print(f\"Run status: {run.status}\")\n",
    "    time.sleep(5)\n",
    "\n",
    "print(f\"Final run status: {client.beta.threads.runs.retrieve(thread_id=thread.id, run_id=run.id).status}\")\n",
    "\n",
    "time.sleep(5)\n",
    "\n",
    "json.loads(client.beta.threads.runs.retrieve(thread_id=thread.id, run_id=run.id).to_json())"
   ]
  },
  {
   "cell_type": "markdown",
   "id": "92ebe041-c0f5-4ea5-8b80-c9b2b1f931c2",
   "metadata": {},
   "source": [
    "# If `status` == `requires_action`, this cells runs the function(s) required"
   ]
  },
  {
   "cell_type": "code",
   "execution_count": 11,
   "id": "138252a3-0f31-418f-9a49-acd4f8df31b3",
   "metadata": {},
   "outputs": [
    {
     "name": "stdout",
     "output_type": "stream",
     "text": [
      "Calling get_flights({\"date_1\":\"2015-04-24\",\"date_2\":\"2021-04-04\"}) --> {\"flights\": 2172}\n",
      "tool_outputs: [{'tool_call_id': 'call_IRlxsd5IpyIURA0Lh6P6Nsh9', 'output': '{\"flights\": 2172}'}]\n"
     ]
    }
   ],
   "source": [
    "run_json = json.loads(client.beta.threads.runs.retrieve(thread_id=thread.id, run_id=run.id).to_json())\n",
    "if run_json[\"status\"]==\"requires_action\":\n",
    "    tool_outputs = []\n",
    "    for tc in run_json['required_action']['submit_tool_outputs']['tool_calls']:\n",
    "        tc_id = tc['id']\n",
    "        tc_function_name = tc['function']['name']\n",
    "        tc_args = tc['function']['arguments']\n",
    "        tool_output = eval(tc_function_name)(**json.loads(tc_args))\n",
    "        print(f\"Calling {tc_function_name}({tc_args}) --> {tool_output}\")\n",
    "        tool_outputs.append({\"tool_call_id\": tc_id, \"output\": tool_output})\n",
    "    print(f\"tool_outputs: {tool_outputs}\")\n",
    "    \n",
    "elif run_json[\"status\"]==\"queued\":\n",
    "    print(\"Hey, it's too early to run this cell, since the run status is 'queued'. Please wait a few seconds and try again.\")\n",
    "\n",
    "else:\n",
    "    print(f'No more actions required. Run status: {run_json[\"status\"]}')"
   ]
  },
  {
   "cell_type": "markdown",
   "id": "c810c3e0-434c-4945-be57-ccb49b060e49",
   "metadata": {},
   "source": [
    "# Pass result(s) of the executed function(s) back to the model via `tool_outputs`"
   ]
  },
  {
   "cell_type": "markdown",
   "id": "7ff78680-d30f-42ea-b410-de799e9d42f0",
   "metadata": {},
   "source": [
    "# STOP HERE RUNNING THIS NOTEBOOK IN UNATTENDED MODE"
   ]
  },
  {
   "cell_type": "code",
   "execution_count": 12,
   "id": "563d36aa-d559-425d-b4f9-441e544dd5ca",
   "metadata": {},
   "outputs": [
    {
     "name": "stdout",
     "output_type": "stream",
     "text": [
      "Run status: queued\n",
      "Final run status: completed\n",
      "The run status is completed, you can move on and retrieve the final result ;-)\n"
     ]
    }
   ],
   "source": [
    "if client.beta.threads.runs.retrieve(thread_id=thread.id, run_id=run.id).status == \"completed\":\n",
    "    print(\"The run status is completed, you can move on and retrieve the final result ;-)\")\n",
    "\n",
    "else:\n",
    "    run = client.beta.threads.runs.submit_tool_outputs(\n",
    "        thread_id=thread.id,\n",
    "        tool_outputs=tool_outputs,\n",
    "        run_id=run.id\n",
    "    )\n",
    "    \n",
    "    while client.beta.threads.runs.retrieve(thread_id=thread.id, run_id=run.id).status in [\"queued\", \"in_progress\"]:\n",
    "        print(f\"Run status: {run.status}\")\n",
    "        time.sleep(5)\n",
    "    \n",
    "    run_status = client.beta.threads.runs.retrieve(thread_id=thread.id, run_id=run.id).status\n",
    "    \n",
    "    print(f\"Final run status: {run_status}\")\n",
    "    \n",
    "    if run_status == \"requires_action\":\n",
    "        print(\"Please run again the required function(s) in the above cell and then the current cell again, until the run is completed.\")\n",
    "    elif run_status == \"completed\":\n",
    "        print(\"The run status is completed, you can move on and retrieve the final result ;-)\")\n",
    "    else:\n",
    "        print(f\"Please check why we have this run <{run_status}> status\")"
   ]
  },
  {
   "cell_type": "markdown",
   "id": "8d9f8f73-ebc4-4731-947e-35ad730ce571",
   "metadata": {},
   "source": [
    "# Extract the final result from the run\n",
    "## Run the next cells **ONLY IF** `run.status = completed`"
   ]
  },
  {
   "cell_type": "code",
   "execution_count": 13,
   "id": "447d3591-d04a-449d-952c-78461b62634a",
   "metadata": {},
   "outputs": [
    {
     "name": "stdout",
     "output_type": "stream",
     "text": [
      "There are 2,172 flights between your cat Mike's birth date (April 24, 2015) and Easter 2021 (April 4, 2021).\n"
     ]
    }
   ],
   "source": [
    "if client.beta.threads.runs.retrieve(thread_id=thread.id, run_id=run.id).status != \"completed\":\n",
    "    print(f\"Hey, it's too early to run this cell, since the run status is '{run_json['status']}'!\")\n",
    "    \n",
    "else:\n",
    "    messages = client.beta.threads.messages.list(thread_id=thread.id)\n",
    "    print(json.loads(messages.to_json())[\"data\"][0][\"content\"][0][\"text\"][\"value\"])"
   ]
  },
  {
   "cell_type": "markdown",
   "id": "45fa5d33-68d1-4f96-8fbf-c4fd1f04767d",
   "metadata": {},
   "source": [
    "## START teardown for the current assistant"
   ]
  },
  {
   "cell_type": "code",
   "execution_count": 14,
   "id": "aa2a1684-e700-4a88-b08e-9f3fe2979260",
   "metadata": {},
   "outputs": [
    {
     "name": "stdout",
     "output_type": "stream",
     "text": [
      "Deleting message id = <msg_pwiHcL50GZ5tuciRMP3ND5ng>... of thread <thread_Pu9TemMlWZYuKj8dIZf6KaYG>...\n",
      "Deleting message id = <msg_pbTtxugjPZxaE8vu9iCJRBid>... of thread <thread_Pu9TemMlWZYuKj8dIZf6KaYG>...\n",
      "\n",
      "Deleting thread thread_Pu9TemMlWZYuKj8dIZf6KaYG...\n",
      "\n",
      "Deleting assistant asst_MLvLDFv7E4mdrhhQdHy0yJOP (Smart Assistant)...\n"
     ]
    },
    {
     "data": {
      "text/plain": [
       "AssistantDeleted(id='asst_MLvLDFv7E4mdrhhQdHy0yJOP', deleted=True, object='assistant.deleted')"
      ]
     },
     "execution_count": 14,
     "metadata": {},
     "output_type": "execute_result"
    }
   ],
   "source": [
    "for message in client.beta.threads.messages.list(thread.id):\n",
    "    print (f\"Deleting message id = <{message.id}>... of thread <{thread.id}>...\")\n",
    "    client.beta.threads.messages.delete(message_id=message.id, thread_id=thread.id)\n",
    "\n",
    "print(f\"\\nDeleting thread {thread.id}...\")\n",
    "client.beta.threads.delete(thread_id=thread.id)\n",
    "\n",
    "print(f\"\\nDeleting assistant {assistant.id} ({assistant.name})...\")\n",
    "client.beta.assistants.delete(assistant.id)"
   ]
  },
  {
   "cell_type": "markdown",
   "id": "8e89ee13",
   "metadata": {},
   "source": [
    "# Final implementation in a single cell"
   ]
  },
  {
   "cell_type": "code",
   "execution_count": 15,
   "id": "3ee1a7c3",
   "metadata": {},
   "outputs": [
    {
     "name": "stdout",
     "output_type": "stream",
     "text": [
      "Question: How many flights do we have between my cat Mike born date and Easter 2021?\n",
      "Run status: queued after 0 minutes 0 seconds\n",
      "Run status: in_progress after 0 minutes 5 seconds\n",
      "Run status: requires_action after 0 minutes 11 seconds\n",
      "Calling my_cat_born_date(**{\"cat_name\":\"Mike\"}) --> {\"cat_born_date\": \"2015-04-24\"}\n",
      "Run status: queued after 0 minutes 16 seconds\n",
      "Run status: requires_action after 0 minutes 22 seconds\n",
      "Calling get_flights(**{\"date_1\":\"2015-04-24\",\"date_2\":\"2021-04-04\"}) --> {\"flights\": 2172}\n",
      "Run status: queued after 0 minutes 28 seconds\n",
      "\n",
      "Run status: completed after 0 minutes 33 seconds\n",
      "There are 2172 flights between your cat Mike's birth date, April 24, 2015, and Easter 2021 on April 4, 2021.\n",
      "Deleting message id = <msg_KURBHxt6UG5YBmufj8yqvX32>... of thread <thread_q6E0e6k411uIU5GOMKU4oLW0>...\n",
      "Deleting message id = <msg_HONxgVZCLB3twbKTFT3iIyDh>... of thread <thread_q6E0e6k411uIU5GOMKU4oLW0>...\n",
      "\n",
      "Deleting thread thread_q6E0e6k411uIU5GOMKU4oLW0...\n",
      "\n",
      "Deleting assistant asst_DwiIYVVJNqgllRUh7BiGaAQS (Smart Assistant)...\n"
     ]
    },
    {
     "data": {
      "text/plain": [
       "AssistantDeleted(id='asst_DwiIYVVJNqgllRUh7BiGaAQS', deleted=True, object='assistant.deleted')"
      ]
     },
     "execution_count": 15,
     "metadata": {},
     "output_type": "execute_result"
    }
   ],
   "source": [
    "import time, json\n",
    "\n",
    "# Create the client\n",
    "client = AzureOpenAI(\n",
    "    azure_endpoint = os.environ[\"AZURE_OPENAI_ENDPOINT\"],\n",
    "    api_key        = os.environ[\"AZURE_OPENAI_API_KEY\"],\n",
    "    api_version    = os.environ[\"OPENAI_API_VERSION\"],\n",
    ")\n",
    "\n",
    "# Create the assistant\n",
    "assistant = client.beta.assistants.create(\n",
    "    name=\"Smart Assistant\",\n",
    "    description=\"You are a helpful AI assistant who helps answering questions\",\n",
    "    tools = tools,\n",
    "    model = \"gpt-4o\" # gpt-4.1 still not supported by Assistants API's\n",
    ")\n",
    "\n",
    "# Create a thread\n",
    "thread = client.beta.threads.create()\n",
    "\n",
    "print (f\"Question: {QUESTION}\")\n",
    "\n",
    "message       = client.beta.threads.messages.create(\n",
    "    thread_id = thread.id,\n",
    "    role      = \"user\",\n",
    "    content   = QUESTION\n",
    ")\n",
    "\n",
    "run            = client.beta.threads.runs.create(\n",
    "  thread_id    = thread.id,\n",
    "  assistant_id = assistant.id,\n",
    "  #instructions=\"New instructions\" #You can optionally provide new instructions but these will override the default instructions\n",
    ")\n",
    "\n",
    "start_time = time.time()\n",
    "status = run.status\n",
    "\n",
    "while status not in [\"completed\", \"cancelled\", \"expired\", \"failed\"]:\n",
    "    run = client.beta.threads.runs.retrieve(thread_id=thread.id,run_id=run.id)\n",
    "    print( f\"Run status: {status} after {int((time.time() - start_time) // 60)} minutes {int((time.time() - start_time) % 60)} seconds\")\n",
    "    \n",
    "    if status == \"requires_action\":\n",
    "        tool_calls = run.required_action.submit_tool_outputs.tool_calls\n",
    "        tool_outputs = []\n",
    "        for tc in tool_calls:\n",
    "            function_to_call = tc.function.name\n",
    "            function_args    = tc.function.arguments\n",
    "            tool_output      = eval(function_to_call)(**json.loads(function_args))\n",
    "            tool_outputs.append({\"tool_call_id\": tc.id, \"output\": tool_output})\n",
    "\n",
    "            print(f\"Calling {tc.function.name}(**{tc.function.arguments}) --> {tool_output}\")\n",
    "\n",
    "        run = client.beta.threads.runs.submit_tool_outputs(\n",
    "            thread_id=thread.id, run_id=run.id, tool_outputs=tool_outputs)\n",
    "\n",
    "    time.sleep(5)\n",
    "    status = run.status\n",
    "        \n",
    "print( f\"\\nRun status: {status} after {int((time.time() - start_time) // 60)} minutes {int((time.time() - start_time) % 60)} seconds\")\n",
    "messages = client.beta.threads.messages.list(thread_id=thread.id)\n",
    "print(json.loads(messages.to_json())[\"data\"][0][\"content\"][0][\"text\"][\"value\"])\n",
    "\n",
    "# Teardown\n",
    "for message in client.beta.threads.messages.list(thread.id):\n",
    "    print (f\"Deleting message id = <{message.id}>... of thread <{thread.id}>...\")\n",
    "    client.beta.threads.messages.delete(message_id=message.id, thread_id=thread.id)\n",
    "\n",
    "print(f\"\\nDeleting thread {thread.id}...\")\n",
    "client.beta.threads.delete(thread_id=thread.id)\n",
    "\n",
    "print(f\"\\nDeleting assistant {assistant.id} ({assistant.name})...\")\n",
    "client.beta.assistants.delete(assistant.id)"
   ]
  },
  {
   "cell_type": "markdown",
   "id": "9a34eb02-c73d-4f83-965c-59e3d85a074d",
   "metadata": {},
   "source": [
    "# Teardown for *all** assistants and messages [(but **NOT** threads!)](https://learn.microsoft.com/en-us/answers/questions/2153170/assistants-api-where-and-how-long-are-entities-sav)\n",
    "When creating a new thread with the Assistants API, thereby creating a stateful entity of: Threads, messages, where is this data stored, can I access the resource that stores these? Or is the resource managed entirely by Microsoft, and inaccessible to me?\n",
    "When you create a new thread with the Assistants API, the data (threads, messages, etc.) is stored in a secure, Microsoft-managed storage account. This storage is logically separated to ensure data security. As a user, you do not have direct access to the underlying storage resources. Instead, you interact with the data through the API endpoints provided by Microsoft.\n",
    "\n",
    "If a thread with messages is created via the API, and the ID is lost, is there then no route to access and delete this thread? As in, would there be a way to somehow fetch all threads related to a specific OpenAI Azure resource?\n",
    "If you lose the thread ID, there is no direct way to retrieve or delete the thread through the API. The Assistants API does not currently provide a method to list all threads associated with a specific OpenAI Azure resource. Therefore, it's crucial to manage and store thread IDs securely within your application to ensure you can access and manage them as needed.\n",
    "\n",
    "Is stateful entities stored INDEFINITELY unless deleted? Or is the a time to live if not used?\n",
    "All used data persists in this system unless you explicitly delete this data. Use the delete function with the thread ID of the thread you want to delete. Clearing the Run in the Assistants Playground does not delete threads, however deleting them using delete function will not list them in the thread page."
   ]
  },
  {
   "cell_type": "code",
   "execution_count": 16,
   "id": "8813be93-13f1-4e9e-9c2a-3d660aa8f0b7",
   "metadata": {},
   "outputs": [
    {
     "name": "stdout",
     "output_type": "stream",
     "text": [
      "Deleting assistant 1: asst_EWk2HN9w9zlSB63hhjZWe2wA (Smart Assistant) created at 2025-04-24 17:45:01...\n",
      "Deleting assistant 2: asst_jLmuSXlNmyhUANjfLFGd5wCL (Smart Assistant) created at 2025-04-24 17:34:47...\n",
      "Deleting assistant 3: asst_2y1tE87dizN05A32nSllSoMn (Smart Assistant) created at 2025-04-24 17:26:29...\n",
      "Deleting assistant 4: asst_V6CyPnSEp3PWovpdsqqRvaCN (Smart Assistant) created at 2025-04-24 17:18:27...\n",
      "Deleting assistant 5: asst_hAV9QTeJaeEhe6nBSdZ5kNfS (Smart Assistant) created at 2025-04-24 17:15:31...\n",
      "Deleting assistant 6: asst_abmn7NbPyWZzM1N7aCCLANVd (Smart Assistant) created at 2025-04-24 17:12:40...\n",
      "Deleting assistant 7: asst_4HdthzdGQDJBT3sX8IUudNEg (Smart Assistant) created at 2025-04-24 17:01:58...\n",
      "\n",
      "7 assistants have been successfully deleted.\n"
     ]
    }
   ],
   "source": [
    "from datetime import datetime\n",
    "\n",
    "assistants = client.beta.assistants.list(limit=100).data\n",
    "i=0\n",
    "while len(assistants) > 0:\n",
    "    for assistant in assistants: \n",
    "        i=i+1\n",
    "        print(f\"Deleting assistant {i}: {assistant.id} ({assistant.name}) created at {datetime.fromtimestamp(assistant.created_at).strftime('%Y-%m-%d %H:%M:%S')}...\")\n",
    "        client.beta.assistants.delete(assistant.id)\n",
    "    assistants = client.beta.assistants.list(limit=100).data\n",
    "\n",
    "print (f\"\\n{i} assistants have been successfully deleted.\")"
   ]
  }
 ],
 "metadata": {
  "kernelspec": {
   "display_name": "openai",
   "language": "python",
   "name": "openai"
  },
  "language_info": {
   "codemirror_mode": {
    "name": "ipython",
    "version": 3
   },
   "file_extension": ".py",
   "mimetype": "text/x-python",
   "name": "python",
   "nbconvert_exporter": "python",
   "pygments_lexer": "ipython3",
   "version": "3.13.2"
  }
 },
 "nbformat": 4,
 "nbformat_minor": 5
}
