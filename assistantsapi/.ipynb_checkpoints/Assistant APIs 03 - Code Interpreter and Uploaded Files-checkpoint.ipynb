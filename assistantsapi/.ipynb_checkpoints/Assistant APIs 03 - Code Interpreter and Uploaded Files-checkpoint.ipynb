{
 "cells": [
  {
   "cell_type": "markdown",
   "id": "c869a895",
   "metadata": {},
   "source": [
    "Inspired by [assistant-wind_farm.ipynb](https://github.com/Azure-Samples/azureai-samples/blob/main/scenarios/Assistants/api-in-a-box/wind_farm/assistant-wind_farm.ipynb)"
   ]
  },
  {
   "cell_type": "code",
   "execution_count": 1,
   "id": "0094dfce",
   "metadata": {},
   "outputs": [],
   "source": [
    "# Define the Assistant tools\n",
    "\n",
    "tools_list = [\n",
    "    {\"type\": \"code_interpreter\"},\n",
    "]"
   ]
  },
  {
   "cell_type": "code",
   "execution_count": 2,
   "id": "2a14bcb4",
   "metadata": {},
   "outputs": [],
   "source": [
    "# Libraries and Constants\n",
    "\n",
    "import os\n",
    "from dotenv import load_dotenv # requires python-dotenv\n",
    "\n",
    "load_dotenv(\"./../credentials_my.env\")\n",
    "MODEL = os.environ[\"GPT4-1106-128k\"]\n",
    "should_cleanup = True"
   ]
  },
  {
   "cell_type": "code",
   "execution_count": 3,
   "id": "b79a34ab",
   "metadata": {},
   "outputs": [],
   "source": [
    "from openai import AzureOpenAI"
   ]
  },
  {
   "cell_type": "code",
   "execution_count": 4,
   "id": "e4c7b7e2",
   "metadata": {},
   "outputs": [],
   "source": [
    "# Create the client\n",
    "client = AzureOpenAI(\n",
    "    api_key=os.getenv(\"AZURE_OPENAI_API_KEY\"),  \n",
    "    api_version=\"2024-02-15-preview\", # at least 2024-02-15-preview\n",
    "    azure_endpoint = os.getenv(\"AZURE_OPENAI_ENDPOINT\")\n",
    "    )"
   ]
  },
  {
   "cell_type": "code",
   "execution_count": 5,
   "id": "eaad1794",
   "metadata": {},
   "outputs": [
    {
     "name": "stdout",
     "output_type": "stream",
     "text": [
      "Uploading ./data/turbines.csv...\n"
     ]
    },
    {
     "data": {
      "text/plain": [
       "[FileObject(id='assistant-AWlWyRx8YGLuNajWWlrlfVK8', bytes=576, created_at=1710845807, filename='turbines.csv', object='file', purpose='assistants', status='processed', status_details=None)]"
      ]
     },
     "execution_count": 5,
     "metadata": {},
     "output_type": "execute_result"
    }
   ],
   "source": [
    "# Upload the Assistant file(s)\n",
    "\n",
    "from openai.types import FileObject\n",
    "from pathlib import Path\n",
    "\n",
    "DATA_FOLDER = \"./data/\"\n",
    "\n",
    "def upload_file(client: AzureOpenAI, path: str) -> FileObject:\n",
    "    with Path(path).open(\"rb\") as f:\n",
    "        return client.files.create(file=f, purpose=\"assistants\")\n",
    "\n",
    "arr = os.listdir(DATA_FOLDER)\n",
    "assistant_files = []\n",
    "for file in arr:\n",
    "    filePath = DATA_FOLDER + file\n",
    "    print(f\"Uploading {filePath}...\")\n",
    "    assistant_files.append(upload_file(client, filePath))\n",
    "\n",
    "file_ids = [file.id for file in assistant_files]\n",
    "assistant_files"
   ]
  },
  {
   "cell_type": "code",
   "execution_count": 6,
   "id": "a3857b8b",
   "metadata": {},
   "outputs": [
    {
     "name": "stdout",
     "output_type": "stream",
     "text": [
      "{\n",
      "  \"id\": \"asst_LbLtP5Bqks01qucrlq00clwj\",\n",
      "  \"created_at\": 1710845809,\n",
      "  \"description\": null,\n",
      "  \"file_ids\": [\n",
      "    \"assistant-AWlWyRx8YGLuNajWWlrlfVK8\"\n",
      "  ],\n",
      "  \"instructions\": \"You are an assistant that can help manage wind turbine farm. The turbines operating ranges are output voltages of 33kv-35kv and RPM of 15-25. Wind speed is measured in miles per hour.Maintenance should occur every 12 months. Greet the user by saying, 'Welcome Turbine Management Assistant.'\",\n",
      "  \"metadata\": {},\n",
      "  \"model\": \"gpt4-1106-128k\",\n",
      "  \"name\": \"Portfolio Management Assistant\",\n",
      "  \"object\": \"assistant\",\n",
      "  \"tools\": [\n",
      "    {\n",
      "      \"type\": \"code_interpreter\"\n",
      "    }\n",
      "  ]\n",
      "}\n"
     ]
    }
   ],
   "source": [
    "# Create an Assistant and a Thread\n",
    "assistant = client.beta.assistants.create(\n",
    "    name=\"Portfolio Management Assistant\",\n",
    "    instructions=\"You are an assistant that can help manage wind turbine farm. \"\n",
    "    + \"The turbines operating ranges are output voltages of 33kv-35kv and RPM of 15-25. Wind speed is measured in miles per hour.\"\n",
    "    + \"Maintenance should occur every 12 months. Greet the user by saying, 'Welcome Turbine Management Assistant.'\",\n",
    "    tools=tools_list,\n",
    "    model=MODEL,\n",
    "    file_ids=file_ids,\n",
    ")\n",
    "\n",
    "thread = client.beta.threads.create()\n",
    "\n",
    "print(assistant.model_dump_json(indent=2))"
   ]
  },
  {
   "cell_type": "code",
   "execution_count": 7,
   "id": "cb4e87ef",
   "metadata": {},
   "outputs": [],
   "source": [
    "def process_message(content: str) -> None:\n",
    "    from datetime import datetime\n",
    "    import time, json\n",
    "    \n",
    "    start_time = time.time()\n",
    "    \n",
    "    client.beta.threads.messages.create(thread_id=thread.id, role=\"user\", content=content)\n",
    "\n",
    "    run = client.beta.threads.runs.create(\n",
    "        thread_id=thread.id,\n",
    "        assistant_id=assistant.id,\n",
    "        instructions=\"The current date and time is: \" + datetime.now().strftime(\"%x %X\") + \". \",\n",
    "    )\n",
    "\n",
    "    print(\"Processing...\")\n",
    "    while True:\n",
    "        run = client.beta.threads.runs.retrieve(thread_id=thread.id, run_id=run.id)\n",
    "        if run.status == \"completed\" or run.status == \"failed\":\n",
    "            messages = client.beta.threads.messages.list(thread_id=thread.id)\n",
    "            print(json.loads(messages.json())[\"data\"][0][\"content\"][0][\"text\"][\"value\"])            \n",
    "            break\n",
    "        if run.status == \"expired\":\n",
    "            # Handle expired\n",
    "            break\n",
    "        if run.status == \"cancelled\":\n",
    "            # Handle cancelled\n",
    "            break\n",
    "        if run.status == \"requires_action\":\n",
    "            pass\n",
    "        else:\n",
    "            print(f\"Run status: {run.status} after {int((time.time() - start_time) // 60)} minutes {int((time.time() - start_time) % 60)} seconds\")\n",
    "            time.sleep(5)\n",
    "            \n",
    "    return messages"
   ]
  },
  {
   "cell_type": "code",
   "execution_count": 8,
   "id": "21d9a6c5",
   "metadata": {},
   "outputs": [
    {
     "name": "stdout",
     "output_type": "stream",
     "text": [
      "Processing...\n",
      "Run status: queued after 0 minutes 0 seconds\n",
      "Run status: in_progress after 0 minutes 6 seconds\n",
      "Run status: in_progress after 0 minutes 11 seconds\n",
      "Run status: in_progress after 0 minutes 16 seconds\n",
      "Run status: in_progress after 0 minutes 21 seconds\n",
      "Run status: in_progress after 0 minutes 27 seconds\n",
      "Run status: in_progress after 0 minutes 32 seconds\n",
      "Run status: in_progress after 0 minutes 37 seconds\n",
      "Run status: in_progress after 0 minutes 42 seconds\n",
      "Run status: in_progress after 0 minutes 48 seconds\n",
      "Run status: in_progress after 0 minutes 53 seconds\n",
      "Run status: in_progress after 0 minutes 58 seconds\n",
      "Run status: in_progress after 1 minutes 3 seconds\n",
      "Run status: in_progress after 1 minutes 9 seconds\n",
      "Run status: in_progress after 1 minutes 14 seconds\n",
      "Run status: in_progress after 1 minutes 19 seconds\n",
      "Run status: in_progress after 1 minutes 24 seconds\n",
      "Run status: in_progress after 1 minutes 30 seconds\n",
      "Run status: in_progress after 1 minutes 35 seconds\n",
      "Run status: in_progress after 1 minutes 40 seconds\n",
      "Run status: in_progress after 1 minutes 46 seconds\n",
      "Run status: in_progress after 1 minutes 51 seconds\n",
      "Run status: in_progress after 1 minutes 56 seconds\n",
      "Run status: in_progress after 2 minutes 1 seconds\n",
      "Run status: in_progress after 2 minutes 7 seconds\n",
      "Run status: in_progress after 2 minutes 12 seconds\n",
      "Run status: in_progress after 2 minutes 17 seconds\n",
      "Run status: in_progress after 2 minutes 22 seconds\n",
      "Run status: in_progress after 2 minutes 28 seconds\n",
      "Run status: in_progress after 2 minutes 33 seconds\n",
      "Run status: in_progress after 2 minutes 38 seconds\n",
      "Run status: in_progress after 2 minutes 44 seconds\n",
      "Run status: in_progress after 2 minutes 49 seconds\n",
      "Run status: in_progress after 2 minutes 54 seconds\n",
      "Run status: in_progress after 3 minutes 0 seconds\n",
      "Run status: in_progress after 3 minutes 5 seconds\n",
      "Run status: in_progress after 3 minutes 10 seconds\n",
      "Run status: in_progress after 3 minutes 15 seconds\n",
      "Run status: in_progress after 3 minutes 21 seconds\n",
      "Run status: in_progress after 3 minutes 26 seconds\n",
      "Run status: in_progress after 3 minutes 31 seconds\n",
      "Run status: in_progress after 3 minutes 36 seconds\n",
      "The status of turbines 1001 and 1003 based on the provided data is as follows:\n",
      "\n",
      "- **Turbine 1001**:\n",
      "  - Wind Speed: 32 units\n",
      "  - RPM (Rotations Per Minute): 18\n",
      "  - Voltage: 33 volts\n",
      "  - Maintenance Date: October 12, 2023\n",
      "\n",
      "- **Turbine 1003**:\n",
      "  - Wind Speed: 30 units\n",
      "  - RPM (Rotations Per Minute): 16\n",
      "  - Voltage: 32 volts\n",
      "  - Maintenance Date: November 30, 2023\n",
      "\n",
      "This data provides a snapshot of the performance indicators and the scheduled maintenance date for each of the turbines. If you were asking about a different aspect of their status, please let me know so that I can provide the information accordingly.\n"
     ]
    }
   ],
   "source": [
    "r1 = process_message(\"What is the status of turbine 1001 and 1003?\")"
   ]
  },
  {
   "cell_type": "code",
   "execution_count": 9,
   "id": "07fea2c0",
   "metadata": {},
   "outputs": [
    {
     "name": "stdout",
     "output_type": "stream",
     "text": [
      "Processing...\n",
      "Run status: queued after 0 minutes 0 seconds\n",
      "Run status: in_progress after 0 minutes 6 seconds\n",
      "Run status: in_progress after 0 minutes 11 seconds\n",
      "Run status: in_progress after 0 minutes 16 seconds\n",
      "Run status: in_progress after 0 minutes 22 seconds\n",
      "Run status: in_progress after 0 minutes 27 seconds\n",
      "Certainly! Below is the Python code snippet that I used to parse the CSV data and extract the status for turbines 1001 and 1003:\n",
      "\n",
      "```python\n",
      "import pandas as pd\n",
      "from io import StringIO\n",
      "\n",
      "# Create a String buffer to simulate a file-like object for the CSV data\n",
      "data = StringIO(content_or_error)\n",
      "# Load the data into a pandas DataFrame\n",
      "df = pd.read_csv(data)\n",
      "\n",
      "# Filter the DataFrame for the status of turbines 1001 and 1003\n",
      "turbine_statuses = df[df['Turbine_ID'].isin([1001, 1003])]\n",
      "```\n",
      "\n",
      "The code does the following steps:\n",
      "\n",
      "1. Import the required `pandas` module and `StringIO` class.\n",
      "2. Use `StringIO` to create a file-like object from the loaded CSV content (which I read as a plain text in the previous steps).\n",
      "3. Read the CSV data into a `pandas DataFrame` using `pd.read_csv()`.\n",
      "4. Filter the DataFrame to extract the rows with `Turbine_ID` values 1001 and 1003 by using the `.isin()` method.\n",
      "5. The `turbine_statuses` DataFrame now contains the information for just the two turbines of interest.\n",
      "\n",
      "The data from `turbine_statuses` was then outputted to provide you with the status of turbines 1001 and 1003.\n"
     ]
    }
   ],
   "source": [
    "r2 = process_message(\"Show me the code you used to provide the previous answer\")"
   ]
  },
  {
   "cell_type": "code",
   "execution_count": 10,
   "id": "a5997578",
   "metadata": {},
   "outputs": [
    {
     "name": "stdout",
     "output_type": "stream",
     "text": [
      "Deleting the file turbines.csv (id=assistant-AWlWyRx8YGLuNajWWlrlfVK8)\n"
     ]
    }
   ],
   "source": [
    "# Cleaning up\n",
    "\n",
    "if should_cleanup:\n",
    "    client.beta.assistants.delete(assistant.id)\n",
    "    client.beta.threads.delete(thread.id)\n",
    "    for file in client.files.list():\n",
    "        print(f\"Deleting the file {file.filename} (id={file.id})\")\n",
    "        client.files.delete(file.id)"
   ]
  }
 ],
 "metadata": {
  "kernelspec": {
   "display_name": "assistantapi",
   "language": "python",
   "name": "assistantapi"
  },
  "language_info": {
   "codemirror_mode": {
    "name": "ipython",
    "version": 3
   },
   "file_extension": ".py",
   "mimetype": "text/x-python",
   "name": "python",
   "nbconvert_exporter": "python",
   "pygments_lexer": "ipython3",
   "version": "3.11.8"
  }
 },
 "nbformat": 4,
 "nbformat_minor": 5
}
