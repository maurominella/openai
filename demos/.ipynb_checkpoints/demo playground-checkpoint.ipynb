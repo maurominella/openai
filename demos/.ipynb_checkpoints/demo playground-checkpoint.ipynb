{
 "cells": [
  {
   "cell_type": "code",
   "execution_count": null,
   "id": "d1fc4086",
   "metadata": {},
   "outputs": [],
   "source": [
    "import os\n",
    "from IPython.display import Markdown, display\n",
    "from dotenv import load_dotenv\n",
    "from openai import AzureOpenAI # https://github.com/openai/openai-python\n",
    "\n",
    "load_dotenv(\"./credentials_my.env\")\n",
    "\n",
    "client = AzureOpenAI(\n",
    "    azure_endpoint = os.environ['AZURE_OPENAI_ENDPOINT'],\n",
    "    api_key        = os.environ['AZURE_OPENAI_API_KEY'],\n",
    "    api_version    = os.environ['AZURE_OPENAI_API_VERSION']\n",
    ")"
   ]
  },
  {
   "cell_type": "code",
   "execution_count": null,
   "id": "c4db54a2",
   "metadata": {},
   "outputs": [],
   "source": [
    "messages=[\n",
    "    {\n",
    "        \"role\": \"system\",\n",
    "        \"content\": \"You are an AI assistant that helps people find information.\"\n",
    "    },\n",
    "    {\n",
    "        \"role\": \"user\",\n",
    "        \"content\": \"\"\n",
    "    }\n",
    "]"
   ]
  },
  {
   "cell_type": "code",
   "execution_count": null,
   "id": "a7b72675",
   "metadata": {},
   "outputs": [],
   "source": [
    "response = client.chat.completions.create(\n",
    "    model    = os.environ['MODEL'],\n",
    "    messages = messages)\n",
    "\n",
    "response"
   ]
  }
 ],
 "metadata": {
  "kernelspec": {
   "display_name": "laqualunque",
   "language": "python",
   "name": "laqualunque"
  },
  "language_info": {
   "codemirror_mode": {
    "name": "ipython",
    "version": 3
   },
   "file_extension": ".py",
   "mimetype": "text/x-python",
   "name": "python",
   "nbconvert_exporter": "python",
   "pygments_lexer": "ipython3",
   "version": "3.11.9"
  }
 },
 "nbformat": 4,
 "nbformat_minor": 5
}
