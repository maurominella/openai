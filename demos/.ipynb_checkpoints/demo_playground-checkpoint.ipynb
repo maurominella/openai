{
 "cells": [
  {
   "cell_type": "code",
   "execution_count": 1,
   "id": "d1fc4086",
   "metadata": {},
   "outputs": [],
   "source": [
    "import os\n",
    "from IPython.display import Markdown, display\n",
    "from dotenv import load_dotenv\n",
    "from openai import AzureOpenAI # https://github.com/openai/openai-python\n",
    "\n",
    "load_dotenv(\"./../credentials_my.env\")\n",
    "\n",
    "client = AzureOpenAI(\n",
    "    azure_endpoint = os.environ['AZURE_OPENAI_ENDPOINT_SCUS'],\n",
    "    api_key        = os.environ['AZURE_OPENAI_API_KEY_SCUS'],\n",
    "    api_version    = os.environ['AZURE_OPENAI_API_VERSION']\n",
    ")"
   ]
  },
  {
   "cell_type": "code",
   "execution_count": 2,
   "id": "c4db54a2",
   "metadata": {},
   "outputs": [],
   "source": [
    "messages=[\n",
    "    {\n",
    "        \"role\": \"system\",\n",
    "        \"content\": \"You are an AI assistant that helps people find information.\"\n",
    "    },\n",
    "    {\n",
    "        \"role\": \"user\",\n",
    "        \"content\": \"tell me five good names for my new pizzeria\"\n",
    "    }\n",
    "]"
   ]
  },
  {
   "cell_type": "code",
   "execution_count": 3,
   "id": "a7b72675",
   "metadata": {},
   "outputs": [
    {
     "data": {
      "text/plain": [
       "ChatCompletion(id='chatcmpl-9TsUZ4h7jyVT9u0FkmPBy37hWAc3y', choices=[Choice(finish_reason='stop', index=0, logprobs=None, message=ChatCompletionMessage(content=\"Sure! Here are five creative and appealing names for your new pizzeria:\\n\\n1. **Bella Napoli Pizzeria**\\n2. **Slice of Heaven**\\n3. **Piazza Deliziosa**\\n4. **Mama Mia's Pies**\\n5. **The Doughy Table**\\n\\nI hope one of these sparks joy for your new venture!\", role='assistant', function_call=None, tool_calls=None), content_filter_results={'hate': {'filtered': False, 'severity': 'safe'}, 'self_harm': {'filtered': False, 'severity': 'safe'}, 'sexual': {'filtered': False, 'severity': 'safe'}, 'violence': {'filtered': False, 'severity': 'safe'}})], created=1716908007, model='gpt-4o-2024-05-13', object='chat.completion', system_fingerprint='fp_5f4bad809a', usage=CompletionUsage(completion_tokens=69, prompt_tokens=32, total_tokens=101), prompt_filter_results=[{'prompt_index': 0, 'content_filter_results': {'hate': {'filtered': False, 'severity': 'safe'}, 'self_harm': {'filtered': False, 'severity': 'safe'}, 'sexual': {'filtered': False, 'severity': 'safe'}, 'violence': {'filtered': False, 'severity': 'safe'}}}])"
      ]
     },
     "execution_count": 3,
     "metadata": {},
     "output_type": "execute_result"
    }
   ],
   "source": [
    "response = client.chat.completions.create(\n",
    "    model    = os.environ['GPT4-OMNI'],\n",
    "    messages = messages)\n",
    "\n",
    "response"
   ]
  },
  {
   "cell_type": "code",
   "execution_count": 4,
   "id": "39461f79",
   "metadata": {},
   "outputs": [
    {
     "data": {
      "text/markdown": [
       "Sure! Here are five creative and appealing names for your new pizzeria:\n",
       "\n",
       "1. **Bella Napoli Pizzeria**\n",
       "2. **Slice of Heaven**\n",
       "3. **Piazza Deliziosa**\n",
       "4. **Mama Mia's Pies**\n",
       "5. **The Doughy Table**\n",
       "\n",
       "I hope one of these sparks joy for your new venture!"
      ],
      "text/plain": [
       "<IPython.core.display.Markdown object>"
      ]
     },
     "metadata": {},
     "output_type": "display_data"
    }
   ],
   "source": [
    "display(Markdown(response.choices[0].message.content))"
   ]
  },
  {
   "cell_type": "code",
   "execution_count": 5,
   "id": "78613e21",
   "metadata": {},
   "outputs": [
    {
     "data": {
      "text/plain": [
       "[{'role': 'system',\n",
       "  'content': 'You are an AI assistant that helps people find information.'},\n",
       " {'role': 'user', 'content': 'tell me five good names for my new pizzeria'},\n",
       " {'role': 'system',\n",
       "  'content': \"Sure! Here are five creative and appealing names for your new pizzeria:\\n\\n1. **Bella Napoli Pizzeria**\\n2. **Slice of Heaven**\\n3. **Piazza Deliziosa**\\n4. **Mama Mia's Pies**\\n5. **The Doughy Table**\\n\\nI hope one of these sparks joy for your new venture!\"}]"
      ]
     },
     "execution_count": 5,
     "metadata": {},
     "output_type": "execute_result"
    }
   ],
   "source": [
    "messages.append({\"role\": \"system\", \"content\": response.choices[0].message.content})\n",
    "messages"
   ]
  },
  {
   "cell_type": "code",
   "execution_count": 6,
   "id": "7a8bae7b",
   "metadata": {},
   "outputs": [
    {
     "data": {
      "text/plain": [
       "[{'role': 'system',\n",
       "  'content': 'You are an AI assistant that helps people find information.'},\n",
       " {'role': 'user', 'content': 'tell me five good names for my new pizzeria'},\n",
       " {'role': 'system',\n",
       "  'content': \"Sure! Here are five creative and appealing names for your new pizzeria:\\n\\n1. **Bella Napoli Pizzeria**\\n2. **Slice of Heaven**\\n3. **Piazza Deliziosa**\\n4. **Mama Mia's Pies**\\n5. **The Doughy Table**\\n\\nI hope one of these sparks joy for your new venture!\"},\n",
       " {'role': 'user', 'content': 'answer in French, please'}]"
      ]
     },
     "execution_count": 6,
     "metadata": {},
     "output_type": "execute_result"
    }
   ],
   "source": [
    "messages.append({\"role\": \"user\", \"content\": \"answer in French, please\"})\n",
    "messages"
   ]
  }
 ],
 "metadata": {
  "kernelspec": {
   "display_name": "laqualunque",
   "language": "python",
   "name": "laqualunque"
  },
  "language_info": {
   "codemirror_mode": {
    "name": "ipython",
    "version": 3
   },
   "file_extension": ".py",
   "mimetype": "text/x-python",
   "name": "python",
   "nbconvert_exporter": "python",
   "pygments_lexer": "ipython3",
   "version": "3.11.9"
  }
 },
 "nbformat": 4,
 "nbformat_minor": 5
}
