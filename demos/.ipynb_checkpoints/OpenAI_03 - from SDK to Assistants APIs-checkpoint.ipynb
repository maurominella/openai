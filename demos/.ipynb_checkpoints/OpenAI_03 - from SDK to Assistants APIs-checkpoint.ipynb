{
 "cells": [
  {
   "cell_type": "markdown",
   "id": "c830d3aa-4ece-4442-a6ed-e4eede249f60",
   "metadata": {},
   "source": [
    "# Constants and Libraries"
   ]
  },
  {
   "cell_type": "code",
   "execution_count": 1,
   "id": "d1fc4086",
   "metadata": {},
   "outputs": [
    {
     "name": "stdout",
     "output_type": "stream",
     "text": [
      "Environment variables have been loaded ;-)\n"
     ]
    }
   ],
   "source": [
    "import os\n",
    "from IPython.display import Markdown, display\n",
    "from dotenv import load_dotenv # requires python-dotenv\n",
    "from openai import AzureOpenAI\n",
    "\n",
    "if not load_dotenv(\"./../../config/credentials_my.env\"):\n",
    "    print(\"Environment variables not loaded, cell execution stopped\")\n",
    "    sys.exit()\n",
    "print(\"Environment variables have been loaded ;-)\")\n",
    "\n",
    "messages=[\n",
    "    {\n",
    "        \"role\": \"system\",\n",
    "        \"content\": \"You are an AI assistant that helps people find information.\"\n",
    "    },\n",
    "    {\n",
    "        \"role\": \"user\",\n",
    "        \"content\": \"tell me five good names for my new pizzeria\"\n",
    "    }\n",
    "]"
   ]
  },
  {
   "cell_type": "markdown",
   "id": "c51aca5a-5f4f-4025-ab56-c1e29005325b",
   "metadata": {},
   "source": [
    "# Create a client to connecto Azure OpenAI service and deployment"
   ]
  },
  {
   "cell_type": "code",
   "execution_count": 2,
   "id": "c4db54a2",
   "metadata": {},
   "outputs": [],
   "source": [
    "# Create the client\n",
    "client = AzureOpenAI(\n",
    "    # api_key        = os.getenv(\"AZURE_OPENAI_API_KEY\"),  \n",
    "    # api_version    = os.getenv(\"AZURE_OPENAI_API_VERSION\"), # at least 2024-02-15-preview\n",
    "    # azure_endpoint = os.getenv(\"AZURE_OPENAI_ENDPOINT\")\n",
    ")"
   ]
  },
  {
   "cell_type": "markdown",
   "id": "12374e90-a6f0-4710-abd7-8745ee4115d0",
   "metadata": {},
   "source": [
    "# Invoke The deployment and return the first answer"
   ]
  },
  {
   "cell_type": "code",
   "execution_count": 3,
   "id": "a7b72675",
   "metadata": {},
   "outputs": [
    {
     "data": {
      "text/markdown": [
       "Absolutely! Here are five catchy names for your new pizzeria:\n",
       "\n",
       "1. The Dough & Stone  \n",
       "2. Firebrick Pizzeria  \n",
       "3. Mozza Magic  \n",
       "4. Uptown Slice  \n",
       "5. Bella Crust Pizza\n",
       "\n",
       "Let me know if you’d like more suggestions or a specific theme!"
      ],
      "text/plain": [
       "<IPython.core.display.Markdown object>"
      ]
     },
     "metadata": {},
     "output_type": "display_data"
    }
   ],
   "source": [
    "response = client.chat.completions.create(\n",
    "    model    = os.getenv(\"MODEL_DEPLOYMENT_NAME\"),\n",
    "    messages = messages)\n",
    "\n",
    "display(Markdown(response.choices[0].message.content))"
   ]
  },
  {
   "cell_type": "markdown",
   "id": "6ab93024-37d3-49a2-9dfa-2af372a7b48b",
   "metadata": {},
   "source": [
    "# Append the answer to the list of messages"
   ]
  },
  {
   "cell_type": "code",
   "execution_count": 4,
   "id": "78613e21",
   "metadata": {},
   "outputs": [
    {
     "data": {
      "text/plain": [
       "[{'role': 'system',\n",
       "  'content': 'You are an AI assistant that helps people find information.'},\n",
       " {'role': 'user', 'content': 'tell me five good names for my new pizzeria'},\n",
       " {'role': 'system',\n",
       "  'content': 'Absolutely! Here are five catchy names for your new pizzeria:\\n\\n1. The Dough & Stone  \\n2. Firebrick Pizzeria  \\n3. Mozza Magic  \\n4. Uptown Slice  \\n5. Bella Crust Pizza\\n\\nLet me know if you’d like more suggestions or a specific theme!'}]"
      ]
     },
     "execution_count": 4,
     "metadata": {},
     "output_type": "execute_result"
    }
   ],
   "source": [
    "messages.append({\"role\": \"system\", \"content\": response.choices[0].message.content})\n",
    "messages"
   ]
  },
  {
   "cell_type": "code",
   "execution_count": 5,
   "id": "1afe89de-b5fb-4794-9534-8cfb0acfe854",
   "metadata": {},
   "outputs": [],
   "source": [
    "# Append another question as a new message to the messages, and invoke the LLM again"
   ]
  },
  {
   "cell_type": "code",
   "execution_count": 6,
   "id": "7a8bae7b",
   "metadata": {},
   "outputs": [
    {
     "data": {
      "text/markdown": [
       "Bien sûr ! Voici cinq bons noms pour votre nouvelle pizzeria :\n",
       "\n",
       "1. La Ronde à Pizza  \n",
       "2. Chez Bella Croûte  \n",
       "3. Four & Saveurs  \n",
       "4. Le Quartier des Tranches  \n",
       "5. Mozza Plaisir\n",
       "\n",
       "N'hésitez pas si vous souhaitez d'autres suggestions ou un style particulier !"
      ],
      "text/plain": [
       "<IPython.core.display.Markdown object>"
      ]
     },
     "metadata": {},
     "output_type": "display_data"
    }
   ],
   "source": [
    "messages.append({\"role\": \"user\", \"content\": \"answer in French, please\"})\n",
    "\n",
    "response = client.chat.completions.create(\n",
    "    model    = os.getenv(\"MODEL_DEPLOYMENT_NAME\"),\n",
    "    messages = messages)\n",
    "\n",
    "display(Markdown(response.choices[0].message.content))"
   ]
  }
 ],
 "metadata": {
  "kernelspec": {
   "display_name": "openai",
   "language": "python",
   "name": "openai"
  },
  "language_info": {
   "codemirror_mode": {
    "name": "ipython",
    "version": 3
   },
   "file_extension": ".py",
   "mimetype": "text/x-python",
   "name": "python",
   "nbconvert_exporter": "python",
   "pygments_lexer": "ipython3",
   "version": "3.13.2"
  }
 },
 "nbformat": 4,
 "nbformat_minor": 5
}
