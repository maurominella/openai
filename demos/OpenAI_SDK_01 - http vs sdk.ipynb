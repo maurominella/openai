{
 "cells": [
  {
   "cell_type": "markdown",
   "id": "4f0c1a13",
   "metadata": {},
   "source": [
    "# Variables definition"
   ]
  },
  {
   "cell_type": "code",
   "execution_count": 1,
   "id": "e6694810",
   "metadata": {},
   "outputs": [
    {
     "name": "stdout",
     "output_type": "stream",
     "text": [
      "openai_endpoint: https://mmoaiswc-01.openai.azure.com/\n"
     ]
    }
   ],
   "source": [
    "import os\n",
    "from dotenv import load_dotenv # requires python-dotenv\n",
    "\n",
    "load_dotenv(\"./../../config/credentials_my.env\")\n",
    "\n",
    "openai_endpoint        = os.environ[\"AZURE_OPENAI_ENDPOINT\"]\n",
    "openai_api_key         = os.environ[\"AZURE_OPENAI_API_KEY\"]\n",
    "openai_api_version     = os.environ[\"OPENAI_API_VERSION\"]\n",
    "azure_deployment_name = os.environ[\"AZURE_OPENAI_CHAT_DEPLOYMENT_NAME\"]\n",
    "\n",
    "messages = [\n",
    "    {\n",
    "      \"role\": \"user\",\n",
    "      \"content\": \"What is a meaning function? Please summarize in less than 20 words.\"\n",
    "    }\n",
    "]\n",
    "\n",
    "print(f\"openai_endpoint: {openai_endpoint}\")"
   ]
  },
  {
   "cell_type": "markdown",
   "id": "cd6a20a1",
   "metadata": {},
   "source": [
    "# Invoking Open AI via HTTP\n",
    "Invoking Azure OpenAI through HTTP requires to append `openai/` to the base Azure OpenAI endpoint, e.g.\n",
    "- [https://mmoaiscus-01.openai.azure.com/](https://mmoaiscus-01.openai.azure.com/) must become:\n",
    "- [https://mmoaiscus-01.openai.azure.com/openai/](https://mmoaiscus-01.openai.azure.com/openai)"
   ]
  },
  {
   "cell_type": "code",
   "execution_count": 2,
   "id": "fd71820d",
   "metadata": {},
   "outputs": [
    {
     "name": "stdout",
     "output_type": "stream",
     "text": [
      "This is the Open AI endpoint and body that will be invoked:\n",
      "- https://mmoaiswc-01.openai.azure.com/openai/deployments/gpt-4.1/chat/completions?api-version=2025-03-01-preview\n",
      "- {'messages': [{'role': 'user', 'content': 'What is a meaning function? Please summarize in less than 20 words.'}]}\n"
     ]
    }
   ],
   "source": [
    "import requests\n",
    "\n",
    "messages_json = {\"messages\": messages}\n",
    "\n",
    "url = f\"{openai_endpoint}openai/deployments/{azure_deployment_name}/chat/completions?api-version={openai_api_version}\" # \"openai/\" was appended\n",
    "print(f'This is the Open AI endpoint and body that will be invoked:\\n- {url}\\n- {messages_json}')"
   ]
  },
  {
   "cell_type": "code",
   "execution_count": 3,
   "id": "f5c99c1d",
   "metadata": {},
   "outputs": [
    {
     "name": "stdout",
     "output_type": "stream",
     "text": [
      "A meaning function assigns meanings (interpretations) to expressions or symbols in a formal language or system.\n",
      "x-ms-region = Sweden Central\n"
     ]
    }
   ],
   "source": [
    "response_http = requests.post(url, headers = {'api-key':openai_api_key}, json = {\"messages\": messages})\n",
    "\n",
    "if (int(response_http.status_code / 100))==2:\n",
    "    print(f\"{response_http.json()['choices'][0]['message']['content']}\\nx-ms-region = {response_http.headers['x-ms-region']}\")\n",
    "else:\n",
    "    print(response_http.text)"
   ]
  },
  {
   "cell_type": "markdown",
   "id": "11960c92",
   "metadata": {},
   "source": [
    "# Invoking Open AI via Azure SDK\n",
    "In this case, the SDK expects the \"pure\" Azure OpenAI endpoint [https://mmoaiscus-01.openai.azure.com/](https://mmoaiscus-01.openai.azure.com/), which will be used internally to make the call.<br/>\n",
    "In other words, in a trasparent way for the Developer whose task is just to pass the \"pure\" Azure OpenAI endpoint, the Azure OpenAI SDK receives it and then internally appends the `openai/` string to the base endpoint to make it work."
   ]
  },
  {
   "cell_type": "code",
   "execution_count": 4,
   "id": "5efb11e4",
   "metadata": {},
   "outputs": [],
   "source": [
    "from openai import AzureOpenAI\n",
    "\n",
    "client = AzureOpenAI(\n",
    "    azure_endpoint = openai_endpoint,\n",
    "    api_key        = openai_api_key,\n",
    "    api_version    = openai_api_version\n",
    ")"
   ]
  },
  {
   "cell_type": "code",
   "execution_count": 5,
   "id": "6269dfb6",
   "metadata": {},
   "outputs": [
    {
     "name": "stdout",
     "output_type": "stream",
     "text": [
      "A meaning function assigns meanings to expressions, relating linguistic forms to their interpretations in a systematic way.\n"
     ]
    }
   ],
   "source": [
    "response_sdk = client.chat.completions.create(\n",
    "    model    = azure_deployment_name,\n",
    "    messages = messages)\n",
    "\n",
    "print(response_sdk.choices[0].message.content)"
   ]
  }
 ],
 "metadata": {
  "kernelspec": {
   "display_name": "openai",
   "language": "python",
   "name": "openai"
  },
  "language_info": {
   "codemirror_mode": {
    "name": "ipython",
    "version": 3
   },
   "file_extension": ".py",
   "mimetype": "text/x-python",
   "name": "python",
   "nbconvert_exporter": "python",
   "pygments_lexer": "ipython3",
   "version": "3.13.2"
  }
 },
 "nbformat": 4,
 "nbformat_minor": 5
}
