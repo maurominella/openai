{
 "cells": [
  {
   "cell_type": "markdown",
   "id": "ec06ef9f",
   "metadata": {},
   "source": [
    "## Azure OpenAI Configuration\n",
    "\n",
    "Add your [Azure Open AI Service key](https://learn.microsoft.com/azure/cognitive-services/openai/quickstart?pivots=programming-language-studio) settings to a `.env` file in the same folder:\n",
    "\n",
    "```\n",
    "AZURE_OPENAI_API_KEY=\"...\"\n",
    "AZURE_OPENAI_ENDPOINT=\"https://...\"\n",
    "AZURE_OPENAI_DEPLOYMENT_NAME=\"...\"\n",
    "```\n",
    "\n",
    "and add Azure OpenAI Text Completion to the kernel:"
   ]
  },
  {
   "cell_type": "code",
   "execution_count": 1,
   "id": "8f2cb6c0",
   "metadata": {},
   "outputs": [
    {
     "name": "stderr",
     "output_type": "stream",
     "text": [
      "Bad pipe message: %s [b'tJx\\x92\\xb3S\\x0c\\x06\\xec\"q\\xe9l\\xb1\\xc7\\x08)\\x0e ']\n",
      "Bad pipe message: %s [b'\\xe9 \\x03\\x8d\\x08\\x95s\\xeb\\x907[\\x9c\\xb7\\xdeY4O\\xfa\\x14\\xa9\\x9c\\xf9\\xea\\xf60E\\xb6&Ga\\x00\\x08\\x13\\x02\\x13\\x03\\x13\\x01\\x00\\xff\\x01\\x00\\x00\\x8f\\x00\\x00\\x00\\x0e\\x00\\x0c\\x00\\x00\\t127.0.0.1\\x00\\x0b\\x00\\x04\\x03\\x00\\x01\\x02\\x00\\n\\x00\\x0c\\x00\\n\\x00\\x1d\\x00\\x17\\x00\\x1e\\x00\\x19\\x00\\x18\\x00#\\x00\\x00\\x00\\x16\\x00\\x00\\x00\\x17\\x00\\x00\\x00\\r\\x00\\x1e\\x00\\x1c\\x04\\x03\\x05', b'\\x03\\x08']\n",
      "Bad pipe message: %s [b'\\x08\\x08\\t\\x08\\n\\x08']\n",
      "Bad pipe message: %s [b'\\x04\\x08\\x05\\x08\\x06\\x04\\x01\\x05\\x01\\x06']\n",
      "Bad pipe message: %s [b'']\n",
      "Bad pipe message: %s [b'\\x03\\x02\\x03\\x04\\x00-\\x00\\x02\\x01\\x01\\x003\\x00&\\x00$\\x00\\x1d\\x00 \\xf7x\\xe8r_\\xc1T\\xfd\\xd0Y\\xe6\\x8d][\\xdd\\xa9/0\\x02\\x87\\xfb4']\n",
      "Bad pipe message: %s [b\"1fQ\\xd2\\x82\\xe7\\xb6\\xc6\\xa30\\xd8m.O?\\x96\\xe4\\xe0\\x00\\x00\\xa6\\xc0,\\xc00\\x00\\xa3\\x00\\x9f\\xcc\\xa9\\xcc\\xa8\\xcc\\xaa\\xc0\\xaf\\xc0\\xad\\xc0\\xa3\\xc0\\x9f\\xc0]\\xc0a\\xc0W\\xc0S\\xc0+\\xc0/\\x00\\xa2\\x00\\x9e\\xc0\\xae\\xc0\\xac\\xc0\\xa2\\xc0\\x9e\\xc0\\\\\\xc0`\\xc0V\\xc0R\\xc0$\\xc0(\\x00k\\x00j\\xc0s\\xc0w\\x00\\xc4\\x00\\xc3\\xc0#\\xc0'\\x00g\\x00@\\xc0r\\xc0v\\x00\\xbe\\x00\\xbd\\xc0\\n\\xc0\\x14\\x009\\x008\\x00\\x88\\x00\\x87\\xc0\\t\\xc0\\x13\\x003\\x002\\x00\\x9a\\x00\\x99\\x00E\\x00D\\xc0\\x07\\xc0\\x11\\xc0\\x08\\xc0\\x12\\x00\\x16\\x00\\x13\\x00\\x9d\\xc0\\xa1\\xc0\\x9d\\xc0Q\\x00\\x9c\\xc0\\xa0\\xc0\\x9c\\xc0P\\x00=\\x00\\xc0\\x00<\\x00\\xba\\x005\\x00\\x84\\x00/\\x00\\x96\\x00A\\x00\\x05\\x00\\n\\x00\\xff\\x01\\x00\\x00\", b'\\x00\\x00\\x0e\\x00\\x0c\\x00\\x00\\t127.0.0.1\\x00\\x0b\\x00\\x04\\x03\\x00\\x01\\x02\\x00\\n\\x00\\x0c\\x00\\n\\x00\\x1d\\x00\\x17\\x00\\x1e\\x00\\x19\\x00\\x18\\x00#\\x00\\x00\\x00\\x16\\x00\\x00\\x00\\x17\\x00\\x00\\x00\\r\\x000\\x00.\\x04\\x03\\x05\\x03\\x06\\x03\\x08\\x07\\x08\\x08\\x08\\t\\x08\\n\\x08\\x0b\\x08\\x04\\x08\\x05\\x08\\x06\\x04\\x01\\x05\\x01\\x06\\x01\\x03\\x03\\x02\\x03\\x03\\x01\\x02\\x01\\x03\\x02\\x02\\x02\\x04\\x02\\x05\\x02\\x06\\x02']\n",
      "Bad pipe message: %s [b'K\\x0f\\xbdE\\x84\\x88\\xfdo\\x9d\\x7fj\\xe6Q$\\xd9M\\x93l\\x00\\x00>\\xc0\\x14']\n",
      "Bad pipe message: %s [b'\\x1b\\xc9F\\xf2k\\xda\\x91\\x16\\x17\\xc2S\\x91\\xd8a\\xf1S\\x96\\xee\\x00\\x00\\xa2\\xc0\\x14\\xc0\\n\\x009\\x008\\x007\\x006\\x00\\x88\\x00\\x87\\x00\\x86\\x00\\x85\\xc0\\x19\\x00:\\x00\\x89\\xc0\\x0f\\xc0\\x05\\x005\\x00\\x84\\xc0\\x13\\xc0\\t\\x003\\x002\\x001\\x000\\x00\\x9a\\x00\\x99\\x00\\x98\\x00\\x97\\x00E\\x00D\\x00C\\x00B\\xc0\\x18\\x004\\x00\\x9b\\x00F\\xc0\\x0e\\xc0\\x04\\x00/\\x00\\x96\\x00A\\x00\\x07\\xc0\\x11\\xc0\\x07\\xc0\\x16\\x00\\x18\\xc0\\x0c\\xc0\\x02\\x00\\x05\\x00\\x04\\xc0\\x12\\xc0\\x08\\x00\\x16\\x00\\x13\\x00\\x10\\x00\\r\\xc0\\x17\\x00\\x1b\\xc0\\r\\xc0\\x03\\x00\\n\\x00\\x15\\x00\\x12\\x00\\x0f\\x00\\x0c\\x00\\x1a\\x00\\t\\x00\\x14\\x00\\x11\\x00\\x19\\x00\\x08\\x00\\x06\\x00\\x17\\x00\\x03']\n",
      "Bad pipe message: %s [b'F\\xady\\xfdz\\xd7\\x8bx.\\r']\n",
      "Bad pipe message: %s [b\"\\x8aN\\xd6\\x1c\\xf2\\x90\\xe0\\xff\\xf4\\xefu\\x8d6\\xd8\\xdeo\\xbb\\xa9\\x00\\x00\\x86\\xc00\\xc0,\\xc0(\\xc0$\\xc0\\x14\\xc0\\n\\x00\\xa5\\x00\\xa3\\x00\\xa1\\x00\\x9f\\x00k\\x00j\\x00i\\x00h\\x009\\x008\\x007\\x006\\xc02\\xc0.\\xc0*\\xc0&\\xc0\\x0f\\xc0\\x05\\x00\\x9d\\x00=\\x005\\xc0/\\xc0+\\xc0'\\xc0#\\xc0\\x13\\xc0\\t\\x00\\xa4\\x00\\xa2\\x00\\xa0\\x00\\x9e\\x00g\\x00@\\x00?\\x00>\\x003\\x002\\x001\\x000\\xc01\\xc0-\\xc0)\\xc0%\\xc0\\x0e\\xc0\\x04\\x00\\x9c\\x00<\\x00/\\x00\\x9a\\x00\\x99\\x00\\x98\\x00\\x97\\x00\\x96\\x00\\x07\\xc0\\x11\\xc0\\x07\\xc0\\x0c\\xc0\\x02\\x00\\x05\\x00\\x04\\x00\\xff\\x02\\x01\\x00\\x00g\\x00\\x00\\x00\\x0e\\x00\\x0c\\x00\\x00\\t127.0.0.1\\x00\\x0b\\x00\\x04\\x03\\x00\\x01\\x02\\x00\\n\\x00\\x1c\\x00\\x1a\\x00\\x17\\x00\\x19\\x00\\x1c\\x00\\x1b\\x00\\x18\\x00\\x1a\\x00\\x16\\x00\\x0e\\x00\\r\\x00\", b'\\x0c\\x00\\t\\x00\\n\\x00#\\x00\\x00\\x00']\n",
      "Bad pipe message: %s [b' \\x00\\x1e\\x06\\x01\\x06\\x02\\x06\\x03\\x05\\x01\\x05']\n",
      "Bad pipe message: %s [b'\\x03', b'\\x04\\x02\\x04', b'\\x01\\x03', b'\\x03', b'\\x02', b'\\x03']\n",
      "Bad pipe message: %s [b\"\\xa2\\xf9\\r0+\\xab%G\\xb6\\xe9^\\xf3\\n\\xd5\\xff\\x02\\x9bz\\x00\\x00\\xf4\\xc00\\xc0,\\xc0(\\xc0$\\xc0\\x14\\xc0\\n\\x00\\xa5\\x00\\xa3\\x00\\xa1\\x00\\x9f\\x00k\\x00j\\x00i\\x00h\\x009\\x008\\x007\\x006\\x00\\x88\\x00\\x87\\x00\\x86\\x00\\x85\\xc0\\x19\\x00\\xa7\\x00m\\x00:\\x00\\x89\\xc02\\xc0.\\xc0*\\xc0&\\xc0\\x0f\\xc0\\x05\\x00\\x9d\\x00=\\x005\\x00\\x84\\xc0/\\xc0+\\xc0'\\xc0#\\xc0\\x13\\xc0\\t\\x00\\xa4\\x00\\xa2\\x00\\xa0\\x00\\x9e\\x00g\\x00@\\x00?\\x00>\\x003\\x002\\x001\\x000\\x00\\x9a\\x00\\x99\\x00\\x98\\x00\\x97\\x00E\\x00D\\x00C\\x00B\\xc0\\x18\\x00\\xa6\\x00l\\x004\\x00\\x9b\\x00F\\xc01\\xc0-\\xc0)\\xc0%\\xc0\\x0e\\xc0\\x04\\x00\\x9c\\x00<\\x00/\\x00\\x96\\x00A\\x00\\x07\\xc0\\x11\\xc0\\x07\\xc0\\x16\\x00\\x18\\xc0\\x0c\\xc0\\x02\\x00\\x05\\x00\\x04\\xc0\\x12\\xc0\\x08\\x00\\x16\\x00\\x13\\x00\\x10\\x00\\r\\xc0\\x17\\x00\\x1b\\xc0\\r\\xc0\\x03\\x00\\n\\x00\\x15\\x00\\x12\\x00\\x0f\\x00\\x0c\\x00\\x1a\\x00\\t\\x00\\x14\\x00\\x11\\x00\", b'\\x08\\x00\\x06\\x00\\x17\\x00\\x03\\xc0\\x10\\xc0\\x06\\xc0\\x15\\xc0\\x0b\\xc0\\x01\\x00;\\x00\\x02\\x00\\x01\\x00']\n"
     ]
    }
   ],
   "source": [
    "import os, openai, time\n",
    "import pandas as pd\n",
    "import numpy as np\n",
    "from dotenv import load_dotenv\n",
    "\n",
    "load_dotenv() # reads from .env file\n",
    "\n",
    "azure_openai_endpoint        = os.getenv('AZURE_OPENAI_ENDPOINT')\n",
    "azure_openai_deployment_name = os.getenv('AZURE_OPENAI_DEPLOYMENT_NAME')\n",
    "azure_openai_api_key         = os.getenv('AZURE_OPENAI_API_KEY')\n",
    "\n",
    "cogSvcsEndpoint              = os.getenv(\"COGNITIVE_SERVICES_ENDPOINT\")\n",
    "cogSvcsApiKey                = os.getenv(\"COGNITIVE_SERVICES_API_KEY\")"
   ]
  },
  {
   "cell_type": "markdown",
   "id": "16e9aa84",
   "metadata": {},
   "source": [
    "# Setup\n",
    "Import Semantic Kernel SDK from pypi.org"
   ]
  },
  {
   "cell_type": "code",
   "execution_count": null,
   "id": "152be04e",
   "metadata": {},
   "outputs": [],
   "source": [
    "# !python -m pip install -r requirements.txt\n",
    "\n",
    "import semantic_kernel as sk\n",
    "\n",
    "kernel_emb = sk.Kernel()\n",
    "kernel_prompt = sk.Kernel()"
   ]
  },
  {
   "cell_type": "code",
   "execution_count": null,
   "id": "d1e85193",
   "metadata": {},
   "outputs": [],
   "source": [
    "from semantic_kernel.ai.open_ai import AzureTextCompletion, OpenAITextEmbedding\n",
    "\n",
    "deployment_embeddings, api_key, endpoint = sk.azure_openai_settings_from_dot_env()\n",
    "deployment_embeddings = \"text-embedding-ada-002\"\n",
    "\n",
    "kernel_emb.config.add_embedding_backend(deployment_embeddings, OpenAITextEmbedding(deployment_embeddings, endpoint, api_key))\n",
    "kernel_emb.config.set_default_embedding_backend(deployment_embeddings)\n",
    "\n",
    "# print(f\"deployment:\\t{deployment_embeddings}\\napi_key:\\t{api_key}\\nendpoint:\\t{endpoint}\")"
   ]
  },
  {
   "cell_type": "markdown",
   "id": "a5e62ae5",
   "metadata": {},
   "source": [
    "# Calculate Word Embeddings\n",
    "To use word embeddings for semantic search, you first compute the embeddings for a corpus of text using a word embedding algorithm. What does this mean? We are going to create a numerical representation of each of these words. To perform this computation, we'll use OpenAI's 'get_embedding' function.\n",
    "\n",
    "Since we have our words in a pandas dataframe, we can use \"apply\" to apply the get_embedding function to each row in the dataframe. We then store the calculated word embeddings in a new text file called \"word_embeddings.csv\" so that we don't have to call OpenAI again to perform these calculations."
   ]
  },
  {
   "cell_type": "markdown",
   "id": "c228fe49",
   "metadata": {},
   "source": [
    "# Generate text embeddings with Azure Open AI\n",
    "https://learn.microsoft.com/en-us/azure/cognitive-services/openai/how-to/embeddings?tabs=console"
   ]
  },
  {
   "cell_type": "markdown",
   "id": "8ddbc8e9",
   "metadata": {},
   "source": [
    "## generate a single embedding with Azure Open AI"
   ]
  },
  {
   "cell_type": "code",
   "execution_count": null,
   "id": "d2cdcf11",
   "metadata": {},
   "outputs": [],
   "source": [
    "import openai\n",
    "import time\n",
    "\n",
    "openai.api_type = \"azure\"\n",
    "openai.api_key = api_key\n",
    "openai.api_base = endpoint\n",
    "openai.api_version = \"2022-12-01\"\n",
    "\n",
    "response = openai.Embedding.create(\n",
    "    input=\"coniglio\",\n",
    "    engine=deployment_embeddings\n",
    ")\n",
    "embeddings = response['data'][0]['embedding']\n",
    "embeddings"
   ]
  },
  {
   "cell_type": "markdown",
   "id": "b93611f0",
   "metadata": {},
   "source": [
    "## operationalize openai embeddings function"
   ]
  },
  {
   "cell_type": "code",
   "execution_count": null,
   "id": "0573ad2e",
   "metadata": {},
   "outputs": [],
   "source": [
    "def generate_openai_embeddings(text, opeanaiEndpoint, openaiApiKey):\n",
    "    import openai\n",
    "    \n",
    "    openai.api_type = \"azure\"\n",
    "    openai.api_version = \"2022-12-01\"\n",
    "    openai.api_base = opeanaiEndpoint\n",
    "    openai.api_key = openaiApiKey\n",
    "    \n",
    "    response = openai.Embedding.create(\n",
    "        input=text,\n",
    "        engine=deployment_embeddings)    \n",
    "    \n",
    "    return response['data'][0]['embedding']\n",
    "\n",
    "embeddings = generate_openai_embeddings (\"coniglio\", azure_openai_endpoint, azure_openai_api_key)\n",
    "print(f\"embeddings shape: {np.array(embeddings).shape}. Now showing the first 5 elements:\\n{embeddings[:5]}\")"
   ]
  },
  {
   "cell_type": "markdown",
   "id": "44856ccc",
   "metadata": {},
   "source": [
    "# Generate text embeddings with Azure Computer Vision Image Retrieval\n",
    "https://learn.microsoft.com/en-us/azure/cognitive-services/computer-vision/overview-image-analysis?tabs=4-0#image-retrieval-v40-preview-only"
   ]
  },
  {
   "cell_type": "code",
   "execution_count": null,
   "id": "8650d421",
   "metadata": {},
   "outputs": [],
   "source": [
    "def generate_cv_embeddings(text, cogSvcsEndpoint, cogSvcsApiKey):\n",
    "    import requests\n",
    "    url = f\"{cogSvcsEndpoint}/computervision/retrieval:vectorizeText\"  \n",
    "  \n",
    "    params = {  \n",
    "        \"api-version\": \"2023-02-01-preview\"  \n",
    "    }  \n",
    "  \n",
    "    headers = {  \n",
    "        \"Content-Type\": \"application/json\",  \n",
    "        \"Ocp-Apim-Subscription-Key\": cogSvcsApiKey  \n",
    "    }  \n",
    "  \n",
    "    data = {  \n",
    "        \"text\": text  \n",
    "    }  \n",
    "  \n",
    "    response = requests.post(url, params=params, headers=headers, json=data)  \n",
    "  \n",
    "    if response.status_code == 200:  \n",
    "        embeddings = response.json()[\"vector\"]  \n",
    "        return embeddings  \n",
    "    else:  \n",
    "        print(f\"Error: {response.status_code} - {response.text}\")  \n",
    "        return None  \n",
    "\n",
    "embeddings = generate_cv_embeddings (\"coniglio\", cogSvcsEndpoint, cogSvcsApiKey)\n",
    "print(f\"embeddings shape: {np.array(embeddings).shape}. Now showing the first 5 elements:\\n{embeddings[:5]}\")"
   ]
  },
  {
   "attachments": {
    "image.png": {
     "image/png": "[encoded data removed]"
    }
   },
   "cell_type": "markdown",
   "id": "ff64f0d5",
   "metadata": {},
   "source": [
    "# Cosine similarity\n",
    "https://en.wikipedia.org/wiki/Cosine_similarity\n",
    "![image.png](attachment:image.png)"
   ]
  },
  {
   "cell_type": "code",
   "execution_count": null,
   "id": "ef3de1f4",
   "metadata": {},
   "outputs": [],
   "source": [
    "v1 = np.array([1,2,3])\n",
    "v2 = np.array([4,5,6])\n",
    "numerator = np.dot(v1,v2) # 4+10+18\n",
    "numerator"
   ]
  },
  {
   "cell_type": "code",
   "execution_count": null,
   "id": "7ec273d3",
   "metadata": {},
   "outputs": [],
   "source": [
    "denominator_1 = np.linalg.norm(v1) # sqrt (1+4+9) = 3.74\n",
    "denominator_2 = np.linalg.norm(v2) # sqrt (16+25+36) = 8.77\n",
    "denominator   = denominator_1 * denominator_2\n",
    "denominator"
   ]
  },
  {
   "cell_type": "code",
   "execution_count": null,
   "id": "d2203cae",
   "metadata": {},
   "outputs": [],
   "source": [
    "print(numerator / denominator)"
   ]
  },
  {
   "cell_type": "code",
   "execution_count": null,
   "id": "8873d66a",
   "metadata": {},
   "outputs": [],
   "source": [
    "def cosine_similarity(v1,v2):\n",
    "    numerator = np.dot(v1,v2)\n",
    "    denumerator = np.linalg.norm(v1) * np.linalg.norm(v2)\n",
    "    return numerator / denumerator\n",
    "\n",
    "cosine_similarity(np.array([1,2,3]),np.array([-4,5,6]))"
   ]
  },
  {
   "cell_type": "code",
   "execution_count": null,
   "id": "97a66d2c",
   "metadata": {},
   "outputs": [],
   "source": [
    "cosine_similarity(np.array([1,2,3,-1,2,3,-1,2,3,-1,2,3]),np.array([-4,5,6,4,5,-6,4,5,-6,4,5,6]))"
   ]
  },
  {
   "cell_type": "markdown",
   "id": "5c9446de",
   "metadata": {},
   "source": [
    "## Check distance between two words (AzureOpenAI)"
   ]
  },
  {
   "cell_type": "code",
   "execution_count": null,
   "id": "9a607b76",
   "metadata": {},
   "outputs": [],
   "source": [
    "v1 = generate_openai_embeddings (\"coniglio\", azure_openai_endpoint, azure_openai_api_key)\n",
    "v2 = generate_openai_embeddings (\"elefante\", azure_openai_endpoint, azure_openai_api_key)\n",
    "\n",
    "cosine_similarity(v1,v2)"
   ]
  },
  {
   "cell_type": "markdown",
   "id": "9510dcff",
   "metadata": {},
   "source": [
    "## Check distance between two words (Computer Vision Image Retrieval)"
   ]
  },
  {
   "cell_type": "code",
   "execution_count": null,
   "id": "35d574dc",
   "metadata": {},
   "outputs": [],
   "source": [
    "v1 = generate_cv_embeddings (\"coniglio\", cogSvcsEndpoint, cogSvcsApiKey)\n",
    "v2 = generate_cv_embeddings (\"elefante\", cogSvcsEndpoint, cogSvcsApiKey)\n",
    "\n",
    "cosine_similarity(v1,v2)"
   ]
  },
  {
   "cell_type": "markdown",
   "id": "3026fd26",
   "metadata": {},
   "source": [
    "# Read Data File Containing Words\n",
    "Now that we have configured OpenAI, let's start with a simple CSV file with familiar words"
   ]
  },
  {
   "cell_type": "code",
   "execution_count": null,
   "id": "ee6980fb",
   "metadata": {},
   "outputs": [],
   "source": [
    "file_name = 'words'\n",
    "openai_df = pd.read_csv(f'{file_name}.csv')\n",
    "cv_df     = openai_df.copy()\n",
    "print(openai_df)"
   ]
  },
  {
   "cell_type": "markdown",
   "id": "874dd9b8",
   "metadata": {},
   "source": [
    "# Check words similarity (Azure Open AI)"
   ]
  },
  {
   "cell_type": "code",
   "execution_count": null,
   "id": "ad01b38c",
   "metadata": {},
   "outputs": [],
   "source": [
    "try:    \n",
    "    openai_df[\"text_embeddings\"] = openai_df[\"text\"].apply(lambda x: generate_openai_embeddings(x, azure_openai_endpoint, azure_openai_api_key))\n",
    "    openai_df.to_pickle(f\"{file_name}_enriched.pkl\") # type(df['embeddings'][0][0]) --> float  \n",
    "except:\n",
    "    print('switching to pickle file...')\n",
    "    openai_df = pd.read_pickle(f\"{file_name}_enriched.pkl\")\n",
    "\n",
    "openai_df"
   ]
  },
  {
   "cell_type": "code",
   "execution_count": null,
   "id": "a10390bf",
   "metadata": {},
   "outputs": [],
   "source": [
    "search_term = input ('Insert a search term:\\n') # hot dog\n",
    "\n",
    "search_term_vector = generate_openai_embeddings(search_term, azure_openai_endpoint, azure_openai_api_key)\n",
    "openai_df[\"similarity\"] = openai_df[\"text_embeddings\"].apply(lambda x: cosine_similarity(x,search_term_vector))\n",
    "openai_df"
   ]
  },
  {
   "cell_type": "code",
   "execution_count": null,
   "id": "cdbbe742",
   "metadata": {},
   "outputs": [],
   "source": [
    "openai_df.sort_values(\"similarity\", ascending=False)"
   ]
  },
  {
   "cell_type": "code",
   "execution_count": null,
   "id": "34b7362e",
   "metadata": {},
   "outputs": [],
   "source": [
    "search_term = \"\" # torta\n",
    "search_term_vector = generate_openai_embeddings(search_term, azure_openai_endpoint, azure_openai_api_key)\n",
    "openai_df2 = openai_df.copy()\n",
    "openai_df2[\"similarity\"] = openai_df2[\"text_embeddings\"].apply(lambda x: cosine_similarity(x,search_term_vector))\n",
    "openai_df2 = openai_df2.sort_values(\"similarity\", ascending=False)\n",
    "openai_df2"
   ]
  },
  {
   "cell_type": "markdown",
   "id": "79b6fa21",
   "metadata": {},
   "source": [
    "# Check words similarity (Computer Vision Image Retrieval)"
   ]
  },
  {
   "cell_type": "code",
   "execution_count": null,
   "id": "34907772",
   "metadata": {},
   "outputs": [],
   "source": [
    "try:    \n",
    "    cv_df[\"text_embeddings\"] = cv_df[\"text\"].apply(lambda x: generate_cv_embeddings (x, cogSvcsEndpoint, cogSvcsApiKey))\n",
    "    cv_df.to_pickle(f\"{file_name}_cv_enriched.pkl\") # type(df['embeddings'][0][0]) --> float  \n",
    "except:\n",
    "    print('switching to pickle file...')\n",
    "    cv_df = pd.read_pickle(f\"{file_name}_cv_enriched.pkl\")\n",
    "\n",
    "cv_df"
   ]
  },
  {
   "cell_type": "code",
   "execution_count": null,
   "id": "d60aac11",
   "metadata": {},
   "outputs": [],
   "source": [
    "search_term = input ('Insert a search term:\\n') # hot dog\n",
    "\n",
    "search_term_vector = generate_cv_embeddings(search_term, cogSvcsEndpoint, cogSvcsApiKey)\n",
    "cv_df[\"similarity\"] = cv_df[\"text_embeddings\"].apply(lambda x: cosine_similarity(x,search_term_vector))\n",
    "cv_df.sort_values(\"similarity\", ascending=False)"
   ]
  },
  {
   "cell_type": "markdown",
   "id": "6002787f",
   "metadata": {},
   "source": [
    "# Azure Open AI vs. Computer Vision Image Retrieval"
   ]
  },
  {
   "cell_type": "code",
   "execution_count": null,
   "id": "d4e0bb36",
   "metadata": {},
   "outputs": [],
   "source": [
    "pd.concat([\n",
    "    cv_df.sort_values(\"similarity\", ascending=False).reset_index(drop=True).rename(columns={'text': 'openai'}), \n",
    "    openai_df.sort_values(\"similarity\", ascending=False).reset_index(drop=True).rename(columns={'text': 'cog_svc'})], \n",
    "    axis=1).drop(['similarity', 'text_embeddings'], axis=1)"
   ]
  },
  {
   "cell_type": "markdown",
   "id": "a9bf4161",
   "metadata": {},
   "source": [
    "# Campaign Speeches"
   ]
  },
  {
   "cell_type": "code",
   "execution_count": null,
   "id": "48a4c4c8",
   "metadata": {},
   "outputs": [],
   "source": [
    "file_name = 'discorso_presidente_del_consiglio'\n",
    "\n",
    "openai_df = pd.read_csv(f'{file_name}.csv')\n",
    "\n",
    "openai_df"
   ]
  },
  {
   "cell_type": "markdown",
   "id": "84f9fdb4",
   "metadata": {},
   "source": [
    "## Embeddings generation for Campaign Speech with Azure Open AI"
   ]
  },
  {
   "cell_type": "code",
   "execution_count": null,
   "id": "21ad47a3",
   "metadata": {},
   "outputs": [],
   "source": [
    "start = time.time()\n",
    "try:\n",
    "    openai_df[\"text_embeddings\"] = openai_df[\"text\"].apply(lambda x: generate_openai_embeddings(x, azure_openai_endpoint, azure_openai_api_key))\n",
    "    openai_df.to_pickle(f\"{file_name}_openai_enriched.pkl\") # type(df['embeddings'][0][0]) --> float\n",
    "    openai_df.to_csv(f\"{file_name}_openai_enriched.csv\") # type(df['embeddings'][0][0]) --> string\n",
    "\n",
    "except:\n",
    "    print(\"switching to pickle file...\")\n",
    "    openai_df = pd.read_pickle(f\"{file_name}_openai_enriched.pkl\")\n",
    "\n",
    "end = time.time()\n",
    "print(f\"duration: {end - start}\")\n",
    "\n",
    "openai_df"
   ]
  },
  {
   "cell_type": "code",
   "execution_count": null,
   "id": "77d282be",
   "metadata": {},
   "outputs": [],
   "source": [
    "# accoglienza profughi extracomunitari\n",
    "# a quali gruppi appartiene l'Italia?\n",
    "search_term = input ('Insert a search term:\\n') \n",
    "\n",
    "search_term_vector = generate_openai_embeddings(search_term, azure_openai_endpoint, azure_openai_api_key)\n",
    "openai_df[\"similarity\"] = openai_df[\"text_embeddings\"].apply(lambda x: cosine_similarity(x,search_term_vector))\n",
    "openai_df.sort_values(\"similarity\", ascending=False).head(5)"
   ]
  },
  {
   "cell_type": "markdown",
   "id": "27b52e6c",
   "metadata": {},
   "source": [
    "## Embeddings generation for Campaign Speech with Computer Vision"
   ]
  },
  {
   "cell_type": "code",
   "execution_count": null,
   "id": "7459c47e",
   "metadata": {},
   "outputs": [],
   "source": [
    "cv_df = openai_df.copy()\n",
    "\n",
    "start = time.time()\n",
    "try:\n",
    "    cv_df[\"text_embeddings\"] = cv_df[\"text\"].apply(lambda x: generate_cv_embeddings (x, cogSvcsEndpoint, cogSvcsApiKey))\n",
    "    cv_df.to_pickle(f\"{file_name}_cv_enriched.pkl\") # type(df['embeddings'][0][0]) --> float\n",
    "    cv_df.to_csv(f\"{file_name}_cv_enriched.csv\") # type(df['embeddings'][0][0]) --> string\n",
    "\n",
    "except:\n",
    "    print(\"switching to pickle file...\")\n",
    "    cv_df = pd.read_pickle(f\"{file_name}_cv_enriched.pkl\")\n",
    "\n",
    "end = time.time()\n",
    "print(f\"duration: {end - start}\")\n",
    "\n",
    "cv_df"
   ]
  },
  {
   "cell_type": "code",
   "execution_count": null,
   "id": "2ac5f334",
   "metadata": {},
   "outputs": [],
   "source": [
    "# accoglienza profughi extracomunitari\n",
    "# a quali gruppi appartiene l'Italia?\n",
    "search_term = input ('Insert a search term:\\n') \n",
    "\n",
    "search_term_vector = generate_cv_embeddings (search_term, cogSvcsEndpoint, cogSvcsApiKey)\n",
    "cv_df[\"similarity\"] = cv_df[\"text_embeddings\"].apply(lambda x: cosine_similarity(x,search_term_vector))\n",
    "cv_df.sort_values(\"similarity\", ascending=False).head(5)"
   ]
  },
  {
   "cell_type": "markdown",
   "id": "e0f8a9a6",
   "metadata": {},
   "source": [
    "## Generalize top paragraphs identification with Azure Open AI"
   ]
  },
  {
   "cell_type": "code",
   "execution_count": null,
   "id": "81edfaf5",
   "metadata": {},
   "outputs": [],
   "source": [
    "def top_paragraphs_identification (search_term, top_terms=5):\n",
    "    search_term_vector = generate_openai_embeddings(search_term, azure_openai_endpoint, azure_openai_api_key)\n",
    "    openai_df[\"similarity\"] = openai_df[\"text_embeddings\"].apply(lambda x: cosine_similarity(x,search_term_vector))\n",
    "    return openai_df.sort_values(\"similarity\", ascending=False).head(top_terms)\n",
    "\n",
    "question = \"quale strada vuole perseguire il governo?\"\n",
    "best_paragraphs_df = top_paragraphs_identification(question)\n",
    "best_paragraph_nr = best_paragraphs_df.index[0]\n",
    "best_paragraph_text = best_paragraphs_df[\"text\"][best_paragraph_nr]\n",
    "print(f\"The best answer should be in paragraph #{best_paragraph_nr}:\\n{best_paragraph_text}\")"
   ]
  },
  {
   "cell_type": "markdown",
   "id": "7c33af74",
   "metadata": {},
   "source": [
    "# Semantic Kernel in Action!"
   ]
  },
  {
   "cell_type": "code",
   "execution_count": null,
   "id": "9a328f13",
   "metadata": {},
   "outputs": [],
   "source": [
    "from semantic_kernel.ai.open_ai import AzureTextCompletion\n",
    "\n",
    "deployment, api_key, endpoint = sk.azure_openai_settings_from_dot_env()\n",
    "deployment_completion = \"text-davinci-003\"\n",
    "\n",
    "kernel_prompt.config.add_text_backend(deployment_completion, AzureTextCompletion(deployment_completion, endpoint, api_key))\n",
    "kernel_prompt.config.set_default_text_backend(deployment_completion)\n",
    "\n",
    "print(f\"deployment:\\t{deployment_completion}\\napi_key:\\t******\\nendpoint:\\t{endpoint}\")"
   ]
  },
  {
   "cell_type": "code",
   "execution_count": null,
   "id": "cad07862",
   "metadata": {},
   "outputs": [],
   "source": [
    "# note: using find_and_search_skill\n",
    "skills_directory = \"./skills\"\n",
    "\n",
    "mauromi_skills = kernel_prompt.import_semantic_skill_from_directory(skills_directory, \"mauromi_skills\")\n",
    "\n",
    "#...is equivalent to the following two lines:\n",
    "find_and_search_function = mauromi_skills[\"find_and_search_function\"]"
   ]
  },
  {
   "cell_type": "code",
   "execution_count": null,
   "id": "8345a431",
   "metadata": {},
   "outputs": [],
   "source": [
    "skills_directory = \"./skills\"\n",
    "skills_set       = \"mauromi_skills\"\n",
    "specific_skill   = \"find_and_search_function\"\n",
    "\n",
    "# note: using find_and_search_skill...\n",
    "mauromi_skills = kernel_prompt.import_semantic_skill_from_directory(skills_directory, skills_set)\n",
    "find_and_search_function = mauromi_skills[specific_skill]\n",
    "\n",
    "#...is equivalent to the following lines:\n",
    "with open(os.path.join(skills_directory,skills_set,specific_skill,\"skprompt.txt\")) as f:\n",
    "    prompt = f.read()\n",
    "    f.close()\n",
    "    \n",
    "find_and_search_function = kernel_prompt.create_semantic_function(prompt)"
   ]
  },
  {
   "cell_type": "code",
   "execution_count": null,
   "id": "4c7a6b1a",
   "metadata": {},
   "outputs": [],
   "source": [
    "# A quali gruppi appartiene l'Italia?\n",
    "# Quali sono le grandi sfide dell'Unione Europea?\n",
    "# Che cosa hanno fatto le Forze Armate?\n",
    "# A quali gruppi appartiene la Corea del Nord?\n",
    "question = \"A quali gruppi appartiene la Corea del Nord?\"\n",
    "\n",
    "best_paragraphs_df  = top_paragraphs_identification(question)\n",
    "best_paragraph_nr   = best_paragraphs_df.index[0]\n",
    "best_paragraph_text = best_paragraphs_df[\"text\"][best_paragraph_nr]\n",
    "\n",
    "context_variables = sk.ContextVariables()\n",
    "context_variables[\"question\"] = question\n",
    "# context_variables[\"style\"] = 'se non trovi la risposta nel testo, rispondi NON LO SO'\n",
    "\n",
    "# the <input> variable is passed to the semantic function, rather than to ContextVariables()\n",
    "answer = find_and_search_function(input=best_paragraph_text, variables=context_variables)\n",
    "\n",
    "print(f\"Question: {question}\\n\\nAnswer from paragraph {best_paragraph_nr}:\\n{answer.result.lstrip('.').lstrip()}\")"
   ]
  },
  {
   "cell_type": "markdown",
   "id": "2a774385",
   "metadata": {},
   "source": [
    "## Same test, but this time we use *kernel.run_async* that is useful for chaining\n",
    "**ContextVariables** is the same collection object used above, to which we need to add the \"input\" variable"
   ]
  },
  {
   "cell_type": "code",
   "execution_count": null,
   "id": "6db396d6",
   "metadata": {},
   "outputs": [],
   "source": [
    "# A quali gruppi appartiene l'Italia?\n",
    "# Quali sono le grandi sfide dell'Unione Europea?\n",
    "# Che cosa hanno fatto le Forze Armate?\n",
    "# A quali gruppi appartiene la Corea del Nord?\n",
    "question = \"A quali gruppi appartiene la Corea del Nord?\"\n",
    "\n",
    "best_paragraphs_df  = top_paragraphs_identification(question)\n",
    "best_paragraph_nr   = best_paragraphs_df.index[0]\n",
    "best_paragraph_text = best_paragraphs_df[\"text\"][best_paragraph_nr]\n",
    "\n",
    "context_variables = sk.ContextVariables()\n",
    "context_variables[\"input\"]    = best_paragraph_text\n",
    "context_variables[\"question\"] = question\n",
    "# context_variables[\"style\"]    = 'se non trovi la risposta nel testo, rispondi NON LO SO'\n",
    "\n",
    "# run_async receives the semantica function and ContextVariables() which contain the <input> too\n",
    "answer = await kernel_prompt.run_async(find_and_search_function, input_vars=context_variables)\n",
    "\n",
    "print(f\"Question: {question}\\n\\nAnswer from paragraph {best_paragraph_nr}:\\n{answer.result.lstrip('.').lstrip()}\")"
   ]
  },
  {
   "cell_type": "markdown",
   "id": "4752cb8d",
   "metadata": {},
   "source": [
    "## Chain multiple semantic functions\n",
    "In this case I use the SKILLS.\n",
    "This code still does NOT use either:\n",
    "- PLANNER --> this means that we manually concatenate the functions in the kernel.run_async method()\n",
    "- NATIVE function --> so at the moment we can't concatenate the semantic function with the cosine similarity function. This means that <best_paragraph_text> is the 33th paragraph (#32)\n",
    "\n",
    "https://learn.microsoft.com/en-us/semantic-kernel/howto/chainingfunctions"
   ]
  },
  {
   "cell_type": "code",
   "execution_count": null,
   "id": "d54a818b",
   "metadata": {},
   "outputs": [],
   "source": [
    "# A quali gruppi appartiene l'Italia?\n",
    "# Quali sono le grandi sfide dell'Unione Europea?\n",
    "# Che cosa hanno fatto le Forze Armate?\n",
    "# A quali gruppi appartiene la Corea del Nord?\n",
    "question = \"A quali gruppi appartiene la Corea del Nord?\"\n",
    "\n",
    "best_paragraphs_df  = top_paragraphs_identification(question)\n",
    "best_paragraph_nr   = best_paragraphs_df.index[0]\n",
    "best_paragraph_text = best_paragraphs_df[\"text\"][best_paragraph_nr]\n",
    "\n",
    "context_variables = sk.ContextVariables()\n",
    "context_variables[\"input\"]    = best_paragraph_text\n",
    "context_variables[\"question\"] = question\n",
    "context_variables[\"style\"]    = 'se non trovi la risposta nel testo, rispondi NON LO SO'\n",
    "\n",
    "mauromi_skills           = kernel_prompt.import_semantic_skill_from_directory(skills_directory, skills_set)\n",
    "find_and_search_function = mauromi_skills[\"find_and_search_function\"]\n",
    "translate_function       = mauromi_skills[\"translate_function\"]\n",
    "\n",
    "\n",
    "# ---------- CHAINED OUTPUT\n",
    "output = await kernel_prompt.run_async(find_and_search_function, translate_function, \n",
    "                                       input_vars=context_variables)\n",
    "print(output)"
   ]
  }
 ],
 "metadata": {
  "kernelspec": {
   "display_name": "semantic_kernel",
   "language": "python",
   "name": "semantic_kernel"
  },
  "language_info": {
   "codemirror_mode": {
    "name": "ipython",
    "version": 3
   },
   "file_extension": ".py",
   "mimetype": "text/x-python",
   "name": "python",
   "nbconvert_exporter": "python",
   "pygments_lexer": "ipython3",
   "version": "3.10.11"
  }
 },
 "nbformat": 4,
 "nbformat_minor": 5
}
