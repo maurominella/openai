{
 "cells": [
  {
   "cell_type": "code",
   "execution_count": 1,
   "id": "d1fc4086",
   "metadata": {},
   "outputs": [],
   "source": [
    "import os\n",
    "from IPython.display import Markdown, display\n",
    "from dotenv import load_dotenv\n",
    "from openai import AzureOpenAI # https://github.com/openai/openai-python\n",
    "\n",
    "load_dotenv(\"./../credentials_my.env\")\n",
    "\n",
    "client = AzureOpenAI(\n",
    "    azure_endpoint = os.environ['AZURE_OPENAI_ENDPOINT_SCUS'],\n",
    "    api_key        = os.environ['AZURE_OPENAI_API_KEY_SCUS'],\n",
    "    api_version    = os.environ['AZURE_OPENAI_API_VERSION']\n",
    ")"
   ]
  },
  {
   "cell_type": "code",
   "execution_count": 2,
   "id": "c4db54a2",
   "metadata": {},
   "outputs": [],
   "source": [
    "messages=[\n",
    "    {\n",
    "        \"role\": \"system\",\n",
    "        \"content\": \"You are an AI assistant that helps people find information.\"\n",
    "    },\n",
    "    {\n",
    "        \"role\": \"user\",\n",
    "        \"content\": \"tell me five good names for my new pizzeria\"\n",
    "    }\n",
    "]"
   ]
  },
  {
   "cell_type": "code",
   "execution_count": 7,
   "id": "a7b72675",
   "metadata": {},
   "outputs": [
    {
     "data": {
      "text/plain": [
       "ChatCompletion(id='chatcmpl-9bskEfv9BYTixcsBaqlHH3Yq98f1o', choices=[Choice(finish_reason='stop', index=0, logprobs=None, message=ChatCompletionMessage(content=\"Bien sûr ! Voici cinq noms créatifs et attrayants pour votre nouvelle pizzeria :\\n\\n1. **Croûte et Artisanat**\\n2. **Bella Napoli Pizzeria**\\n3. **Flamme et Pierre Pizza**\\n4. **Tranche Toscane**\\n5. **Pizza Urbaine**\\n\\nJ'espère que ces noms vous inspireront et correspondront à l'ambiance que vous souhaitez pour votre entreprise !\", role='assistant', function_call=None, tool_calls=None), content_filter_results={'hate': {'filtered': False, 'severity': 'safe'}, 'self_harm': {'filtered': False, 'severity': 'safe'}, 'sexual': {'filtered': False, 'severity': 'safe'}, 'violence': {'filtered': False, 'severity': 'safe'}})], created=1718815602, model='gpt-4o-2024-05-13', object='chat.completion', system_fingerprint='fp_abc28019ad', usage=CompletionUsage(completion_tokens=85, prompt_tokens=118, total_tokens=203), prompt_filter_results=[{'prompt_index': 0, 'content_filter_results': {'hate': {'filtered': False, 'severity': 'safe'}, 'self_harm': {'filtered': False, 'severity': 'safe'}, 'sexual': {'filtered': False, 'severity': 'safe'}, 'violence': {'filtered': False, 'severity': 'safe'}}}])"
      ]
     },
     "execution_count": 7,
     "metadata": {},
     "output_type": "execute_result"
    }
   ],
   "source": [
    "response = client.chat.completions.create(\n",
    "    model    = os.environ['GPT-4O-20240513-128K'],\n",
    "    messages = messages)\n",
    "\n",
    "response"
   ]
  },
  {
   "cell_type": "code",
   "execution_count": 8,
   "id": "39461f79",
   "metadata": {},
   "outputs": [
    {
     "data": {
      "text/markdown": [
       "Bien sûr ! Voici cinq noms créatifs et attrayants pour votre nouvelle pizzeria :\n",
       "\n",
       "1. **Croûte et Artisanat**\n",
       "2. **Bella Napoli Pizzeria**\n",
       "3. **Flamme et Pierre Pizza**\n",
       "4. **Tranche Toscane**\n",
       "5. **Pizza Urbaine**\n",
       "\n",
       "J'espère que ces noms vous inspireront et correspondront à l'ambiance que vous souhaitez pour votre entreprise !"
      ],
      "text/plain": [
       "<IPython.core.display.Markdown object>"
      ]
     },
     "metadata": {},
     "output_type": "display_data"
    }
   ],
   "source": [
    "display(Markdown(response.choices[0].message.content))"
   ]
  },
  {
   "cell_type": "code",
   "execution_count": 5,
   "id": "78613e21",
   "metadata": {},
   "outputs": [
    {
     "data": {
      "text/plain": [
       "[{'role': 'system',\n",
       "  'content': 'You are an AI assistant that helps people find information.'},\n",
       " {'role': 'user', 'content': 'tell me five good names for my new pizzeria'},\n",
       " {'role': 'system',\n",
       "  'content': 'Sure! Here are five creative and enticing names for your new pizzeria:\\n\\n1. **Crust & Craft Pizzeria**\\n2. **Bella Napoli Pizzeria**\\n3. **Flame & Stone Pizza**\\n4. **Tuscany Slice**\\n5. **Urban Pie Pizzeria**\\n\\nI hope these inspire you and resonate with the vibe you want for your business!'}]"
      ]
     },
     "execution_count": 5,
     "metadata": {},
     "output_type": "execute_result"
    }
   ],
   "source": [
    "messages.append({\"role\": \"system\", \"content\": response.choices[0].message.content})\n",
    "messages"
   ]
  },
  {
   "cell_type": "code",
   "execution_count": 6,
   "id": "7a8bae7b",
   "metadata": {},
   "outputs": [
    {
     "data": {
      "text/plain": [
       "[{'role': 'system',\n",
       "  'content': 'You are an AI assistant that helps people find information.'},\n",
       " {'role': 'user', 'content': 'tell me five good names for my new pizzeria'},\n",
       " {'role': 'system',\n",
       "  'content': 'Sure! Here are five creative and enticing names for your new pizzeria:\\n\\n1. **Crust & Craft Pizzeria**\\n2. **Bella Napoli Pizzeria**\\n3. **Flame & Stone Pizza**\\n4. **Tuscany Slice**\\n5. **Urban Pie Pizzeria**\\n\\nI hope these inspire you and resonate with the vibe you want for your business!'},\n",
       " {'role': 'user', 'content': 'answer in French, please'}]"
      ]
     },
     "execution_count": 6,
     "metadata": {},
     "output_type": "execute_result"
    }
   ],
   "source": [
    "messages.append({\"role\": \"user\", \"content\": \"answer in French, please\"})\n",
    "messages"
   ]
  }
 ],
 "metadata": {
  "kernelspec": {
   "display_name": "laqualunque",
   "language": "python",
   "name": "laqualunque"
  },
  "language_info": {
   "codemirror_mode": {
    "name": "ipython",
    "version": 3
   },
   "file_extension": ".py",
   "mimetype": "text/x-python",
   "name": "python",
   "nbconvert_exporter": "python",
   "pygments_lexer": "ipython3",
   "version": "3.11.9"
  }
 },
 "nbformat": 4,
 "nbformat_minor": 5
}
