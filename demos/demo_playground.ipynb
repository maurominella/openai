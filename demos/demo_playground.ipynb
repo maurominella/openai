{
 "cells": [
  {
   "cell_type": "code",
   "execution_count": 1,
   "id": "d1fc4086",
   "metadata": {},
   "outputs": [],
   "source": [
    "import os\n",
    "from IPython.display import Markdown, display\n",
    "from dotenv import load_dotenv\n",
    "from openai import AzureOpenAI # https://github.com/openai/openai-python\n",
    "\n",
    "load_dotenv(\"./../credentials_my.env\")\n",
    "\n",
    "client = AzureOpenAI(\n",
    "    azure_endpoint = os.environ['AZURE_OPENAI_ENDPOINT_SCUS'],\n",
    "    api_key        = os.environ['AZURE_OPENAI_API_KEY_SCUS'],\n",
    "    api_version    = os.environ['AZURE_OPENAI_API_VERSION']\n",
    ")"
   ]
  },
  {
   "cell_type": "code",
   "execution_count": 2,
   "id": "c4db54a2",
   "metadata": {},
   "outputs": [
    {
     "data": {
      "text/plain": [
       "[{'role': 'system',\n",
       "  'content': 'You are an AI assistant that helps people find information.'},\n",
       " {'role': 'user', 'content': 'give me some names for my new pizzeria'}]"
      ]
     },
     "execution_count": 2,
     "metadata": {},
     "output_type": "execute_result"
    }
   ],
   "source": [
    "messages=[\n",
    "    {\n",
    "        \"role\": \"system\",\n",
    "        \"content\": \"You are an AI assistant that helps people find information.\"\n",
    "    },\n",
    "    {\n",
    "        \"role\": \"user\",\n",
    "        \"content\": \"give me some names for my new pizzeria\"\n",
    "    }\n",
    "]\n",
    "\n",
    "messages"
   ]
  },
  {
   "cell_type": "code",
   "execution_count": 3,
   "id": "a7b72675",
   "metadata": {},
   "outputs": [
    {
     "data": {
      "text/plain": [
       "ChatCompletion(id='chatcmpl-9UVQb3lELg35qnD8UHQtnNLtWHjur', choices=[Choice(finish_reason='stop', index=0, logprobs=None, message=ChatCompletionMessage(content='Sure! Here are a few creative names for your new pizzeria:\\n\\n1. Bella Napoli Pizzeria\\n2. Rustic Crust Pizza\\n3. Sizzle Slice Pizzeria\\n4. Tasty Toppings Pizzeria\\n5. Pizzeria Paradiso\\n6. Oven-Baked Bliss\\n7. Viva La Pizza\\n8. The Pizza Haven\\n9. Urban Crust Pizzeria\\n10. Napoli Nook\\n\\nI hope one of these names inspires you!', role='assistant', function_call=None, tool_calls=None), content_filter_results={'hate': {'filtered': False, 'severity': 'safe'}, 'self_harm': {'filtered': False, 'severity': 'safe'}, 'sexual': {'filtered': False, 'severity': 'safe'}, 'violence': {'filtered': False, 'severity': 'safe'}})], created=1717057677, model='gpt-4o-2024-05-13', object='chat.completion', system_fingerprint='fp_5f4bad809a', usage=CompletionUsage(completion_tokens=94, prompt_tokens=31, total_tokens=125), prompt_filter_results=[{'prompt_index': 0, 'content_filter_results': {'hate': {'filtered': False, 'severity': 'safe'}, 'self_harm': {'filtered': False, 'severity': 'safe'}, 'sexual': {'filtered': False, 'severity': 'safe'}, 'violence': {'filtered': False, 'severity': 'safe'}}}])"
      ]
     },
     "execution_count": 3,
     "metadata": {},
     "output_type": "execute_result"
    }
   ],
   "source": [
    "response = client.chat.completions.create(\n",
    "    model    = os.environ['GPT4-OMNI'],\n",
    "    messages = messages)\n",
    "\n",
    "response"
   ]
  },
  {
   "cell_type": "code",
   "execution_count": 7,
   "id": "6f0d92e2",
   "metadata": {},
   "outputs": [
    {
     "name": "stdout",
     "output_type": "stream",
     "text": [
      "Sure! Here are a few creative names for your new pizzeria:\n",
      "\n",
      "1. Bella Napoli Pizzeria\n",
      "2. Rustic Crust Pizza\n",
      "3. Sizzle Slice Pizzeria\n",
      "4. Tasty Toppings Pizzeria\n",
      "5. Pizzeria Paradiso\n",
      "6. Oven-Baked Bliss\n",
      "7. Viva La Pizza\n",
      "8. The Pizza Haven\n",
      "9. Urban Crust Pizzeria\n",
      "10. Napoli Nook\n",
      "\n",
      "I hope one of these names inspires you!\n"
     ]
    }
   ],
   "source": [
    "print(response.choices[0].message.content)"
   ]
  },
  {
   "cell_type": "code",
   "execution_count": 8,
   "id": "d35054fa",
   "metadata": {},
   "outputs": [
    {
     "data": {
      "text/plain": [
       "[{'role': 'system',\n",
       "  'content': 'You are an AI assistant that helps people find information.'},\n",
       " {'role': 'user', 'content': 'give me some names for my new pizzeria'}]"
      ]
     },
     "execution_count": 8,
     "metadata": {},
     "output_type": "execute_result"
    }
   ],
   "source": [
    "messages"
   ]
  },
  {
   "cell_type": "code",
   "execution_count": null,
   "id": "29381eec",
   "metadata": {},
   "outputs": [],
   "source": []
  }
 ],
 "metadata": {
  "kernelspec": {
   "display_name": "laqualunque",
   "language": "python",
   "name": "laqualunque"
  },
  "language_info": {
   "codemirror_mode": {
    "name": "ipython",
    "version": 3
   },
   "file_extension": ".py",
   "mimetype": "text/x-python",
   "name": "python",
   "nbconvert_exporter": "python",
   "pygments_lexer": "ipython3",
   "version": "3.11.9"
  }
 },
 "nbformat": 4,
 "nbformat_minor": 5
}
