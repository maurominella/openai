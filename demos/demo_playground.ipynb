{
 "cells": [
  {
   "cell_type": "code",
   "execution_count": 1,
   "id": "d1fc4086",
   "metadata": {},
   "outputs": [],
   "source": [
    "import os\n",
    "from IPython.display import Markdown, display\n",
    "from dotenv import load_dotenv\n",
    "from openai import AzureOpenAI # https://github.com/openai/openai-python\n",
    "\n",
    "load_dotenv(\"./../credentials_my.env\")\n",
    "\n",
    "client = AzureOpenAI(\n",
    "    azure_endpoint = os.environ['AZURE_OPENAI_ENDPOINT_SCUS'],\n",
    "    api_key        = os.environ['AZURE_OPENAI_API_KEY_SCUS'],\n",
    "    api_version    = os.environ['AZURE_OPENAI_API_VERSION']\n",
    ")"
   ]
  },
  {
   "cell_type": "code",
   "execution_count": 2,
   "id": "c4db54a2",
   "metadata": {},
   "outputs": [
    {
     "data": {
      "text/plain": [
       "[{'role': 'system',\n",
       "  'content': 'You are an AI assistant that helps people find information.'},\n",
       " {'role': 'user', 'content': 'tell me five good names for my new pizzeria'}]"
      ]
     },
     "execution_count": 2,
     "metadata": {},
     "output_type": "execute_result"
    }
   ],
   "source": [
    "messages=[\n",
    "    {\n",
    "        \"role\": \"system\",\n",
    "        \"content\": \"You are an AI assistant that helps people find information.\"\n",
    "    },\n",
    "    {\n",
    "        \"role\": \"user\",\n",
    "        \"content\": \"tell me five good names for my new pizzeria\"\n",
    "    }\n",
    "]\n",
    "\n",
    "messages"
   ]
  },
  {
   "cell_type": "code",
   "execution_count": 9,
   "id": "a7b72675",
   "metadata": {},
   "outputs": [
    {
     "data": {
      "text/plain": [
       "ChatCompletion(id='chatcmpl-9cD7MtHFRX8ek9bTSG1ASMErNPtlF', choices=[Choice(finish_reason='stop', index=0, logprobs=None, message=ChatCompletionMessage(content=\"Bien sûr ! Voici cinq noms créatifs et attrayants pour votre nouvelle pizzeria :\\n\\n1. **Bella Napoli Pizzeria**\\n2. **Croûte d'Or Pizza**\\n3. **Tranche Sicilienne**\\n4. **Four Urbain Pizzeria**\\n5. **La Dolce Vita Pizzeria**\\n\\nJ'espère que l'un de ces noms vous plaira pour votre nouvelle entreprise !\", role='assistant', function_call=None, tool_calls=None), content_filter_results={'hate': {'filtered': False, 'severity': 'safe'}, 'self_harm': {'filtered': False, 'severity': 'safe'}, 'sexual': {'filtered': False, 'severity': 'safe'}, 'violence': {'filtered': False, 'severity': 'safe'}})], created=1718893916, model='gpt-4o-2024-05-13', object='chat.completion', system_fingerprint='fp_abc28019ad', usage=CompletionUsage(completion_tokens=79, prompt_tokens=115, total_tokens=194), prompt_filter_results=[{'prompt_index': 0, 'content_filter_results': {'hate': {'filtered': False, 'severity': 'safe'}, 'self_harm': {'filtered': False, 'severity': 'safe'}, 'sexual': {'filtered': False, 'severity': 'safe'}, 'violence': {'filtered': False, 'severity': 'safe'}}}])"
      ]
     },
     "execution_count": 9,
     "metadata": {},
     "output_type": "execute_result"
    }
   ],
   "source": [
    "response = client.chat.completions.create(\n",
    "    model    = os.environ['GPT-4O-20240513-128K'],\n",
    "    messages = messages)\n",
    "\n",
    "response"
   ]
  },
  {
   "cell_type": "code",
   "execution_count": 10,
   "id": "6f0d92e2",
   "metadata": {},
   "outputs": [
    {
     "name": "stdout",
     "output_type": "stream",
     "text": [
      "Bien sûr ! Voici cinq noms créatifs et attrayants pour votre nouvelle pizzeria :\n",
      "\n",
      "1. **Bella Napoli Pizzeria**\n",
      "2. **Croûte d'Or Pizza**\n",
      "3. **Tranche Sicilienne**\n",
      "4. **Four Urbain Pizzeria**\n",
      "5. **La Dolce Vita Pizzeria**\n",
      "\n",
      "J'espère que l'un de ces noms vous plaira pour votre nouvelle entreprise !\n"
     ]
    }
   ],
   "source": [
    "print(response.choices[0].message.content)"
   ]
  },
  {
   "cell_type": "code",
   "execution_count": 6,
   "id": "d35054fa",
   "metadata": {},
   "outputs": [
    {
     "data": {
      "text/plain": [
       "[{'role': 'system',\n",
       "  'content': 'You are an AI assistant that helps people find information.'},\n",
       " {'role': 'user', 'content': 'tell me five good names for my new pizzeria'}]"
      ]
     },
     "execution_count": 6,
     "metadata": {},
     "output_type": "execute_result"
    }
   ],
   "source": [
    "messages"
   ]
  },
  {
   "cell_type": "code",
   "execution_count": 7,
   "id": "28f09471",
   "metadata": {},
   "outputs": [
    {
     "data": {
      "text/plain": [
       "[{'role': 'system',\n",
       "  'content': 'You are an AI assistant that helps people find information.'},\n",
       " {'role': 'user', 'content': 'tell me five good names for my new pizzeria'},\n",
       " {'role': 'assistant',\n",
       "  'content': 'Sure, here are five creative and appealing names for your new pizzeria:\\n\\n1. **Bella Napoli Pizzeria**\\n2. **Golden Crust Pizza**\\n3. **Sicilian Slice**\\n4. **Urban Oven Pizzeria**\\n5. **La Dolce Vita Pizzeria**\\n\\nI hope one of these names resonates with you for your new venture!'}]"
      ]
     },
     "execution_count": 7,
     "metadata": {},
     "output_type": "execute_result"
    }
   ],
   "source": [
    "messages.append({\"role\": \"assistant\", \"content\": response.choices[0].message.content})\n",
    "messages"
   ]
  },
  {
   "cell_type": "code",
   "execution_count": 8,
   "id": "4e5fbaf7",
   "metadata": {},
   "outputs": [
    {
     "data": {
      "text/plain": [
       "[{'role': 'system',\n",
       "  'content': 'You are an AI assistant that helps people find information.'},\n",
       " {'role': 'user', 'content': 'tell me five good names for my new pizzeria'},\n",
       " {'role': 'assistant',\n",
       "  'content': 'Sure, here are five creative and appealing names for your new pizzeria:\\n\\n1. **Bella Napoli Pizzeria**\\n2. **Golden Crust Pizza**\\n3. **Sicilian Slice**\\n4. **Urban Oven Pizzeria**\\n5. **La Dolce Vita Pizzeria**\\n\\nI hope one of these names resonates with you for your new venture!'},\n",
       " {'role': 'user', 'content': 'answer in French, please'}]"
      ]
     },
     "execution_count": 8,
     "metadata": {},
     "output_type": "execute_result"
    }
   ],
   "source": [
    "messages.append({\"role\": \"user\", \"content\": \"answer in French, please\"})\n",
    "messages"
   ]
  }
 ],
 "metadata": {
  "kernelspec": {
   "display_name": "laqualunque",
   "language": "python",
   "name": "laqualunque"
  },
  "language_info": {
   "codemirror_mode": {
    "name": "ipython",
    "version": 3
   },
   "file_extension": ".py",
   "mimetype": "text/x-python",
   "name": "python",
   "nbconvert_exporter": "python",
   "pygments_lexer": "ipython3",
   "version": "3.11.9"
  }
 },
 "nbformat": 4,
 "nbformat_minor": 5
}
