{
 "cells": [
  {
   "cell_type": "code",
   "execution_count": 1,
   "id": "c2d964a3-1352-4296-b7ce-8aae49ff74ec",
   "metadata": {},
   "outputs": [
    {
     "data": {
      "text/plain": [
       "[{'model': 'gpt4-0125preview-128k',\n",
       "  'api_key': '5948e5b2b4a146cba9940adb3308d731',\n",
       "  'base_url': 'https://mmopenaiscus.openai.azure.com/',\n",
       "  'api_type': 'azure',\n",
       "  'api_version': '2024-02-15-preview'}]"
      ]
     },
     "execution_count": 1,
     "metadata": {},
     "output_type": "execute_result"
    }
   ],
   "source": [
    "import autogen\n",
    "\n",
    "# Setting configurations for autogen\n",
    "config_list = autogen.config_list_from_json(\n",
    "    env_or_file = 'models_list.json',\n",
    "    filter_dict = {\"model\": \"gpt4-0125preview-128k\"}\n",
    ")\n",
    "\n",
    "config_list"
   ]
  },
  {
   "cell_type": "code",
   "execution_count": 2,
   "id": "454af1f6-f1a9-4ad1-92e0-58f608542d21",
   "metadata": {},
   "outputs": [],
   "source": [
    "llm_config={\n",
    "        \"cache_seed\": None,  # Disable caching\n",
    "        \"config_list\": config_list,  # a list of OpenAI API configurations\n",
    "        \"temperature\": 0,  # temperature for sampling\n",
    "    }"
   ]
  },
  {
   "cell_type": "code",
   "execution_count": 3,
   "id": "65cfbcb9-df57-42ed-aa19-9bb6da25f61b",
   "metadata": {},
   "outputs": [
    {
     "data": {
      "text/plain": [
       "<autogen.agentchat.conversable_agent.ConversableAgent at 0x7fc4f594ab50>"
      ]
     },
     "execution_count": 3,
     "metadata": {},
     "output_type": "execute_result"
    }
   ],
   "source": [
    "# Instantiate an object of \"ConversableAgent\" type\n",
    "\n",
    "from autogen import ConversableAgent\n",
    "\n",
    "teachable_agent = ConversableAgent(\n",
    "    name=\"teachable_agent\",\n",
    "    llm_config = {\n",
    "      \"config_list\": config_list, \n",
    "      \"timeout\": 120, \n",
    "      \"cache_seed\": None  # Disable caching\n",
    "    }\n",
    ")\n",
    "\n",
    "teachable_agent"
   ]
  },
  {
   "cell_type": "code",
   "execution_count": 4,
   "id": "10af87e9-033a-4935-a293-5f5ef7a548e4",
   "metadata": {},
   "outputs": [
    {
     "name": "stdout",
     "output_type": "stream",
     "text": [
      "\u001b[92m\n",
      "LOADING MEMORY FROM DISK\u001b[0m\n",
      "\u001b[92m    Location = ./tmp/interactive/super_inventions_db/uid_text_dict.pkl\u001b[0m\n"
     ]
    },
    {
     "data": {
      "text/plain": [
       "<autogen.agentchat.contrib.capabilities.teachability.Teachability at 0x7fc54555f310>"
      ]
     },
     "execution_count": 4,
     "metadata": {},
     "output_type": "execute_result"
    }
   ],
   "source": [
    "# Instantiate the Teachability capability. Its parameters are all optional.\n",
    "\n",
    "from autogen.agentchat.contrib.capabilities.teachability import Teachability\n",
    "\n",
    "teachability = Teachability (\n",
    "    verbosity=0,  # 0 for basic info, 1 to add memory operations, 2 for analyzer messages, 3 for memo lists.\n",
    "    reset_db=False,\n",
    "    # path_to_db_dir=  \"./tmp/interactive/teachability_db\", # \"./tmp/interactive/super_inventions_db\",\n",
    "    path_to_db_dir=  \"./tmp/interactive/super_inventions_db\",\n",
    "    recall_threshold=1.5,  # Higher numbers allow more (but less relevant) memos to be recalled.\n",
    ")\n",
    "\n",
    "teachability"
   ]
  },
  {
   "cell_type": "code",
   "execution_count": 5,
   "id": "0d3e4268-d4aa-4998-9d38-6da7d31eaf26",
   "metadata": {},
   "outputs": [],
   "source": [
    "# Now add the Teachability capability to the agent\n",
    "\n",
    "teachability.add_to_agent(teachable_agent)"
   ]
  },
  {
   "cell_type": "code",
   "execution_count": 6,
   "id": "6b80b0e0-0dba-4c84-9b09-2a4b4284dc15",
   "metadata": {},
   "outputs": [
    {
     "data": {
      "text/plain": [
       "<autogen.agentchat.user_proxy_agent.UserProxyAgent at 0x7fc4f2e6ec50>"
      ]
     },
     "execution_count": 6,
     "metadata": {},
     "output_type": "execute_result"
    }
   ],
   "source": [
    "# create a UserProxyAgent instance named \"user_proxy_agent\"\n",
    "\n",
    "import autogen\n",
    "\n",
    "user_proxy_agent = autogen.UserProxyAgent(\n",
    "    name                       = \"user_proxy\",\n",
    "    human_input_mode           = \"ALWAYS\", # NEVER / ALWAYS / TERMINATE\n",
    "    max_consecutive_auto_reply = 10,\n",
    "    \n",
    "    code_execution_config = {\n",
    "        \"work_dir\": \"coding\",\n",
    "        \n",
    "        # Using docker is safer than running the generated code directly.\n",
    "        # set use_docker=True if docker is available to run the generated code. \n",
    "        \"use_docker\": False\n",
    "    },\n",
    "    \n",
    "    llm_config=llm_config\n",
    ")\n",
    "\n",
    "user_proxy_agent"
   ]
  },
  {
   "cell_type": "code",
   "execution_count": 7,
   "id": "7686f0b9-f9df-4b45-82fa-03f7e0f632ac",
   "metadata": {},
   "outputs": [
    {
     "name": "stdout",
     "output_type": "stream",
     "text": [
      "\u001b[96m\n",
      "Loading previous memory (if any) from disk.\u001b[0m\n",
      "\u001b[33mteachable_agent\u001b[0m (to user_proxy):\n",
      "\n",
      "Greetings, I'm a teachable user assistant! What's on your mind today?\n",
      "\n",
      "--------------------------------------------------------------------------------\n"
     ]
    },
    {
     "name": "stdin",
     "output_type": "stream",
     "text": [
      "Provide feedback to teachable_agent. Press enter to skip and use auto-reply, or type 'exit' to end the conversation:  Che cosa sono una rampada, un microfonante e una petrostecca?\n"
     ]
    },
    {
     "name": "stdout",
     "output_type": "stream",
     "text": [
      "\u001b[33muser_proxy\u001b[0m (to teachable_agent):\n",
      "\n",
      "Che cosa sono una rampada, un microfonante e una petrostecca?\n",
      "\n",
      "--------------------------------------------------------------------------------\n",
      "\u001b[31m\n",
      ">>>>>>>> USING AUTO REPLY...\u001b[0m\n",
      "\u001b[33mteachable_agent\u001b[0m (to user_proxy):\n",
      "\n",
      "Ecco una breve descrizione di una rampada, un microfonante e una petrostecca:\n",
      "\n",
      "- **Rampada**: È una salita progettata specificamente per le automobili che si autoillumina al passaggio di qualcuno. Questa innovazione aiuta a migliorare la visibilità durante le ore serali o in condizioni di scarsa illuminazione, garantendo maggiore sicurezza per i conducenti.\n",
      "\n",
      "- **Microfonante**: Si tratta di un dispositivo unico che combina le funzionalità di una stampante con quelle di un microfono. Questo dispositivo consente agli utenti di stampare documenti semplicemente parlando. Le parole dette a voce vengono convertite in testo stampabile, rendendo il processo di stampa più immediato e intuitivo, soprattutto in situazioni in cui la digitazione non è possibile o risulta scomoda.\n",
      "\n",
      "- **Petrostecca**: Questo termine descrive un'insolita bistecca creata utilizzando il petrolio. Pur essendo un concetto piuttosto futuristico e fuori dall'ordinario, richiama l'idea di alternative alimentari non tradizionali, possibilmente esplorando nuove forme di nutrienti o metodi di produzione alimentare alternativi. Tuttavia, la fattibilità e la sicurezza di tale prodotto restano questioni aperte all'interpretazione e al dibattito.\n",
      "\n",
      "Questi tre concetti sembrano appartenere a un universo di idee innovative e immaginarie che sfidano i limiti della tecnologia e dell'ingegnosità umana.\n",
      "\n",
      "--------------------------------------------------------------------------------\n"
     ]
    },
    {
     "name": "stdin",
     "output_type": "stream",
     "text": [
      "Provide feedback to teachable_agent. Press enter to skip and use auto-reply, or type 'exit' to end the conversation:  fai una tabella in html colorata con colori diversi per ogni riga\n"
     ]
    },
    {
     "name": "stdout",
     "output_type": "stream",
     "text": [
      "\u001b[33muser_proxy\u001b[0m (to teachable_agent):\n",
      "\n",
      "fai una tabella in html colorata con colori diversi per ogni riga\n",
      "\n",
      "--------------------------------------------------------------------------------\n",
      "\u001b[31m\n",
      ">>>>>>>> USING AUTO REPLY...\u001b[0m\n",
      "\u001b[33mteachable_agent\u001b[0m (to user_proxy):\n",
      "\n",
      "Ecco un esempio di come potresti strutturare una tabella HTML colorata, con colori diversi per ogni riga. Nel codice sottostante, useremo dei colori di esempio per le righe e per l'intestazione della tabella. Ricorda che puoi personalizzare i colori come preferisci utilizzando codici HEX, RGB, o i nomi dei colori in inglese.\n",
      "\n",
      "```html\n",
      "<!DOCTYPE html>\n",
      "<html lang=\"it\">\n",
      "<head>\n",
      "<meta charset=\"UTF-8\">\n",
      "<title>Tabella Colorata</title>\n",
      "<style>\n",
      "    body {\n",
      "        font-family: Arial, sans-serif;\n",
      "    }\n",
      "    table {\n",
      "        width: 100%;\n",
      "        border-collapse: collapse;\n",
      "    }\n",
      "    th {\n",
      "        background-color: #4CAF50; /* Verde */\n",
      "        color: white;\n",
      "    }\n",
      "    tr:nth-child(even) {\n",
      "        background-color: #f2f2f2; /* Grigio chiaro */\n",
      "    }\n",
      "    tr:nth-child(odd) {\n",
      "        background-color: #ddd; /* Grigio un po' più scuro */\n",
      "    }\n",
      "    td, th {\n",
      "        padding: 8px;\n",
      "        text-align: left;\n",
      "        border-bottom: 1px solid #ddd;\n",
      "    }\n",
      "</style>\n",
      "</head>\n",
      "<body>\n",
      "\n",
      "<table>\n",
      "  <tr>\n",
      "    <th>Invenzione</th>\n",
      "    <th>Descrizione</th>\n",
      "  </tr>\n",
      "  <tr>\n",
      "    <td>Orologiastro</td>\n",
      "    <td>Un orologio speciale che misura i momenti di massima ispirazione dell'utente.</td>\n",
      "  </tr>\n",
      "  <tr>\n",
      "    <td>Nuvolsacco</td>\n",
      "    <td>Uno zaino che si può trasformare in una piccola nuvola personale.</td>\n",
      "  </tr>\n",
      "  <tr>\n",
      "    <td>Telecibante</td>\n",
      "    <td>Un dispositivo che digitalizza il cibo per condividerlo via e-mail o messaggi.</td>\n",
      "  </tr>\n",
      "</table>\n",
      "\n",
      "</body>\n",
      "</html>\n",
      "```\n",
      "\n",
      "In questo esempio, la `<th>` ha un fondo verde con testo bianco, le righe pari (`tr:nth-child(even)`) hanno un fondo grigio chiaro, mentre le righe dispari (`tr:nth-child(odd)`) hanno un fondo grigio un po' più scuro. Puoi aggiungere o modificare le colorazioni modificando i valori nel CSS inserito nel tag `<style>` nell'header del documento.\n",
      "\n",
      "--------------------------------------------------------------------------------\n"
     ]
    },
    {
     "name": "stdin",
     "output_type": "stream",
     "text": [
      "Provide feedback to teachable_agent. Press enter to skip and use auto-reply, or type 'exit' to end the conversation:  exit\n"
     ]
    },
    {
     "data": {
      "text/plain": [
       "ChatResult(chat_id=None, chat_history=[{'content': \"Greetings, I'm a teachable user assistant! What's on your mind today?\", 'role': 'assistant'}, {'content': 'Che cosa sono una rampada, un microfonante e una petrostecca?\\n\\n# Memories that might help\\n- Che cosa sono una petrostecca, una rampata e un nuvolsacco?\\n- Che cosa sono una petrostecca, una rampada e un Nuvolsacco?\\n- in formato markdown, differenziando i colori fra la riga di intestazione, le righe pari e le righe dispari\\n- rampada\\n- Orologiastro: è un orologio speciale che, anziché misurare le ore del giorno, misura i momenti di massima ispirazione della persona che lo indossa. Utilizza un algoritmo avanzato per monitorare i segnali biologici, come il ritmo cardiaco e l\\'attività cerebrale, per prevedere quando l\\'utente sarà nel suo picco creativo. Si illumina con una dolce luce verde quindici minuti prima che arrivi questo momento, permettendo all\\'utente di prepararsi a sfruttare al massimo la sua creatività.\\n\\nNuvolsacco: praticamente un zaino portatile che può essere trasformata in una piccola nuvola personale. Utilizzando una tecnologia di condensazione avanzata, questo dispositivo raccoglie l\\'umidità dall\\'aria circostante per creare una nuvoletta volante. Gli utenti possono sedersi sulla nuvola per rilassarsi e fluttuare a pochi centimetri da terra. Dotata di controllo intelligente attraverso un\\'app, la nuvola può seguire l\\'utente autonomamente, fornendo ombra o una piacevole brezza secondo necessità.\\n\\nTelecibante: un piccolo dispositivo domestico che digitalizza il cibo e consente l\\'invio di piatti tramite e-mail o messaggi istantanei. Il ricevente, avendo un Telecibante compatibile, può \"ricreare\" il cibo ricevuto digitalmente, materiale reale compreso. Perfetto per condividere ricette con amici e familiari che si trovano a grande distanza, o anche per inviare degustazioni di cibo a potenziali clienti in tutto il mondo.\\n- - la rampada, che è una salita per le automobili che si autoillumina quando passa qualcuno\\n- la petrostecca, che una bistecca fatta con il petrolio\\n- il mangiafuoco, che è un aspirapolvere che aspira le fiamme\\n- la microfonante, che è una stampante che stampa le parole dette a voce\\n', 'role': 'user'}, {'content': \"Ecco una breve descrizione di una rampada, un microfonante e una petrostecca:\\n\\n- **Rampada**: È una salita progettata specificamente per le automobili che si autoillumina al passaggio di qualcuno. Questa innovazione aiuta a migliorare la visibilità durante le ore serali o in condizioni di scarsa illuminazione, garantendo maggiore sicurezza per i conducenti.\\n\\n- **Microfonante**: Si tratta di un dispositivo unico che combina le funzionalità di una stampante con quelle di un microfono. Questo dispositivo consente agli utenti di stampare documenti semplicemente parlando. Le parole dette a voce vengono convertite in testo stampabile, rendendo il processo di stampa più immediato e intuitivo, soprattutto in situazioni in cui la digitazione non è possibile o risulta scomoda.\\n\\n- **Petrostecca**: Questo termine descrive un'insolita bistecca creata utilizzando il petrolio. Pur essendo un concetto piuttosto futuristico e fuori dall'ordinario, richiama l'idea di alternative alimentari non tradizionali, possibilmente esplorando nuove forme di nutrienti o metodi di produzione alimentare alternativi. Tuttavia, la fattibilità e la sicurezza di tale prodotto restano questioni aperte all'interpretazione e al dibattito.\\n\\nQuesti tre concetti sembrano appartenere a un universo di idee innovative e immaginarie che sfidano i limiti della tecnologia e dell'ingegnosità umana.\", 'role': 'assistant'}, {'content': 'fai una tabella in html colorata con colori diversi per ogni riga\\n\\n# Memories that might help\\n- Orologiastro: è un orologio speciale che, anziché misurare le ore del giorno, misura i momenti di massima ispirazione della persona che lo indossa. Utilizza un algoritmo avanzato per monitorare i segnali biologici, come il ritmo cardiaco e l\\'attività cerebrale, per prevedere quando l\\'utente sarà nel suo picco creativo. Si illumina con una dolce luce verde quindici minuti prima che arrivi questo momento, permettendo all\\'utente di prepararsi a sfruttare al massimo la sua creatività.\\n\\nNuvolsacco: praticamente un zaino portatile che può essere trasformata in una piccola nuvola personale. Utilizzando una tecnologia di condensazione avanzata, questo dispositivo raccoglie l\\'umidità dall\\'aria circostante per creare una nuvoletta volante. Gli utenti possono sedersi sulla nuvola per rilassarsi e fluttuare a pochi centimetri da terra. Dotata di controllo intelligente attraverso un\\'app, la nuvola può seguire l\\'utente autonomamente, fornendo ombra o una piacevole brezza secondo necessità.\\n\\nTelecibante: un piccolo dispositivo domestico che digitalizza il cibo e consente l\\'invio di piatti tramite e-mail o messaggi istantanei. Il ricevente, avendo un Telecibante compatibile, può \"ricreare\" il cibo ricevuto digitalmente, materiale reale compreso. Perfetto per condividere ricette con amici e familiari che si trovano a grande distanza, o anche per inviare degustazioni di cibo a potenziali clienti in tutto il mondo.\\n- in formato markdown, differenziando i colori fra la riga di intestazione, le righe pari e le righe dispari\\n- - la rampada, che è una salita per le automobili che si autoillumina quando passa qualcuno\\n- la petrostecca, che una bistecca fatta con il petrolio\\n- il mangiafuoco, che è un aspirapolvere che aspira le fiamme\\n- la microfonante, che è una stampante che stampa le parole dette a voce\\n', 'role': 'user'}, {'content': 'Ecco un esempio di come potresti strutturare una tabella HTML colorata, con colori diversi per ogni riga. Nel codice sottostante, useremo dei colori di esempio per le righe e per l\\'intestazione della tabella. Ricorda che puoi personalizzare i colori come preferisci utilizzando codici HEX, RGB, o i nomi dei colori in inglese.\\n\\n```html\\n<!DOCTYPE html>\\n<html lang=\"it\">\\n<head>\\n<meta charset=\"UTF-8\">\\n<title>Tabella Colorata</title>\\n<style>\\n    body {\\n        font-family: Arial, sans-serif;\\n    }\\n    table {\\n        width: 100%;\\n        border-collapse: collapse;\\n    }\\n    th {\\n        background-color: #4CAF50; /* Verde */\\n        color: white;\\n    }\\n    tr:nth-child(even) {\\n        background-color: #f2f2f2; /* Grigio chiaro */\\n    }\\n    tr:nth-child(odd) {\\n        background-color: #ddd; /* Grigio un po\\' più scuro */\\n    }\\n    td, th {\\n        padding: 8px;\\n        text-align: left;\\n        border-bottom: 1px solid #ddd;\\n    }\\n</style>\\n</head>\\n<body>\\n\\n<table>\\n  <tr>\\n    <th>Invenzione</th>\\n    <th>Descrizione</th>\\n  </tr>\\n  <tr>\\n    <td>Orologiastro</td>\\n    <td>Un orologio speciale che misura i momenti di massima ispirazione dell\\'utente.</td>\\n  </tr>\\n  <tr>\\n    <td>Nuvolsacco</td>\\n    <td>Uno zaino che si può trasformare in una piccola nuvola personale.</td>\\n  </tr>\\n  <tr>\\n    <td>Telecibante</td>\\n    <td>Un dispositivo che digitalizza il cibo per condividerlo via e-mail o messaggi.</td>\\n  </tr>\\n</table>\\n\\n</body>\\n</html>\\n```\\n\\nIn questo esempio, la `<th>` ha un fondo verde con testo bianco, le righe pari (`tr:nth-child(even)`) hanno un fondo grigio chiaro, mentre le righe dispari (`tr:nth-child(odd)`) hanno un fondo grigio un po\\' più scuro. Puoi aggiungere o modificare le colorazioni modificando i valori nel CSS inserito nel tag `<style>` nell\\'header del documento.', 'role': 'assistant'}], summary='Ecco un esempio di come potresti strutturare una tabella HTML colorata, con colori diversi per ogni riga. Nel codice sottostante, useremo dei colori di esempio per le righe e per l\\'intestazione della tabella. Ricorda che puoi personalizzare i colori come preferisci utilizzando codici HEX, RGB, o i nomi dei colori in inglese.\\n\\n```html\\n<!DOCTYPE html>\\n<html lang=\"it\">\\n<head>\\n<meta charset=\"UTF-8\">\\n<title>Tabella Colorata</title>\\n<style>\\n    body {\\n        font-family: Arial, sans-serif;\\n    }\\n    table {\\n        width: 100%;\\n        border-collapse: collapse;\\n    }\\n    th {\\n        background-color: #4CAF50; /* Verde */\\n        color: white;\\n    }\\n    tr:nth-child(even) {\\n        background-color: #f2f2f2; /* Grigio chiaro */\\n    }\\n    tr:nth-child(odd) {\\n        background-color: #ddd; /* Grigio un po\\' più scuro */\\n    }\\n    td, th {\\n        padding: 8px;\\n        text-align: left;\\n        border-bottom: 1px solid #ddd;\\n    }\\n</style>\\n</head>\\n<body>\\n\\n<table>\\n  <tr>\\n    <th>Invenzione</th>\\n    <th>Descrizione</th>\\n  </tr>\\n  <tr>\\n    <td>Orologiastro</td>\\n    <td>Un orologio speciale che misura i momenti di massima ispirazione dell\\'utente.</td>\\n  </tr>\\n  <tr>\\n    <td>Nuvolsacco</td>\\n    <td>Uno zaino che si può trasformare in una piccola nuvola personale.</td>\\n  </tr>\\n  <tr>\\n    <td>Telecibante</td>\\n    <td>Un dispositivo che digitalizza il cibo per condividerlo via e-mail o messaggi.</td>\\n  </tr>\\n</table>\\n\\n</body>\\n</html>\\n```\\n\\nIn questo esempio, la `<th>` ha un fondo verde con testo bianco, le righe pari (`tr:nth-child(even)`) hanno un fondo grigio chiaro, mentre le righe dispari (`tr:nth-child(odd)`) hanno un fondo grigio un po\\' più scuro. Puoi aggiungere o modificare le colorazioni modificando i valori nel CSS inserito nel tag `<style>` nell\\'header del documento.', cost=({'total_cost': 0.12240000000000001, 'gpt-4': {'cost': 0.12240000000000001, 'prompt_tokens': 2232, 'completion_tokens': 924, 'total_tokens': 3156}}, {'total_cost': 0.12240000000000001, 'gpt-4': {'cost': 0.12240000000000001, 'prompt_tokens': 2232, 'completion_tokens': 924, 'total_tokens': 3156}}), human_input=[])"
      ]
     },
     "execution_count": 7,
     "metadata": {},
     "output_type": "execute_result"
    }
   ],
   "source": [
    "# start a free-form chat between the user and a teachable agent\n",
    "\n",
    "from autogen.formatting_utils import colored\n",
    "\n",
    "print(colored(\"\\nLoading previous memory (if any) from disk.\", \"light_cyan\"))\n",
    "\n",
    "# Start the chat.\n",
    "teachable_agent.initiate_chat(user_proxy_agent, message=\"Greetings, I'm a teachable user assistant! What's on your mind today?\")"
   ]
  },
  {
   "cell_type": "code",
   "execution_count": null,
   "id": "9a17212f-2e7a-4d31-8ac9-1578884b9fc3",
   "metadata": {},
   "outputs": [],
   "source": []
  }
 ],
 "metadata": {
  "kernelspec": {
   "display_name": "autogen",
   "language": "python",
   "name": "autogen"
  },
  "language_info": {
   "codemirror_mode": {
    "name": "ipython",
    "version": 3
   },
   "file_extension": ".py",
   "mimetype": "text/x-python",
   "name": "python",
   "nbconvert_exporter": "python",
   "pygments_lexer": "ipython3",
   "version": "3.11.8"
  }
 },
 "nbformat": 4,
 "nbformat_minor": 5
}
