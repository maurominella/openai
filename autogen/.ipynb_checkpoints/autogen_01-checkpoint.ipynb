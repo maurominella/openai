{
 "cells": [
  {
   "cell_type": "code",
   "execution_count": 2,
   "id": "587a9880",
   "metadata": {},
   "outputs": [],
   "source": [
    "from typing import Dict, Union\n",
    "\n",
    "from IPython import get_ipython\n",
    "from IPython.display import display, Image\n",
    "import csv"
   ]
  },
  {
   "cell_type": "code",
   "execution_count": 3,
   "id": "9f36d8da",
   "metadata": {},
   "outputs": [],
   "source": [
    "import autogen"
   ]
  },
  {
   "cell_type": "code",
   "execution_count": 5,
   "id": "5d71f17c",
   "metadata": {},
   "outputs": [
    {
     "data": {
      "text/plain": [
       "[{'model': 'gpt4-1106-128k',\n",
       "  'api_key': '29eb6e832af54fec9e19e76d185e4557',\n",
       "  'base_url': 'https://mmopenaisec.openai.azure.com/',\n",
       "  'api_type': 'azure',\n",
       "  'api_version': '2024-02-15-preview'},\n",
       " {'model': 'gpt4-0613-32k',\n",
       "  'api_key': '29eb6e832af54fec9e19e76d185e4557',\n",
       "  'base_url': 'https://mmopenaisec.openai.azure.com/',\n",
       "  'api_type': 'azure',\n",
       "  'api_version': '2024-02-15-preview'}]"
      ]
     },
     "execution_count": 5,
     "metadata": {},
     "output_type": "execute_result"
    }
   ],
   "source": [
    "import autogen, os\n",
    "import json\n",
    "from dotenv import load_dotenv\n",
    "\n",
    "load_dotenv(\"./../credentials_my.env\")\n",
    "\n",
    "my_models = [\n",
    "    {\n",
    "        'model': os.environ['GPT4-1106-128k'],\n",
    "        'api_key': os.environ['AZURE_OPENAI_API_KEY'],\n",
    "        \"base_url\": os.environ['AZURE_OPENAI_ENDPOINT'],\n",
    "        \"api_type\": os.environ['OPENAI_API_TYPE'],\n",
    "        \"api_version\": os.environ['AZURE_OPENAI_API_VERSION']\n",
    "    },\n",
    "    {\n",
    "        'model': os.environ['GPT432-0613-32k'],\n",
    "        'api_key': os.environ['AZURE_OPENAI_API_KEY'],\n",
    "        \"base_url\": os.environ['AZURE_OPENAI_ENDPOINT'],\n",
    "        \"api_type\": os.environ['OPENAI_API_TYPE'],\n",
    "        \"api_version\": os.environ['AZURE_OPENAI_API_VERSION']\n",
    "    }\n",
    "]\n",
    "\n",
    "# need for converting to string\n",
    "os.environ['models_var'] = json.dumps(my_models)\n",
    "\n",
    "# Setting configurations for autogen\n",
    "config_list = autogen.config_list_from_json(\n",
    "    env_or_file='models_var',\n",
    "    filter_dict={\n",
    "        \"model\": {\n",
    "            \"gpt4-1106-128k\",\n",
    "            \"gpt4-0613-32k\"\n",
    "        }\n",
    "    }\n",
    ")\n",
    "\n",
    "config_list"
   ]
  },
  {
   "cell_type": "code",
   "execution_count": 6,
   "id": "0cff6da7",
   "metadata": {},
   "outputs": [],
   "source": [
    "import autogen"
   ]
  },
  {
   "cell_type": "code",
   "execution_count": 7,
   "id": "14c6c8c9",
   "metadata": {},
   "outputs": [
    {
     "data": {
      "text/plain": [
       "<autogen.agentchat.user_proxy_agent.UserProxyAgent at 0x11286aa0380>"
      ]
     },
     "execution_count": 7,
     "metadata": {},
     "output_type": "execute_result"
    }
   ],
   "source": [
    "# create a UserProxyAgent instance named \"user_proxy\"\n",
    "\n",
    "user_proxy = autogen.UserProxyAgent(\n",
    "    name=\"user_proxy\",\n",
    "    human_input_mode=\"NEVER\",\n",
    "    max_consecutive_auto_reply=10,\n",
    "\n",
    "    # if the x[\"content\"] ends by \"TERMINATE\", is_termination_msg-->True; otherwise, is_termination_msg--> False\n",
    "    is_termination_msg=lambda x: x.get(\"content\", \"\").rstrip().endswith(\"TERMINATE\"),\n",
    "    \n",
    "    code_execution_config={\n",
    "        \"work_dir\": \"coding\",\n",
    "        \n",
    "        # Using docker is safer than running the generated code directly.\n",
    "        # set use_docker=True if docker is available to run the generated code. \n",
    "        \"use_docker\": False,  \n",
    "        \n",
    "    }\n",
    ")\n",
    "\n",
    "user_proxy"
   ]
  },
  {
   "cell_type": "code",
   "execution_count": 8,
   "id": "00bf4dff",
   "metadata": {},
   "outputs": [
    {
     "data": {
      "text/plain": [
       "<autogen.agentchat.assistant_agent.AssistantAgent at 0x11286d78a70>"
      ]
     },
     "execution_count": 8,
     "metadata": {},
     "output_type": "execute_result"
    }
   ],
   "source": [
    "# create an AssistantAgent named \"assistant\"\n",
    "\n",
    "assistant = autogen.AssistantAgent(\n",
    "    name=\"assistant\",\n",
    "    llm_config={\n",
    "        \"cache_seed\": 52,  # seed for caching and reproducibility\n",
    "        \"config_list\": config_list,  # a list of OpenAI API configurations\n",
    "        \"temperature\": 0,  # temperature for sampling\n",
    "    },  # configuration for autogen's enhanced inference API which is compatible with OpenAI API\n",
    ")\n",
    "\n",
    "assistant"
   ]
  },
  {
   "cell_type": "code",
   "execution_count": 19,
   "id": "144644e0",
   "metadata": {},
   "outputs": [
    {
     "name": "stdout",
     "output_type": "stream",
     "text": [
      "\u001b[33muser_proxy\u001b[0m (to assistant):\n",
      "\n",
      "What date is today? Compare the year-to-date gain for META and TESLA.\n",
      "\n",
      "--------------------------------------------------------------------------------\n",
      "\u001b[33massistant\u001b[0m (to user_proxy):\n",
      "\n",
      "To get the current date, we can use Python code to print it out. Then, to compare the year-to-date (YTD) gain for META (Meta Platforms, Inc.) and TESLA (Tesla, Inc.), we will need to retrieve their stock prices from the beginning of the year and their current stock prices. We can use a financial data API or web scraping to get this information. However, since I cannot browse the web or access external APIs, I will provide you with Python code that uses the `yfinance` library to fetch the required stock data.\n",
      "\n",
      "First, let's get the current date:\n",
      "\n",
      "```python\n",
      "# filename: get_current_date.py\n",
      "from datetime import datetime\n",
      "\n",
      "# Get the current date\n",
      "current_date = datetime.now().date()\n",
      "\n",
      "# Print the current date\n",
      "print(current_date)\n",
      "```\n",
      "\n",
      "Please run the above Python script to get the current date. After that, I will provide you with the next step to compare the YTD gain for META and TESLA.\n",
      "\n",
      "--------------------------------------------------------------------------------\n",
      "\u001b[31m\n",
      ">>>>>>>> EXECUTING CODE BLOCK 0 (inferred language is python)...\u001b[0m\n",
      "\u001b[33muser_proxy\u001b[0m (to assistant):\n",
      "\n",
      "exitcode: 0 (execution succeeded)\n",
      "Code output: \n",
      "2024-03-27\n",
      "\n",
      "\n",
      "--------------------------------------------------------------------------------\n",
      "\u001b[33massistant\u001b[0m (to user_proxy):\n",
      "\n",
      "Great, today's date is March 27, 2024. Now, let's proceed to compare the year-to-date (YTD) gain for META (Meta Platforms, Inc.) and TESLA (Tesla, Inc.). I will provide you with a Python script that uses the `yfinance` library to fetch the stock prices for both companies from the beginning of the year until today. The script will calculate the YTD gain for each stock.\n",
      "\n",
      "Please run the following Python script:\n",
      "\n",
      "```python\n",
      "# filename: compare_ytd_gains.py\n",
      "import yfinance as yf\n",
      "from datetime import datetime\n",
      "\n",
      "# Define the tickers for Meta Platforms, Inc. and Tesla, Inc.\n",
      "tickers = [\"META\", \"TSLA\"]\n",
      "\n",
      "# Define the start of the year and the current date\n",
      "start_of_year = datetime(2024, 1, 1)\n",
      "current_date = datetime.now().date()\n",
      "\n",
      "# Function to calculate YTD gain\n",
      "def calculate_ytd_gain(ticker):\n",
      "    # Fetch historical data from start of the year until today\n",
      "    data = yf.download(ticker, start=start_of_year, end=current_date)\n",
      "    \n",
      "    # Get the first and last closing prices\n",
      "    start_price = data['Close'].iloc[0]\n",
      "    end_price = data['Close'].iloc[-1]\n",
      "    \n",
      "    # Calculate the YTD gain\n",
      "    ytd_gain = ((end_price - start_price) / start_price) * 100\n",
      "    return ytd_gain\n",
      "\n",
      "# Calculate and print the YTD gains for both stocks\n",
      "meta_ytd_gain = calculate_ytd_gain(\"META\")\n",
      "tesla_ytd_gain = calculate_ytd_gain(\"TSLA\")\n",
      "\n",
      "print(f\"YTD gain for META: {meta_ytd_gain:.2f}%\")\n",
      "print(f\"YTD gain for TSLA: {tesla_ytd_gain:.2f}%\")\n",
      "```\n",
      "\n",
      "This script will output the YTD gain percentage for both META and TESLA. Please execute the script and provide me with the output.\n",
      "\n",
      "--------------------------------------------------------------------------------\n",
      "\u001b[31m\n",
      ">>>>>>>> EXECUTING CODE BLOCK 0 (inferred language is python)...\u001b[0m\n",
      "\u001b[33muser_proxy\u001b[0m (to assistant):\n",
      "\n",
      "exitcode: 0 (execution succeeded)\n",
      "Code output: \n",
      "YTD gain for META: 43.20%\n",
      "YTD gain for TSLA: -28.48%\n",
      "\n",
      "\n",
      "--------------------------------------------------------------------------------\n",
      "\u001b[33massistant\u001b[0m (to user_proxy):\n",
      "\n",
      "The year-to-date (YTD) gain for Meta Platforms, Inc. (META) is 43.20%, indicating that the stock price has increased by this percentage since the beginning of the year 2024.\n",
      "\n",
      "On the other hand, the YTD gain for Tesla, Inc. (TSLA) is -28.48%, which means that the stock price has decreased by this percentage since the start of the year 2024.\n",
      "\n",
      "Therefore, META has had a positive performance YTD, while TSLA has experienced a decline in its stock price over the same period.\n",
      "\n",
      "TERMINATE\n",
      "\n",
      "--------------------------------------------------------------------------------\n",
      "CPU times: total: 0 ns\n",
      "Wall time: 1min 28s\n"
     ]
    }
   ],
   "source": [
    "%%time\n",
    "# the assistant receives a message from the user_proxy, which contains the task description\n",
    "\n",
    "\n",
    "chat_res = user_proxy.initiate_chat(\n",
    "    assistant,\n",
    "    message=\"\"\"What date is today? Compare the year-to-date gain for META and TESLA.\"\"\",\n",
    "    summary_method=\"reflection_with_llm\",\n",
    ")"
   ]
  },
  {
   "cell_type": "code",
   "execution_count": 18,
   "id": "72e3b143",
   "metadata": {},
   "outputs": [],
   "source": [
    "autogen.Completion.clear_cache(seed=52)"
   ]
  }
 ],
 "metadata": {
  "kernelspec": {
   "display_name": "autogen",
   "language": "python",
   "name": "autogen"
  },
  "language_info": {
   "codemirror_mode": {
    "name": "ipython",
    "version": 3
   },
   "file_extension": ".py",
   "mimetype": "text/x-python",
   "name": "python",
   "nbconvert_exporter": "python",
   "pygments_lexer": "ipython3",
   "version": "3.12.2"
  }
 },
 "nbformat": 4,
 "nbformat_minor": 5
}
