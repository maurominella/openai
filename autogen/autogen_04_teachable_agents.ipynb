{
 "cells": [
  {
   "cell_type": "code",
   "execution_count": 1,
   "id": "c2d964a3-1352-4296-b7ce-8aae49ff74ec",
   "metadata": {},
   "outputs": [],
   "source": [
    "import autogen\n",
    "\n",
    "# Setting configurations for autogen\n",
    "config_list = autogen.config_list_from_json(\n",
    "    env_or_file = 'models_list.json',\n",
    "    filter_dict = {\"model\": \"gpt4-0125preview-128k\"}\n",
    ")\n",
    "\n",
    "#config_list"
   ]
  },
  {
   "cell_type": "code",
   "execution_count": 2,
   "id": "454af1f6-f1a9-4ad1-92e0-58f608542d21",
   "metadata": {},
   "outputs": [],
   "source": [
    "llm_config={\n",
    "        \"cache_seed\": None,  # Disable caching\n",
    "        \"config_list\": config_list,  # a list of OpenAI API configurations\n",
    "        \"temperature\": 0,  # temperature for sampling\n",
    "    }"
   ]
  },
  {
   "cell_type": "code",
   "execution_count": 3,
   "id": "65cfbcb9-df57-42ed-aa19-9bb6da25f61b",
   "metadata": {},
   "outputs": [
    {
     "data": {
      "text/plain": [
       "<autogen.agentchat.conversable_agent.ConversableAgent at 0x7f62659db050>"
      ]
     },
     "execution_count": 3,
     "metadata": {},
     "output_type": "execute_result"
    }
   ],
   "source": [
    "# Instantiate an object of \"ConversableAgent\" type\n",
    "\n",
    "from autogen import ConversableAgent\n",
    "\n",
    "teachable_agent = ConversableAgent(\n",
    "    name=\"teachable_agent\",\n",
    "    llm_config = {\n",
    "      \"config_list\": config_list, \n",
    "      \"timeout\": 120, \n",
    "      \"cache_seed\": None  # Disable caching\n",
    "    }\n",
    ")\n",
    "\n",
    "teachable_agent"
   ]
  },
  {
   "cell_type": "code",
   "execution_count": 4,
   "id": "10af87e9-033a-4935-a293-5f5ef7a548e4",
   "metadata": {},
   "outputs": [
    {
     "name": "stdout",
     "output_type": "stream",
     "text": [
      "\u001b[92m\n",
      "LOADING MEMORY FROM DISK\u001b[0m\n",
      "\u001b[92m    Location = ./tmp/interactive/super_inventions_db/uid_text_dict.pkl\u001b[0m\n"
     ]
    },
    {
     "data": {
      "text/plain": [
       "<autogen.agentchat.contrib.capabilities.teachability.Teachability at 0x7f6265a27210>"
      ]
     },
     "execution_count": 4,
     "metadata": {},
     "output_type": "execute_result"
    }
   ],
   "source": [
    "# Instantiate the Teachability capability. Its parameters are all optional.\n",
    "\n",
    "from autogen.agentchat.contrib.capabilities.teachability import Teachability\n",
    "\n",
    "teachability = Teachability (\n",
    "    verbosity = 0,  # 0 for basic info, 1 to add memory operations, 2 for analyzer messages, 3 for memo lists.\n",
    "    reset_db = False,\n",
    "    # path_to_db_dir =  \"./tmp/interactive/teachability_db\", # \"./tmp/interactive/super_inventions_db\",\n",
    "    path_to_db_dir   =  \"./tmp/interactive/super_inventions_db\",\n",
    "    recall_threshold = 1.5,  # Higher numbers allow more (but less relevant) memos to be recalled.\n",
    ")\n",
    "\n",
    "teachability"
   ]
  },
  {
   "cell_type": "code",
   "execution_count": 5,
   "id": "0d3e4268-d4aa-4998-9d38-6da7d31eaf26",
   "metadata": {},
   "outputs": [],
   "source": [
    "# Now add the Teachability capability to the agent\n",
    "\n",
    "teachability.add_to_agent(teachable_agent)"
   ]
  },
  {
   "cell_type": "code",
   "execution_count": 6,
   "id": "6b80b0e0-0dba-4c84-9b09-2a4b4284dc15",
   "metadata": {},
   "outputs": [
    {
     "data": {
      "text/plain": [
       "<autogen.agentchat.user_proxy_agent.UserProxyAgent at 0x7f6262ee6690>"
      ]
     },
     "execution_count": 6,
     "metadata": {},
     "output_type": "execute_result"
    }
   ],
   "source": [
    "# create a UserProxyAgent instance named \"user_proxy_agent\"\n",
    "\n",
    "import autogen\n",
    "\n",
    "user_proxy_agent = autogen.UserProxyAgent(\n",
    "    name                       = \"user_proxy\",\n",
    "    human_input_mode           = \"ALWAYS\", # NEVER / ALWAYS / TERMINATE\n",
    "    max_consecutive_auto_reply = 10,\n",
    "    \n",
    "    code_execution_config = {\n",
    "        \"work_dir\": \"coding\",\n",
    "        \n",
    "        # Using docker is safer than running the generated code directly.\n",
    "        # set use_docker=True if docker is available to run the generated code. \n",
    "        \"use_docker\": False\n",
    "    },\n",
    "    \n",
    "    llm_config=llm_config\n",
    ")\n",
    "\n",
    "user_proxy_agent"
   ]
  },
  {
   "cell_type": "code",
   "execution_count": 7,
   "id": "7686f0b9-f9df-4b45-82fa-03f7e0f632ac",
   "metadata": {},
   "outputs": [
    {
     "name": "stdout",
     "output_type": "stream",
     "text": [
      "\u001b[96m\n",
      "Loading previous memory (if any) from disk.\u001b[0m\n",
      "\u001b[33mteachable_agent\u001b[0m (to user_proxy):\n",
      "\n",
      "Greetings, I'm a teachable user assistant! What's on your mind today?\n",
      "\n",
      "--------------------------------------------------------------------------------\n"
     ]
    },
    {
     "name": "stdin",
     "output_type": "stream",
     "text": [
      "Provide feedback to teachable_agent. Press enter to skip and use auto-reply, or type 'exit' to end the conversation:  Che cosa sono una petrostecca, una rampada e un microfonante?\n"
     ]
    },
    {
     "name": "stdout",
     "output_type": "stream",
     "text": [
      "\u001b[33muser_proxy\u001b[0m (to teachable_agent):\n",
      "\n",
      "Che cosa sono una petrostecca, una rampada e un microfonante?\n",
      "\n",
      "--------------------------------------------------------------------------------\n",
      "\u001b[31m\n",
      ">>>>>>>> USING AUTO REPLY...\u001b[0m\n",
      "\u001b[33mteachable_agent\u001b[0m (to user_proxy):\n",
      "\n",
      "Le definizioni che hai chiesto suggeriscono che questi oggetti fanno parte di concetti o invenzioni immaginari, piuttosto creativi e innovativi:\n",
      "\n",
      "1. **La Petrostecca**: Una bistecca artificiale, creata usando derivati del petrolio. Questa invenzione immaginaria sembra indirizzarsi verso l'idea di produrre cibo in modo non convenzionale, anche se nella realtà, l'uso di petrolio per produrre alimenti sarebbe problematico sia dal punto di vista della sicurezza alimentare che della salute.\n",
      "\n",
      "2. **La Rampada**: Una salita, o rampa, per automobili che ha la particolare caratteristica di autoilluminarsi al passaggio di persone o veicoli. Questo concept si concentra sull'idea di maggiore sicurezza e visibilità notturna, oltre allo sviluppo sostenibile grazie all'implicazione che l'illuminazione avvenga senza consumo energetico costante.\n",
      "\n",
      "3. **Il Microfonante**: Una stampante capace di trasformare direttamente le parole dette a voce in testo stampato. Questa invenzione sottolinea l'importanza dell'interazione vocale con la tecnologia e potrebbe trovare impiego in contesti dove la velocità di trasferimento delle informazioni da parlato a scritto è cruciale.\n",
      "\n",
      "Queste idee, pur essendo al momento puramente speculative e in parte fantasiose, riflettono un interessante esercizio di immaginazione applicato alla tecnologia e all'innovazione. In un mondo in continua evoluzione, alcune di queste idee potrebbero ispirare futuri sviluppi reali in aree come la produzione alimentare, la sicurezza stradale e le interfacce utente.\n",
      "\n",
      "--------------------------------------------------------------------------------\n"
     ]
    },
    {
     "name": "stdin",
     "output_type": "stream",
     "text": [
      "Provide feedback to teachable_agent. Press enter to skip and use auto-reply, or type 'exit' to end the conversation:  exit\n"
     ]
    },
    {
     "data": {
      "text/plain": [
       "ChatResult(chat_id=None, chat_history=[{'content': \"Greetings, I'm a teachable user assistant! What's on your mind today?\", 'role': 'assistant'}, {'content': 'Che cosa sono una petrostecca, una rampada e un microfonante?\\n\\n# Memories that might help\\n- Che cosa sono una petrostecca, una rampada e un microfonante?\\n- - la rampada, che è una salita per le automobili che si autoillumina quando passa qualcuno\\n- la petrostecca, che una bistecca fatta con il petrolio\\n- il mangiafuoco, che è un aspirapolvere che aspira le fiamme\\n- la microfonante, che è una stampante che stampa le parole dette a voce\\n- La Pioggiadanza: Un dispositivo simile a un ombrello, ma con la funzionalità inversa. Invece di proteggere dalla pioggia, cattura l’acqua piovana e, attraverso un sistema di filtraggio interno, la trasforma in musica. Ogni goccia che tocca il dispositivo viene convertita in una nota musicale, permettendo ai passanti di danzare sotto la pioggia in un concerto unico generato naturalmente.\\n- L\\'AlberoTascabile: Questo invento è una piccola scatola che, una volta aperta e posizionata a terra, si trasforma rapidamente in un albero pieno di foglie e frutti. L\\'albero può crescere fino a 3 metri in pochi minuti, offrendo ombra, ossigeno e cibo ovunque ci si trovi. Dopo l\\'utilizzo, l\\'albero può essere \"ripiegato\" nella sua scatola, pronto per essere trapiantato in terra, dove continuerà a crescere come un albero normale.\\n- Il SognoScrittore: Un piccolo dispositivo che si indossa come una maschera per gli occhi durante il sonno. Il SognoScrittore registra i sogni dell\\'utente in tempo reale, convertendoli in racconti scritti o in sceneggiature. Al risveglio, l\\'utente avrà a disposizione un dettagliato report dei propri sogni, permettendogli di rivivere le avventure notturne o utilizzarle come fonte di ispirazione creativa per la scrittura, l\\'arte o il cinema.\\n', 'role': 'user'}, {'content': \"Le definizioni che hai chiesto suggeriscono che questi oggetti fanno parte di concetti o invenzioni immaginari, piuttosto creativi e innovativi:\\n\\n1. **La Petrostecca**: Una bistecca artificiale, creata usando derivati del petrolio. Questa invenzione immaginaria sembra indirizzarsi verso l'idea di produrre cibo in modo non convenzionale, anche se nella realtà, l'uso di petrolio per produrre alimenti sarebbe problematico sia dal punto di vista della sicurezza alimentare che della salute.\\n\\n2. **La Rampada**: Una salita, o rampa, per automobili che ha la particolare caratteristica di autoilluminarsi al passaggio di persone o veicoli. Questo concept si concentra sull'idea di maggiore sicurezza e visibilità notturna, oltre allo sviluppo sostenibile grazie all'implicazione che l'illuminazione avvenga senza consumo energetico costante.\\n\\n3. **Il Microfonante**: Una stampante capace di trasformare direttamente le parole dette a voce in testo stampato. Questa invenzione sottolinea l'importanza dell'interazione vocale con la tecnologia e potrebbe trovare impiego in contesti dove la velocità di trasferimento delle informazioni da parlato a scritto è cruciale.\\n\\nQueste idee, pur essendo al momento puramente speculative e in parte fantasiose, riflettono un interessante esercizio di immaginazione applicato alla tecnologia e all'innovazione. In un mondo in continua evoluzione, alcune di queste idee potrebbero ispirare futuri sviluppi reali in aree come la produzione alimentare, la sicurezza stradale e le interfacce utente.\", 'role': 'assistant'}], summary=\"Le definizioni che hai chiesto suggeriscono che questi oggetti fanno parte di concetti o invenzioni immaginari, piuttosto creativi e innovativi:\\n\\n1. **La Petrostecca**: Una bistecca artificiale, creata usando derivati del petrolio. Questa invenzione immaginaria sembra indirizzarsi verso l'idea di produrre cibo in modo non convenzionale, anche se nella realtà, l'uso di petrolio per produrre alimenti sarebbe problematico sia dal punto di vista della sicurezza alimentare che della salute.\\n\\n2. **La Rampada**: Una salita, o rampa, per automobili che ha la particolare caratteristica di autoilluminarsi al passaggio di persone o veicoli. Questo concept si concentra sull'idea di maggiore sicurezza e visibilità notturna, oltre allo sviluppo sostenibile grazie all'implicazione che l'illuminazione avvenga senza consumo energetico costante.\\n\\n3. **Il Microfonante**: Una stampante capace di trasformare direttamente le parole dette a voce in testo stampato. Questa invenzione sottolinea l'importanza dell'interazione vocale con la tecnologia e potrebbe trovare impiego in contesti dove la velocità di trasferimento delle informazioni da parlato a scritto è cruciale.\\n\\nQueste idee, pur essendo al momento puramente speculative e in parte fantasiose, riflettono un interessante esercizio di immaginazione applicato alla tecnologia e all'innovazione. In un mondo in continua evoluzione, alcune di queste idee potrebbero ispirare futuri sviluppi reali in aree come la produzione alimentare, la sicurezza stradale e le interfacce utente.\", cost=({'total_cost': 0.0426, 'gpt-4': {'cost': 0.0426, 'prompt_tokens': 576, 'completion_tokens': 422, 'total_tokens': 998}}, {'total_cost': 0.0426, 'gpt-4': {'cost': 0.0426, 'prompt_tokens': 576, 'completion_tokens': 422, 'total_tokens': 998}}), human_input=[])"
      ]
     },
     "execution_count": 7,
     "metadata": {},
     "output_type": "execute_result"
    }
   ],
   "source": [
    "# start a free-form chat between the user and a teachable agent\n",
    "\n",
    "from autogen.formatting_utils import colored\n",
    "\n",
    "print(colored(\"\\nLoading previous memory (if any) from disk.\", \"light_cyan\"))\n",
    "\n",
    "# Start the chat.\n",
    "teachable_agent.initiate_chat(user_proxy_agent, message=\"Greetings, I'm a teachable user assistant! What's on your mind today?\")"
   ]
  }
 ],
 "metadata": {
  "kernelspec": {
   "display_name": "autogen",
   "language": "python",
   "name": "autogen"
  },
  "language_info": {
   "codemirror_mode": {
    "name": "ipython",
    "version": 3
   },
   "file_extension": ".py",
   "mimetype": "text/x-python",
   "name": "python",
   "nbconvert_exporter": "python",
   "pygments_lexer": "ipython3",
   "version": "3.11.8"
  }
 },
 "nbformat": 4,
 "nbformat_minor": 5
}
