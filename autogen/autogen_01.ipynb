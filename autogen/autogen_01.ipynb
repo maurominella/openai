{
 "cells": [
  {
   "cell_type": "code",
   "execution_count": 1,
   "id": "c7d0c306-0d4f-46cf-97ed-cc9bcd04419a",
   "metadata": {},
   "outputs": [],
   "source": [
    "# Libraries, Variables and Constants\n",
    "\n",
    "import autogen, os\n",
    "import json\n",
    "from dotenv import load_dotenv\n",
    "\n",
    "load_dotenv(\"./../credentials_my.env\")\n",
    "cache_seed = 41 # default seed is 41"
   ]
  },
  {
   "cell_type": "code",
   "execution_count": null,
   "id": "5d71f17c",
   "metadata": {},
   "outputs": [],
   "source": [
    "my_models = [\n",
    "    {\n",
    "        'model': os.environ['GPT4-0125PREVIEW-128k'],\n",
    "        'api_key': os.environ['AZURE_OPENAI_API_KEY_SCUS'],\n",
    "        \"base_url\": os.environ['AZURE_OPENAI_ENDPOINT_SCUS'],\n",
    "        \"api_type\": os.environ['OPENAI_API_TYPE'],\n",
    "        \"api_version\": os.environ['AZURE_OPENAI_API_VERSION']\n",
    "    },\n",
    "    {\n",
    "        'model': os.environ['GPT4-1106-128k'],\n",
    "        'api_key': os.environ['AZURE_OPENAI_API_KEY'],\n",
    "        \"base_url\": os.environ['AZURE_OPENAI_ENDPOINT'],\n",
    "        \"api_type\": os.environ['OPENAI_API_TYPE'],\n",
    "        \"api_version\": os.environ['AZURE_OPENAI_API_VERSION']\n",
    "    },\n",
    "    {\n",
    "        'model': os.environ['GPT432-0613-32k'],\n",
    "        'api_key': os.environ['AZURE_OPENAI_API_KEY'],\n",
    "        \"base_url\": os.environ['AZURE_OPENAI_ENDPOINT'],\n",
    "        \"api_type\": os.environ['OPENAI_API_TYPE'],\n",
    "        \"api_version\": os.environ['AZURE_OPENAI_API_VERSION']\n",
    "    }\n",
    "]\n",
    "\n",
    "# need for converting to string\n",
    "os.environ['models_var'] = json.dumps(my_models)\n",
    "\n",
    "# Setting configurations for autogen\n",
    "config_list = autogen.config_list_from_json(\n",
    "    env_or_file='models_var',\n",
    "    filter_dict={\n",
    "        \"model\": {\"gpt4-0125preview-128k\", \"gpt-4\"}\n",
    "    }\n",
    ")\n",
    "\n",
    "config_list"
   ]
  },
  {
   "cell_type": "code",
   "execution_count": null,
   "id": "7f1a8783-225e-4eb4-a5d3-5952da7dc102",
   "metadata": {},
   "outputs": [],
   "source": [
    "# Setting configurations for autogen\n",
    "config_list = autogen.config_list_from_json(\n",
    "    env_or_file='models_list.json',\n",
    "    filter_dict={ \"model\": {\"gpt4-0125preview-128k\", \"gpt-4\"} }\n",
    ")\n",
    "\n",
    "config_list"
   ]
  },
  {
   "cell_type": "code",
   "execution_count": null,
   "id": "7d5924d5-ae66-4e9f-8bbb-d9603bda0c68",
   "metadata": {},
   "outputs": [],
   "source": [
    "llm_config={\n",
    "        \"cache_seed\": cache_seed,  # seed for caching and reproducibility\n",
    "        \"config_list\": config_list,  # a list of OpenAI API configurations\n",
    "        \"temperature\": 0,  # temperature for sampling\n",
    "    }\n",
    "\n",
    "llm_config"
   ]
  },
  {
   "cell_type": "code",
   "execution_count": null,
   "id": "14c6c8c9",
   "metadata": {},
   "outputs": [],
   "source": [
    "# create a UserProxyAgent instance named \"user_proxy\"\n",
    "\n",
    "user_proxy = autogen.UserProxyAgent(\n",
    "    name                       = \"user_proxy\",\n",
    "    human_input_mode           = \"NEVER\", # NEVER / ALWAYS / TERMINATE\n",
    "    max_consecutive_auto_reply = 10,\n",
    "\n",
    "    # if the x[\"content\"] ends by \"TERMINATE\", is_termination_msg-->True; otherwise, is_termination_msg--> False\n",
    "    is_termination_msg         = lambda x: x.get(\"content\", \"\").rstrip().endswith(\"TERMINATE\"),\n",
    "    \n",
    "    code_execution_config = {\n",
    "        \"work_dir\": \"coding\",\n",
    "        \n",
    "        # Using docker is safer than running the generated code directly.\n",
    "        # set use_docker=True if docker is available to run the generated code. \n",
    "        \"use_docker\": False\n",
    "    },\n",
    "    \n",
    "    llm_config=llm_config\n",
    ")\n",
    "\n",
    "user_proxy"
   ]
  },
  {
   "cell_type": "code",
   "execution_count": null,
   "id": "00bf4dff",
   "metadata": {},
   "outputs": [],
   "source": [
    "# create an AssistantAgent named \"assistant\"\n",
    "\n",
    "assistant = autogen.AssistantAgent(\n",
    "    name       = \"assistant\",\n",
    "    llm_config = llm_config\n",
    ")\n",
    "\n",
    "assistant"
   ]
  },
  {
   "cell_type": "code",
   "execution_count": null,
   "id": "144644e0",
   "metadata": {},
   "outputs": [],
   "source": [
    "%%time\n",
    "# the assistant receives a message from the user_proxy, which contains the task description in the \"message\" field\n",
    "\n",
    "chat_res = user_proxy.initiate_chat(\n",
    "    assistant,\n",
    "    message = \"\"\"What date is today? Compare the year-to-date gain for META and TESLA.\"\"\",\n",
    "    summary_method = \"reflection_with_llm\",\n",
    ")"
   ]
  },
  {
   "cell_type": "code",
   "execution_count": null,
   "id": "52f47deb-1965-4405-9baa-abbcd5e5eb80",
   "metadata": {},
   "outputs": [],
   "source": [
    "%%time\n",
    "\n",
    "# followup of the previous question, if needed\n",
    "user_proxy.send(\n",
    "    recipient=assistant,\n",
    "    message=\"\"\"Please try again and use another way to gather the stock price. For example, use yfinance.\"\"\",\n",
    ")"
   ]
  },
  {
   "cell_type": "code",
   "execution_count": null,
   "id": "72e3b143",
   "metadata": {},
   "outputs": [],
   "source": [
    "# autogen.Completion.clear_cache(seed=cache_seed)"
   ]
  },
  {
   "cell_type": "code",
   "execution_count": null,
   "id": "e2fda647-042b-454a-ad78-bf921c63857a",
   "metadata": {
    "scrolled": true
   },
   "outputs": [],
   "source": [
    "i = 1\n",
    "for cr in chat_res.chat_history:\n",
    "    print(f'Step {i} --> {cr[\"content\"].rstrip()[-9:]}')\n",
    "    i=i+1"
   ]
  },
  {
   "cell_type": "code",
   "execution_count": null,
   "id": "728d55c9-2180-4148-8278-0b4d411eef0c",
   "metadata": {},
   "outputs": [],
   "source": [
    "# read the content of the cache\n",
    "\n",
    "import sqlite3\n",
    "\n",
    "# Connect to the SQLite database\n",
    "conn = sqlite3.connect(f'./.cache/{cache_seed}/cache.db')\n",
    "\n",
    "# Create a cursor object\n",
    "cur = conn.cursor()\n",
    "\n",
    "# List all tables in the database\n",
    "cur.execute(\"SELECT name FROM sqlite_master WHERE type='table';\")\n",
    "print(f\"Tables in this DB: {cur.fetchall()}\\n\")\n",
    "\n",
    "# Execute a query\n",
    "cur.execute(\"SELECT * FROM Cache\")\n",
    "\n",
    "# Fetch and print the results\n",
    "for row in cur.fetchall():\n",
    "    print(row)\n",
    "\n",
    "# Close the connection\n",
    "conn.close()"
   ]
  },
  {
   "cell_type": "code",
   "execution_count": null,
   "id": "2d6215b3-9bb9-4db9-81fb-bfae1a97ae14",
   "metadata": {},
   "outputs": [],
   "source": [
    "%%time\n",
    "\n",
    "# followup of the previous question\n",
    "user_proxy.send(\n",
    "    recipient=assistant,\n",
    "    message=\"\"\"Plot a chart of their stock price change YTD. Save the data to stock_price_ytd.csv, and save the plot to stock_price_ytd.png.\"\"\",\n",
    ")"
   ]
  },
  {
   "cell_type": "code",
   "execution_count": null,
   "id": "38b49710-fbb7-4196-9392-fdfdc7877d77",
   "metadata": {},
   "outputs": [],
   "source": [
    "from IPython.display import display, Image\n",
    "\n",
    "try:\n",
    "    image = Image(filename=\"coding/stock_price_ytd.png\")\n",
    "    display(image)\n",
    "except FileNotFoundError:\n",
    "    print(\"Image not found. Please check the file name and modify if necessary.\")"
   ]
  }
 ],
 "metadata": {
  "kernelspec": {
   "display_name": "autogen",
   "language": "python",
   "name": "autogen"
  },
  "language_info": {
   "codemirror_mode": {
    "name": "ipython",
    "version": 3
   },
   "file_extension": ".py",
   "mimetype": "text/x-python",
   "name": "python",
   "nbconvert_exporter": "python",
   "pygments_lexer": "ipython3",
   "version": "3.11.8"
  }
 },
 "nbformat": 4,
 "nbformat_minor": 5
}
