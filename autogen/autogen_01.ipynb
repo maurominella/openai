{
 "cells": [
  {
   "cell_type": "code",
   "execution_count": 1,
   "id": "5d71f17c",
   "metadata": {},
   "outputs": [
    {
     "data": {
      "text/plain": [
       "[{'model': 'gpt4-0125preview-128k',\n",
       "  'api_key': '5948e5b2b4a146cba9940adb3308d731',\n",
       "  'base_url': 'https://mmopenaiscus.openai.azure.com/',\n",
       "  'api_type': 'azure',\n",
       "  'api_version': '2024-02-15-preview'}]"
      ]
     },
     "execution_count": 1,
     "metadata": {},
     "output_type": "execute_result"
    }
   ],
   "source": [
    "import autogen, os\n",
    "import json\n",
    "from dotenv import load_dotenv\n",
    "\n",
    "load_dotenv(\"./../credentials_my.env\")\n",
    "\n",
    "cache_seed = 41 # default seed is 41\n",
    "\n",
    "\n",
    "my_models = [\n",
    "    {\n",
    "        'model': os.environ['GPT4-1106-128k'],\n",
    "        'api_key': os.environ['AZURE_OPENAI_API_KEY'],\n",
    "        \"base_url\": os.environ['AZURE_OPENAI_ENDPOINT'],\n",
    "        \"api_type\": os.environ['OPENAI_API_TYPE'],\n",
    "        \"api_version\": os.environ['AZURE_OPENAI_API_VERSION']\n",
    "    },\n",
    "    {\n",
    "        'model': os.environ['GPT432-0613-32k'],\n",
    "        'api_key': os.environ['AZURE_OPENAI_API_KEY'],\n",
    "        \"base_url\": os.environ['AZURE_OPENAI_ENDPOINT'],\n",
    "        \"api_type\": os.environ['OPENAI_API_TYPE'],\n",
    "        \"api_version\": os.environ['AZURE_OPENAI_API_VERSION']\n",
    "    },\n",
    "    {\n",
    "        'model': os.environ['GPT4-0125PREVIEW-128k'],\n",
    "        'api_key': os.environ['AZURE_OPENAI_API_KEY_SCUS'],\n",
    "        \"base_url\": os.environ['AZURE_OPENAI_ENDPOINT_SCUS'],\n",
    "        \"api_type\": os.environ['OPENAI_API_TYPE'],\n",
    "        \"api_version\": os.environ['AZURE_OPENAI_API_VERSION']\n",
    "    }\n",
    "]\n",
    "\n",
    "# need for converting to string\n",
    "os.environ['models_var'] = json.dumps(my_models)\n",
    "\n",
    "# Setting configurations for autogen\n",
    "config_list = autogen.config_list_from_json(\n",
    "    env_or_file='models_var',\n",
    "    filter_dict={\n",
    "        \"model\": {\n",
    "            \"gpt4-0125preview-128k\"\n",
    "        }\n",
    "    }\n",
    ")\n",
    "\n",
    "config_list"
   ]
  },
  {
   "cell_type": "code",
   "execution_count": 2,
   "id": "14c6c8c9",
   "metadata": {},
   "outputs": [
    {
     "data": {
      "text/plain": [
       "<autogen.agentchat.user_proxy_agent.UserProxyAgent at 0x7f5e7b42dc10>"
      ]
     },
     "execution_count": 2,
     "metadata": {},
     "output_type": "execute_result"
    }
   ],
   "source": [
    "# create a UserProxyAgent instance named \"user_proxy\"\n",
    "\n",
    "user_proxy = autogen.UserProxyAgent(\n",
    "    name                       = \"user_proxy\",\n",
    "    human_input_mode           = \"NEVER\", # NEVER / ALWAYS / TERMINATE\n",
    "    max_consecutive_auto_reply = 10,\n",
    "\n",
    "    # if the x[\"content\"] ends by \"TERMINATE\", is_termination_msg-->True; otherwise, is_termination_msg--> False\n",
    "    is_termination_msg=lambda x: x.get(\"content\", \"\").rstrip().endswith(\"TERMINATE\"),\n",
    "    \n",
    "    code_execution_config = {\n",
    "        \"work_dir\": \"coding\",\n",
    "        \n",
    "        # Using docker is safer than running the generated code directly.\n",
    "        # set use_docker=True if docker is available to run the generated code. \n",
    "        \"use_docker\": False\n",
    "    }\n",
    ")\n",
    "\n",
    "user_proxy"
   ]
  },
  {
   "cell_type": "code",
   "execution_count": 3,
   "id": "00bf4dff",
   "metadata": {},
   "outputs": [
    {
     "data": {
      "text/plain": [
       "<autogen.agentchat.assistant_agent.AssistantAgent at 0x7f5ebc3bfef0>"
      ]
     },
     "execution_count": 3,
     "metadata": {},
     "output_type": "execute_result"
    }
   ],
   "source": [
    "# create an AssistantAgent named \"assistant\"\n",
    "\n",
    "assistant = autogen.AssistantAgent(\n",
    "    name=\"assistant\",\n",
    "    llm_config={\n",
    "        \"cache_seed\": cache_seed,  # seed for caching and reproducibility\n",
    "        \"config_list\": config_list,  # a list of OpenAI API configurations\n",
    "        \"temperature\": 0,  # temperature for sampling\n",
    "    },  # configuration for autogen's enhanced inference API which is compatible with OpenAI API\n",
    ")\n",
    "\n",
    "assistant"
   ]
  },
  {
   "cell_type": "code",
   "execution_count": 4,
   "id": "144644e0",
   "metadata": {},
   "outputs": [
    {
     "name": "stdout",
     "output_type": "stream",
     "text": [
      "\u001b[33muser_proxy\u001b[0m (to assistant):\n",
      "\n",
      "What date is today? Compare the year-to-date gain for META and TESLA.\n",
      "\n",
      "--------------------------------------------------------------------------------\n",
      "\u001b[33massistant\u001b[0m (to user_proxy):\n",
      "\n",
      "First, let's find out today's date using Python. After that, we will proceed to compare the year-to-date (YTD) gain for META (Facebook's parent company, Meta Platforms, Inc.) and TESLA (Tesla, Inc.).\n",
      "\n",
      "```python\n",
      "from datetime import datetime\n",
      "\n",
      "# Get today's date\n",
      "today = datetime.now()\n",
      "\n",
      "print(f\"Today's date is: {today.strftime('%Y-%m-%d')}\")\n",
      "```\n",
      "\n",
      "Please execute this code to get today's date. After that, we will move on to the next step of comparing the YTD gains for META and TESLA.\n",
      "\n",
      "--------------------------------------------------------------------------------\n",
      "\u001b[31m\n",
      ">>>>>>>> EXECUTING CODE BLOCK 0 (inferred language is python)...\u001b[0m\n",
      "\u001b[33muser_proxy\u001b[0m (to assistant):\n",
      "\n",
      "exitcode: 0 (execution succeeded)\n",
      "Code output: \n",
      "Today's date is: 2024-03-28\n",
      "\n",
      "\n",
      "--------------------------------------------------------------------------------\n",
      "\u001b[33massistant\u001b[0m (to user_proxy):\n",
      "\n",
      "Great! Today's date is 2024-03-28.\n",
      "\n",
      "Next, to compare the year-to-date (YTD) gain for META (Meta Platforms, Inc.) and TESLA (Tesla, Inc.), we need to fetch their stock prices from the beginning of the year until today. We can use financial APIs like Yahoo Finance or Alpha Vantage for this purpose. However, since executing API calls or web scraping directly might not be feasible here, I'll guide you through a Python code snippet that uses the `yfinance` library to fetch this data. This library simplifies the process of downloading historical market data from Yahoo Finance.\n",
      "\n",
      "First, you need to ensure `yfinance` is installed. If it's not installed, you can install it using pip:\n",
      "\n",
      "```sh\n",
      "pip install yfinance\n",
      "```\n",
      "\n",
      "After installing `yfinance`, execute the following Python code to fetch the YTD gain for META and TESLA:\n",
      "\n",
      "```python\n",
      "# filename: ytd_comparison.py\n",
      "import yfinance as yf\n",
      "\n",
      "def fetch_ytd_gain(ticker):\n",
      "    # Fetch historical data from the start of the year until today\n",
      "    stock_data = yf.download(ticker, start='2024-01-01', end='2024-03-28')\n",
      "    \n",
      "    # Calculate the YTD gain\n",
      "    if not stock_data.empty:\n",
      "        start_price = stock_data['Open'].iloc[0]\n",
      "        end_price = stock_data['Close'].iloc[-1]\n",
      "        ytd_gain = ((end_price - start_price) / start_price) * 100\n",
      "    else:\n",
      "        ytd_gain = None\n",
      "    \n",
      "    return ytd_gain\n",
      "\n",
      "# Tickers for Meta Platforms, Inc. and Tesla, Inc.\n",
      "tickers = ['META', 'TSLA']\n",
      "\n",
      "# Fetch and print YTD gains\n",
      "for ticker in tickers:\n",
      "    ytd_gain = fetch_ytd_gain(ticker)\n",
      "    if ytd_gain is not None:\n",
      "        print(f\"{ticker} YTD Gain: {ytd_gain:.2f}%\")\n",
      "    else:\n",
      "        print(f\"Could not fetch data for {ticker}\")\n",
      "\n",
      "```\n",
      "\n",
      "This script will download the stock data for META and TESLA from the beginning of 2024 until today, calculate the YTD gain for each, and print the results. Please execute this script and share the output.\n",
      "\n",
      "--------------------------------------------------------------------------------\n",
      "\u001b[31m\n",
      ">>>>>>>> EXECUTING CODE BLOCK 0 (inferred language is sh)...\u001b[0m\n",
      "\u001b[31m\n",
      ">>>>>>>> EXECUTING CODE BLOCK 1 (inferred language is python)...\u001b[0m\n",
      "\u001b[33muser_proxy\u001b[0m (to assistant):\n",
      "\n",
      "exitcode: 0 (execution succeeded)\n",
      "Code output: \n",
      "Requirement already satisfied: yfinance in /home/mauromi/miniconda3/envs/autogen/lib/python3.12/site-packages (0.2.37)\n",
      "Requirement already satisfied: pandas>=1.3.0 in /home/mauromi/miniconda3/envs/autogen/lib/python3.12/site-packages (from yfinance) (2.2.1)\n",
      "Requirement already satisfied: numpy>=1.16.5 in /home/mauromi/miniconda3/envs/autogen/lib/python3.12/site-packages (from yfinance) (1.26.4)\n",
      "Requirement already satisfied: requests>=2.31 in /home/mauromi/miniconda3/envs/autogen/lib/python3.12/site-packages (from yfinance) (2.31.0)\n",
      "Requirement already satisfied: multitasking>=0.0.7 in /home/mauromi/miniconda3/envs/autogen/lib/python3.12/site-packages (from yfinance) (0.0.11)\n",
      "Requirement already satisfied: lxml>=4.9.1 in /home/mauromi/miniconda3/envs/autogen/lib/python3.12/site-packages (from yfinance) (5.1.0)\n",
      "Requirement already satisfied: appdirs>=1.4.4 in /home/mauromi/miniconda3/envs/autogen/lib/python3.12/site-packages (from yfinance) (1.4.4)\n",
      "Requirement already satisfied: pytz>=2022.5 in /home/mauromi/miniconda3/envs/autogen/lib/python3.12/site-packages (from yfinance) (2024.1)\n",
      "Requirement already satisfied: frozendict>=2.3.4 in /home/mauromi/miniconda3/envs/autogen/lib/python3.12/site-packages (from yfinance) (2.4.0)\n",
      "Requirement already satisfied: peewee>=3.16.2 in /home/mauromi/miniconda3/envs/autogen/lib/python3.12/site-packages (from yfinance) (3.17.1)\n",
      "Requirement already satisfied: beautifulsoup4>=4.11.1 in /home/mauromi/miniconda3/envs/autogen/lib/python3.12/site-packages (from yfinance) (4.12.3)\n",
      "Requirement already satisfied: html5lib>=1.1 in /home/mauromi/miniconda3/envs/autogen/lib/python3.12/site-packages (from yfinance) (1.1)\n",
      "Requirement already satisfied: soupsieve>1.2 in /home/mauromi/miniconda3/envs/autogen/lib/python3.12/site-packages (from beautifulsoup4>=4.11.1->yfinance) (2.5)\n",
      "Requirement already satisfied: six>=1.9 in /home/mauromi/miniconda3/envs/autogen/lib/python3.12/site-packages (from html5lib>=1.1->yfinance) (1.16.0)\n",
      "Requirement already satisfied: webencodings in /home/mauromi/miniconda3/envs/autogen/lib/python3.12/site-packages (from html5lib>=1.1->yfinance) (0.5.1)\n",
      "Requirement already satisfied: python-dateutil>=2.8.2 in /home/mauromi/miniconda3/envs/autogen/lib/python3.12/site-packages (from pandas>=1.3.0->yfinance) (2.9.0.post0)\n",
      "Requirement already satisfied: tzdata>=2022.7 in /home/mauromi/miniconda3/envs/autogen/lib/python3.12/site-packages (from pandas>=1.3.0->yfinance) (2024.1)\n",
      "Requirement already satisfied: charset-normalizer<4,>=2 in /home/mauromi/miniconda3/envs/autogen/lib/python3.12/site-packages (from requests>=2.31->yfinance) (3.3.2)\n",
      "Requirement already satisfied: idna<4,>=2.5 in /home/mauromi/miniconda3/envs/autogen/lib/python3.12/site-packages (from requests>=2.31->yfinance) (3.6)\n",
      "Requirement already satisfied: urllib3<3,>=1.21.1 in /home/mauromi/miniconda3/envs/autogen/lib/python3.12/site-packages (from requests>=2.31->yfinance) (2.2.1)\n",
      "Requirement already satisfied: certifi>=2017.4.17 in /home/mauromi/miniconda3/envs/autogen/lib/python3.12/site-packages (from requests>=2.31->yfinance) (2024.2.2)\n",
      "\n",
      "META YTD Gain: 40.57%\n",
      "TSLA YTD Gain: -28.09%\n",
      "\n",
      "\n",
      "--------------------------------------------------------------------------------\n",
      "\u001b[33massistant\u001b[0m (to user_proxy):\n",
      "\n",
      "Based on the executed code and the data fetched from Yahoo Finance, here are the year-to-date (YTD) gains for META (Meta Platforms, Inc.) and TESLA (Tesla, Inc.) as of 2024-03-28:\n",
      "\n",
      "- **META (Meta Platforms, Inc.):** YTD Gain of **40.57%**\n",
      "- **TSLA (Tesla, Inc.):** YTD Gain of **-28.09%**\n",
      "\n",
      "This indicates that so far in 2024, Meta Platforms, Inc. (META) has experienced a significant positive gain in its stock price, while Tesla, Inc. (TSLA) has seen a decrease in its stock price.\n",
      "\n",
      "TERMINATE\n",
      "\n",
      "--------------------------------------------------------------------------------\n",
      "CPU times: user 131 ms, sys: 50.6 ms, total: 182 ms\n",
      "Wall time: 1min 54s\n"
     ]
    }
   ],
   "source": [
    "%%time\n",
    "# the assistant receives a message from the user_proxy, which contains the task description\n",
    "\n",
    "\n",
    "chat_res = user_proxy.initiate_chat(\n",
    "    assistant,\n",
    "    message=\"\"\"What date is today? Compare the year-to-date gain for META and TESLA.\"\"\",\n",
    "    summary_method=\"reflection_with_llm\",\n",
    ")"
   ]
  },
  {
   "cell_type": "code",
   "execution_count": 5,
   "id": "72e3b143",
   "metadata": {},
   "outputs": [],
   "source": [
    "# autogen.Completion.clear_cache(seed=cache_seed)"
   ]
  },
  {
   "cell_type": "code",
   "execution_count": 6,
   "id": "e2fda647-042b-454a-ad78-bf921c63857a",
   "metadata": {},
   "outputs": [
    {
     "name": "stdout",
     "output_type": "stream",
     "text": [
      "1 nd TESLA.\n",
      "2 nd TESLA.\n",
      "3 024-03-28\n",
      "4 e output.\n",
      "5 : -28.09%\n",
      "6 TERMINATE\n"
     ]
    }
   ],
   "source": [
    "i=1\n",
    "for cr in chat_res.chat_history:\n",
    "    print(i, cr[\"content\"].rstrip()[-9:])\n",
    "    i=i+1"
   ]
  }
 ],
 "metadata": {
  "kernelspec": {
   "display_name": "Python 3 (ipykernel)",
   "language": "python",
   "name": "python3"
  },
  "language_info": {
   "codemirror_mode": {
    "name": "ipython",
    "version": 3
   },
   "file_extension": ".py",
   "mimetype": "text/x-python",
   "name": "python",
   "nbconvert_exporter": "python",
   "pygments_lexer": "ipython3",
   "version": "3.12.2"
  }
 },
 "nbformat": 4,
 "nbformat_minor": 5
}
