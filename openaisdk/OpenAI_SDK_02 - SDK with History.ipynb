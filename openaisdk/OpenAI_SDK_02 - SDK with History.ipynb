{
 "cells": [
  {
   "cell_type": "markdown",
   "id": "c830d3aa-4ece-4442-a6ed-e4eede249f60",
   "metadata": {},
   "source": [
    "# Constants and Libraries"
   ]
  },
  {
   "cell_type": "code",
   "execution_count": 1,
   "id": "d1fc4086",
   "metadata": {},
   "outputs": [
    {
     "name": "stdout",
     "output_type": "stream",
     "text": [
      "Environment variables have been loaded ;-)\n"
     ]
    }
   ],
   "source": [
    "import os\n",
    "from IPython.display import Markdown, display\n",
    "from dotenv import load_dotenv # requires python-dotenv\n",
    "from openai import AzureOpenAI\n",
    "\n",
    "if not load_dotenv(\"./../../config/credentials_my.env\"):\n",
    "    print(\"Environment variables not loaded, cell execution stopped\")\n",
    "print(\"Environment variables have been loaded ;-)\")\n",
    "\n",
    "messages=[\n",
    "    {\n",
    "        \"role\": \"system\",\n",
    "        \"content\": \"You are an AI assistant that helps people find information\"\n",
    "    },\n",
    "    {\n",
    "        \"role\": \"user\",\n",
    "        \"content\": \"Tell me five good names for my new pizzeria\"\n",
    "    }\n",
    "]"
   ]
  },
  {
   "cell_type": "markdown",
   "id": "c51aca5a-5f4f-4025-ab56-c1e29005325b",
   "metadata": {},
   "source": [
    "# Create a client to connecto Azure OpenAI service and deployment"
   ]
  },
  {
   "cell_type": "code",
   "execution_count": 2,
   "id": "c4db54a2",
   "metadata": {},
   "outputs": [
    {
     "name": "stdout",
     "output_type": "stream",
     "text": [
      "client.base_url: https://mmoaiswc-01.openai.azure.com/openai/\n"
     ]
    }
   ],
   "source": [
    "# Create the client\n",
    "client = AzureOpenAI(\n",
    "    # api_key        = os.getenv(\"AZURE_OPENAI_API_KEY\"),  \n",
    "    # api_version    = os.getenv(\"AZURE_OPENAI_API_VERSION\"), # at least 2024-02-15-preview\n",
    "    # azure_endpoint = os.getenv(\"AZURE_OPENAI_ENDPOINT\")\n",
    ")\n",
    "print(f\"client.base_url: {client.base_url}\")"
   ]
  },
  {
   "cell_type": "markdown",
   "id": "12374e90-a6f0-4710-abd7-8745ee4115d0",
   "metadata": {},
   "source": [
    "# Invoke The deployment and return the first answer"
   ]
  },
  {
   "cell_type": "code",
   "execution_count": 3,
   "id": "a7b72675",
   "metadata": {},
   "outputs": [
    {
     "data": {
      "text/markdown": [
       "Choosing a name for your pizzeria can help establish the atmosphere and brand identity you want to convey. Here are five ideas:\n",
       "\n",
       "1. **Crust & Craft Pizzeria** - Emphasizes the artisanal aspect, focusing on quality ingredients and craftsmanship.\n",
       "\n",
       "2. **Slice of Heaven** - Gives a playful nod to delicious, indulgent pizzas that make customers feel on cloud nine.\n",
       "\n",
       "3. **Bella Napoli Pizza Co.** - Captures the essence of traditional Italian pizza from Naples, appealing to authenticity.\n",
       "\n",
       "4. **The Pizza Lab** - Appeals to innovation and creativity, suggesting unique and experimental pizza offerings.\n",
       "\n",
       "5. **Pepperoni & Co.** - Simple yet effective, highlighting one of the most popular pizza toppings, while also suggesting a variety of offerings. \n",
       "\n",
       "Consider which elements of your business you want to highlight, such as tradition, innovation, or specific tastes, to find a name that best resonates with your vision."
      ],
      "text/plain": [
       "<IPython.core.display.Markdown object>"
      ]
     },
     "metadata": {},
     "output_type": "display_data"
    }
   ],
   "source": [
    "# Invoke the model through the Client\n",
    "\n",
    "response = client.chat.completions.create(\n",
    "    model    = os.getenv(\"MODEL_DEPLOYMENT_NAME\"),\n",
    "    messages = messages)\n",
    "\n",
    "display(Markdown(response.choices[0].message.content))"
   ]
  },
  {
   "cell_type": "markdown",
   "id": "6ab93024-37d3-49a2-9dfa-2af372a7b48b",
   "metadata": {},
   "source": [
    "# Append the answer to the list of messages"
   ]
  },
  {
   "cell_type": "code",
   "execution_count": 4,
   "id": "78613e21",
   "metadata": {},
   "outputs": [
    {
     "data": {
      "text/plain": [
       "[{'role': 'system',\n",
       "  'content': 'You are an AI assistant that helps people find information'},\n",
       " {'role': 'user', 'content': 'Tell me five good names for my new pizzeria'},\n",
       " {'role': 'system',\n",
       "  'content': 'Choosing a name for your pizzeria can help establish the atmosphere and brand identity you want to convey. Here are five ideas:\\n\\n1. **Crust & Craft Pizzeria** - Emphasizes the artisanal aspect, focusing on quality ingredients and craftsmanship.\\n\\n2. **Slice of Heaven** - Gives a playful nod to delicious, indulgent pizzas that make customers feel on cloud nine.\\n\\n3. **Bella Napoli Pizza Co.** - Captures the essence of traditional Italian pizza from Naples, appealing to authenticity.\\n\\n4. **The Pizza Lab** - Appeals to innovation and creativity, suggesting unique and experimental pizza offerings.\\n\\n5. **Pepperoni & Co.** - Simple yet effective, highlighting one of the most popular pizza toppings, while also suggesting a variety of offerings. \\n\\nConsider which elements of your business you want to highlight, such as tradition, innovation, or specific tastes, to find a name that best resonates with your vision.'}]"
      ]
     },
     "execution_count": 4,
     "metadata": {},
     "output_type": "execute_result"
    }
   ],
   "source": [
    "messages.append({\"role\": \"system\", \"content\": response.choices[0].message.content})\n",
    "messages"
   ]
  },
  {
   "cell_type": "markdown",
   "id": "ce78cae6-629b-47bb-8286-c0697c89627d",
   "metadata": {},
   "source": [
    "# Append another question as a new message to the messages, and invoke the LLM again"
   ]
  },
  {
   "cell_type": "code",
   "execution_count": 5,
   "id": "7a8bae7b",
   "metadata": {},
   "outputs": [
    {
     "data": {
      "text/markdown": [
       "Voici cinq suggestions de noms pour votre nouvelle pizzeria :\n",
       "\n",
       "1. **Croûte & Art Pizzeria** - Mets en avant l'aspect artisanal, en soulignant la qualité des ingrédients et le savoir-faire.\n",
       "\n",
       "2. **Tranche de Paradis** - Fait un clin d'œil ludique aux pizzas délicieuses et gourmandes qui enchantent les clients.\n",
       "\n",
       "3. **Bella Napoli Pizza Co.** - Capture l'essence de la pizza italienne traditionnelle de Naples, attirant ceux qui recherchent l'authenticité.\n",
       "\n",
       "4. **Le Laboratoire de la Pizza** - Attire l'attention sur l'innovation et la créativité, suggérant des pizzas uniques et expérimentales.\n",
       "\n",
       "5. **Pepperoni & Cie** - Simple mais efficace, mettant en avant l'un des garnitures de pizza les plus populaires, tout en suggérant une variété d'offres.\n",
       "\n",
       "Réfléchissez aux éléments de votre entreprise que vous souhaitez mettre en avant, tels que la tradition, l'innovation ou les goûts spécifiques, pour trouver un nom qui résonne avec votre vision."
      ],
      "text/plain": [
       "<IPython.core.display.Markdown object>"
      ]
     },
     "metadata": {},
     "output_type": "display_data"
    }
   ],
   "source": [
    "messages.append({\"role\": \"user\", \"content\": \"answer in French, please\"})\n",
    "\n",
    "response = client.chat.completions.create(\n",
    "    model    = os.getenv(\"MODEL_DEPLOYMENT_NAME\"),\n",
    "    messages = messages)\n",
    "\n",
    "display(Markdown(response.choices[0].message.content))"
   ]
  }
 ],
 "metadata": {
  "kernelspec": {
   "display_name": "aaas_new",
   "language": "python",
   "name": "aaas_new"
  },
  "language_info": {
   "codemirror_mode": {
    "name": "ipython",
    "version": 3
   },
   "file_extension": ".py",
   "mimetype": "text/x-python",
   "name": "python",
   "nbconvert_exporter": "python",
   "pygments_lexer": "ipython3",
   "version": "3.13.2"
  }
 },
 "nbformat": 4,
 "nbformat_minor": 5
}
