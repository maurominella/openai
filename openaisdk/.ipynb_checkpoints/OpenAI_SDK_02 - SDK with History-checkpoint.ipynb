{
 "cells": [
  {
   "cell_type": "markdown",
   "id": "c830d3aa-4ece-4442-a6ed-e4eede249f60",
   "metadata": {},
   "source": [
    "# Constants and Libraries"
   ]
  },
  {
   "cell_type": "code",
   "execution_count": 1,
   "id": "d1fc4086",
   "metadata": {},
   "outputs": [
    {
     "name": "stdout",
     "output_type": "stream",
     "text": [
      "Environment variables have been loaded ;-)\n"
     ]
    }
   ],
   "source": [
    "import os\n",
    "from IPython.display import Markdown, display\n",
    "from dotenv import load_dotenv # requires python-dotenv\n",
    "from openai import AzureOpenAI\n",
    "\n",
    "if not load_dotenv(\"./../../config/credentials_my.env\"):\n",
    "    print(\"Environment variables not loaded, cell execution stopped\")\n",
    "print(\"Environment variables have been loaded ;-)\")\n",
    "\n",
    "messages=[\n",
    "    {\n",
    "        \"role\": \"system\",\n",
    "        \"content\": \"You are an AI assistant that helps people find information\"\n",
    "    },\n",
    "    {\n",
    "        \"role\": \"user\",\n",
    "        \"content\": \"Tell me five good names for my new pizzeria\"\n",
    "    }\n",
    "]"
   ]
  },
  {
   "cell_type": "markdown",
   "id": "c51aca5a-5f4f-4025-ab56-c1e29005325b",
   "metadata": {},
   "source": [
    "# Create a client to connecto Azure OpenAI service and deployment"
   ]
  },
  {
   "cell_type": "code",
   "execution_count": 2,
   "id": "c4db54a2",
   "metadata": {},
   "outputs": [
    {
     "name": "stdout",
     "output_type": "stream",
     "text": [
      "client.base_url: https://mmoaiswc-01.openai.azure.com/openai/\n"
     ]
    }
   ],
   "source": [
    "# Create the client\n",
    "client = AzureOpenAI(\n",
    "    # api_key        = os.getenv(\"AZURE_OPENAI_API_KEY\"),  \n",
    "    # api_version    = os.getenv(\"AZURE_OPENAI_API_VERSION\"), # at least 2024-02-15-preview\n",
    "    # azure_endpoint = os.getenv(\"AZURE_OPENAI_ENDPOINT\")\n",
    ")\n",
    "print(f\"client.base_url: {client.base_url}\")"
   ]
  },
  {
   "cell_type": "markdown",
   "id": "12374e90-a6f0-4710-abd7-8745ee4115d0",
   "metadata": {},
   "source": [
    "# Invoke The deployment and return the first answer"
   ]
  },
  {
   "cell_type": "code",
   "execution_count": 3,
   "id": "a7b72675",
   "metadata": {},
   "outputs": [
    {
     "data": {
      "text/markdown": [
       "Certainly! Here are five ideas for pizzeria names:\n",
       "\n",
       "1. **Slice of Heaven**: This name conveys deliciousness and quality, suggesting that your pizzas are heavenly.\n",
       "\n",
       "2. **Fire & Dough**: A nod to the pizza-making process that emphasizes the artisanal nature of your pizzas.\n",
       "\n",
       "3. **Crust & Crave**: Combines two key aspects of pizza: the crust and the irresistible craving it creates.\n",
       "\n",
       "4. **The Dough Knot**: A playful name that incorporates a common element in pizza making while suggesting a cozy and welcoming atmosphere.\n",
       "\n",
       "5. **Rolling Stones Pizza**: A fun, catchy name that plays on the idea of rolling out pizza dough, with a hint of rock 'n' roll flair.\n",
       "\n",
       "Feel free to mix and match elements or modify these suggestions to better suit your vision for the pizzeria!"
      ],
      "text/plain": [
       "<IPython.core.display.Markdown object>"
      ]
     },
     "metadata": {},
     "output_type": "display_data"
    }
   ],
   "source": [
    "# Invoke the model through the Client\n",
    "\n",
    "response = client.chat.completions.create(\n",
    "    model    = os.getenv(\"MODEL_DEPLOYMENT_NAME\"),\n",
    "    messages = messages)\n",
    "\n",
    "display(Markdown(response.choices[0].message.content))"
   ]
  },
  {
   "cell_type": "markdown",
   "id": "6ab93024-37d3-49a2-9dfa-2af372a7b48b",
   "metadata": {},
   "source": [
    "# Append the answer to the list of messages"
   ]
  },
  {
   "cell_type": "code",
   "execution_count": 4,
   "id": "78613e21",
   "metadata": {},
   "outputs": [
    {
     "data": {
      "text/plain": [
       "[{'role': 'system',\n",
       "  'content': 'You are an AI assistant that helps people find information'},\n",
       " {'role': 'user', 'content': 'Tell me five good names for my new pizzeria'},\n",
       " {'role': 'system',\n",
       "  'content': \"Certainly! Here are five ideas for pizzeria names:\\n\\n1. **Slice of Heaven**: This name conveys deliciousness and quality, suggesting that your pizzas are heavenly.\\n\\n2. **Fire & Dough**: A nod to the pizza-making process that emphasizes the artisanal nature of your pizzas.\\n\\n3. **Crust & Crave**: Combines two key aspects of pizza: the crust and the irresistible craving it creates.\\n\\n4. **The Dough Knot**: A playful name that incorporates a common element in pizza making while suggesting a cozy and welcoming atmosphere.\\n\\n5. **Rolling Stones Pizza**: A fun, catchy name that plays on the idea of rolling out pizza dough, with a hint of rock 'n' roll flair.\\n\\nFeel free to mix and match elements or modify these suggestions to better suit your vision for the pizzeria!\"}]"
      ]
     },
     "execution_count": 4,
     "metadata": {},
     "output_type": "execute_result"
    }
   ],
   "source": [
    "messages.append({\"role\": \"system\", \"content\": response.choices[0].message.content})\n",
    "messages"
   ]
  },
  {
   "cell_type": "code",
   "execution_count": 5,
   "id": "1afe89de-b5fb-4794-9534-8cfb0acfe854",
   "metadata": {},
   "outputs": [],
   "source": [
    "# Append another question as a new message to the messages, and invoke the LLM again"
   ]
  },
  {
   "cell_type": "code",
   "execution_count": 6,
   "id": "7a8bae7b",
   "metadata": {},
   "outputs": [
    {
     "data": {
      "text/markdown": [
       "Bien sûr ! Voici cinq idées de noms pour ta nouvelle pizzeria :\n",
       "\n",
       "1. **Tranche de Paradis** : Ce nom évoque la déliciosité et la qualité, suggérant que tes pizzas sont paradisiaques.\n",
       "\n",
       "2. **Flamme & Pâte** : Un clin d'œil au processus de cuisson de la pizza qui met en avant l’aspect artisanal de tes pizzas.\n",
       "\n",
       "3. **Croûte & Envie** : Combine deux aspects clés de la pizza : la croûte et l’envie irrésistible qu’elle crée.\n",
       "\n",
       "4. **Le Nœud de la Pâte** : Un nom ludique qui intègre un élément courant dans la fabrication de pizzas tout en suggérant une ambiance chaleureuse et accueillante.\n",
       "\n",
       "5. **Les Rouleaux de Pierre** : Un nom amusant et accrocheur qui joue sur l'idée d'étaler la pâte à pizza, avec une touche de flair rock 'n' roll.\n",
       "\n",
       "N’hésite pas à mélanger ou modifier ces propositions pour mieux correspondre à ta vision de la pizzeria !"
      ],
      "text/plain": [
       "<IPython.core.display.Markdown object>"
      ]
     },
     "metadata": {},
     "output_type": "display_data"
    }
   ],
   "source": [
    "messages.append({\"role\": \"user\", \"content\": \"answer in French, please\"})\n",
    "\n",
    "response = client.chat.completions.create(\n",
    "    model    = os.getenv(\"MODEL_DEPLOYMENT_NAME\"),\n",
    "    messages = messages)\n",
    "\n",
    "display(Markdown(response.choices[0].message.content))"
   ]
  }
 ],
 "metadata": {
  "kernelspec": {
   "display_name": "openai",
   "language": "python",
   "name": "openai"
  },
  "language_info": {
   "codemirror_mode": {
    "name": "ipython",
    "version": 3
   },
   "file_extension": ".py",
   "mimetype": "text/x-python",
   "name": "python",
   "nbconvert_exporter": "python",
   "pygments_lexer": "ipython3",
   "version": "3.13.2"
  }
 },
 "nbformat": 4,
 "nbformat_minor": 5
}
