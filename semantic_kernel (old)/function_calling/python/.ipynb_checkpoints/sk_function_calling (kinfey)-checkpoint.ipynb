{
 "cells": [
  {
   "cell_type": "markdown",
   "id": "41af1b7e",
   "metadata": {},
   "source": [
    "# semantic-kernel           0.5.1.dev0"
   ]
  },
  {
   "cell_type": "code",
   "execution_count": 1,
   "id": "bd64c1be",
   "metadata": {},
   "outputs": [],
   "source": [
    "import semantic_kernel as sk\n",
    "from semantic_kernel.connectors.ai.open_ai import AzureChatCompletion"
   ]
  },
  {
   "cell_type": "code",
   "execution_count": 2,
   "id": "e42abb38",
   "metadata": {},
   "outputs": [],
   "source": [
    "from semantic_kernel.connectors.ai.open_ai.semantic_functions.open_ai_chat_prompt_template import (\n",
    "    OpenAIChatPromptTemplate,\n",
    ")\n",
    "from semantic_kernel.connectors.ai.open_ai.utils import (\n",
    "    chat_completion_with_function_call,\n",
    "    get_function_calling_object,\n",
    ")"
   ]
  },
  {
   "cell_type": "code",
   "execution_count": 3,
   "id": "1e42e5e5",
   "metadata": {},
   "outputs": [],
   "source": [
    "kernel = sk.Kernel()\n",
    "deployment, api_key, endpoint = sk.azure_openai_settings_from_dot_env()"
   ]
  },
  {
   "cell_type": "code",
   "execution_count": 4,
   "id": "5a4403ae",
   "metadata": {},
   "outputs": [
    {
     "data": {
      "text/plain": [
       "Kernel(plugins=KernelPluginCollection(plugins={}), prompt_template_engine=PromptTemplateEngine(), memory=NullMemory(), text_completion_services={'azure_chat_competion_service': <function Kernel.add_text_completion_service.<locals>.<lambda> at 0x7f80a4c59cf0>}, chat_services={'azure_chat_competion_service': <function Kernel.add_chat_service.<locals>.<lambda> at 0x7f80a4c59c60>}, text_embedding_generation_services={}, default_text_completion_service='azure_chat_competion_service', default_chat_service='azure_chat_competion_service', default_text_embedding_generation_service=None, retry_mechanism=PassThroughWithoutRetry(), function_invoking_handlers={}, function_invoked_handlers={})"
      ]
     },
     "execution_count": 4,
     "metadata": {},
     "output_type": "execute_result"
    }
   ],
   "source": [
    "kernel.add_chat_service(\"azure_chat_competion_service\", \n",
    "                        AzureChatCompletion(deployment,endpoint,api_key=api_key,api_version = \"2023-12-01-preview\"))"
   ]
  },
  {
   "cell_type": "code",
   "execution_count": 5,
   "id": "8a9ce3f7",
   "metadata": {},
   "outputs": [],
   "source": [
    "tools = [\n",
    "    {\n",
    "        \"type\": \"function\",\n",
    "        \"function\": {\n",
    "            \"name\": \"search_hotels\",\n",
    "            \"description\": \"Retrieves hotels from the search index based on the parameters provided\",\n",
    "            \"parameters\": {\n",
    "                \"type\": \"object\",\n",
    "                \"properties\": {\n",
    "                    \"location\": {\n",
    "                        \"type\": \"string\",\n",
    "                        \"description\": \"The location of the hotel (i.e. Seattle, WA)\"\n",
    "                    },\n",
    "                    \"max_price\": {\n",
    "                        \"type\": \"number\",\n",
    "                        \"description\": \"The maximum price for the hotel\"\n",
    "                    },\n",
    "                    \"features\": {\n",
    "                        \"type\": \"string\",\n",
    "                        \"description\": \"A comma separated list of features (i.e. beachfront, free wifi, etc.)\"\n",
    "                    }\n",
    "                },\n",
    "                \"required\": [\"location\"]\n",
    "            }\n",
    "        },\n",
    "    }\n",
    "]"
   ]
  },
  {
   "cell_type": "code",
   "execution_count": 6,
   "id": "8331fecd",
   "metadata": {},
   "outputs": [],
   "source": [
    "prompt_config = sk.PromptTemplateConfig.from_execution_settings(\n",
    "    max_tokens  = 2000,\n",
    "    temperature = 0.7,\n",
    "    top_p       = 0.8,\n",
    "    tools       = tools,\n",
    "    tool_choice = \"auto\",\n",
    ")"
   ]
  },
  {
   "cell_type": "code",
   "execution_count": 7,
   "id": "95069ec6",
   "metadata": {},
   "outputs": [],
   "source": [
    "prompt_template = OpenAIChatPromptTemplate(\n",
    "    \"{{$user_input}}\", kernel.prompt_template_engine, prompt_config\n",
    ")\n",
    "prompt_template.add_user_message(\"Hi there, who are you?\")\n",
    "prompt_template.add_assistant_message(\n",
    "    \"I am Mosscap, a chat bot. I'm trying to figure out what people need.\"\n",
    ")"
   ]
  },
  {
   "cell_type": "code",
   "execution_count": 8,
   "id": "b8f3b04e",
   "metadata": {},
   "outputs": [],
   "source": [
    "function_config = sk.SemanticFunctionConfig(prompt_config, prompt_template)"
   ]
  },
  {
   "cell_type": "code",
   "execution_count": 9,
   "id": "409cfda5",
   "metadata": {},
   "outputs": [],
   "source": [
    "chat_function = kernel.register_semantic_function(\"ChatBot\", \"Chat\", function_config)"
   ]
  },
  {
   "cell_type": "code",
   "execution_count": 10,
   "id": "c89a13f6",
   "metadata": {},
   "outputs": [],
   "source": [
    "context = kernel.create_new_context()\n",
    "context.variables[\n",
    "        \"user_input\"\n",
    "    ] = \"I want to find a hotel in Seattle with free wifi and a pool.\""
   ]
  },
  {
   "cell_type": "code",
   "execution_count": 11,
   "id": "25ab65d6",
   "metadata": {},
   "outputs": [],
   "source": [
    "filter = {\"exclude_skill\": [\"ChatBot\"]}\n",
    "functions = get_function_calling_object(kernel, filter)"
   ]
  },
  {
   "cell_type": "code",
   "execution_count": 12,
   "id": "3bfed61a",
   "metadata": {},
   "outputs": [],
   "source": [
    "context = await chat_completion_with_function_call(\n",
    "        kernel,\n",
    "        chat_plugin_name=\"ChatBot\",\n",
    "        chat_function_name=\"Chat\",\n",
    "        context=context\n",
    ")"
   ]
  },
  {
   "cell_type": "code",
   "execution_count": 13,
   "id": "911f93c4",
   "metadata": {},
   "outputs": [
    {
     "data": {
      "text/plain": [
       "KernelContext(memory=NullMemory(), variables=ContextVariables(variables={'input': '', 'user_input': 'I want to find a hotel in Seattle with free wifi and a pool.'}), plugins=KernelPluginCollection(plugins={'ChatBot': KernelPlugin(name='ChatBot', description=None, functions={'Chat': KernelFunction(plugin_name='ChatBot', description='', name='Chat', is_semantic=True, stream_function=<function KernelFunction.from_semantic_config.<locals>._local_stream_func at 0x7f80a4c5acb0>, parameters=[ParameterView(name='user_input', description='', default_value='', type_='string', required=False)], delegate_type=<DelegateTypes.ContextSwitchInKernelContextOutTaskKernelContext: 7>, function=<function KernelFunction.from_semantic_config.<locals>._local_func at 0x7f80a4c5ab90>, plugins=KernelPluginCollection(plugins={...}), ai_service=AzureChatCompletion(ai_model_id='gpt4-1106-128k', client=<openai.lib.azure.AsyncAzureOpenAI object at 0x7f80a4a900a0>, ai_model_type=<OpenAIModelTypes.CHAT: 'chat'>, prompt_tokens=0, completion_tokens=0, total_tokens=0), prompt_execution_settings=AzureChatPromptExecutionSettings(service_id=None, extension_data={'max_tokens': 2000, 'temperature': 0.7, 'top_p': 0.8, 'tools': [{'type': 'function', 'function': {'name': 'search_hotels', 'description': 'Retrieves hotels from the search index based on the parameters provided', 'parameters': {'type': 'object', 'properties': {'location': {'type': 'string', 'description': 'The location of the hotel (i.e. Seattle, WA)'}, 'max_price': {'type': 'number', 'description': 'The maximum price for the hotel'}, 'features': {'type': 'string', 'description': 'A comma separated list of features (i.e. beachfront, free wifi, etc.)'}}, 'required': ['location']}}}], 'tool_choice': 'auto'}, ai_model_id=None, frequency_penalty=0.0, logit_bias={}, max_tokens=2000, number_of_responses=1, presence_penalty=0.0, seed=None, stop=None, stream=False, temperature=0.7, top_p=0.8, user=None, response_format=None, tools=[{'type': 'function', 'function': {'name': 'search_hotels', 'description': 'Retrieves hotels from the search index based on the parameters provided', 'parameters': {'type': 'object', 'properties': {'location': {'type': 'string', 'description': 'The location of the hotel (i.e. Seattle, WA)'}, 'max_price': {'type': 'number', 'description': 'The maximum price for the hotel'}, 'features': {'type': 'string', 'description': 'A comma separated list of features (i.e. beachfront, free wifi, etc.)'}}, 'required': ['location']}}}], tool_choice='auto', function_call=None, functions=None, messages=None, extra_body=None), chat_prompt_template=OpenAIChatPromptTemplate(template='{{$user_input}}', template_engine=PromptTemplateEngine(), prompt_config=PromptTemplateConfig(schema_=1, type='completion', description='', execution_settings=PromptExecutionSettings(service_id=None, extension_data={'max_tokens': 2000, 'temperature': 0.7, 'top_p': 0.8, 'tools': [{'type': 'function', 'function': {'name': 'search_hotels', 'description': 'Retrieves hotels from the search index based on the parameters provided', 'parameters': {'type': 'object', 'properties': {'location': {'type': 'string', 'description': 'The location of the hotel (i.e. Seattle, WA)'}, 'max_price': {'type': 'number', 'description': 'The maximum price for the hotel'}, 'features': {'type': 'string', 'description': 'A comma separated list of features (i.e. beachfront, free wifi, etc.)'}}, 'required': ['location']}}}], 'tool_choice': 'auto'}), default_services=[], parameters=[]), messages=[OpenAIChatMessage(role='user', fixed_content='Hi there, who are you?', name=None, function_call=None, tool_calls=None, tool_call_id=None), OpenAIChatMessage(role='assistant', fixed_content=\"I am Mosscap, a chat bot. I'm trying to figure out what people need.\", name=None, function_call=None, tool_calls=None, tool_call_id=None), OpenAIChatMessage(role='user', fixed_content='I want to find a hotel in Seattle with free wifi and a pool.', name=None, function_call=None, tool_calls=None, tool_call_id=None)]))})}))"
      ]
     },
     "execution_count": 13,
     "metadata": {},
     "output_type": "execute_result"
    }
   ],
   "source": [
    "context"
   ]
  },
  {
   "cell_type": "code",
   "execution_count": 14,
   "id": "c4558085",
   "metadata": {},
   "outputs": [
    {
     "data": {
      "text/plain": [
       "''"
      ]
     },
     "execution_count": 14,
     "metadata": {},
     "output_type": "execute_result"
    }
   ],
   "source": [
    "context.result"
   ]
  }
 ],
 "metadata": {
  "kernelspec": {
   "display_name": "semantic_kernel",
   "language": "python",
   "name": "semantic_kernel"
  },
  "language_info": {
   "codemirror_mode": {
    "name": "ipython",
    "version": 3
   },
   "file_extension": ".py",
   "mimetype": "text/x-python",
   "name": "python",
   "nbconvert_exporter": "python",
   "pygments_lexer": "ipython3",
   "version": "3.10.13"
  }
 },
 "nbformat": 4,
 "nbformat_minor": 5
}
