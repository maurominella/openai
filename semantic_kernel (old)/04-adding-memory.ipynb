{
 "cells": [
  {
   "cell_type": "markdown",
   "id": "4ac07f67",
   "metadata": {},
   "source": [
    "# This sample was inspired by [04-context-variables-chat.ipynb](https://github.com/microsoft/semantic-kernel/blob/main/python/notebooks/04-context-variables-chat.ipynb)"
   ]
  },
  {
   "cell_type": "markdown",
   "id": "eb1605b2",
   "metadata": {},
   "source": [
    "## [How does Python SK compare to the C# version of Semantic Kernel?](https://github.com/microsoft/semantic-kernel/blob/main/python/README.md)\n",
    "- The two SDKs are compatible and at the core they follow the same design principles.\n",
    "- Some features are still available only in the C# version, and being ported.\n",
    "- Refer to the [FEATURE MATRIX](https://learn.microsoft.com/en-us/semantic-kernel/get-started/supported-languages) doc to see where things stand in matching the features and functionality of the main SK branch.\n",
    "- Over time there will be some features available only in the Python version, and others only in the C# version, for example adapters to external services, scientific libraries, etc.\n",
    "<br/>\n",
    "- Documentation\n",
    " - [Get Started with Semantic Kernel](https://github.com/microsoft/semantic-kernel/blob/main/python/README.md)\n",
    "\n",
    "Inspired to\n",
    " - https://github.com/microsoft/semantic-kernel/blob/main/dotnet/samples/KernelSyntaxExamples/Example59_OpenAIFunctionCalling.cs\n",
    " - https://github.com/microsoft/semantic-kernel/blob/main/python/samples/kernel-syntax-examples/openai_function_calling.py"
   ]
  },
  {
   "cell_type": "code",
   "execution_count": 1,
   "id": "3c097f1f",
   "metadata": {},
   "outputs": [],
   "source": [
    "# create the kernel\n",
    "\n",
    "import semantic_kernel as sk\n",
    "kernel = sk.Kernel()"
   ]
  },
  {
   "cell_type": "code",
   "execution_count": 2,
   "id": "77c1c6a5",
   "metadata": {},
   "outputs": [
    {
     "name": "stdout",
     "output_type": "stream",
     "text": [
      "This is my AzureChatCompletion connector:\n",
      "ai_model_id='gpt35turbo-0613-4k' client=<openai.lib.azure.AsyncAzureOpenAI object at 0x7f12cfbbe7b0> ai_model_type=<OpenAIModelTypes.CHAT: 'chat'> prompt_tokens=0 completion_tokens=0 total_tokens=0\n"
     ]
    }
   ],
   "source": [
    "# create the SK \"chat completion connector\" to the Azure OpenAI service\n",
    "\n",
    "from dotenv import load_dotenv\n",
    "load_dotenv(\"credentials_my.env\")\n",
    "\n",
    "import semantic_kernel.connectors.ai.open_ai as sk_oai\n",
    "\n",
    "chat_connector = sk_oai.AzureChatCompletion(\n",
    "    api_key=os.environ['AZURE_OPENAI_API_KEY'],\n",
    "    api_version=os.environ['AZURE_OPENAI_API_VERSION'],\n",
    "    deployment_name=os.environ['GPT35TURBO-0613-4k'], # ['GPT4-1106-128k'],\n",
    "    endpoint=os.environ['AZURE_OPENAI_ENDPOINT']\n",
    ")\n",
    "print(f\"This is my AzureChatCompletion connector:\\n{chat_connector}\")"
   ]
  },
  {
   "cell_type": "code",
   "execution_count": 3,
   "id": "c2185c1e",
   "metadata": {},
   "outputs": [
    {
     "name": "stdout",
     "output_type": "stream",
     "text": [
      "Here are all chat services registered with this kernel: ['mauromi_chatgpt']\n"
     ]
    }
   ],
   "source": [
    "# add the openAI completion connector to the kernel, choosing a name to identify it within the kernel\n",
    "\n",
    "kernel.add_chat_service(\n",
    "    \"mauromi_chatgpt\", # unique name to be registered with the kernel\n",
    "    chat_connector\n",
    ")\n",
    "print(f\"Here are all chat services registered with this kernel: {kernel.all_chat_services()}\")"
   ]
  },
  {
   "cell_type": "code",
   "execution_count": 4,
   "id": "999afbb3",
   "metadata": {},
   "outputs": [],
   "source": [
    "# Let's define a prompt outlining a dialogue chat bot\n",
    "\n",
    "sk_prompt = \"\"\"\n",
    "ChatBot can have a conversation with you about any topic.\n",
    "It can give explicit instructions or say 'I don't know' if it does not have an answer.\n",
    "\n",
    "{{$history}}\n",
    "User: {{$user_input}}\n",
    "ChatBot: \"\"\""
   ]
  },
  {
   "cell_type": "code",
   "execution_count": 5,
   "id": "691dcc45",
   "metadata": {},
   "outputs": [],
   "source": [
    "# In-Line registration of our semantic function\n",
    "\n",
    "chat_function = kernel.create_semantic_function(\n",
    "    prompt_template=sk_prompt,\n",
    "    function_name=\"ChatBot\",\n",
    "    max_tokens=2000,\n",
    "    temperature=0.7,\n",
    "    top_p=0.5,\n",
    ")"
   ]
  },
  {
   "cell_type": "code",
   "execution_count": 6,
   "id": "123d483a",
   "metadata": {},
   "outputs": [],
   "source": [
    "# Initialize our context\n",
    "\n",
    "context = kernel.create_new_context()\n",
    "context.variables[\"user_input\"] = \"Hi, I'm looking for book suggestions\"\n",
    "context.variables[\"history\"] = \".\""
   ]
  },
  {
   "cell_type": "code",
   "execution_count": 7,
   "id": "a957582f",
   "metadata": {},
   "outputs": [
    {
     "name": "stdout",
     "output_type": "stream",
     "text": [
      "Hi! I'd be happy to help you with book suggestions. What genre or type of books are you interested in?\n"
     ]
    }
   ],
   "source": [
    "# Chat with the bot\n",
    "\n",
    "bot_answer = chat_function.invoke(context=context)\n",
    "print(bot_answer)"
   ]
  },
  {
   "cell_type": "code",
   "execution_count": 8,
   "id": "8292522f",
   "metadata": {},
   "outputs": [
    {
     "name": "stdout",
     "output_type": "stream",
     "text": [
      ".\n",
      "User: Hi, I'm looking for book suggestions\n",
      "ChatBot: Hi! I'd be happy to help you with book suggestions. What genre or type of books are you interested in?\n",
      "\n"
     ]
    }
   ],
   "source": [
    "context[\"history\"] += f\"\\nUser: {context['user_input']}\\nChatBot: {bot_answer}\\n\"\n",
    "print(context[\"history\"])"
   ]
  },
  {
   "cell_type": "code",
   "execution_count": 9,
   "id": "337e81d4",
   "metadata": {},
   "outputs": [],
   "source": [
    "def chat(input_text: str) -> None:\n",
    "    # Save new message in the context variables\n",
    "    print(f\"User: {input_text}\")\n",
    "    context[\"user_input\"] = input_text\n",
    "\n",
    "    # Process the user message and get an answer\n",
    "    answer = chat_function.invoke(context=context)\n",
    "\n",
    "    # Show the response\n",
    "    print(f\"ChatBot: {answer}\")\n",
    "\n",
    "    # Append the new interaction to the chat history\n",
    "    context[\"history\"] += f\"\\nUser: {input_text}\\nChatBot: {answer}\\n\""
   ]
  },
  {
   "cell_type": "code",
   "execution_count": 10,
   "id": "9d384ea9",
   "metadata": {},
   "outputs": [
    {
     "name": "stdout",
     "output_type": "stream",
     "text": [
      "User: I love history and philosophy, I'd like to learn something new about Greece, any suggestion?\n",
      "ChatBot: I would recommend \"The Greeks: A Portrait of Self and Others\" by Paul Cartledge. It provides a comprehensive overview of ancient Greek history, culture, and philosophy. Another great book is \"The History of Greece\" by Thucydides, which offers a firsthand account of the Peloponnesian War and the political events of ancient Greece.\n"
     ]
    }
   ],
   "source": [
    "chat(\"I love history and philosophy, I'd like to learn something new about Greece, any suggestion?\")"
   ]
  },
  {
   "cell_type": "code",
   "execution_count": 11,
   "id": "67fb5654",
   "metadata": {},
   "outputs": [
    {
     "name": "stdout",
     "output_type": "stream",
     "text": [
      "User: that sounds interesting, what is it about?\n",
      "ChatBot: \"The Greeks: A Portrait of Self and Others\" by Paul Cartledge explores the history, culture, and philosophy of ancient Greece. It delves into the achievements and contributions of the ancient Greeks, including their political systems, literature, art, and philosophy. The book also examines the interactions between the Greeks and other civilizations, such as the Persians and the Romans. Overall, it provides a comprehensive and engaging look at the ancient Greek civilization.\n"
     ]
    }
   ],
   "source": [
    "chat(\"that sounds interesting, what is it about?\")"
   ]
  },
  {
   "cell_type": "code",
   "execution_count": 12,
   "id": "58f5f412",
   "metadata": {},
   "outputs": [
    {
     "name": "stdout",
     "output_type": "stream",
     "text": [
      "User: if I read that book, what exactly will I learn about Greek history?\n",
      "ChatBot: If you read \"The Greeks: A Portrait of Self and Others\" by Paul Cartledge, you will learn about various aspects of Greek history. Some of the topics covered include the rise of the Greek city-states, the development of democracy in Athens, the Persian Wars, the Peloponnesian War, the conquests of Alexander the Great, and the Hellenistic period. You will also learn about the major figures in Greek history, such as Pericles, Socrates, Plato, and Aristotle. Additionally, the book explores the cultural and intellectual achievements of the Greeks, including their contributions to literature, philosophy, art, and architecture.\n"
     ]
    }
   ],
   "source": [
    "chat(\"if I read that book, what exactly will I learn about Greek history?\")"
   ]
  },
  {
   "cell_type": "code",
   "execution_count": 13,
   "id": "da2e37ed",
   "metadata": {},
   "outputs": [
    {
     "name": "stdout",
     "output_type": "stream",
     "text": [
      "User: could you list some more books I could read about this topic?\n",
      "ChatBot: Certainly! Here are some more books you could consider reading about Greek history:\n",
      "\n",
      "1. \"The Peloponnesian War\" by Thucydides - This book provides a detailed account of the Peloponnesian War, a conflict between Athens and Sparta that shaped the course of Greek history.\n",
      "\n",
      "2. \"The Histories\" by Herodotus - Herodotus is often referred to as the \"Father of History,\" and his work provides a comprehensive account of the Persian Wars and other events in ancient Greece.\n",
      "\n",
      "3. \"The Rise and Fall of Athens: Nine Greek Lives\" by Plutarch - This book offers biographies of nine influential figures in ancient Athens, including Pericles, Themistocles, and Alcibiades.\n",
      "\n",
      "4. \"The Classical World: An Epic History from Homer to Hadrian\" by Robin Lane Fox - This book provides a broad overview of ancient Greek and Roman history, including the major events, figures, and cultural developments.\n",
      "\n",
      "5. \"The Greek Way\" by Edith Hamilton - This book explores the Greek mindset and values, offering insights into their philosophy, literature, and art.\n",
      "\n",
      "These books should provide you with a deeper understanding of Greek history and culture.\n"
     ]
    }
   ],
   "source": [
    "chat(\"could you list some more books I could read about this topic?\")"
   ]
  },
  {
   "cell_type": "code",
   "execution_count": 14,
   "id": "1c315e61",
   "metadata": {},
   "outputs": [
    {
     "name": "stdout",
     "output_type": "stream",
     "text": [
      "User: Tell me something more about the second book\n",
      "ChatBot: \"The Histories\" by Herodotus is a seminal work in the field of history. It is often considered the first true historical account and provides a detailed narrative of the Persian Wars, which were a series of conflicts between the Greek city-states and the Persian Empire in the 5th century BCE. Herodotus traveled extensively and collected information from various sources, including eyewitness accounts and oral traditions, to compile his work. \n",
      "\n",
      "\"The Histories\" not only chronicles the military events of the Persian Wars but also delves into the cultural, social, and political aspects of the time. Herodotus explores the motivations and actions of both the Greeks and the Persians, offering insights into their respective cultures and worldviews. The book also includes fascinating anecdotes and stories, such as the Battle of Thermopylae and the Battle of Marathon, which have become iconic in Greek history.\n",
      "\n",
      "Overall, \"The Histories\" is a captivating and informative read that provides a rich understanding of the Persian Wars and the ancient Greek world.\n"
     ]
    }
   ],
   "source": [
    "chat(\"Tell me something more about the second book\")"
   ]
  },
  {
   "cell_type": "code",
   "execution_count": 15,
   "id": "53b3dea9",
   "metadata": {},
   "outputs": [
    {
     "name": "stdout",
     "output_type": "stream",
     "text": [
      ".\n",
      "User: Hi, I'm looking for book suggestions\n",
      "ChatBot: Hi! I'd be happy to help you with book suggestions. What genre or type of books are you interested in?\n",
      "\n",
      "User: I love history and philosophy, I'd like to learn something new about Greece, any suggestion?\n",
      "ChatBot: I would recommend \"The Greeks: A Portrait of Self and Others\" by Paul Cartledge. It provides a comprehensive overview of ancient Greek history, culture, and philosophy. Another great book is \"The History of Greece\" by Thucydides, which offers a firsthand account of the Peloponnesian War and the political events of ancient Greece.\n",
      "\n",
      "User: that sounds interesting, what is it about?\n",
      "ChatBot: \"The Greeks: A Portrait of Self and Others\" by Paul Cartledge explores the history, culture, and philosophy of ancient Greece. It delves into the achievements and contributions of the ancient Greeks, including their political systems, literature, art, and philosophy. The book also examines the interactions between the Greeks and other civilizations, such as the Persians and the Romans. Overall, it provides a comprehensive and engaging look at the ancient Greek civilization.\n",
      "\n",
      "User: if I read that book, what exactly will I learn about Greek history?\n",
      "ChatBot: If you read \"The Greeks: A Portrait of Self and Others\" by Paul Cartledge, you will learn about various aspects of Greek history. Some of the topics covered include the rise of the Greek city-states, the development of democracy in Athens, the Persian Wars, the Peloponnesian War, the conquests of Alexander the Great, and the Hellenistic period. You will also learn about the major figures in Greek history, such as Pericles, Socrates, Plato, and Aristotle. Additionally, the book explores the cultural and intellectual achievements of the Greeks, including their contributions to literature, philosophy, art, and architecture.\n",
      "\n",
      "User: could you list some more books I could read about this topic?\n",
      "ChatBot: Certainly! Here are some more books you could consider reading about Greek history:\n",
      "\n",
      "1. \"The Peloponnesian War\" by Thucydides - This book provides a detailed account of the Peloponnesian War, a conflict between Athens and Sparta that shaped the course of Greek history.\n",
      "\n",
      "2. \"The Histories\" by Herodotus - Herodotus is often referred to as the \"Father of History,\" and his work provides a comprehensive account of the Persian Wars and other events in ancient Greece.\n",
      "\n",
      "3. \"The Rise and Fall of Athens: Nine Greek Lives\" by Plutarch - This book offers biographies of nine influential figures in ancient Athens, including Pericles, Themistocles, and Alcibiades.\n",
      "\n",
      "4. \"The Classical World: An Epic History from Homer to Hadrian\" by Robin Lane Fox - This book provides a broad overview of ancient Greek and Roman history, including the major events, figures, and cultural developments.\n",
      "\n",
      "5. \"The Greek Way\" by Edith Hamilton - This book explores the Greek mindset and values, offering insights into their philosophy, literature, and art.\n",
      "\n",
      "These books should provide you with a deeper understanding of Greek history and culture.\n",
      "\n",
      "User: Tell me something more about the second book\n",
      "ChatBot: \"The Histories\" by Herodotus is a seminal work in the field of history. It is often considered the first true historical account and provides a detailed narrative of the Persian Wars, which were a series of conflicts between the Greek city-states and the Persian Empire in the 5th century BCE. Herodotus traveled extensively and collected information from various sources, including eyewitness accounts and oral traditions, to compile his work. \n",
      "\n",
      "\"The Histories\" not only chronicles the military events of the Persian Wars but also delves into the cultural, social, and political aspects of the time. Herodotus explores the motivations and actions of both the Greeks and the Persians, offering insights into their respective cultures and worldviews. The book also includes fascinating anecdotes and stories, such as the Battle of Thermopylae and the Battle of Marathon, which have become iconic in Greek history.\n",
      "\n",
      "Overall, \"The Histories\" is a captivating and informative read that provides a rich understanding of the Persian Wars and the ancient Greek world.\n",
      "\n"
     ]
    },
    {
     "name": "stderr",
     "output_type": "stream",
     "text": [
      "Bad pipe message: %s [b'\\xb9\\x1c\\xe3i7<K\\xfb\\xdb\\x9b};\\xf15']\n",
      "Bad pipe message: %s [b'\\xafu \\xf6\\xca\\x17i\\x88t\\xb2n\\xfcR\\xb2\\xa4\\xbeQ\\xa5\\x8f\\xe7\\xce\\t\\xff\\xed\\xb6}bt\\xce6\\xb8GQXW\\x00\\x08\\x13\\x02\\x13\\x03\\x13\\x01\\x00\\xff\\x01\\x00\\x00\\x8f\\x00\\x00\\x00\\x0e\\x00\\x0c\\x00\\x00\\t127.0.0.1\\x00\\x0b\\x00\\x04\\x03\\x00\\x01\\x02\\x00\\n\\x00\\x0c\\x00\\n\\x00\\x1d\\x00\\x17\\x00\\x1e\\x00\\x19\\x00\\x18\\x00#\\x00\\x00\\x00\\x16\\x00\\x00\\x00\\x17\\x00\\x00\\x00\\r\\x00\\x1e\\x00\\x1c\\x04\\x03\\x05\\x03\\x06\\x03\\x08\\x07\\x08\\x08\\x08\\t\\x08\\n\\x08\\x0b\\x08\\x04\\x08\\x05\\x08\\x06\\x04\\x01\\x05\\x01\\x06\\x01\\x00+\\x00\\x03\\x02\\x03\\x04\\x00-\\x00\\x02\\x01\\x01\\x003\\x00&\\x00$\\x00\\x1d\\x00 \\x88+\\xba\\xd5sNH\\x8b\\xb1\\xd0']\n",
      "Bad pipe message: %s [b'#Z\\xd4\\xd0+u\\xdbI\\xf7\\xeb\\x88_\\xa0\\xe06u\\xc5: \\xc1I\\xb1\\x92\\xd0t\\xb6\\xe3\\x88\\x9f\\x8f\\xd6C\\x05\\x8bfE\\xafg/\\xbd7\\xbe\\x87\\xd4}\\xc7\\x1e$\\xf2AK\\x00\\x08\\x13\\x02\\x13\\x03\\x13\\x01\\x00\\xff\\x01\\x00\\x00\\x8f\\x00\\x00\\x00\\x0e\\x00\\x0c\\x00\\x00\\t127.0.0.1\\x00\\x0b\\x00\\x04\\x03\\x00\\x01\\x02\\x00\\n\\x00\\x0c\\x00\\n\\x00\\x1d\\x00\\x17\\x00\\x1e\\x00\\x19\\x00\\x18\\x00#\\x00\\x00\\x00\\x16\\x00\\x00\\x00\\x17\\x00\\x00\\x00\\r\\x00']\n",
      "Bad pipe message: %s [b'\\x1c\\x04\\x03\\x05\\x03\\x06\\x03\\x08\\x07\\x08\\x08\\x08\\t\\x08\\n\\x08\\x0b\\x08\\x04\\x08\\x05\\x08\\x06\\x04\\x01\\x05\\x01\\x06\\x01']\n",
      "Bad pipe message: %s [b\"\\x93+Y\\x96\\x9bfz\\x07\\xad\\xbc\\x9e\\x0e}BY\\xd9 X\\x00\\x00|\\xc0,\\xc00\\x00\\xa3\\x00\\x9f\\xcc\\xa9\\xcc\\xa8\\xcc\\xaa\\xc0\\xaf\\xc0\\xad\\xc0\\xa3\\xc0\\x9f\\xc0]\\xc0a\\xc0W\\xc0S\\xc0+\\xc0/\\x00\\xa2\\x00\\x9e\\xc0\\xae\\xc0\\xac\\xc0\\xa2\\xc0\\x9e\\xc0\\\\\\xc0`\\xc0V\\xc0R\\xc0$\\xc0(\\x00k\\x00j\\xc0#\\xc0'\\x00g\\x00@\\xc0\\n\\xc0\\x14\\x009\\x008\\xc0\\t\\xc0\\x13\\x003\\x002\\x00\\x9d\\xc0\\xa1\\xc0\\x9d\\xc0Q\\x00\\x9c\\xc0\\xa0\\xc0\\x9c\\xc0P\\x00=\\x00<\\x005\\x00/\\x00\\x9a\\x00\\x99\\xc0\\x07\\xc0\\x11\\x00\\x96\\x00\\x05\\x00\\xff\\x01\\x00\\x00j\\x00\\x00\\x00\\x0e\\x00\\x0c\\x00\\x00\\t127.0.0.1\\x00\\x0b\\x00\\x04\\x03\\x00\\x01\\x02\\x00\\n\\x00\\x0c\\x00\\n\\x00\\x1d\\x00\\x17\\x00\\x1e\\x00\\x19\\x00\\x18\\x00#\\x00\\x00\\x00\\x16\\x00\\x00\\x00\\x17\\x00\\x00\\x00\\r\\x000\\x00.\\x04\\x03\\x05\\x03\\x06\\x03\\x08\\x07\\x08\\x08\\x08\\t\\x08\\n\\x08\\x0b\\x08\\x04\\x08\\x05\\x08\\x06\\x04\\x01\\x05\\x01\\x06\\x01\\x03\"]\n",
      "Bad pipe message: %s [b'\\x03\\x03']\n",
      "Bad pipe message: %s [b'']\n",
      "Bad pipe message: %s [b'', b'\\x02']\n",
      "Bad pipe message: %s [b'\\x05\\x02\\x06']\n",
      "Bad pipe message: %s [b\"\\xfd\\xef\\xe5\\xdb\\xb4\\xecE\\xf1\\xc2\\xcf\\xaa]\\xbe\\xe2Wjy/\\x00\\x00\\xa6\\xc0,\\xc00\\x00\\xa3\\x00\\x9f\\xcc\\xa9\\xcc\\xa8\\xcc\\xaa\\xc0\\xaf\\xc0\\xad\\xc0\\xa3\\xc0\\x9f\\xc0]\\xc0a\\xc0W\\xc0S\\xc0+\\xc0/\\x00\\xa2\\x00\\x9e\\xc0\\xae\\xc0\\xac\\xc0\\xa2\\xc0\\x9e\\xc0\\\\\\xc0`\\xc0V\\xc0R\\xc0$\\xc0(\\x00k\\x00j\\xc0s\\xc0w\\x00\\xc4\\x00\\xc3\\xc0#\\xc0'\\x00g\\x00@\\xc0r\\xc0v\\x00\\xbe\\x00\\xbd\\xc0\\n\\xc0\\x14\\x009\\x008\\x00\\x88\\x00\\x87\\xc0\\t\\xc0\\x13\\x003\\x002\\x00\\x9a\\x00\\x99\\x00E\\x00D\\xc0\\x07\\xc0\"]\n",
      "Bad pipe message: %s [b'\\x08\\xc0\\x12\\x00\\x16\\x00\\x13\\x00\\x9d\\xc0\\xa1\\xc0\\x9d\\xc0Q\\x00']\n",
      "Bad pipe message: %s [b'A\\xf5F\\xae \\xe2\\xefQ\\xda\\x9a/\\xff\\xb8I\\xcbW\\x9eL\\x00\\x00>\\xc0\\x14\\xc0\\n\\x009\\x008\\x007\\x006\\xc0\\x0f\\xc0\\x05\\x005\\xc0\\x13\\xc0']\n",
      "Bad pipe message: %s [b'3\\x002\\x001\\x000\\xc0']\n",
      "Bad pipe message: %s [b'\\x04\\x00/\\x00\\x9a\\x00\\x99\\x00\\x98\\x00\\x97\\x00\\x96']\n",
      "Bad pipe message: %s [b'fq\\xf8\\x1a\\x13\\xe3D\\xcc\\x1cp\\xb0\\x0f\\xcda\\x92\\xe6\\xa0\\xd2\\x00\\x00\\xa2\\xc0\\x14\\xc0\\n\\x009\\x008\\x007\\x006\\x00\\x88\\x00\\x87\\x00\\x86\\x00\\x85\\xc0\\x19\\x00:\\x00\\x89\\xc0\\x0f\\xc0\\x05\\x005\\x00\\x84\\xc0\\x13\\xc0\\t\\x003\\x002\\x001\\x000\\x00\\x9a\\x00\\x99\\x00\\x98\\x00\\x97\\x00E\\x00D\\x00C\\x00B\\xc0\\x18\\x004\\x00\\x9b\\x00F\\xc0\\x0e\\xc0\\x04\\x00/\\x00\\x96\\x00A\\x00\\x07\\xc0\\x11\\xc0\\x07\\xc0\\x16\\x00\\x18\\xc0\\x0c\\xc0\\x02\\x00\\x05\\x00\\x04\\xc0\\x12\\xc0\\x08\\x00\\x16\\x00\\x13\\x00\\x10\\x00\\r\\xc0\\x17\\x00\\x1b\\xc0\\r\\xc0', b'\\n\\x00']\n",
      "Bad pipe message: %s [b'\\x12\\x00\\x0f\\x00\\x0c\\x00\\x1a\\x00\\t\\x00\\x14\\x00\\x11\\x00\\x19\\x00\\x08\\x00\\x06\\x00']\n",
      "Bad pipe message: %s [b'\\x03\\xc0\\x10\\xc0\\x06\\xc0\\x15\\xc0\\x0b\\xc0\\x01\\x00\\x02\\x00\\x01\\x00\\xff\\x02\\x01\\x00\\x00C']\n",
      "Bad pipe message: %s [b'\\xaf\\xb1\\x1f\\xed\\xba\\x07\\xf62\\x0b']\n",
      "Bad pipe message: %s [b\"\\xd0\\xf6R4b'?4:\\xdf#\\xe2z\\xd3Y\\xf1\\x1b\\x0b\\x00\\x00\\xa2\\xc0\\x14\\xc0\\n\\x009\\x008\\x007\\x006\\x00\\x88\\x00\\x87\\x00\\x86\\x00\\x85\\xc0\\x19\\x00:\\x00\\x89\\xc0\\x0f\\xc0\\x05\\x005\\x00\"]\n",
      "Bad pipe message: %s [b'\\x13\\xc0\\t\\x003\\x002\\x001\\x000\\x00\\x9a\\x00\\x99\\x00\\x98\\x00\\x97\\x00E\\x00D\\x00C\\x00B\\xc0\\x18\\x004\\x00\\x9b\\x00F\\xc0\\x0e\\xc0\\x04\\x00/\\x00\\x96\\x00A\\x00\\x07\\xc0\\x11\\xc0\\x07\\xc0\\x16\\x00\\x18\\xc0\\x0c\\xc0\\x02\\x00\\x05\\x00\\x04\\xc0\\x12\\xc0\\x08\\x00\\x16\\x00\\x13\\x00\\x10\\x00\\r\\xc0\\x17\\x00\\x1b\\xc0\\r\\xc0\\x03\\x00\\n\\x00\\x15\\x00\\x12\\x00\\x0f\\x00\\x0c\\x00\\x1a\\x00\\t\\x00\\x14\\x00\\x11\\x00\\x19\\x00\\x08\\x00\\x06\\x00\\x17\\x00\\x03\\xc0\\x10\\xc0\\x06\\xc0\\x15\\xc0\\x0b\\xc0\\x01\\x00\\x02\\x00\\x01\\x00\\xff\\x02\\x01\\x00\\x15']\n",
      "Bad pipe message: %s [b'\\x00\\x02']\n",
      "Bad pipe message: %s [b\"\\xba,sd\\x19\\xea\\xc8\\x04\\xc8\\xa4\\xe16A\\xe6/\\x18 \\xa4\\x00\\x00\\x86\\xc00\\xc0,\\xc0(\\xc0$\\xc0\\x14\\xc0\\n\\x00\\xa5\\x00\\xa3\\x00\\xa1\\x00\\x9f\\x00k\\x00j\\x00i\\x00h\\x009\\x008\\x007\\x006\\xc02\\xc0.\\xc0*\\xc0&\\xc0\\x0f\\xc0\\x05\\x00\\x9d\\x00=\\x005\\xc0/\\xc0+\\xc0'\\xc0#\\xc0\\x13\\xc0\\t\\x00\\xa4\\x00\\xa2\\x00\\xa0\\x00\\x9e\\x00g\\x00@\\x00?\\x00>\\x003\\x002\\x001\\x000\\xc01\\xc0-\\xc0)\\xc0%\\xc0\\x0e\\xc0\\x04\\x00\\x9c\\x00<\\x00/\\x00\\x9a\\x00\\x99\\x00\\x98\\x00\\x97\\x00\\x96\\x00\\x07\\xc0\\x11\\xc0\\x07\\xc0\\x0c\\xc0\\x02\\x00\\x05\\x00\\x04\\x00\\xff\\x02\\x01\\x00\\x00g\\x00\\x00\\x00\\x0e\\x00\\x0c\\x00\\x00\\t127.0.\", b'1\\x00\\x0b\\x00\\x04\\x03\\x00\\x01\\x02\\x00\\n\\x00\\x1c\\x00\\x1a\\x00\\x17\\x00\\x19\\x00\\x1c\\x00\\x1b\\x00\\x18\\x00\\x1a\\x00\\x16\\x00\\x0e\\x00\\r\\x00\\x0b\\x00\\x0c\\x00\\t\\x00\\n\\x00#\\x00\\x00\\x00\\r']\n",
      "Bad pipe message: %s [b'\\x08\\xeb\\x9e\\xb9\\xaf\\xf15\\x0c?(Q\\xd7j', b\"\\x00sa\\x00\\x00\\xf4\\xc00\\xc0,\\xc0(\\xc0$\\xc0\\x14\\xc0\\n\\x00\\xa5\\x00\\xa3\\x00\\xa1\\x00\\x9f\\x00k\\x00j\\x00i\\x00h\\x009\\x008\\x007\\x006\\x00\\x88\\x00\\x87\\x00\\x86\\x00\\x85\\xc0\\x19\\x00\\xa7\\x00m\\x00:\\x00\\x89\\xc02\\xc0.\\xc0*\\xc0&\\xc0\\x0f\\xc0\\x05\\x00\\x9d\\x00=\\x005\\x00\\x84\\xc0/\\xc0+\\xc0'\\xc0#\\xc0\\x13\\xc0\\t\\x00\\xa4\\x00\\xa2\\x00\\xa0\\x00\\x9e\\x00g\\x00@\\x00?\\x00>\\x003\\x002\\x001\\x000\\x00\\x9a\\x00\\x99\\x00\\x98\\x00\\x97\\x00E\\x00D\\x00C\\x00B\\xc0\\x18\\x00\\xa6\\x00l\\x004\\x00\\x9b\\x00F\\xc01\\xc0-\\xc0)\\xc0%\\xc0\\x0e\\xc0\\x04\\x00\\x9c\\x00<\\x00/\\x00\\x96\\x00A\\x00\\x07\\xc0\\x11\\xc0\\x07\\xc0\\x16\\x00\\x18\\xc0\\x0c\\xc0\\x02\\x00\\x05\\x00\"]\n",
      "Bad pipe message: %s [b'\\x12\\xc0\\x08']\n"
     ]
    }
   ],
   "source": [
    "print(context[\"history\"])"
   ]
  }
 ],
 "metadata": {
  "kernelspec": {
   "display_name": "semantic_kernel",
   "language": "python",
   "name": "semantic_kernel"
  },
  "language_info": {
   "codemirror_mode": {
    "name": "ipython",
    "version": 3
   },
   "file_extension": ".py",
   "mimetype": "text/x-python",
   "name": "python",
   "nbconvert_exporter": "python",
   "pygments_lexer": "ipython3",
   "version": "3.12.1"
  }
 },
 "nbformat": 4,
 "nbformat_minor": 5
}
