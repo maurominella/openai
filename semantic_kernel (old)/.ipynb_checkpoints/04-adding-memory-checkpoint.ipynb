{
 "cells": [
  {
   "cell_type": "markdown",
   "id": "4ac07f67",
   "metadata": {},
   "source": [
    "# This sample was inspired by [04-context-variables-chat.ipynb](https://github.com/microsoft/semantic-kernel/blob/main/python/notebooks/04-context-variables-chat.ipynb)"
   ]
  },
  {
   "cell_type": "markdown",
   "id": "eb1605b2",
   "metadata": {},
   "source": [
    "## [How does Python SK compare to the C# version of Semantic Kernel?](https://github.com/microsoft/semantic-kernel/blob/main/python/README.md)\n",
    "- The two SDKs are compatible and at the core they follow the same design principles.\n",
    "- Some features are still available only in the C# version, and being ported.\n",
    "- Refer to the [FEATURE MATRIX](https://learn.microsoft.com/en-us/semantic-kernel/get-started/supported-languages) doc to see where things stand in matching the features and functionality of the main SK branch.\n",
    "- Over time there will be some features available only in the Python version, and others only in the C# version, for example adapters to external services, scientific libraries, etc.\n",
    "<br/>\n",
    "- Documentation\n",
    " - [Get Started with Semantic Kernel](https://github.com/microsoft/semantic-kernel/blob/main/python/README.md)\n",
    "\n",
    "Inspired to\n",
    " - https://github.com/microsoft/semantic-kernel/blob/main/dotnet/samples/KernelSyntaxExamples/Example59_OpenAIFunctionCalling.cs\n",
    " - https://github.com/microsoft/semantic-kernel/blob/main/python/samples/kernel-syntax-examples/openai_function_calling.py"
   ]
  },
  {
   "cell_type": "code",
   "execution_count": 1,
   "id": "3c097f1f",
   "metadata": {},
   "outputs": [],
   "source": [
    "# create the kernel\n",
    "\n",
    "import semantic_kernel as sk\n",
    "kernel = sk.Kernel()"
   ]
  },
  {
   "cell_type": "code",
   "execution_count": 2,
   "id": "77c1c6a5",
   "metadata": {},
   "outputs": [
    {
     "name": "stdout",
     "output_type": "stream",
     "text": [
      "This is my AzureChatCompletion connector:\n",
      "ai_model_id='gpt35turbo-0613-4k' client=<openai.lib.azure.AsyncAzureOpenAI object at 0x7fc911003110> ai_model_type=<OpenAIModelTypes.CHAT: 'chat'> prompt_tokens=0 completion_tokens=0 total_tokens=0\n"
     ]
    }
   ],
   "source": [
    "# create the SK \"chat completion connector\" to the Azure OpenAI service\n",
    "\n",
    "from dotenv import load_dotenv\n",
    "load_dotenv(\"credentials_my.env\")\n",
    "\n",
    "import semantic_kernel.connectors.ai.open_ai as sk_oai\n",
    "\n",
    "completion_connector = sk_oai.AzureChatCompletion(\n",
    "    api_key=os.environ['AZURE_OPENAI_API_KEY'],\n",
    "    api_version=os.environ['AZURE_OPENAI_API_VERSION'],\n",
    "    deployment_name=os.environ['GPT35TURBO-0613-4k'], # ['GPT4-1106-128k'],\n",
    "    endpoint=os.environ['AZURE_OPENAI_ENDPOINT']\n",
    ")\n",
    "print(f\"This is my AzureChatCompletion connector:\\n{completion_connector}\")"
   ]
  },
  {
   "cell_type": "code",
   "execution_count": 3,
   "id": "c2185c1e",
   "metadata": {},
   "outputs": [
    {
     "name": "stdout",
     "output_type": "stream",
     "text": [
      "Here are all chat services registered with this kernel: ['mauromi_chatgpt']\n"
     ]
    }
   ],
   "source": [
    "# add the openAI completion connector to the kernel, choosing a name to identify it within the kernel\n",
    "\n",
    "kernel.add_chat_service(\n",
    "    \"mauromi_chatgpt\", # unique name to be registered with the kernel\n",
    "    completion_connector\n",
    ")\n",
    "print(f\"Here are all chat services registered with this kernel: {kernel.all_chat_services()}\")"
   ]
  },
  {
   "cell_type": "code",
   "execution_count": 4,
   "id": "999afbb3",
   "metadata": {},
   "outputs": [],
   "source": [
    "# Let's define a prompt outlining a dialogue chat bot\n",
    "\n",
    "sk_prompt = \"\"\"\n",
    "ChatBot can have a conversation with you about any topic.\n",
    "It can give explicit instructions or say 'I don't know' if it does not have an answer.\n",
    "\n",
    "{{$history}}\n",
    "User: {{$user_input}}\n",
    "ChatBot: \"\"\""
   ]
  },
  {
   "cell_type": "code",
   "execution_count": 5,
   "id": "691dcc45",
   "metadata": {},
   "outputs": [],
   "source": [
    "# In-Line registration of our semantic function\n",
    "\n",
    "chat_function = kernel.create_semantic_function(\n",
    "    prompt_template=sk_prompt,\n",
    "    function_name=\"ChatBot\",\n",
    "    max_tokens=2000,\n",
    "    temperature=0.7,\n",
    "    top_p=0.5,\n",
    ")"
   ]
  },
  {
   "cell_type": "code",
   "execution_count": 6,
   "id": "123d483a",
   "metadata": {},
   "outputs": [],
   "source": [
    "# Initialize our context\n",
    "\n",
    "context = kernel.create_new_context()\n",
    "context.variables[\"user_input\"] = \"Hi, I'm looking for book suggestions\"\n",
    "context.variables[\"history\"] = \".\""
   ]
  },
  {
   "cell_type": "code",
   "execution_count": 7,
   "id": "a957582f",
   "metadata": {},
   "outputs": [
    {
     "name": "stdout",
     "output_type": "stream",
     "text": [
      "Hi! I'd be happy to help you with book suggestions. What genre or type of books are you interested in?\n"
     ]
    }
   ],
   "source": [
    "# Chat with the bot\n",
    "\n",
    "bot_answer = chat_function.invoke(context=context)\n",
    "print(bot_answer)"
   ]
  },
  {
   "cell_type": "code",
   "execution_count": 8,
   "id": "8292522f",
   "metadata": {},
   "outputs": [
    {
     "name": "stdout",
     "output_type": "stream",
     "text": [
      ".\n",
      "User: Hi, I'm looking for book suggestions\n",
      "ChatBot: Hi! I'd be happy to help you with book suggestions. What genre or type of books are you interested in?\n",
      "\n"
     ]
    }
   ],
   "source": [
    "context[\"history\"] += f\"\\nUser: {context['user_input']}\\nChatBot: {bot_answer}\\n\"\n",
    "print(context[\"history\"])"
   ]
  },
  {
   "cell_type": "code",
   "execution_count": 9,
   "id": "337e81d4",
   "metadata": {},
   "outputs": [],
   "source": [
    "def chat(input_text: str) -> None:\n",
    "    # Save new message in the context variables\n",
    "    print(f\"User: {input_text}\")\n",
    "    context[\"user_input\"] = input_text\n",
    "\n",
    "    # Process the user message and get an answer\n",
    "    answer = chat_function.invoke(context=context)\n",
    "\n",
    "    # Show the response\n",
    "    print(f\"ChatBot: {answer}\")\n",
    "\n",
    "    # Append the new interaction to the chat history\n",
    "    context[\"history\"] += f\"\\nUser: {input_text}\\nChatBot: {answer}\\n\""
   ]
  },
  {
   "cell_type": "code",
   "execution_count": 10,
   "id": "9d384ea9",
   "metadata": {},
   "outputs": [
    {
     "name": "stdout",
     "output_type": "stream",
     "text": [
      "User: I love history and philosophy, I'd like to learn something new about Greece, any suggestion?\n",
      "ChatBot: I would recommend \"The Greeks: A Portrait of Self and Others\" by Paul Cartledge. It provides a comprehensive overview of Greek history, culture, and philosophy, and explores the interactions between the Greeks and other civilizations. It's a great book to learn more about Greece and its impact on the world.\n"
     ]
    }
   ],
   "source": [
    "chat(\"I love history and philosophy, I'd like to learn something new about Greece, any suggestion?\")"
   ]
  },
  {
   "cell_type": "code",
   "execution_count": 11,
   "id": "67fb5654",
   "metadata": {},
   "outputs": [
    {
     "name": "stdout",
     "output_type": "stream",
     "text": [
      "User: that sounds interesting, what is it about?\n",
      "ChatBot: \"The Greeks: A Portrait of Self and Others\" is a book that delves into the history, culture, and philosophy of ancient Greece. It explores the origins of Greek civilization, the development of democracy, the rise and fall of the Greek city-states, and the contributions of Greek thinkers such as Socrates, Plato, and Aristotle. The book also examines the interactions between the Greeks and other civilizations, such as the Persians and the Romans. Overall, it provides a comprehensive and engaging exploration of Greece and its impact on the world.\n"
     ]
    }
   ],
   "source": [
    "chat(\"that sounds interesting, what is it about?\")"
   ]
  },
  {
   "cell_type": "code",
   "execution_count": 12,
   "id": "58f5f412",
   "metadata": {},
   "outputs": [
    {
     "name": "stdout",
     "output_type": "stream",
     "text": [
      "User: if I read that book, what exactly will I learn about Greek history?\n",
      "ChatBot: If you read \"The Greeks: A Portrait of Self and Others,\" you will learn about various aspects of Greek history. Some of the key topics covered in the book include the origins of Greek civilization, the development of democracy in Athens, the Persian Wars, the Peloponnesian War, the rise and fall of the Greek city-states, the conquests of Alexander the Great, and the Hellenistic period. You will also learn about the contributions of Greek thinkers and philosophers such as Socrates, Plato, and Aristotle, and their impact on Western philosophy. Overall, the book provides a comprehensive overview of Greek history, culture, and philosophy.\n"
     ]
    }
   ],
   "source": [
    "chat(\"if I read that book, what exactly will I learn about Greek history?\")"
   ]
  },
  {
   "cell_type": "code",
   "execution_count": 13,
   "id": "da2e37ed",
   "metadata": {},
   "outputs": [
    {
     "name": "stdout",
     "output_type": "stream",
     "text": [
      "User: could you list some more books I could read about this topic?\n",
      "ChatBot: Certainly! Here are some more books you could consider reading about Greek history and philosophy:\n",
      "\n",
      "1. \"The Histories\" by Herodotus - This ancient Greek text is considered one of the earliest works of history and provides a detailed account of the Persian Wars.\n",
      "\n",
      "2. \"The Peloponnesian War\" by Thucydides - This book offers an in-depth analysis of the Peloponnesian War between Athens and Sparta, providing valuable insights into Greek politics and warfare.\n",
      "\n",
      "3. \"The Republic\" by Plato - This philosophical work explores the concept of justice and presents Plato's ideal society, offering a glimpse into ancient Greek political and philosophical thought.\n",
      "\n",
      "4. \"The Iliad\" by Homer - This epic poem tells the story of the Trojan War and offers a glimpse into ancient Greek mythology and heroic ideals.\n",
      "\n",
      "5. \"The Rise and Fall of Athens: Nine Greek Lives\" by Plutarch - This book provides biographies of nine influential Greeks, including Pericles, Themistocles, and Alcibiades, offering a deeper understanding of Athenian society and politics.\n",
      "\n",
      "6. \"The Greek Way\" by Edith Hamilton - This book explores the cultural and intellectual achievements of ancient Greece, providing a broader perspective on Greek history and philosophy.\n",
      "\n",
      "These books should provide you with a wealth of knowledge and insights into Greek history and philosophy. Enjoy your reading!\n"
     ]
    }
   ],
   "source": [
    "chat(\"could you list some more books I could read about this topic?\")"
   ]
  },
  {
   "cell_type": "code",
   "execution_count": 14,
   "id": "1c315e61",
   "metadata": {},
   "outputs": [
    {
     "name": "stdout",
     "output_type": "stream",
     "text": [
      "User: Tell me something more about the second book\n",
      "ChatBot: \"The Peloponnesian War\" by Thucydides is a historical account of the war between Athens and Sparta, which took place from 431 to 404 BC. Thucydides, an Athenian general, provides a detailed and objective analysis of the causes, events, and consequences of the war. The book explores the political, military, and social aspects of the conflict, as well as the strategies and tactics employed by both sides. Thucydides' work is highly regarded for its meticulous research, critical analysis, and impartiality. It offers valuable insights into Greek politics, warfare, and the complexities of interstate relations during that time period.\n"
     ]
    }
   ],
   "source": [
    "chat(\"Tell me something more about the second book\")"
   ]
  },
  {
   "cell_type": "code",
   "execution_count": 15,
   "id": "53b3dea9",
   "metadata": {},
   "outputs": [
    {
     "name": "stdout",
     "output_type": "stream",
     "text": [
      ".\n",
      "User: Hi, I'm looking for book suggestions\n",
      "ChatBot: Hi! I'd be happy to help you with book suggestions. What genre or type of books are you interested in?\n",
      "\n",
      "User: I love history and philosophy, I'd like to learn something new about Greece, any suggestion?\n",
      "ChatBot: I would recommend \"The Greeks: A Portrait of Self and Others\" by Paul Cartledge. It provides a comprehensive overview of Greek history, culture, and philosophy, and explores the interactions between the Greeks and other civilizations. It's a great book to learn more about Greece and its impact on the world.\n",
      "\n",
      "User: that sounds interesting, what is it about?\n",
      "ChatBot: \"The Greeks: A Portrait of Self and Others\" is a book that delves into the history, culture, and philosophy of ancient Greece. It explores the origins of Greek civilization, the development of democracy, the rise and fall of the Greek city-states, and the contributions of Greek thinkers such as Socrates, Plato, and Aristotle. The book also examines the interactions between the Greeks and other civilizations, such as the Persians and the Romans. Overall, it provides a comprehensive and engaging exploration of Greece and its impact on the world.\n",
      "\n",
      "User: if I read that book, what exactly will I learn about Greek history?\n",
      "ChatBot: If you read \"The Greeks: A Portrait of Self and Others,\" you will learn about various aspects of Greek history. Some of the key topics covered in the book include the origins of Greek civilization, the development of democracy in Athens, the Persian Wars, the Peloponnesian War, the rise and fall of the Greek city-states, the conquests of Alexander the Great, and the Hellenistic period. You will also learn about the contributions of Greek thinkers and philosophers such as Socrates, Plato, and Aristotle, and their impact on Western philosophy. Overall, the book provides a comprehensive overview of Greek history, culture, and philosophy.\n",
      "\n",
      "User: could you list some more books I could read about this topic?\n",
      "ChatBot: Certainly! Here are some more books you could consider reading about Greek history and philosophy:\n",
      "\n",
      "1. \"The Histories\" by Herodotus - This ancient Greek text is considered one of the earliest works of history and provides a detailed account of the Persian Wars.\n",
      "\n",
      "2. \"The Peloponnesian War\" by Thucydides - This book offers an in-depth analysis of the Peloponnesian War between Athens and Sparta, providing valuable insights into Greek politics and warfare.\n",
      "\n",
      "3. \"The Republic\" by Plato - This philosophical work explores the concept of justice and presents Plato's ideal society, offering a glimpse into ancient Greek political and philosophical thought.\n",
      "\n",
      "4. \"The Iliad\" by Homer - This epic poem tells the story of the Trojan War and offers a glimpse into ancient Greek mythology and heroic ideals.\n",
      "\n",
      "5. \"The Rise and Fall of Athens: Nine Greek Lives\" by Plutarch - This book provides biographies of nine influential Greeks, including Pericles, Themistocles, and Alcibiades, offering a deeper understanding of Athenian society and politics.\n",
      "\n",
      "6. \"The Greek Way\" by Edith Hamilton - This book explores the cultural and intellectual achievements of ancient Greece, providing a broader perspective on Greek history and philosophy.\n",
      "\n",
      "These books should provide you with a wealth of knowledge and insights into Greek history and philosophy. Enjoy your reading!\n",
      "\n",
      "User: Tell me something more about the second book\n",
      "ChatBot: \"The Peloponnesian War\" by Thucydides is a historical account of the war between Athens and Sparta, which took place from 431 to 404 BC. Thucydides, an Athenian general, provides a detailed and objective analysis of the causes, events, and consequences of the war. The book explores the political, military, and social aspects of the conflict, as well as the strategies and tactics employed by both sides. Thucydides' work is highly regarded for its meticulous research, critical analysis, and impartiality. It offers valuable insights into Greek politics, warfare, and the complexities of interstate relations during that time period.\n",
      "\n"
     ]
    }
   ],
   "source": [
    "print(context[\"history\"])"
   ]
  }
 ],
 "metadata": {
  "kernelspec": {
   "display_name": "semantic_kernel",
   "language": "python",
   "name": "semantic_kernel"
  },
  "language_info": {
   "codemirror_mode": {
    "name": "ipython",
    "version": 3
   },
   "file_extension": ".py",
   "mimetype": "text/x-python",
   "name": "python",
   "nbconvert_exporter": "python",
   "pygments_lexer": "ipython3",
   "version": "3.12.1"
  }
 },
 "nbformat": 4,
 "nbformat_minor": 5
}
