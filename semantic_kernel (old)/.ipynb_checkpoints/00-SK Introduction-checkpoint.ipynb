{
 "cells": [
  {
   "cell_type": "code",
   "execution_count": 1,
   "metadata": {},
   "outputs": [],
   "source": [
    "import asyncio\n",
    "import semantic_kernel as sk\n",
    "from semantic_kernel.connectors.ai.open_ai import OpenAIChatCompletion, AzureChatCompletion\n",
    "\n",
    "kernel = sk.Kernel()"
   ]
  },
  {
   "cell_type": "code",
   "execution_count": 2,
   "metadata": {},
   "outputs": [
    {
     "data": {
      "text/plain": [
       "('gpt4-1106-128k', 'https://mmopenaiaue.openai.azure.com/')"
      ]
     },
     "execution_count": 2,
     "metadata": {},
     "output_type": "execute_result"
    }
   ],
   "source": [
    "deployment_name, api_key, endpoint  = sk.azure_openai_settings_from_dot_env()\n",
    "deployment_name, endpoint "
   ]
  },
  {
   "cell_type": "code",
   "execution_count": 3,
   "metadata": {},
   "outputs": [
    {
     "data": {
      "text/plain": [
       "Kernel(plugins=KernelPluginCollection(plugins={}), prompt_template_engine=PromptTemplateEngine(), memory=NullMemory(), text_completion_services={'chat-gpt': <function Kernel.add_text_completion_service.<locals>.<lambda> at 0x7f380dcc51c0>}, chat_services={'chat-gpt': <function Kernel.add_chat_service.<locals>.<lambda> at 0x7f380dcc5120>}, text_embedding_generation_services={}, default_text_completion_service='chat-gpt', default_chat_service='chat-gpt', default_text_embedding_generation_service=None, retry_mechanism=PassThroughWithoutRetry(), function_invoking_handlers={}, function_invoked_handlers={})"
      ]
     },
     "execution_count": 3,
     "metadata": {},
     "output_type": "execute_result"
    }
   ],
   "source": [
    "kernel.add_chat_service(\"chat-gpt\", AzureChatCompletion(deployment_name=deployment_name, endpoint=endpoint, api_key= api_key))\n",
    "kernel"
   ]
  },
  {
   "cell_type": "code",
   "execution_count": 4,
   "metadata": {},
   "outputs": [],
   "source": [
    "# Wrap your prompt (without parameters) in a function\n",
    "semantic_function_NO_params = kernel.create_semantic_function(\"\"\"\n",
    "1) A robot may not injure a human being or, through inaction,\n",
    "allow a human being to come to harm.\n",
    "2) A robot must obey orders given it by human beings except where\n",
    "such orders would conflict with the First Law.\n",
    "3) A robot must protect its own existence as long as such protection\n",
    "does not conflict with the First or Second Law.\n",
    "Give me the TLDR in exactly 5 words.\"\"\")"
   ]
  },
  {
   "cell_type": "code",
   "execution_count": 5,
   "metadata": {},
   "outputs": [],
   "source": [
    "# Wrap your prompt (WITH parameters) in a function\n",
    "semantic_function_WITH_params = kernel.create_semantic_function(\"{{$input}}\\n\\nOne line TLDR with the fewest words.\")"
   ]
  },
  {
   "cell_type": "code",
   "execution_count": 6,
   "metadata": {},
   "outputs": [
    {
     "name": "stdout",
     "output_type": "stream",
     "text": [
      "Robots prioritize human safety, obedience.\n",
      "Energy conserved, disorder increases, perfect cold order.\n",
      "Newton's three laws: inertia, F=ma, action-reaction.\n",
      "Gravity: Force ∝ mass product / distance².\n"
     ]
    }
   ],
   "source": [
    "async def main():\n",
    "    print(await semantic_function_NO_params()) # => Robots must not harm humans.\n",
    "\n",
    "    # Summarize the laws of thermodynamics\n",
    "    print(await semantic_function_WITH_params(\"\"\"\n",
    "    1st Law of Thermodynamics - Energy cannot be created or destroyed.\n",
    "    2nd Law of Thermodynamics - For a spontaneous process, the entropy of the universe increases.\n",
    "    3rd Law of Thermodynamics - A perfect crystal at zero Kelvin has zero entropy.\"\"\"))\n",
    "    \n",
    "    # Summarize the laws of motion\n",
    "    print(await semantic_function_WITH_params(\"\"\"\n",
    "    1. An object at rest remains at rest, and an object in motion remains in motion at constant speed and in a straight line unless acted on by an unbalanced force.\n",
    "    2. The acceleration of an object depends on the mass of the object and the amount of force applied.\n",
    "    3. Whenever one object exerts a force on another object, the second object exerts an equal and opposite on the first.\"\"\"))\n",
    "    \n",
    "    # Summarize the law of universal gravitation\n",
    "    print(await semantic_function_WITH_params(\"\"\"\n",
    "    Every point mass attracts every single other point mass by a force acting along the line intersecting both points.\n",
    "    The force is proportional to the product of the two masses and inversely proportional to the square of the distance between them.\"\"\"))\n",
    "    \n",
    "if get_ipython().__class__.__name__ == 'ZMQInteractiveShell': # type: ignore # we are in a jupyter notebook\n",
    "    await main()\n",
    "else:\n",
    "    if __name__ == \"__main__\":\n",
    "        asyncio.run(main())"
   ]
  },
  {
   "cell_type": "markdown",
   "metadata": {},
   "source": [
    "# Everything in a single cell"
   ]
  },
  {
   "cell_type": "code",
   "execution_count": 1,
   "metadata": {},
   "outputs": [
    {
     "name": "stdout",
     "output_type": "stream",
     "text": [
      "Robots prioritize human safety, orders.\n",
      "Energy conserved, entropy grows, perfect cold order.\n",
      "Newton's three laws: inertia, F=ma, action-reaction.\n",
      "Gravity: Force ∝ mass product / distance².\n"
     ]
    }
   ],
   "source": [
    "import asyncio\n",
    "import semantic_kernel as sk\n",
    "from semantic_kernel.connectors.ai.open_ai import OpenAIChatCompletion, AzureChatCompletion\n",
    "\n",
    "kernel = sk.Kernel()\n",
    "\n",
    "# Prepare Azure OpenAI service using credentials stored in the `.env` file\n",
    "deployment_name, api_key, endpoint  = sk.azure_openai_settings_from_dot_env()\n",
    "kernel.add_chat_service(\"chat-gpt\", AzureChatCompletion(deployment_name=deployment_name, endpoint=endpoint, api_key= api_key))\n",
    "\n",
    "# Wrap your prompt in a function\n",
    "semantic_function_NO_params = kernel.create_semantic_function(\"\"\"\n",
    "1) A robot may not injure a human being or, through inaction,\n",
    "allow a human being to come to harm.\n",
    "2) A robot must obey orders given it by human beings except where\n",
    "such orders would conflict with the First Law.\n",
    "3) A robot must protect its own existence as long as such protection\n",
    "does not conflict with the First or Second Law.\n",
    "Give me the TLDR in exactly 5 words.\"\"\")\n",
    "\n",
    "semantic_function_WITH_params = kernel.create_semantic_function(\"{{$input}}\\n\\nOne line TLDR with the fewest words.\")\n",
    "\n",
    "# Run your prompt\n",
    "# Note: functions are run asynchronously\n",
    "async def main():\n",
    "    print(await semantic_function_NO_params()) # => Robots must not harm humans.\n",
    "    \n",
    "    # Summarize the laws of thermodynamics\n",
    "    print(await semantic_function_WITH_params(\"\"\"\n",
    "    1st Law of Thermodynamics - Energy cannot be created or destroyed.\n",
    "    2nd Law of Thermodynamics - For a spontaneous process, the entropy of the universe increases.\n",
    "    3rd Law of Thermodynamics - A perfect crystal at zero Kelvin has zero entropy.\"\"\"))\n",
    "    \n",
    "    # Summarize the laws of motion\n",
    "    print(await semantic_function_WITH_params(\"\"\"\n",
    "    1. An object at rest remains at rest, and an object in motion remains in motion at constant speed and in a straight line unless acted on by an unbalanced force.\n",
    "    2. The acceleration of an object depends on the mass of the object and the amount of force applied.\n",
    "    3. Whenever one object exerts a force on another object, the second object exerts an equal and opposite on the first.\"\"\"))\n",
    "    \n",
    "    # Summarize the law of universal gravitation\n",
    "    print(await semantic_function_WITH_params(\"\"\"\n",
    "    Every point mass attracts every single other point mass by a force acting along the line intersecting both points.\n",
    "    The force is proportional to the product of the two masses and inversely proportional to the square of the distance between them.\"\"\"))\n",
    "    \n",
    "    \n",
    "if get_ipython().__class__.__name__ == 'ZMQInteractiveShell': # type: ignore # we are in a jupyter notebook\n",
    "    await main()\n",
    "else:\n",
    "    if __name__ == \"__main__\":\n",
    "        asyncio.run(main())"
   ]
  }
 ],
 "metadata": {
  "kernelspec": {
   "display_name": "semantic_kernel",
   "language": "python",
   "name": "semantic_kernel"
  },
  "language_info": {
   "codemirror_mode": {
    "name": "ipython",
    "version": 3
   },
   "file_extension": ".py",
   "mimetype": "text/x-python",
   "name": "python",
   "nbconvert_exporter": "python",
   "pygments_lexer": "ipython3",
   "version": "3.12.1"
  }
 },
 "nbformat": 4,
 "nbformat_minor": 2
}
