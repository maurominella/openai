{
 "cells": [
  {
   "cell_type": "markdown",
   "id": "d18d57c4",
   "metadata": {},
   "source": [
    "# Documentation\n",
    "https://github.com/microsoft/semantic-kernel/blob/main/samples/notebooks/python/00-getting-started.ipynb"
   ]
  },
  {
   "cell_type": "code",
   "execution_count": null,
   "id": "a95fe535",
   "metadata": {},
   "outputs": [],
   "source": [
    "# !python -m pip install -r requirements.txt\n",
    "\n",
    "import semantic_kernel as sk\n",
    "\n",
    "kernel_emb = sk.Kernel()\n",
    "kernel_txt = sk.Kernel()\n",
    "\n",
    "# another way to retrieve openai constants\n",
    "azure_openai_deployment_txt, azure_openai_api_key, azure_openai_endpoint = sk.azure_openai_settings_from_dot_env()"
   ]
  },
  {
   "cell_type": "code",
   "execution_count": null,
   "id": "6e8c1c53",
   "metadata": {},
   "outputs": [],
   "source": [
    "from semantic_kernel.connectors.ai.open_ai import AzureTextCompletion\n",
    "\n",
    "azure_openai_deployment_txt, api_key, endpoint = sk.azure_openai_settings_from_dot_env()\n",
    "\n",
    "kernel_txt.add_text_completion_service(azure_openai_deployment_txt, \n",
    "    AzureTextCompletion(\n",
    "        azure_openai_deployment_txt, \n",
    "        azure_openai_endpoint, \n",
    "        azure_openai_api_key))\n",
    "\n",
    "kernel_txt.set_default_text_completion_service(azure_openai_deployment_txt)\n",
    "\n",
    "# print(f\"deployment:\\t{azure_openai_deployment_txt}\\napi_key:\\t{azure_openai_api_key}\\nendpoint:\\t{azure_openai_endpoint}\")\n",
    "print(f\"deployment:\\t{azure_openai_deployment_txt}\\napi_key:\\t*****\\nendpoint:\\t{azure_openai_endpoint}\")"
   ]
  },
  {
   "cell_type": "markdown",
   "id": "9af2e41c",
   "metadata": {},
   "source": [
    "# Text to summarize"
   ]
  },
  {
   "cell_type": "code",
   "execution_count": null,
   "id": "898642db",
   "metadata": {},
   "outputs": [],
   "source": [
    "prompt_01 = \"\"\"\n",
    "1) A robot may not injure a human being or, through inaction,\n",
    "allow a human being to come to harm.\n",
    "\n",
    "2) A robot must obey orders given it by human beings except where\n",
    "such orders would conflict with the First Law.\n",
    "\n",
    "3) A robot must protect its own existence as long as such protection\n",
    "does not conflict with the First or Second Law.\n",
    "\n",
    "What do you think?\"\"\""
   ]
  },
  {
   "cell_type": "markdown",
   "id": "21cc7e43",
   "metadata": {},
   "source": [
    "# Method 1: wrap your prompt in a function"
   ]
  },
  {
   "cell_type": "code",
   "execution_count": null,
   "id": "a4ff2783",
   "metadata": {},
   "outputs": [],
   "source": [
    "# Wrap your prompt in a function\n",
    "tldr_function1 = kernel_txt.create_semantic_function(prompt_01)\n",
    "\n",
    "# Run your prompt\n",
    "print(tldr_function1()) # => Robots must not harm humans."
   ]
  },
  {
   "cell_type": "markdown",
   "id": "af7ba760",
   "metadata": {},
   "source": [
    "# Method 2: enrich your prompt"
   ]
  },
  {
   "cell_type": "code",
   "execution_count": null,
   "id": "d51dce2b",
   "metadata": {},
   "outputs": [],
   "source": [
    "prompt_02 = f\"\"\"\n",
    "{prompt_01}\n",
    "\n",
    "Give me the TLDR in 5 words\n",
    "\"\"\"\n",
    "\n",
    "prompt_02"
   ]
  },
  {
   "cell_type": "code",
   "execution_count": null,
   "id": "36f7b44d",
   "metadata": {},
   "outputs": [],
   "source": [
    "tldr_function_02 = kernel.create_semantic_function(\n",
    "    prompt_template=prompt_02,\n",
    "    max_tokens=200,\n",
    "    temperature=0,\n",
    "    top_p=0.5            \n",
    ")\n",
    "\n",
    "# Run your prompt\n",
    "print(tldr_function_02()) # => Robots must not harm humans."
   ]
  },
  {
   "cell_type": "markdown",
   "id": "9c838c64",
   "metadata": {},
   "source": [
    "# Method 3 -  Load a Skill and run a semantic function\n",
    "semantic-kernel/samples/notebooks/python/00-getting-started.ipynb\n",
    "\n",
    "### config.json\n",
    "```\n",
    "{\n",
    "  \"schema\": 1,\n",
    "  \"description\": \"Generate a funny joke\",\n",
    "  \"type\": \"completion\",\n",
    "  \"completion\": {\n",
    "    \"max_tokens\": 1000,\n",
    "    \"temperature\": 0.9,\n",
    "    \"top_p\": 0.0,\n",
    "    \"presence_penalty\": 0.0,\n",
    "    \"frequency_penalty\": 0.0\n",
    "  },\n",
    "  \"input\": {\n",
    "    \"parameters\": [\n",
    "      {\n",
    "        \"name\": \"input\",\n",
    "        \"description\": \"Joke subject\",\n",
    "        \"defaultValue\": \"\"\n",
    "      }\n",
    "    ]\n",
    "  }\n",
    "}\n",
    "```\n",
    "\n",
    "### skprompt.txt\n",
    "```\n",
    "WRITE EXACTLY ONE JOKE or HUMOROUS STORY ABOUT THE TOPIC BELOW\n",
    "\n",
    "JOKE MUST BE:\n",
    "- G RATED\n",
    "- WORKPLACE/FAMILY SAFE\n",
    "NO SEXISM, RACISM OR OTHER BIAS/BIGOTRY\n",
    "\n",
    "BE CREATIVE AND FUNNY. I WANT TO LAUGH.\n",
    "{{$style}}\n",
    "+++++\n",
    "\n",
    "{{$input}}\n",
    "+++++\n",
    "```"
   ]
  },
  {
   "cell_type": "code",
   "execution_count": null,
   "id": "cac51aed",
   "metadata": {},
   "outputs": [],
   "source": [
    "skill = kernel.import_semantic_skill_from_directory(\"./skills\", \"FunSkill\")\n",
    "joke_function = skill[\"Joke\"]\n",
    "\n",
    "print(joke_function(\"time travel to dinosaur age\"))"
   ]
  },
  {
   "cell_type": "code",
   "execution_count": null,
   "id": "f9fb24b2",
   "metadata": {},
   "outputs": [],
   "source": []
  },
  {
   "cell_type": "code",
   "execution_count": null,
   "id": "0e91ad2d",
   "metadata": {},
   "outputs": [],
   "source": []
  },
  {
   "cell_type": "code",
   "execution_count": null,
   "id": "8e53d3ac",
   "metadata": {},
   "outputs": [],
   "source": []
  },
  {
   "cell_type": "code",
   "execution_count": null,
   "id": "89b4b08b",
   "metadata": {},
   "outputs": [],
   "source": []
  },
  {
   "cell_type": "code",
   "execution_count": null,
   "id": "f4692094",
   "metadata": {},
   "outputs": [],
   "source": [
    "from semantic_kernel.ai.open_ai import AzureTextCompletion\n",
    "\n",
    "deployment = \"text-davinci-003\"\n",
    "api_key = \"80b0c9c475aa40f9be0003cb088f64db\"\n",
    "endpoint = \"https://mmopenai01.openai.azure.com/\"\n",
    "\n",
    "\n",
    "kernel.config.add_text_backend(\"dv\", AzureTextCompletion(deployment, endpoint, api_key))\n",
    "\n",
    "env_file = \"\"\"\n",
    "AZURE_OPENAI_DEPLOYMENT_NAME=\"text-davinci-003\"\n",
    "AZURE_OPENAI_ENDPOINT=\"https://mmopenai01.openai.azure.com/\"\n",
    "AZURE_OPENAI_API_KEY=\"80b0c9c475aa40f9be0003cb088f64db\"\n",
    "\"\"\""
   ]
  }
 ],
 "metadata": {
  "kernelspec": {
   "display_name": "semantic_kernel",
   "language": "python",
   "name": "semantic_kernel"
  },
  "language_info": {
   "codemirror_mode": {
    "name": "ipython",
    "version": 3
   },
   "file_extension": ".py",
   "mimetype": "text/x-python",
   "name": "python",
   "nbconvert_exporter": "python",
   "pygments_lexer": "ipython3",
   "version": "3.12.1"
  }
 },
 "nbformat": 4,
 "nbformat_minor": 5
}
