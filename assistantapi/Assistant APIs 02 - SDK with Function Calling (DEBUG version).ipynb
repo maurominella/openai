{
 "cells": [
  {
   "cell_type": "code",
   "execution_count": null,
   "id": "0094dfce",
   "metadata": {},
   "outputs": [],
   "source": [
    "def get_flights(date_1, date_2):\n",
    "    \"\"\" Returns the number of flights in a date interval  \"\"\"\n",
    "    import json\n",
    "    from dateutil.parser import parse\n",
    "    flights = {\n",
    "        \"flights\": abs((parse(date_2) - parse(date_1)).days) \n",
    "    }\n",
    "    return json.dumps(flights)\n",
    "\n",
    "def my_cat_born_date():\n",
    "    \"\"\" Returns my cat's born date \"\"\"\n",
    "    import datetime, random\n",
    "    from dateutil.relativedelta import relativedelta\n",
    "    \n",
    "    # Calculate the date as ten years ago  \n",
    "    ten_years_ago = datetime.date.today() - relativedelta(years=10) \n",
    "    \n",
    "    cat_born_date = {\n",
    "        \"cat_born_date\": ten_years_ago.strftime(\"%Y-%m-%d\")\n",
    "    }\n",
    "    return json.dumps(cat_born_date)\n",
    "\n",
    "tools = [\n",
    "    {\n",
    "        \"type\": \"function\",\n",
    "        \"function\": {\n",
    "            \"name\": \"get_flights\",            \n",
    "            \"description\": \"returns the number of flights between two dates\",\n",
    "            \"parameters\": {\n",
    "                \"type\": \"object\",\n",
    "                \"properties\": {\n",
    "                    \"date_1\": {\"type\": \"string\", \"description\": \"the first date\"},\n",
    "                    \"date_2\": {\"type\": \"string\", \"description\": \"the second date\"}\n",
    "                }\n",
    "            },\n",
    "            \"required\": [\"date_1\", \"date_2\"]\n",
    "        }\n",
    "    },\n",
    "    {\n",
    "        \"type\": \"function\",\n",
    "        \"function\": {\n",
    "            \"name\": \"my_cat_born_date\",            \n",
    "            \"description\": \"returns my cat's born date\",\n",
    "            \"parameters\": {\n",
    "                \"type\": \"object\",\n",
    "                \"properties\": {\n",
    "\n",
    "                }\n",
    "            },\n",
    "            \"required\": []\n",
    "        }\n",
    "    }\n",
    "]"
   ]
  },
  {
   "cell_type": "code",
   "execution_count": null,
   "id": "2a14bcb4",
   "metadata": {},
   "outputs": [],
   "source": [
    "import os\n",
    "from dotenv import load_dotenv # requires python-dotenv\n",
    "\n",
    "load_dotenv(\"./../credentials_my.env\")\n",
    "MODEL = os.environ[\"GPT4-1106-128k\"]\n",
    "QUESTION = \"How many flights do we have between my cat born date and Easter 2021?\""
   ]
  },
  {
   "cell_type": "code",
   "execution_count": null,
   "id": "b79a34ab",
   "metadata": {},
   "outputs": [],
   "source": [
    "from openai import AzureOpenAI"
   ]
  },
  {
   "cell_type": "code",
   "execution_count": null,
   "id": "e4c7b7e2",
   "metadata": {},
   "outputs": [],
   "source": [
    "# Create the client\n",
    "client = AzureOpenAI(\n",
    "    api_key=os.getenv(\"AZURE_OPENAI_API_KEY\"),  \n",
    "    api_version=\"2024-02-15-preview\", # at least 2024-02-15-preview\n",
    "    azure_endpoint = os.getenv(\"AZURE_OPENAI_ENDPOINT\")\n",
    "    )"
   ]
  },
  {
   "cell_type": "code",
   "execution_count": null,
   "id": "a3857b8b",
   "metadata": {},
   "outputs": [],
   "source": [
    "# Create an assistant\n",
    "assistant = client.beta.assistants.create(\n",
    "    name=\"Smart Assistant\",\n",
    "    instructions=f\"You are a helpful AI assistant who helps answering questions\",\n",
    "    tools = tools,\n",
    "    model = MODEL\n",
    ")\n",
    "\n",
    "print(assistant.model_dump_json(indent=2))"
   ]
  },
  {
   "cell_type": "code",
   "execution_count": null,
   "id": "d2924b7d",
   "metadata": {},
   "outputs": [],
   "source": [
    "# Create a thread\n",
    "thread = client.beta.threads.create()\n",
    "print(thread)"
   ]
  },
  {
   "cell_type": "code",
   "execution_count": null,
   "id": "e7c35fe4",
   "metadata": {},
   "outputs": [],
   "source": [
    "# Add a user question to the thread\n",
    "message = client.beta.threads.messages.create(\n",
    "    thread_id=thread.id,\n",
    "    role=\"user\",\n",
    "    content=QUESTION\n",
    ")\n",
    "\n",
    "thread_messages = client.beta.threads.messages.list(thread.id)\n",
    "\n",
    "print(thread_messages.model_dump_json(indent=2))"
   ]
  },
  {
   "cell_type": "code",
   "execution_count": null,
   "id": "6a99a52f",
   "metadata": {},
   "outputs": [],
   "source": [
    "import time, json\n",
    "\n",
    "run            = client.beta.threads.runs.create(\n",
    "  thread_id    = thread.id,\n",
    "  assistant_id = assistant.id,\n",
    "  #instructions=\"New instructions\" #You can optionally provide new instructions but these will override the default instructions\n",
    ")\n",
    "\n",
    "print(run.status)"
   ]
  },
  {
   "cell_type": "code",
   "execution_count": null,
   "id": "cdc8831b",
   "metadata": {},
   "outputs": [],
   "source": [
    "# Retrieve Run Status\n",
    "\n",
    "run_json = json.loads(client.beta.threads.runs.retrieve(thread_id=thread.id, run_id=run.id).model_dump_json())\n",
    "run_json"
   ]
  },
  {
   "cell_type": "code",
   "execution_count": null,
   "id": "ff4b5e0f",
   "metadata": {},
   "outputs": [],
   "source": [
    "tc_id= run_json['required_action']['submit_tool_outputs']['tool_calls'][0]['id']\n",
    "tc_id"
   ]
  },
  {
   "cell_type": "code",
   "execution_count": null,
   "id": "58c7db6a",
   "metadata": {},
   "outputs": [],
   "source": [
    "tc_function_name= run_json['required_action']['submit_tool_outputs']['tool_calls'][0]['function']['name']\n",
    "tc_function_name"
   ]
  },
  {
   "cell_type": "code",
   "execution_count": null,
   "id": "b7b4960d",
   "metadata": {},
   "outputs": [],
   "source": [
    "tc_args= run_json['required_action']['submit_tool_outputs']['tool_calls'][0]['function']['arguments']\n",
    "tc_args"
   ]
  },
  {
   "cell_type": "code",
   "execution_count": null,
   "id": "841d760f",
   "metadata": {},
   "outputs": [],
   "source": [
    "eval(\"print(3*5)\")"
   ]
  },
  {
   "cell_type": "code",
   "execution_count": null,
   "id": "c17e60f1",
   "metadata": {},
   "outputs": [],
   "source": [
    "tool_response = eval(tc_function_name)(**json.loads(tc_args))\n",
    "tool_response"
   ]
  },
  {
   "cell_type": "code",
   "execution_count": null,
   "id": "cc1b8050",
   "metadata": {},
   "outputs": [],
   "source": [
    "tool_response_full = {\"tool_call_id\": tc_id, \"output\": tool_response}\n",
    "tool_response_full"
   ]
  },
  {
   "cell_type": "code",
   "execution_count": null,
   "id": "5c4e9e0f",
   "metadata": {},
   "outputs": [],
   "source": [
    "tool_responses = []\n",
    "tool_responses.append(tool_response_full)\n",
    "tool_responses"
   ]
  },
  {
   "cell_type": "code",
   "execution_count": null,
   "id": "3e3fb76d",
   "metadata": {},
   "outputs": [],
   "source": [
    "run = client.beta.threads.runs.submit_tool_outputs(\n",
    "    thread_id=thread.id,\n",
    "    tool_outputs=tool_responses,\n",
    "    run_id=run.id\n",
    ")\n",
    "\n",
    "run.status\n",
    "\n",
    "# now we can come back to \"Retrieve Run Status\" above"
   ]
  },
  {
   "cell_type": "code",
   "execution_count": null,
   "id": "71eec054",
   "metadata": {},
   "outputs": [],
   "source": [
    "# Run this cell only when status = \"completed\"\n",
    "\n",
    "run_json = json.loads(client.beta.threads.runs.retrieve(thread_id=thread.id, run_id=run.id).model_dump_json())\n",
    "run_json"
   ]
  },
  {
   "cell_type": "code",
   "execution_count": null,
   "id": "21cadc93",
   "metadata": {},
   "outputs": [],
   "source": [
    "client.beta.threads.messages.list(thread_id=thread.id).model_dump_json()"
   ]
  },
  {
   "cell_type": "code",
   "execution_count": null,
   "id": "5e8746f4",
   "metadata": {},
   "outputs": [],
   "source": [
    "json.loads(client.beta.threads.messages.list(thread_id=thread.id).model_dump_json())[\"data\"][0][\"content\"][0][\"text\"][\"value\"]"
   ]
  },
  {
   "cell_type": "markdown",
   "id": "8e89ee13",
   "metadata": {},
   "source": [
    "# Final implementation"
   ]
  },
  {
   "cell_type": "code",
   "execution_count": null,
   "id": "3ee1a7c3",
   "metadata": {},
   "outputs": [],
   "source": [
    "import time, json\n",
    "\n",
    "print (f\"Question: <{QUESTION}>\")\n",
    "\n",
    "# Create a thread\n",
    "thread = client.beta.threads.create()\n",
    "\n",
    "# Add a user question to the thread\n",
    "message = client.beta.threads.messages.create(\n",
    "    thread_id=thread.id,\n",
    "    role=\"user\",\n",
    "    content=QUESTION\n",
    ")\n",
    "\n",
    "run            = client.beta.threads.runs.create(\n",
    "  thread_id    = thread.id,\n",
    "  assistant_id = assistant.id,\n",
    "  #instructions=\"New instructions\" #You can optionally provide new instructions but these will override the default instructions\n",
    ")\n",
    "\n",
    "start_time = time.time()\n",
    "status = run.status\n",
    "\n",
    "while status not in [\"completed\", \"cancelled\", \"expired\", \"failed\"]:\n",
    "    run = client.beta.threads.runs.retrieve(thread_id=thread.id,run_id=run.id)\n",
    "    print( f\"Run status: {status} after {int((time.time() - start_time) // 60)} minutes {int((time.time() - start_time) % 60)} seconds\")\n",
    "    \n",
    "    if status == \"requires_action\":\n",
    "        tool_calls = run.required_action.submit_tool_outputs.tool_calls\n",
    "        tool_responses = []\n",
    "        for tc in tool_calls:\n",
    "            function_to_call = tc.function.name\n",
    "            function_args = tc.function.arguments\n",
    "            tool_response = eval(function_to_call)(**json.loads(function_args))\n",
    "            tool_responses.append({\"tool_call_id\": tc.id, \"output\": tool_response})\n",
    "\n",
    "            print(f\"Calling {tc.function.name}(**{tc.function.arguments}) --> {tool_response}\")\n",
    "\n",
    "        run = client.beta.threads.runs.submit_tool_outputs(\n",
    "            thread_id=thread.id, run_id=run.id, tool_outputs=tool_responses)\n",
    "\n",
    "    time.sleep(5)\n",
    "    status = run.status\n",
    "        \n",
    "print( f\"\\nRun status: {status} after {int((time.time() - start_time) // 60)} minutes {int((time.time() - start_time) % 60)} seconds\")\n",
    "messages = client.beta.threads.messages.list(thread_id=thread.id)\n",
    "print(json.loads(messages.json())[\"data\"][0][\"content\"][0][\"text\"][\"value\"])"
   ]
  }
 ],
 "metadata": {
  "kernelspec": {
   "display_name": "assistantapi",
   "language": "python",
   "name": "assistantapi"
  },
  "language_info": {
   "codemirror_mode": {
    "name": "ipython",
    "version": 3
   },
   "file_extension": ".py",
   "mimetype": "text/x-python",
   "name": "python",
   "nbconvert_exporter": "python",
   "pygments_lexer": "ipython3",
   "version": "3.11.8"
  }
 },
 "nbformat": 4,
 "nbformat_minor": 5
}
