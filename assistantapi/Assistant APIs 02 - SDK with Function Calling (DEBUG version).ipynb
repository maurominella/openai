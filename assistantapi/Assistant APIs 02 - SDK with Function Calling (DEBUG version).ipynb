{
 "cells": [
  {
   "cell_type": "code",
   "execution_count": 1,
   "id": "0094dfce",
   "metadata": {},
   "outputs": [],
   "source": [
    "def get_flights(date_1, date_2):\n",
    "    \"\"\" Returns the number of flights in a date interval  \"\"\"\n",
    "    import json\n",
    "    from dateutil.parser import parse\n",
    "    flights = {\n",
    "        \"flights\": abs((parse(date_2) - parse(date_1)).days) \n",
    "    }\n",
    "    return json.dumps(flights)\n",
    "\n",
    "def my_cat_born_date():\n",
    "    \"\"\" Returns my cat's born date \"\"\"\n",
    "    import datetime, random\n",
    "    from dateutil.relativedelta import relativedelta\n",
    "    \n",
    "    # Calculate the date as ten years ago  \n",
    "    ten_years_ago = datetime.date.today() - relativedelta(years=10) \n",
    "    \n",
    "    cat_born_date = {\n",
    "        \"cat_born_date\": ten_years_ago.strftime(\"%Y-%m-%d\")\n",
    "    }\n",
    "    return json.dumps(cat_born_date)\n",
    "\n",
    "\n",
    "tools = [\n",
    "  {\n",
    "    \"type\": \"function\",\n",
    "    \"function\": {\n",
    "      \"name\": \"get_flights\",\n",
    "      \"description\": \"returns the number of flights between two dates\",\n",
    "      \"parameters\": {\n",
    "        \"type\": \"object\",\n",
    "        \"properties\": {\n",
    "          \"date_1\": {\n",
    "            \"type\": \"string\",\n",
    "            \"description\": \"the first date\"\n",
    "          },\n",
    "          \"date_2\": {\n",
    "            \"type\": \"string\",\n",
    "            \"description\": \"the second date\"\n",
    "          }\n",
    "        },\n",
    "        \"required\": [\n",
    "          \"date_1\",\n",
    "          \"date_2\"\n",
    "        ]\n",
    "      }\n",
    "    }\n",
    "  },\n",
    "  {\n",
    "    \"type\": \"function\",\n",
    "    \"function\": {\n",
    "      \"name\": \"my_cat_born_date\",\n",
    "      \"description\": \"returns my cat's born date\",\n",
    "      \"parameters\": {\n",
    "        \"type\": \"object\",\n",
    "        \"properties\": {},\n",
    "        \"required\": []\n",
    "      }\n",
    "    }\n",
    "  }\n",
    "]"
   ]
  },
  {
   "cell_type": "code",
   "execution_count": 2,
   "id": "2a14bcb4",
   "metadata": {},
   "outputs": [],
   "source": [
    "import os\n",
    "from dotenv import load_dotenv # requires python-dotenv\n",
    "\n",
    "load_dotenv(\"./../credentials_my.env\")\n",
    "MODEL = os.environ[\"GPT4-1106-128k\"]\n",
    "QUESTION = \"How many flights do we have between my cat born date and Easter 2021?\""
   ]
  },
  {
   "cell_type": "code",
   "execution_count": 3,
   "id": "b79a34ab",
   "metadata": {},
   "outputs": [],
   "source": [
    "from openai import AzureOpenAI"
   ]
  },
  {
   "cell_type": "code",
   "execution_count": 4,
   "id": "e4c7b7e2",
   "metadata": {},
   "outputs": [],
   "source": [
    "# Create the client\n",
    "client = AzureOpenAI(\n",
    "    api_key=os.getenv(\"AZURE_OPENAI_API_KEY\"),  \n",
    "    api_version=\"2024-02-15-preview\", # at least 2024-02-15-preview\n",
    "    azure_endpoint = os.getenv(\"AZURE_OPENAI_ENDPOINT\")\n",
    "    )"
   ]
  },
  {
   "cell_type": "code",
   "execution_count": 5,
   "id": "a3857b8b",
   "metadata": {},
   "outputs": [
    {
     "name": "stdout",
     "output_type": "stream",
     "text": [
      "{\n",
      "  \"id\": \"asst_mvRu2yiJxtD9CG99f4KYsIuf\",\n",
      "  \"created_at\": 1712779383,\n",
      "  \"description\": null,\n",
      "  \"file_ids\": [],\n",
      "  \"instructions\": \"You are a helpful AI assistant who helps answering questions\",\n",
      "  \"metadata\": {},\n",
      "  \"model\": \"gpt4-1106-128k\",\n",
      "  \"name\": \"Smart Assistant\",\n",
      "  \"object\": \"assistant\",\n",
      "  \"tools\": [\n",
      "    {\n",
      "      \"function\": {\n",
      "        \"name\": \"get_flights\",\n",
      "        \"description\": \"returns the number of flights between two dates\",\n",
      "        \"parameters\": {\n",
      "          \"type\": \"object\",\n",
      "          \"properties\": {\n",
      "            \"date_1\": {\n",
      "              \"type\": \"string\",\n",
      "              \"description\": \"the first date\"\n",
      "            },\n",
      "            \"date_2\": {\n",
      "              \"type\": \"string\",\n",
      "              \"description\": \"the second date\"\n",
      "            }\n",
      "          },\n",
      "          \"required\": [\n",
      "            \"date_1\",\n",
      "            \"date_2\"\n",
      "          ]\n",
      "        }\n",
      "      },\n",
      "      \"type\": \"function\"\n",
      "    },\n",
      "    {\n",
      "      \"function\": {\n",
      "        \"name\": \"my_cat_born_date\",\n",
      "        \"description\": \"returns my cat's born date\",\n",
      "        \"parameters\": {\n",
      "          \"type\": \"object\",\n",
      "          \"properties\": {},\n",
      "          \"required\": []\n",
      "        }\n",
      "      },\n",
      "      \"type\": \"function\"\n",
      "    }\n",
      "  ]\n",
      "}\n"
     ]
    }
   ],
   "source": [
    "# Create an assistant\n",
    "assistant = client.beta.assistants.create(\n",
    "    name=\"Smart Assistant\",\n",
    "    instructions=f\"You are a helpful AI assistant who helps answering questions\",\n",
    "    tools=tools,\n",
    "    model = MODEL\n",
    ")\n",
    "\n",
    "print(assistant.model_dump_json(indent=2))"
   ]
  },
  {
   "cell_type": "code",
   "execution_count": 6,
   "id": "d2924b7d",
   "metadata": {},
   "outputs": [
    {
     "name": "stdout",
     "output_type": "stream",
     "text": [
      "Thread(id='thread_j6E9zauVEcq3sOlCc0vr87SM', created_at=1712779424, metadata={}, object='thread', tool_resources=[])\n"
     ]
    }
   ],
   "source": [
    "# Create a thread\n",
    "thread = client.beta.threads.create()\n",
    "print(thread)"
   ]
  },
  {
   "cell_type": "code",
   "execution_count": 8,
   "id": "e7c35fe4",
   "metadata": {},
   "outputs": [
    {
     "name": "stdout",
     "output_type": "stream",
     "text": [
      "{\n",
      "  \"data\": [\n",
      "    {\n",
      "      \"id\": \"msg_D5tKk7mUBgr2sM1Xj9QjHvpn\",\n",
      "      \"assistant_id\": null,\n",
      "      \"completed_at\": null,\n",
      "      \"content\": [\n",
      "        {\n",
      "          \"text\": {\n",
      "            \"annotations\": [],\n",
      "            \"value\": \"How many flights do we have between my cat born date and Easter 2021?\"\n",
      "          },\n",
      "          \"type\": \"text\"\n",
      "        }\n",
      "      ],\n",
      "      \"created_at\": 1712779469,\n",
      "      \"file_ids\": [],\n",
      "      \"incomplete_at\": null,\n",
      "      \"incomplete_details\": null,\n",
      "      \"metadata\": {},\n",
      "      \"object\": \"thread.message\",\n",
      "      \"role\": \"user\",\n",
      "      \"run_id\": null,\n",
      "      \"status\": null,\n",
      "      \"thread_id\": \"thread_j6E9zauVEcq3sOlCc0vr87SM\"\n",
      "    },\n",
      "    {\n",
      "      \"id\": \"msg_uyGBBj2icFi2ywrzd0epzaCH\",\n",
      "      \"assistant_id\": null,\n",
      "      \"completed_at\": null,\n",
      "      \"content\": [\n",
      "        {\n",
      "          \"text\": {\n",
      "            \"annotations\": [],\n",
      "            \"value\": \"How many flights do we have between my cat born date and Easter 2021?\"\n",
      "          },\n",
      "          \"type\": \"text\"\n",
      "        }\n",
      "      ],\n",
      "      \"created_at\": 1712779428,\n",
      "      \"file_ids\": [],\n",
      "      \"incomplete_at\": null,\n",
      "      \"incomplete_details\": null,\n",
      "      \"metadata\": {},\n",
      "      \"object\": \"thread.message\",\n",
      "      \"role\": \"user\",\n",
      "      \"run_id\": null,\n",
      "      \"status\": null,\n",
      "      \"thread_id\": \"thread_j6E9zauVEcq3sOlCc0vr87SM\"\n",
      "    }\n",
      "  ],\n",
      "  \"object\": \"list\",\n",
      "  \"first_id\": \"msg_D5tKk7mUBgr2sM1Xj9QjHvpn\",\n",
      "  \"last_id\": \"msg_uyGBBj2icFi2ywrzd0epzaCH\",\n",
      "  \"has_more\": false\n",
      "}\n"
     ]
    }
   ],
   "source": [
    "# Add a user question to the thread\n",
    "message = client.beta.threads.messages.create(\n",
    "    thread_id=thread.id,\n",
    "    role=\"user\",\n",
    "    content=QUESTION\n",
    ")\n",
    "\n",
    "thread_messages = client.beta.threads.messages.list(thread.id)\n",
    "\n",
    "print(thread_messages.model_dump_json(indent=2))"
   ]
  },
  {
   "cell_type": "code",
   "execution_count": 9,
   "id": "6a99a52f",
   "metadata": {},
   "outputs": [
    {
     "name": "stdout",
     "output_type": "stream",
     "text": [
      "queued\n"
     ]
    }
   ],
   "source": [
    "import time, json\n",
    "\n",
    "run            = client.beta.threads.runs.create(\n",
    "  thread_id    = thread.id,\n",
    "  assistant_id = assistant.id,\n",
    "  #instructions=\"New instructions\" #You can optionally provide new instructions but these will override the default instructions\n",
    ")\n",
    "\n",
    "print(run.status)"
   ]
  },
  {
   "cell_type": "code",
   "execution_count": 27,
   "id": "cdc8831b",
   "metadata": {},
   "outputs": [
    {
     "data": {
      "text/plain": [
       "{'id': 'run_8mw6adf4Lz3yyLIhWNO3Cs0y',\n",
       " 'assistant_id': 'asst_mvRu2yiJxtD9CG99f4KYsIuf',\n",
       " 'cancelled_at': None,\n",
       " 'completed_at': 1712779723,\n",
       " 'created_at': 1712779487,\n",
       " 'expires_at': None,\n",
       " 'failed_at': None,\n",
       " 'file_ids': [],\n",
       " 'instructions': 'You are a helpful AI assistant who helps answering questions',\n",
       " 'last_error': None,\n",
       " 'metadata': {},\n",
       " 'model': 'gpt4-1106-128k',\n",
       " 'object': 'thread.run',\n",
       " 'required_action': None,\n",
       " 'started_at': 1712779721,\n",
       " 'status': 'completed',\n",
       " 'thread_id': 'thread_j6E9zauVEcq3sOlCc0vr87SM',\n",
       " 'tools': [{'function': {'name': 'get_flights',\n",
       "    'description': 'returns the number of flights between two dates',\n",
       "    'parameters': {'type': 'object',\n",
       "     'properties': {'date_1': {'type': 'string',\n",
       "       'description': 'the first date'},\n",
       "      'date_2': {'type': 'string', 'description': 'the second date'}},\n",
       "     'required': ['date_1', 'date_2']}},\n",
       "   'type': 'function'},\n",
       "  {'function': {'name': 'my_cat_born_date',\n",
       "    'description': \"returns my cat's born date\",\n",
       "    'parameters': {'type': 'object', 'properties': {}, 'required': []}},\n",
       "   'type': 'function'}],\n",
       " 'usage': {'completion_tokens': 85,\n",
       "  'prompt_tokens': 1158,\n",
       "  'total_tokens': 1243}}"
      ]
     },
     "execution_count": 27,
     "metadata": {},
     "output_type": "execute_result"
    }
   ],
   "source": [
    "# Retrieve Run Status\n",
    "\n",
    "run_json = json.loads(client.beta.threads.runs.retrieve(thread_id=thread.id, run_id=run.id).model_dump_json())\n",
    "run_json"
   ]
  },
  {
   "cell_type": "code",
   "execution_count": 20,
   "id": "ff4b5e0f",
   "metadata": {},
   "outputs": [
    {
     "data": {
      "text/plain": [
       "'call_0XtP5uc0WSC1OrEMe2MII54n'"
      ]
     },
     "execution_count": 20,
     "metadata": {},
     "output_type": "execute_result"
    }
   ],
   "source": [
    "tc_id= run_json['required_action']['submit_tool_outputs']['tool_calls'][0]['id']\n",
    "tc_id"
   ]
  },
  {
   "cell_type": "code",
   "execution_count": 21,
   "id": "58c7db6a",
   "metadata": {},
   "outputs": [
    {
     "data": {
      "text/plain": [
       "'get_flights'"
      ]
     },
     "execution_count": 21,
     "metadata": {},
     "output_type": "execute_result"
    }
   ],
   "source": [
    "tc_function_name= run_json['required_action']['submit_tool_outputs']['tool_calls'][0]['function']['name']\n",
    "tc_function_name"
   ]
  },
  {
   "cell_type": "code",
   "execution_count": 22,
   "id": "7ff694dc",
   "metadata": {},
   "outputs": [
    {
     "data": {
      "text/plain": [
       "'{\"date_1\":\"2014-04-10\",\"date_2\":\"2021-04-04\"}'"
      ]
     },
     "execution_count": 22,
     "metadata": {},
     "output_type": "execute_result"
    }
   ],
   "source": [
    "tc_args= run_json['required_action']['submit_tool_outputs']['tool_calls'][0]['function']['arguments']\n",
    "tc_args"
   ]
  },
  {
   "cell_type": "code",
   "execution_count": 14,
   "id": "841d760f",
   "metadata": {},
   "outputs": [
    {
     "name": "stdout",
     "output_type": "stream",
     "text": [
      "15\n"
     ]
    }
   ],
   "source": [
    "eval(\"print(3*5)\")"
   ]
  },
  {
   "cell_type": "code",
   "execution_count": 23,
   "id": "c17e60f1",
   "metadata": {},
   "outputs": [
    {
     "data": {
      "text/plain": [
       "'{\"flights\": 2551}'"
      ]
     },
     "execution_count": 23,
     "metadata": {},
     "output_type": "execute_result"
    }
   ],
   "source": [
    "tool_response = eval(tc_function_name)(**json.loads(tc_args))\n",
    "tool_response"
   ]
  },
  {
   "cell_type": "code",
   "execution_count": 24,
   "id": "cc1b8050",
   "metadata": {},
   "outputs": [
    {
     "data": {
      "text/plain": [
       "{'tool_call_id': 'call_0XtP5uc0WSC1OrEMe2MII54n',\n",
       " 'output': '{\"flights\": 2551}'}"
      ]
     },
     "execution_count": 24,
     "metadata": {},
     "output_type": "execute_result"
    }
   ],
   "source": [
    "tool_response_full = {\"tool_call_id\": tc_id, \"output\": tool_response}\n",
    "tool_response_full"
   ]
  },
  {
   "cell_type": "code",
   "execution_count": 25,
   "id": "5c4e9e0f",
   "metadata": {},
   "outputs": [
    {
     "data": {
      "text/plain": [
       "[{'tool_call_id': 'call_0XtP5uc0WSC1OrEMe2MII54n',\n",
       "  'output': '{\"flights\": 2551}'}]"
      ]
     },
     "execution_count": 25,
     "metadata": {},
     "output_type": "execute_result"
    }
   ],
   "source": [
    "tool_responses = []\n",
    "tool_responses.append(tool_response_full)\n",
    "tool_responses"
   ]
  },
  {
   "cell_type": "code",
   "execution_count": 26,
   "id": "3e3fb76d",
   "metadata": {},
   "outputs": [
    {
     "data": {
      "text/plain": [
       "'queued'"
      ]
     },
     "execution_count": 26,
     "metadata": {},
     "output_type": "execute_result"
    }
   ],
   "source": [
    "run = client.beta.threads.runs.submit_tool_outputs(\n",
    "    thread_id=thread.id,\n",
    "    tool_outputs=tool_responses,\n",
    "    run_id=run.id\n",
    ")\n",
    "\n",
    "run.status\n",
    "\n",
    "# now we can come back to \"Retrieve Run Status\" above"
   ]
  },
  {
   "cell_type": "markdown",
   "id": "adb81577",
   "metadata": {},
   "source": [
    "## Come here only when  status = \"completed\""
   ]
  },
  {
   "cell_type": "code",
   "execution_count": 28,
   "id": "18699806",
   "metadata": {},
   "outputs": [
    {
     "name": "stdout",
     "output_type": "stream",
     "text": [
      "Between your cat's birth date on April 10, 2014, and Easter on April 4, 2021, there have been 2,551 flights.\n"
     ]
    }
   ],
   "source": [
    "messages = client.beta.threads.messages.list(thread_id=thread.id)\n",
    "print(json.loads(messages.json())[\"data\"][0][\"content\"][0][\"text\"][\"value\"])"
   ]
  },
  {
   "cell_type": "markdown",
   "id": "8e89ee13",
   "metadata": {},
   "source": [
    "# Single-cellmplementation"
   ]
  },
  {
   "cell_type": "code",
   "execution_count": 29,
   "id": "3ee1a7c3",
   "metadata": {},
   "outputs": [
    {
     "name": "stdout",
     "output_type": "stream",
     "text": [
      "Question: <How many flights do we have between my cat born date and Easter 2021?>\n",
      "Run status: queued after 0 minutes 0 seconds\n",
      "Run status: queued after 0 minutes 5 seconds\n",
      "Run status: in_progress after 0 minutes 10 seconds\n",
      "Run status: requires_action after 0 minutes 16 seconds\n",
      "Calling my_cat_born_date(**{}) --> {\"cat_born_date\": \"2014-04-10\"}\n",
      "Calling get_flights(**{\"date_1\": \"2021-04-04\", \"date_2\": \"2021-04-04\"}) --> {\"flights\": 0}\n",
      "Run status: queued after 0 minutes 22 seconds\n",
      "Run status: in_progress after 0 minutes 27 seconds\n",
      "\n",
      "Run status: completed after 0 minutes 32 seconds\n",
      "Your cat was born on April 10, 2014, and on Easter 2021, which fell on April 4, there were no flights recorded. If you intended to ask about the number of flights from the date your cat was born up to Easter 2021, please let me know, and I can provide you with that information.\n"
     ]
    }
   ],
   "source": [
    "import time, json\n",
    "\n",
    "print (f\"Question: <{QUESTION}>\")\n",
    "\n",
    "# Create a thread\n",
    "thread = client.beta.threads.create()\n",
    "\n",
    "# Add a user question to the thread\n",
    "message       = client.beta.threads.messages.create(\n",
    "    thread_id = thread.id,\n",
    "    role      = \"user\",\n",
    "    content   = QUESTION\n",
    ")\n",
    "\n",
    "run            = client.beta.threads.runs.create(\n",
    "  thread_id    = thread.id,\n",
    "  assistant_id = assistant.id,\n",
    "  #instructions=\"New instructions\" #You can optionally provide new instructions but these will override the default instructions\n",
    ")\n",
    "\n",
    "start_time = time.time()\n",
    "status = run.status\n",
    "\n",
    "while status not in [\"completed\", \"cancelled\", \"expired\", \"failed\"]:\n",
    "    run = client.beta.threads.runs.retrieve(thread_id=thread.id,run_id=run.id)\n",
    "    print( f\"Run status: {status} after {int((time.time() - start_time) // 60)} minutes {int((time.time() - start_time) % 60)} seconds\")\n",
    "    \n",
    "    if status == \"requires_action\":\n",
    "        tool_calls = run.required_action.submit_tool_outputs.tool_calls\n",
    "        tool_responses = []\n",
    "        for tc in tool_calls:\n",
    "            function_to_call = tc.function.name\n",
    "            function_args = tc.function.arguments\n",
    "            tool_response = eval(function_to_call)(**json.loads(function_args))\n",
    "            tool_responses.append({\"tool_call_id\": tc.id, \"output\": tool_response})\n",
    "\n",
    "            print(f\"Calling {tc.function.name}(**{tc.function.arguments}) --> {tool_response}\")\n",
    "\n",
    "        run = client.beta.threads.runs.submit_tool_outputs(\n",
    "            thread_id=thread.id, run_id=run.id, tool_outputs=tool_responses)\n",
    "\n",
    "    time.sleep(5)\n",
    "    status = run.status\n",
    "        \n",
    "print( f\"\\nRun status: {status} after {int((time.time() - start_time) // 60)} minutes {int((time.time() - start_time) % 60)} seconds\")\n",
    "messages = client.beta.threads.messages.list(thread_id=thread.id)\n",
    "print(json.loads(messages.json())[\"data\"][0][\"content\"][0][\"text\"][\"value\"])"
   ]
  }
 ],
 "metadata": {
  "kernelspec": {
   "display_name": "assistantapi",
   "language": "python",
   "name": "assistantapi"
  },
  "language_info": {
   "codemirror_mode": {
    "name": "ipython",
    "version": 3
   },
   "file_extension": ".py",
   "mimetype": "text/x-python",
   "name": "python",
   "nbconvert_exporter": "python",
   "pygments_lexer": "ipython3",
   "version": "3.11.8"
  }
 },
 "nbformat": 4,
 "nbformat_minor": 5
}
