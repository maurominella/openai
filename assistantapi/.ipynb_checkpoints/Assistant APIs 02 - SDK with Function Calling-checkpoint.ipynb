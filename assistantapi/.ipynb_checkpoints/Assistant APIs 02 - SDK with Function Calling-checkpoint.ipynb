{
 "cells": [
  {
   "cell_type": "code",
   "execution_count": 1,
   "id": "0094dfce",
   "metadata": {},
   "outputs": [],
   "source": [
    "def get_flights(date_1, date_2):\n",
    "    \"\"\" Returns the number of flights in a date interval  \"\"\"\n",
    "    import json\n",
    "    from dateutil.parser import parse\n",
    "    flights = {\n",
    "        \"flights\": abs((parse(date_2) - parse(date_1)).days) \n",
    "    }\n",
    "    return json.dumps(flights)\n",
    "\n",
    "def my_cat_born_date():\n",
    "    \"\"\" Returns my cat's born date \"\"\"\n",
    "    import datetime, random\n",
    "    from dateutil.relativedelta import relativedelta\n",
    "    \n",
    "    # Calculate the date as ten years ago  \n",
    "    ten_years_ago = datetime.date.today() - relativedelta(years=10) \n",
    "    \n",
    "    cat_born_date = {\n",
    "        \"cat_born_date\": ten_years_ago.strftime(\"%Y-%m-%d\")\n",
    "    }\n",
    "    return json.dumps(cat_born_date)\n",
    "\n",
    "tools = [\n",
    "    {\n",
    "        \"type\": \"function\",\n",
    "        \"function\": {\n",
    "            \"name\": \"get_flights\",            \n",
    "            \"description\": \"returns the number of flights between two dates\",\n",
    "            \"parameters\": {\n",
    "                \"type\": \"object\",\n",
    "                \"properties\": {\n",
    "                    \"date_1\": {\"type\": \"string\", \"description\": \"the first date\"},\n",
    "                    \"date_2\": {\"type\": \"string\", \"description\": \"the second date\"}\n",
    "                }\n",
    "            },\n",
    "            \"required\": [\"date_1\", \"date_2\"]\n",
    "        }\n",
    "    },\n",
    "    {\n",
    "        \"type\": \"function\",\n",
    "        \"function\": {\n",
    "            \"name\": \"my_cat_born_date\",            \n",
    "            \"description\": \"returns my cat's born date\",\n",
    "            \"parameters\": {\n",
    "                \"type\": \"object\",\n",
    "                \"properties\": {\n",
    "\n",
    "                }\n",
    "            },\n",
    "            \"required\": []\n",
    "        }\n",
    "    }\n",
    "]"
   ]
  },
  {
   "cell_type": "code",
   "execution_count": 2,
   "id": "2a14bcb4",
   "metadata": {},
   "outputs": [],
   "source": [
    "import os\n",
    "from dotenv import load_dotenv # requires python-dotenv\n",
    "\n",
    "load_dotenv(\"./../credentials_my.env\")\n",
    "MODEL = os.environ[\"GPT4-1106-128k\"]\n",
    "QUESTION = \"How many flights do we have between my cat born date and Easter 2021?\""
   ]
  },
  {
   "cell_type": "code",
   "execution_count": 3,
   "id": "b79a34ab",
   "metadata": {},
   "outputs": [],
   "source": [
    "from openai import AzureOpenAI"
   ]
  },
  {
   "cell_type": "code",
   "execution_count": 4,
   "id": "e4c7b7e2",
   "metadata": {},
   "outputs": [],
   "source": [
    "# Create the client\n",
    "client = AzureOpenAI(\n",
    "    api_key=os.getenv(\"AZURE_OPENAI_API_KEY\"),  \n",
    "    api_version=\"2024-02-15-preview\", # at least 2024-02-15-preview\n",
    "    azure_endpoint = os.getenv(\"AZURE_OPENAI_ENDPOINT\")\n",
    "    )"
   ]
  },
  {
   "cell_type": "code",
   "execution_count": 5,
   "id": "a3857b8b",
   "metadata": {},
   "outputs": [],
   "source": [
    "# Create an assistant\n",
    "assistant = client.beta.assistants.create(\n",
    "    name=\"Smart Assistant\",\n",
    "    instructions=f\"You are a helpful AI assistant who helps answering questions\",\n",
    "    tools = tools,\n",
    "    model = MODEL\n",
    ")\n",
    "\n",
    "# print(assistant.model_dump_json(indent=2))"
   ]
  },
  {
   "cell_type": "code",
   "execution_count": 6,
   "id": "d2924b7d",
   "metadata": {},
   "outputs": [
    {
     "name": "stdout",
     "output_type": "stream",
     "text": [
      "Thread(id='thread_wmNOCDCqYXEyZI4oZsI7jwtS', created_at=1711009888, metadata={}, object='thread')\n"
     ]
    }
   ],
   "source": [
    "# Create a thread\n",
    "thread = client.beta.threads.create()\n",
    "print(thread)"
   ]
  },
  {
   "cell_type": "markdown",
   "id": "38b802b9",
   "metadata": {},
   "source": [
    "## Debugging Section"
   ]
  },
  {
   "cell_type": "code",
   "execution_count": 7,
   "id": "e7c35fe4",
   "metadata": {},
   "outputs": [
    {
     "name": "stdout",
     "output_type": "stream",
     "text": [
      "{\n",
      "  \"data\": [\n",
      "    {\n",
      "      \"id\": \"msg_HXoYw2ZjBuLCvBYeyWvTBB3v\",\n",
      "      \"assistant_id\": null,\n",
      "      \"completed_at\": null,\n",
      "      \"content\": [\n",
      "        {\n",
      "          \"text\": {\n",
      "            \"annotations\": [],\n",
      "            \"value\": \"How many flights do we have between my cat born date and Easter 2021?\"\n",
      "          },\n",
      "          \"type\": \"text\"\n",
      "        }\n",
      "      ],\n",
      "      \"created_at\": 1711009888,\n",
      "      \"file_ids\": [],\n",
      "      \"incomplete_at\": null,\n",
      "      \"incomplete_details\": null,\n",
      "      \"metadata\": {},\n",
      "      \"object\": \"thread.message\",\n",
      "      \"role\": \"user\",\n",
      "      \"run_id\": null,\n",
      "      \"status\": null,\n",
      "      \"thread_id\": \"thread_wmNOCDCqYXEyZI4oZsI7jwtS\"\n",
      "    }\n",
      "  ],\n",
      "  \"object\": \"list\",\n",
      "  \"first_id\": \"msg_HXoYw2ZjBuLCvBYeyWvTBB3v\",\n",
      "  \"last_id\": \"msg_HXoYw2ZjBuLCvBYeyWvTBB3v\",\n",
      "  \"has_more\": false\n",
      "}\n"
     ]
    }
   ],
   "source": [
    "# Add a user question to the thread\n",
    "message = client.beta.threads.messages.create(\n",
    "    thread_id=thread.id,\n",
    "    role=\"user\",\n",
    "    content=QUESTION\n",
    ")\n",
    "\n",
    "thread_messages = client.beta.threads.messages.list(thread.id)\n",
    "\n",
    "print(thread_messages.model_dump_json(indent=2))"
   ]
  },
  {
   "cell_type": "code",
   "execution_count": 8,
   "id": "6a99a52f",
   "metadata": {},
   "outputs": [
    {
     "name": "stdout",
     "output_type": "stream",
     "text": [
      "Run status: queued\n"
     ]
    }
   ],
   "source": [
    "import time, json\n",
    "\n",
    "run            = client.beta.threads.runs.create(\n",
    "  thread_id    = thread.id,\n",
    "  assistant_id = assistant.id,\n",
    "  #instructions=\"New instructions\" #You can optionally provide new instructions but these will override the default instructions\n",
    ")\n",
    "\n",
    "print(f\"Run status: {run.status}\")"
   ]
  },
  {
   "cell_type": "code",
   "execution_count": 9,
   "id": "eb1403ba",
   "metadata": {},
   "outputs": [
    {
     "name": "stdout",
     "output_type": "stream",
     "text": [
      "Run status: queued\n"
     ]
    }
   ],
   "source": [
    "print(f\"Run status: {run.status}\")"
   ]
  },
  {
   "cell_type": "code",
   "execution_count": 10,
   "id": "cdc8831b",
   "metadata": {},
   "outputs": [
    {
     "data": {
      "text/plain": [
       "{'id': 'run_NimTCgLT5iwDX9Wu9cAeshhh',\n",
       " 'assistant_id': 'asst_zR0p6k0oE3Xr2Cdf7pFxX1eo',\n",
       " 'cancelled_at': None,\n",
       " 'completed_at': None,\n",
       " 'created_at': 1711009888,\n",
       " 'expires_at': 1711010488,\n",
       " 'failed_at': None,\n",
       " 'file_ids': [],\n",
       " 'instructions': 'You are a helpful AI assistant who helps answering questions',\n",
       " 'last_error': None,\n",
       " 'metadata': {},\n",
       " 'model': 'gpt4-1106-128k',\n",
       " 'object': 'thread.run',\n",
       " 'required_action': None,\n",
       " 'started_at': None,\n",
       " 'status': 'queued',\n",
       " 'thread_id': 'thread_wmNOCDCqYXEyZI4oZsI7jwtS',\n",
       " 'tools': [{'function': {'name': 'get_flights',\n",
       "    'description': 'returns the number of flights between two dates',\n",
       "    'parameters': {'type': 'object',\n",
       "     'properties': {'date_1': {'type': 'string',\n",
       "       'description': 'the first date'},\n",
       "      'date_2': {'type': 'string', 'description': 'the second date'}}}},\n",
       "   'type': 'function'},\n",
       "  {'function': {'name': 'my_cat_born_date',\n",
       "    'description': \"returns my cat's born date\",\n",
       "    'parameters': {'type': 'object', 'properties': {}}},\n",
       "   'type': 'function'}],\n",
       " 'usage': None}"
      ]
     },
     "execution_count": 10,
     "metadata": {},
     "output_type": "execute_result"
    }
   ],
   "source": [
    "# Retrieve Updated Run Status\n",
    "\n",
    "run_json = json.loads(client.beta.threads.runs.retrieve(thread_id=thread.id, run_id=run.id).model_dump_json())\n",
    "run_json"
   ]
  },
  {
   "cell_type": "markdown",
   "id": "8e89ee13",
   "metadata": {},
   "source": [
    "# Final implementation"
   ]
  },
  {
   "cell_type": "code",
   "execution_count": 11,
   "id": "3ee1a7c3",
   "metadata": {},
   "outputs": [
    {
     "name": "stdout",
     "output_type": "stream",
     "text": [
      "Question: <How many flights do we have between my cat born date and Easter 2021?>\n",
      "Run status: queued after 0 minutes 0 seconds\n",
      "Run status: queued after 0 minutes 5 seconds\n",
      "Run status: in_progress after 0 minutes 10 seconds\n",
      "Run status: requires_action after 0 minutes 16 seconds\n",
      "Calling my_cat_born_date(**{}) --> {\"cat_born_date\": \"2014-03-21\"}\n",
      "Run status: queued after 0 minutes 21 seconds\n",
      "Run status: in_progress after 0 minutes 27 seconds\n",
      "Run status: requires_action after 0 minutes 32 seconds\n",
      "Calling get_flights(**{\"date_1\": \"2014-03-21\", \"date_2\": \"2021-04-04\"}) --> {\"flights\": 2571}\n",
      "Run status: queued after 0 minutes 38 seconds\n",
      "Run status: in_progress after 0 minutes 43 seconds\n",
      "\n",
      "Run status: completed after 0 minutes 48 seconds\n",
      "There have been 2,571 flights between your cat's birth date on March 21, 2014, and Easter 2021, which fell on April 4, 2021.\n"
     ]
    }
   ],
   "source": [
    "import time, json\n",
    "\n",
    "# Create a thread\n",
    "thread = client.beta.threads.create()\n",
    "\n",
    "\n",
    "print (f\"Question: <{QUESTION}>\")\n",
    "\n",
    "message = client.beta.threads.messages.create(\n",
    "    thread_id=thread.id,\n",
    "    role=\"user\",\n",
    "    content=QUESTION\n",
    ")\n",
    "\n",
    "run            = client.beta.threads.runs.create(\n",
    "  thread_id    = thread.id,\n",
    "  assistant_id = assistant.id,\n",
    "  #instructions=\"New instructions\" #You can optionally provide new instructions but these will override the default instructions\n",
    ")\n",
    "\n",
    "start_time = time.time()\n",
    "status = run.status\n",
    "\n",
    "while status not in [\"completed\", \"cancelled\", \"expired\", \"failed\"]:\n",
    "    run = client.beta.threads.runs.retrieve(thread_id=thread.id,run_id=run.id)\n",
    "    print( f\"Run status: {status} after {int((time.time() - start_time) // 60)} minutes {int((time.time() - start_time) % 60)} seconds\")\n",
    "    \n",
    "    if status == \"requires_action\":\n",
    "        tool_calls = run.required_action.submit_tool_outputs.tool_calls\n",
    "        tool_responses = []\n",
    "        for tc in tool_calls:\n",
    "            function_to_call = tc.function.name\n",
    "            function_args = tc.function.arguments\n",
    "            tool_response = eval(function_to_call)(**json.loads(function_args))\n",
    "            tool_responses.append({\"tool_call_id\": tc.id, \"output\": tool_response})\n",
    "\n",
    "            print(f\"Calling {tc.function.name}(**{tc.function.arguments}) --> {tool_response}\")\n",
    "\n",
    "        run = client.beta.threads.runs.submit_tool_outputs(\n",
    "            thread_id=thread.id, run_id=run.id, tool_outputs=tool_responses)\n",
    "\n",
    "    time.sleep(5)\n",
    "    status = run.status\n",
    "        \n",
    "print( f\"\\nRun status: {status} after {int((time.time() - start_time) // 60)} minutes {int((time.time() - start_time) % 60)} seconds\")\n",
    "messages = client.beta.threads.messages.list(thread_id=thread.id)\n",
    "print(json.loads(messages.json())[\"data\"][0][\"content\"][0][\"text\"][\"value\"])"
   ]
  }
 ],
 "metadata": {
  "kernelspec": {
   "display_name": "assistantapi",
   "language": "python",
   "name": "assistantapi"
  },
  "language_info": {
   "codemirror_mode": {
    "name": "ipython",
    "version": 3
   },
   "file_extension": ".py",
   "mimetype": "text/x-python",
   "name": "python",
   "nbconvert_exporter": "python",
   "pygments_lexer": "ipython3",
   "version": "3.11.8"
  }
 },
 "nbformat": 4,
 "nbformat_minor": 5
}
