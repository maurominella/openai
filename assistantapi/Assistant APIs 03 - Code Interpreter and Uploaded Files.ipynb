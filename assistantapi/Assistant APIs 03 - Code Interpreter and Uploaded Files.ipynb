{
 "cells": [
  {
   "cell_type": "markdown",
   "id": "c869a895",
   "metadata": {},
   "source": [
    "Inspired by [assistant-wind_farm.ipynb](https://github.com/Azure-Samples/azureai-samples/blob/main/scenarios/Assistants/api-in-a-box/wind_farm/assistant-wind_farm.ipynb)"
   ]
  },
  {
   "cell_type": "code",
   "execution_count": 1,
   "id": "0094dfce",
   "metadata": {},
   "outputs": [],
   "source": [
    "# Define the Assistant tools\n",
    "\n",
    "tools_list = [\n",
    "    {\"type\": \"code_interpreter\"},\n",
    "]"
   ]
  },
  {
   "cell_type": "code",
   "execution_count": 2,
   "id": "2a14bcb4",
   "metadata": {},
   "outputs": [],
   "source": [
    "# Libraries and Constants\n",
    "\n",
    "import os\n",
    "from dotenv import load_dotenv # requires python-dotenv\n",
    "\n",
    "load_dotenv(\"./../credentials_my.env\")\n",
    "MODEL = os.environ[\"GPT4-1106-128k\"]"
   ]
  },
  {
   "cell_type": "code",
   "execution_count": 3,
   "id": "b79a34ab",
   "metadata": {},
   "outputs": [],
   "source": [
    "from openai import AzureOpenAI"
   ]
  },
  {
   "cell_type": "code",
   "execution_count": 4,
   "id": "e4c7b7e2",
   "metadata": {},
   "outputs": [],
   "source": [
    "# Create the client\n",
    "client = AzureOpenAI(\n",
    "    api_key=os.getenv(\"AZURE_OPENAI_API_KEY\"),  \n",
    "    api_version=\"2024-02-15-preview\", # at least 2024-02-15-preview\n",
    "    azure_endpoint = os.getenv(\"AZURE_OPENAI_ENDPOINT\")\n",
    "    )"
   ]
  },
  {
   "cell_type": "code",
   "execution_count": 5,
   "id": "eaad1794",
   "metadata": {},
   "outputs": [
    {
     "name": "stdout",
     "output_type": "stream",
     "text": [
      "Uploading ./data/turbines.csv...\n"
     ]
    },
    {
     "data": {
      "text/plain": [
       "[FileObject(id='assistant-eUc74kzlFd8ZzWAPM9uIXm5g', bytes=576, created_at=1710721659, filename='turbines.csv', object='file', purpose='assistants', status='processed', status_details=None)]"
      ]
     },
     "execution_count": 5,
     "metadata": {},
     "output_type": "execute_result"
    }
   ],
   "source": [
    "# Upload the Assistant file(s)\n",
    "\n",
    "from openai.types import FileObject\n",
    "from pathlib import Path\n",
    "\n",
    "DATA_FOLDER = \"./data/\"\n",
    "\n",
    "def upload_file(client: AzureOpenAI, path: str) -> FileObject:\n",
    "    with Path(path).open(\"rb\") as f:\n",
    "        return client.files.create(file=f, purpose=\"assistants\")\n",
    "\n",
    "arr = os.listdir(DATA_FOLDER)\n",
    "assistant_files = []\n",
    "for file in arr:\n",
    "    filePath = DATA_FOLDER + file\n",
    "    print(f\"Uploading {filePath}...\")\n",
    "    assistant_files.append(upload_file(client, filePath))\n",
    "\n",
    "file_ids = [file.id for file in assistant_files]\n",
    "assistant_files"
   ]
  },
  {
   "cell_type": "code",
   "execution_count": 6,
   "id": "a3857b8b",
   "metadata": {},
   "outputs": [
    {
     "name": "stdout",
     "output_type": "stream",
     "text": [
      "{\n",
      "  \"id\": \"asst_VInZztTArxbm4vQaeRIMzAoi\",\n",
      "  \"created_at\": 1710721660,\n",
      "  \"description\": null,\n",
      "  \"file_ids\": [\n",
      "    \"assistant-eUc74kzlFd8ZzWAPM9uIXm5g\"\n",
      "  ],\n",
      "  \"instructions\": \"You are an assistant that can help manage wind turbine farm. The turbines operating ranges are output voltages of 33kv-35kv and RPM of 15-25. Wind speed is measured in miles per hour.Maintenance should occur every 12 months. Greet the user by saying, 'Welcome Turbine Management Assistant.'\",\n",
      "  \"metadata\": {},\n",
      "  \"model\": \"gpt4-1106-128k\",\n",
      "  \"name\": \"Portfolio Management Assistant\",\n",
      "  \"object\": \"assistant\",\n",
      "  \"tools\": [\n",
      "    {\n",
      "      \"type\": \"code_interpreter\"\n",
      "    }\n",
      "  ]\n",
      "}\n"
     ]
    }
   ],
   "source": [
    "# Create an Assistant and a Thread\n",
    "assistant = client.beta.assistants.create(\n",
    "    name=\"Portfolio Management Assistant\",\n",
    "    instructions=\"You are an assistant that can help manage wind turbine farm. \"\n",
    "    + \"The turbines operating ranges are output voltages of 33kv-35kv and RPM of 15-25. Wind speed is measured in miles per hour.\"\n",
    "    + \"Maintenance should occur every 12 months. Greet the user by saying, 'Welcome Turbine Management Assistant.'\",\n",
    "    tools=tools_list,\n",
    "    model=MODEL,\n",
    "    file_ids=file_ids,\n",
    ")\n",
    "\n",
    "thread = client.beta.threads.create()\n",
    "\n",
    "print(assistant.model_dump_json(indent=2))"
   ]
  },
  {
   "cell_type": "code",
   "execution_count": 7,
   "id": "cb4e87ef",
   "metadata": {},
   "outputs": [],
   "source": [
    "def process_message(content: str) -> None:\n",
    "    from datetime import datetime\n",
    "    import time, json\n",
    "    client.beta.threads.messages.create(thread_id=thread.id, role=\"user\", content=content)\n",
    "\n",
    "    run = client.beta.threads.runs.create(\n",
    "        thread_id=thread.id,\n",
    "        assistant_id=assistant.id,\n",
    "        instructions=\"The current date and time is: \" + datetime.now().strftime(\"%x %X\") + \". \",\n",
    "    )\n",
    "\n",
    "    print(\"Processing...\")\n",
    "    while True:\n",
    "        run = client.beta.threads.runs.retrieve(thread_id=thread.id, run_id=run.id)\n",
    "        if run.status == \"completed\" or run.status == \"failed\":\n",
    "            messages = client.beta.threads.messages.list(thread_id=thread.id)\n",
    "            print(json.loads(messages.json())[\"data\"][0][\"content\"][0][\"text\"][\"value\"])            \n",
    "            break\n",
    "        if run.status == \"expired\":\n",
    "            # Handle expired\n",
    "            break\n",
    "        if run.status == \"cancelled\":\n",
    "            # Handle cancelled\n",
    "            break\n",
    "        if run.status == \"requires_action\":\n",
    "            pass\n",
    "        else:\n",
    "            print(f\"Status: {run.status}\")\n",
    "            time.sleep(5)\n",
    "            \n",
    "    return messages"
   ]
  },
  {
   "cell_type": "code",
   "execution_count": 8,
   "id": "21d9a6c5",
   "metadata": {},
   "outputs": [
    {
     "name": "stdout",
     "output_type": "stream",
     "text": [
      "Processing...\n",
      "Status: queued\n",
      "Status: in_progress\n",
      "Status: in_progress\n",
      "Status: in_progress\n",
      "Status: in_progress\n",
      "Status: in_progress\n",
      "Status: in_progress\n",
      "Status: in_progress\n",
      "Status: in_progress\n",
      "The status for turbines 1001 and 1003 is as follows:\n",
      "\n",
      "- Turbine 1001: Wind speed of 32, RPM of 18, voltage of 33, and a maintenance date scheduled for 2023-10-12.\n",
      "- Turbine 1003: Wind speed of 30, RPM of 16, voltage of 32, and a maintenance date scheduled for 2023-11-30.\n",
      "\n",
      "Keep in mind that this information might represent the latest recorded data or the scheduled maintenance and may not reflect real-time status, depending on the nature and timing of the data collection in the file. If you need further analysis or information, please let me know.\n"
     ]
    }
   ],
   "source": [
    "r1 = process_message(\"What is the status of turbine 1001 and 1003?\")"
   ]
  },
  {
   "cell_type": "code",
   "execution_count": 9,
   "id": "07fea2c0",
   "metadata": {},
   "outputs": [
    {
     "name": "stdout",
     "output_type": "stream",
     "text": [
      "Processing...\n",
      "Status: queued\n",
      "Status: in_progress\n",
      "Status: in_progress\n",
      "Status: in_progress\n",
      "Certainly! Here is the Python code I used to extract the status of turbines 1001 and 1003 from the CSV file you provided:\n",
      "\n",
      "```python\n",
      "import pandas as pd\n",
      "\n",
      "# Read the CSV file into a pandas DataFrame\n",
      "file_path = '/mnt/data/assistant-eUc74kzlFd8ZzWAPM9uIXm5g'\n",
      "df = pd.read_csv(file_path)\n",
      "\n",
      "# Filter the DataFrame for the specific Turbine_IDs (1001 and 1003)\n",
      "status_1001_1003 = df[df['Turbine_ID'].isin([1001, 1003])]\n",
      "\n",
      "# Display the filtered data\n",
      "status_1001_1003\n",
      "```\n",
      "\n",
      "Executing this code snippet in a Python environment would output the following DataFrame, showing the status for turbines 1001 and 1003:\n",
      "\n",
      "```\n",
      "   Turbine_ID  Wind_Speed  RPM  Voltage Maintenance_Date\n",
      "1        1001          32   18       33       2023-10-12\n",
      "3        1003          30   16       32       2023-11-30\n",
      "```\n",
      "\n",
      "This code assumes that the CSV file content is properly formatted and that the columns are named as expected. The `isin` method is used to select rows where the `Turbine_ID` matches either 1001 or 1003. The resulting DataFrame is then printed, showing the corresponding status for each turbine.\n"
     ]
    }
   ],
   "source": [
    "r2 = process_message(\"Show me the code you used to provide the previous answer\")"
   ]
  },
  {
   "cell_type": "code",
   "execution_count": 10,
   "id": "a5997578",
   "metadata": {},
   "outputs": [
    {
     "name": "stdout",
     "output_type": "stream",
     "text": [
      "Deleting the file turbines.csv (id=assistant-eUc74kzlFd8ZzWAPM9uIXm5g)\n",
      "Deleting the file turbines.csv (id=assistant-OuIzH7uBajwlg1h4zHoLDa9G)\n"
     ]
    },
    {
     "name": "stderr",
     "output_type": "stream",
     "text": [
      "Bad pipe message: %s [b'T\\x18O\\xe4\\x10\\x9c\\xaas\\x0b\\x8c^v\\xf7*@,\\xd7']\n",
      "Bad pipe message: %s [b\"\\x8f\\n\\xd8\\xf5\\xb6&R\\xb1d\\x97\\x00\\xf6!n\\xff\\xbb\\x91\\xe0\\\\O['#\\x05\\xb5E\\xef\\xe8\\xdaLf\\xdd\\x00\\x08\\x13\\x02\\x13\\x03\\x13\\x01\\x00\\xff\\x01\\x00\\x00\\x8f\\x00\\x00\\x00\\x0e\\x00\\x0c\\x00\\x00\\t127.0.0.1\\x00\\x0b\\x00\\x04\\x03\\x00\\x01\\x02\\x00\\n\\x00\\x0c\\x00\\n\\x00\\x1d\\x00\\x17\\x00\\x1e\\x00\\x19\\x00\\x18\\x00#\\x00\\x00\\x00\\x16\\x00\\x00\\x00\\x17\\x00\\x00\\x00\\r\\x00\\x1e\\x00\\x1c\\x04\\x03\\x05\\x03\\x06\\x03\\x08\\x07\\x08\\x08\\x08\\t\\x08\\n\\x08\\x0b\\x08\\x04\\x08\\x05\\x08\\x06\\x04\\x01\\x05\\x01\\x06\\x01\\x00+\\x00\\x03\\x02\\x03\\x04\\x00-\\x00\\x02\\x01\\x01\\x003\\x00&\\x00$\\x00\\x1d\\x00 \\x9dn\\x89\\xeb\\\\0\\xcd\\xa6\\xe8\\xae\\xfc\\x15\\xe0\\xbaY\\xa9\\xce\\xa8\"]\n",
      "Bad pipe message: %s [b\"-\\x9f\\x19/G\\xbf\\xe8\\x8c\\xcf$\\xc7%,\\x1fG\\x9eP+\\x00\\x00|\\xc0,\\xc00\\x00\\xa3\\x00\\x9f\\xcc\\xa9\\xcc\\xa8\\xcc\\xaa\\xc0\\xaf\\xc0\\xad\\xc0\\xa3\\xc0\\x9f\\xc0]\\xc0a\\xc0W\\xc0S\\xc0+\\xc0/\\x00\\xa2\\x00\\x9e\\xc0\\xae\\xc0\\xac\\xc0\\xa2\\xc0\\x9e\\xc0\\\\\\xc0`\\xc0V\\xc0R\\xc0$\\xc0(\\x00k\\x00j\\xc0#\\xc0'\\x00g\\x00@\\xc0\\n\\xc0\\x14\\x009\\x008\\xc0\\t\\xc0\\x13\\x003\\x002\\x00\\x9d\\xc0\\xa1\\xc0\\x9d\\xc0Q\\x00\\x9c\\xc0\\xa0\\xc0\\x9c\\xc0P\\x00=\\x00<\\x005\\x00/\\x00\\x9a\\x00\\x99\\xc0\\x07\\xc0\\x11\\x00\\x96\\x00\\x05\\x00\\xff\\x01\\x00\\x00j\\x00\\x00\\x00\\x0e\\x00\\x0c\\x00\\x00\\t127.0.0.1\\x00\\x0b\\x00\\x04\\x03\\x00\\x01\\x02\\x00\\n\\x00\\x0c\\x00\\n\\x00\\x1d\\x00\\x17\\x00\\x1e\\x00\\x19\\x00\\x18\\x00#\\x00\\x00\\x00\\x16\\x00\\x00\\x00\\x17\\x00\\x00\\x00\\r\\x000\\x00.\\x04\\x03\\x05\\x03\\x06\\x03\\x08\\x07\\x08\\x08\\x08\\t\\x08\\n\\x08\\x0b\\x08\\x04\\x08\\x05\\x08\\x06\\x04\\x01\\x05\\x01\\x06\\x01\\x03\\x03\\x02\\x03\\x03\\x01\", b'\\x03', b'\\x02']\n",
      "Bad pipe message: %s [b'\\x05\\x02\\x06']\n",
      "Bad pipe message: %s [b\"1#r\\x9d\\xbd\\xb5\\xec\\xb8\\x03\\xf9\\xa9`F6\\xbe?\\xff*\\x00\\x00\\xa6\\xc0,\\xc00\\x00\\xa3\\x00\\x9f\\xcc\\xa9\\xcc\\xa8\\xcc\\xaa\\xc0\\xaf\\xc0\\xad\\xc0\\xa3\\xc0\\x9f\\xc0]\\xc0a\\xc0W\\xc0S\\xc0+\\xc0/\\x00\\xa2\\x00\\x9e\\xc0\\xae\\xc0\\xac\\xc0\\xa2\\xc0\\x9e\\xc0\\\\\\xc0`\\xc0V\\xc0R\\xc0$\\xc0(\\x00k\\x00j\\xc0s\\xc0w\\x00\\xc4\\x00\\xc3\\xc0#\\xc0'\\x00g\\x00@\\xc0r\\xc0v\\x00\\xbe\\x00\\xbd\\xc0\\n\\xc0\\x14\\x009\\x008\\x00\\x88\\x00\\x87\\xc0\\t\\xc0\\x13\\x003\\x002\\x00\\x9a\\x00\\x99\\x00E\\x00D\\xc0\\x07\\xc0\\x11\\xc0\\x08\\xc0\\x12\\x00\\x16\\x00\\x13\\x00\\x9d\\xc0\\xa1\\xc0\\x9d\\xc0Q\\x00\\x9c\\xc0\\xa0\\xc0\\x9c\\xc0P\\x00=\\x00\\xc0\\x00<\"]\n",
      "Bad pipe message: %s [b'\\x194\\xe7:\\x8c,\\x9eYet 1\\xdd\\xd7;n\\xec3\\x00\\x00>\\xc0\\x14\\xc0\\n\\x009\\x008\\x007\\x006']\n",
      "Bad pipe message: %s [b\"\\xb5]\\xc1/\\x82A\\xff\\xa0\\xd4\\xdcu\\x0e\\x8f\\xc28\\x11'\\xf1\\x00\\x00\\xa2\\xc0\\x14\\xc0\\n\\x009\\x008\\x007\\x006\\x00\\x88\\x00\"]\n",
      "Bad pipe message: %s [b'\\x86\\x00\\x85\\xc0\\x19\\x00:\\x00\\x89\\xc0\\x0f\\xc0\\x05\\x005\\x00\\x84\\xc0\\x13\\xc0\\t\\x003\\x002\\x001\\x000\\x00\\x9a\\x00\\x99\\x00\\x98\\x00\\x97\\x00E\\x00D\\x00C\\x00B\\xc0\\x18\\x004\\x00\\x9b\\x00F\\xc0\\x0e\\xc0\\x04\\x00/\\x00\\x96\\x00A\\x00\\x07\\xc0\\x11\\xc0\\x07\\xc0\\x16\\x00\\x18\\xc0\\x0c\\xc0\\x02\\x00\\x05\\x00\\x04\\xc0\\x12\\xc0\\x08\\x00\\x16\\x00\\x13\\x00\\x10\\x00\\r\\xc0\\x17\\x00\\x1b\\xc0\\r\\xc0\\x03\\x00\\n\\x00\\x15\\x00\\x12\\x00\\x0f\\x00\\x0c\\x00\\x1a\\x00\\t\\x00\\x14\\x00\\x11\\x00\\x19\\x00\\x08\\x00\\x06\\x00\\x17\\x00\\x03\\xc0\\x10\\xc0\\x06\\xc0']\n",
      "Bad pipe message: %s [b'\\x0b\\xc0\\x01\\x00\\x02\\x00\\x01\\x00\\xff\\x02\\x01\\x00\\x00C\\x00\\x00\\x00\\x0e\\x00\\x0c']\n",
      "Bad pipe message: %s [b'\\x9eF\\x9e\\x9cN`g:Z\\x1d}_.\\x1c}<\\xc8\\x8d\\x00\\x00>\\xc0\\x14\\xc0\\n\\x009\\x008\\x007\\x006\\xc0\\x0f\\xc0\\x05\\x005\\xc0\\x13\\xc0\\t\\x003\\x002\\x001\\x000\\xc0\\x0e\\xc0\\x04\\x00/\\x00\\x9a\\x00\\x99\\x00\\x98\\x00\\x97\\x00']\n",
      "Bad pipe message: %s [b'\\xa7\\x15\\xd8=\\x88\\xf9\\xa1\\x9bbW9\\xe1b/Zq\\x87\\x9c\\x00\\x00\\xa2\\xc0\\x14\\xc0\\n\\x009\\x008\\x007\\x006\\x00\\x88\\x00\\x87\\x00\\x86\\x00']\n",
      "Bad pipe message: %s [b'\\x19\\x00:\\x00\\x89\\xc0\\x0f\\xc0\\x05\\x005\\x00\\x84\\xc0\\x13\\xc0\\t\\x003\\x002\\x001\\x000\\x00\\x9a\\x00\\x99\\x00\\x98\\x00\\x97\\x00E\\x00D\\x00C\\x00B\\xc0\\x18\\x004\\x00\\x9b\\x00F\\xc0\\x0e\\xc0\\x04\\x00/\\x00\\x96\\x00A\\x00\\x07\\xc0\\x11\\xc0\\x07\\xc0\\x16\\x00\\x18\\xc0\\x0c\\xc0\\x02\\x00\\x05\\x00\\x04\\xc0\\x12\\xc0\\x08\\x00\\x16\\x00\\x13\\x00\\x10\\x00\\r\\xc0\\x17\\x00\\x1b\\xc0\\r\\xc0\\x03\\x00\\n\\x00\\x15\\x00\\x12\\x00\\x0f\\x00\\x0c\\x00\\x1a\\x00\\t\\x00\\x14\\x00\\x11\\x00\\x19\\x00\\x08\\x00\\x06\\x00\\x17\\x00\\x03\\xc0\\x10\\xc0\\x06\\xc0\\x15\\xc0']\n",
      "Bad pipe message: %s [b'\\x01\\x00\\x02\\x00\\x01\\x00\\xff\\x02\\x01\\x00']\n",
      "Bad pipe message: %s [b'\\x88\\xd6#\\x93&\\xc3J\\x15\\rn\"\\xf4?\\xab\\x96\\xf0\\xb3\\xb2\\x00\\x00\\x86\\xc00\\xc0,\\xc0(\\xc0$\\xc0\\x14\\xc0\\n\\x00\\xa5\\x00\\xa3\\x00\\xa1\\x00\\x9f\\x00k\\x00j\\x00i\\x00h\\x009\\x008\\x007\\x006\\xc02\\xc0.\\xc0*\\xc0&\\xc0\\x0f\\xc0\\x05\\x00\\x9d\\x00=\\x005\\xc0/\\xc0+\\xc0\\'\\xc0#\\xc0\\x13\\xc0\\t\\x00\\xa4\\x00\\xa2\\x00\\xa0\\x00\\x9e\\x00g\\x00@\\x00?\\x00>\\x003\\x002\\x001\\x000\\xc01\\xc0-\\xc0)\\xc0', b'\\x0e\\xc0\\x04\\x00\\x9c\\x00<\\x00/\\x00\\x9a\\x00\\x99\\x00\\x98\\x00\\x97\\x00\\x96\\x00\\x07\\xc0\\x11\\xc0\\x07\\xc0\\x0c\\xc0\\x02\\x00\\x05\\x00\\x04\\x00\\xff\\x02']\n",
      "Bad pipe message: %s [b'']\n",
      "Bad pipe message: %s [b'R\\xc5\\xa7\\x88F\\x15\\x1d\\xf4\\x11\\xf5&\\xb7\\xb8F\\x8d3\\xb6C\\x00\\x00\\xf4\\xc00\\xc0', b'(\\xc0$\\xc0\\x14\\xc0\\n\\x00\\xa5\\x00\\xa3\\x00\\xa1\\x00\\x9f\\x00k\\x00j\\x00i\\x00h\\x009\\x008\\x007\\x006\\x00\\x88\\x00\\x87\\x00\\x86\\x00\\x85\\xc0\\x19\\x00\\xa7']\n"
     ]
    }
   ],
   "source": [
    "# Cleaning up\n",
    "\n",
    "if should_cleanup:\n",
    "    client.beta.assistants.delete(assistant.id)\n",
    "    client.beta.threads.delete(thread.id)\n",
    "    for file in client.files.list():\n",
    "        print(f\"Deleting the file {file.filename} (id={file.id})\")\n",
    "        client.files.delete(file.id)"
   ]
  }
 ],
 "metadata": {
  "kernelspec": {
   "display_name": "assistantapi",
   "language": "python",
   "name": "assistantapi"
  },
  "language_info": {
   "codemirror_mode": {
    "name": "ipython",
    "version": 3
   },
   "file_extension": ".py",
   "mimetype": "text/x-python",
   "name": "python",
   "nbconvert_exporter": "python",
   "pygments_lexer": "ipython3",
   "version": "3.11.8"
  }
 },
 "nbformat": 4,
 "nbformat_minor": 5
}
