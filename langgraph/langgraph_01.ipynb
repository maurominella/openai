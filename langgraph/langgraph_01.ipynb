{
 "cells": [
  {
   "cell_type": "code",
   "execution_count": 1,
   "id": "aa1fe9f7-7753-481e-8b78-01d8d817650e",
   "metadata": {},
   "outputs": [],
   "source": [
    "import functools, operator, requests, os, json\n",
    "from bs4 import BeautifulSoup\n",
    "from duckduckgo_search import DDGS\n",
    "from langchain.agents import AgentExecutor, create_openai_tools_agent\n",
    "from langchain_core.messages import BaseMessage, HumanMessage\n",
    "from langchain.output_parsers.openai_functions import JsonOutputFunctionsParser\n",
    "from langchain_core.prompts import ChatPromptTemplate, MessagesPlaceholder\n",
    "from langgraph.graph import StateGraph, END\n",
    "from langchain.tools import tool\n",
    "from langchain_openai import ChatOpenAI, AzureChatOpenAI\n",
    "from typing import Annotated, Any, Dict, List, Optional, Sequence, TypedDict\n",
    "import gradio as gr"
   ]
  },
  {
   "cell_type": "code",
   "execution_count": 2,
   "id": "899372e7-e08c-4d6a-a9b1-009bc09e2712",
   "metadata": {},
   "outputs": [],
   "source": [
    "# Set environment variables\n",
    "\n",
    "import os\n",
    "from dotenv import load_dotenv\n",
    "\n",
    "load_dotenv(\"./../credentials_my.env\")\n",
    "\n",
    "os.environ[\"AZURE_OPENAI_ENDPOINT\"] = os.environ[\"AZURE_OPENAI_ENDPOINT_SCUS\"]\n",
    "os.environ[\"AZURE_OPENAI_API_KEY\"]  = os.environ[\"AZURE_OPENAI_API_KEY_SCUS\"]\n",
    "os.environ[\"OPENAI_API_VERSION\"]    = os.environ[\"AZURE_OPENAI_API_VERSION\"]\n",
    "os.environ[\"AZURE_OPENAI_API_TYPE\"] = os.environ[\"OPENAI_API_TYPE\"]\n",
    "\n",
    "MODEL = os.environ[\"GPT4-0125PREVIEW-128k\"]\n",
    "\n",
    "# https://smith.langchain.com/\n",
    "os.environ[\"LANGCHAIN_TRACING_V2\"]  = \"true\"\n",
    "os.environ[\"LANGCHAIN_PROJECT\"]     = \"LangGraph Research Agents\"\n",
    "os.environ[\"LANGCHAIN_API_KEY\"]     = os.environ[\"LANGCHAIN_API_KEY\"]"
   ]
  },
  {
   "cell_type": "code",
   "execution_count": 3,
   "id": "1c3f2253-8def-4378-bee7-81ec277b643a",
   "metadata": {},
   "outputs": [],
   "source": [
    "# Initialize model\n",
    "\n",
    "llm = AzureChatOpenAI(deployment_name=MODEL, temperature=0, max_tokens=1000)"
   ]
  },
  {
   "cell_type": "code",
   "execution_count": 4,
   "id": "62a6878d-394b-4017-9bb2-70bbc8b46bef",
   "metadata": {},
   "outputs": [],
   "source": [
    "# 1. Define custom tools\n",
    "@tool(\"internet_search_tool\", return_direct=False) # this is the name tracked in LangSmith\n",
    "def internet_search_function(query: str) -> str:\n",
    "    \"\"\"Searches the internet using DuckDuckGo.\"\"\"\n",
    "    with DDGS() as ddgs:\n",
    "        results = [r for r in ddgs.text(query, max_results=5)]\n",
    "        return results if results else \"No results found.\"\n",
    "\n",
    "@tool(\"process_content\", return_direct=False)\n",
    "def process_content_function(url: str) -> str:\n",
    "    \"\"\"Processes content from a webpage.\"\"\"\n",
    "    response = requests.get(url)\n",
    "    soup = BeautifulSoup(response.content, 'html.parser')\n",
    "    return soup.get_text()\n",
    "\n",
    "tools = [internet_search_function, process_content_function]"
   ]
  },
  {
   "cell_type": "markdown",
   "id": "dc207d64",
   "metadata": {},
   "source": [
    "# AGENTS"
   ]
  },
  {
   "cell_type": "markdown",
   "id": "9e4e168b",
   "metadata": {},
   "source": [
    "## Create an Agent step by step"
   ]
  },
  {
   "cell_type": "code",
   "execution_count": 5,
   "id": "31720e1c",
   "metadata": {},
   "outputs": [
    {
     "name": "stdout",
     "output_type": "stream",
     "text": [
      "('system', 'You are a web searcher. Search the internet for information.')\n",
      "variable_name='messages'\n",
      "variable_name='agent_scratchpad'\n"
     ]
    }
   ],
   "source": [
    "system_prompt = (\n",
    "    \"system\",\n",
    "    \"You are a web searcher. Search the internet for information.\")\n",
    "\n",
    "mp1 = MessagesPlaceholder(variable_name=\"messages\")\n",
    "\n",
    "mp2 = MessagesPlaceholder(variable_name=\"agent_scratchpad\")\n",
    "\n",
    "print(system_prompt, mp1, mp2, sep='\\n')"
   ]
  },
  {
   "cell_type": "code",
   "execution_count": 6,
   "id": "c0eb65c4",
   "metadata": {},
   "outputs": [
    {
     "data": {
      "text/plain": [
       "ChatPromptTemplate(input_variables=['agent_scratchpad', 'messages'], input_types={'messages': typing.List[typing.Union[langchain_core.messages.ai.AIMessage, langchain_core.messages.human.HumanMessage, langchain_core.messages.chat.ChatMessage, langchain_core.messages.system.SystemMessage, langchain_core.messages.function.FunctionMessage, langchain_core.messages.tool.ToolMessage]], 'agent_scratchpad': typing.List[typing.Union[langchain_core.messages.ai.AIMessage, langchain_core.messages.human.HumanMessage, langchain_core.messages.chat.ChatMessage, langchain_core.messages.system.SystemMessage, langchain_core.messages.function.FunctionMessage, langchain_core.messages.tool.ToolMessage]]}, messages=[SystemMessagePromptTemplate(prompt=PromptTemplate(input_variables=[], template='You are a web searcher. Search the internet for information.')), MessagesPlaceholder(variable_name='messages'), MessagesPlaceholder(variable_name='agent_scratchpad')])"
      ]
     },
     "execution_count": 6,
     "metadata": {},
     "output_type": "execute_result"
    }
   ],
   "source": [
    "cpt = ChatPromptTemplate.from_messages([\n",
    "        system_prompt,\n",
    "        mp1,\n",
    "        mp2\n",
    "    ])\n",
    "\n",
    "cpt"
   ]
  },
  {
   "cell_type": "code",
   "execution_count": 7,
   "id": "787b6468",
   "metadata": {},
   "outputs": [
    {
     "data": {
      "text/plain": [
       "RunnableAssign(mapper={\n",
       "  agent_scratchpad: RunnableLambda(lambda x: format_to_openai_tool_messages(x['intermediate_steps']))\n",
       "})\n",
       "| ChatPromptTemplate(input_variables=['agent_scratchpad', 'messages'], input_types={'messages': typing.List[typing.Union[langchain_core.messages.ai.AIMessage, langchain_core.messages.human.HumanMessage, langchain_core.messages.chat.ChatMessage, langchain_core.messages.system.SystemMessage, langchain_core.messages.function.FunctionMessage, langchain_core.messages.tool.ToolMessage]], 'agent_scratchpad': typing.List[typing.Union[langchain_core.messages.ai.AIMessage, langchain_core.messages.human.HumanMessage, langchain_core.messages.chat.ChatMessage, langchain_core.messages.system.SystemMessage, langchain_core.messages.function.FunctionMessage, langchain_core.messages.tool.ToolMessage]]}, messages=[SystemMessagePromptTemplate(prompt=PromptTemplate(input_variables=[], template='You are a web searcher. Search the internet for information.')), MessagesPlaceholder(variable_name='messages'), MessagesPlaceholder(variable_name='agent_scratchpad')])\n",
       "| RunnableBinding(bound=AzureChatOpenAI(client=<openai.resources.chat.completions.Completions object at 0x7f7ef4cd1990>, async_client=<openai.resources.chat.completions.AsyncCompletions object at 0x7f7ef4b04950>, temperature=0.0, openai_api_key=SecretStr('**********'), openai_proxy='', max_tokens=1000, azure_endpoint='https://mmopenaiscus.openai.azure.com/', deployment_name='gpt4-0125preview-128k', openai_api_version='2024-02-15-preview', openai_api_type='azure'), kwargs={'tools': [{'type': 'function', 'function': {'name': 'internet_search_tool', 'description': 'internet_search_tool(query: str) -> str - Searches the internet using DuckDuckGo.', 'parameters': {'type': 'object', 'properties': {'query': {'type': 'string'}}, 'required': ['query']}}}, {'type': 'function', 'function': {'name': 'process_content', 'description': 'process_content(url: str) -> str - Processes content from a webpage.', 'parameters': {'type': 'object', 'properties': {'url': {'type': 'string'}}, 'required': ['url']}}}]})\n",
       "| OpenAIToolsAgentOutputParser()"
      ]
     },
     "execution_count": 7,
     "metadata": {},
     "output_type": "execute_result"
    }
   ],
   "source": [
    "agent = create_openai_tools_agent(llm, tools, cpt)\n",
    "agent"
   ]
  },
  {
   "cell_type": "code",
   "execution_count": 8,
   "id": "04580297",
   "metadata": {},
   "outputs": [
    {
     "data": {
      "text/plain": [
       "AgentExecutor(agent=RunnableMultiActionAgent(runnable=RunnableAssign(mapper={\n",
       "  agent_scratchpad: RunnableLambda(lambda x: format_to_openai_tool_messages(x['intermediate_steps']))\n",
       "})\n",
       "| ChatPromptTemplate(input_variables=['agent_scratchpad', 'messages'], input_types={'messages': typing.List[typing.Union[langchain_core.messages.ai.AIMessage, langchain_core.messages.human.HumanMessage, langchain_core.messages.chat.ChatMessage, langchain_core.messages.system.SystemMessage, langchain_core.messages.function.FunctionMessage, langchain_core.messages.tool.ToolMessage]], 'agent_scratchpad': typing.List[typing.Union[langchain_core.messages.ai.AIMessage, langchain_core.messages.human.HumanMessage, langchain_core.messages.chat.ChatMessage, langchain_core.messages.system.SystemMessage, langchain_core.messages.function.FunctionMessage, langchain_core.messages.tool.ToolMessage]]}, messages=[SystemMessagePromptTemplate(prompt=PromptTemplate(input_variables=[], template='You are a web searcher. Search the internet for information.')), MessagesPlaceholder(variable_name='messages'), MessagesPlaceholder(variable_name='agent_scratchpad')])\n",
       "| RunnableBinding(bound=AzureChatOpenAI(client=<openai.resources.chat.completions.Completions object at 0x7f7ef4cd1990>, async_client=<openai.resources.chat.completions.AsyncCompletions object at 0x7f7ef4b04950>, temperature=0.0, openai_api_key=SecretStr('**********'), openai_proxy='', max_tokens=1000, azure_endpoint='https://mmopenaiscus.openai.azure.com/', deployment_name='gpt4-0125preview-128k', openai_api_version='2024-02-15-preview', openai_api_type='azure'), kwargs={'tools': [{'type': 'function', 'function': {'name': 'internet_search_tool', 'description': 'internet_search_tool(query: str) -> str - Searches the internet using DuckDuckGo.', 'parameters': {'type': 'object', 'properties': {'query': {'type': 'string'}}, 'required': ['query']}}}, {'type': 'function', 'function': {'name': 'process_content', 'description': 'process_content(url: str) -> str - Processes content from a webpage.', 'parameters': {'type': 'object', 'properties': {'url': {'type': 'string'}}, 'required': ['url']}}}]})\n",
       "| OpenAIToolsAgentOutputParser(), input_keys_arg=[], return_keys_arg=[], stream_runnable=True), tools=[StructuredTool(name='internet_search_tool', description='internet_search_tool(query: str) -> str - Searches the internet using DuckDuckGo.', args_schema=<class 'pydantic.v1.main.internet_search_toolSchema'>, func=<function internet_search_function at 0x7f7ef4b0f1a0>), StructuredTool(name='process_content', description='process_content(url: str) -> str - Processes content from a webpage.', args_schema=<class 'pydantic.v1.main.process_contentSchema'>, func=<function process_content_function at 0x7f7ef4b0f240>)])"
      ]
     },
     "execution_count": 8,
     "metadata": {},
     "output_type": "execute_result"
    }
   ],
   "source": [
    "executor = AgentExecutor(agent=agent, tools=tools)\n",
    "executor"
   ]
  },
  {
   "cell_type": "markdown",
   "id": "a32824da",
   "metadata": {},
   "source": [
    "## Create an Agent Executor with a Helper Function"
   ]
  },
  {
   "cell_type": "code",
   "execution_count": 9,
   "id": "a5886a8b-a290-4830-8689-3fffd856d9f0",
   "metadata": {},
   "outputs": [],
   "source": [
    "# Helper function for creating agents\n",
    "def create_agent_executor(llm: ChatOpenAI, tools: list, system_prompt: str):\n",
    "    prompt = ChatPromptTemplate.from_messages([\n",
    "        (\"system\", system_prompt),\n",
    "        MessagesPlaceholder(variable_name=\"messages\"),\n",
    "        MessagesPlaceholder(variable_name=\"agent_scratchpad\"),\n",
    "    ])\n",
    "    agent = create_openai_tools_agent(llm, tools, prompt)\n",
    "    executor = AgentExecutor(agent=agent, tools=tools)\n",
    "    return executor"
   ]
  },
  {
   "cell_type": "code",
   "execution_count": 10,
   "id": "2c37f240",
   "metadata": {},
   "outputs": [
    {
     "data": {
      "text/plain": [
       "AgentExecutor(agent=RunnableMultiActionAgent(runnable=RunnableAssign(mapper={\n",
       "  agent_scratchpad: RunnableLambda(lambda x: format_to_openai_tool_messages(x['intermediate_steps']))\n",
       "})\n",
       "| ChatPromptTemplate(input_variables=['agent_scratchpad', 'messages'], input_types={'messages': typing.List[typing.Union[langchain_core.messages.ai.AIMessage, langchain_core.messages.human.HumanMessage, langchain_core.messages.chat.ChatMessage, langchain_core.messages.system.SystemMessage, langchain_core.messages.function.FunctionMessage, langchain_core.messages.tool.ToolMessage]], 'agent_scratchpad': typing.List[typing.Union[langchain_core.messages.ai.AIMessage, langchain_core.messages.human.HumanMessage, langchain_core.messages.chat.ChatMessage, langchain_core.messages.system.SystemMessage, langchain_core.messages.function.FunctionMessage, langchain_core.messages.tool.ToolMessage]]}, messages=[SystemMessagePromptTemplate(prompt=PromptTemplate(input_variables=[], template='You are a web searcher. Search the internet for information.')), MessagesPlaceholder(variable_name='messages'), MessagesPlaceholder(variable_name='agent_scratchpad')])\n",
       "| RunnableBinding(bound=AzureChatOpenAI(client=<openai.resources.chat.completions.Completions object at 0x7f7ef4cd1990>, async_client=<openai.resources.chat.completions.AsyncCompletions object at 0x7f7ef4b04950>, temperature=0.0, openai_api_key=SecretStr('**********'), openai_proxy='', max_tokens=1000, azure_endpoint='https://mmopenaiscus.openai.azure.com/', deployment_name='gpt4-0125preview-128k', openai_api_version='2024-02-15-preview', openai_api_type='azure'), kwargs={'tools': [{'type': 'function', 'function': {'name': 'internet_search_tool', 'description': 'internet_search_tool(query: str) -> str - Searches the internet using DuckDuckGo.', 'parameters': {'type': 'object', 'properties': {'query': {'type': 'string'}}, 'required': ['query']}}}, {'type': 'function', 'function': {'name': 'process_content', 'description': 'process_content(url: str) -> str - Processes content from a webpage.', 'parameters': {'type': 'object', 'properties': {'url': {'type': 'string'}}, 'required': ['url']}}}]})\n",
       "| OpenAIToolsAgentOutputParser(), input_keys_arg=[], return_keys_arg=[], stream_runnable=True), tools=[StructuredTool(name='internet_search_tool', description='internet_search_tool(query: str) -> str - Searches the internet using DuckDuckGo.', args_schema=<class 'pydantic.v1.main.internet_search_toolSchema'>, func=<function internet_search_function at 0x7f7ef4b0f1a0>), StructuredTool(name='process_content', description='process_content(url: str) -> str - Processes content from a webpage.', args_schema=<class 'pydantic.v1.main.process_contentSchema'>, func=<function process_content_function at 0x7f7ef4b0f240>)])"
      ]
     },
     "execution_count": 10,
     "metadata": {},
     "output_type": "execute_result"
    }
   ],
   "source": [
    "# Create the Search Agent Executor\n",
    "\n",
    "search_agent_exec = create_agent_executor(\n",
    "    llm=llm,\n",
    "    tools=tools,\n",
    "    system_prompt=\"You are a web searcher. Search the internet for information.\",\n",
    "    )\n",
    "\n",
    "search_agent_exec"
   ]
  },
  {
   "cell_type": "code",
   "execution_count": 11,
   "id": "e1c84387",
   "metadata": {},
   "outputs": [
    {
     "data": {
      "text/plain": [
       "AgentExecutor(agent=RunnableMultiActionAgent(runnable=RunnableAssign(mapper={\n",
       "  agent_scratchpad: RunnableLambda(lambda x: format_to_openai_tool_messages(x['intermediate_steps']))\n",
       "})\n",
       "| ChatPromptTemplate(input_variables=['agent_scratchpad', 'messages'], input_types={'messages': typing.List[typing.Union[langchain_core.messages.ai.AIMessage, langchain_core.messages.human.HumanMessage, langchain_core.messages.chat.ChatMessage, langchain_core.messages.system.SystemMessage, langchain_core.messages.function.FunctionMessage, langchain_core.messages.tool.ToolMessage]], 'agent_scratchpad': typing.List[typing.Union[langchain_core.messages.ai.AIMessage, langchain_core.messages.human.HumanMessage, langchain_core.messages.chat.ChatMessage, langchain_core.messages.system.SystemMessage, langchain_core.messages.function.FunctionMessage, langchain_core.messages.tool.ToolMessage]]}, messages=[SystemMessagePromptTemplate(prompt=PromptTemplate(input_variables=[], template='You are a Insight Researcher. Do step by step. \\n        Based on the provided content first identify the list of topics,\\n        then search internet for each topic one by one\\n        and finally find insights for each topic one by one.\\n        Include the insights and sources in the final response')), MessagesPlaceholder(variable_name='messages'), MessagesPlaceholder(variable_name='agent_scratchpad')])\n",
       "| RunnableBinding(bound=AzureChatOpenAI(client=<openai.resources.chat.completions.Completions object at 0x7f7ef4cd1990>, async_client=<openai.resources.chat.completions.AsyncCompletions object at 0x7f7ef4b04950>, temperature=0.0, openai_api_key=SecretStr('**********'), openai_proxy='', max_tokens=1000, azure_endpoint='https://mmopenaiscus.openai.azure.com/', deployment_name='gpt4-0125preview-128k', openai_api_version='2024-02-15-preview', openai_api_type='azure'), kwargs={'tools': [{'type': 'function', 'function': {'name': 'internet_search_tool', 'description': 'internet_search_tool(query: str) -> str - Searches the internet using DuckDuckGo.', 'parameters': {'type': 'object', 'properties': {'query': {'type': 'string'}}, 'required': ['query']}}}, {'type': 'function', 'function': {'name': 'process_content', 'description': 'process_content(url: str) -> str - Processes content from a webpage.', 'parameters': {'type': 'object', 'properties': {'url': {'type': 'string'}}, 'required': ['url']}}}]})\n",
       "| OpenAIToolsAgentOutputParser(), input_keys_arg=[], return_keys_arg=[], stream_runnable=True), tools=[StructuredTool(name='internet_search_tool', description='internet_search_tool(query: str) -> str - Searches the internet using DuckDuckGo.', args_schema=<class 'pydantic.v1.main.internet_search_toolSchema'>, func=<function internet_search_function at 0x7f7ef4b0f1a0>), StructuredTool(name='process_content', description='process_content(url: str) -> str - Processes content from a webpage.', args_schema=<class 'pydantic.v1.main.process_contentSchema'>, func=<function process_content_function at 0x7f7ef4b0f240>)])"
      ]
     },
     "execution_count": 11,
     "metadata": {},
     "output_type": "execute_result"
    }
   ],
   "source": [
    "# Create the Insight Research Agent Executor\n",
    "\n",
    "insights_research_agent_exec = create_agent_executor(\n",
    "    llm = llm,\n",
    "    tools = tools, \n",
    "    system_prompt = \"\"\"You are a Insight Researcher. Do step by step. \n",
    "        Based on the provided content first identify the list of topics,\n",
    "        then search internet for each topic one by one\n",
    "        and finally find insights for each topic one by one.\n",
    "        Include the insights and sources in the final response\"\"\")\n",
    "\n",
    "insights_research_agent_exec"
   ]
  },
  {
   "cell_type": "markdown",
   "id": "13423743",
   "metadata": {},
   "source": [
    "# NODES"
   ]
  },
  {
   "cell_type": "markdown",
   "id": "8f56e04b",
   "metadata": {},
   "source": [
    "## What is a \"HumanMessage\""
   ]
  },
  {
   "cell_type": "code",
   "execution_count": 12,
   "id": "b5a7a5aa",
   "metadata": {},
   "outputs": [
    {
     "data": {
      "text/plain": [
       "HumanMessage(content='This is the result', name='Node name')"
      ]
     },
     "execution_count": 12,
     "metadata": {},
     "output_type": "execute_result"
    }
   ],
   "source": [
    "# it's not used in our code directly, but let's see what a HumanMessage is\n",
    "\n",
    "from langchain_core.messages import HumanMessage\n",
    "\n",
    "HumanMessage(content=\"This is the result\", name=\"Node name\")"
   ]
  },
  {
   "cell_type": "markdown",
   "id": "7a79cc7a",
   "metadata": {},
   "source": [
    "## \"agent_node\" function to convert the agent response to a human message"
   ]
  },
  {
   "cell_type": "code",
   "execution_count": 13,
   "id": "01838aa8",
   "metadata": {},
   "outputs": [],
   "source": [
    "# This function facilitates creating nodes in the graph:\n",
    "# it takes care of converting the agent response to a human message. \n",
    "# This is important because that is how we will add it the global state of the graph\n",
    "\n",
    "def agent_node(state, agent, name):\n",
    "    result = agent.invoke(state)\n",
    "    return {\"messages\": [HumanMessage(content=result[\"output\"], name=name)]}"
   ]
  },
  {
   "cell_type": "markdown",
   "id": "abfe621f",
   "metadata": {},
   "source": [
    "## Create the \"Web_Searcher\" Node for Searcher Agents Executor"
   ]
  },
  {
   "cell_type": "code",
   "execution_count": 14,
   "id": "fe3d5601",
   "metadata": {},
   "outputs": [
    {
     "data": {
      "text/plain": [
       "functools.partial(<function agent_node at 0x7f7ef4b66ac0>, agent=AgentExecutor(agent=RunnableMultiActionAgent(runnable=RunnableAssign(mapper={\n",
       "  agent_scratchpad: RunnableLambda(lambda x: format_to_openai_tool_messages(x['intermediate_steps']))\n",
       "})\n",
       "| ChatPromptTemplate(input_variables=['agent_scratchpad', 'messages'], input_types={'messages': typing.List[typing.Union[langchain_core.messages.ai.AIMessage, langchain_core.messages.human.HumanMessage, langchain_core.messages.chat.ChatMessage, langchain_core.messages.system.SystemMessage, langchain_core.messages.function.FunctionMessage, langchain_core.messages.tool.ToolMessage]], 'agent_scratchpad': typing.List[typing.Union[langchain_core.messages.ai.AIMessage, langchain_core.messages.human.HumanMessage, langchain_core.messages.chat.ChatMessage, langchain_core.messages.system.SystemMessage, langchain_core.messages.function.FunctionMessage, langchain_core.messages.tool.ToolMessage]]}, messages=[SystemMessagePromptTemplate(prompt=PromptTemplate(input_variables=[], template='You are a Insight Researcher. Do step by step. \\n        Based on the provided content first identify the list of topics,\\n        then search internet for each topic one by one\\n        and finally find insights for each topic one by one.\\n        Include the insights and sources in the final response')), MessagesPlaceholder(variable_name='messages'), MessagesPlaceholder(variable_name='agent_scratchpad')])\n",
       "| RunnableBinding(bound=AzureChatOpenAI(client=<openai.resources.chat.completions.Completions object at 0x7f7ef4cd1990>, async_client=<openai.resources.chat.completions.AsyncCompletions object at 0x7f7ef4b04950>, temperature=0.0, openai_api_key=SecretStr('**********'), openai_proxy='', max_tokens=1000, azure_endpoint='https://mmopenaiscus.openai.azure.com/', deployment_name='gpt4-0125preview-128k', openai_api_version='2024-02-15-preview', openai_api_type='azure'), kwargs={'tools': [{'type': 'function', 'function': {'name': 'internet_search_tool', 'description': 'internet_search_tool(query: str) -> str - Searches the internet using DuckDuckGo.', 'parameters': {'type': 'object', 'properties': {'query': {'type': 'string'}}, 'required': ['query']}}}, {'type': 'function', 'function': {'name': 'process_content', 'description': 'process_content(url: str) -> str - Processes content from a webpage.', 'parameters': {'type': 'object', 'properties': {'url': {'type': 'string'}}, 'required': ['url']}}}]})\n",
       "| OpenAIToolsAgentOutputParser(), input_keys_arg=[], return_keys_arg=[], stream_runnable=True), tools=[StructuredTool(name='internet_search_tool', description='internet_search_tool(query: str) -> str - Searches the internet using DuckDuckGo.', args_schema=<class 'pydantic.v1.main.internet_search_toolSchema'>, func=<function internet_search_function at 0x7f7ef4b0f1a0>), StructuredTool(name='process_content', description='process_content(url: str) -> str - Processes content from a webpage.', args_schema=<class 'pydantic.v1.main.process_contentSchema'>, func=<function process_content_function at 0x7f7ef4b0f240>)]), name='Web_Searcher')"
      ]
     },
     "execution_count": 14,
     "metadata": {},
     "output_type": "execute_result"
    }
   ],
   "source": [
    "# create the search node, starting from the search agent executor\n",
    "\n",
    "search_node = functools.partial(agent_node, agent=insights_research_agent_exec, name=\"Web_Searcher\")\n",
    "search_node"
   ]
  },
  {
   "cell_type": "markdown",
   "id": "8d0e563a",
   "metadata": {},
   "source": [
    "## Create the \"Insight_Researcher\" Node for Insights_Researcher Agents Executor"
   ]
  },
  {
   "cell_type": "code",
   "execution_count": 15,
   "id": "63b0322f",
   "metadata": {},
   "outputs": [
    {
     "data": {
      "text/plain": [
       "functools.partial(<function agent_node at 0x7f7ef4b66ac0>, agent=AgentExecutor(agent=RunnableMultiActionAgent(runnable=RunnableAssign(mapper={\n",
       "  agent_scratchpad: RunnableLambda(lambda x: format_to_openai_tool_messages(x['intermediate_steps']))\n",
       "})\n",
       "| ChatPromptTemplate(input_variables=['agent_scratchpad', 'messages'], input_types={'messages': typing.List[typing.Union[langchain_core.messages.ai.AIMessage, langchain_core.messages.human.HumanMessage, langchain_core.messages.chat.ChatMessage, langchain_core.messages.system.SystemMessage, langchain_core.messages.function.FunctionMessage, langchain_core.messages.tool.ToolMessage]], 'agent_scratchpad': typing.List[typing.Union[langchain_core.messages.ai.AIMessage, langchain_core.messages.human.HumanMessage, langchain_core.messages.chat.ChatMessage, langchain_core.messages.system.SystemMessage, langchain_core.messages.function.FunctionMessage, langchain_core.messages.tool.ToolMessage]]}, messages=[SystemMessagePromptTemplate(prompt=PromptTemplate(input_variables=[], template='You are a Insight Researcher. Do step by step. \\n        Based on the provided content first identify the list of topics,\\n        then search internet for each topic one by one\\n        and finally find insights for each topic one by one.\\n        Include the insights and sources in the final response')), MessagesPlaceholder(variable_name='messages'), MessagesPlaceholder(variable_name='agent_scratchpad')])\n",
       "| RunnableBinding(bound=AzureChatOpenAI(client=<openai.resources.chat.completions.Completions object at 0x7f7ef4cd1990>, async_client=<openai.resources.chat.completions.AsyncCompletions object at 0x7f7ef4b04950>, temperature=0.0, openai_api_key=SecretStr('**********'), openai_proxy='', max_tokens=1000, azure_endpoint='https://mmopenaiscus.openai.azure.com/', deployment_name='gpt4-0125preview-128k', openai_api_version='2024-02-15-preview', openai_api_type='azure'), kwargs={'tools': [{'type': 'function', 'function': {'name': 'internet_search_tool', 'description': 'internet_search_tool(query: str) -> str - Searches the internet using DuckDuckGo.', 'parameters': {'type': 'object', 'properties': {'query': {'type': 'string'}}, 'required': ['query']}}}, {'type': 'function', 'function': {'name': 'process_content', 'description': 'process_content(url: str) -> str - Processes content from a webpage.', 'parameters': {'type': 'object', 'properties': {'url': {'type': 'string'}}, 'required': ['url']}}}]})\n",
       "| OpenAIToolsAgentOutputParser(), input_keys_arg=[], return_keys_arg=[], stream_runnable=True), tools=[StructuredTool(name='internet_search_tool', description='internet_search_tool(query: str) -> str - Searches the internet using DuckDuckGo.', args_schema=<class 'pydantic.v1.main.internet_search_toolSchema'>, func=<function internet_search_function at 0x7f7ef4b0f1a0>), StructuredTool(name='process_content', description='process_content(url: str) -> str - Processes content from a webpage.', args_schema=<class 'pydantic.v1.main.process_contentSchema'>, func=<function process_content_function at 0x7f7ef4b0f240>)]), name='Insight_Researcher')"
      ]
     },
     "execution_count": 15,
     "metadata": {},
     "output_type": "execute_result"
    }
   ],
   "source": [
    "# create the insights_research node, starting from the insights_research agent executor\n",
    "\n",
    "insights_research_node = functools.partial(agent_node, agent=insights_research_agent_exec, name=\"Insight_Researcher\")\n",
    "insights_research_node"
   ]
  },
  {
   "attachments": {},
   "cell_type": "markdown",
   "id": "820f9466",
   "metadata": {},
   "source": [
    "## Create the \"supervisor\" Node \n",
    "Let's recall that:\n",
    "- we do not have a supervisor agent\n",
    "- the current nodes are **Web_Search** and **Insight_Researcher**\n",
    "- a \"node\" typically include the following components:\n",
    "```\n",
    "functool.partial(\n",
    "...\n",
    "| ChatPromptTemplate\n",
    "| RunnableBinding\n",
    "| OpenAIToolsAgentOutputParser\n",
    ")\n",
    "```"
   ]
  },
  {
   "cell_type": "markdown",
   "id": "8e8687ff",
   "metadata": {},
   "source": [
    "### Prepare the variables"
   ]
  },
  {
   "cell_type": "code",
   "execution_count": 16,
   "id": "1ba64d34",
   "metadata": {},
   "outputs": [
    {
     "name": "stdout",
     "output_type": "stream",
     "text": [
      "members: ['Web_Searcher', 'Insight_Researcher'],\n",
      "options: ['FINISH', 'Web_Searcher', 'Insight_Researcher']\n"
     ]
    }
   ],
   "source": [
    "# given the two nodes...\n",
    "members = [\"Web_Searcher\", \"Insight_Researcher\"]\n",
    "\n",
    "# ...the possible chancesfor supervisor include \"FINISH\"\n",
    "options = [\"FINISH\"] + members\n",
    "\n",
    "print(f\"members: {members},\\noptions: {options}\")"
   ]
  },
  {
   "cell_type": "markdown",
   "id": "94e27ce7",
   "metadata": {},
   "source": [
    "### Create the ChatPromptTemplate object\n",
    "\n",
    "The process is the same used for the other two nodes, but in this case we also use a **partial function**.<br/>\n",
    "\n",
    "A **partial function*** is a function that is created by fixing a certain number of arguments of an existing function. This is achieved using the functools.partial function, which allows you to set default values for one or more arguments of a function, effectively creating a new function with those default values already set.\n",
    "The functools.partial function is used to create partial functions in Python. It allows you to fix a certain number of arguments of an existing function, effectively creating a new function with those fixed arguments. This can be useful when you want to create a simplified version of a function with some arguments pre-filled, or when you need to adapt a function to be used as a callback with a different signature.\n",
    "\n",
    "By using **functools.partial**, you can create specialized functions from more general ones, making your code more modular and easier to maintain. This can be especially handy when working with libraries or frameworks that require functions with specific signatures."
   ]
  },
  {
   "cell_type": "code",
   "execution_count": 17,
   "id": "e7251b50",
   "metadata": {},
   "outputs": [
    {
     "data": {
      "text/plain": [
       "ChatPromptTemplate(input_variables=['messages'], input_types={'messages': typing.List[typing.Union[langchain_core.messages.ai.AIMessage, langchain_core.messages.human.HumanMessage, langchain_core.messages.chat.ChatMessage, langchain_core.messages.system.SystemMessage, langchain_core.messages.function.FunctionMessage, langchain_core.messages.tool.ToolMessage]]}, partial_variables={'options': \"['FINISH', 'Web_Searcher', 'Insight_Researcher']\", 'members': 'Web_Searcher, Insight_Researcher'}, messages=[SystemMessagePromptTemplate(prompt=PromptTemplate(input_variables=['members'], template='You are a supervisor tasked with managing a conversation between the following workers: {members}. Given the following user request, respond with the worker to act next. Each worker will perform a task and respond with their results and status. When finished, respond with FINISH.')), MessagesPlaceholder(variable_name='messages'), SystemMessagePromptTemplate(prompt=PromptTemplate(input_variables=['options'], template='Given the conversation above, who should act next? Or should we FINISH? Select one of: {options}'))])"
      ]
     },
     "execution_count": 17,
     "metadata": {},
     "output_type": "execute_result"
    }
   ],
   "source": [
    "system_prompt_supervisor = (\n",
    "    \"You are a supervisor tasked with managing a conversation between the\"\n",
    "    \" following workers: {members}. Given the following user request,\"\n",
    "    \" respond with the worker to act next. Each worker will perform a\"\n",
    "    \" task and respond with their results and status. When finished,\"\n",
    "    \" respond with FINISH.\")\n",
    "\n",
    "mp1 = MessagesPlaceholder(variable_name=\"messages\")\n",
    "\n",
    "mp2 = (\n",
    "    \"system\",\n",
    "    \"Given the conversation above, who should act next?\"\n",
    "    \" Or should we FINISH? Select one of: {options}\")\n",
    "\n",
    "cpt_supervisor = ChatPromptTemplate.from_messages(\n",
    "    [\n",
    "        (\"system\", system_prompt_supervisor),\n",
    "        mp1,\n",
    "        mp2\n",
    "    ]\n",
    ").partial(options=str(options), members=\", \".join(members))\n",
    "\n",
    "cpt_supervisor"
   ]
  },
  {
   "cell_type": "code",
   "execution_count": 18,
   "id": "6c79eb7a",
   "metadata": {},
   "outputs": [
    {
     "data": {
      "text/plain": [
       "[{'name': 'route',\n",
       "  'description': 'Select the next role.',\n",
       "  'parameters': {'title': 'routeSchema',\n",
       "   'type': 'object',\n",
       "   'properties': {'next': {'title': 'Next',\n",
       "     'anyOf': [{'enum': ['FINISH', 'Web_Searcher', 'Insight_Researcher']}]}},\n",
       "   'required': ['next']}}]"
      ]
     },
     "execution_count": 18,
     "metadata": {},
     "output_type": "execute_result"
    }
   ],
   "source": [
    "# Using openai function calling can make output parsing easier for us\n",
    "\n",
    "function_def = {\n",
    "    \"name\": \"route\",\n",
    "    \"description\": \"Select the next role.\",\n",
    "    \"parameters\": {\n",
    "        \"title\": \"routeSchema\",\n",
    "        \"type\": \"object\",\n",
    "        \"properties\": {\n",
    "            \"next\": {\n",
    "                \"title\": \"Next\",\n",
    "                \"anyOf\": [\n",
    "                    {\"enum\": options},\n",
    "                ],\n",
    "            }\n",
    "        },\n",
    "        \"required\": [\"next\"],\n",
    "    },\n",
    "}\n",
    "\n",
    "tools = [function_def]\n",
    "\n",
    "tools"
   ]
  },
  {
   "cell_type": "code",
   "execution_count": 19,
   "id": "c0349fe2",
   "metadata": {},
   "outputs": [
    {
     "data": {
      "text/plain": [
       "RunnableBinding(bound=AzureChatOpenAI(client=<openai.resources.chat.completions.Completions object at 0x7f7ef4cd1990>, async_client=<openai.resources.chat.completions.AsyncCompletions object at 0x7f7ef4b04950>, temperature=0.0, openai_api_key=SecretStr('**********'), openai_proxy='', max_tokens=1000, azure_endpoint='https://mmopenaiscus.openai.azure.com/', deployment_name='gpt4-0125preview-128k', openai_api_version='2024-02-15-preview', openai_api_type='azure'), kwargs={'functions': [{'name': 'route', 'description': 'Select the next role.', 'parameters': {'title': 'routeSchema', 'type': 'object', 'properties': {'next': {'title': 'Next', 'anyOf': [{'enum': ['FINISH', 'Web_Searcher', 'Insight_Researcher']}]}}, 'required': ['next']}}], 'function_call': {'name': 'route'}})"
      ]
     },
     "execution_count": 19,
     "metadata": {},
     "output_type": "execute_result"
    }
   ],
   "source": [
    "# As we saw for the two nodes above, each node include a \"RunnableBinding\" object\n",
    "# This object \"binds\" the function definition to the function name \"route\"\n",
    "\n",
    "rb = llm.bind_functions(functions=tools, function_call=\"route\")\n",
    "rb"
   ]
  },
  {
   "cell_type": "code",
   "execution_count": 20,
   "id": "6a9945ad",
   "metadata": {},
   "outputs": [
    {
     "data": {
      "text/plain": [
       "ChatPromptTemplate(input_variables=['messages'], input_types={'messages': typing.List[typing.Union[langchain_core.messages.ai.AIMessage, langchain_core.messages.human.HumanMessage, langchain_core.messages.chat.ChatMessage, langchain_core.messages.system.SystemMessage, langchain_core.messages.function.FunctionMessage, langchain_core.messages.tool.ToolMessage]]}, partial_variables={'options': \"['FINISH', 'Web_Searcher', 'Insight_Researcher']\", 'members': 'Web_Searcher, Insight_Researcher'}, messages=[SystemMessagePromptTemplate(prompt=PromptTemplate(input_variables=['members'], template='You are a supervisor tasked with managing a conversation between the following workers: {members}. Given the following user request, respond with the worker to act next. Each worker will perform a task and respond with their results and status. When finished, respond with FINISH.')), MessagesPlaceholder(variable_name='messages'), SystemMessagePromptTemplate(prompt=PromptTemplate(input_variables=['options'], template='Given the conversation above, who should act next? Or should we FINISH? Select one of: {options}'))])\n",
       "| RunnableBinding(bound=AzureChatOpenAI(client=<openai.resources.chat.completions.Completions object at 0x7f7ef4cd1990>, async_client=<openai.resources.chat.completions.AsyncCompletions object at 0x7f7ef4b04950>, temperature=0.0, openai_api_key=SecretStr('**********'), openai_proxy='', max_tokens=1000, azure_endpoint='https://mmopenaiscus.openai.azure.com/', deployment_name='gpt4-0125preview-128k', openai_api_version='2024-02-15-preview', openai_api_type='azure'), kwargs={'functions': [{'name': 'route', 'description': 'Select the next role.', 'parameters': {'title': 'routeSchema', 'type': 'object', 'properties': {'next': {'title': 'Next', 'anyOf': [{'enum': ['FINISH', 'Web_Searcher', 'Insight_Researcher']}]}}, 'required': ['next']}}], 'function_call': {'name': 'route'}})\n",
       "| JsonOutputFunctionsParser()"
      ]
     },
     "execution_count": 20,
     "metadata": {},
     "output_type": "execute_result"
    }
   ],
   "source": [
    "# We're ready to put together the three elements needed to create the node as a pipeline:\n",
    "# - ChatPromptTemplate\n",
    "# - RunnableBinding\n",
    "# - JsonOutputFunctionsParser\n",
    "\n",
    "\n",
    "supervisor_chain = (\n",
    "    cpt_supervisor\n",
    "    | rb\n",
    "    | JsonOutputFunctionsParser()\n",
    "   \n",
    ")\n",
    "\n",
    "supervisor_chain"
   ]
  },
  {
   "cell_type": "markdown",
   "id": "0581aee5",
   "metadata": {},
   "source": [
    "# GRAPH!\n",
    "\n",
    "Now that we have Tools, Agents and Nodes we are ready to build the graph"
   ]
  },
  {
   "cell_type": "code",
   "execution_count": 21,
   "id": "9a608223",
   "metadata": {},
   "outputs": [],
   "source": [
    "# First, we need to define the \"AgentState\", which represents the conversation history\n",
    "\n",
    "class AgentState(TypedDict):\n",
    "    messages: Annotated[Sequence[BaseMessage], operator.add]\n",
    "    next: str"
   ]
  },
  {
   "cell_type": "code",
   "execution_count": 22,
   "id": "cd4d49af",
   "metadata": {},
   "outputs": [],
   "source": [
    "# Then, we create the graph using from langgraph.graph import StateGraph\n",
    "\n",
    "workflow = StateGraph(AgentState)"
   ]
  },
  {
   "cell_type": "code",
   "execution_count": 23,
   "id": "8b123404",
   "metadata": {},
   "outputs": [
    {
     "data": {
      "text/plain": [
       "['Web_Searcher', 'Insight_Researcher', 'Supervisor']"
      ]
     },
     "execution_count": 23,
     "metadata": {},
     "output_type": "execute_result"
    }
   ],
   "source": [
    "# To start building the workflow, we add the three nodes\n",
    "\n",
    "workflow.add_node(\"Web_Searcher\", search_node)\n",
    "workflow.add_node(\"Insight_Researcher\", insights_research_node)\n",
    "workflow.add_node(\"Supervisor\", supervisor_chain)\n",
    "\n",
    "[n for n in workflow.nodes]"
   ]
  },
  {
   "cell_type": "code",
   "execution_count": 24,
   "id": "d427e80d",
   "metadata": {},
   "outputs": [
    {
     "name": "stdout",
     "output_type": "stream",
     "text": [
      "connecting Web_Searcher node to the supervisor node...\n",
      "connecting Insight_Researcher node to the supervisor node...\n"
     ]
    },
    {
     "data": {
      "text/plain": [
       "[('Web_Searcher', 'Supervisor'), ('Insight_Researcher', 'Supervisor')]"
      ]
     },
     "execution_count": 24,
     "metadata": {},
     "output_type": "execute_result"
    }
   ],
   "source": [
    "# Now we add the edges between the two node members and the supervisor\n",
    "# We want our workers to ALWAYS \"report back\" to the Supervisor node when done\n",
    "\n",
    "for member in members:\n",
    "    print(f\"connecting {member} node to the supervisor node...\")\n",
    "    workflow.add_edge(member, \"Supervisor\")\n",
    "    \n",
    "[e for e in workflow.edges]"
   ]
  },
  {
   "cell_type": "code",
   "execution_count": 25,
   "id": "38b6cf26",
   "metadata": {},
   "outputs": [
    {
     "data": {
      "text/plain": [
       "{'Web_Searcher': 'Web_Searcher',\n",
       " 'Insight_Researcher': 'Insight_Researcher',\n",
       " 'FINISH': '__end__'}"
      ]
     },
     "execution_count": 25,
     "metadata": {},
     "output_type": "execute_result"
    }
   ],
   "source": [
    "# The conditional map illustrates the match between each node and its direction\n",
    "\n",
    "conditional_map = {k: k for k in members}\n",
    "\n",
    "conditional_map[\"FINISH\"] = END\n",
    "\n",
    "conditional_map"
   ]
  },
  {
   "cell_type": "code",
   "execution_count": 26,
   "id": "52dbb05f",
   "metadata": {},
   "outputs": [],
   "source": [
    "# Associate the conditional map to the workflow\n",
    "\n",
    "workflow.add_conditional_edges(\n",
    "    \"Supervisor\", \n",
    "    lambda x: x[\"next\"], \n",
    "    conditional_map)"
   ]
  },
  {
   "cell_type": "code",
   "execution_count": 27,
   "id": "7e4d31fe",
   "metadata": {},
   "outputs": [],
   "source": [
    "# Add entry point\n",
    "\n",
    "workflow.set_entry_point(\"Supervisor\")"
   ]
  },
  {
   "cell_type": "code",
   "execution_count": 29,
   "id": "cd2cad3e",
   "metadata": {},
   "outputs": [
    {
     "data": {
      "text/plain": [
       "CompiledStateGraph(nodes={'__start__': PregelNode(config={'tags': ['langsmith:hidden']}, channels=['__start__'], triggers=['__start__'], writers=[ChannelWrite<messages,next>(writes=[ChannelWriteEntry(channel='messages', value=_get_state_key(), skip_none=False), ChannelWriteEntry(channel='next', value=_get_state_key(), skip_none=False)]), ChannelWrite<start:Supervisor>(writes=[ChannelWriteEntry(channel='start:Supervisor', value='__start__', skip_none=False)])]), 'Web_Searcher': PregelNode(config={'tags': []}, channels={'messages': 'messages', 'next': 'next'}, triggers=['branch:Supervisor:condition:Web_Searcher'], mapper=functools.partial(<function _coerce_state at 0x7f7ef7c0d940>, <class '__main__.AgentState'>), writers=[ChannelWrite<Web_Searcher,messages,next>(writes=[ChannelWriteEntry(channel='Web_Searcher', value=None, skip_none=False), ChannelWriteEntry(channel='messages', value=_get_state_key(), skip_none=False), ChannelWriteEntry(channel='next', value=_get_state_key(), skip_none=False)])]), 'Insight_Researcher': PregelNode(config={'tags': []}, channels={'messages': 'messages', 'next': 'next'}, triggers=['branch:Supervisor:condition:Insight_Researcher'], mapper=functools.partial(<function _coerce_state at 0x7f7ef7c0d940>, <class '__main__.AgentState'>), writers=[ChannelWrite<Insight_Researcher,messages,next>(writes=[ChannelWriteEntry(channel='Insight_Researcher', value=None, skip_none=False), ChannelWriteEntry(channel='messages', value=_get_state_key(), skip_none=False), ChannelWriteEntry(channel='next', value=_get_state_key(), skip_none=False)])]), 'Supervisor': PregelNode(config={'tags': []}, channels={'messages': 'messages', 'next': 'next'}, triggers=['start:Supervisor', 'Web_Searcher', 'Insight_Researcher'], mapper=functools.partial(<function _coerce_state at 0x7f7ef7c0d940>, <class '__main__.AgentState'>), writers=[ChannelWrite<Supervisor,messages,next>(writes=[ChannelWriteEntry(channel='Supervisor', value=None, skip_none=False), ChannelWriteEntry(channel='messages', value=_get_state_key(), skip_none=False), ChannelWriteEntry(channel='next', value=_get_state_key(), skip_none=False)]), _route(_is_channel_writer=True)])}, channels={'messages': <langgraph.channels.binop.BinaryOperatorAggregate object at 0x7f7ef526f510>, 'next': <langgraph.channels.last_value.LastValue object at 0x7f7ef526d990>, '__start__': <langgraph.channels.ephemeral_value.EphemeralValue object at 0x7f7ef4ce6650>, 'Web_Searcher': <langgraph.channels.ephemeral_value.EphemeralValue object at 0x7f7ef4b9e810>, 'Insight_Researcher': <langgraph.channels.ephemeral_value.EphemeralValue object at 0x7f7ef4b9d310>, 'Supervisor': <langgraph.channels.ephemeral_value.EphemeralValue object at 0x7f7ef4b3f950>, 'start:Supervisor': <langgraph.channels.ephemeral_value.EphemeralValue object at 0x7f7ef4b3e850>, 'branch:Supervisor:condition:Web_Searcher': <langgraph.channels.ephemeral_value.EphemeralValue object at 0x7f7ef4b79350>, 'branch:Supervisor:condition:Insight_Researcher': <langgraph.channels.ephemeral_value.EphemeralValue object at 0x7f7ef4b79c10>}, auto_validate=False, stream_mode='updates', output_channels=['messages', 'next'], stream_channels=['messages', 'next'], input_channels='__start__', graph=<langgraph.graph.state.StateGraph object at 0x7f7ef4b9cfd0>)"
      ]
     },
     "execution_count": 29,
     "metadata": {},
     "output_type": "execute_result"
    }
   ],
   "source": [
    "# Compile the graph\n",
    "\n",
    "graph = workflow.compile()\n",
    "\n",
    "graph"
   ]
  },
  {
   "cell_type": "code",
   "execution_count": 30,
   "id": "f08d54bb",
   "metadata": {},
   "outputs": [
    {
     "name": "stdout",
     "output_type": "stream",
     "text": [
      "{'Supervisor': {'next': 'Web_Searcher'}}\n",
      "----\n",
      "{'Web_Searcher': {'messages': [HumanMessage(content=\"Based on the processed content from various sources, here are the latest AI technology trends for 2024:\\n\\n1. **Customized Chatbots**: Companies like Google and OpenAI are developing platforms that allow people to customize powerful language models to create their own mini chatbots tailored to specific needs, without requiring coding skills. This democratization of AI tool creation is expected to make generative AI more accessible and useful for the regular, non-tech person.\\n\\n2. **Generative AI's Second Wave - Video**: Following the explosion of generative models for creating photorealistic images, the next frontier is text-to-video. Companies are rapidly improving the quality of generative video models, with applications ranging from movie production enhancements to marketing and training purposes. This trend is also raising questions about the impact on traditional filmmaking and the potential for misuse in creating deepfakes.\\n\\n3. **AI-Generated Election Disinformation**: With the ease of creating realistic AI-generated images, videos, and text, there's a growing concern about the spread of disinformation, especially around elections. The proliferation of deepfakes and AI-generated content is making it increasingly difficult to discern what is real online, posing significant challenges for democracy and public trust.\\n\\n4. **Multitasking Robots**: Inspired by the techniques behind generative AI, there's a move towards developing more general-purpose robots capable of performing a wider range of tasks. This trend is driven by advancements in multimodal models that can process and learn from diverse data types, enabling robots to be more versatile and efficient in both industrial and domestic settings.\\n\\n5. **Quantum AI**: Quantum computing is making strides and is expected to significantly enhance AI capabilities, especially in complex problem-solving areas. Both startups and established tech companies are investing in quantum AI research, anticipating breakthroughs that could revolutionize various sectors.\\n\\n6. **AI Legislation**: As AI technology advances, there's increasing attention from global policymakers on crafting comprehensive AI policies. The aim is to foster technological innovation while protecting citizens from potential negative impacts of AI, suggesting a move towards more regulated AI development and deployment.\\n\\n7. **Ethical AI**: The ethical considerations of AI deployment are becoming a central focus. There's a push for more transparency, fairness, and accountability in AI systems, with an emphasis on education and the establishment of rigorous standards to ensure ethical AI development and use.\\n\\n8. **Augmented Working**: AI is expected to augment human capabilities in various professions, enhancing productivity and creativity. From AI-assisted diagnostics in healthcare to AI-driven code suggestions in software development, AI is becoming an invaluable tool across different fields.\\n\\n9. **Next Generation of Generative AI**: The evolution of generative AI is moving towards multi-modal systems capable of integrating text, voice, images, and music. This advancement is expected to enable more complex and creative AI applications, blurring the lines between human and AI-generated content.\\n\\n10. **AI Adoption and Impact Statistics**: AI adoption is on the rise, with significant impacts on productivity, employment, and business operations. Despite concerns about job displacement and technology dependence, there's a strong belief in AI's potential to drive economic growth and innovation.\\n\\nThese trends highlight the ongoing evolution of AI technology, with a focus on making AI more accessible, versatile, and ethically responsible. The implications of these trends span across various sectors, raising both opportunities and challenges for society.\", name='Web_Searcher')]}}\n",
      "----\n",
      "{'Supervisor': {'next': 'Insight_Researcher'}}\n",
      "----\n",
      "{'Insight_Researcher': {'messages': [HumanMessage(content=\"### Insights for Each Topic\\n\\n#### 1. Customized Chatbots (2024)\\n- **Insight**: The trend towards user-friendly AI chatbot builders is growing, with platforms like Botsonic and GPT-4 leading the way. These tools are designed to enable businesses and individuals to create custom chatbots without needing coding skills, emphasizing customization and ease of use. This democratization of AI chatbot creation is expected to optimize both personal and business operations significantly.\\n- **Source**: [UsefulAI](https://usefulai.com/tools/ai-chatbot-builders), [Watermelon](https://watermelon.ai/blog/chatbot-builder/), [Forbes](https://www.forbes.com/advisor/business/software/best-chatbots/), [ZDNET](https://www.zdnet.com/article/best-ai-chatbot/), [ChatFAI Blog](https://chatfai.com/blog/best-ai-chatbots-2024/)\\n\\n#### 2. Generative AI's Second Wave - Video (2024)\\n- **Insight**: AI text-to-video generators like Runway and Genmo are revolutionizing content creation, offering tools that challenge traditional creative processes. These advancements are making it easier and more cost-effective to produce professional-looking video content, potentially transforming industries such as filmmaking, graphic design, and content creation for social media platforms like YouTube and TikTok.\\n- **Source**: [InVideo](https://invideo.io/blog/best-ai-video-generators/), [Forbes](https://www.forbes.com/sites/bernardmarr/2023/10/02/the-10-biggest-generative-ai-trends-for-2024-everyone-must-be-ready-for-now/), [MIT Technology Review](https://www.technologyreview.com/2024/03/28/1090252/whats-next-for-generative-video/), [Fritz.AI](https://fritz.ai/best-ai-video-generators/), [Unite.AI](https://www.unite.ai/best-ai-video-generators/)\\n\\n#### 3. AI-Generated Election Disinformation (2024)\\n- **Insight**: The ease of creating realistic AI-generated content is significantly enhancing the threat of election disinformation. This trend is making it increasingly easy for individuals to create fake but convincing content aimed at misleading voters, marking a quantum leap from previous capabilities and posing a significant challenge to democracy and public trust.\\n- **Source**: [The Verge](https://www.theverge.com/policy/24098798/2024-election-ai-generated-disinformation), [AP News](https://apnews.com/article/artificial-intelligence-elections-disinformation-chatgpt-bc283e7426402f0b4baa7df280a4c3fd), [TIME](https://time.com/6914961/ai-2024-election-disinformation/), [PBS](https://www.pbs.org/newshour/politics/ai-generated-disinformation-poses-threat-of-misleading-voters-in-2024-election), [The Guardian](https://www.theguardian.com/us-news/2023/jul/19/ai-generated-disinformation-us-elections)\\n\\n#### 4. Multitasking Robots (2024)\\n- **Insight**: The development of multitasking robots is being propelled by advancements in generative models and multimodal AI, aiming to create robots capable of performing a wider range of tasks. This trend towards more versatile robotics is expected to have significant implications across various sectors, including healthcare, where robots could perform minimally invasive procedures.\\n- **Source**: [AI Insight Media](https://www.aiinsightmedia.com/ai-evolution-trends-challenges-2024/), [LinkedIn](https://www.linkedin.com/pulse/multitasking-robots-developments-robotics-generative-ai-pavel-uncuta-rc0qe), [MIT News](https://news.mit.edu/2024/mit-engineers-design-flexible-skeletons-muscle-powered-robots-0408), [YouTube](https://www.youtube.com/watch?v=6P67DgD0Lbo), [Gatech News](https://news.gatech.edu/news/2024/04/03/good-dog-lassie-spirit-learns-walk-moon)\\n\\n#### 5. Quantum AI (2024)\\n- **Insight**: Quantum computing is poised to revolutionize AI by significantly enhancing its capabilities, especially in complex problem-solving. Organizations like Google Quantum AI and IBM are at the forefront of this research, aiming to develop quantum AI technologies that could transform various sectors by speeding up the training of large language models and other AI applications.\\n- **Source**: [Google Quantum AI](https://quantumai.google/apsmarch), [IBM](https://www\", name='Insight_Researcher')]}}\n",
      "----\n"
     ]
    },
    {
     "name": "stdout",
     "output_type": "stream",
     "text": [
      "{'Supervisor': {'next': 'FINISH'}}\n",
      "----\n"
     ]
    }
   ],
   "source": [
    "# Run the graph\n",
    "\n",
    "for s in graph.stream({\n",
    "    \"messages\": [HumanMessage(content=\"\"\"Search for the latest AI technology trends in 2024,\n",
    "            summarize the content. After summarise pass it on to insight researcher\n",
    "            to provide insights for each topic\"\"\")]\n",
    "}):\n",
    "    if \"__end__\" not in s:\n",
    "        print(s)\n",
    "        print(\"----\")"
   ]
  }
 ],
 "metadata": {
  "kernelspec": {
   "display_name": "langgraph",
   "language": "python",
   "name": "langgraph"
  },
  "language_info": {
   "codemirror_mode": {
    "name": "ipython",
    "version": 3
   },
   "file_extension": ".py",
   "mimetype": "text/x-python",
   "name": "python",
   "nbconvert_exporter": "python",
   "pygments_lexer": "ipython3",
   "version": "3.11.8"
  }
 },
 "nbformat": 4,
 "nbformat_minor": 5
}
