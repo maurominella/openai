{
 "cells": [
  {
   "cell_type": "markdown",
   "id": "7c0302cd-4476-496f-8717-b1919edff95f",
   "metadata": {},
   "source": [
    "# Load Variables"
   ]
  },
  {
   "cell_type": "code",
   "execution_count": 1,
   "id": "96bd0fe9-61f0-40b4-92aa-3c9445787d56",
   "metadata": {},
   "outputs": [],
   "source": [
    "# Set environment variables\n",
    "\n",
    "import os\n",
    "from dotenv import load_dotenv\n",
    "\n",
    "load_dotenv(\"./../credentials_my.env\")\n",
    "\n",
    "os.environ[\"AZURE_OPENAI_ENDPOINT\"] = os.environ[\"AZURE_OPENAI_ENDPOINT_SCUS\"]\n",
    "os.environ[\"AZURE_OPENAI_API_KEY\"]  = os.environ[\"AZURE_OPENAI_API_KEY_SCUS\"]\n",
    "os.environ[\"OPENAI_API_VERSION\"]    = os.environ[\"AZURE_OPENAI_API_VERSION\"]\n",
    "os.environ[\"AZURE_OPENAI_API_TYPE\"] = os.environ[\"OPENAI_API_TYPE\"]\n",
    "\n",
    "MODEL = os.environ[\"GPT4-0125PREVIEW-128k\"]\n",
    "\n",
    "# https://smith.langchain.com/\n",
    "os.environ[\"LANGCHAIN_TRACING_V2\"]  = \"false\"\n",
    "os.environ[\"LANGCHAIN_PROJECT\"]     = \"langgraph_03 Custom Agents\"\n",
    "os.environ[\"LANGCHAIN_API_KEY\"]     = os.environ[\"LANGCHAIN_API_KEY\"]\n",
    "\n",
    "question_basic                      = \"What's the date of Easter 2021?\"\n",
    "question_for_tools                  = \"My name is Mauro. What do I get, if I apply the magic tool to the number of characters of my name?\"\n",
    "question_follow_up                  = \"Is this result an even or odd number?\""
   ]
  },
  {
   "cell_type": "markdown",
   "id": "24d3f7f4-99b9-4265-9b15-c05488dc34cd",
   "metadata": {},
   "source": [
    "## Automate a [Tool Calling Agent](https://python.langchain.com/docs/modules/agents/agent_types/tool_calling/) creation\n",
    "Let's recall that this agent has the following three requirements:\n",
    "1) One or more functions, each one associated to a tool, all included in a `tools` list\n",
    "2) An LLM\n",
    "3) A ChatPromptTemplate that includes a `MessagesPlaceholder(\"agent_scratchpad\")`\n",
    "\n",
    "Now we create 1) and 2) which are common to every agent.<br/>\n",
    "For the implementation of 3), the only custom component is the system message so we create an helper function called `create_agent_executor()`"
   ]
  },
  {
   "cell_type": "markdown",
   "id": "5e438a19-f656-4935-8c2c-a77df47f9aff",
   "metadata": {},
   "source": [
    "### Automate a Tool Calling Agent creation --> Create the tools this agent has access to\n",
    "- Create one or more functions\n",
    "- Decorate each function as a tool\n",
    "- Create a list containing all tools defined"
   ]
  },
  {
   "cell_type": "code",
   "execution_count": 12,
   "id": "253936b3-6764-41c4-a912-2741d43bbdb9",
   "metadata": {},
   "outputs": [],
   "source": [
    "# Create some tools, then add them to the \"tools\" list\n",
    "\n",
    "from langchain.tools import tool\n",
    "@tool(\"internet_search_tool\", return_direct=False) # this is the name tracked in LangSmith\n",
    "def internet_search_function(query: str) -> str:\n",
    "    \"\"\"Searches the internet using DuckDuckGo.\"\"\"\n",
    "    from duckduckgo_search import DDGS\n",
    "    with DDGS() as ddgs:\n",
    "        results = [r for r in ddgs.text(query, max_results=5)]\n",
    "        return results if results else \"No results found.\"\n",
    "\n",
    "@tool(\"process_content_tool\", return_direct=False)\n",
    "def process_content_function(url: str) -> str:\n",
    "    \"\"\"Extracts the textual content from a webpage.\"\"\"\n",
    "    import requests\n",
    "    from bs4 import BeautifulSoup\n",
    "    \n",
    "    response = requests.get(url)\n",
    "    soup = BeautifulSoup(response.content, 'html.parser')\n",
    "    return soup.get_text()\n",
    "\n",
    "tools = [internet_search_function, process_content_function]\n",
    "\n",
    "\n",
    "first_url = internet_search_function(question_basic)[0]['href']\n",
    "content = process_content_function(first_url)\n",
    "\n",
    "# print(content) # just for testing"
   ]
  },
  {
   "cell_type": "markdown",
   "id": "b0d83e95-eb21-4c98-805b-f7ff1b65f686",
   "metadata": {},
   "source": [
    "### Automate a Tool Calling Agent creation --> Create the LLM"
   ]
  },
  {
   "cell_type": "code",
   "execution_count": 13,
   "id": "d152e040-59c4-41d2-b08e-e06c54febf9b",
   "metadata": {},
   "outputs": [],
   "source": [
    "# Create LLM object\n",
    "from langchain_openai import AzureChatOpenAI\n",
    "\n",
    "llm = AzureChatOpenAI(deployment_name=MODEL, temperature=0, max_tokens=1000)"
   ]
  },
  {
   "cell_type": "markdown",
   "id": "cc9aeee5-b3e0-4510-ba3b-8f4b548e8991",
   "metadata": {},
   "source": [
    "### Create the \"Tool Calling Agent\" --> Create the ChatPromptTemplate object through an helper function\n",
    "**Important**: `Tool Calling Agent` requires an additional variable called `agent_scratchpad`. Intermediate agent actions and tool output messages will be passed in here."
   ]
  },
  {
   "cell_type": "code",
   "execution_count": 14,
   "id": "8432f2b4-819a-42dc-9b3e-84273ba62d64",
   "metadata": {},
   "outputs": [],
   "source": [
    "# Helper function for creating agents\n",
    "def create_agent_executor(llm: AzureChatOpenAI, tools: list, system_prompt: str):\n",
    "    from langchain_core.prompts import ChatPromptTemplate, MessagesPlaceholder\n",
    "    from langchain.agents import AgentExecutor\n",
    "    from langchain.agents.openai_tools.base import create_openai_tools_agent\n",
    "    \n",
    "    prompt = ChatPromptTemplate.from_messages([\n",
    "        (\"system\", system_prompt),\n",
    "        MessagesPlaceholder(variable_name=\"messages\"),\n",
    "        MessagesPlaceholder(variable_name=\"agent_scratchpad\"),\n",
    "    ])\n",
    "    agent = create_openai_tools_agent(llm, tools, prompt)\n",
    "    agent_executor = AgentExecutor(agent=agent, tools=tools, verbose=True)\n",
    "    return agent_executor"
   ]
  },
  {
   "cell_type": "markdown",
   "id": "5fdc277f-6bb1-4770-b398-a4402be0fd98",
   "metadata": {},
   "source": [
    "## Create the **Search Agent Executor**"
   ]
  },
  {
   "cell_type": "code",
   "execution_count": 15,
   "id": "5ab92c3a-c44b-4bad-ba7f-c68afac31298",
   "metadata": {},
   "outputs": [
    {
     "data": {
      "text/plain": [
       "AgentExecutor(verbose=True, agent=RunnableMultiActionAgent(runnable=RunnableAssign(mapper={\n",
       "  agent_scratchpad: RunnableLambda(lambda x: format_to_openai_tool_messages(x['intermediate_steps']))\n",
       "})\n",
       "| ChatPromptTemplate(input_variables=['agent_scratchpad', 'messages'], input_types={'messages': typing.List[typing.Union[langchain_core.messages.ai.AIMessage, langchain_core.messages.human.HumanMessage, langchain_core.messages.chat.ChatMessage, langchain_core.messages.system.SystemMessage, langchain_core.messages.function.FunctionMessage, langchain_core.messages.tool.ToolMessage]], 'agent_scratchpad': typing.List[typing.Union[langchain_core.messages.ai.AIMessage, langchain_core.messages.human.HumanMessage, langchain_core.messages.chat.ChatMessage, langchain_core.messages.system.SystemMessage, langchain_core.messages.function.FunctionMessage, langchain_core.messages.tool.ToolMessage]]}, messages=[SystemMessagePromptTemplate(prompt=PromptTemplate(input_variables=[], template='You are a web searcher. Search the internet for information.')), MessagesPlaceholder(variable_name='messages'), MessagesPlaceholder(variable_name='agent_scratchpad')])\n",
       "| RunnableBinding(bound=AzureChatOpenAI(client=<openai.resources.chat.completions.Completions object at 0x7f2577665890>, async_client=<openai.resources.chat.completions.AsyncCompletions object at 0x7f2577792ad0>, temperature=0.0, openai_api_key=SecretStr('**********'), openai_proxy='', max_tokens=1000, azure_endpoint='https://mmopenaiscus.openai.azure.com/', deployment_name='gpt4-0125preview-128k', openai_api_version='2024-02-15-preview', openai_api_type='azure'), kwargs={'tools': [{'type': 'function', 'function': {'name': 'internet_search_tool', 'description': 'internet_search_tool(query: str) -> str - Searches the internet using DuckDuckGo.', 'parameters': {'type': 'object', 'properties': {'query': {'type': 'string'}}, 'required': ['query']}}}, {'type': 'function', 'function': {'name': 'process_content_tool', 'description': 'process_content_tool(url: str) -> str - Extracts the textual content from a webpage.', 'parameters': {'type': 'object', 'properties': {'url': {'type': 'string'}}, 'required': ['url']}}}]})\n",
       "| OpenAIToolsAgentOutputParser(), input_keys_arg=[], return_keys_arg=[], stream_runnable=True), tools=[StructuredTool(name='internet_search_tool', description='internet_search_tool(query: str) -> str - Searches the internet using DuckDuckGo.', args_schema=<class 'pydantic.v1.main.internet_search_toolSchema'>, func=<function internet_search_function at 0x7f257766e160>), StructuredTool(name='process_content_tool', description='process_content_tool(url: str) -> str - Extracts the textual content from a webpage.', args_schema=<class 'pydantic.v1.main.process_content_toolSchema'>, func=<function process_content_function at 0x7f257766c680>)])"
      ]
     },
     "execution_count": 15,
     "metadata": {},
     "output_type": "execute_result"
    }
   ],
   "source": [
    "search_agent_exec = create_agent_executor(\n",
    "    system_prompt=\"You are a web searcher. Search the internet for information.\",\n",
    "    llm=llm,\n",
    "    tools=tools)\n",
    "\n",
    "search_agent_exec"
   ]
  },
  {
   "cell_type": "code",
   "execution_count": 16,
   "id": "dde6978b-a68d-4274-bbcd-61df4959aae1",
   "metadata": {},
   "outputs": [
    {
     "name": "stdout",
     "output_type": "stream",
     "text": [
      "question_basic: Qual è il fiume salato della Lombardia?\n",
      "\n",
      "\n",
      "\u001b[1m> Entering new AgentExecutor chain...\u001b[0m\n",
      "\u001b[32;1m\u001b[1;3m\n",
      "Invoking: `internet_search_tool` with `{'query': 'fiume salato Lombardia'}`\n",
      "\n",
      "\n",
      "\u001b[0m\u001b[36;1m\u001b[1;3m[{'title': 'Palazzo Lombardia • Salvatore Fiume', 'href': 'https://www.fiume.org/en/project/palazzo-lombardia-2/', 'body': 'Thirteen large works by Salvatore Fiume donated to the Lombardy Region by his children Laura and Luciano, are on permanent display in the Spazio Fiume on the first floor of the new Lombardy Region Headquarters. The museum space was inaugurated on the 23 rd of October 2012, on the day when Salvatore Fiume would have turned 97. On the same night an exhibition at Palazzo Pirelli, the early ...'}, {'title': 'I fiumi lombardi', 'href': 'https://www.regione.lombardia.it/wps/portal/istituzionale/HP/DettaglioRedazionale/scopri-la-lombardia/natura/fiumi-e-vie-d-acqua/fiumi/fiumi', 'body': \"La Lombardia è la prima regione italiana per estensione fluviale.Il grande collettore dei flussi d'acqua che l'attraversano, formando i laghi prealpini, è il fiume Po, la più lunga idrovia italiana, che per circa 260 chilometri segna il confine meridionale della regione, solcando il territorio delle province pavese e mantovana. TICINO - Il primo e più importante affluente del Po è il ...\"}, {'title': '11 piatti tipici lombardi: la cucina della Lombardia da provare - Dissapore', 'href': 'https://www.dissapore.com/cucina/11-piatti-tipici-lombardi-la-cucina-della-lombardia-da-provare/', 'body': \"Rane fritte (Pavia) Sa di pollo. Anticipiamo la domanda inevitabile a proposito di questo piatto che è diffuso in tutta la Lombardia, ma a Pavia riesce particolarmente bene. La rana è un anfibio, e forse proprio per questa sua dualità siamo un po' diffidenti verso la sua natura solo all'apparenza viscida e umidiccia.\"}, {'title': 'I principali fiumi della Lombardia: scopri quali sono', 'href': 'https://www.neuralword.com/it/article/i-principali-fiumi-della-lombardia-scopri-quali-sono', 'body': 'La regione Lombardia, situata nel nord Italia, è famosa per le sue città affascinanti, le sue montagne ma anche per i suoi fiumi che la attraversano. In questo articolo, ti presenteremo i principali fiumi della Lombardia: scopri quali sono e quali caratteristiche li rendono così importanti per la regione.'}, {'title': 'BIOGRAPHY • Salvatore Fiume', 'href': 'https://www.fiume.org/en/biography/', 'body': 'BIOGRAPHY. Born in Comiso, Sicily, on the 23rd of October, 1915 Salvatore Fiume was a painter, sculptor, architect, writer, and stage designer. At age sixteen he won a scholarship for the Royal Institute for the Book Illustration in Urbino, where he acquired a deep knowledge of printing techniques such as lithography, serigraphy, etching, and ...'}]\u001b[0m\u001b[32;1m\u001b[1;3mNon sono riuscito a trovare informazioni specifiche su un fiume salato in Lombardia nei risultati forniti. Potrebbe essere utile cercare ulteriori dettagli o verificare se esiste effettivamente un fiume con queste caratteristiche in Lombardia.\u001b[0m\n",
      "\n",
      "\u001b[1m> Finished chain.\u001b[0m\n"
     ]
    },
    {
     "data": {
      "text/plain": [
       "{'messages': [('human', 'Qual è il fiume salato della Lombardia?')],\n",
       " 'output': 'Non sono riuscito a trovare informazioni specifiche su un fiume salato in Lombardia nei risultati forniti. Potrebbe essere utile cercare ulteriori dettagli o verificare se esiste effettivamente un fiume con queste caratteristiche in Lombardia.'}"
      ]
     },
     "execution_count": 16,
     "metadata": {},
     "output_type": "execute_result"
    }
   ],
   "source": [
    "# question_basic = \"Qual è il fiume salato della Lombardia?\"\n",
    "print(f\"question_basic: {question_basic}\")\n",
    "search_agent_exec.invoke({\"messages\": [(\"human\", question_basic)]})"
   ]
  },
  {
   "cell_type": "code",
   "execution_count": 17,
   "id": "2de220a8-7f02-425b-845a-0f7f93c46e1e",
   "metadata": {},
   "outputs": [
    {
     "name": "stdout",
     "output_type": "stream",
     "text": [
      "question_basic: Qual è il fiume salato della Lombardia?\n",
      "\n",
      "\n",
      "\u001b[1m> Entering new AgentExecutor chain...\u001b[0m\n",
      "\u001b[32;1m\u001b[1;3m\n",
      "Invoking: `internet_search_tool` with `{'query': 'fiume salato Lombardia'}`\n",
      "\n",
      "\n",
      "\u001b[0m\u001b[36;1m\u001b[1;3m[{'title': 'Palazzo Lombardia • Salvatore Fiume', 'href': 'https://www.fiume.org/project/palazzo-lombardia/', 'body': 'PALAZZO LOMBARDIA · MILANO. Tredici sono le opere di Salvatore Fiume donate alla Regione Lombardia dai figli Laura e Luciano esposte permanentemente nello Spazio Fiume, al primo piano del nuovo Palazzo Lombardia. Lo spazio museale situato nel Foyer della Sala Marco Biagi è stato inaugurato il 23 ottobre 2012, giorno in cui Salvatore Fiume ...'}, {'title': 'Palazzo Lombardia • Salvatore Fiume', 'href': 'https://www.fiume.org/en/project/palazzo-lombardia-2/', 'body': 'Thirteen large works by Salvatore Fiume donated to the Lombardy Region by his children Laura and Luciano, are on permanent display in the Spazio Fiume on the first floor of the new Lombardy Region Headquarters. The museum space was inaugurated on the 23 rd of October 2012, on the day when Salvatore Fiume would have turned 97. On the same night an exhibition at Palazzo Pirelli, the early ...'}, {'title': '11 piatti tipici lombardi: la cucina della Lombardia da provare - Dissapore', 'href': 'https://www.dissapore.com/cucina/11-piatti-tipici-lombardi-la-cucina-della-lombardia-da-provare/', 'body': \"Rane fritte (Pavia) Sa di pollo. Anticipiamo la domanda inevitabile a proposito di questo piatto che è diffuso in tutta la Lombardia, ma a Pavia riesce particolarmente bene. La rana è un anfibio, e forse proprio per questa sua dualità siamo un po' diffidenti verso la sua natura solo all'apparenza viscida e umidiccia.\"}, {'title': 'BIOGRAPHY • Salvatore Fiume', 'href': 'https://www.fiume.org/en/biography/', 'body': 'BIOGRAPHY. Born in Comiso, Sicily, on the 23rd of October, 1915 Salvatore Fiume was a painter, sculptor, architect, writer, and stage designer. At age sixteen he won a scholarship for the Royal Institute for the Book Illustration in Urbino, where he acquired a deep knowledge of printing techniques such as lithography, serigraphy, etching, and ...'}, {'title': 'I fiumi lombardi', 'href': 'https://www.regione.lombardia.it/wps/portal/istituzionale/HP/DettaglioRedazionale/scopri-la-lombardia/natura/fiumi-e-vie-d-acqua/fiumi/fiumi', 'body': \"La Lombardia è la prima regione italiana per estensione fluviale.Il grande collettore dei flussi d'acqua che l'attraversano, formando i laghi prealpini, è il fiume Po, la più lunga idrovia italiana, che per circa 260 chilometri segna il confine meridionale della regione, solcando il territorio delle province pavese e mantovana. TICINO - Il primo e più importante affluente del Po è il ...\"}]\u001b[0m\u001b[32;1m\u001b[1;3mNon sono riuscito a trovare informazioni specifiche su un fiume salato in Lombardia nei risultati forniti. Potrebbe essere che la domanda si riferisca a un aspetto meno noto o specifico che non è facilmente rintracciabile con una ricerca generica. Se hai ulteriori dettagli o un contesto più specifico, potrei cercare di aiutarti meglio.\u001b[0m\n",
      "\n",
      "\u001b[1m> Finished chain.\u001b[0m\n"
     ]
    },
    {
     "data": {
      "text/plain": [
       "[{'actions': [OpenAIToolAgentAction(tool='internet_search_tool', tool_input={'query': 'fiume salato Lombardia'}, log=\"\\nInvoking: `internet_search_tool` with `{'query': 'fiume salato Lombardia'}`\\n\\n\\n\", message_log=[AIMessageChunk(content='', additional_kwargs={'tool_calls': [{'index': 0, 'id': 'call_OMc2cZ7Ose9ZH2Ot0R9bTBnK', 'function': {'arguments': '{\"query\":\"fiume salato Lombardia\"}', 'name': 'internet_search_tool'}, 'type': 'function'}]}, response_metadata={'finish_reason': 'tool_calls'}, id='run-cf1ee91c-fd4a-4356-9868-b44c26d0f43a')], tool_call_id='call_OMc2cZ7Ose9ZH2Ot0R9bTBnK')],\n",
       "  'messages': [AIMessageChunk(content='', additional_kwargs={'tool_calls': [{'index': 0, 'id': 'call_OMc2cZ7Ose9ZH2Ot0R9bTBnK', 'function': {'arguments': '{\"query\":\"fiume salato Lombardia\"}', 'name': 'internet_search_tool'}, 'type': 'function'}]}, response_metadata={'finish_reason': 'tool_calls'}, id='run-cf1ee91c-fd4a-4356-9868-b44c26d0f43a')]},\n",
       " {'steps': [AgentStep(action=OpenAIToolAgentAction(tool='internet_search_tool', tool_input={'query': 'fiume salato Lombardia'}, log=\"\\nInvoking: `internet_search_tool` with `{'query': 'fiume salato Lombardia'}`\\n\\n\\n\", message_log=[AIMessageChunk(content='', additional_kwargs={'tool_calls': [{'index': 0, 'id': 'call_OMc2cZ7Ose9ZH2Ot0R9bTBnK', 'function': {'arguments': '{\"query\":\"fiume salato Lombardia\"}', 'name': 'internet_search_tool'}, 'type': 'function'}]}, response_metadata={'finish_reason': 'tool_calls'}, id='run-cf1ee91c-fd4a-4356-9868-b44c26d0f43a')], tool_call_id='call_OMc2cZ7Ose9ZH2Ot0R9bTBnK'), observation=[{'title': 'Palazzo Lombardia • Salvatore Fiume', 'href': 'https://www.fiume.org/project/palazzo-lombardia/', 'body': 'PALAZZO LOMBARDIA · MILANO. Tredici sono le opere di Salvatore Fiume donate alla Regione Lombardia dai figli Laura e Luciano esposte permanentemente nello Spazio Fiume, al primo piano del nuovo Palazzo Lombardia. Lo spazio museale situato nel Foyer della Sala Marco Biagi è stato inaugurato il 23 ottobre 2012, giorno in cui Salvatore Fiume ...'}, {'title': 'Palazzo Lombardia • Salvatore Fiume', 'href': 'https://www.fiume.org/en/project/palazzo-lombardia-2/', 'body': 'Thirteen large works by Salvatore Fiume donated to the Lombardy Region by his children Laura and Luciano, are on permanent display in the Spazio Fiume on the first floor of the new Lombardy Region Headquarters. The museum space was inaugurated on the 23 rd of October 2012, on the day when Salvatore Fiume would have turned 97. On the same night an exhibition at Palazzo Pirelli, the early ...'}, {'title': '11 piatti tipici lombardi: la cucina della Lombardia da provare - Dissapore', 'href': 'https://www.dissapore.com/cucina/11-piatti-tipici-lombardi-la-cucina-della-lombardia-da-provare/', 'body': \"Rane fritte (Pavia) Sa di pollo. Anticipiamo la domanda inevitabile a proposito di questo piatto che è diffuso in tutta la Lombardia, ma a Pavia riesce particolarmente bene. La rana è un anfibio, e forse proprio per questa sua dualità siamo un po' diffidenti verso la sua natura solo all'apparenza viscida e umidiccia.\"}, {'title': 'BIOGRAPHY • Salvatore Fiume', 'href': 'https://www.fiume.org/en/biography/', 'body': 'BIOGRAPHY. Born in Comiso, Sicily, on the 23rd of October, 1915 Salvatore Fiume was a painter, sculptor, architect, writer, and stage designer. At age sixteen he won a scholarship for the Royal Institute for the Book Illustration in Urbino, where he acquired a deep knowledge of printing techniques such as lithography, serigraphy, etching, and ...'}, {'title': 'I fiumi lombardi', 'href': 'https://www.regione.lombardia.it/wps/portal/istituzionale/HP/DettaglioRedazionale/scopri-la-lombardia/natura/fiumi-e-vie-d-acqua/fiumi/fiumi', 'body': \"La Lombardia è la prima regione italiana per estensione fluviale.Il grande collettore dei flussi d'acqua che l'attraversano, formando i laghi prealpini, è il fiume Po, la più lunga idrovia italiana, che per circa 260 chilometri segna il confine meridionale della regione, solcando il territorio delle province pavese e mantovana. TICINO - Il primo e più importante affluente del Po è il ...\"}])],\n",
       "  'messages': [FunctionMessage(content='[{\"title\": \"Palazzo Lombardia • Salvatore Fiume\", \"href\": \"https://www.fiume.org/project/palazzo-lombardia/\", \"body\": \"PALAZZO LOMBARDIA · MILANO. Tredici sono le opere di Salvatore Fiume donate alla Regione Lombardia dai figli Laura e Luciano esposte permanentemente nello Spazio Fiume, al primo piano del nuovo Palazzo Lombardia. Lo spazio museale situato nel Foyer della Sala Marco Biagi è stato inaugurato il 23 ottobre 2012, giorno in cui Salvatore Fiume ...\"}, {\"title\": \"Palazzo Lombardia • Salvatore Fiume\", \"href\": \"https://www.fiume.org/en/project/palazzo-lombardia-2/\", \"body\": \"Thirteen large works by Salvatore Fiume donated to the Lombardy Region by his children Laura and Luciano, are on permanent display in the Spazio Fiume on the first floor of the new Lombardy Region Headquarters. The museum space was inaugurated on the 23 rd of October 2012, on the day when Salvatore Fiume would have turned 97. On the same night an exhibition at Palazzo Pirelli, the early ...\"}, {\"title\": \"11 piatti tipici lombardi: la cucina della Lombardia da provare - Dissapore\", \"href\": \"https://www.dissapore.com/cucina/11-piatti-tipici-lombardi-la-cucina-della-lombardia-da-provare/\", \"body\": \"Rane fritte (Pavia) Sa di pollo. Anticipiamo la domanda inevitabile a proposito di questo piatto che è diffuso in tutta la Lombardia, ma a Pavia riesce particolarmente bene. La rana è un anfibio, e forse proprio per questa sua dualità siamo un po\\' diffidenti verso la sua natura solo all\\'apparenza viscida e umidiccia.\"}, {\"title\": \"BIOGRAPHY • Salvatore Fiume\", \"href\": \"https://www.fiume.org/en/biography/\", \"body\": \"BIOGRAPHY. Born in Comiso, Sicily, on the 23rd of October, 1915 Salvatore Fiume was a painter, sculptor, architect, writer, and stage designer. At age sixteen he won a scholarship for the Royal Institute for the Book Illustration in Urbino, where he acquired a deep knowledge of printing techniques such as lithography, serigraphy, etching, and ...\"}, {\"title\": \"I fiumi lombardi\", \"href\": \"https://www.regione.lombardia.it/wps/portal/istituzionale/HP/DettaglioRedazionale/scopri-la-lombardia/natura/fiumi-e-vie-d-acqua/fiumi/fiumi\", \"body\": \"La Lombardia è la prima regione italiana per estensione fluviale.Il grande collettore dei flussi d\\'acqua che l\\'attraversano, formando i laghi prealpini, è il fiume Po, la più lunga idrovia italiana, che per circa 260 chilometri segna il confine meridionale della regione, solcando il territorio delle province pavese e mantovana. TICINO - Il primo e più importante affluente del Po è il ...\"}]', name='internet_search_tool')]},\n",
       " {'output': 'Non sono riuscito a trovare informazioni specifiche su un fiume salato in Lombardia nei risultati forniti. Potrebbe essere che la domanda si riferisca a un aspetto meno noto o specifico che non è facilmente rintracciabile con una ricerca generica. Se hai ulteriori dettagli o un contesto più specifico, potrei cercare di aiutarti meglio.',\n",
       "  'messages': [AIMessage(content='Non sono riuscito a trovare informazioni specifiche su un fiume salato in Lombardia nei risultati forniti. Potrebbe essere che la domanda si riferisca a un aspetto meno noto o specifico che non è facilmente rintracciabile con una ricerca generica. Se hai ulteriori dettagli o un contesto più specifico, potrei cercare di aiutarti meglio.')]}]"
      ]
     },
     "execution_count": 17,
     "metadata": {},
     "output_type": "execute_result"
    }
   ],
   "source": [
    "print(f\"question_basic: {question_basic}\")\n",
    "list(search_agent_exec.stream({\"messages\": [(\"human\", question_basic)]}))"
   ]
  },
  {
   "cell_type": "markdown",
   "id": "4acb8b67-ef33-42d4-a4a6-e95dc6b52694",
   "metadata": {},
   "source": [
    "## Create the **Insights Research Agent Executor**"
   ]
  },
  {
   "cell_type": "code",
   "execution_count": 8,
   "id": "4367243d-ffb1-4b99-8b57-bd32985f2453",
   "metadata": {},
   "outputs": [
    {
     "data": {
      "text/plain": [
       "AgentExecutor(verbose=True, agent=RunnableMultiActionAgent(runnable=RunnableAssign(mapper={\n",
       "  agent_scratchpad: RunnableLambda(lambda x: format_to_openai_tool_messages(x['intermediate_steps']))\n",
       "})\n",
       "| ChatPromptTemplate(input_variables=['agent_scratchpad', 'messages'], input_types={'messages': typing.List[typing.Union[langchain_core.messages.ai.AIMessage, langchain_core.messages.human.HumanMessage, langchain_core.messages.chat.ChatMessage, langchain_core.messages.system.SystemMessage, langchain_core.messages.function.FunctionMessage, langchain_core.messages.tool.ToolMessage]], 'agent_scratchpad': typing.List[typing.Union[langchain_core.messages.ai.AIMessage, langchain_core.messages.human.HumanMessage, langchain_core.messages.chat.ChatMessage, langchain_core.messages.system.SystemMessage, langchain_core.messages.function.FunctionMessage, langchain_core.messages.tool.ToolMessage]]}, messages=[SystemMessagePromptTemplate(prompt=PromptTemplate(input_variables=[], template='You are a Insight Researcher. Do step by step. \\n        Based on the provided content first identify the list of topics,\\n        then search internet for each topic one by one\\n        and finally find insights for each topic one by one.\\n        Include the insights and sources in the final response')), MessagesPlaceholder(variable_name='messages'), MessagesPlaceholder(variable_name='agent_scratchpad')])\n",
       "| RunnableBinding(bound=AzureChatOpenAI(client=<openai.resources.chat.completions.Completions object at 0x7f257ce96d90>, async_client=<openai.resources.chat.completions.AsyncCompletions object at 0x7f257e294150>, temperature=0.0, openai_api_key=SecretStr('**********'), openai_proxy='', max_tokens=1000, azure_endpoint='https://mmopenaiscus.openai.azure.com/', deployment_name='gpt4-0125preview-128k', openai_api_version='2024-02-15-preview', openai_api_type='azure'), kwargs={'tools': [{'type': 'function', 'function': {'name': 'internet_search_tool', 'description': 'internet_search_tool(query: str) -> str - Searches the internet using DuckDuckGo.', 'parameters': {'type': 'object', 'properties': {'query': {'type': 'string'}}, 'required': ['query']}}}, {'type': 'function', 'function': {'name': 'process_content_tool', 'description': 'process_content_tool(url: str) -> str - Processes content from a webpage.', 'parameters': {'type': 'object', 'properties': {'url': {'type': 'string'}}, 'required': ['url']}}}]})\n",
       "| OpenAIToolsAgentOutputParser(), input_keys_arg=[], return_keys_arg=[], stream_runnable=True), tools=[StructuredTool(name='internet_search_tool', description='internet_search_tool(query: str) -> str - Searches the internet using DuckDuckGo.', args_schema=<class 'pydantic.v1.main.internet_search_toolSchema'>, func=<function internet_search_function at 0x7f25d4680d60>), StructuredTool(name='process_content_tool', description='process_content_tool(url: str) -> str - Processes content from a webpage.', args_schema=<class 'pydantic.v1.main.process_content_toolSchema'>, func=<function process_content_function at 0x7f25d4680e00>)])"
      ]
     },
     "execution_count": 8,
     "metadata": {},
     "output_type": "execute_result"
    }
   ],
   "source": [
    "insights_research_agent_exec = create_agent_executor(\n",
    "    system_prompt = \"\"\"You are a Insight Researcher. Do step by step. \n",
    "        Based on the provided content first identify the list of topics,\n",
    "        then search internet for each topic one by one\n",
    "        and finally find insights for each topic one by one.\n",
    "        Include the insights and sources in the final response\"\"\",\n",
    "    llm = llm,\n",
    "    tools = tools)\n",
    "\n",
    "insights_research_agent_exec"
   ]
  },
  {
   "cell_type": "markdown",
   "id": "80387b20-986d-49e8-8093-0b2b8dd7d8f9",
   "metadata": {},
   "source": [
    "# NODES"
   ]
  },
  {
   "cell_type": "markdown",
   "id": "5907318a-a7e5-413b-853f-124e1fd3a8be",
   "metadata": {},
   "source": [
    "## Helper function to build a node"
   ]
  },
  {
   "cell_type": "code",
   "execution_count": null,
   "id": "bfc60b95-8456-4a92-974f-b43061dc108e",
   "metadata": {},
   "outputs": [],
   "source": [
    "# This function facilitates creating nodes in the graph:\n",
    "# it takes care of invoking the agent executor and then converts its response to a human message. \n",
    "# That is how we will add it the global state of the graph\n",
    "\n",
    "def agent_node(state, agent_executor, node_name):\n",
    "    from langchain_core.messages import HumanMessage\n",
    "    result = agent_executor.invoke(state)\n",
    "    return {\"messages\": [HumanMessage(content=result[\"output\"], name=node_name)]}"
   ]
  },
  {
   "cell_type": "markdown",
   "id": "27c370c5-e837-4358-bb21-66247af8a785",
   "metadata": {},
   "source": [
    "## Node creation function for the \"Web_Searcher\" agent"
   ]
  },
  {
   "cell_type": "code",
   "execution_count": null,
   "id": "36987881-dec9-4c89-a54b-19dac7065106",
   "metadata": {},
   "outputs": [],
   "source": [
    "# create the search node create function, starting from the search agent executor\n",
    "\n",
    "import functools\n",
    "\n",
    "search_node_create_function = functools.partial(agent_node, agent_executor=search_agent_exec, node_name=\"Web_Searcher\")"
   ]
  },
  {
   "cell_type": "code",
   "execution_count": null,
   "id": "3e0dace8-4dcf-48f2-8073-a4e3a6b92b4b",
   "metadata": {},
   "outputs": [],
   "source": [
    "search_node_create_function(state={\"messages\": [(\"human\", \"What's the weather like in LA?\")]})"
   ]
  },
  {
   "cell_type": "markdown",
   "id": "709844d3-57f7-4ba0-92c5-3aca3160c5d9",
   "metadata": {},
   "source": [
    "## Node creation function for the \"Insights_Researcher\" agent"
   ]
  },
  {
   "cell_type": "code",
   "execution_count": null,
   "id": "3d71bec2-b99a-4889-971d-7ad1e20f9aea",
   "metadata": {},
   "outputs": [],
   "source": [
    "# create the search node create function, starting from the search agent executor\n",
    "\n",
    "import functools\n",
    "\n",
    "researcher_node_create_function = functools.partial(agent_node, agent_executor=insights_research_agent_exec, node_name=\"Insights_Researcher\")"
   ]
  },
  {
   "cell_type": "markdown",
   "id": "df5705d4-a4e3-4d9c-86b1-eb15a80d5b40",
   "metadata": {},
   "source": [
    "## Create the Supervisor Agent as a Custom Agent for Tools"
   ]
  },
  {
   "cell_type": "markdown",
   "id": "9b0d1479-ef95-44c0-8f30-9743b225afe9",
   "metadata": {},
   "source": [
    "### Build Tools"
   ]
  },
  {
   "cell_type": "code",
   "execution_count": null,
   "id": "40aef4b2-fdd6-497e-8c0f-5bf9230832a0",
   "metadata": {},
   "outputs": [],
   "source": [
    "# given the two nodes...\n",
    "members = [\"Web_Searcher\", \"Insights_Researcher\"]\n",
    "\n",
    "# ...the potential actions identified by the supervisor include \"FINISH\"\n",
    "options = [\"FINISH\"] + members\n",
    "\n",
    "print(f\"members: {members},\\noptions: {options}\")"
   ]
  },
  {
   "cell_type": "code",
   "execution_count": null,
   "id": "39a2634f-5838-401b-a4e6-44bf8d6166c5",
   "metadata": {},
   "outputs": [],
   "source": [
    "# Using openai function calling can make output parsing easier for us\n",
    "\n",
    "function_def = {\n",
    "    \"name\": \"route\",\n",
    "    \"description\": \"Select the next role.\",\n",
    "    \"parameters\": {\n",
    "        \"title\": \"routeSchema\",\n",
    "        \"type\": \"object\",\n",
    "        \"properties\": {\n",
    "            \"next\": {\n",
    "                \"title\": \"Next\",\n",
    "                \"anyOf\": [\n",
    "                    {\"enum\": options},\n",
    "                ],\n",
    "            }\n",
    "        },\n",
    "        \"required\": [\"next\"],\n",
    "    },\n",
    "}\n",
    "\n",
    "tools = [function_def]\n",
    "\n",
    "tools"
   ]
  },
  {
   "cell_type": "markdown",
   "id": "3374d674-affb-421f-a005-ca9ab5fefdb4",
   "metadata": {},
   "source": [
    "### LLM \"bound\" to the tools above"
   ]
  },
  {
   "cell_type": "code",
   "execution_count": null,
   "id": "252e4a9f-78c0-4de3-b635-8dd5a2ef154c",
   "metadata": {},
   "outputs": [],
   "source": [
    "# To pass in our tools to the agent, we just need to format them to the OpenAI tool format and pass them to our model. \n",
    "# By bind-ing the functions, we’re making sure that they’re passed in each time the model is invoked.\n",
    "\n",
    "# llm_bound_to_tools = llm.bind_tools(tools=tools, tool_choice=\"route\")\n",
    "llm_bound_to_tools = llm.bind_functions(functions=tools, function_call=\"route\")\n",
    "llm_bound_to_tools"
   ]
  },
  {
   "cell_type": "markdown",
   "id": "242e0bee-b58e-4318-902c-73cd4fda0b86",
   "metadata": {},
   "source": [
    "### cpt_supervisor creation\n",
    "\n",
    "This ChatPromptTemplate called `cpt_supervisor` would actually take three input variables: `members`, `messages` and `options`.<br/>\n",
    "However, by using the `partial` function, we hard-code two variables (`members` and `options`), so that only `messages` is expected when invoking this template.<br/>\n",
    "The `partial()` method in this case is used to create a version of the template with some variables pre-filled, which reduces the number of variables that need to be provided when the template is used later.<br/>\n",
    "This effectively means that `members` and `options` do not need to be provided as input variables when using the second object, as they are already included as part of the template. More specifically, they are automatically passed with these values (both string types):\n",
    "- `members` --> \"'Web_Searcher', 'Insights_Researcher'\"\n",
    "- `options` --> \"'FINISH', 'Web_Searcher', 'Insights_Researcher'\""
   ]
  },
  {
   "cell_type": "code",
   "execution_count": null,
   "id": "32dca884-b659-4e58-81bc-b9c2fc1d98be",
   "metadata": {},
   "outputs": [],
   "source": [
    "from langchain_core.prompts import ChatPromptTemplate, MessagesPlaceholder\n",
    "\n",
    "system_prompt_supervisor = (\n",
    "    \"You are a supervisor tasked with managing a conversation between the\"\n",
    "    \" following workers: {members}. Given the following user request,\"\n",
    "    \" respond with the worker to act next. Each worker will perform a\"\n",
    "    \" task and respond with their results and status. When finished,\"\n",
    "    \" respond with FINISH.\")\n",
    "\n",
    "mp1 = MessagesPlaceholder(variable_name=\"messages\")\n",
    "\n",
    "mp2 = (\n",
    "    \"user\",\n",
    "    \"Given the conversation above, who should act next?\"\n",
    "    \" Or should we FINISH? Select one of: {options}\")\n",
    "\n",
    "cpt_supervisor = ChatPromptTemplate.from_messages(\n",
    "    [\n",
    "        (\"system\", system_prompt_supervisor),\n",
    "        mp1,\n",
    "        mp2\n",
    "    ]\n",
    ").partial(options=str(options), members=\", \".join(members))\n",
    "\n",
    "cpt_supervisor"
   ]
  },
  {
   "cell_type": "code",
   "execution_count": null,
   "id": "d435fe5f-c429-4e18-9ba9-46070c21c7dc",
   "metadata": {},
   "outputs": [],
   "source": [
    "# This is just to demonstrate that cpt_supervisor may be called just passing the \"messages\" variable\n",
    "\n",
    "cpt_supervisor.invoke ({\"messages\": [(\"human\", \"Hi, I'm looking for this evening TV programs\")]})"
   ]
  },
  {
   "cell_type": "markdown",
   "id": "a6136de1-3d5a-424e-bee5-3dcb8ba610f2",
   "metadata": {},
   "source": [
    "## Create the **supervisor** agent leveraging the objects collected above"
   ]
  },
  {
   "cell_type": "code",
   "execution_count": null,
   "id": "1742c964-551c-40b7-971c-3246e9b74b23",
   "metadata": {},
   "outputs": [],
   "source": [
    "# We're ready to put together the three elements needed to create the node as a pipeline:\n",
    "# - ChatPromptTemplate\n",
    "# - RunnableBinding\n",
    "# - OpenAIToolsAgentOutputParser\n",
    "from langchain.agents.output_parsers.openai_tools import OpenAIToolsAgentOutputParser\n",
    "from langchain.output_parsers.openai_functions import JsonOutputFunctionsParser\n",
    "\n",
    "supervisor_agent = (\n",
    "    cpt_supervisor\n",
    "    | llm_bound_to_tools\n",
    "    # | OpenAIToolsAgentOutputParser()\n",
    "    | JsonOutputFunctionsParser()\n",
    ")\n",
    "\n",
    "supervisor_agent"
   ]
  },
  {
   "cell_type": "code",
   "execution_count": null,
   "id": "684b1dc3-1256-43aa-87af-26811ff26c6a",
   "metadata": {},
   "outputs": [],
   "source": [
    "tools"
   ]
  },
  {
   "cell_type": "code",
   "execution_count": null,
   "id": "2c3f002d-d769-4090-a252-fa8c136bb425",
   "metadata": {},
   "outputs": [],
   "source": [
    "# supervisor_agent.invoke ({\"messages\": [(\"human\", \"Hi, I'm looking for this evening TV programs\")]})\n",
    "list(supervisor_agent.stream ({\"messages\": [(\"human\", \"Hi, I'm looking for this evening TV programs\")]}))"
   ]
  },
  {
   "cell_type": "code",
   "execution_count": null,
   "id": "d089d113-a047-42a3-b1ff-cd3fc46f2c7b",
   "metadata": {},
   "outputs": [],
   "source": [
    "supervisor_agent.invoke ({\"messages\": [(\"human\", \"Hi, I need to think about how to write my next book\")]})"
   ]
  },
  {
   "cell_type": "code",
   "execution_count": null,
   "id": "5ed7633e-bea1-44b5-9be7-255da7f033b1",
   "metadata": {},
   "outputs": [],
   "source": [
    "supervisor_agent.invoke ({\"messages\": [(\"human\", \"Hi, I'm done\")]})"
   ]
  },
  {
   "cell_type": "code",
   "execution_count": null,
   "id": "fe51f5f8-0132-406b-bf0e-8e386de090b9",
   "metadata": {},
   "outputs": [],
   "source": [
    "# supervisor_agent.invoke ({\"messages\": [(\"human\", \"Hi, I need look for the TV programs of tonight\")]})\n",
    "#list(supervisor_agent.stream ({\"messages\": [(\"human\", \"Hi, I need look for the TV programs of tonight\")]}))\n",
    "\n",
    "from langchain.agents import AgentExecutor\n",
    "supervisor_agent_executor = AgentExecutor(agent=supervisor_agent, tools=tools, verbose=True)\n",
    "\n",
    "list(supervisor_agent_executor.stream({\"input\": {\"messages\": [(\"human\", \"Hi, I need look for the TV programs of tonight\")]}}))"
   ]
  },
  {
   "cell_type": "markdown",
   "id": "6b7ed518-17fb-4de1-8266-92cd3f147282",
   "metadata": {},
   "source": [
    "# GRAPH!\n",
    "\n",
    "Now that we have Tools, Agents and Nodes we are ready to build the graph"
   ]
  },
  {
   "cell_type": "code",
   "execution_count": null,
   "id": "38e94ef7-7cab-41f3-9fb9-73e27012c3c4",
   "metadata": {},
   "outputs": [],
   "source": [
    "# First, we need to define the \"AgentState\", which represents the conversation history\n",
    "from langchain_core.messages import BaseMessage\n",
    "from typing import Annotated, Any, Dict, List, Optional, Sequence, TypedDict\n",
    "import operator\n",
    "\n",
    "class AgentState(TypedDict):    \n",
    "    messages: Annotated[Sequence[BaseMessage], operator.add]\n",
    "    next: str"
   ]
  },
  {
   "cell_type": "code",
   "execution_count": null,
   "id": "eedb14ef-b6fd-4a03-813f-cbb6bb49503b",
   "metadata": {},
   "outputs": [],
   "source": [
    "# Then, we create the graph using from langgraph.graph import StateGraph\n",
    "from langgraph.graph import StateGraph\n",
    "\n",
    "workflow = StateGraph(AgentState)"
   ]
  },
  {
   "cell_type": "code",
   "execution_count": null,
   "id": "4d14ec12-e915-479a-a88b-f13a6ce50741",
   "metadata": {},
   "outputs": [],
   "source": [
    "# To start building the workflow, we add the three nodes\n",
    "\n",
    "workflow.add_node(\"Web_Searcher\", search_node_create_function) # functools.partial\n",
    "workflow.add_node(\"Insights_Researcher\", researcher_node_create_function) # functools.partial\n",
    "workflow.add_node(\"Supervisor\", supervisor_agent) # langchain_core.runnables.base.RunnableSequence\n",
    "\n",
    "[n for n in workflow.nodes]"
   ]
  },
  {
   "cell_type": "code",
   "execution_count": null,
   "id": "b7b4be7a-dc76-4556-a254-06db6080d222",
   "metadata": {},
   "outputs": [],
   "source": [
    "# Now we add the edges between the two node members and the supervisor\n",
    "# We want our workers to ALWAYS \"report back\" to the Supervisor node when done\n",
    "\n",
    "for member in members:\n",
    "    print(f\"connecting {member} node to the supervisor node...\")\n",
    "    workflow.add_edge(member, \"Supervisor\")\n",
    "    \n",
    "[e for e in workflow.edges]"
   ]
  },
  {
   "cell_type": "code",
   "execution_count": null,
   "id": "c1bb9028-0fc8-4b77-8c2b-8e0741b1132c",
   "metadata": {},
   "outputs": [],
   "source": [
    "# The conditional map illustrates the match between each node and its direction\n",
    "from langgraph.graph import StateGraph, END\n",
    "\n",
    "conditional_map = {k: k for k in members}\n",
    "\n",
    "conditional_map[\"FINISH\"] = END\n",
    "\n",
    "conditional_map"
   ]
  },
  {
   "cell_type": "code",
   "execution_count": null,
   "id": "2da94408-2b60-4205-9e1a-6c05cc6d3ff3",
   "metadata": {},
   "outputs": [],
   "source": [
    "# Associate the conditional map to the workflow\n",
    "\n",
    "workflow.add_conditional_edges(\n",
    "    \"Supervisor\", \n",
    "    lambda x: x[\"next\"], \n",
    "    conditional_map)"
   ]
  },
  {
   "cell_type": "code",
   "execution_count": null,
   "id": "adf86080-968c-43ea-9691-43cdfffdc598",
   "metadata": {},
   "outputs": [],
   "source": [
    "# Add entry point\n",
    "\n",
    "workflow.set_entry_point(\"Supervisor\")"
   ]
  },
  {
   "cell_type": "code",
   "execution_count": null,
   "id": "8e293302-4bfd-4336-9e95-6db14163114a",
   "metadata": {},
   "outputs": [],
   "source": [
    "# Compile the graph\n",
    "\n",
    "graph = workflow.compile()\n",
    "\n",
    "graph"
   ]
  },
  {
   "cell_type": "code",
   "execution_count": null,
   "id": "c6034e89-857a-42df-bb64-2a610a220e53",
   "metadata": {},
   "outputs": [],
   "source": [
    "# Run the graph\n",
    "\n",
    "from langchain_core.messages import HumanMessage\n",
    "\n",
    "for s in graph.stream({\n",
    "    \"messages\": [HumanMessage(content=\"\"\"Search for the latest AI technology trends in 2024,\n",
    "            summarize the content. After summarise pass it on to insight researcher\n",
    "            to provide insights for each topic\"\"\")]\n",
    "}):\n",
    "    if \"__end__\" not in s:\n",
    "        print(s)\n",
    "        print(\"----\")"
   ]
  }
 ],
 "metadata": {
  "kernelspec": {
   "display_name": "langgraph",
   "language": "python",
   "name": "langgraph"
  },
  "language_info": {
   "codemirror_mode": {
    "name": "ipython",
    "version": 3
   },
   "file_extension": ".py",
   "mimetype": "text/x-python",
   "name": "python",
   "nbconvert_exporter": "python",
   "pygments_lexer": "ipython3",
   "version": "3.11.8"
  }
 },
 "nbformat": 4,
 "nbformat_minor": 5
}
