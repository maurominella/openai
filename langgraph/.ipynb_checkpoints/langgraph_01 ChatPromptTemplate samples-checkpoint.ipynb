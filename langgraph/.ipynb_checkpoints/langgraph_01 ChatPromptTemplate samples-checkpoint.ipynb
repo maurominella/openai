{
 "cells": [
  {
   "cell_type": "markdown",
   "id": "4a6440a0-4ea3-49ac-a828-1a52a4d27208",
   "metadata": {},
   "source": [
    "# ChatPromptTemplate object"
   ]
  },
  {
   "cell_type": "code",
   "execution_count": 1,
   "id": "f2ab7ead-11e7-40b8-8922-ddacf561f8ff",
   "metadata": {},
   "outputs": [
    {
     "data": {
      "text/plain": [
       "ChatPromptValue(messages=[SystemMessage(content='You are a helpful AI bot. Your name is Carl'), HumanMessage(content='Hello, there!')])"
      ]
     },
     "execution_count": 1,
     "metadata": {},
     "output_type": "execute_result"
    }
   ],
   "source": [
    "# ChatPromptTemplate with a single variable\n",
    "\n",
    "from langchain_core.prompts import ChatPromptTemplate\n",
    "\n",
    "cpt1 = ChatPromptTemplate.from_messages(\n",
    "    [\n",
    "        (\"system\", \"You are a helpful AI bot. Your name is Carl\"),\n",
    "        (\"human\", \"{user_input}\") \n",
    "    ]\n",
    ")\n",
    "\n",
    "cpt1.invoke(\"Hello, there!\")"
   ]
  },
  {
   "cell_type": "code",
   "execution_count": 2,
   "id": "f50e399e-035d-4f2a-8c55-9b5c6864c120",
   "metadata": {},
   "outputs": [
    {
     "data": {
      "text/plain": [
       "ChatPromptValue(messages=[SystemMessage(content='You are a helpful AI bot. Your name is Bob.'), HumanMessage(content='Hello, how are you doing?'), AIMessage(content=\"I'm doing well, thanks!\"), HumanMessage(content='What is your name?')])"
      ]
     },
     "execution_count": 2,
     "metadata": {},
     "output_type": "execute_result"
    }
   ],
   "source": [
    "# ChatPromptTemplate with multiple variables\n",
    "\n",
    "from langchain_core.prompts import ChatPromptTemplate\n",
    "\n",
    "cpt2 = ChatPromptTemplate.from_messages(\n",
    "    [\n",
    "        (\"system\", \"You are a helpful AI bot. Your name is {name}.\"), # variable 1\n",
    "        (\"human\", \"Hello, how are you doing?\"),\n",
    "        (\"ai\", \"I'm doing well, thanks!\"),\n",
    "        (\"human\", \"{user_input}\") # variable 2\n",
    "    ]\n",
    ")\n",
    "\n",
    "cpt2.invoke(\n",
    "    {        \n",
    "        \"name\": \"Bob\",\n",
    "        \"user_input\": \"What is your name?\"\n",
    "    }\n",
    ")"
   ]
  },
  {
   "cell_type": "code",
   "execution_count": 3,
   "id": "eb71e813-71f8-46cc-9b60-71b34ccd3097",
   "metadata": {},
   "outputs": [
    {
     "data": {
      "text/plain": [
       "ChatPromptValue(messages=[SystemMessage(content='You are a helpful AI bot.'), HumanMessage(content='Hi!'), AIMessage(content='How can I assist you today?'), HumanMessage(content='Can you make an ice cream?'), AIMessage(content=\"No, I can't\")])"
      ]
     },
     "execution_count": 3,
     "metadata": {},
     "output_type": "execute_result"
    }
   ],
   "source": [
    "# ChatPromptTemplate with generic placeholder\n",
    "\n",
    "from langchain_core.prompts import ChatPromptTemplate\n",
    "\n",
    "cpt3 = ChatPromptTemplate.from_messages(\n",
    "    [\n",
    "        (\"system\", \"You are a helpful AI bot.\"),\n",
    "        (\"placeholder\", \"{conversation}\") # equivalent to MessagesPlaceholder(variable_name=\"conversation\")\n",
    "    ]\n",
    ")\n",
    "\n",
    "cpt3.invoke(\n",
    "    {        \n",
    "        \"conversation\": [\n",
    "            (\"human\", \"Hi!\"),\n",
    "            (\"ai\", \"How can I assist you today?\"),\n",
    "            (\"human\", \"Can you make an ice cream?\"),\n",
    "            (\"ai\", \"No, I can't\")\n",
    "        ]\n",
    "    }\n",
    ")"
   ]
  },
  {
   "cell_type": "code",
   "execution_count": 4,
   "id": "e9ed6291-494b-4151-8303-77d7428adef2",
   "metadata": {},
   "outputs": [
    {
     "data": {
      "text/plain": [
       "ChatPromptValue(messages=[SystemMessage(content='You are a web searcher. Search the internet for information.'), HumanMessage(content='Hi!'), AIMessage(content='How can I assist you today?'), HumanMessage(content='Can you make an ice cream?'), AIMessage(content=\"No, I can't\")])"
      ]
     },
     "execution_count": 4,
     "metadata": {},
     "output_type": "execute_result"
    }
   ],
   "source": [
    "# ChatPromptTemplate with MessagesPlaceholder\n",
    "\n",
    "from langchain_core.prompts import MessagesPlaceholder\n",
    "\n",
    "cpt4 = ChatPromptTemplate.from_messages([\n",
    "        (\"system\", \"You are a web searcher. Search the internet for information.\"),\n",
    "        MessagesPlaceholder(variable_name=\"messages_list_01\"),\n",
    "        MessagesPlaceholder(variable_name=\"messages_list_02\") \n",
    "    ])\n",
    "\n",
    "cpt4.invoke(\n",
    "    {\n",
    "        \"messages_list_01\": [(\"human\", \"Hi!\"), (\"ai\", \"How can I assist you today?\")],\n",
    "        \"messages_list_02\": [(\"human\", \"Can you make an ice cream?\"), (\"ai\", \"No, I can't\")]\n",
    "    }\n",
    ")"
   ]
  }
 ],
 "metadata": {
  "kernelspec": {
   "display_name": "langgraph",
   "language": "python",
   "name": "langgraph"
  },
  "language_info": {
   "codemirror_mode": {
    "name": "ipython",
    "version": 3
   },
   "file_extension": ".py",
   "mimetype": "text/x-python",
   "name": "python",
   "nbconvert_exporter": "python",
   "pygments_lexer": "ipython3",
   "version": "3.11.8"
  }
 },
 "nbformat": 4,
 "nbformat_minor": 5
}
