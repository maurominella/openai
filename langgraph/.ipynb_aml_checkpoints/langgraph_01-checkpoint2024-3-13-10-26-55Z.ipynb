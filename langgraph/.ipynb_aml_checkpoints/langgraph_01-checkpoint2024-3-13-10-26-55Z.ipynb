{
 "cells": [
  {
   "cell_type": "code",
   "execution_count": 1,
   "id": "aa1fe9f7-7753-481e-8b78-01d8d817650e",
   "metadata": {},
   "outputs": [],
   "source": [
    "import functools, operator, requests, os, json\n",
    "from bs4 import BeautifulSoup\n",
    "from duckduckgo_search import DDGS\n",
    "from langchain.agents import AgentExecutor, create_openai_tools_agent\n",
    "from langchain_core.messages import BaseMessage, HumanMessage\n",
    "from langchain.output_parsers.openai_functions import JsonOutputFunctionsParser\n",
    "from langchain_core.prompts import ChatPromptTemplate, MessagesPlaceholder\n",
    "from langgraph.graph import StateGraph, END\n",
    "from langchain.tools import tool\n",
    "from langchain_openai import ChatOpenAI, AzureChatOpenAI\n",
    "from typing import Annotated, Any, Dict, List, Optional, Sequence, TypedDict\n",
    "import gradio as gr"
   ]
  },
  {
   "cell_type": "code",
   "execution_count": 2,
   "id": "899372e7-e08c-4d6a-a9b1-009bc09e2712",
   "metadata": {},
   "outputs": [],
   "source": [
    "# Set environment variables\n",
    "\n",
    "import os\n",
    "from dotenv import load_dotenv\n",
    "\n",
    "load_dotenv(\"./../credentials_my.env\")\n",
    "\n",
    "os.environ[\"AZURE_OPENAI_ENDPOINT\"] = os.environ[\"AZURE_OPENAI_ENDPOINT_SCUS\"]\n",
    "os.environ[\"AZURE_OPENAI_API_KEY\"]  = os.environ[\"AZURE_OPENAI_API_KEY_SCUS\"]\n",
    "os.environ[\"OPENAI_API_VERSION\"]    = os.environ[\"AZURE_OPENAI_API_VERSION\"]\n",
    "os.environ[\"AZURE_OPENAI_API_TYPE\"] = os.environ[\"OPENAI_API_TYPE\"]\n",
    "\n",
    "MODEL = os.environ[\"GPT4-0125PREVIEW-128k\"]\n",
    "\n",
    "# https://smith.langchain.com/\n",
    "os.environ[\"LANGCHAIN_TRACING_V2\"]  = \"true\"\n",
    "os.environ[\"LANGCHAIN_PROJECT\"]     = \"LangGraph Research Agents 002\"\n",
    "os.environ[\"LANGCHAIN_API_KEY\"]     = os.environ[\"LANGCHAIN_API_KEY\"]"
   ]
  },
  {
   "cell_type": "code",
   "execution_count": 3,
   "id": "1c3f2253-8def-4378-bee7-81ec277b643a",
   "metadata": {},
   "outputs": [],
   "source": [
    "# Initialize model\n",
    "\n",
    "llm = AzureChatOpenAI(deployment_name=MODEL, temperature=0, max_tokens=1000)"
   ]
  },
  {
   "cell_type": "code",
   "execution_count": 4,
   "id": "62a6878d-394b-4017-9bb2-70bbc8b46bef",
   "metadata": {},
   "outputs": [],
   "source": [
    "# 1. Define custom tools\n",
    "@tool(\"internet_search_tool\", return_direct=False) # this is the name tracked in LangSmith\n",
    "def internet_search_function(query: str) -> str:\n",
    "    \"\"\"Searches the internet using DuckDuckGo.\"\"\"\n",
    "    with DDGS() as ddgs:\n",
    "        results = [r for r in ddgs.text(query, max_results=5)]\n",
    "        return results if results else \"No results found.\"\n",
    "\n",
    "@tool(\"process_content_tool\", return_direct=False)\n",
    "def process_content_function(url: str) -> str:\n",
    "    \"\"\"Processes content from a webpage.\"\"\"\n",
    "    response = requests.get(url)\n",
    "    soup = BeautifulSoup(response.content, 'html.parser')\n",
    "    return soup.get_text()\n",
    "\n",
    "tools = [internet_search_function, process_content_function]"
   ]
  },
  {
   "cell_type": "markdown",
   "id": "dc207d64",
   "metadata": {},
   "source": [
    "# AGENTS"
   ]
  },
  {
   "cell_type": "markdown",
   "id": "9e4e168b",
   "metadata": {},
   "source": [
    "## Create an Agent step by step"
   ]
  },
  {
   "cell_type": "code",
   "execution_count": 5,
   "id": "31720e1c",
   "metadata": {},
   "outputs": [
    {
     "name": "stdout",
     "output_type": "stream",
     "text": [
      "('system', 'You are a web searcher. Search the internet for information.')\n",
      "variable_name='messages'\n",
      "variable_name='agent_scratchpad'\n"
     ]
    }
   ],
   "source": [
    "system_prompt = (\n",
    "    \"system\",\n",
    "    \"You are a web searcher. Search the internet for information.\")\n",
    "\n",
    "mp1 = MessagesPlaceholder(variable_name=\"messages\")\n",
    "\n",
    "mp2 = MessagesPlaceholder(variable_name=\"agent_scratchpad\")\n",
    "\n",
    "print(system_prompt, mp1, mp2, sep='\\n')"
   ]
  },
  {
   "cell_type": "code",
   "execution_count": 6,
   "id": "c0eb65c4",
   "metadata": {},
   "outputs": [
    {
     "data": {
      "text/plain": [
       "ChatPromptTemplate(input_variables=['agent_scratchpad', 'messages'], input_types={'messages': typing.List[typing.Union[langchain_core.messages.ai.AIMessage, langchain_core.messages.human.HumanMessage, langchain_core.messages.chat.ChatMessage, langchain_core.messages.system.SystemMessage, langchain_core.messages.function.FunctionMessage, langchain_core.messages.tool.ToolMessage]], 'agent_scratchpad': typing.List[typing.Union[langchain_core.messages.ai.AIMessage, langchain_core.messages.human.HumanMessage, langchain_core.messages.chat.ChatMessage, langchain_core.messages.system.SystemMessage, langchain_core.messages.function.FunctionMessage, langchain_core.messages.tool.ToolMessage]]}, messages=[SystemMessagePromptTemplate(prompt=PromptTemplate(input_variables=[], template='You are a web searcher. Search the internet for information.')), MessagesPlaceholder(variable_name='messages'), MessagesPlaceholder(variable_name='agent_scratchpad')])"
      ]
     },
     "execution_count": 6,
     "metadata": {},
     "output_type": "execute_result"
    }
   ],
   "source": [
    "cpt = ChatPromptTemplate.from_messages([\n",
    "        system_prompt,\n",
    "        mp1,\n",
    "        mp2\n",
    "    ])\n",
    "\n",
    "cpt"
   ]
  },
  {
   "cell_type": "code",
   "execution_count": 7,
   "id": "787b6468",
   "metadata": {},
   "outputs": [
    {
     "data": {
      "text/plain": [
       "RunnableAssign(mapper={\n",
       "  agent_scratchpad: RunnableLambda(lambda x: format_to_openai_tool_messages(x['intermediate_steps']))\n",
       "})\n",
       "| ChatPromptTemplate(input_variables=['agent_scratchpad', 'messages'], input_types={'messages': typing.List[typing.Union[langchain_core.messages.ai.AIMessage, langchain_core.messages.human.HumanMessage, langchain_core.messages.chat.ChatMessage, langchain_core.messages.system.SystemMessage, langchain_core.messages.function.FunctionMessage, langchain_core.messages.tool.ToolMessage]], 'agent_scratchpad': typing.List[typing.Union[langchain_core.messages.ai.AIMessage, langchain_core.messages.human.HumanMessage, langchain_core.messages.chat.ChatMessage, langchain_core.messages.system.SystemMessage, langchain_core.messages.function.FunctionMessage, langchain_core.messages.tool.ToolMessage]]}, messages=[SystemMessagePromptTemplate(prompt=PromptTemplate(input_variables=[], template='You are a web searcher. Search the internet for information.')), MessagesPlaceholder(variable_name='messages'), MessagesPlaceholder(variable_name='agent_scratchpad')])\n",
       "| RunnableBinding(bound=AzureChatOpenAI(client=<openai.resources.chat.completions.Completions object at 0x7f3f3192ed90>, async_client=<openai.resources.chat.completions.AsyncCompletions object at 0x7f3f31929410>, temperature=0.0, openai_api_key=SecretStr('**********'), openai_proxy='', max_tokens=1000, azure_endpoint='https://mmopenaiscus.openai.azure.com/', deployment_name='gpt4-0125preview-128k', openai_api_version='2024-02-15-preview', openai_api_type='azure'), kwargs={'tools': [{'type': 'function', 'function': {'name': 'internet_search_tool', 'description': 'internet_search_tool(query: str) -> str - Searches the internet using DuckDuckGo.', 'parameters': {'type': 'object', 'properties': {'query': {'type': 'string'}}, 'required': ['query']}}}, {'type': 'function', 'function': {'name': 'process_content_tool', 'description': 'process_content_tool(url: str) -> str - Processes content from a webpage.', 'parameters': {'type': 'object', 'properties': {'url': {'type': 'string'}}, 'required': ['url']}}}]})\n",
       "| OpenAIToolsAgentOutputParser()"
      ]
     },
     "execution_count": 7,
     "metadata": {},
     "output_type": "execute_result"
    }
   ],
   "source": [
    "agent = create_openai_tools_agent(llm, tools, cpt)\n",
    "agent"
   ]
  },
  {
   "cell_type": "code",
   "execution_count": 8,
   "id": "04580297",
   "metadata": {},
   "outputs": [
    {
     "data": {
      "text/plain": [
       "AgentExecutor(agent=RunnableMultiActionAgent(runnable=RunnableAssign(mapper={\n",
       "  agent_scratchpad: RunnableLambda(lambda x: format_to_openai_tool_messages(x['intermediate_steps']))\n",
       "})\n",
       "| ChatPromptTemplate(input_variables=['agent_scratchpad', 'messages'], input_types={'messages': typing.List[typing.Union[langchain_core.messages.ai.AIMessage, langchain_core.messages.human.HumanMessage, langchain_core.messages.chat.ChatMessage, langchain_core.messages.system.SystemMessage, langchain_core.messages.function.FunctionMessage, langchain_core.messages.tool.ToolMessage]], 'agent_scratchpad': typing.List[typing.Union[langchain_core.messages.ai.AIMessage, langchain_core.messages.human.HumanMessage, langchain_core.messages.chat.ChatMessage, langchain_core.messages.system.SystemMessage, langchain_core.messages.function.FunctionMessage, langchain_core.messages.tool.ToolMessage]]}, messages=[SystemMessagePromptTemplate(prompt=PromptTemplate(input_variables=[], template='You are a web searcher. Search the internet for information.')), MessagesPlaceholder(variable_name='messages'), MessagesPlaceholder(variable_name='agent_scratchpad')])\n",
       "| RunnableBinding(bound=AzureChatOpenAI(client=<openai.resources.chat.completions.Completions object at 0x7f3f3192ed90>, async_client=<openai.resources.chat.completions.AsyncCompletions object at 0x7f3f31929410>, temperature=0.0, openai_api_key=SecretStr('**********'), openai_proxy='', max_tokens=1000, azure_endpoint='https://mmopenaiscus.openai.azure.com/', deployment_name='gpt4-0125preview-128k', openai_api_version='2024-02-15-preview', openai_api_type='azure'), kwargs={'tools': [{'type': 'function', 'function': {'name': 'internet_search_tool', 'description': 'internet_search_tool(query: str) -> str - Searches the internet using DuckDuckGo.', 'parameters': {'type': 'object', 'properties': {'query': {'type': 'string'}}, 'required': ['query']}}}, {'type': 'function', 'function': {'name': 'process_content_tool', 'description': 'process_content_tool(url: str) -> str - Processes content from a webpage.', 'parameters': {'type': 'object', 'properties': {'url': {'type': 'string'}}, 'required': ['url']}}}]})\n",
       "| OpenAIToolsAgentOutputParser(), input_keys_arg=[], return_keys_arg=[], stream_runnable=True), tools=[StructuredTool(name='internet_search_tool', description='internet_search_tool(query: str) -> str - Searches the internet using DuckDuckGo.', args_schema=<class 'pydantic.v1.main.internet_search_toolSchema'>, func=<function internet_search_function at 0x7f3f31765580>), StructuredTool(name='process_content_tool', description='process_content_tool(url: str) -> str - Processes content from a webpage.', args_schema=<class 'pydantic.v1.main.process_content_toolSchema'>, func=<function process_content_function at 0x7f3f32c1f2e0>)])"
      ]
     },
     "execution_count": 8,
     "metadata": {},
     "output_type": "execute_result"
    }
   ],
   "source": [
    "executor = AgentExecutor(agent=agent, tools=tools)\n",
    "executor"
   ]
  },
  {
   "cell_type": "code",
   "execution_count": 9,
   "id": "3988b021-f0c8-4371-a888-f2eff475ef4d",
   "metadata": {},
   "outputs": [
    {
     "data": {
      "text/plain": [
       "langchain.agents.agent.AgentExecutor"
      ]
     },
     "execution_count": 9,
     "metadata": {},
     "output_type": "execute_result"
    }
   ],
   "source": [
    "type(executor)"
   ]
  },
  {
   "cell_type": "markdown",
   "id": "a32824da",
   "metadata": {},
   "source": [
    "## Create an Agent Executor with a Helper Function"
   ]
  },
  {
   "cell_type": "code",
   "execution_count": 10,
   "id": "a5886a8b-a290-4830-8689-3fffd856d9f0",
   "metadata": {},
   "outputs": [],
   "source": [
    "# Helper function for creating agents\n",
    "def create_agent_executor(llm: ChatOpenAI, tools: list, system_prompt: str):\n",
    "    prompt = ChatPromptTemplate.from_messages([\n",
    "        (\"system\", system_prompt),\n",
    "        MessagesPlaceholder(variable_name=\"messages\"),\n",
    "        MessagesPlaceholder(variable_name=\"agent_scratchpad\"),\n",
    "    ])\n",
    "    agent = create_openai_tools_agent(llm, tools, prompt)\n",
    "    executor = AgentExecutor(agent=agent, tools=tools)\n",
    "    return executor"
   ]
  },
  {
   "cell_type": "code",
   "execution_count": 11,
   "id": "2c37f240",
   "metadata": {},
   "outputs": [
    {
     "data": {
      "text/plain": [
       "AgentExecutor(agent=RunnableMultiActionAgent(runnable=RunnableAssign(mapper={\n",
       "  agent_scratchpad: RunnableLambda(lambda x: format_to_openai_tool_messages(x['intermediate_steps']))\n",
       "})\n",
       "| ChatPromptTemplate(input_variables=['agent_scratchpad', 'messages'], input_types={'messages': typing.List[typing.Union[langchain_core.messages.ai.AIMessage, langchain_core.messages.human.HumanMessage, langchain_core.messages.chat.ChatMessage, langchain_core.messages.system.SystemMessage, langchain_core.messages.function.FunctionMessage, langchain_core.messages.tool.ToolMessage]], 'agent_scratchpad': typing.List[typing.Union[langchain_core.messages.ai.AIMessage, langchain_core.messages.human.HumanMessage, langchain_core.messages.chat.ChatMessage, langchain_core.messages.system.SystemMessage, langchain_core.messages.function.FunctionMessage, langchain_core.messages.tool.ToolMessage]]}, messages=[SystemMessagePromptTemplate(prompt=PromptTemplate(input_variables=[], template='You are a web searcher. Search the internet for information.')), MessagesPlaceholder(variable_name='messages'), MessagesPlaceholder(variable_name='agent_scratchpad')])\n",
       "| RunnableBinding(bound=AzureChatOpenAI(client=<openai.resources.chat.completions.Completions object at 0x7f3f3192ed90>, async_client=<openai.resources.chat.completions.AsyncCompletions object at 0x7f3f31929410>, temperature=0.0, openai_api_key=SecretStr('**********'), openai_proxy='', max_tokens=1000, azure_endpoint='https://mmopenaiscus.openai.azure.com/', deployment_name='gpt4-0125preview-128k', openai_api_version='2024-02-15-preview', openai_api_type='azure'), kwargs={'tools': [{'type': 'function', 'function': {'name': 'internet_search_tool', 'description': 'internet_search_tool(query: str) -> str - Searches the internet using DuckDuckGo.', 'parameters': {'type': 'object', 'properties': {'query': {'type': 'string'}}, 'required': ['query']}}}, {'type': 'function', 'function': {'name': 'process_content_tool', 'description': 'process_content_tool(url: str) -> str - Processes content from a webpage.', 'parameters': {'type': 'object', 'properties': {'url': {'type': 'string'}}, 'required': ['url']}}}]})\n",
       "| OpenAIToolsAgentOutputParser(), input_keys_arg=[], return_keys_arg=[], stream_runnable=True), tools=[StructuredTool(name='internet_search_tool', description='internet_search_tool(query: str) -> str - Searches the internet using DuckDuckGo.', args_schema=<class 'pydantic.v1.main.internet_search_toolSchema'>, func=<function internet_search_function at 0x7f3f31765580>), StructuredTool(name='process_content_tool', description='process_content_tool(url: str) -> str - Processes content from a webpage.', args_schema=<class 'pydantic.v1.main.process_content_toolSchema'>, func=<function process_content_function at 0x7f3f32c1f2e0>)])"
      ]
     },
     "execution_count": 11,
     "metadata": {},
     "output_type": "execute_result"
    }
   ],
   "source": [
    "# Create the Search Agent Executor\n",
    "\n",
    "search_agent_exec = create_agent_executor(\n",
    "    llm=llm,\n",
    "    tools=tools,\n",
    "    system_prompt=\"You are a web searcher. Search the internet for information.\",\n",
    "    )\n",
    "\n",
    "search_agent_exec"
   ]
  },
  {
   "cell_type": "code",
   "execution_count": 12,
   "id": "e1c84387",
   "metadata": {},
   "outputs": [
    {
     "data": {
      "text/plain": [
       "AgentExecutor(agent=RunnableMultiActionAgent(runnable=RunnableAssign(mapper={\n",
       "  agent_scratchpad: RunnableLambda(lambda x: format_to_openai_tool_messages(x['intermediate_steps']))\n",
       "})\n",
       "| ChatPromptTemplate(input_variables=['agent_scratchpad', 'messages'], input_types={'messages': typing.List[typing.Union[langchain_core.messages.ai.AIMessage, langchain_core.messages.human.HumanMessage, langchain_core.messages.chat.ChatMessage, langchain_core.messages.system.SystemMessage, langchain_core.messages.function.FunctionMessage, langchain_core.messages.tool.ToolMessage]], 'agent_scratchpad': typing.List[typing.Union[langchain_core.messages.ai.AIMessage, langchain_core.messages.human.HumanMessage, langchain_core.messages.chat.ChatMessage, langchain_core.messages.system.SystemMessage, langchain_core.messages.function.FunctionMessage, langchain_core.messages.tool.ToolMessage]]}, messages=[SystemMessagePromptTemplate(prompt=PromptTemplate(input_variables=[], template='You are a Insight Researcher. Do step by step. \\n        Based on the provided content first identify the list of topics,\\n        then search internet for each topic one by one\\n        and finally find insights for each topic one by one.\\n        Include the insights and sources in the final response')), MessagesPlaceholder(variable_name='messages'), MessagesPlaceholder(variable_name='agent_scratchpad')])\n",
       "| RunnableBinding(bound=AzureChatOpenAI(client=<openai.resources.chat.completions.Completions object at 0x7f3f3192ed90>, async_client=<openai.resources.chat.completions.AsyncCompletions object at 0x7f3f31929410>, temperature=0.0, openai_api_key=SecretStr('**********'), openai_proxy='', max_tokens=1000, azure_endpoint='https://mmopenaiscus.openai.azure.com/', deployment_name='gpt4-0125preview-128k', openai_api_version='2024-02-15-preview', openai_api_type='azure'), kwargs={'tools': [{'type': 'function', 'function': {'name': 'internet_search_tool', 'description': 'internet_search_tool(query: str) -> str - Searches the internet using DuckDuckGo.', 'parameters': {'type': 'object', 'properties': {'query': {'type': 'string'}}, 'required': ['query']}}}, {'type': 'function', 'function': {'name': 'process_content_tool', 'description': 'process_content_tool(url: str) -> str - Processes content from a webpage.', 'parameters': {'type': 'object', 'properties': {'url': {'type': 'string'}}, 'required': ['url']}}}]})\n",
       "| OpenAIToolsAgentOutputParser(), input_keys_arg=[], return_keys_arg=[], stream_runnable=True), tools=[StructuredTool(name='internet_search_tool', description='internet_search_tool(query: str) -> str - Searches the internet using DuckDuckGo.', args_schema=<class 'pydantic.v1.main.internet_search_toolSchema'>, func=<function internet_search_function at 0x7f3f31765580>), StructuredTool(name='process_content_tool', description='process_content_tool(url: str) -> str - Processes content from a webpage.', args_schema=<class 'pydantic.v1.main.process_content_toolSchema'>, func=<function process_content_function at 0x7f3f32c1f2e0>)])"
      ]
     },
     "execution_count": 12,
     "metadata": {},
     "output_type": "execute_result"
    }
   ],
   "source": [
    "# Create the Insight Research Agent Executor\n",
    "\n",
    "insights_research_agent_exec = create_agent_executor(\n",
    "    llm = llm,\n",
    "    tools = tools, \n",
    "    system_prompt = \"\"\"You are a Insight Researcher. Do step by step. \n",
    "        Based on the provided content first identify the list of topics,\n",
    "        then search internet for each topic one by one\n",
    "        and finally find insights for each topic one by one.\n",
    "        Include the insights and sources in the final response\"\"\")\n",
    "\n",
    "insights_research_agent_exec"
   ]
  },
  {
   "cell_type": "markdown",
   "id": "13423743",
   "metadata": {},
   "source": [
    "# NODES"
   ]
  },
  {
   "cell_type": "markdown",
   "id": "8f56e04b",
   "metadata": {},
   "source": [
    "## What is a \"HumanMessage\""
   ]
  },
  {
   "cell_type": "code",
   "execution_count": 13,
   "id": "b5a7a5aa",
   "metadata": {},
   "outputs": [
    {
     "data": {
      "text/plain": [
       "HumanMessage(content='This is the result', name='Node name')"
      ]
     },
     "execution_count": 13,
     "metadata": {},
     "output_type": "execute_result"
    }
   ],
   "source": [
    "# it's not used in our code directly, but let's see what a HumanMessage is\n",
    "\n",
    "from langchain_core.messages import HumanMessage\n",
    "\n",
    "HumanMessage(content=\"This is the result\", name=\"Node name\")"
   ]
  },
  {
   "cell_type": "markdown",
   "id": "7a79cc7a",
   "metadata": {},
   "source": [
    "## \"agent_node\" function to convert the agent response to a human message"
   ]
  },
  {
   "cell_type": "code",
   "execution_count": 23,
   "id": "01838aa8",
   "metadata": {},
   "outputs": [],
   "source": [
    "# This function facilitates creating nodes in the graph:\n",
    "# it takes care of converting the agent response to a human message. \n",
    "# This is important because that is how we will add it the global state of the graph\n",
    "\n",
    "def agent_node(state, agent_executor, name):\n",
    "    result = agent_executor.invoke(state)\n",
    "    return {\"messages\": [HumanMessage(content=result[\"output\"], name=name)]}"
   ]
  },
  {
   "cell_type": "markdown",
   "id": "abfe621f",
   "metadata": {},
   "source": [
    "## Create the \"Web_Searcher\" Node for Searcher Agents Executor"
   ]
  },
  {
   "cell_type": "code",
   "execution_count": 24,
   "id": "fe3d5601",
   "metadata": {},
   "outputs": [
    {
     "data": {
      "text/plain": [
       "functools.partial(<function agent_node at 0x7f3f3160ede0>, agent_executor=AgentExecutor(agent=RunnableMultiActionAgent(runnable=RunnableAssign(mapper={\n",
       "  agent_scratchpad: RunnableLambda(lambda x: format_to_openai_tool_messages(x['intermediate_steps']))\n",
       "})\n",
       "| ChatPromptTemplate(input_variables=['agent_scratchpad', 'messages'], input_types={'messages': typing.List[typing.Union[langchain_core.messages.ai.AIMessage, langchain_core.messages.human.HumanMessage, langchain_core.messages.chat.ChatMessage, langchain_core.messages.system.SystemMessage, langchain_core.messages.function.FunctionMessage, langchain_core.messages.tool.ToolMessage]], 'agent_scratchpad': typing.List[typing.Union[langchain_core.messages.ai.AIMessage, langchain_core.messages.human.HumanMessage, langchain_core.messages.chat.ChatMessage, langchain_core.messages.system.SystemMessage, langchain_core.messages.function.FunctionMessage, langchain_core.messages.tool.ToolMessage]]}, messages=[SystemMessagePromptTemplate(prompt=PromptTemplate(input_variables=[], template='You are a web searcher. Search the internet for information.')), MessagesPlaceholder(variable_name='messages'), MessagesPlaceholder(variable_name='agent_scratchpad')])\n",
       "| RunnableBinding(bound=AzureChatOpenAI(client=<openai.resources.chat.completions.Completions object at 0x7f3f3192ed90>, async_client=<openai.resources.chat.completions.AsyncCompletions object at 0x7f3f31929410>, temperature=0.0, openai_api_key=SecretStr('**********'), openai_proxy='', max_tokens=1000, azure_endpoint='https://mmopenaiscus.openai.azure.com/', deployment_name='gpt4-0125preview-128k', openai_api_version='2024-02-15-preview', openai_api_type='azure'), kwargs={'tools': [{'type': 'function', 'function': {'name': 'internet_search_tool', 'description': 'internet_search_tool(query: str) -> str - Searches the internet using DuckDuckGo.', 'parameters': {'type': 'object', 'properties': {'query': {'type': 'string'}}, 'required': ['query']}}}, {'type': 'function', 'function': {'name': 'process_content_tool', 'description': 'process_content_tool(url: str) -> str - Processes content from a webpage.', 'parameters': {'type': 'object', 'properties': {'url': {'type': 'string'}}, 'required': ['url']}}}]})\n",
       "| OpenAIToolsAgentOutputParser(), input_keys_arg=[], return_keys_arg=[], stream_runnable=True), tools=[StructuredTool(name='internet_search_tool', description='internet_search_tool(query: str) -> str - Searches the internet using DuckDuckGo.', args_schema=<class 'pydantic.v1.main.internet_search_toolSchema'>, func=<function internet_search_function at 0x7f3f31765580>), StructuredTool(name='process_content_tool', description='process_content_tool(url: str) -> str - Processes content from a webpage.', args_schema=<class 'pydantic.v1.main.process_content_toolSchema'>, func=<function process_content_function at 0x7f3f32c1f2e0>)]), name='Web_Searcher')"
      ]
     },
     "execution_count": 24,
     "metadata": {},
     "output_type": "execute_result"
    }
   ],
   "source": [
    "# create the search node, starting from the search agent executor\n",
    "\n",
    "search_node = functools.partial(agent_node, agent_executor=search_agent_exec, name=\"Web_Searcher\")\n",
    "search_node"
   ]
  },
  {
   "cell_type": "markdown",
   "id": "8d0e563a",
   "metadata": {},
   "source": [
    "## Create the \"Insight_Researcher\" Node for Insights_Researcher Agents Executor"
   ]
  },
  {
   "cell_type": "code",
   "execution_count": 27,
   "id": "63b0322f",
   "metadata": {},
   "outputs": [
    {
     "data": {
      "text/plain": [
       "functools.partial(<function agent_node at 0x7f3f3160ede0>, agent_executor=AgentExecutor(agent=RunnableMultiActionAgent(runnable=RunnableAssign(mapper={\n",
       "  agent_scratchpad: RunnableLambda(lambda x: format_to_openai_tool_messages(x['intermediate_steps']))\n",
       "})\n",
       "| ChatPromptTemplate(input_variables=['agent_scratchpad', 'messages'], input_types={'messages': typing.List[typing.Union[langchain_core.messages.ai.AIMessage, langchain_core.messages.human.HumanMessage, langchain_core.messages.chat.ChatMessage, langchain_core.messages.system.SystemMessage, langchain_core.messages.function.FunctionMessage, langchain_core.messages.tool.ToolMessage]], 'agent_scratchpad': typing.List[typing.Union[langchain_core.messages.ai.AIMessage, langchain_core.messages.human.HumanMessage, langchain_core.messages.chat.ChatMessage, langchain_core.messages.system.SystemMessage, langchain_core.messages.function.FunctionMessage, langchain_core.messages.tool.ToolMessage]]}, messages=[SystemMessagePromptTemplate(prompt=PromptTemplate(input_variables=[], template='You are a Insight Researcher. Do step by step. \\n        Based on the provided content first identify the list of topics,\\n        then search internet for each topic one by one\\n        and finally find insights for each topic one by one.\\n        Include the insights and sources in the final response')), MessagesPlaceholder(variable_name='messages'), MessagesPlaceholder(variable_name='agent_scratchpad')])\n",
       "| RunnableBinding(bound=AzureChatOpenAI(client=<openai.resources.chat.completions.Completions object at 0x7f3f3192ed90>, async_client=<openai.resources.chat.completions.AsyncCompletions object at 0x7f3f31929410>, temperature=0.0, openai_api_key=SecretStr('**********'), openai_proxy='', max_tokens=1000, azure_endpoint='https://mmopenaiscus.openai.azure.com/', deployment_name='gpt4-0125preview-128k', openai_api_version='2024-02-15-preview', openai_api_type='azure'), kwargs={'tools': [{'type': 'function', 'function': {'name': 'internet_search_tool', 'description': 'internet_search_tool(query: str) -> str - Searches the internet using DuckDuckGo.', 'parameters': {'type': 'object', 'properties': {'query': {'type': 'string'}}, 'required': ['query']}}}, {'type': 'function', 'function': {'name': 'process_content_tool', 'description': 'process_content_tool(url: str) -> str - Processes content from a webpage.', 'parameters': {'type': 'object', 'properties': {'url': {'type': 'string'}}, 'required': ['url']}}}]})\n",
       "| OpenAIToolsAgentOutputParser(), input_keys_arg=[], return_keys_arg=[], stream_runnable=True), tools=[StructuredTool(name='internet_search_tool', description='internet_search_tool(query: str) -> str - Searches the internet using DuckDuckGo.', args_schema=<class 'pydantic.v1.main.internet_search_toolSchema'>, func=<function internet_search_function at 0x7f3f31765580>), StructuredTool(name='process_content_tool', description='process_content_tool(url: str) -> str - Processes content from a webpage.', args_schema=<class 'pydantic.v1.main.process_content_toolSchema'>, func=<function process_content_function at 0x7f3f32c1f2e0>)]), name='Insights_Researcher')"
      ]
     },
     "execution_count": 27,
     "metadata": {},
     "output_type": "execute_result"
    }
   ],
   "source": [
    "# create the insights_research node, starting from the insights_research agent executor\n",
    "\n",
    "insights_research_node = functools.partial(agent_node, agent_executor=insights_research_agent_exec, name=\"Insights_Researcher\")\n",
    "insights_research_node"
   ]
  },
  {
   "attachments": {},
   "cell_type": "markdown",
   "id": "820f9466",
   "metadata": {},
   "source": [
    "## Create the \"supervisor\" Node \n",
    "Let's recall that:\n",
    "- we do not have a supervisor agent yet\n",
    "- the current nodes are **Web_Search** and **Insights_Researcher**\n",
    "- a \"node\" typically include the following components:\n",
    "```\n",
    "functool.partial(\n",
    "...\n",
    "| ChatPromptTemplate\n",
    "| RunnableBinding\n",
    "| OpenAIToolsAgentOutputParser\n",
    ")\n",
    "```"
   ]
  },
  {
   "cell_type": "markdown",
   "id": "8e8687ff",
   "metadata": {},
   "source": [
    "### Prepare the variables"
   ]
  },
  {
   "cell_type": "code",
   "execution_count": 28,
   "id": "1ba64d34",
   "metadata": {},
   "outputs": [
    {
     "name": "stdout",
     "output_type": "stream",
     "text": [
      "members: ['Web_Searcher', 'Insights_Researcher'],\n",
      "options: ['FINISH', 'Web_Searcher', 'Insights_Researcher']\n"
     ]
    }
   ],
   "source": [
    "# given the two nodes...\n",
    "members = [\"Web_Searcher\", \"Insights_Researcher\"]\n",
    "\n",
    "# ...the potential actions identified by the supervisor include \"FINISH\"\n",
    "options = [\"FINISH\"] + members\n",
    "\n",
    "print(f\"members: {members},\\noptions: {options}\")"
   ]
  },
  {
   "cell_type": "markdown",
   "id": "94e27ce7",
   "metadata": {},
   "source": [
    "### Create the ChatPromptTemplate object\n",
    "\n",
    "The process is the same used for the other two nodes, but in this case we also use a **partial function**.<br/>\n",
    "\n",
    "A **partial function*** is a function that is created by fixing a certain number of arguments of an existing function. This is achieved using the functools.partial function, which allows you to set default values for one or more arguments of a function, effectively creating a new function with those default values already set.\n",
    "The functools.partial function is used to create partial functions in Python. It allows you to fix a certain number of arguments of an existing function, effectively creating a new function with those fixed arguments. This can be useful when you want to create a simplified version of a function with some arguments pre-filled, or when you need to adapt a function to be used as a callback with a different signature.\n",
    "\n",
    "By using **functools.partial**, you can create specialized functions from more general ones, making your code more modular and easier to maintain. This can be especially handy when working with libraries or frameworks that require functions with specific signatures."
   ]
  },
  {
   "cell_type": "code",
   "execution_count": 31,
   "id": "e7251b50",
   "metadata": {},
   "outputs": [
    {
     "data": {
      "text/plain": [
       "ChatPromptTemplate(input_variables=['messages'], input_types={'messages': typing.List[typing.Union[langchain_core.messages.ai.AIMessage, langchain_core.messages.human.HumanMessage, langchain_core.messages.chat.ChatMessage, langchain_core.messages.system.SystemMessage, langchain_core.messages.function.FunctionMessage, langchain_core.messages.tool.ToolMessage]]}, partial_variables={'options': \"['FINISH', 'Web_Searcher', 'Insights_Researcher']\", 'members': 'Web_Searcher, Insights_Researcher'}, messages=[SystemMessagePromptTemplate(prompt=PromptTemplate(input_variables=['members'], template='You are a supervisor tasked with managing a conversation between the following workers: {members}. Given the following user request, respond with the worker to act next. Each worker will perform a task and respond with their results and status. When finished, respond with FINISH.')), MessagesPlaceholder(variable_name='messages'), SystemMessagePromptTemplate(prompt=PromptTemplate(input_variables=['options'], template='Given the conversation above, who should act next? Or should we FINISH? Select one of: {options}'))])"
      ]
     },
     "execution_count": 31,
     "metadata": {},
     "output_type": "execute_result"
    }
   ],
   "source": [
    "system_prompt_supervisor = (\n",
    "    \"You are a supervisor tasked with managing a conversation between the\"\n",
    "    \" following workers: {members}. Given the following user request,\"\n",
    "    \" respond with the worker to act next. Each worker will perform a\"\n",
    "    \" task and respond with their results and status. When finished,\"\n",
    "    \" respond with FINISH.\")\n",
    "\n",
    "mp1 = MessagesPlaceholder(variable_name=\"messages\")\n",
    "\n",
    "mp2 = (\n",
    "    \"system\",\n",
    "    \"Given the conversation above, who should act next?\"\n",
    "    \" Or should we FINISH? Select one of: {options}\")\n",
    "\n",
    "cpt_supervisor = ChatPromptTemplate.from_messages(\n",
    "    [\n",
    "        (\"system\", system_prompt_supervisor),\n",
    "        mp1,\n",
    "        mp2\n",
    "    ]\n",
    ").partial(options=str(options), members=\", \".join(members))\n",
    "\n",
    "cpt_supervisor"
   ]
  },
  {
   "cell_type": "code",
   "execution_count": 34,
   "id": "6c79eb7a",
   "metadata": {},
   "outputs": [
    {
     "data": {
      "text/plain": [
       "[{'name': 'route',\n",
       "  'description': 'Select the next role.',\n",
       "  'parameters': {'title': 'routeSchema',\n",
       "   'type': 'object',\n",
       "   'properties': {'next': {'title': 'Next',\n",
       "     'anyOf': [{'enum': ['FINISH', 'Web_Searcher', 'Insights_Researcher']}]}},\n",
       "   'required': ['next']}}]"
      ]
     },
     "execution_count": 34,
     "metadata": {},
     "output_type": "execute_result"
    }
   ],
   "source": [
    "# Using openai function calling can make output parsing easier for us\n",
    "\n",
    "function_def = {\n",
    "    \"name\": \"route\",\n",
    "    \"description\": \"Select the next role.\",\n",
    "    \"parameters\": {\n",
    "        \"title\": \"routeSchema\",\n",
    "        \"type\": \"object\",\n",
    "        \"properties\": {\n",
    "            \"next\": {\n",
    "                \"title\": \"Next\",\n",
    "                \"anyOf\": [\n",
    "                    {\"enum\": options},\n",
    "                ],\n",
    "            }\n",
    "        },\n",
    "        \"required\": [\"next\"],\n",
    "    },\n",
    "}\n",
    "\n",
    "tools = [function_def]\n",
    "\n",
    "tools"
   ]
  },
  {
   "cell_type": "code",
   "execution_count": 35,
   "id": "c0349fe2",
   "metadata": {},
   "outputs": [
    {
     "data": {
      "text/plain": [
       "RunnableBinding(bound=AzureChatOpenAI(client=<openai.resources.chat.completions.Completions object at 0x7f3f3192ed90>, async_client=<openai.resources.chat.completions.AsyncCompletions object at 0x7f3f31929410>, temperature=0.0, openai_api_key=SecretStr('**********'), openai_proxy='', max_tokens=1000, azure_endpoint='https://mmopenaiscus.openai.azure.com/', deployment_name='gpt4-0125preview-128k', openai_api_version='2024-02-15-preview', openai_api_type='azure'), kwargs={'functions': [{'name': 'route', 'description': 'Select the next role.', 'parameters': {'title': 'routeSchema', 'type': 'object', 'properties': {'next': {'title': 'Next', 'anyOf': [{'enum': ['FINISH', 'Web_Searcher', 'Insights_Researcher']}]}}, 'required': ['next']}}], 'function_call': {'name': 'route'}})"
      ]
     },
     "execution_count": 35,
     "metadata": {},
     "output_type": "execute_result"
    }
   ],
   "source": [
    "# As we saw for the two nodes above, each node include a \"RunnableBinding\" object\n",
    "# This object \"binds\" the function definition to the function name \"route\"\n",
    "\n",
    "rb = llm.bind_functions(functions=tools, function_call=\"route\")\n",
    "rb"
   ]
  },
  {
   "cell_type": "code",
   "execution_count": 36,
   "id": "6a9945ad",
   "metadata": {},
   "outputs": [
    {
     "data": {
      "text/plain": [
       "ChatPromptTemplate(input_variables=['messages'], input_types={'messages': typing.List[typing.Union[langchain_core.messages.ai.AIMessage, langchain_core.messages.human.HumanMessage, langchain_core.messages.chat.ChatMessage, langchain_core.messages.system.SystemMessage, langchain_core.messages.function.FunctionMessage, langchain_core.messages.tool.ToolMessage]]}, partial_variables={'options': \"['FINISH', 'Web_Searcher', 'Insights_Researcher']\", 'members': 'Web_Searcher, Insights_Researcher'}, messages=[SystemMessagePromptTemplate(prompt=PromptTemplate(input_variables=['members'], template='You are a supervisor tasked with managing a conversation between the following workers: {members}. Given the following user request, respond with the worker to act next. Each worker will perform a task and respond with their results and status. When finished, respond with FINISH.')), MessagesPlaceholder(variable_name='messages'), SystemMessagePromptTemplate(prompt=PromptTemplate(input_variables=['options'], template='Given the conversation above, who should act next? Or should we FINISH? Select one of: {options}'))])\n",
       "| RunnableBinding(bound=AzureChatOpenAI(client=<openai.resources.chat.completions.Completions object at 0x7f3f3192ed90>, async_client=<openai.resources.chat.completions.AsyncCompletions object at 0x7f3f31929410>, temperature=0.0, openai_api_key=SecretStr('**********'), openai_proxy='', max_tokens=1000, azure_endpoint='https://mmopenaiscus.openai.azure.com/', deployment_name='gpt4-0125preview-128k', openai_api_version='2024-02-15-preview', openai_api_type='azure'), kwargs={'functions': [{'name': 'route', 'description': 'Select the next role.', 'parameters': {'title': 'routeSchema', 'type': 'object', 'properties': {'next': {'title': 'Next', 'anyOf': [{'enum': ['FINISH', 'Web_Searcher', 'Insights_Researcher']}]}}, 'required': ['next']}}], 'function_call': {'name': 'route'}})\n",
       "| JsonOutputFunctionsParser()"
      ]
     },
     "execution_count": 36,
     "metadata": {},
     "output_type": "execute_result"
    }
   ],
   "source": [
    "# We're ready to put together the three elements needed to create the node as a pipeline:\n",
    "# - ChatPromptTemplate\n",
    "# - RunnableBinding\n",
    "# - JsonOutputFunctionsParser\n",
    "\n",
    "\n",
    "supervisor_chain = (\n",
    "    cpt_supervisor\n",
    "    | rb\n",
    "    | JsonOutputFunctionsParser()\n",
    "   \n",
    ")\n",
    "\n",
    "supervisor_chain"
   ]
  },
  {
   "cell_type": "markdown",
   "id": "0581aee5",
   "metadata": {},
   "source": [
    "# GRAPH!\n",
    "\n",
    "Now that we have Tools, Agents and Nodes we are ready to build the graph"
   ]
  },
  {
   "cell_type": "code",
   "execution_count": 42,
   "id": "9a608223",
   "metadata": {},
   "outputs": [],
   "source": [
    "# First, we need to define the \"AgentState\", which represents the conversation history\n",
    "\n",
    "class AgentState(TypedDict):\n",
    "    messages: Annotated[Sequence[BaseMessage], operator.add]\n",
    "    next: str"
   ]
  },
  {
   "cell_type": "code",
   "execution_count": 43,
   "id": "cd4d49af",
   "metadata": {},
   "outputs": [],
   "source": [
    "# Then, we create the graph using from langgraph.graph import StateGraph\n",
    "\n",
    "workflow = StateGraph(AgentState)"
   ]
  },
  {
   "cell_type": "code",
   "execution_count": 44,
   "id": "8b123404",
   "metadata": {},
   "outputs": [
    {
     "data": {
      "text/plain": [
       "['Web_Searcher', 'Insights_Researcher', 'Supervisor']"
      ]
     },
     "execution_count": 44,
     "metadata": {},
     "output_type": "execute_result"
    }
   ],
   "source": [
    "# To start building the workflow, we add the three nodes\n",
    "\n",
    "workflow.add_node(\"Web_Searcher\", search_node)\n",
    "workflow.add_node(\"Insights_Researcher\", insights_research_node)\n",
    "workflow.add_node(\"Supervisor\", supervisor_chain)\n",
    "\n",
    "[n for n in workflow.nodes]"
   ]
  },
  {
   "cell_type": "code",
   "execution_count": 45,
   "id": "d427e80d",
   "metadata": {},
   "outputs": [
    {
     "name": "stdout",
     "output_type": "stream",
     "text": [
      "connecting Web_Searcher node to the supervisor node...\n",
      "connecting Insights_Researcher node to the supervisor node...\n"
     ]
    },
    {
     "data": {
      "text/plain": [
       "[('Web_Searcher', 'Supervisor'), ('Insights_Researcher', 'Supervisor')]"
      ]
     },
     "execution_count": 45,
     "metadata": {},
     "output_type": "execute_result"
    }
   ],
   "source": [
    "# Now we add the edges between the two node members and the supervisor\n",
    "# We want our workers to ALWAYS \"report back\" to the Supervisor node when done\n",
    "\n",
    "for member in members:\n",
    "    print(f\"connecting {member} node to the supervisor node...\")\n",
    "    workflow.add_edge(member, \"Supervisor\")\n",
    "    \n",
    "[e for e in workflow.edges]"
   ]
  },
  {
   "cell_type": "code",
   "execution_count": 46,
   "id": "38b6cf26",
   "metadata": {},
   "outputs": [
    {
     "data": {
      "text/plain": [
       "{'Web_Searcher': 'Web_Searcher',\n",
       " 'Insights_Researcher': 'Insights_Researcher',\n",
       " 'FINISH': '__end__'}"
      ]
     },
     "execution_count": 46,
     "metadata": {},
     "output_type": "execute_result"
    }
   ],
   "source": [
    "# The conditional map illustrates the match between each node and its direction\n",
    "\n",
    "conditional_map = {k: k for k in members}\n",
    "\n",
    "conditional_map[\"FINISH\"] = END\n",
    "\n",
    "conditional_map"
   ]
  },
  {
   "cell_type": "code",
   "execution_count": 51,
   "id": "52dbb05f",
   "metadata": {},
   "outputs": [],
   "source": [
    "# Associate the conditional map to the workflow\n",
    "\n",
    "workflow.add_conditional_edges(\n",
    "    \"Supervisor\", \n",
    "    lambda x: x[\"next\"], \n",
    "    conditional_map)"
   ]
  },
  {
   "cell_type": "code",
   "execution_count": 52,
   "id": "7e4d31fe",
   "metadata": {},
   "outputs": [],
   "source": [
    "# Add entry point\n",
    "\n",
    "workflow.set_entry_point(\"Supervisor\")"
   ]
  },
  {
   "cell_type": "code",
   "execution_count": 53,
   "id": "cd2cad3e",
   "metadata": {},
   "outputs": [
    {
     "data": {
      "text/plain": [
       "CompiledStateGraph(nodes={'__start__': PregelNode(config={'tags': ['langsmith:hidden']}, channels=['__start__'], triggers=['__start__'], writers=[ChannelWrite<messages,next>(writes=[ChannelWriteEntry(channel='messages', value=_get_state_key(), skip_none=False), ChannelWriteEntry(channel='next', value=_get_state_key(), skip_none=False)]), ChannelWrite<start:Supervisor>(writes=[ChannelWriteEntry(channel='start:Supervisor', value='__start__', skip_none=False)])]), 'Web_Searcher': PregelNode(config={'tags': []}, channels={'messages': 'messages', 'next': 'next'}, triggers=['branch:Supervisor:condition:Web_Searcher'], mapper=functools.partial(<function _coerce_state at 0x7f3f347c85e0>, <class '__main__.AgentState'>), writers=[ChannelWrite<Web_Searcher,messages,next>(writes=[ChannelWriteEntry(channel='Web_Searcher', value=None, skip_none=False), ChannelWriteEntry(channel='messages', value=_get_state_key(), skip_none=False), ChannelWriteEntry(channel='next', value=_get_state_key(), skip_none=False)])]), 'Insights_Researcher': PregelNode(config={'tags': []}, channels={'messages': 'messages', 'next': 'next'}, triggers=['branch:Supervisor:condition:Insights_Researcher'], mapper=functools.partial(<function _coerce_state at 0x7f3f347c85e0>, <class '__main__.AgentState'>), writers=[ChannelWrite<Insights_Researcher,messages,next>(writes=[ChannelWriteEntry(channel='Insights_Researcher', value=None, skip_none=False), ChannelWriteEntry(channel='messages', value=_get_state_key(), skip_none=False), ChannelWriteEntry(channel='next', value=_get_state_key(), skip_none=False)])]), 'Supervisor': PregelNode(config={'tags': []}, channels={'messages': 'messages', 'next': 'next'}, triggers=['start:Supervisor', 'Web_Searcher', 'Insights_Researcher'], mapper=functools.partial(<function _coerce_state at 0x7f3f347c85e0>, <class '__main__.AgentState'>), writers=[ChannelWrite<Supervisor,messages,next>(writes=[ChannelWriteEntry(channel='Supervisor', value=None, skip_none=False), ChannelWriteEntry(channel='messages', value=_get_state_key(), skip_none=False), ChannelWriteEntry(channel='next', value=_get_state_key(), skip_none=False)]), _route(_is_channel_writer=True)])}, channels={'messages': <langgraph.channels.binop.BinaryOperatorAggregate object at 0x7f3f31619a50>, 'next': <langgraph.channels.last_value.LastValue object at 0x7f3f31770fd0>, '__start__': <langgraph.channels.ephemeral_value.EphemeralValue object at 0x7f3f30ae0150>, 'Web_Searcher': <langgraph.channels.ephemeral_value.EphemeralValue object at 0x7f3f3161a490>, 'Insights_Researcher': <langgraph.channels.ephemeral_value.EphemeralValue object at 0x7f3f30ae3150>, 'Supervisor': <langgraph.channels.ephemeral_value.EphemeralValue object at 0x7f3f309b4810>, 'start:Supervisor': <langgraph.channels.ephemeral_value.EphemeralValue object at 0x7f3f309b5a90>, 'branch:Supervisor:condition:Web_Searcher': <langgraph.channels.ephemeral_value.EphemeralValue object at 0x7f3f309b5610>, 'branch:Supervisor:condition:Insights_Researcher': <langgraph.channels.ephemeral_value.EphemeralValue object at 0x7f3f309b7e90>}, auto_validate=False, stream_mode='updates', output_channels=['messages', 'next'], stream_channels=['messages', 'next'], input_channels='__start__', graph=<langgraph.graph.state.StateGraph object at 0x7f3f311274d0>)"
      ]
     },
     "execution_count": 53,
     "metadata": {},
     "output_type": "execute_result"
    }
   ],
   "source": [
    "# Compile the graph\n",
    "\n",
    "graph = workflow.compile()\n",
    "\n",
    "graph"
   ]
  },
  {
   "cell_type": "code",
   "execution_count": 54,
   "id": "f08d54bb",
   "metadata": {},
   "outputs": [
    {
     "name": "stdout",
     "output_type": "stream",
     "text": [
      "{'Supervisor': {'next': 'Web_Searcher'}}\n",
      "----\n",
      "{'Web_Searcher': {'messages': [HumanMessage(content=\"The latest AI technology trends for 2024, as gathered from various sources, include:\\n\\n1. **Customized Chatbots**: Companies like Google and OpenAI are developing platforms that allow people to customize powerful language models to create their own mini chatbots tailored to specific needs, without requiring coding skills. This democratization of AI tool creation is expected to make generative AI more accessible and useful for the regular, non-tech person.\\n\\n2. **Generative AI's Second Wave - Video**: The evolution of generative AI is moving towards text-to-video capabilities, with startups like Runway leading the charge. This advancement is expected to revolutionize content creation, marketing, and even the film industry, with AI-generated videos becoming more common and of higher quality.\\n\\n3. **AI-Generated Election Disinformation**: With the ease of creating realistic AI-generated images, videos, and text, there's a growing concern about the spread of disinformation, especially around elections. This trend highlights the need for better detection and mitigation techniques against AI-generated fake content.\\n\\n4. **Multitasking Robots**: Inspired by the techniques behind generative AI, there's a push towards developing more general-purpose robots capable of performing a wider range of tasks. This could lead to robots that can adapt to various tasks without needing specific training for each one.\\n\\n5. **Quantum AI**: Quantum computing is making strides and is expected to significantly boost AI capabilities, especially in complex problem-solving areas.\\n\\n6. **AI Legislation**: As AI technology advances, there's a growing focus on developing comprehensive AI policies globally to foster innovation while protecting against potential negative impacts.\\n\\n7. **Ethical AI**: The importance of developing AI systems that are transparent, fair, and accountable is becoming more recognized, with a push towards ethical AI practices.\\n\\n8. **Augmented Working**: AI is increasingly seen as a partner in various professions, enhancing human capabilities and productivity in fields such as medicine, law, and software development.\\n\\n9. **Next Generation of Generative AI**: Advancements in generative AI are expected to lead to systems capable of creating complex narratives, musical compositions, and even assisting in writing novels. Multi-modal generative AI, which can process and integrate various types of input, is particularly highlighted for its potential to create rich, multi-sensory experiences.\\n\\nThese trends indicate a deepening sophistication in AI development and deployment, with a focus on making AI more accessible, ethical, and integrated into various aspects of daily life and work. However, they also underscore the challenges related to disinformation, ethics, and the need for appropriate regulation and governance.\", name='Web_Searcher')]}}\n",
      "----\n",
      "{'Supervisor': {'next': 'Insights_Researcher'}}\n",
      "----\n",
      "{'Insights_Researcher': {'messages': [HumanMessage(content=\"### Insights for Each Topic\\n\\n#### 1. Customized Chatbots\\n- **Insight**: The trend towards customized chatbots is driven by platforms enabling users to tailor powerful language models for specific needs without coding skills. This democratization of AI tool creation is making generative AI more accessible and useful for non-tech individuals. Companies like Jasper Chat are focusing on providing customized and swift experiences, indicating a move towards more natural and personalized chatbot interactions.\\n- **Source**: [Top 7 AI Chatbots for 2024: Unveiling the Best Artificial Intelligence](https://blogpilot.ai/blogs/top-ai-chatbots/)\\n\\n#### 2. Generative AI's Second Wave - Video\\n- **Insight**: The second wave of generative AI, focusing on text-to-video capabilities, is poised to revolutionize content creation across various industries. Tools enabling the production of professional-looking video content at a fraction of the current cost are expected to become widely available, highlighting the potential for significant impacts on marketing, entertainment, and beyond.\\n- **Source**: [The 10 Biggest Generative AI Trends For 2024 Everyone Must Be Ready For Now - Forbes](https://www.forbes.com/sites/bernardmarr/2023/10/02/the-10-biggest-generative-ai-trends-for-2024-everyone-must-be-ready-for-now/)\\n\\n#### 3. AI-Generated Election Disinformation\\n- **Insight**: The ease of creating realistic AI-generated content is raising concerns about its use in spreading disinformation, especially around elections. The ability for anyone with a smartphone to create fake but convincing content aimed at influencing voters underscores the urgent need for advanced detection and mitigation strategies.\\n- **Source**: [AI-created election disinformation is deceiving the world | AP News](https://apnews.com/article/artificial-intelligence-elections-disinformation-chatgpt-bc283e7426402f0b4baa7df280a4c3fd)\\n\\n#### 4. Multitasking Robots\\n- **Insight**: The development of general-purpose robots capable of performing a wider range of tasks is gaining momentum. Advances in sensors, vision technologies, and smart grippers are enabling robots to work safely alongside human workers, indicating a shift towards more versatile and collaborative robotic solutions.\\n- **Source**: [Top 5 Robot Trends 2024 - International Federation of Robotics](https://ifr.org/ifr-press-releases/news/top-5-robot-trends-2024)\\n\\n#### 5. Quantum AI\\n- **Insight**: Quantum computing is increasingly recognized as a technology that could significantly enhance AI capabilities, particularly in solving complex problems. The growing interest in quantum AI among businesses suggests a potential for breakthroughs in AI's problem-solving abilities and efficiency.\\n- **Source**: [The Future of Quantum Computing: Predictions for 2024 & Beyond - Techopedia](https://www.techopedia.com/future-of-quantum-computing)\\n\\n#### 6. AI Legislation\\n- **Insight**: The development of comprehensive AI policies is becoming a priority globally, with the European Union leading the way with the AI Act. This focus on regulation indicates a growing recognition of the need to balance AI innovation with protections against potential negative impacts.\\n- **Source**: [What's next for AI regulation in 2024? | MIT Technology Review](https://www.technologyreview.com/2024/01/05/1086203/whats-next-ai-regulation-2024/)\\n\\n#### 7. Ethical AI\\n- **Insight**: There is an increasing push towards developing AI systems that are transparent, fair, and accountable. The emphasis on ethical AI practices highlights the importance of addressing ethical considerations in AI development to ensure its benefits are maximized while minimizing risks.\\n- **Source**: [How to develop ethical artificial intelligence — Harvard Gazette](https://news.harvard.edu/gazette/story/2024/04/how-to-develop-ethical-artificial-intelligence-ai-harvard-thinking-podcast/)\\n\\n#### 8. Augmented Working\\n- **Insight**: AI is increasingly viewed as a partner in various professions, enhancing human capabilities and productivity. This trend towards augmented working suggests a shift in how AI is perceived, from a tool to a collaborator, across fields such as medicine, law, and software development.\\n- **Source**: [AI, chatbots, and augmented reality lead the top tech trends of the...](https://www.zdnet.com/article/innovation-index-march-15-2024/)\\n\\n#### 9. Next Generation of Generative AI\\n- **Insight**: Advancements in generative AI are expected to lead to systems capable of creating complex narratives and assisting in creative processes. The focus on multi-modal generative AI, which can process and integrate various types of input, indicates a move towards creating more rich and immersive\", name='Insights_Researcher')]}}\n",
      "----\n",
      "{'Supervisor': {'next': 'FINISH'}}\n",
      "----\n"
     ]
    }
   ],
   "source": [
    "# Run the graph\n",
    "\n",
    "for s in graph.stream({\n",
    "    \"messages\": [HumanMessage(content=\"\"\"Search for the latest AI technology trends in 2024,\n",
    "            summarize the content. After summarise pass it on to insight researcher\n",
    "            to provide insights for each topic\"\"\")]\n",
    "}):\n",
    "    if \"__end__\" not in s:\n",
    "        print(s)\n",
    "        print(\"----\")"
   ]
  }
 ],
 "metadata": {
  "kernelspec": {
   "display_name": "langgraph",
   "language": "python",
   "name": "langgraph"
  },
  "language_info": {
   "codemirror_mode": {
    "name": "ipython",
    "version": 3
   },
   "file_extension": ".py",
   "mimetype": "text/x-python",
   "name": "python",
   "nbconvert_exporter": "python",
   "pygments_lexer": "ipython3",
   "version": "3.11.8"
  }
 },
 "nbformat": 4,
 "nbformat_minor": 5
}
