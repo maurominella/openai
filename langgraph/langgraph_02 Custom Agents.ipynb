{
 "cells": [
  {
   "cell_type": "markdown",
   "id": "be36f4bd-849b-4b43-86b8-12524b3c877e",
   "metadata": {},
   "source": [
    "# Load Variables"
   ]
  },
  {
   "cell_type": "code",
   "execution_count": 1,
   "id": "899372e7-e08c-4d6a-a9b1-009bc09e2712",
   "metadata": {},
   "outputs": [],
   "source": [
    "# Set environment variables\n",
    "\n",
    "import os\n",
    "from dotenv import load_dotenv\n",
    "\n",
    "load_dotenv(\"./../credentials_my.env\")\n",
    "\n",
    "os.environ[\"AZURE_OPENAI_ENDPOINT\"] = os.environ[\"AZURE_OPENAI_ENDPOINT_SCUS\"]\n",
    "os.environ[\"AZURE_OPENAI_API_KEY\"]  = os.environ[\"AZURE_OPENAI_API_KEY_SCUS\"]\n",
    "os.environ[\"OPENAI_API_VERSION\"]    = os.environ[\"AZURE_OPENAI_API_VERSION\"]\n",
    "os.environ[\"AZURE_OPENAI_API_TYPE\"] = os.environ[\"OPENAI_API_TYPE\"]\n",
    "\n",
    "MODEL = os.environ[\"GPT4-0125PREVIEW-128k\"]\n",
    "\n",
    "# https://smith.langchain.com/\n",
    "os.environ[\"LANGCHAIN_TRACING_V2\"]  = \"false\"\n",
    "os.environ[\"LANGCHAIN_PROJECT\"]     = \"langgraph_02 Custom Agents\"\n",
    "os.environ[\"LANGCHAIN_API_KEY\"]     = os.environ[\"LANGCHAIN_API_KEY\"]\n",
    "\n",
    "question_basic                      = \"What's the date of Easter 2021?\"\n",
    "question_for_tools                  = \"My name is Mauro. What do I get, if I apply the magic tool to the number of characters of my name?\"\n",
    "question_follow_up                  = \"Is this result an even or odd number?\""
   ]
  },
  {
   "cell_type": "markdown",
   "id": "14254846-0a37-49e8-ba97-a4fc4ef4ccb5",
   "metadata": {},
   "source": [
    "# ChatPromptTemplate\n",
    "In this case we use a single variable:\n",
    "- `input` should be a string containing the user objective."
   ]
  },
  {
   "cell_type": "code",
   "execution_count": 2,
   "id": "41f3758c-1dbb-4df8-8333-5aafa1c15299",
   "metadata": {},
   "outputs": [
    {
     "data": {
      "text/plain": [
       "ChatPromptTemplate(input_variables=['input'], messages=[SystemMessagePromptTemplate(prompt=PromptTemplate(input_variables=[], template=\"Your name is Carl, you are very powerful assistant, but don't know current events\")), HumanMessagePromptTemplate(prompt=PromptTemplate(input_variables=['input'], template='{input}'))])"
      ]
     },
     "execution_count": 2,
     "metadata": {},
     "output_type": "execute_result"
    }
   ],
   "source": [
    "# Create the ChatPromptTemplate\n",
    "\n",
    "from langchain_core.prompts import ChatPromptTemplate, MessagesPlaceholder\n",
    "\n",
    "cpt = ChatPromptTemplate.from_messages(\n",
    "    [    \n",
    "        (\"system\", \"Your name is Carl, you are very powerful assistant, but don't know current events\"),\n",
    "        (\"user\", \"{input}\")\n",
    "    ]\n",
    ")\n",
    "\n",
    "cpt"
   ]
  },
  {
   "cell_type": "code",
   "execution_count": 3,
   "id": "2a651eb7-9c16-4799-9393-95030afdfef6",
   "metadata": {},
   "outputs": [
    {
     "data": {
      "text/plain": [
       "ChatPromptValue(messages=[SystemMessage(content=\"Your name is Carl, you are very powerful assistant, but don't know current events\"), HumanMessage(content=\"What's the date of Easter 2021?\")])"
      ]
     },
     "execution_count": 3,
     "metadata": {},
     "output_type": "execute_result"
    }
   ],
   "source": [
    "# invoke the ChatPromptTemplate\n",
    "\n",
    "cpt.invoke({\"input\": question_basic})"
   ]
  },
  {
   "cell_type": "markdown",
   "id": "2a9f8943-99dd-4a66-a7b4-b8f1be7b0e63",
   "metadata": {},
   "source": [
    "# Agent object"
   ]
  },
  {
   "cell_type": "markdown",
   "id": "6410be10-bdaf-42f0-a882-711d2dae1b5b",
   "metadata": {},
   "source": [
    "### Create a pair of \"dummy\" agents to learn how to create a runnable chain"
   ]
  },
  {
   "cell_type": "code",
   "execution_count": 4,
   "id": "5c2a0059-1fa8-4ae2-9b47-376bd07eeca2",
   "metadata": {},
   "outputs": [
    {
     "name": "stdout",
     "output_type": "stream",
     "text": [
      "<class 'dict'>\n"
     ]
    },
    {
     "data": {
      "text/plain": [
       "{'input': <function __main__.<lambda>(x)>}"
      ]
     },
     "execution_count": 4,
     "metadata": {},
     "output_type": "execute_result"
    }
   ],
   "source": [
    "agent = (\n",
    "    {\n",
    "        \"input\": lambda x: x[\"input\"]\n",
    "    }\n",
    ")\n",
    "\n",
    "print(type(agent))\n",
    "agent"
   ]
  },
  {
   "cell_type": "code",
   "execution_count": 5,
   "id": "7d7b43dd-8c0d-455d-8f74-8ba3f1a3e9a1",
   "metadata": {},
   "outputs": [
    {
     "name": "stdout",
     "output_type": "stream",
     "text": [
      "<class 'langchain_core.runnables.base.RunnableSequence'>\n"
     ]
    },
    {
     "data": {
      "text/plain": [
       "{\n",
       "  input: RunnableLambda(...)\n",
       "}\n",
       "| ChatPromptTemplate(input_variables=['input'], messages=[SystemMessagePromptTemplate(prompt=PromptTemplate(input_variables=[], template=\"Your name is Carl, you are very powerful assistant, but don't know current events\")), HumanMessagePromptTemplate(prompt=PromptTemplate(input_variables=['input'], template='{input}'))])"
      ]
     },
     "execution_count": 5,
     "metadata": {},
     "output_type": "execute_result"
    }
   ],
   "source": [
    "agent = (\n",
    "    {\n",
    "        \"input\": lambda x: x[\"input\"]\n",
    "    }\n",
    "    | cpt\n",
    ")\n",
    "\n",
    "print(type(agent))\n",
    "agent"
   ]
  },
  {
   "cell_type": "code",
   "execution_count": 6,
   "id": "2154155b-79c7-4c44-8b45-a718d5d2c909",
   "metadata": {},
   "outputs": [
    {
     "data": {
      "text/plain": [
       "ChatPromptValue(messages=[SystemMessage(content=\"Your name is Carl, you are very powerful assistant, but don't know current events\"), HumanMessage(content=\"What's the date of Easter 2021?\")])"
      ]
     },
     "execution_count": 6,
     "metadata": {},
     "output_type": "execute_result"
    }
   ],
   "source": [
    "# If it is a RunnableSequence, we can use Invoke.\n",
    "# We can't \"invoke\" a dictionary, instead!\n",
    "\n",
    "# We get the exact same result as for invoking the ChatPromptTemplate\n",
    "\n",
    "agent.invoke({\"input\": question_basic})"
   ]
  },
  {
   "cell_type": "markdown",
   "id": "38bde3e1-4c77-4058-ae52-1e315920d623",
   "metadata": {},
   "source": [
    "## [Create a Custom Agent](https://python.langchain.com/docs/modules/agents/how_to/custom_agent/)"
   ]
  },
  {
   "cell_type": "markdown",
   "id": "e187edf8-b3e1-400b-9360-d792c2a785a2",
   "metadata": {},
   "source": [
    "### Our goal is NOT to ***fill*** the agent, but to get the output of its execution, e.g. we need to ***run*** it!\n",
    "#### Note: ***running*** is equivalent to ***invoking*** an agent that contains an LLM as part of its pipeline\n",
    "In order to run the Agent and get an answer through the ChatPromptTemplate, we need...\n",
    "- LLM\n",
    "- Add the LLM as a new step in the agent chain\n",
    "- Invoke the new agent "
   ]
  },
  {
   "cell_type": "code",
   "execution_count": 7,
   "id": "63889253-3205-473e-a93e-3c083a878e7d",
   "metadata": {},
   "outputs": [],
   "source": [
    "# Create LLM object\n",
    "from langchain_openai import AzureChatOpenAI\n",
    "\n",
    "llm = AzureChatOpenAI(deployment_name=MODEL, temperature=0, max_tokens=1000)"
   ]
  },
  {
   "cell_type": "code",
   "execution_count": 8,
   "id": "2a93fc09-5afd-4e45-ba35-3710e6b3000b",
   "metadata": {},
   "outputs": [
    {
     "data": {
      "text/plain": [
       "AIMessage(content='Easter Sunday in 2021 fell on April 4th.', response_metadata={'token_usage': {'completion_tokens': 14, 'prompt_tokens': 38, 'total_tokens': 52}, 'model_name': 'gpt-4', 'system_fingerprint': 'fp_1402c60a5a', 'prompt_filter_results': [{'prompt_index': 0, 'content_filter_results': {'hate': {'filtered': False, 'severity': 'safe'}, 'self_harm': {'filtered': False, 'severity': 'safe'}, 'sexual': {'filtered': False, 'severity': 'safe'}, 'violence': {'filtered': False, 'severity': 'safe'}}}], 'finish_reason': 'stop', 'logprobs': None, 'content_filter_results': {'hate': {'filtered': False, 'severity': 'safe'}, 'self_harm': {'filtered': False, 'severity': 'safe'}, 'sexual': {'filtered': False, 'severity': 'safe'}, 'violence': {'filtered': False, 'severity': 'safe'}}}, id='run-689658a9-f26a-47b0-accd-b3374e6dff46-0')"
      ]
     },
     "execution_count": 8,
     "metadata": {},
     "output_type": "execute_result"
    }
   ],
   "source": [
    "# Add one more step to the agent chain\n",
    "agent = (\n",
    "    {\n",
    "        \"input\": lambda x: x[\"input\"]\n",
    "    }\n",
    "    | cpt\n",
    "    | llm # this is the new step to add\n",
    ")\n",
    "\n",
    "# Invoke the new agent\n",
    "agent.invoke({\"input\": question_basic})"
   ]
  },
  {
   "cell_type": "markdown",
   "id": "98cc4cd4-6b39-45a1-bc15-5a91242ee3ec",
   "metadata": {},
   "source": [
    "## Create a [**Custom Agent**](https://python.langchain.com/docs/modules/agents/how_to/custom_agent/) that uses our tools\n",
    "In this case, we need three things:\n",
    "1) One or more function, each one associated to a tool, all included in a `tools` list\n",
    "2) An LLM **bound to the tools** created in the previous step\n",
    "3) A ChatPromptTemplate that includes a variable called `agent_scratchpad`, that we can create with `MessagesPlaceholder(\"agent_scratchpad\")`"
   ]
  },
  {
   "cell_type": "markdown",
   "id": "d921c835-72ac-408e-8a2a-f2f07a960804",
   "metadata": {},
   "source": [
    "### Create the \"Tool Calling Agent\" --> Create the tools this agent has access to\n",
    "- Create one or more functions\n",
    "- Decorate each function as a tool\n",
    "- Create a list containing all tools defined"
   ]
  },
  {
   "cell_type": "code",
   "execution_count": 10,
   "id": "dfe23aee-b0c4-4a72-b523-514e8dfd1019",
   "metadata": {},
   "outputs": [
    {
     "data": {
      "text/plain": [
       "13"
      ]
     },
     "execution_count": 10,
     "metadata": {},
     "output_type": "execute_result"
    }
   ],
   "source": [
    "# Create a simple tool, then add it to the \"tools\" list\n",
    "from langchain.tools import tool\n",
    "\n",
    "@tool(\"magic_tool\", return_direct=False)\n",
    "def magic_function(input: int) -> int: # note that the input is a dictionary\n",
    "    \"\"\"Applies a magic function to an input.\"\"\"\n",
    "    return input + 3\n",
    "\n",
    "tools = [magic_function]\n",
    "\n",
    "# Just for testing: invoke the function, note that the input is a dictionary\n",
    "magic_function({\"input\": 10})"
   ]
  },
  {
   "cell_type": "markdown",
   "id": "48a2d597-1710-4d50-bf81-e91312c3fb29",
   "metadata": {},
   "source": [
    "### Create the \"Tool Calling Agent\" --> Bind the Tools to the LLM, to make the Agent able to choose the right one"
   ]
  },
  {
   "cell_type": "code",
   "execution_count": 11,
   "id": "bcbed44b-2640-49fe-bc6b-6f3b9695794c",
   "metadata": {},
   "outputs": [
    {
     "data": {
      "text/plain": [
       "RunnableBinding(bound=AzureChatOpenAI(client=<openai.resources.chat.completions.Completions object at 0x7f363af375d0>, async_client=<openai.resources.chat.completions.AsyncCompletions object at 0x7f363aa8c810>, temperature=0.0, openai_api_key=SecretStr('**********'), openai_proxy='', max_tokens=1000, azure_endpoint='https://mmopenaiscus.openai.azure.com/', deployment_name='gpt4-0125preview-128k', openai_api_version='2024-02-15-preview', openai_api_type='azure'), kwargs={'tools': [{'type': 'function', 'function': {'name': 'magic_tool', 'description': 'magic_tool(input: int) -> int - Applies a magic function to an input.', 'parameters': {'type': 'object', 'properties': {'input': {'type': 'integer'}}, 'required': ['input']}}}]})"
      ]
     },
     "execution_count": 11,
     "metadata": {},
     "output_type": "execute_result"
    }
   ],
   "source": [
    "# To pass in our tools to the agent, we just need to format them to the OpenAI tool format and pass them to our model. \n",
    "# By bind-ing the functions, we’re making sure that they’re passed in each time the model is invoked.\n",
    "\n",
    "llm_bound_to_tools = llm.bind_tools(tools=tools)\n",
    "llm_bound_to_tools"
   ]
  },
  {
   "cell_type": "markdown",
   "id": "d8c28e4b-cb52-40b4-8e49-366868836097",
   "metadata": {},
   "source": [
    "### Create the \"Tool Calling Agent\" --> Create the ChatPromptTemplate object\n",
    "**Important**: `Tool Calling Agent` requires an additional variable called `agent_scratchpad`. Intermediate agent actions and tool output messages will be passed in here.<br/><br/>\n",
    "To summarize, we need two input variables:\n",
    "- `input` is a string containing the user objective.\n",
    "- `agent_scratchpad` is a sequence of messages that contain the previous agent tool invocations and the corresponding tool outputs."
   ]
  },
  {
   "cell_type": "code",
   "execution_count": 12,
   "id": "990f9e30-d81b-47ff-bb55-9df4418c3515",
   "metadata": {},
   "outputs": [
    {
     "data": {
      "text/plain": [
       "ChatPromptTemplate(input_variables=['agent_scratchpad', 'input'], input_types={'agent_scratchpad': typing.List[typing.Union[langchain_core.messages.ai.AIMessage, langchain_core.messages.human.HumanMessage, langchain_core.messages.chat.ChatMessage, langchain_core.messages.system.SystemMessage, langchain_core.messages.function.FunctionMessage, langchain_core.messages.tool.ToolMessage]]}, messages=[SystemMessagePromptTemplate(prompt=PromptTemplate(input_variables=[], template=\"Your name is Carl, you are very powerful assistant, but don't know current events\")), HumanMessagePromptTemplate(prompt=PromptTemplate(input_variables=['input'], template='{input}')), MessagesPlaceholder(variable_name='agent_scratchpad')])"
      ]
     },
     "execution_count": 12,
     "metadata": {},
     "output_type": "execute_result"
    }
   ],
   "source": [
    "from langchain_core.prompts import ChatPromptTemplate, MessagesPlaceholder\n",
    "cpt = ChatPromptTemplate.from_messages(\n",
    "    [    \n",
    "        (\"system\", \"Your name is Carl, you are very powerful assistant, but don't know current events\"),\n",
    "        (\"user\", \"{input}\"),\n",
    "        MessagesPlaceholder(variable_name=\"agent_scratchpad\")\n",
    "    ]\n",
    ")\n",
    "\n",
    "cpt"
   ]
  },
  {
   "cell_type": "markdown",
   "id": "3f1c5ddb-a9df-49b3-8323-50ed9d55685f",
   "metadata": {},
   "source": [
    "### Create the \"Tool Calling Agent\" --> Ready to create the agent\n",
    "Now we use a \"manual\" ***RunnableSequence*** creation, as we did above.<br/>\n",
    "Later on, we'll leverage a LangGraph helper function."
   ]
  },
  {
   "cell_type": "code",
   "execution_count": 13,
   "id": "901b263b-91ca-4c08-8e0d-911aab5b1307",
   "metadata": {},
   "outputs": [
    {
     "name": "stdout",
     "output_type": "stream",
     "text": [
      "<class 'langchain_core.runnables.base.RunnableSequence'>\n"
     ]
    },
    {
     "data": {
      "text/plain": [
       "{\n",
       "  input: RunnableLambda(...),\n",
       "  agent_scratchpad: RunnableLambda(...)\n",
       "}\n",
       "| ChatPromptTemplate(input_variables=['agent_scratchpad', 'input'], input_types={'agent_scratchpad': typing.List[typing.Union[langchain_core.messages.ai.AIMessage, langchain_core.messages.human.HumanMessage, langchain_core.messages.chat.ChatMessage, langchain_core.messages.system.SystemMessage, langchain_core.messages.function.FunctionMessage, langchain_core.messages.tool.ToolMessage]]}, messages=[SystemMessagePromptTemplate(prompt=PromptTemplate(input_variables=[], template=\"Your name is Carl, you are very powerful assistant, but don't know current events\")), HumanMessagePromptTemplate(prompt=PromptTemplate(input_variables=['input'], template='{input}')), MessagesPlaceholder(variable_name='agent_scratchpad')])\n",
       "| RunnableBinding(bound=AzureChatOpenAI(client=<openai.resources.chat.completions.Completions object at 0x7f363af375d0>, async_client=<openai.resources.chat.completions.AsyncCompletions object at 0x7f363aa8c810>, temperature=0.0, openai_api_key=SecretStr('**********'), openai_proxy='', max_tokens=1000, azure_endpoint='https://mmopenaiscus.openai.azure.com/', deployment_name='gpt4-0125preview-128k', openai_api_version='2024-02-15-preview', openai_api_type='azure'), kwargs={'tools': [{'type': 'function', 'function': {'name': 'magic_tool', 'description': 'magic_tool(input: int) -> int - Applies a magic function to an input.', 'parameters': {'type': 'object', 'properties': {'input': {'type': 'integer'}}, 'required': ['input']}}}]})\n",
       "| OpenAIToolsAgentOutputParser()"
      ]
     },
     "execution_count": 13,
     "metadata": {},
     "output_type": "execute_result"
    }
   ],
   "source": [
    "from langchain.agents.format_scratchpad.openai_tools import format_to_openai_tool_messages\n",
    "from langchain.agents.output_parsers.openai_tools import OpenAIToolsAgentOutputParser\n",
    "\n",
    "agent = (\n",
    "    {\n",
    "        \"input\": lambda x: x[\"input\"],\n",
    "        \"agent_scratchpad\": lambda x: format_to_openai_tool_messages(x[\"intermediate_steps\"])\n",
    "    }\n",
    "    | cpt\n",
    "    | llm_bound_to_tools\n",
    "    | OpenAIToolsAgentOutputParser()\n",
    ")\n",
    "\n",
    "print(type(agent))\n",
    "agent"
   ]
  },
  {
   "attachments": {
    "81c7674d-e9bd-4f08-9dd1-8a4edf3ef79c.png": {
     "image/png": "[encoded data removed]"
    }
   },
   "cell_type": "markdown",
   "id": "ef9845bd-3199-4f64-ae26-08dab5010bbc",
   "metadata": {},
   "source": [
    "#### Can we directly invoke the agent? No, we can't!\n",
    "If we try running `agent.invoke({\"input\": question_for_tools})`, we get the error `KeyError: 'intermediate_steps' missing`.<br/>\n",
    "In fact, we aren't passing the `agent_scratchpad` variable, but we're just passing the `input` variable.<br/>\n",
    "![image.png](attachment:81c7674d-e9bd-4f08-9dd1-8a4edf3ef79c.png)"
   ]
  },
  {
   "cell_type": "code",
   "execution_count": 14,
   "id": "eb6e2259-ae71-46f5-ad53-778b3c5e8258",
   "metadata": {},
   "outputs": [
    {
     "name": "stdout",
     "output_type": "stream",
     "text": [
      "Recall: the question is <My name is Mauro. What do I get, if I apply the magic tool to the number of characters of my name?>\n",
      "\n"
     ]
    }
   ],
   "source": [
    "print(f\"Recall: the question is <{question_for_tools}>\\n\")\n",
    "# agent.invoke({\"input\": question_for_tools})"
   ]
  },
  {
   "cell_type": "markdown",
   "id": "cf09e653-a2de-47a9-a3e5-f5fd839a38d5",
   "metadata": {},
   "source": [
    "#### Wrap the agent into an `AgentExecutor` to let it automatically build and pass the `agent_scratchpad` variable."
   ]
  },
  {
   "cell_type": "code",
   "execution_count": 15,
   "id": "c3ed1dff-71de-4349-8a8d-48cf67103c29",
   "metadata": {},
   "outputs": [
    {
     "data": {
      "text/plain": [
       "AgentExecutor(verbose=True, agent=RunnableMultiActionAgent(runnable={\n",
       "  input: RunnableLambda(...),\n",
       "  agent_scratchpad: RunnableLambda(...)\n",
       "}\n",
       "| ChatPromptTemplate(input_variables=['agent_scratchpad', 'input'], input_types={'agent_scratchpad': typing.List[typing.Union[langchain_core.messages.ai.AIMessage, langchain_core.messages.human.HumanMessage, langchain_core.messages.chat.ChatMessage, langchain_core.messages.system.SystemMessage, langchain_core.messages.function.FunctionMessage, langchain_core.messages.tool.ToolMessage]]}, messages=[SystemMessagePromptTemplate(prompt=PromptTemplate(input_variables=[], template=\"Your name is Carl, you are very powerful assistant, but don't know current events\")), HumanMessagePromptTemplate(prompt=PromptTemplate(input_variables=['input'], template='{input}')), MessagesPlaceholder(variable_name='agent_scratchpad')])\n",
       "| RunnableBinding(bound=AzureChatOpenAI(client=<openai.resources.chat.completions.Completions object at 0x7f363af375d0>, async_client=<openai.resources.chat.completions.AsyncCompletions object at 0x7f363aa8c810>, temperature=0.0, openai_api_key=SecretStr('**********'), openai_proxy='', max_tokens=1000, azure_endpoint='https://mmopenaiscus.openai.azure.com/', deployment_name='gpt4-0125preview-128k', openai_api_version='2024-02-15-preview', openai_api_type='azure'), kwargs={'tools': [{'type': 'function', 'function': {'name': 'magic_tool', 'description': 'magic_tool(input: int) -> int - Applies a magic function to an input.', 'parameters': {'type': 'object', 'properties': {'input': {'type': 'integer'}}, 'required': ['input']}}}]})\n",
       "| OpenAIToolsAgentOutputParser(), input_keys_arg=[], return_keys_arg=[], stream_runnable=True), tools=[StructuredTool(name='magic_tool', description='magic_tool(input: int) -> int - Applies a magic function to an input.', args_schema=<class 'pydantic.v1.main.magic_toolSchema'>, func=<function magic_function at 0x7f363aa8a7a0>)])"
      ]
     },
     "execution_count": 15,
     "metadata": {},
     "output_type": "execute_result"
    }
   ],
   "source": [
    "from langchain.agents import AgentExecutor\n",
    "\n",
    "agent_executor = AgentExecutor(agent=agent, tools=tools, verbose=True)\n",
    "agent_executor"
   ]
  },
  {
   "cell_type": "code",
   "execution_count": 16,
   "id": "a566ff56-7f7e-499f-9762-c0fc03096b99",
   "metadata": {},
   "outputs": [
    {
     "name": "stdout",
     "output_type": "stream",
     "text": [
      "\n",
      "\n",
      "\u001b[1m> Entering new AgentExecutor chain...\u001b[0m\n",
      "\u001b[32;1m\u001b[1;3m\n",
      "Invoking: `magic_tool` with `{'input': 5}`\n",
      "\n",
      "\n",
      "\u001b[0m\u001b[36;1m\u001b[1;3m8\u001b[0m\u001b[32;1m\u001b[1;3mIf you apply the magic tool to the number of characters in your name, Mauro, which is 5, you get 8.\u001b[0m\n",
      "\n",
      "\u001b[1m> Finished chain.\u001b[0m\n"
     ]
    },
    {
     "data": {
      "text/plain": [
       "{'input': 'My name is Mauro. What do I get, if I apply the magic tool to the number of characters of my name?',\n",
       " 'output': 'If you apply the magic tool to the number of characters in your name, Mauro, which is 5, you get 8.'}"
      ]
     },
     "execution_count": 16,
     "metadata": {},
     "output_type": "execute_result"
    }
   ],
   "source": [
    "agent_executor.invoke({\"input\": question_for_tools})"
   ]
  },
  {
   "cell_type": "code",
   "execution_count": 17,
   "id": "7f8f3092-e053-40e5-bbc8-1b8a52ede7b7",
   "metadata": {},
   "outputs": [
    {
     "name": "stdout",
     "output_type": "stream",
     "text": [
      "\n",
      "\n",
      "\u001b[1m> Entering new AgentExecutor chain...\u001b[0m\n",
      "\u001b[32;1m\u001b[1;3m\n",
      "Invoking: `magic_tool` with `{'input': 5}`\n",
      "\n",
      "\n",
      "\u001b[0m\u001b[36;1m\u001b[1;3m8\u001b[0m\u001b[32;1m\u001b[1;3mIf you apply the magic tool to the number of characters in your name, Mauro, which is 5, you get 8.\u001b[0m\n",
      "\n",
      "\u001b[1m> Finished chain.\u001b[0m\n"
     ]
    },
    {
     "data": {
      "text/plain": [
       "[{'actions': [OpenAIToolAgentAction(tool='magic_tool', tool_input={'input': 5}, log=\"\\nInvoking: `magic_tool` with `{'input': 5}`\\n\\n\\n\", message_log=[AIMessageChunk(content='', additional_kwargs={'tool_calls': [{'index': 0, 'id': 'call_4hKJ0QajlbhBTkWsSCxNIY9c', 'function': {'arguments': '{\"input\":5}', 'name': 'magic_tool'}, 'type': 'function'}]}, response_metadata={'finish_reason': 'tool_calls'}, id='run-87e55a4d-9d75-49ba-8865-2fc89d489342')], tool_call_id='call_4hKJ0QajlbhBTkWsSCxNIY9c')],\n",
       "  'messages': [AIMessageChunk(content='', additional_kwargs={'tool_calls': [{'index': 0, 'id': 'call_4hKJ0QajlbhBTkWsSCxNIY9c', 'function': {'arguments': '{\"input\":5}', 'name': 'magic_tool'}, 'type': 'function'}]}, response_metadata={'finish_reason': 'tool_calls'}, id='run-87e55a4d-9d75-49ba-8865-2fc89d489342')]},\n",
       " {'steps': [AgentStep(action=OpenAIToolAgentAction(tool='magic_tool', tool_input={'input': 5}, log=\"\\nInvoking: `magic_tool` with `{'input': 5}`\\n\\n\\n\", message_log=[AIMessageChunk(content='', additional_kwargs={'tool_calls': [{'index': 0, 'id': 'call_4hKJ0QajlbhBTkWsSCxNIY9c', 'function': {'arguments': '{\"input\":5}', 'name': 'magic_tool'}, 'type': 'function'}]}, response_metadata={'finish_reason': 'tool_calls'}, id='run-87e55a4d-9d75-49ba-8865-2fc89d489342')], tool_call_id='call_4hKJ0QajlbhBTkWsSCxNIY9c'), observation=8)],\n",
       "  'messages': [FunctionMessage(content='8', name='magic_tool')]},\n",
       " {'output': 'If you apply the magic tool to the number of characters in your name, Mauro, which is 5, you get 8.',\n",
       "  'messages': [AIMessage(content='If you apply the magic tool to the number of characters in your name, Mauro, which is 5, you get 8.')]}]"
      ]
     },
     "execution_count": 17,
     "metadata": {},
     "output_type": "execute_result"
    }
   ],
   "source": [
    "list(agent_executor.stream({\"input\": question_for_tools}))"
   ]
  },
  {
   "attachments": {
    "d945c204-ab85-4a83-891c-b93d7076213b.png": {
     "image/png": "[encoded data removed]"
    }
   },
   "cell_type": "markdown",
   "id": "58987f21-3c59-44c0-a0a8-f4ff457cb2a2",
   "metadata": {},
   "source": [
    "# Now let's use the **Tool Calling Agent** agent to get the same result\n",
    "We can choose among [multiple agents](https://python.langchain.com/docs/modules/agents/agent_types/).<br/>\n",
    "In this case we choose a [Tool Calling Agent](https://python.langchain.com/docs/modules/agents/agent_types/tool_calling/), defined as ***an Agent that uses Tools***:\n",
    "![image.png](attachment:d945c204-ab85-4a83-891c-b93d7076213b.png)"
   ]
  },
  {
   "cell_type": "code",
   "execution_count": 18,
   "id": "891f1ef0-ee45-4106-a68c-ba8916445d2b",
   "metadata": {},
   "outputs": [
    {
     "name": "stdout",
     "output_type": "stream",
     "text": [
      "\n",
      "\n",
      "\u001b[1m> Entering new AgentExecutor chain...\u001b[0m\n",
      "\u001b[32;1m\u001b[1;3m\n",
      "Invoking: `magic_tool` with `{'input': 5}`\n",
      "\n",
      "\n",
      "\u001b[0m\u001b[36;1m\u001b[1;3m8\u001b[0m\u001b[32;1m\u001b[1;3mIf you apply the magic tool to the number of characters in your name, Mauro, which is 5, you get 8.\u001b[0m\n",
      "\n",
      "\u001b[1m> Finished chain.\u001b[0m\n"
     ]
    },
    {
     "data": {
      "text/plain": [
       "[{'actions': [OpenAIToolAgentAction(tool='magic_tool', tool_input={'input': 5}, log=\"\\nInvoking: `magic_tool` with `{'input': 5}`\\n\\n\\n\", message_log=[AIMessageChunk(content='', additional_kwargs={'tool_calls': [{'index': 0, 'id': 'call_x2ERTfXmnJwwHiFU39Skzg4d', 'function': {'arguments': '{\"input\":5}', 'name': 'magic_tool'}, 'type': 'function'}]}, response_metadata={'finish_reason': 'tool_calls'}, id='run-ac4f00c5-e75d-4d5e-acc1-a1b170796c57')], tool_call_id='call_x2ERTfXmnJwwHiFU39Skzg4d')],\n",
       "  'messages': [AIMessageChunk(content='', additional_kwargs={'tool_calls': [{'index': 0, 'id': 'call_x2ERTfXmnJwwHiFU39Skzg4d', 'function': {'arguments': '{\"input\":5}', 'name': 'magic_tool'}, 'type': 'function'}]}, response_metadata={'finish_reason': 'tool_calls'}, id='run-ac4f00c5-e75d-4d5e-acc1-a1b170796c57')]},\n",
       " {'steps': [AgentStep(action=OpenAIToolAgentAction(tool='magic_tool', tool_input={'input': 5}, log=\"\\nInvoking: `magic_tool` with `{'input': 5}`\\n\\n\\n\", message_log=[AIMessageChunk(content='', additional_kwargs={'tool_calls': [{'index': 0, 'id': 'call_x2ERTfXmnJwwHiFU39Skzg4d', 'function': {'arguments': '{\"input\":5}', 'name': 'magic_tool'}, 'type': 'function'}]}, response_metadata={'finish_reason': 'tool_calls'}, id='run-ac4f00c5-e75d-4d5e-acc1-a1b170796c57')], tool_call_id='call_x2ERTfXmnJwwHiFU39Skzg4d'), observation=8)],\n",
       "  'messages': [FunctionMessage(content='8', name='magic_tool')]},\n",
       " {'output': 'If you apply the magic tool to the number of characters in your name, Mauro, which is 5, you get 8.',\n",
       "  'messages': [AIMessage(content='If you apply the magic tool to the number of characters in your name, Mauro, which is 5, you get 8.')]}]"
      ]
     },
     "execution_count": 18,
     "metadata": {},
     "output_type": "execute_result"
    }
   ],
   "source": [
    "from langchain.agents.openai_tools.base import create_openai_tools_agent\n",
    "\n",
    "agent = create_openai_tools_agent(\n",
    "    llm = llm, \n",
    "    tools = tools, \n",
    "    prompt = cpt)\n",
    "\n",
    "from langchain.agents import AgentExecutor\n",
    "\n",
    "agent_executor = AgentExecutor(agent=agent, tools=tools, verbose=True)\n",
    "\n",
    "list(agent_executor.stream({\"input\": question_for_tools}))"
   ]
  },
  {
   "cell_type": "markdown",
   "id": "f722d516-9206-4444-b248-2d3cf6d019d0",
   "metadata": {},
   "source": [
    "### Does this agent has memory? No, it doesn't"
   ]
  },
  {
   "cell_type": "code",
   "execution_count": 19,
   "id": "02855bcd-a928-48db-ba19-a5c438250a58",
   "metadata": {},
   "outputs": [
    {
     "name": "stdout",
     "output_type": "stream",
     "text": [
      "question_follow_up: Is this result an even or odd number?\n",
      "\n",
      "\n",
      "\u001b[1m> Entering new AgentExecutor chain...\u001b[0m\n",
      "\u001b[32;1m\u001b[1;3mTo determine if the result is even or odd, I'll need to know the specific number you're referring to. Could you please provide the number you're asking about?\u001b[0m\n",
      "\n",
      "\u001b[1m> Finished chain.\u001b[0m\n"
     ]
    },
    {
     "data": {
      "text/plain": [
       "{'input': 'Is this result an even or odd number?',\n",
       " 'output': \"To determine if the result is even or odd, I'll need to know the specific number you're referring to. Could you please provide the number you're asking about?\"}"
      ]
     },
     "execution_count": 19,
     "metadata": {},
     "output_type": "execute_result"
    }
   ],
   "source": [
    "print(f\"question_follow_up: {question_follow_up}\")\n",
    "agent_executor.invoke({\"input\": question_follow_up})"
   ]
  },
  {
   "cell_type": "markdown",
   "id": "114d76bb-10d7-4887-89e0-d550502cfd2d",
   "metadata": {},
   "source": [
    "# Adding memory\n",
    "In order to do this, we need to do these things:\n",
    "1) Add a place for memory variables to go in the `ChatPromptTemplate` definition\n",
    "2) Add the `chat_history` element in `agent` definition\n",
    "3) Re-build the `agent_executor`, based on the new `agent` definition\n",
    "4) Call the `agent_executor` passing the \"first\" question (**question_for_tools**) and update the chat_history using the \"output\" of the returned object\n",
    "5) Call the `agent_executor` passing the **question_follow_up**"
   ]
  },
  {
   "cell_type": "code",
   "execution_count": 20,
   "id": "b183e81f-2ba0-4609-bc1d-dadfc3312e7a",
   "metadata": {},
   "outputs": [],
   "source": [
    "# 1. Add a place for memory variables to go in the ChatPromptTemplate definition\n",
    "from langchain_core.prompts import ChatPromptTemplate, MessagesPlaceholder\n",
    "\n",
    "MEMORY_KEY = \"chat_history\"\n",
    "\n",
    "cpt = ChatPromptTemplate.from_messages(\n",
    "    [    \n",
    "        (\"system\", \"Your name is Carl, you are very powerful assistant, but don't know current events\"),\n",
    "        MessagesPlaceholder(variable_name=MEMORY_KEY), # this is the line to keep track of the chat history\n",
    "        (\"user\", \"{input}\"),\n",
    "        MessagesPlaceholder(variable_name=\"agent_scratchpad\")\n",
    "    ]\n",
    ")"
   ]
  },
  {
   "cell_type": "code",
   "execution_count": 21,
   "id": "1cc237ea-0688-4d38-801e-9ba93be866ed",
   "metadata": {},
   "outputs": [],
   "source": [
    "# 2. Add the chat_history element in agent definition\n",
    "\n",
    "from langchain.agents.format_scratchpad.openai_tools import format_to_openai_tool_messages\n",
    "from langchain.agents.output_parsers.openai_tools import OpenAIToolsAgentOutputParser\n",
    "\n",
    "agent = (\n",
    "    {\n",
    "        \"input\": lambda x: x[\"input\"],\n",
    "        \"agent_scratchpad\": lambda x: format_to_openai_tool_messages(x[\"intermediate_steps\"]),\n",
    "        MEMORY_KEY: lambda x: x[MEMORY_KEY] # this is the line to keep track of the chat history\n",
    "    }\n",
    "    | cpt\n",
    "    | llm_bound_to_tools\n",
    "    | OpenAIToolsAgentOutputParser()\n",
    ")"
   ]
  },
  {
   "cell_type": "code",
   "execution_count": 22,
   "id": "f6f59764-5f18-486a-b9b6-5b3a46b287e4",
   "metadata": {},
   "outputs": [],
   "source": [
    "# 3. Re-build the agent_executor, based on the new agent definition\n",
    "\n",
    "agent_executor = AgentExecutor(agent=agent, tools=tools, verbose=True)"
   ]
  },
  {
   "cell_type": "code",
   "execution_count": 23,
   "id": "81b88a78-abb3-439a-ac89-b8b91d150cbf",
   "metadata": {},
   "outputs": [
    {
     "name": "stdout",
     "output_type": "stream",
     "text": [
      "\n",
      "\n",
      "\u001b[1m> Entering new AgentExecutor chain...\u001b[0m\n",
      "\u001b[32;1m\u001b[1;3m\n",
      "Invoking: `magic_tool` with `{'input': 5}`\n",
      "\n",
      "\n",
      "\u001b[0m\u001b[36;1m\u001b[1;3m8\u001b[0m\u001b[32;1m\u001b[1;3mIf you apply the magic tool to the number of characters in your name, Mauro, which is 5, you get 8.\u001b[0m\n",
      "\n",
      "\u001b[1m> Finished chain.\u001b[0m\n"
     ]
    },
    {
     "data": {
      "text/plain": [
       "[HumanMessage(content='My name is Mauro. What do I get, if I apply the magic tool to the number of characters of my name?'),\n",
       " AIMessage(content='If you apply the magic tool to the number of characters in your name, Mauro, which is 5, you get 8.')]"
      ]
     },
     "execution_count": 23,
     "metadata": {},
     "output_type": "execute_result"
    }
   ],
   "source": [
    "# 4) Call the `agent_executor` passing the \"first question\" (question_for_tools) and \n",
    "# update the chat_history using the \"output\" of the returned object\n",
    "\n",
    "from langchain_core.messages import AIMessage, HumanMessage\n",
    "\n",
    "chat_history = []\n",
    "\n",
    "result = agent_executor.invoke({\"input\": question_for_tools, \"chat_history\": chat_history})\n",
    "\n",
    "chat_history.extend(\n",
    "    [\n",
    "        HumanMessage(content=question_for_tools),\n",
    "        AIMessage(content=result[\"output\"]),\n",
    "    ]\n",
    ")\n",
    "\n",
    "chat_history"
   ]
  },
  {
   "cell_type": "code",
   "execution_count": 24,
   "id": "1276be10-de47-4ae1-a0bf-8f78303fb7a3",
   "metadata": {},
   "outputs": [
    {
     "name": "stdout",
     "output_type": "stream",
     "text": [
      "question_follow_up: Is this result an even or odd number?\n",
      "\n",
      "\n",
      "\u001b[1m> Entering new AgentExecutor chain...\u001b[0m\n",
      "\u001b[32;1m\u001b[1;3mThe result, 8, is an even number.\u001b[0m\n",
      "\n",
      "\u001b[1m> Finished chain.\u001b[0m\n"
     ]
    }
   ],
   "source": [
    "# 5) Call the `agent_executor` passing the **question_follow_up**\n",
    "print(f\"question_follow_up: {question_follow_up}\")\n",
    "\n",
    "result = agent_executor.invoke({\"input\": question_follow_up, \"chat_history\": chat_history})"
   ]
  },
  {
   "cell_type": "code",
   "execution_count": null,
   "id": "7b3a8347-1f9b-42f6-ac09-719fbc463d52",
   "metadata": {},
   "outputs": [],
   "source": [
    "result"
   ]
  },
  {
   "cell_type": "markdown",
   "id": "126d7376-899d-4502-993c-fc092944f285",
   "metadata": {},
   "source": [
    "# Return the final result as a Node"
   ]
  },
  {
   "cell_type": "code",
   "execution_count": 25,
   "id": "f0b04014-ecef-4c56-a21b-9672454fcd9f",
   "metadata": {},
   "outputs": [
    {
     "data": {
      "text/plain": [
       "{'messages': [HumanMessage(content='The result, 8, is an even number.', name='my_node')]}"
      ]
     },
     "execution_count": 25,
     "metadata": {},
     "output_type": "execute_result"
    }
   ],
   "source": [
    "from langchain_core.messages import HumanMessage\n",
    "\n",
    "node_name = \"my_node\"\n",
    "\n",
    "{\"messages\": [HumanMessage(content=result[\"output\"], name=node_name)]}"
   ]
  },
  {
   "cell_type": "markdown",
   "id": "fc5f1246-1875-45d4-b2fc-6dc3d65fb1c1",
   "metadata": {},
   "source": [
    "## Helper function to build a node"
   ]
  },
  {
   "cell_type": "code",
   "execution_count": 26,
   "id": "c28c9c65-7a1b-4116-a62a-dd12f1cdd3fe",
   "metadata": {},
   "outputs": [
    {
     "name": "stdout",
     "output_type": "stream",
     "text": [
      "Agent state:\n",
      "{'input': 'Is this result an even or odd number?', 'chat_history': [HumanMessage(content='My name is Mauro. What do I get, if I apply the magic tool to the number of characters of my name?'), AIMessage(content='If you apply the magic tool to the number of characters in your name, Mauro, which is 5, you get 8.')]}\n",
      "\n",
      "\n",
      "\u001b[1m> Entering new AgentExecutor chain...\u001b[0m\n",
      "\u001b[32;1m\u001b[1;3mThe result, 8, is an even number.\u001b[0m\n",
      "\n",
      "\u001b[1m> Finished chain.\u001b[0m\n"
     ]
    },
    {
     "data": {
      "text/plain": [
       "{'messages': [HumanMessage(content='The result, 8, is an even number.', name='my_node')]}"
      ]
     },
     "execution_count": 26,
     "metadata": {},
     "output_type": "execute_result"
    }
   ],
   "source": [
    "# This function facilitates creating nodes in the graph:\n",
    "# it takes care of invoking the agent executor and then converts its response to a human message. \n",
    "# That is how we will add it the global state of the graph\n",
    "\n",
    "def agent_node(state, agent_executor, node_name):\n",
    "    from langchain_core.messages import HumanMessage\n",
    "    result = agent_executor.invoke(state)\n",
    "    return {\"messages\": [HumanMessage(content=result[\"output\"], name=node_name)]}\n",
    "\n",
    "state = {\"input\": question_follow_up, \"chat_history\": chat_history}\n",
    "print(f\"Agent state:\\n{state}\")\n",
    "\n",
    "agent_executor = agent_executor\n",
    "node_name = \"my_node\"\n",
    "\n",
    "agent_node (state=state, agent_executor=agent_executor, node_name=node_name)"
   ]
  }
 ],
 "metadata": {
  "kernelspec": {
   "display_name": "langgraph",
   "language": "python",
   "name": "langgraph"
  },
  "language_info": {
   "codemirror_mode": {
    "name": "ipython",
    "version": 3
   },
   "file_extension": ".py",
   "mimetype": "text/x-python",
   "name": "python",
   "nbconvert_exporter": "python",
   "pygments_lexer": "ipython3",
   "version": "3.11.8"
  }
 },
 "nbformat": 4,
 "nbformat_minor": 5
}
